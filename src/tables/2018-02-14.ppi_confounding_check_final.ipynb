{
 "cells": [
  {
   "cell_type": "markdown",
   "metadata": {},
   "source": [
    "This notebook checks that our aspiration classifiers are not confounded with PPI use."
   ]
  },
  {
   "cell_type": "code",
   "execution_count": 4,
   "metadata": {
    "collapsed": true
   },
   "outputs": [],
   "source": [
    "import pandas as pd\n",
    "\n",
    "from IPython.display import display\n",
    "from scipy.stats import fisher_exact"
   ]
  },
  {
   "cell_type": "code",
   "execution_count": 5,
   "metadata": {
    "collapsed": false
   },
   "outputs": [],
   "source": [
    "import os, sys\n",
    "src_dir = os.path.normpath(os.path.join(os.getcwd(), '../util'))\n",
    "sys.path.append(src_dir)\n",
    "import util"
   ]
  },
  {
   "cell_type": "markdown",
   "metadata": {},
   "source": [
    "## Single-site classifiers\n"
   ]
  },
  {
   "cell_type": "code",
   "execution_count": 6,
   "metadata": {
    "collapsed": false
   },
   "outputs": [],
   "source": [
    "def get_single_site_samples(s):\n",
    "    h_smpls = meta\\\n",
    "        .query('mbs_consolidated == @nml')\\\n",
    "        .query('site == @s')\\\n",
    "        .index.tolist()\n",
    "    asp_smpls = meta\\\n",
    "        .query('mbs_consolidated == @asp')\\\n",
    "        .query('site == @s')\\\n",
    "        .index.tolist()\n",
    "    all_smpls = h_smpls + asp_smpls\n",
    "    all_smpls = [i for i in all_smpls\n",
    "                 if not i.endswith('2')\n",
    "                 and not i.endswith('F')\n",
    "                 and not i.endswith('F2T')\n",
    "                 and not i.startswith('05')]\n",
    "    return all_smpls\n",
    "\n",
    "def investigate_single_site(s):\n",
    "    smpls = get_single_site_samples(s)\n",
    "    print('\\n' + s)\n",
    "    confmat = pd.crosstab(\n",
    "        meta.loc[smpls, 'mbs_consolidated'], \n",
    "        meta.loc[smpls, 'ppi_consolidated'])\n",
    "    display(confmat)\n",
    "\n",
    "    print(fisher_exact(confmat.drop('conflicting', axis=1)))"
   ]
  },
  {
   "cell_type": "code",
   "execution_count": 7,
   "metadata": {
    "collapsed": true
   },
   "outputs": [],
   "source": [
    "def make_combined_site_df(tidydf, sites, mbs_col):\n",
    "    \"\"\"\n",
    "    Return a wide-form dataframe with data from all sites.\n",
    "    \n",
    "    Drops any rows with NaNs (i.e. subjects which are missing\n",
    "    one of the sites). Also drops any subjects without mbs_col\n",
    "    metadata.\n",
    "    \n",
    "    Parameters\n",
    "    ----------\n",
    "    tidydf : pandas DataFrame\n",
    "        'subject_id', 'site', and 'otu_w_site' columns\n",
    "    sites : list\n",
    "        list of sites to keep\n",
    "    \"\"\"\n",
    "        \n",
    "    tmpotu = tidydf.query('site == @sites')\\\n",
    "            .dropna(subset=[mbs_col])\\\n",
    "            .pivot(index='subject_id', columns='otu_w_site',\n",
    "                   values='abun')\\\n",
    "            .dropna(axis=0)\n",
    "\n",
    "    return tmpotu\n",
    "\n",
    "def get_multi_site_subjects(sites):\n",
    "    df = make_combined_site_df(tidydf, sites, 'mbs_consolidated')    \n",
    "    subjects = df.index.tolist()\n",
    "    \n",
    "    return subjects\n",
    "\n",
    "def investigate_multi_site_subjects(sites):\n",
    "    print(sites)\n",
    "    \n",
    "    subjects = get_multi_site_subjects(sites)\n",
    "    \n",
    "    meta_info = tidydf\\\n",
    "        .query('subject_id == @subjects')\\\n",
    "        [['subject_id', 'mbs_consolidated', 'ppi_consolidated']]\\\n",
    "        .drop_duplicates()\n",
    "    \n",
    "    confmat = pd.crosstab(\n",
    "        meta_info['mbs_consolidated'], \n",
    "        meta_info['ppi_consolidated'])\n",
    "    \n",
    "    display(confmat)\n",
    "    \n",
    "    print(fisher_exact(confmat.drop('conflicting', axis=1)))    \n",
    "    \n",
    "nml = 'Normal'\n",
    "asp = 'Aspiration/Penetration'"
   ]
  },
  {
   "cell_type": "code",
   "execution_count": 8,
   "metadata": {
    "collapsed": false
   },
   "outputs": [],
   "source": [
    "fotu = '../../data/clean/rosen.otu_table.rel_abun.clean'\n",
    "fmeta = '../../data/clean/rosen.metadata.clean'\n",
    "\n",
    "df = pd.read_csv(fotu, sep='\\t', index_col=0)\n",
    "meta = pd.read_csv(fmeta, sep='\\t', index_col=0)"
   ]
  },
  {
   "cell_type": "code",
   "execution_count": 9,
   "metadata": {
    "collapsed": false
   },
   "outputs": [
    {
     "name": "stdout",
     "output_type": "stream",
     "text": [
      "\n",
      "bal\n"
     ]
    },
    {
     "data": {
      "text/html": [
       "<div>\n",
       "<style scoped>\n",
       "    .dataframe tbody tr th:only-of-type {\n",
       "        vertical-align: middle;\n",
       "    }\n",
       "\n",
       "    .dataframe tbody tr th {\n",
       "        vertical-align: top;\n",
       "    }\n",
       "\n",
       "    .dataframe thead th {\n",
       "        text-align: right;\n",
       "    }\n",
       "</style>\n",
       "<table border=\"1\" class=\"dataframe\">\n",
       "  <thead>\n",
       "    <tr style=\"text-align: right;\">\n",
       "      <th>ppi_consolidated</th>\n",
       "      <th>conflicting</th>\n",
       "      <th>off</th>\n",
       "      <th>on</th>\n",
       "    </tr>\n",
       "    <tr>\n",
       "      <th>mbs_consolidated</th>\n",
       "      <th></th>\n",
       "      <th></th>\n",
       "      <th></th>\n",
       "    </tr>\n",
       "  </thead>\n",
       "  <tbody>\n",
       "    <tr>\n",
       "      <th>Aspiration/Penetration</th>\n",
       "      <td>1</td>\n",
       "      <td>16</td>\n",
       "      <td>16</td>\n",
       "    </tr>\n",
       "    <tr>\n",
       "      <th>Normal</th>\n",
       "      <td>2</td>\n",
       "      <td>11</td>\n",
       "      <td>20</td>\n",
       "    </tr>\n",
       "  </tbody>\n",
       "</table>\n",
       "</div>"
      ],
      "text/plain": [
       "ppi_consolidated        conflicting  off  on\n",
       "mbs_consolidated                            \n",
       "Aspiration/Penetration            1   16  16\n",
       "Normal                            2   11  20"
      ]
     },
     "metadata": {},
     "output_type": "display_data"
    },
    {
     "name": "stdout",
     "output_type": "stream",
     "text": [
      "(1.8181818181818181, 0.31139218212169373)\n",
      "\n",
      "gastric_fluid\n"
     ]
    },
    {
     "data": {
      "text/html": [
       "<div>\n",
       "<style scoped>\n",
       "    .dataframe tbody tr th:only-of-type {\n",
       "        vertical-align: middle;\n",
       "    }\n",
       "\n",
       "    .dataframe tbody tr th {\n",
       "        vertical-align: top;\n",
       "    }\n",
       "\n",
       "    .dataframe thead th {\n",
       "        text-align: right;\n",
       "    }\n",
       "</style>\n",
       "<table border=\"1\" class=\"dataframe\">\n",
       "  <thead>\n",
       "    <tr style=\"text-align: right;\">\n",
       "      <th>ppi_consolidated</th>\n",
       "      <th>conflicting</th>\n",
       "      <th>off</th>\n",
       "      <th>on</th>\n",
       "    </tr>\n",
       "    <tr>\n",
       "      <th>mbs_consolidated</th>\n",
       "      <th></th>\n",
       "      <th></th>\n",
       "      <th></th>\n",
       "    </tr>\n",
       "  </thead>\n",
       "  <tbody>\n",
       "    <tr>\n",
       "      <th>Aspiration/Penetration</th>\n",
       "      <td>1</td>\n",
       "      <td>19</td>\n",
       "      <td>21</td>\n",
       "    </tr>\n",
       "    <tr>\n",
       "      <th>Normal</th>\n",
       "      <td>1</td>\n",
       "      <td>22</td>\n",
       "      <td>25</td>\n",
       "    </tr>\n",
       "  </tbody>\n",
       "</table>\n",
       "</div>"
      ],
      "text/plain": [
       "ppi_consolidated        conflicting  off  on\n",
       "mbs_consolidated                            \n",
       "Aspiration/Penetration            1   19  21\n",
       "Normal                            1   22  25"
      ]
     },
     "metadata": {},
     "output_type": "display_data"
    },
    {
     "name": "stdout",
     "output_type": "stream",
     "text": [
      "(1.0281385281385282, 1.0)\n",
      "\n",
      "throat_swab\n"
     ]
    },
    {
     "data": {
      "text/html": [
       "<div>\n",
       "<style scoped>\n",
       "    .dataframe tbody tr th:only-of-type {\n",
       "        vertical-align: middle;\n",
       "    }\n",
       "\n",
       "    .dataframe tbody tr th {\n",
       "        vertical-align: top;\n",
       "    }\n",
       "\n",
       "    .dataframe thead th {\n",
       "        text-align: right;\n",
       "    }\n",
       "</style>\n",
       "<table border=\"1\" class=\"dataframe\">\n",
       "  <thead>\n",
       "    <tr style=\"text-align: right;\">\n",
       "      <th>ppi_consolidated</th>\n",
       "      <th>conflicting</th>\n",
       "      <th>off</th>\n",
       "      <th>on</th>\n",
       "    </tr>\n",
       "    <tr>\n",
       "      <th>mbs_consolidated</th>\n",
       "      <th></th>\n",
       "      <th></th>\n",
       "      <th></th>\n",
       "    </tr>\n",
       "  </thead>\n",
       "  <tbody>\n",
       "    <tr>\n",
       "      <th>Aspiration/Penetration</th>\n",
       "      <td>2</td>\n",
       "      <td>14</td>\n",
       "      <td>20</td>\n",
       "    </tr>\n",
       "    <tr>\n",
       "      <th>Normal</th>\n",
       "      <td>1</td>\n",
       "      <td>22</td>\n",
       "      <td>20</td>\n",
       "    </tr>\n",
       "  </tbody>\n",
       "</table>\n",
       "</div>"
      ],
      "text/plain": [
       "ppi_consolidated        conflicting  off  on\n",
       "mbs_consolidated                            \n",
       "Aspiration/Penetration            2   14  20\n",
       "Normal                            1   22  20"
      ]
     },
     "metadata": {},
     "output_type": "display_data"
    },
    {
     "name": "stdout",
     "output_type": "stream",
     "text": [
      "(0.63636363636363635, 0.36359075997842771)\n"
     ]
    }
   ],
   "source": [
    "investigate_single_site('bal')\n",
    "investigate_single_site('gastric_fluid')\n",
    "investigate_single_site('throat_swab')"
   ]
  },
  {
   "cell_type": "markdown",
   "metadata": {},
   "source": [
    "## Multiple sites"
   ]
  },
  {
   "cell_type": "code",
   "execution_count": 10,
   "metadata": {
    "collapsed": false
   },
   "outputs": [
    {
     "name": "stdout",
     "output_type": "stream",
     "text": [
      "Tidying data... \n",
      "Finished.\n"
     ]
    }
   ],
   "source": [
    "tidydf = util.tidyfy_otu(df, meta, 'mbs_consolidated', cols=['ppi_consolidated'])\n",
    "tidydf['ppi_consolidated'] = tidydf['ppi_consolidated'].fillna('nan')"
   ]
  },
  {
   "cell_type": "code",
   "execution_count": 11,
   "metadata": {
    "collapsed": false
   },
   "outputs": [
    {
     "name": "stdout",
     "output_type": "stream",
     "text": [
      "['bal', 'throat_swab']\n"
     ]
    },
    {
     "data": {
      "text/html": [
       "<div>\n",
       "<style scoped>\n",
       "    .dataframe tbody tr th:only-of-type {\n",
       "        vertical-align: middle;\n",
       "    }\n",
       "\n",
       "    .dataframe tbody tr th {\n",
       "        vertical-align: top;\n",
       "    }\n",
       "\n",
       "    .dataframe thead th {\n",
       "        text-align: right;\n",
       "    }\n",
       "</style>\n",
       "<table border=\"1\" class=\"dataframe\">\n",
       "  <thead>\n",
       "    <tr style=\"text-align: right;\">\n",
       "      <th>ppi_consolidated</th>\n",
       "      <th>conflicting</th>\n",
       "      <th>off</th>\n",
       "      <th>on</th>\n",
       "    </tr>\n",
       "    <tr>\n",
       "      <th>mbs_consolidated</th>\n",
       "      <th></th>\n",
       "      <th></th>\n",
       "      <th></th>\n",
       "    </tr>\n",
       "  </thead>\n",
       "  <tbody>\n",
       "    <tr>\n",
       "      <th>Aspiration/Penetration</th>\n",
       "      <td>1</td>\n",
       "      <td>9</td>\n",
       "      <td>15</td>\n",
       "    </tr>\n",
       "    <tr>\n",
       "      <th>Normal</th>\n",
       "      <td>1</td>\n",
       "      <td>9</td>\n",
       "      <td>13</td>\n",
       "    </tr>\n",
       "  </tbody>\n",
       "</table>\n",
       "</div>"
      ],
      "text/plain": [
       "ppi_consolidated        conflicting  off  on\n",
       "mbs_consolidated                            \n",
       "Aspiration/Penetration            1    9  15\n",
       "Normal                            1    9  13"
      ]
     },
     "metadata": {},
     "output_type": "display_data"
    },
    {
     "name": "stdout",
     "output_type": "stream",
     "text": [
      "(0.8666666666666667, 1.0)\n",
      "['bal', 'gastric_fluid']\n"
     ]
    },
    {
     "data": {
      "text/html": [
       "<div>\n",
       "<style scoped>\n",
       "    .dataframe tbody tr th:only-of-type {\n",
       "        vertical-align: middle;\n",
       "    }\n",
       "\n",
       "    .dataframe tbody tr th {\n",
       "        vertical-align: top;\n",
       "    }\n",
       "\n",
       "    .dataframe thead th {\n",
       "        text-align: right;\n",
       "    }\n",
       "</style>\n",
       "<table border=\"1\" class=\"dataframe\">\n",
       "  <thead>\n",
       "    <tr style=\"text-align: right;\">\n",
       "      <th>ppi_consolidated</th>\n",
       "      <th>conflicting</th>\n",
       "      <th>off</th>\n",
       "      <th>on</th>\n",
       "    </tr>\n",
       "    <tr>\n",
       "      <th>mbs_consolidated</th>\n",
       "      <th></th>\n",
       "      <th></th>\n",
       "      <th></th>\n",
       "    </tr>\n",
       "  </thead>\n",
       "  <tbody>\n",
       "    <tr>\n",
       "      <th>Aspiration/Penetration</th>\n",
       "      <td>1</td>\n",
       "      <td>14</td>\n",
       "      <td>14</td>\n",
       "    </tr>\n",
       "    <tr>\n",
       "      <th>Normal</th>\n",
       "      <td>1</td>\n",
       "      <td>10</td>\n",
       "      <td>17</td>\n",
       "    </tr>\n",
       "  </tbody>\n",
       "</table>\n",
       "</div>"
      ],
      "text/plain": [
       "ppi_consolidated        conflicting  off  on\n",
       "mbs_consolidated                            \n",
       "Aspiration/Penetration            1   14  14\n",
       "Normal                            1   10  17"
      ]
     },
     "metadata": {},
     "output_type": "display_data"
    },
    {
     "name": "stdout",
     "output_type": "stream",
     "text": [
      "(1.7, 0.41824475302455044)\n",
      "['throat_swab', 'gastric_fluid']\n"
     ]
    },
    {
     "data": {
      "text/html": [
       "<div>\n",
       "<style scoped>\n",
       "    .dataframe tbody tr th:only-of-type {\n",
       "        vertical-align: middle;\n",
       "    }\n",
       "\n",
       "    .dataframe tbody tr th {\n",
       "        vertical-align: top;\n",
       "    }\n",
       "\n",
       "    .dataframe thead th {\n",
       "        text-align: right;\n",
       "    }\n",
       "</style>\n",
       "<table border=\"1\" class=\"dataframe\">\n",
       "  <thead>\n",
       "    <tr style=\"text-align: right;\">\n",
       "      <th>ppi_consolidated</th>\n",
       "      <th>conflicting</th>\n",
       "      <th>off</th>\n",
       "      <th>on</th>\n",
       "    </tr>\n",
       "    <tr>\n",
       "      <th>mbs_consolidated</th>\n",
       "      <th></th>\n",
       "      <th></th>\n",
       "      <th></th>\n",
       "    </tr>\n",
       "  </thead>\n",
       "  <tbody>\n",
       "    <tr>\n",
       "      <th>Aspiration/Penetration</th>\n",
       "      <td>2</td>\n",
       "      <td>12</td>\n",
       "      <td>19</td>\n",
       "    </tr>\n",
       "    <tr>\n",
       "      <th>Normal</th>\n",
       "      <td>0</td>\n",
       "      <td>19</td>\n",
       "      <td>16</td>\n",
       "    </tr>\n",
       "  </tbody>\n",
       "</table>\n",
       "</div>"
      ],
      "text/plain": [
       "ppi_consolidated        conflicting  off  on\n",
       "mbs_consolidated                            \n",
       "Aspiration/Penetration            2   12  19\n",
       "Normal                            0   19  16"
      ]
     },
     "metadata": {},
     "output_type": "display_data"
    },
    {
     "name": "stdout",
     "output_type": "stream",
     "text": [
      "(0.53185595567867039, 0.22723718261648584)\n",
      "['bal', 'throat_swab', 'gastric_fluid']\n"
     ]
    },
    {
     "data": {
      "text/html": [
       "<div>\n",
       "<style scoped>\n",
       "    .dataframe tbody tr th:only-of-type {\n",
       "        vertical-align: middle;\n",
       "    }\n",
       "\n",
       "    .dataframe tbody tr th {\n",
       "        vertical-align: top;\n",
       "    }\n",
       "\n",
       "    .dataframe thead th {\n",
       "        text-align: right;\n",
       "    }\n",
       "</style>\n",
       "<table border=\"1\" class=\"dataframe\">\n",
       "  <thead>\n",
       "    <tr style=\"text-align: right;\">\n",
       "      <th>ppi_consolidated</th>\n",
       "      <th>conflicting</th>\n",
       "      <th>off</th>\n",
       "      <th>on</th>\n",
       "    </tr>\n",
       "    <tr>\n",
       "      <th>mbs_consolidated</th>\n",
       "      <th></th>\n",
       "      <th></th>\n",
       "      <th></th>\n",
       "    </tr>\n",
       "  </thead>\n",
       "  <tbody>\n",
       "    <tr>\n",
       "      <th>Aspiration/Penetration</th>\n",
       "      <td>1</td>\n",
       "      <td>8</td>\n",
       "      <td>14</td>\n",
       "    </tr>\n",
       "    <tr>\n",
       "      <th>Normal</th>\n",
       "      <td>0</td>\n",
       "      <td>8</td>\n",
       "      <td>11</td>\n",
       "    </tr>\n",
       "  </tbody>\n",
       "</table>\n",
       "</div>"
      ],
      "text/plain": [
       "ppi_consolidated        conflicting  off  on\n",
       "mbs_consolidated                            \n",
       "Aspiration/Penetration            1    8  14\n",
       "Normal                            0    8  11"
      ]
     },
     "metadata": {},
     "output_type": "display_data"
    },
    {
     "name": "stdout",
     "output_type": "stream",
     "text": [
      "(0.7857142857142857, 0.75684303636771089)\n"
     ]
    }
   ],
   "source": [
    "twosites = ['bal', 'throat_swab']\n",
    "investigate_multi_site_subjects(twosites)\n",
    "\n",
    "twosites = ['bal', 'gastric_fluid']\n",
    "investigate_multi_site_subjects(twosites)\n",
    "\n",
    "twosites = ['throat_swab', 'gastric_fluid']\n",
    "investigate_multi_site_subjects(twosites)\n",
    "\n",
    "allsites = ['bal', 'throat_swab', 'gastric_fluid']\n",
    "investigate_multi_site_subjects(allsites)"
   ]
  },
  {
   "cell_type": "code",
   "execution_count": null,
   "metadata": {
    "collapsed": true
   },
   "outputs": [],
   "source": []
  }
 ],
 "metadata": {
  "anaconda-cloud": {},
  "kernelspec": {
   "display_name": "Python [default]",
   "language": "python",
   "name": "python2"
  }
 },
 "nbformat": 4,
 "nbformat_minor": 2
}
