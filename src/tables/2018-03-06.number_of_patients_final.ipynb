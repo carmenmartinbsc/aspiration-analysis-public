{
 "cells": [
  {
   "cell_type": "markdown",
   "metadata": {},
   "source": [
    "The purpose of this notebook is to document the manipulations I do to get the number of patients/samples bc I'm sick of re-doing it every time."
   ]
  },
  {
   "cell_type": "code",
   "execution_count": 1,
   "metadata": {
    "collapsed": true
   },
   "outputs": [],
   "source": [
    "import pandas as pd\n",
    "import numpy as np"
   ]
  },
  {
   "cell_type": "code",
   "execution_count": 2,
   "metadata": {},
   "outputs": [
    {
     "data": {
      "text/plain": [
       "Index([u' If Yes, specify the symptom score',\n",
       "       u' If yes, please indicate level', u'% time pH<4', u'% time pH<4:',\n",
       "       u'A1. Subject ID number:', u'A2. Subject initials:',\n",
       "       u'A3. What Cohort is the subject enrolled into?',\n",
       "       u'A4. Aim(s) enrolled in?',\n",
       "       u'A5.  Date of initial/baseline visit/procedure (MM/DD/YYYY):',\n",
       "       u'A5a. Date filled out(MM/DD/YYYY):',\n",
       "       ...\n",
       "       u'STUDYID', u'STUDY', u'AIM', u'SOURCE', u'PHMII', u'ACIDSUP', u'DATE',\n",
       "       u'ppi_consolidated', u'mbs_consolidated', u'total_reads'],\n",
       "      dtype='object', length=958)"
      ]
     },
     "execution_count": 2,
     "metadata": {},
     "output_type": "execute_result"
    }
   ],
   "source": [
    "fnotu = '/Users/claire/github/aspiration-analysis/data/clean/rosen.otu_table.rel_abun.clean'\n",
    "fnmeta = '/Users/claire/github/aspiration-analysis/data/clean/rosen.metadata.clean'\n",
    "\n",
    "meta = pd.read_csv(fnmeta, sep='\\t', index_col=0)\n",
    "meta.columns"
   ]
  },
  {
   "cell_type": "code",
   "execution_count": 3,
   "metadata": {
    "collapsed": true
   },
   "outputs": [],
   "source": [
    "# Remove some samples I don't want to include from the metdata\n",
    "meta = meta[~meta['sample_id.1'].str.endswith('F')]\n",
    "meta = meta[~meta['sample_id.1'].str.endswith('sick')]\n",
    "meta = meta[~meta['sample_id.1'].str.endswith('F2')]\n",
    "meta = meta[~meta['sample_id.1'].str.endswith('F2T')]\n",
    "meta = meta[~meta['sample_id.1'].str.endswith('2')]\n",
    "meta = meta[~meta['sample_id.1'].str.startswith('05')]"
   ]
  },
  {
   "cell_type": "code",
   "execution_count": 4,
   "metadata": {},
   "outputs": [
    {
     "data": {
      "text/html": [
       "<div>\n",
       "<style scoped>\n",
       "    .dataframe tbody tr th:only-of-type {\n",
       "        vertical-align: middle;\n",
       "    }\n",
       "\n",
       "    .dataframe tbody tr th {\n",
       "        vertical-align: top;\n",
       "    }\n",
       "\n",
       "    .dataframe thead th {\n",
       "        text-align: right;\n",
       "    }\n",
       "</style>\n",
       "<table border=\"1\" class=\"dataframe\">\n",
       "  <thead>\n",
       "    <tr style=\"text-align: right;\">\n",
       "      <th></th>\n",
       "      <th>mbs_consolidated</th>\n",
       "      <th>site</th>\n",
       "      <th>subject_id</th>\n",
       "      <th>n_samples</th>\n",
       "    </tr>\n",
       "  </thead>\n",
       "  <tbody>\n",
       "    <tr>\n",
       "      <th>0</th>\n",
       "      <td>Aspiration/Penetration</td>\n",
       "      <td>bal</td>\n",
       "      <td>02-184-5</td>\n",
       "      <td>1</td>\n",
       "    </tr>\n",
       "    <tr>\n",
       "      <th>317</th>\n",
       "      <td>nan</td>\n",
       "      <td>gastric_fluid</td>\n",
       "      <td>04-159-2</td>\n",
       "      <td>1</td>\n",
       "    </tr>\n",
       "    <tr>\n",
       "      <th>315</th>\n",
       "      <td>nan</td>\n",
       "      <td>gastric_fluid</td>\n",
       "      <td>04-150-1</td>\n",
       "      <td>1</td>\n",
       "    </tr>\n",
       "    <tr>\n",
       "      <th>314</th>\n",
       "      <td>nan</td>\n",
       "      <td>gastric_fluid</td>\n",
       "      <td>04-149-2</td>\n",
       "      <td>1</td>\n",
       "    </tr>\n",
       "    <tr>\n",
       "      <th>313</th>\n",
       "      <td>nan</td>\n",
       "      <td>gastric_fluid</td>\n",
       "      <td>04-144-7</td>\n",
       "      <td>1</td>\n",
       "    </tr>\n",
       "  </tbody>\n",
       "</table>\n",
       "</div>"
      ],
      "text/plain": [
       "           mbs_consolidated           site subject_id  n_samples\n",
       "0    Aspiration/Penetration            bal   02-184-5          1\n",
       "317                     nan  gastric_fluid   04-159-2          1\n",
       "315                     nan  gastric_fluid   04-150-1          1\n",
       "314                     nan  gastric_fluid   04-149-2          1\n",
       "313                     nan  gastric_fluid   04-144-7          1"
      ]
     },
     "execution_count": 4,
     "metadata": {},
     "output_type": "execute_result"
    }
   ],
   "source": [
    "meta['mbs_consolidated'] = meta['mbs_consolidated'].fillna('nan')\n",
    "meta['ppi_consolidated'] = meta['ppi_consolidated'].fillna('nan')\n",
    "\n",
    "patientsamples = meta\\\n",
    "    .groupby(['mbs_consolidated', 'site', 'subject_id'])\\\n",
    "    .size()\\\n",
    "    .to_frame('n_samples').reset_index()\n",
    "patientsamples.sort_values(by='n_samples', ascending=False).head()"
   ]
  },
  {
   "cell_type": "markdown",
   "metadata": {},
   "source": [
    "# First, number of patients for each site alone\n",
    "\n",
    "This is useful for Figure 1, where I compare samples across patients.\n",
    "\n",
    "I should probably re-make Figure 1 using data only from patients who are not known to be aspirators?"
   ]
  },
  {
   "cell_type": "code",
   "execution_count": 5,
   "metadata": {
    "collapsed": true
   },
   "outputs": [],
   "source": [
    "sites = ['stool', 'bal', 'gastric_fluid', 'throat_swab']"
   ]
  },
  {
   "cell_type": "code",
   "execution_count": 6,
   "metadata": {},
   "outputs": [
    {
     "data": {
      "text/html": [
       "<div>\n",
       "<style scoped>\n",
       "    .dataframe tbody tr th:only-of-type {\n",
       "        vertical-align: middle;\n",
       "    }\n",
       "\n",
       "    .dataframe tbody tr th {\n",
       "        vertical-align: top;\n",
       "    }\n",
       "\n",
       "    .dataframe thead th {\n",
       "        text-align: right;\n",
       "    }\n",
       "</style>\n",
       "<table border=\"1\" class=\"dataframe\">\n",
       "  <thead>\n",
       "    <tr style=\"text-align: right;\">\n",
       "      <th></th>\n",
       "      <th></th>\n",
       "      <th>n_samples</th>\n",
       "    </tr>\n",
       "    <tr>\n",
       "      <th>site</th>\n",
       "      <th>mbs_consolidated</th>\n",
       "      <th></th>\n",
       "    </tr>\n",
       "  </thead>\n",
       "  <tbody>\n",
       "    <tr>\n",
       "      <th rowspan=\"3\" valign=\"top\">bal</th>\n",
       "      <th>Aspiration/Penetration</th>\n",
       "      <td>33</td>\n",
       "    </tr>\n",
       "    <tr>\n",
       "      <th>Normal</th>\n",
       "      <td>33</td>\n",
       "    </tr>\n",
       "    <tr>\n",
       "      <th>nan</th>\n",
       "      <td>36</td>\n",
       "    </tr>\n",
       "    <tr>\n",
       "      <th rowspan=\"3\" valign=\"top\">gastric_fluid</th>\n",
       "      <th>Aspiration/Penetration</th>\n",
       "      <td>41</td>\n",
       "    </tr>\n",
       "    <tr>\n",
       "      <th>Normal</th>\n",
       "      <td>48</td>\n",
       "    </tr>\n",
       "    <tr>\n",
       "      <th>nan</th>\n",
       "      <td>58</td>\n",
       "    </tr>\n",
       "    <tr>\n",
       "      <th>stool</th>\n",
       "      <th>nan</th>\n",
       "      <td>25</td>\n",
       "    </tr>\n",
       "    <tr>\n",
       "      <th rowspan=\"3\" valign=\"top\">throat_swab</th>\n",
       "      <th>Aspiration/Penetration</th>\n",
       "      <td>36</td>\n",
       "    </tr>\n",
       "    <tr>\n",
       "      <th>Normal</th>\n",
       "      <td>43</td>\n",
       "    </tr>\n",
       "    <tr>\n",
       "      <th>nan</th>\n",
       "      <td>97</td>\n",
       "    </tr>\n",
       "  </tbody>\n",
       "</table>\n",
       "</div>"
      ],
      "text/plain": [
       "                                      n_samples\n",
       "site          mbs_consolidated                 \n",
       "bal           Aspiration/Penetration         33\n",
       "              Normal                         33\n",
       "              nan                            36\n",
       "gastric_fluid Aspiration/Penetration         41\n",
       "              Normal                         48\n",
       "              nan                            58\n",
       "stool         nan                            25\n",
       "throat_swab   Aspiration/Penetration         36\n",
       "              Normal                         43\n",
       "              nan                            97"
      ]
     },
     "execution_count": 6,
     "metadata": {},
     "output_type": "execute_result"
    }
   ],
   "source": [
    "# With PPI info\n",
    "patientsamples.query('site == @sites')\\\n",
    "    .groupby(['site', 'mbs_consolidated'])\\\n",
    "    .size()\\\n",
    "    .to_frame('n_samples')"
   ]
  },
  {
   "cell_type": "markdown",
   "metadata": {},
   "source": [
    "Note: the number of stool samples to report is lower than this one. The only stool samples I used were those from patients who also had oropharyngeal samples. This data shows the total number of stool samples I have, without considering whether or not there's also an associated oropharyngeal sample.\n",
    "\n",
    "To see the number of stool samples I actually used, look at the within-patient beta diversity notebook or below in the within-patient sample numbers."
   ]
  },
  {
   "cell_type": "markdown",
   "metadata": {},
   "source": [
    "### Number of unique patients with each sample type"
   ]
  },
  {
   "cell_type": "code",
   "execution_count": 7,
   "metadata": {},
   "outputs": [
    {
     "data": {
      "text/plain": [
       "site\n",
       "bal              102\n",
       "gastric_fluid    147\n",
       "stool             25\n",
       "throat_swab      176\n",
       "dtype: int64"
      ]
     },
     "execution_count": 7,
     "metadata": {},
     "output_type": "execute_result"
    }
   ],
   "source": [
    "patientsamples.query('site == @sites')\\\n",
    "    .groupby(['site', 'subject_id'])\\\n",
    "    .size()\\\n",
    "    .reset_index()\\\n",
    "    .groupby('site')\\\n",
    "    .size()"
   ]
  },
  {
   "cell_type": "code",
   "execution_count": 8,
   "metadata": {},
   "outputs": [
    {
     "data": {
      "text/plain": [
       "mbs_consolidated\n",
       "Aspiration/Penetration     47\n",
       "Normal                     57\n",
       "nan                       118\n",
       "dtype: int64"
      ]
     },
     "execution_count": 8,
     "metadata": {},
     "output_type": "execute_result"
    }
   ],
   "source": [
    "patientsamples.query('site == @sites')\\\n",
    "    .groupby(['mbs_consolidated', 'subject_id'])\\\n",
    "    .size()\\\n",
    "    .reset_index()\\\n",
    "    .groupby(['mbs_consolidated'])\\\n",
    "    .size()"
   ]
  },
  {
   "cell_type": "markdown",
   "metadata": {},
   "source": [
    "# Number of patients with intra site combinations\n",
    "\n",
    "This is for figure 2: the within-patient comparisons.\n",
    "\n",
    "The comparisons I've made are: bal_throat, bal_gastric, gastric_throat, stool_throat, stool_stool."
   ]
  },
  {
   "cell_type": "code",
   "execution_count": 9,
   "metadata": {},
   "outputs": [
    {
     "name": "stdout",
     "output_type": "stream",
     "text": [
      "stool + bal\n",
      "Series([], dtype: int64)\n",
      "(0,)\n",
      "\n",
      "stool + gastric_fluid\n",
      "Series([], dtype: int64)\n",
      "(0,)\n",
      "\n",
      "stool + throat_swab\n",
      "mbs_consolidated\n",
      "nan    20\n",
      "dtype: int64\n",
      "(20,)\n",
      "\n",
      "bal + gastric_fluid\n",
      "mbs_consolidated\n",
      "Aspiration/Penetration    29\n",
      "Normal                    28\n",
      "nan                       32\n",
      "dtype: int64\n",
      "(89,)\n",
      "\n",
      "bal + throat_swab\n",
      "mbs_consolidated\n",
      "Aspiration/Penetration    25\n",
      "Normal                    23\n",
      "nan                       25\n",
      "dtype: int64\n",
      "(73,)\n",
      "\n",
      "gastric_fluid + throat_swab\n",
      "mbs_consolidated\n",
      "Aspiration/Penetration    32\n",
      "Normal                    35\n",
      "nan                       45\n",
      "dtype: int64\n",
      "(112,)\n",
      "\n"
     ]
    }
   ],
   "source": [
    "for site1 in sites:\n",
    "    for site2 in sites[sites.index(site1)+1:]:\n",
    "        subjects = patientsamples\\\n",
    "                    .query('(site == @site1) | (site == @site2)')\\\n",
    "                    .groupby(['mbs_consolidated', 'subject_id'])\\\n",
    "                    .size()\n",
    "        print('{} + {}'.format(site1, site2))\n",
    "                \n",
    "        # This line shows the number of within-patient comparisons,\n",
    "        # just grouped by MBS status \n",
    "        print(subjects[subjects == 2].reset_index()\n",
    "              .groupby(['mbs_consolidated']).size())\n",
    "\n",
    "        ## Uncomment this line to see disaggregation by PPI status too\n",
    "        ## (this only affects stool_throat comparisons)\n",
    "        #print(subjects[subjects == 2].reset_index()\n",
    "        #      .groupby(['ppi_consolidated', 'mbs_consolidated']).size())        \n",
    "        \n",
    "        # And this line is just straight-up the number of unique patients\n",
    "        print(subjects[subjects == 2].reset_index()['subject_id'].unique().shape)\n",
    "        print('')\n"
   ]
  },
  {
   "cell_type": "code",
   "execution_count": 10,
   "metadata": {},
   "outputs": [
    {
     "data": {
      "text/plain": [
       "(20, 3)"
      ]
     },
     "execution_count": 10,
     "metadata": {},
     "output_type": "execute_result"
    }
   ],
   "source": [
    "site1 = 'stool'\n",
    "site2 = 'throat_swab'\n",
    "\n",
    "subjects = patientsamples\\\n",
    "            .query('(site == @site1) | (site == @site2)')\\\n",
    "            .groupby(['mbs_consolidated', 'subject_id'])\\\n",
    "            .size()\n",
    "\n",
    "subjects[subjects == 2].reset_index().shape"
   ]
  },
  {
   "cell_type": "markdown",
   "metadata": {},
   "source": [
    "## All three sites"
   ]
  },
  {
   "cell_type": "code",
   "execution_count": 11,
   "metadata": {},
   "outputs": [
    {
     "name": "stdout",
     "output_type": "stream",
     "text": [
      "mbs_consolidated\n",
      "Aspiration/Penetration    23\n",
      "Normal                    19\n",
      "nan                       24\n",
      "dtype: int64\n",
      "(66,)\n",
      "\n"
     ]
    }
   ],
   "source": [
    "aero_sites = ['bal', 'gastric_fluid', 'throat_swab']\n",
    "subjects = patientsamples\\\n",
    "            .query('(site == @aero_sites)')\\\n",
    "            .groupby(['mbs_consolidated', 'subject_id'])\\\n",
    "            .size()\n",
    "\n",
    "# This line shows the number of within-patient comparisons,\n",
    "# just grouped by MBS status \n",
    "print(subjects[subjects == 3].reset_index()\n",
    "      .groupby(['mbs_consolidated']).size())\n",
    "\n",
    "# And this line is just straight-up the number of unique patients\n",
    "print(subjects[subjects == 3].reset_index()['subject_id'].unique().shape)\n",
    "print('')"
   ]
  },
  {
   "cell_type": "markdown",
   "metadata": {},
   "source": [
    "## Number of patients with at least two sites"
   ]
  },
  {
   "cell_type": "code",
   "execution_count": 12,
   "metadata": {},
   "outputs": [
    {
     "name": "stdout",
     "output_type": "stream",
     "text": [
      "88\n"
     ]
    },
    {
     "data": {
      "text/html": [
       "<div>\n",
       "<style scoped>\n",
       "    .dataframe tbody tr th:only-of-type {\n",
       "        vertical-align: middle;\n",
       "    }\n",
       "\n",
       "    .dataframe tbody tr th {\n",
       "        vertical-align: top;\n",
       "    }\n",
       "\n",
       "    .dataframe thead th {\n",
       "        text-align: right;\n",
       "    }\n",
       "</style>\n",
       "<table border=\"1\" class=\"dataframe\">\n",
       "  <thead>\n",
       "    <tr style=\"text-align: right;\">\n",
       "      <th></th>\n",
       "      <th>0</th>\n",
       "    </tr>\n",
       "    <tr>\n",
       "      <th>mbs_consolidated</th>\n",
       "      <th></th>\n",
       "    </tr>\n",
       "  </thead>\n",
       "  <tbody>\n",
       "    <tr>\n",
       "      <th>Aspiration/Penetration</th>\n",
       "      <td>40.0</td>\n",
       "    </tr>\n",
       "    <tr>\n",
       "      <th>Normal</th>\n",
       "      <td>48.0</td>\n",
       "    </tr>\n",
       "    <tr>\n",
       "      <th>nan</th>\n",
       "      <td>74.0</td>\n",
       "    </tr>\n",
       "  </tbody>\n",
       "</table>\n",
       "</div>"
      ],
      "text/plain": [
       "                           0\n",
       "mbs_consolidated            \n",
       "Aspiration/Penetration  40.0\n",
       "Normal                  48.0\n",
       "nan                     74.0"
      ]
     },
     "execution_count": 12,
     "metadata": {},
     "output_type": "execute_result"
    }
   ],
   "source": [
    "# Number of patients tested\n",
    "print(patientsamples.query('mbs_consolidated != \"nan\"').groupby('subject_id').size() > 1).sum()\n",
    "\n",
    "# All types of patients\n",
    "(patientsamples\\\n",
    "    .query('site == @sites')\\\n",
    "    .groupby(['mbs_consolidated', 'subject_id'])\\\n",
    "    .size() > 1)\\\n",
    "    .reset_index()\\\n",
    "    .groupby('mbs_consolidated').sum()"
   ]
  },
  {
   "cell_type": "markdown",
   "metadata": {},
   "source": [
    "# PPI information"
   ]
  },
  {
   "cell_type": "code",
   "execution_count": 29,
   "metadata": {},
   "outputs": [
    {
     "data": {
      "text/html": [
       "<div>\n",
       "<style scoped>\n",
       "    .dataframe tbody tr th:only-of-type {\n",
       "        vertical-align: middle;\n",
       "    }\n",
       "\n",
       "    .dataframe tbody tr th {\n",
       "        vertical-align: top;\n",
       "    }\n",
       "\n",
       "    .dataframe thead th {\n",
       "        text-align: right;\n",
       "    }\n",
       "</style>\n",
       "<table border=\"1\" class=\"dataframe\">\n",
       "  <thead>\n",
       "    <tr style=\"text-align: right;\">\n",
       "      <th></th>\n",
       "      <th>organism</th>\n",
       "      <th>env_biome</th>\n",
       "      <th>geo_loc_name</th>\n",
       "      <th>host</th>\n",
       "      <th>lat_lon</th>\n",
       "      <th>collection_date</th>\n",
       "      <th>sample_name</th>\n",
       "      <th>subject_id</th>\n",
       "      <th>sequencing_date</th>\n",
       "      <th>env_feature</th>\n",
       "      <th>env_material</th>\n",
       "    </tr>\n",
       "  </thead>\n",
       "  <tbody>\n",
       "    <tr>\n",
       "      <th>0</th>\n",
       "      <td>human-associated metagenome</td>\n",
       "      <td>human-associated habitat</td>\n",
       "      <td>USA: Boston</td>\n",
       "      <td>Homo sapiens</td>\n",
       "      <td>missing</td>\n",
       "      <td>missing</td>\n",
       "      <td>04-074-1T</td>\n",
       "      <td>04-074-1</td>\n",
       "      <td>2014</td>\n",
       "      <td>oropharynx</td>\n",
       "      <td>oropharyngeal_swab</td>\n",
       "    </tr>\n",
       "    <tr>\n",
       "      <th>1</th>\n",
       "      <td>human-associated metagenome</td>\n",
       "      <td>human-associated habitat</td>\n",
       "      <td>USA: Boston</td>\n",
       "      <td>Homo sapiens</td>\n",
       "      <td>missing</td>\n",
       "      <td>missing</td>\n",
       "      <td>02-164-1G</td>\n",
       "      <td>02-164-1</td>\n",
       "      <td>2014</td>\n",
       "      <td>stomach</td>\n",
       "      <td>gastric_fluid</td>\n",
       "    </tr>\n",
       "    <tr>\n",
       "      <th>2</th>\n",
       "      <td>human-associated metagenome</td>\n",
       "      <td>human-associated habitat</td>\n",
       "      <td>USA: Boston</td>\n",
       "      <td>Homo sapiens</td>\n",
       "      <td>missing</td>\n",
       "      <td>missing</td>\n",
       "      <td>04-262-5T</td>\n",
       "      <td>04-262-5</td>\n",
       "      <td>2016</td>\n",
       "      <td>oropharynx</td>\n",
       "      <td>oropharyngeal_swab</td>\n",
       "    </tr>\n",
       "    <tr>\n",
       "      <th>3</th>\n",
       "      <td>human-associated metagenome</td>\n",
       "      <td>human-associated habitat</td>\n",
       "      <td>USA: Boston</td>\n",
       "      <td>Homo sapiens</td>\n",
       "      <td>missing</td>\n",
       "      <td>missing</td>\n",
       "      <td>04-074-1G</td>\n",
       "      <td>04-074-1</td>\n",
       "      <td>2014</td>\n",
       "      <td>stomach</td>\n",
       "      <td>gastric_fluid</td>\n",
       "    </tr>\n",
       "    <tr>\n",
       "      <th>4</th>\n",
       "      <td>human-associated metagenome</td>\n",
       "      <td>human-associated habitat</td>\n",
       "      <td>USA: Boston</td>\n",
       "      <td>Homo sapiens</td>\n",
       "      <td>missing</td>\n",
       "      <td>missing</td>\n",
       "      <td>04-074-1B</td>\n",
       "      <td>04-074-1</td>\n",
       "      <td>2014</td>\n",
       "      <td>lung</td>\n",
       "      <td>bronchoalveolar_lavage</td>\n",
       "    </tr>\n",
       "  </tbody>\n",
       "</table>\n",
       "</div>"
      ],
      "text/plain": [
       "                      organism                 env_biome geo_loc_name  \\\n",
       "0  human-associated metagenome  human-associated habitat  USA: Boston   \n",
       "1  human-associated metagenome  human-associated habitat  USA: Boston   \n",
       "2  human-associated metagenome  human-associated habitat  USA: Boston   \n",
       "3  human-associated metagenome  human-associated habitat  USA: Boston   \n",
       "4  human-associated metagenome  human-associated habitat  USA: Boston   \n",
       "\n",
       "           host  lat_lon collection_date sample_name subject_id  \\\n",
       "0  Homo sapiens  missing         missing   04-074-1T   04-074-1   \n",
       "1  Homo sapiens  missing         missing   02-164-1G   02-164-1   \n",
       "2  Homo sapiens  missing         missing   04-262-5T   04-262-5   \n",
       "3  Homo sapiens  missing         missing   04-074-1G   04-074-1   \n",
       "4  Homo sapiens  missing         missing   04-074-1B   04-074-1   \n",
       "\n",
       "   sequencing_date env_feature            env_material  \n",
       "0             2014  oropharynx      oropharyngeal_swab  \n",
       "1             2014     stomach           gastric_fluid  \n",
       "2             2016  oropharynx      oropharyngeal_swab  \n",
       "3             2014     stomach           gastric_fluid  \n",
       "4             2014        lung  bronchoalveolar_lavage  "
      ]
     },
     "execution_count": 29,
     "metadata": {},
     "output_type": "execute_result"
    }
   ],
   "source": [
    "sra = pd.read_csv('../../final/patients/biosample_attributes.SUB3758953.txt', sep='\\t')\n",
    "sra.head()"
   ]
  },
  {
   "cell_type": "code",
   "execution_count": 30,
   "metadata": {},
   "outputs": [
    {
     "data": {
      "text/plain": [
       "(222,)"
      ]
     },
     "execution_count": 30,
     "metadata": {},
     "output_type": "execute_result"
    }
   ],
   "source": [
    "sra['subject_id'].unique().shape"
   ]
  },
  {
   "cell_type": "code",
   "execution_count": 32,
   "metadata": {
    "collapsed": true
   },
   "outputs": [],
   "source": [
    "subjects = sra['subject_id'].unique().tolist()"
   ]
  },
  {
   "cell_type": "code",
   "execution_count": 33,
   "metadata": {},
   "outputs": [
    {
     "data": {
      "text/plain": [
       "ppi_consolidated\n",
       "conflicting     8\n",
       "nan            30\n",
       "off            88\n",
       "on             96\n",
       "dtype: int64"
      ]
     },
     "execution_count": 33,
     "metadata": {},
     "output_type": "execute_result"
    }
   ],
   "source": [
    "meta.query('subject_id == @subjects').drop_duplicates(subset='subject_id').groupby('ppi_consolidated').size()"
   ]
  },
  {
   "cell_type": "code",
   "execution_count": 34,
   "metadata": {},
   "outputs": [
    {
     "data": {
      "text/plain": [
       "'029-6-F1, 030-5-F1, 03-107-4, 032-1-F1, 036-2-F1, 04-029-8, 045-9-F1, 13-117-4'"
      ]
     },
     "execution_count": 34,
     "metadata": {},
     "output_type": "execute_result"
    }
   ],
   "source": [
    "#', '.join(meta.query('subject_id == @subjects').drop_duplicates(subset='subject_id').query('ppi_consolidated == \"conflicting\"')['subject_id'].tolist())"
   ]
  },
  {
   "cell_type": "code",
   "execution_count": 35,
   "metadata": {},
   "outputs": [
    {
     "data": {
      "text/plain": [
       "'01-112-7, 01-164-7, 01-165-8, 01-173-4, 01-200-1, 01-209-2, 01-215-7, 01-230-9, 01-247-3, 01-263-4, 01-270-3, 01-297-4, 01-299-7, 03-076-8, 03-138-9, 03-146-6, 03-149-1, 03-150-8, 03-153-7, 03-156-7, 03-178-6, 03-181-7, 03-182-8, 03-199-7, 03-225-1, 03-226-4, 03-272-3, 04-235-8, 04-269-0, 14-233-0'"
      ]
     },
     "execution_count": 35,
     "metadata": {},
     "output_type": "execute_result"
    }
   ],
   "source": [
    "#', '.join(meta.query('subject_id == @subjects').drop_duplicates(subset='subject_id').query('ppi_consolidated == \"nan\"')['subject_id'].tolist())"
   ]
  },
  {
   "cell_type": "code",
   "execution_count": 36,
   "metadata": {},
   "outputs": [],
   "source": [
    "with open('../../final/patients/all_patients_in_sra.txt', 'w') as f:\n",
    "    f.write('\\n'.join(sra['subject_id'].tolist()) + '\\n')"
   ]
  },
  {
   "cell_type": "markdown",
   "metadata": {
    "collapsed": true
   },
   "source": [
    "# Number with swallow study\n",
    "\n",
    "Of the 222 patients, XX had swallow studies.\n",
    "\n",
    "Of the XX that had swallow studies, X were aspirators and X had normal swallow function.\n",
    "\n",
    " "
   ]
  },
  {
   "cell_type": "code",
   "execution_count": 42,
   "metadata": {},
   "outputs": [
    {
     "name": "stdout",
     "output_type": "stream",
     "text": [
      "222\n",
      "Object `drop_duplicates` not found.\n"
     ]
    }
   ],
   "source": [
    "subjects = sra['subject_id'].unique().tolist()\n",
    "print(len(subjects))"
   ]
  },
  {
   "cell_type": "code",
   "execution_count": 46,
   "metadata": {},
   "outputs": [
    {
     "data": {
      "text/plain": [
       "mbs_consolidated\n",
       "Aspiration/Penetration     47\n",
       "Normal                     57\n",
       "nan                       118\n",
       "dtype: int64"
      ]
     },
     "execution_count": 46,
     "metadata": {},
     "output_type": "execute_result"
    }
   ],
   "source": [
    "meta.query('subject_id == @subjects').drop_duplicates(subset=['subject_id', 'mbs_consolidated']).groupby('mbs_consolidated').size()"
   ]
  },
  {
   "cell_type": "code",
   "execution_count": null,
   "metadata": {
    "collapsed": true
   },
   "outputs": [],
   "source": []
  }
 ],
 "metadata": {
  "anaconda-cloud": {},
  "kernelspec": {
   "display_name": "Python [default]",
   "language": "python",
   "name": "python2"
  },
  "language_info": {
   "codemirror_mode": {
    "name": "ipython",
    "version": 2
   },
   "file_extension": ".py",
   "mimetype": "text/x-python",
   "name": "python",
   "nbconvert_exporter": "python",
   "pygments_lexer": "ipython2",
   "version": "2.7.15"
  }
 },
 "nbformat": 4,
 "nbformat_minor": 2
}
