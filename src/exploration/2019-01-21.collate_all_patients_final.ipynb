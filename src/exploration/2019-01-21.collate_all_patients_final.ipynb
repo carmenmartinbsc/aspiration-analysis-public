{
 "cells": [
  {
   "cell_type": "markdown",
   "metadata": {},
   "source": [
    "This notebook takes all of the files with lists of patients and puts them into one dataframe."
   ]
  },
  {
   "cell_type": "code",
   "execution_count": 1,
   "metadata": {},
   "outputs": [],
   "source": [
    "import pandas as pd\n",
    "import os\n",
    "\n",
    "import matplotlib.pyplot as plt\n",
    "%matplotlib inline"
   ]
  },
  {
   "cell_type": "code",
   "execution_count": 2,
   "metadata": {},
   "outputs": [
    {
     "name": "stdout",
     "output_type": "stream",
     "text": [
      "prevalence_calculation.bal-gastric_fluid.mbs_consolidated.samples.txt\n",
      "aspiration_classifiers_exchanged_OTUs.gastric_fluid.samples.txt\n",
      "figure2.between_patient_jsd_2014_permanova.samples.txt\n",
      "exchange_calculation.bal-throat_swab.samples.txt\n",
      "figure2.2016_pcoa.samples.txt\n",
      "figure2.between_patient_jsd_2016_permanova.samples.txt\n",
      "figure3.site_classifiers.samples.txt\n",
      "aspiration_classifiers.bal.samples.txt\n",
      "aspiration_classifiers.gastric_fluid.samples.txt\n",
      "figure2.between_patient_jsd.samples.txt\n",
      "aspiration_classifiers_exchanged_OTUs.bal.samples.txt\n",
      "aspiration_classifiers_exchanged_OTUs.bal_throat_swab.samples.txt\n",
      "figure3.within_patient_beta_div.samples.txt\n",
      "exchange_calculation.bal-gastric_fluid.samples.txt\n",
      "figure2.2014_pcoa.samples.txt\n",
      "figure5.reflux_correlation.samples.txt\n",
      "figure4.asp_vs_nonasp_beta.samples.txt\n",
      "aspiration_classifiers_exchanged_OTUs.bal_gastric_fluid.samples.txt\n",
      "exchange_calculation.gastric_fluid-throat_swab.samples.txt\n",
      "aspiration_classifiers_exchanged_OTUs.throat_swab.samples.txt\n",
      "prevalence_calculation.bal-throat_swab.mbs_consolidated.samples.txt\n",
      "prevalence_calculation.gastric_fluid-throat_swab.mbs_consolidated.samples.txt\n",
      "figure1.overview_plots.samples.txt\n",
      "aspiration_classifiers.bal_throat_swab.samples.txt\n",
      "aspiration_classifiers.throat_swab.samples.txt\n"
     ]
    }
   ],
   "source": [
    "dirname = '../../data/patients/'\n",
    "files = os.listdir(dirname)\n",
    "\n",
    "files = [f for f in files if f.endswith('.samples.txt')]\n",
    "print('\\n'.join(files))\n",
    "files = [dirname + f for f in files]"
   ]
  },
  {
   "cell_type": "code",
   "execution_count": 3,
   "metadata": {},
   "outputs": [],
   "source": [
    "# Need metadata file to get subjects belonging to each sample\n",
    "fmeta = '../../data/clean/rosen.metadata.clean'\n",
    "meta = pd.read_csv(fmeta, sep='\\t', index_col=0)"
   ]
  },
  {
   "cell_type": "code",
   "execution_count": 4,
   "metadata": {},
   "outputs": [
    {
     "name": "stdout",
     "output_type": "stream",
     "text": [
      "prevalence_calculation.bal-gastric_fluid.mbs_consolidated\n",
      "aspiration_classifiers_exchanged_OTUs.gastric_fluid\n",
      "figure2.between_patient_jsd_2014_permanova\n",
      "exchange_calculation.bal-throat_swab\n",
      "figure2.2016_pcoa\n",
      "figure2.between_patient_jsd_2016_permanova\n",
      "figure3.site_classifiers\n",
      "aspiration_classifiers.bal\n",
      "aspiration_classifiers.gastric_fluid\n",
      "figure2.between_patient_jsd\n",
      "aspiration_classifiers_exchanged_OTUs.bal\n",
      "aspiration_classifiers_exchanged_OTUs.bal_throat_swab\n",
      "figure3.within_patient_beta_div\n",
      "exchange_calculation.bal-gastric_fluid\n",
      "figure2.2014_pcoa\n",
      "figure5.reflux_correlation\n",
      "figure4.asp_vs_nonasp_beta\n",
      "aspiration_classifiers_exchanged_OTUs.bal_gastric_fluid\n",
      "exchange_calculation.gastric_fluid-throat_swab\n",
      "aspiration_classifiers_exchanged_OTUs.throat_swab\n",
      "prevalence_calculation.bal-throat_swab.mbs_consolidated\n",
      "prevalence_calculation.gastric_fluid-throat_swab.mbs_consolidated\n",
      "figure1.overview_plots\n",
      "aspiration_classifiers.bal_throat_swab\n",
      "aspiration_classifiers.throat_swab\n"
     ]
    }
   ],
   "source": [
    "subj2site = {}\n",
    "subj2analysis = {}\n",
    "\n",
    "for f in files:\n",
    "    analysis_name = f.split(dirname)[1].split('.samples.txt')[0]\n",
    "    print(analysis_name)\n",
    "    df = pd.read_csv(f, names=[analysis_name])\n",
    "\n",
    "    # Add in subject ID and site labels\n",
    "    df = pd.merge(df, meta[['subject_id', 'site']], \n",
    "                  left_on=analysis_name, right_index=True, how='left')\n",
    "\n",
    "    # Update the dictionaries tracking sites and analyses done\n",
    "    # for each patient\n",
    "    for index, row in df.iterrows():\n",
    "        subj = row['subject_id']\n",
    "        site = row['site']\n",
    "\n",
    "        # Update subject to site map\n",
    "        if subj in subj2site:\n",
    "            if site not in subj2site[subj]:\n",
    "                subj2site[subj] += [site]\n",
    "        else:\n",
    "            subj2site[subj] = [site]\n",
    "\n",
    "        # Update subject to analysis map\n",
    "        if subj in subj2analysis:\n",
    "            if analysis_name not in subj2analysis[subj]:\n",
    "                subj2analysis[subj] += [analysis_name]\n",
    "        else:\n",
    "            subj2analysis[subj] = [analysis_name]"
   ]
  },
  {
   "cell_type": "code",
   "execution_count": 5,
   "metadata": {},
   "outputs": [
    {
     "name": "stdout",
     "output_type": "stream",
     "text": [
      "(222, 222)\n"
     ]
    }
   ],
   "source": [
    "print(len(subj2site), len(subj2analysis))"
   ]
  },
  {
   "cell_type": "markdown",
   "metadata": {},
   "source": [
    "## Concatenate to dataframes"
   ]
  },
  {
   "cell_type": "code",
   "execution_count": 6,
   "metadata": {},
   "outputs": [],
   "source": [
    "sitedf = pd.DataFrame(index=subj2site.keys(), columns=['bal', 'gastric_fluid', 'throat_swab', 'stool'])\n",
    "for subj in subj2site:\n",
    "    sitedf.loc[subj, subj2site[subj]] = True\n",
    "sitedf = sitedf.fillna(False)"
   ]
  },
  {
   "cell_type": "code",
   "execution_count": 14,
   "metadata": {},
   "outputs": [
    {
     "data": {
      "text/plain": [
       "site\n",
       "bal              102\n",
       "gastric_fluid    147\n",
       "stool             25\n",
       "throat_swab      176\n",
       "dtype: int64"
      ]
     },
     "execution_count": 14,
     "metadata": {},
     "output_type": "execute_result"
    }
   ],
   "source": [
    "sitedf.reset_index().melt(id_vars='index', var_name='site').query('value == True').groupby('site').size()"
   ]
  },
  {
   "cell_type": "code",
   "execution_count": 145,
   "metadata": {},
   "outputs": [],
   "source": [
    "# Manually order the analyses according to how they show up in the paper\n",
    "analyses = [\n",
    "    'figure1.overview_plots',\n",
    "    'figure2.2016_pcoa',\n",
    "    'figure2.2014_pcoa',\n",
    "    'figure2.between_patient_jsd_2016_permanova',\n",
    "    'figure2.between_patient_jsd_2014_permanova',\n",
    "    'figure2.between_patient_jsd',\n",
    "    'figure3.site_classifiers',\n",
    "    'figure3.within_patient_beta_div',\n",
    "\n",
    "    'figure4.asp_vs_nonasp_beta',\n",
    "    \n",
    "    'exchange_calculation.bal-throat_swab',\n",
    "    'exchange_calculation.bal-gastric_fluid',\n",
    "    'exchange_calculation.gastric_fluid-throat_swab',\n",
    "    \n",
    "    'prevalence_calculation.bal-gastric_fluid.mbs_consolidated',\n",
    "    'prevalence_calculation.bal-throat_swab.mbs_consolidated',\n",
    "    'prevalence_calculation.gastric_fluid-throat_swab.mbs_consolidated',\n",
    "\n",
    "    'aspiration_classifiers_exchanged_OTUs.bal',\n",
    "    'aspiration_classifiers_exchanged_OTUs.gastric_fluid',\n",
    "    'aspiration_classifiers_exchanged_OTUs.throat_swab',\n",
    "    'aspiration_classifiers_exchanged_OTUs.bal_gastric_fluid',\n",
    "    'aspiration_classifiers_exchanged_OTUs.bal_throat_swab',\n",
    "    \n",
    "    'aspiration_classifiers.bal',\n",
    "    'aspiration_classifiers.gastric_fluid',\n",
    "    'aspiration_classifiers.throat_swab',\n",
    "    'aspiration_classifiers.bal_throat_swab',\n",
    "    'aspiration_classifiers.bal_gastric_fluid',\n",
    "    'aspiration_classifiers.throat_swab_gastric_fluid',\n",
    "    'aspiration_classifiers.bal_throat_swab_gastric_fluid',\n",
    "\n",
    "    'figure5.reflux_correlation'\n",
    "]\n",
    "\n",
    "analysisdf = pd.DataFrame(index=subj2analysis.keys(),\n",
    "                          columns=analyses)\n",
    "for subj in subj2analysis:\n",
    "    analysisdf.loc[subj, subj2analysis[subj]] = True\n",
    "analysisdf = analysisdf.fillna(False)"
   ]
  },
  {
   "cell_type": "code",
   "execution_count": 158,
   "metadata": {},
   "outputs": [],
   "source": [
    "# Mostly for me: merge the analysis dataframe and patient dataframe\n",
    "site_and_analyses = pd.merge(sitedf, analysisdf, left_index=True, right_index=True)"
   ]
  },
  {
   "cell_type": "markdown",
   "metadata": {},
   "source": [
    "## Write to file\n",
    "\n",
    "TO DO: put this in the Makefile (dependencies should be the scripts that make the individual patient files), and make one of these final patient files the dependency. Also move the intermediate patient files to the analysis folder (not the final folder)."
   ]
  },
  {
   "cell_type": "code",
   "execution_count": 159,
   "metadata": {},
   "outputs": [],
   "source": [
    "sitedf.to_csv('../../final/supp_files/patients_with_sites_sampled.csv', sep=',')\n",
    "analysisdf.to_csv('../../final/supp_files/patients_used_in_each_analysis.csv', sep=',')\n",
    "site_and_analyses.to_csv('../../final/supp_files/combined_patient_site_and_analyses.csv', sep=',')"
   ]
  },
  {
   "cell_type": "markdown",
   "metadata": {},
   "source": [
    "# Visualize these patients\n",
    "\n",
    "Let's make some heatmaps to see which patients we have"
   ]
  },
  {
   "cell_type": "code",
   "execution_count": 125,
   "metadata": {},
   "outputs": [
    {
     "data": {
      "image/png": "[encoded data removed]",
      "text/plain": [
       "<Figure size 432x288 with 1 Axes>"
      ]
     },
     "metadata": {
      "needs_background": "light"
     },
     "output_type": "display_data"
    }
   ],
   "source": [
    "# Look at and sort patients by all sites\n",
    "plt.imshow(\n",
    "    sitedf.astype(int).sort_values(by=['bal', 'gastric_fluid', 'throat_swab', 'stool'], ascending=False),\n",
    "    aspect=0.04,\n",
    "    cmap=plt.get_cmap('copper')\n",
    "     )\n",
    "\n",
    "_ = plt.gca().set_xticks([0, 1, 2, 3])\n",
    "_ = plt.gca().set_xticklabels(sitedf.columns, rotation=90)"
   ]
  },
  {
   "cell_type": "code",
   "execution_count": 150,
   "metadata": {},
   "outputs": [
    {
     "data": {
      "text/plain": [
       "<matplotlib.image.AxesImage at 0x11e437cd0>"
      ]
     },
     "execution_count": 150,
     "metadata": {},
     "output_type": "execute_result"
    },
    {
     "data": {
      "image/png": "[encoded data removed]",
      "text/plain": [
       "<Figure size 432x288 with 1 Axes>"
      ]
     },
     "metadata": {
      "needs_background": "light"
     },
     "output_type": "display_data"
    }
   ],
   "source": [
    "# Sites and analyses\n",
    "\n",
    "plt.imshow(\n",
    "    site_and_analyses.astype(int).sort_values(by=['bal', 'gastric_fluid', 'throat_swab', 'stool'], ascending=False),\n",
    "    aspect=0.04,\n",
    "    cmap=plt.get_cmap('copper')\n",
    "     )"
   ]
  },
  {
   "cell_type": "code",
   "execution_count": null,
   "metadata": {},
   "outputs": [],
   "source": []
  }
 ],
 "metadata": {
  "anaconda-cloud": {},
  "kernelspec": {
   "display_name": "Python (aspiration)",
   "language": "python",
   "name": "aspiration"
  },
  "language_info": {
   "codemirror_mode": {
    "name": "ipython",
    "version": 2
   },
   "file_extension": ".py",
   "mimetype": "text/x-python",
   "name": "python",
   "nbconvert_exporter": "python",
   "pygments_lexer": "ipython2",
   "version": "2.7.15"
  }
 },
 "nbformat": 4,
 "nbformat_minor": 2
}
