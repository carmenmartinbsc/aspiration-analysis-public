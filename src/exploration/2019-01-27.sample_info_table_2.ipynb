{
 "cells": [
  {
   "cell_type": "markdown",
   "metadata": {},
   "source": [
    "This notebook makes Table 2 and Supplementary Table 2, which shows the number of patients with each combination of samples sequenced."
   ]
  },
  {
   "cell_type": "code",
   "execution_count": 8,
   "metadata": {},
   "outputs": [],
   "source": [
    "import pandas as pd"
   ]
  },
  {
   "cell_type": "code",
   "execution_count": 9,
   "metadata": {},
   "outputs": [
    {
     "data": {
      "text/html": [
       "<div>\n",
       "<style scoped>\n",
       "    .dataframe tbody tr th:only-of-type {\n",
       "        vertical-align: middle;\n",
       "    }\n",
       "\n",
       "    .dataframe tbody tr th {\n",
       "        vertical-align: top;\n",
       "    }\n",
       "\n",
       "    .dataframe thead th {\n",
       "        text-align: right;\n",
       "    }\n",
       "</style>\n",
       "<table border=\"1\" class=\"dataframe\">\n",
       "  <thead>\n",
       "    <tr style=\"text-align: right;\">\n",
       "      <th></th>\n",
       "      <th>subject</th>\n",
       "      <th>bal</th>\n",
       "      <th>gastric_fluid</th>\n",
       "      <th>throat_swab</th>\n",
       "      <th>stool</th>\n",
       "    </tr>\n",
       "  </thead>\n",
       "  <tbody>\n",
       "    <tr>\n",
       "      <th>0</th>\n",
       "      <td>04-080-7</td>\n",
       "      <td>True</td>\n",
       "      <td>True</td>\n",
       "      <td>True</td>\n",
       "      <td>False</td>\n",
       "    </tr>\n",
       "    <tr>\n",
       "      <th>1</th>\n",
       "      <td>01-299-7</td>\n",
       "      <td>False</td>\n",
       "      <td>False</td>\n",
       "      <td>True</td>\n",
       "      <td>False</td>\n",
       "    </tr>\n",
       "    <tr>\n",
       "      <th>2</th>\n",
       "      <td>04-167-8</td>\n",
       "      <td>False</td>\n",
       "      <td>True</td>\n",
       "      <td>False</td>\n",
       "      <td>False</td>\n",
       "    </tr>\n",
       "    <tr>\n",
       "      <th>3</th>\n",
       "      <td>04-087-1</td>\n",
       "      <td>True</td>\n",
       "      <td>True</td>\n",
       "      <td>True</td>\n",
       "      <td>False</td>\n",
       "    </tr>\n",
       "    <tr>\n",
       "      <th>4</th>\n",
       "      <td>042-6-F1</td>\n",
       "      <td>False</td>\n",
       "      <td>False</td>\n",
       "      <td>True</td>\n",
       "      <td>False</td>\n",
       "    </tr>\n",
       "  </tbody>\n",
       "</table>\n",
       "</div>"
      ],
      "text/plain": [
       "    subject    bal  gastric_fluid  throat_swab  stool\n",
       "0  04-080-7   True           True         True  False\n",
       "1  01-299-7  False          False         True  False\n",
       "2  04-167-8  False           True        False  False\n",
       "3  04-087-1   True           True         True  False\n",
       "4  042-6-F1  False          False         True  False"
      ]
     },
     "execution_count": 9,
     "metadata": {},
     "output_type": "execute_result"
    }
   ],
   "source": [
    "fname = '../../final/supp_files/patients_with_sites_sampled.csv'\n",
    "\n",
    "df = pd.read_csv(fname, index_col=0)\n",
    "df.index.name = 'subject'\n",
    "df = df.reset_index()\n",
    "df.head()"
   ]
  },
  {
   "cell_type": "code",
   "execution_count": 10,
   "metadata": {},
   "outputs": [],
   "source": [
    "tidydf = (\n",
    "    df\n",
    "     .melt(id_vars='subject', var_name='site')\n",
    "     .query('value == True')\n",
    ")"
   ]
  },
  {
   "cell_type": "code",
   "execution_count": 11,
   "metadata": {},
   "outputs": [],
   "source": [
    "subj2sites = {}\n",
    "for subj, subdf in tidydf.sort_values(by='site').groupby('subject'):\n",
    "    subj2sites[subj] = '-'.join(subdf['site'].values)"
   ]
  },
  {
   "cell_type": "code",
   "execution_count": 12,
   "metadata": {},
   "outputs": [
    {
     "data": {
      "text/html": [
       "<div>\n",
       "<style scoped>\n",
       "    .dataframe tbody tr th:only-of-type {\n",
       "        vertical-align: middle;\n",
       "    }\n",
       "\n",
       "    .dataframe tbody tr th {\n",
       "        vertical-align: top;\n",
       "    }\n",
       "\n",
       "    .dataframe thead th {\n",
       "        text-align: right;\n",
       "    }\n",
       "</style>\n",
       "<table border=\"1\" class=\"dataframe\">\n",
       "  <thead>\n",
       "    <tr style=\"text-align: right;\">\n",
       "      <th></th>\n",
       "      <th>sites</th>\n",
       "    </tr>\n",
       "  </thead>\n",
       "  <tbody>\n",
       "    <tr>\n",
       "      <th>01-112-7</th>\n",
       "      <td>gastric_fluid-throat_swab</td>\n",
       "    </tr>\n",
       "    <tr>\n",
       "      <th>01-164-7</th>\n",
       "      <td>gastric_fluid-throat_swab</td>\n",
       "    </tr>\n",
       "    <tr>\n",
       "      <th>01-165-8</th>\n",
       "      <td>stool</td>\n",
       "    </tr>\n",
       "    <tr>\n",
       "      <th>01-173-4</th>\n",
       "      <td>gastric_fluid-throat_swab</td>\n",
       "    </tr>\n",
       "    <tr>\n",
       "      <th>01-200-1</th>\n",
       "      <td>throat_swab</td>\n",
       "    </tr>\n",
       "  </tbody>\n",
       "</table>\n",
       "</div>"
      ],
      "text/plain": [
       "                              sites\n",
       "01-112-7  gastric_fluid-throat_swab\n",
       "01-164-7  gastric_fluid-throat_swab\n",
       "01-165-8                      stool\n",
       "01-173-4  gastric_fluid-throat_swab\n",
       "01-200-1                throat_swab"
      ]
     },
     "execution_count": 12,
     "metadata": {},
     "output_type": "execute_result"
    }
   ],
   "source": [
    "sitecombodf = pd.DataFrame(subj2sites, index=['sites']).T\n",
    "sitecombodf.head()"
   ]
  },
  {
   "cell_type": "markdown",
   "metadata": {},
   "source": [
    "# Patients will different site combinations"
   ]
  },
  {
   "cell_type": "code",
   "execution_count": 13,
   "metadata": {},
   "outputs": [
    {
     "data": {
      "text/plain": [
       "sites\n",
       "bal                               6\n",
       "bal-gastric_fluid                22\n",
       "bal-gastric_fluid-throat_swab    66\n",
       "bal-throat_swab                   7\n",
       "gastric_fluid                    12\n",
       "gastric_fluid-throat_swab        45\n",
       "stool                             5\n",
       "stool-throat_swab                20\n",
       "throat_swab                      37\n",
       "dtype: int64"
      ]
     },
     "execution_count": 13,
     "metadata": {},
     "output_type": "execute_result"
    }
   ],
   "source": [
    "sitecombodf.groupby('sites').size()"
   ]
  },
  {
   "cell_type": "code",
   "execution_count": 14,
   "metadata": {},
   "outputs": [
    {
     "data": {
      "text/plain": [
       "220"
      ]
     },
     "execution_count": 14,
     "metadata": {},
     "output_type": "execute_result"
    }
   ],
   "source": [
    "# Just checking I didn't mess anything up...\n",
    "sitecombodf.groupby('sites').size().sum()"
   ]
  },
  {
   "cell_type": "markdown",
   "metadata": {},
   "source": [
    "# Split by aspiration status\n",
    "\n",
    "For the supplementary table."
   ]
  },
  {
   "cell_type": "code",
   "execution_count": 15,
   "metadata": {},
   "outputs": [
    {
     "name": "stdout",
     "output_type": "stream",
     "text": [
      "(455, 958)\n",
      "(455, 958)\n"
     ]
    }
   ],
   "source": [
    "fmeta = '../../data/clean/rosen.metadata.clean'\n",
    "meta = pd.read_csv(fmeta, sep='\\t', index_col=0)\n",
    "\n",
    "print(meta.shape)\n",
    "keep_subjs = df['subject'].values.tolist()\n",
    "meta = meta.query('subject_id == @keep_subjs')\n",
    "print(meta.shape)"
   ]
  },
  {
   "cell_type": "code",
   "execution_count": 16,
   "metadata": {},
   "outputs": [
    {
     "name": "stdout",
     "output_type": "stream",
     "text": [
      "(220, 1)\n",
      "(220, 3)\n"
     ]
    },
    {
     "data": {
      "text/html": [
       "<div>\n",
       "<style scoped>\n",
       "    .dataframe tbody tr th:only-of-type {\n",
       "        vertical-align: middle;\n",
       "    }\n",
       "\n",
       "    .dataframe tbody tr th {\n",
       "        vertical-align: top;\n",
       "    }\n",
       "\n",
       "    .dataframe thead th {\n",
       "        text-align: right;\n",
       "    }\n",
       "</style>\n",
       "<table border=\"1\" class=\"dataframe\">\n",
       "  <thead>\n",
       "    <tr style=\"text-align: right;\">\n",
       "      <th></th>\n",
       "      <th>subject_id</th>\n",
       "      <th>mbs_consolidated</th>\n",
       "      <th>sites</th>\n",
       "    </tr>\n",
       "  </thead>\n",
       "  <tbody>\n",
       "    <tr>\n",
       "      <th>01-112-7GI</th>\n",
       "      <td>01-112-7</td>\n",
       "      <td>NaN</td>\n",
       "      <td>gastric_fluid-throat_swab</td>\n",
       "    </tr>\n",
       "    <tr>\n",
       "      <th>01-164-7GI</th>\n",
       "      <td>01-164-7</td>\n",
       "      <td>NaN</td>\n",
       "      <td>gastric_fluid-throat_swab</td>\n",
       "    </tr>\n",
       "    <tr>\n",
       "      <th>01-165-8SI</th>\n",
       "      <td>01-165-8</td>\n",
       "      <td>NaN</td>\n",
       "      <td>stool</td>\n",
       "    </tr>\n",
       "    <tr>\n",
       "      <th>01-173-4G</th>\n",
       "      <td>01-173-4</td>\n",
       "      <td>NaN</td>\n",
       "      <td>gastric_fluid-throat_swab</td>\n",
       "    </tr>\n",
       "    <tr>\n",
       "      <th>01-200-1TI</th>\n",
       "      <td>01-200-1</td>\n",
       "      <td>NaN</td>\n",
       "      <td>throat_swab</td>\n",
       "    </tr>\n",
       "  </tbody>\n",
       "</table>\n",
       "</div>"
      ],
      "text/plain": [
       "           subject_id mbs_consolidated                      sites\n",
       "01-112-7GI   01-112-7              NaN  gastric_fluid-throat_swab\n",
       "01-164-7GI   01-164-7              NaN  gastric_fluid-throat_swab\n",
       "01-165-8SI   01-165-8              NaN                      stool\n",
       "01-173-4G    01-173-4              NaN  gastric_fluid-throat_swab\n",
       "01-200-1TI   01-200-1              NaN                throat_swab"
      ]
     },
     "execution_count": 16,
     "metadata": {},
     "output_type": "execute_result"
    }
   ],
   "source": [
    "print(sitecombodf.shape)\n",
    "sitecombo_withasp = (\n",
    "    meta[['subject_id', 'mbs_consolidated']].drop_duplicates()\n",
    "        .join(sitecombodf, on='subject_id', how='left')\n",
    ")\n",
    "print(sitecombo_withasp.shape)\n",
    "sitecombo_withasp.head()"
   ]
  },
  {
   "cell_type": "code",
   "execution_count": 17,
   "metadata": {},
   "outputs": [
    {
     "data": {
      "text/plain": [
       "sites                          mbs_consolidated      \n",
       "bal                            Aspiration/Penetration     2\n",
       "                               Normal                     1\n",
       "                               not_tested                 3\n",
       "bal-gastric_fluid              Aspiration/Penetration     6\n",
       "                               Normal                     9\n",
       "                               not_tested                 7\n",
       "bal-gastric_fluid-throat_swab  Aspiration/Penetration    23\n",
       "                               Normal                    19\n",
       "                               not_tested                24\n",
       "bal-throat_swab                Aspiration/Penetration     2\n",
       "                               Normal                     4\n",
       "                               not_tested                 1\n",
       "gastric_fluid                  Aspiration/Penetration     3\n",
       "                               Normal                     4\n",
       "                               not_tested                 5\n",
       "gastric_fluid-throat_swab      Aspiration/Penetration     9\n",
       "                               Normal                    16\n",
       "                               not_tested                20\n",
       "stool                          not_tested                 5\n",
       "stool-throat_swab              not_tested                20\n",
       "throat_swab                    Aspiration/Penetration     2\n",
       "                               Normal                     4\n",
       "                               not_tested                31\n",
       "dtype: int64"
      ]
     },
     "execution_count": 17,
     "metadata": {},
     "output_type": "execute_result"
    }
   ],
   "source": [
    "\n",
    "sitecombo_withasp.fillna('not_tested').groupby(['sites', 'mbs_consolidated']).size()"
   ]
  },
  {
   "cell_type": "code",
   "execution_count": 18,
   "metadata": {},
   "outputs": [
    {
     "data": {
      "text/plain": [
       "mbs_consolidated\n",
       "Aspiration/Penetration     47\n",
       "Normal                     57\n",
       "not_tested                116\n",
       "dtype: int64"
      ]
     },
     "execution_count": 18,
     "metadata": {},
     "output_type": "execute_result"
    }
   ],
   "source": [
    "sitecombo_withasp.fillna('not_tested').groupby(['mbs_consolidated']).size()"
   ]
  },
  {
   "cell_type": "code",
   "execution_count": null,
   "metadata": {},
   "outputs": [],
   "source": []
  }
 ],
 "metadata": {
  "anaconda-cloud": {},
  "kernelspec": {
   "display_name": "Python (aspiration)",
   "language": "python",
   "name": "aspiration"
  },
  "language_info": {
   "codemirror_mode": {
    "name": "ipython",
    "version": 2
   },
   "file_extension": ".py",
   "mimetype": "text/x-python",
   "name": "python",
   "nbconvert_exporter": "python",
   "pygments_lexer": "ipython2",
   "version": "2.7.15"
  }
 },
 "nbformat": 4,
 "nbformat_minor": 2
}
