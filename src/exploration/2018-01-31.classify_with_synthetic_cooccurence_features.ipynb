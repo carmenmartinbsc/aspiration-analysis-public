{
 "cells": [
  {
   "cell_type": "markdown",
   "metadata": {},
   "source": [
    "The goal of this notebook is to explore multi-site classifiers with synthetic \"concordance\" features. i.e. features which explicitly encode whether or not an OTU is present in both sites, absent in both sites, or discordant.\n",
    "\n",
    "The motivation behind this is to explicitly encode the expected informative structure into the classifier, rather than hope that the RF will figure it out itself (which is probably not possible with only ~50 patients)"
   ]
  },
  {
   "cell_type": "code",
   "execution_count": 110,
   "metadata": {
    "collapsed": true
   },
   "outputs": [],
   "source": [
    "import pandas as pd\n",
    "import numpy as np\n",
    "\n",
    "from sklearn.ensemble import RandomForestClassifier\n",
    "from scipy.stats import fisher_exact\n",
    "\n",
    "%matplotlib inline"
   ]
  },
  {
   "cell_type": "code",
   "execution_count": 111,
   "metadata": {
    "collapsed": false
   },
   "outputs": [],
   "source": [
    "import os, sys\n",
    "src_dir = os.path.normpath(os.path.join(os.getcwd(), '../util'))\n",
    "sys.path.append(src_dir)\n",
    "import util"
   ]
  },
  {
   "cell_type": "markdown",
   "metadata": {},
   "source": [
    "# Load in data"
   ]
  },
  {
   "cell_type": "code",
   "execution_count": 112,
   "metadata": {
    "collapsed": false
   },
   "outputs": [
    {
     "data": {
      "text/plain": [
       "(586, 1578)"
      ]
     },
     "execution_count": 112,
     "metadata": {},
     "output_type": "execute_result"
    }
   ],
   "source": [
    "fotu = '../../data/clean/rosen.otu_table.rel_abun.clean'\n",
    "fmeta = '../../data/clean/rosen.metadata.clean'\n",
    "\n",
    "otu = pd.read_csv(fotu, sep='\\t', index_col=0)\n",
    "meta = pd.read_csv(fmeta, sep='\\t', index_col=0)\n",
    "otu.shape"
   ]
  },
  {
   "cell_type": "code",
   "execution_count": 113,
   "metadata": {
    "collapsed": false
   },
   "outputs": [
    {
     "data": {
      "text/html": [
       "<div>\n",
       "<style scoped>\n",
       "    .dataframe tbody tr th:only-of-type {\n",
       "        vertical-align: middle;\n",
       "    }\n",
       "\n",
       "    .dataframe tbody tr th {\n",
       "        vertical-align: top;\n",
       "    }\n",
       "\n",
       "    .dataframe thead th {\n",
       "        text-align: right;\n",
       "    }\n",
       "</style>\n",
       "<table border=\"1\" class=\"dataframe\">\n",
       "  <thead>\n",
       "    <tr style=\"text-align: right;\">\n",
       "      <th></th>\n",
       "      <th>otu</th>\n",
       "      <th>prevalence_exchange</th>\n",
       "      <th>meta_var</th>\n",
       "      <th>meta_val</th>\n",
       "      <th>site_comparison</th>\n",
       "      <th>n_patients</th>\n",
       "    </tr>\n",
       "  </thead>\n",
       "  <tbody>\n",
       "    <tr>\n",
       "      <th>0</th>\n",
       "      <td>k__Bacteria;p__;c__;o__;f__;g__;s__;d__denovo364</td>\n",
       "      <td>0.27</td>\n",
       "      <td>all_patients</td>\n",
       "      <td>all_patients</td>\n",
       "      <td>bal-gastric_fluid</td>\n",
       "      <td>100</td>\n",
       "    </tr>\n",
       "    <tr>\n",
       "      <th>1</th>\n",
       "      <td>k__Bacteria;p__Actinobacteria;c__Actinobacteri...</td>\n",
       "      <td>0.26</td>\n",
       "      <td>all_patients</td>\n",
       "      <td>all_patients</td>\n",
       "      <td>bal-gastric_fluid</td>\n",
       "      <td>100</td>\n",
       "    </tr>\n",
       "    <tr>\n",
       "      <th>2</th>\n",
       "      <td>k__Bacteria;p__Actinobacteria;c__Actinobacteri...</td>\n",
       "      <td>0.16</td>\n",
       "      <td>all_patients</td>\n",
       "      <td>all_patients</td>\n",
       "      <td>bal-gastric_fluid</td>\n",
       "      <td>100</td>\n",
       "    </tr>\n",
       "    <tr>\n",
       "      <th>3</th>\n",
       "      <td>k__Bacteria;p__Actinobacteria;c__Actinobacteri...</td>\n",
       "      <td>0.43</td>\n",
       "      <td>all_patients</td>\n",
       "      <td>all_patients</td>\n",
       "      <td>bal-gastric_fluid</td>\n",
       "      <td>100</td>\n",
       "    </tr>\n",
       "    <tr>\n",
       "      <th>4</th>\n",
       "      <td>k__Bacteria;p__Actinobacteria;c__Actinobacteri...</td>\n",
       "      <td>0.20</td>\n",
       "      <td>all_patients</td>\n",
       "      <td>all_patients</td>\n",
       "      <td>bal-gastric_fluid</td>\n",
       "      <td>100</td>\n",
       "    </tr>\n",
       "  </tbody>\n",
       "</table>\n",
       "</div>"
      ],
      "text/plain": [
       "                                                 otu  prevalence_exchange  \\\n",
       "0   k__Bacteria;p__;c__;o__;f__;g__;s__;d__denovo364                 0.27   \n",
       "1  k__Bacteria;p__Actinobacteria;c__Actinobacteri...                 0.26   \n",
       "2  k__Bacteria;p__Actinobacteria;c__Actinobacteri...                 0.16   \n",
       "3  k__Bacteria;p__Actinobacteria;c__Actinobacteri...                 0.43   \n",
       "4  k__Bacteria;p__Actinobacteria;c__Actinobacteri...                 0.20   \n",
       "\n",
       "       meta_var      meta_val    site_comparison  n_patients  \n",
       "0  all_patients  all_patients  bal-gastric_fluid         100  \n",
       "1  all_patients  all_patients  bal-gastric_fluid         100  \n",
       "2  all_patients  all_patients  bal-gastric_fluid         100  \n",
       "3  all_patients  all_patients  bal-gastric_fluid         100  \n",
       "4  all_patients  all_patients  bal-gastric_fluid         100  "
      ]
     },
     "execution_count": 113,
     "metadata": {},
     "output_type": "execute_result"
    }
   ],
   "source": [
    "fpreva = '../../data/analysis/prevalence.partial_corrs.nthresh10-qthresh01-rthresh0.txt'\n",
    "preva = pd.read_csv(fpreva, sep='\\t')\n",
    "preva.head()"
   ]
  },
  {
   "cell_type": "markdown",
   "metadata": {},
   "source": [
    "## Prepare lung-throat table"
   ]
  },
  {
   "cell_type": "code",
   "execution_count": 114,
   "metadata": {
    "collapsed": false
   },
   "outputs": [
    {
     "data": {
      "text/plain": [
       "(586, 13)"
      ]
     },
     "execution_count": 114,
     "metadata": {},
     "output_type": "execute_result"
    }
   ],
   "source": [
    "keepotus = preva\\\n",
    "    .query('meta_var == \"all_patients\"')\\\n",
    "    .query('site_comparison == \"bal-throat_swab\"')\\\n",
    "    ['otu']\\\n",
    "    .unique()\n",
    "\n",
    "otu = otu[keepotus]\n",
    "otu.shape"
   ]
  },
  {
   "cell_type": "code",
   "execution_count": 115,
   "metadata": {
    "collapsed": false
   },
   "outputs": [
    {
     "data": {
      "text/plain": [
       "1"
      ]
     },
     "execution_count": 115,
     "metadata": {},
     "output_type": "execute_result"
    }
   ],
   "source": [
    "mbs_col = 'mbs_consolidated'\n",
    "\n",
    "# Check that each aspiration patient has only one sample per site\n",
    "meta.dropna(subset=[mbs_col]).groupby(['subject_id', 'site']).size().max()"
   ]
  },
  {
   "cell_type": "code",
   "execution_count": 116,
   "metadata": {
    "collapsed": false
   },
   "outputs": [
    {
     "name": "stdout",
     "output_type": "stream",
     "text": [
      "Tidying data... \n",
      "Finished.\n"
     ]
    },
    {
     "data": {
      "text/html": [
       "<div>\n",
       "<style scoped>\n",
       "    .dataframe tbody tr th:only-of-type {\n",
       "        vertical-align: middle;\n",
       "    }\n",
       "\n",
       "    .dataframe tbody tr th {\n",
       "        vertical-align: top;\n",
       "    }\n",
       "\n",
       "    .dataframe thead th {\n",
       "        text-align: right;\n",
       "    }\n",
       "</style>\n",
       "<table border=\"1\" class=\"dataframe\">\n",
       "  <thead>\n",
       "    <tr style=\"text-align: right;\">\n",
       "      <th></th>\n",
       "      <th>sample</th>\n",
       "      <th>otu</th>\n",
       "      <th>abun</th>\n",
       "      <th>mbs_consolidated</th>\n",
       "      <th>site</th>\n",
       "      <th>subject_id</th>\n",
       "      <th>ppi_consolidated</th>\n",
       "      <th>otu_w_site</th>\n",
       "    </tr>\n",
       "  </thead>\n",
       "  <tbody>\n",
       "    <tr>\n",
       "      <th>35</th>\n",
       "      <td>02-096-6G</td>\n",
       "      <td>k__Bacteria;p__Actinobacteria;c__Actinobacteri...</td>\n",
       "      <td>0.0</td>\n",
       "      <td>Normal</td>\n",
       "      <td>gastric_fluid</td>\n",
       "      <td>02-096-6</td>\n",
       "      <td>off</td>\n",
       "      <td>k__Bacteria;p__Actinobacteria;c__Actinobacteri...</td>\n",
       "    </tr>\n",
       "    <tr>\n",
       "      <th>621</th>\n",
       "      <td>02-096-6G</td>\n",
       "      <td>k__Bacteria;p__Bacteroidetes;c__Bacteroidia;o_...</td>\n",
       "      <td>0.0</td>\n",
       "      <td>Normal</td>\n",
       "      <td>gastric_fluid</td>\n",
       "      <td>02-096-6</td>\n",
       "      <td>off</td>\n",
       "      <td>k__Bacteria;p__Bacteroidetes;c__Bacteroidia;o_...</td>\n",
       "    </tr>\n",
       "    <tr>\n",
       "      <th>1207</th>\n",
       "      <td>02-096-6G</td>\n",
       "      <td>k__Bacteria;p__Bacteroidetes;c__Bacteroidia;o_...</td>\n",
       "      <td>0.0</td>\n",
       "      <td>Normal</td>\n",
       "      <td>gastric_fluid</td>\n",
       "      <td>02-096-6</td>\n",
       "      <td>off</td>\n",
       "      <td>k__Bacteria;p__Bacteroidetes;c__Bacteroidia;o_...</td>\n",
       "    </tr>\n",
       "    <tr>\n",
       "      <th>1793</th>\n",
       "      <td>02-096-6G</td>\n",
       "      <td>k__Bacteria;p__Bacteroidetes;c__Flavobacteriia...</td>\n",
       "      <td>0.0</td>\n",
       "      <td>Normal</td>\n",
       "      <td>gastric_fluid</td>\n",
       "      <td>02-096-6</td>\n",
       "      <td>off</td>\n",
       "      <td>k__Bacteria;p__Bacteroidetes;c__Flavobacteriia...</td>\n",
       "    </tr>\n",
       "    <tr>\n",
       "      <th>2379</th>\n",
       "      <td>02-096-6G</td>\n",
       "      <td>k__Bacteria;p__Firmicutes;c__Bacilli;o__Lactob...</td>\n",
       "      <td>0.0</td>\n",
       "      <td>Normal</td>\n",
       "      <td>gastric_fluid</td>\n",
       "      <td>02-096-6</td>\n",
       "      <td>off</td>\n",
       "      <td>k__Bacteria;p__Firmicutes;c__Bacilli;o__Lactob...</td>\n",
       "    </tr>\n",
       "  </tbody>\n",
       "</table>\n",
       "</div>"
      ],
      "text/plain": [
       "         sample                                                otu  abun  \\\n",
       "35    02-096-6G  k__Bacteria;p__Actinobacteria;c__Actinobacteri...   0.0   \n",
       "621   02-096-6G  k__Bacteria;p__Bacteroidetes;c__Bacteroidia;o_...   0.0   \n",
       "1207  02-096-6G  k__Bacteria;p__Bacteroidetes;c__Bacteroidia;o_...   0.0   \n",
       "1793  02-096-6G  k__Bacteria;p__Bacteroidetes;c__Flavobacteriia...   0.0   \n",
       "2379  02-096-6G  k__Bacteria;p__Firmicutes;c__Bacilli;o__Lactob...   0.0   \n",
       "\n",
       "     mbs_consolidated           site subject_id ppi_consolidated  \\\n",
       "35             Normal  gastric_fluid   02-096-6              off   \n",
       "621            Normal  gastric_fluid   02-096-6              off   \n",
       "1207           Normal  gastric_fluid   02-096-6              off   \n",
       "1793           Normal  gastric_fluid   02-096-6              off   \n",
       "2379           Normal  gastric_fluid   02-096-6              off   \n",
       "\n",
       "                                             otu_w_site  \n",
       "35    k__Bacteria;p__Actinobacteria;c__Actinobacteri...  \n",
       "621   k__Bacteria;p__Bacteroidetes;c__Bacteroidia;o_...  \n",
       "1207  k__Bacteria;p__Bacteroidetes;c__Bacteroidia;o_...  \n",
       "1793  k__Bacteria;p__Bacteroidetes;c__Flavobacteriia...  \n",
       "2379  k__Bacteria;p__Firmicutes;c__Bacilli;o__Lactob...  "
      ]
     },
     "execution_count": 116,
     "metadata": {},
     "output_type": "execute_result"
    }
   ],
   "source": [
    "meta = meta.dropna(subset=[mbs_col])\n",
    "\n",
    "tidydf = util.tidyfy_otu(otu, meta, mbs_col, cols=['ppi_consolidated'])\n",
    "tidydf.head()"
   ]
  },
  {
   "cell_type": "code",
   "execution_count": 117,
   "metadata": {
    "collapsed": false
   },
   "outputs": [],
   "source": [
    "def make_concordance_df(site1, site2):\n",
    "    ## Get subjects with both sites\n",
    "    tmp = tidydf\\\n",
    "        .query('(site == @site1) | (site == @site2)')\\\n",
    "        .groupby(['subject_id', 'otu'])\\\n",
    "        .size()\n",
    "    tmp = tmp[tmp == 2].reset_index()\n",
    "\n",
    "    subjs = tmp['subject_id'].unique().tolist()\n",
    "\n",
    "    ## Make separate BAL and throat dataframes\n",
    "    bal = tidydf\\\n",
    "        .query('site == @site1')\\\n",
    "        .query('subject_id == @subjs')\\\n",
    "        .pivot(index='subject_id', columns='otu_w_site',\n",
    "               values='abun')\n",
    "\n",
    "    thr = tidydf\\\n",
    "        .query('site == @site2')\\\n",
    "        .query('subject_id == @subjs')\\\n",
    "        .pivot(index='subject_id', columns='otu_w_site',\n",
    "               values='abun')\n",
    "\n",
    "    ## Even though pandas should have done this already, double-make-sure\n",
    "    ## that rows and columns match\n",
    "    # Remove site label appended to OTUs\n",
    "    bal.columns = [c.split('--')[0] for c in bal.columns]\n",
    "    thr.columns = [c.split('--')[0] for c in thr.columns]\n",
    "    # Re-order bal so it matches thr\n",
    "    bal = bal.loc[thr.index, thr.columns]\n",
    "    \n",
    "    # Get concordance values: if both are greater than 0 OR both are 0, returns 1. Otherwise 0\n",
    "    concordance = ((bal > 0) == (thr > 0)).astype(int)\n",
    "\n",
    "    return concordance"
   ]
  },
  {
   "cell_type": "markdown",
   "metadata": {},
   "source": [
    "## Classify!"
   ]
  },
  {
   "cell_type": "code",
   "execution_count": 118,
   "metadata": {
    "collapsed": false
   },
   "outputs": [],
   "source": [
    "# Define some global vars\n",
    "tmp = meta[['subject_id', 'mbs_consolidated']].drop_duplicates()\n",
    "# metadict has {subject_id: aspiration_status}\n",
    "metadict = dict(zip(tmp['subject_id'].values, tmp['mbs_consolidated'].values))\n",
    "aspdict = {'Normal': 0, 'Aspiration/Penetration': 1}\n",
    "random_state = 123456"
   ]
  },
  {
   "cell_type": "code",
   "execution_count": 119,
   "metadata": {
    "collapsed": false
   },
   "outputs": [],
   "source": [
    "## Classify!\n",
    "site1 = 'bal'\n",
    "site2 = 'throat_swab'\n",
    "concordance = make_concordance_df(site1, site2)\n",
    "X = concordance.values\n",
    "Y = [aspdict[metadict[s]] for s in concordance.index]"
   ]
  },
  {
   "cell_type": "code",
   "execution_count": 120,
   "metadata": {
    "collapsed": false
   },
   "outputs": [],
   "source": [
    "rf = RandomForestClassifier(n_estimators=1000, random_state=random_state)\n",
    "\n",
    "results = util.cv_and_roc(rf, X, Y, random_state=random_state)"
   ]
  },
  {
   "cell_type": "code",
   "execution_count": 121,
   "metadata": {
    "collapsed": false
   },
   "outputs": [
    {
     "name": "stdout",
     "output_type": "stream",
     "text": [
      "('bal', 'throat_swab')\n",
      "0.736\n",
      "(4.3174603174603172, 0.022241295691722476)\n"
     ]
    },
    {
     "data": {
      "text/html": [
       "<div>\n",
       "<style scoped>\n",
       "    .dataframe tbody tr th:only-of-type {\n",
       "        vertical-align: middle;\n",
       "    }\n",
       "\n",
       "    .dataframe tbody tr th {\n",
       "        vertical-align: top;\n",
       "    }\n",
       "\n",
       "    .dataframe thead th {\n",
       "        text-align: right;\n",
       "    }\n",
       "</style>\n",
       "<table border=\"1\" class=\"dataframe\">\n",
       "  <thead>\n",
       "    <tr style=\"text-align: right;\">\n",
       "      <th></th>\n",
       "      <th>pred 0</th>\n",
       "      <th>pred 1</th>\n",
       "    </tr>\n",
       "  </thead>\n",
       "  <tbody>\n",
       "    <tr>\n",
       "      <th>true 0</th>\n",
       "      <td>17</td>\n",
       "      <td>7</td>\n",
       "    </tr>\n",
       "    <tr>\n",
       "      <th>true 1</th>\n",
       "      <td>9</td>\n",
       "      <td>16</td>\n",
       "    </tr>\n",
       "  </tbody>\n",
       "</table>\n",
       "</div>"
      ],
      "text/plain": [
       "        pred 0  pred 1\n",
       "true 0      17       7\n",
       "true 1       9      16"
      ]
     },
     "execution_count": 121,
     "metadata": {},
     "output_type": "execute_result"
    },
    {
     "data": {
      "image/png": "[encoded data removed]",
      "text/plain": [
       "<matplotlib.figure.Figure at 0x1140b2890>"
      ]
     },
     "metadata": {},
     "output_type": "display_data"
    }
   ],
   "source": [
    "print(site1, site2)\n",
    "print(np.mean(results['auc_list']))\n",
    "util.plot_auc_from_list(results['tpr_list'], results['mean_fpr'])\n",
    "print(fisher_exact(results['conf_mat']))\n",
    "results['conf_mat']"
   ]
  },
  {
   "cell_type": "markdown",
   "metadata": {},
   "source": [
    "## Lung-gastric"
   ]
  },
  {
   "cell_type": "code",
   "execution_count": 122,
   "metadata": {
    "collapsed": false
   },
   "outputs": [
    {
     "name": "stdout",
     "output_type": "stream",
     "text": [
      "(586, 1578)\n",
      "(586, 75)\n",
      "Tidying data... \n",
      "Finished.\n"
     ]
    }
   ],
   "source": [
    "fotu = '../../data/clean/rosen.otu_table.rel_abun.clean'\n",
    "otu = pd.read_csv(fotu, sep='\\t', index_col=0)\n",
    "print(otu.shape)\n",
    "keepotus = preva\\\n",
    "    .query('meta_var == \"all_patients\"')\\\n",
    "    .query('site_comparison == \"bal-gastric_fluid\"')\\\n",
    "    ['otu']\\\n",
    "    .unique()\n",
    "otu = otu[keepotus]\n",
    "print(otu.shape)\n",
    "tidydf = util.tidyfy_otu(otu, meta, mbs_col, cols=['ppi_consolidated'])"
   ]
  },
  {
   "cell_type": "code",
   "execution_count": 123,
   "metadata": {
    "collapsed": true
   },
   "outputs": [],
   "source": [
    "site1 = 'bal'\n",
    "site2 = 'gastric_fluid'\n",
    "concordance = make_concordance_df(site1, site2)\n",
    "X = concordance.values\n",
    "Y = [aspdict[metadict[s]] for s in concordance.index]"
   ]
  },
  {
   "cell_type": "code",
   "execution_count": 124,
   "metadata": {
    "collapsed": true
   },
   "outputs": [],
   "source": [
    "rf = RandomForestClassifier(n_estimators=1000, random_state=random_state)\n",
    "\n",
    "results = util.cv_and_roc(rf, X, Y, random_state=random_state)"
   ]
  },
  {
   "cell_type": "code",
   "execution_count": 125,
   "metadata": {
    "collapsed": false
   },
   "outputs": [
    {
     "name": "stdout",
     "output_type": "stream",
     "text": [
      "0.56\n",
      "(0.93333333333333335, 1.0)\n"
     ]
    },
    {
     "data": {
      "text/html": [
       "<div>\n",
       "<style scoped>\n",
       "    .dataframe tbody tr th:only-of-type {\n",
       "        vertical-align: middle;\n",
       "    }\n",
       "\n",
       "    .dataframe tbody tr th {\n",
       "        vertical-align: top;\n",
       "    }\n",
       "\n",
       "    .dataframe thead th {\n",
       "        text-align: right;\n",
       "    }\n",
       "</style>\n",
       "<table border=\"1\" class=\"dataframe\">\n",
       "  <thead>\n",
       "    <tr style=\"text-align: right;\">\n",
       "      <th></th>\n",
       "      <th>pred 0</th>\n",
       "      <th>pred 1</th>\n",
       "    </tr>\n",
       "  </thead>\n",
       "  <tbody>\n",
       "    <tr>\n",
       "      <th>true 0</th>\n",
       "      <td>15</td>\n",
       "      <td>15</td>\n",
       "    </tr>\n",
       "    <tr>\n",
       "      <th>true 1</th>\n",
       "      <td>15</td>\n",
       "      <td>14</td>\n",
       "    </tr>\n",
       "  </tbody>\n",
       "</table>\n",
       "</div>"
      ],
      "text/plain": [
       "        pred 0  pred 1\n",
       "true 0      15      15\n",
       "true 1      15      14"
      ]
     },
     "execution_count": 125,
     "metadata": {},
     "output_type": "execute_result"
    },
    {
     "data": {
      "image/png": "[encoded data removed]",
      "text/plain": [
       "<matplotlib.figure.Figure at 0x10f5047d0>"
      ]
     },
     "metadata": {},
     "output_type": "display_data"
    }
   ],
   "source": [
    "util.plot_auc_from_list(results['tpr_list'], results['mean_fpr'])\n",
    "print(np.mean(results['auc_list']))\n",
    "print(fisher_exact(results['conf_mat']))\n",
    "results['conf_mat']"
   ]
  },
  {
   "cell_type": "markdown",
   "metadata": {},
   "source": [
    "## Throat-gastric"
   ]
  },
  {
   "cell_type": "code",
   "execution_count": 126,
   "metadata": {
    "collapsed": false
   },
   "outputs": [
    {
     "name": "stdout",
     "output_type": "stream",
     "text": [
      "(586, 1578)\n",
      "(586, 122)\n",
      "Tidying data... \n",
      "Finished.\n"
     ]
    }
   ],
   "source": [
    "fotu = '../../data/clean/rosen.otu_table.rel_abun.clean'\n",
    "otu = pd.read_csv(fotu, sep='\\t', index_col=0)\n",
    "print(otu.shape)\n",
    "keepotus = preva\\\n",
    "    .query('meta_var == \"all_patients\"')\\\n",
    "    .query('site_comparison == \"gastric_fluid-throat_swab\"')\\\n",
    "    ['otu']\\\n",
    "    .unique()\n",
    "otu = otu[keepotus]\n",
    "print(otu.shape)\n",
    "tidydf = util.tidyfy_otu(otu, meta, mbs_col, cols=['ppi_consolidated'])"
   ]
  },
  {
   "cell_type": "code",
   "execution_count": 127,
   "metadata": {
    "collapsed": true
   },
   "outputs": [],
   "source": [
    "site1 = 'throat_swab'\n",
    "site2 = 'gastric_fluid'\n",
    "concordance = make_concordance_df(site1, site2)\n",
    "X = concordance.values\n",
    "Y = [aspdict[metadict[s]] for s in concordance.index]"
   ]
  },
  {
   "cell_type": "code",
   "execution_count": 128,
   "metadata": {
    "collapsed": true
   },
   "outputs": [],
   "source": [
    "rf = RandomForestClassifier(n_estimators=1000, random_state=random_state)\n",
    "\n",
    "results = util.cv_and_roc(rf, X, Y, random_state=random_state)"
   ]
  },
  {
   "cell_type": "code",
   "execution_count": 129,
   "metadata": {
    "collapsed": false
   },
   "outputs": [
    {
     "name": "stdout",
     "output_type": "stream",
     "text": [
      "('throat_swab', 'gastric_fluid')\n",
      "0.502210884354\n",
      "(1.0109890109890109, 1.0)\n"
     ]
    },
    {
     "data": {
      "text/html": [
       "<div>\n",
       "<style scoped>\n",
       "    .dataframe tbody tr th:only-of-type {\n",
       "        vertical-align: middle;\n",
       "    }\n",
       "\n",
       "    .dataframe tbody tr th {\n",
       "        vertical-align: top;\n",
       "    }\n",
       "\n",
       "    .dataframe thead th {\n",
       "        text-align: right;\n",
       "    }\n",
       "</style>\n",
       "<table border=\"1\" class=\"dataframe\">\n",
       "  <thead>\n",
       "    <tr style=\"text-align: right;\">\n",
       "      <th></th>\n",
       "      <th>pred 0</th>\n",
       "      <th>pred 1</th>\n",
       "    </tr>\n",
       "  </thead>\n",
       "  <tbody>\n",
       "    <tr>\n",
       "      <th>true 0</th>\n",
       "      <td>23</td>\n",
       "      <td>13</td>\n",
       "    </tr>\n",
       "    <tr>\n",
       "      <th>true 1</th>\n",
       "      <td>21</td>\n",
       "      <td>12</td>\n",
       "    </tr>\n",
       "  </tbody>\n",
       "</table>\n",
       "</div>"
      ],
      "text/plain": [
       "        pred 0  pred 1\n",
       "true 0      23      13\n",
       "true 1      21      12"
      ]
     },
     "execution_count": 129,
     "metadata": {},
     "output_type": "execute_result"
    },
    {
     "data": {
      "image/png": "[encoded data removed]",
      "text/plain": [
       "<matplotlib.figure.Figure at 0x113ffa990>"
      ]
     },
     "metadata": {},
     "output_type": "display_data"
    }
   ],
   "source": [
    "print(site1, site2)\n",
    "print(np.mean(results['auc_list']))\n",
    "util.plot_auc_from_list(results['tpr_list'], results['mean_fpr'])\n",
    "print(fisher_exact(results['conf_mat']))\n",
    "results['conf_mat']"
   ]
  },
  {
   "cell_type": "markdown",
   "metadata": {},
   "source": [
    "# Classifiers based on entire community\n",
    "\n",
    "Not just exchanged OTUs. But let's still consider concordance. Question we're trying to answer is: are these bugs specific biomarkers, or will some subset do?\n",
    "\n",
    "These classifiers should work at least as well as the ones above (well, except that the ones above were limited to patients with both sites sequenced, so maybe not...)"
   ]
  },
  {
   "cell_type": "code",
   "execution_count": 130,
   "metadata": {
    "collapsed": false
   },
   "outputs": [
    {
     "name": "stdout",
     "output_type": "stream",
     "text": [
      "Tidying data... \n",
      "Finished.\n"
     ]
    }
   ],
   "source": [
    "fotu = '../../data/clean/rosen.otu_table.rel_abun.clean'\n",
    "otu = pd.read_csv(fotu, sep='\\t', index_col=0)\n",
    "\n",
    "tidydf = util.tidyfy_otu(otu, meta, mbs_col, cols=['ppi_consolidated'])"
   ]
  },
  {
   "cell_type": "code",
   "execution_count": 131,
   "metadata": {
    "collapsed": true
   },
   "outputs": [],
   "source": [
    "site1 = 'bal'\n",
    "site2 = 'throat_swab'\n",
    "concordance = make_concordance_df(site1, site2)\n",
    "X = concordance.values\n",
    "Y = [aspdict[metadict[s]] for s in concordance.index]"
   ]
  },
  {
   "cell_type": "code",
   "execution_count": 132,
   "metadata": {
    "collapsed": false
   },
   "outputs": [],
   "source": [
    "rf = RandomForestClassifier(n_estimators=1000, random_state=random_state)\n",
    "\n",
    "results = util.cv_and_roc(rf, X, Y, random_state=random_state)"
   ]
  },
  {
   "cell_type": "code",
   "execution_count": 133,
   "metadata": {
    "collapsed": false
   },
   "outputs": [
    {
     "name": "stdout",
     "output_type": "stream",
     "text": [
      "('bal', 'throat_swab')\n",
      "0.73\n",
      "(5.333333333333333, 0.009595048587550864)\n"
     ]
    },
    {
     "data": {
      "text/html": [
       "<div>\n",
       "<style scoped>\n",
       "    .dataframe tbody tr th:only-of-type {\n",
       "        vertical-align: middle;\n",
       "    }\n",
       "\n",
       "    .dataframe tbody tr th {\n",
       "        vertical-align: top;\n",
       "    }\n",
       "\n",
       "    .dataframe thead th {\n",
       "        text-align: right;\n",
       "    }\n",
       "</style>\n",
       "<table border=\"1\" class=\"dataframe\">\n",
       "  <thead>\n",
       "    <tr style=\"text-align: right;\">\n",
       "      <th></th>\n",
       "      <th>pred 0</th>\n",
       "      <th>pred 1</th>\n",
       "    </tr>\n",
       "  </thead>\n",
       "  <tbody>\n",
       "    <tr>\n",
       "      <th>true 0</th>\n",
       "      <td>18</td>\n",
       "      <td>6</td>\n",
       "    </tr>\n",
       "    <tr>\n",
       "      <th>true 1</th>\n",
       "      <td>9</td>\n",
       "      <td>16</td>\n",
       "    </tr>\n",
       "  </tbody>\n",
       "</table>\n",
       "</div>"
      ],
      "text/plain": [
       "        pred 0  pred 1\n",
       "true 0      18       6\n",
       "true 1       9      16"
      ]
     },
     "execution_count": 133,
     "metadata": {},
     "output_type": "execute_result"
    },
    {
     "data": {
      "image/png": "[encoded data removed]",
      "text/plain": [
       "<matplotlib.figure.Figure at 0x111844a50>"
      ]
     },
     "metadata": {},
     "output_type": "display_data"
    }
   ],
   "source": [
    "print(site1, site2)\n",
    "print(np.mean(results['auc_list']))\n",
    "util.plot_auc_from_list(results['tpr_list'], results['mean_fpr'])\n",
    "print(fisher_exact(results['conf_mat']))\n",
    "results['conf_mat']"
   ]
  },
  {
   "cell_type": "code",
   "execution_count": 134,
   "metadata": {
    "collapsed": true
   },
   "outputs": [],
   "source": [
    "site1 = 'bal'\n",
    "site2 = 'gastric_fluid'\n",
    "concordance = make_concordance_df(site1, site2)\n",
    "X = concordance.values\n",
    "Y = [aspdict[metadict[s]] for s in concordance.index]"
   ]
  },
  {
   "cell_type": "code",
   "execution_count": 135,
   "metadata": {
    "collapsed": true
   },
   "outputs": [],
   "source": [
    "rf = RandomForestClassifier(n_estimators=1000, random_state=random_state)\n",
    "\n",
    "results = util.cv_and_roc(rf, X, Y, random_state=random_state)"
   ]
  },
  {
   "cell_type": "code",
   "execution_count": 136,
   "metadata": {
    "collapsed": false
   },
   "outputs": [
    {
     "name": "stdout",
     "output_type": "stream",
     "text": [
      "('bal', 'gastric_fluid')\n",
      "0.656111111111\n",
      "(3.3846153846153846, 0.035217385694921582)\n"
     ]
    },
    {
     "data": {
      "text/html": [
       "<div>\n",
       "<style scoped>\n",
       "    .dataframe tbody tr th:only-of-type {\n",
       "        vertical-align: middle;\n",
       "    }\n",
       "\n",
       "    .dataframe tbody tr th {\n",
       "        vertical-align: top;\n",
       "    }\n",
       "\n",
       "    .dataframe thead th {\n",
       "        text-align: right;\n",
       "    }\n",
       "</style>\n",
       "<table border=\"1\" class=\"dataframe\">\n",
       "  <thead>\n",
       "    <tr style=\"text-align: right;\">\n",
       "      <th></th>\n",
       "      <th>pred 0</th>\n",
       "      <th>pred 1</th>\n",
       "    </tr>\n",
       "  </thead>\n",
       "  <tbody>\n",
       "    <tr>\n",
       "      <th>true 0</th>\n",
       "      <td>22</td>\n",
       "      <td>8</td>\n",
       "    </tr>\n",
       "    <tr>\n",
       "      <th>true 1</th>\n",
       "      <td>13</td>\n",
       "      <td>16</td>\n",
       "    </tr>\n",
       "  </tbody>\n",
       "</table>\n",
       "</div>"
      ],
      "text/plain": [
       "        pred 0  pred 1\n",
       "true 0      22       8\n",
       "true 1      13      16"
      ]
     },
     "execution_count": 136,
     "metadata": {},
     "output_type": "execute_result"
    },
    {
     "data": {
      "image/png": "[encoded data removed]",
      "text/plain": [
       "<matplotlib.figure.Figure at 0x1140a3cd0>"
      ]
     },
     "metadata": {},
     "output_type": "display_data"
    }
   ],
   "source": [
    "print(site1, site2)\n",
    "print(np.mean(results['auc_list']))\n",
    "util.plot_auc_from_list(results['tpr_list'], results['mean_fpr'])\n",
    "print(fisher_exact(results['conf_mat']))\n",
    "results['conf_mat']"
   ]
  },
  {
   "cell_type": "code",
   "execution_count": 137,
   "metadata": {
    "collapsed": true
   },
   "outputs": [],
   "source": [
    "site1 = 'throat_swab'\n",
    "site2 = 'gastric_fluid'\n",
    "concordance = make_concordance_df(site1, site2)\n",
    "X = concordance.values\n",
    "Y = [aspdict[metadict[s]] for s in concordance.index]"
   ]
  },
  {
   "cell_type": "code",
   "execution_count": 138,
   "metadata": {
    "collapsed": true
   },
   "outputs": [],
   "source": [
    "rf = RandomForestClassifier(n_estimators=1000, random_state=random_state)\n",
    "\n",
    "results = util.cv_and_roc(rf, X, Y, random_state=random_state)"
   ]
  },
  {
   "cell_type": "code",
   "execution_count": 139,
   "metadata": {
    "collapsed": false
   },
   "outputs": [
    {
     "name": "stdout",
     "output_type": "stream",
     "text": [
      "('throat_swab', 'gastric_fluid')\n",
      "0.72074829932\n",
      "(5.9800000000000004, 0.00070136405099212925)\n"
     ]
    },
    {
     "data": {
      "text/html": [
       "<div>\n",
       "<style scoped>\n",
       "    .dataframe tbody tr th:only-of-type {\n",
       "        vertical-align: middle;\n",
       "    }\n",
       "\n",
       "    .dataframe tbody tr th {\n",
       "        vertical-align: top;\n",
       "    }\n",
       "\n",
       "    .dataframe thead th {\n",
       "        text-align: right;\n",
       "    }\n",
       "</style>\n",
       "<table border=\"1\" class=\"dataframe\">\n",
       "  <thead>\n",
       "    <tr style=\"text-align: right;\">\n",
       "      <th></th>\n",
       "      <th>pred 0</th>\n",
       "      <th>pred 1</th>\n",
       "    </tr>\n",
       "  </thead>\n",
       "  <tbody>\n",
       "    <tr>\n",
       "      <th>true 0</th>\n",
       "      <td>26</td>\n",
       "      <td>10</td>\n",
       "    </tr>\n",
       "    <tr>\n",
       "      <th>true 1</th>\n",
       "      <td>10</td>\n",
       "      <td>23</td>\n",
       "    </tr>\n",
       "  </tbody>\n",
       "</table>\n",
       "</div>"
      ],
      "text/plain": [
       "        pred 0  pred 1\n",
       "true 0      26      10\n",
       "true 1      10      23"
      ]
     },
     "execution_count": 139,
     "metadata": {},
     "output_type": "execute_result"
    },
    {
     "data": {
      "image/png": "[encoded data removed]",
      "text/plain": [
       "<matplotlib.figure.Figure at 0x113283d90>"
      ]
     },
     "metadata": {},
     "output_type": "display_data"
    }
   ],
   "source": [
    "print(site1, site2)\n",
    "print(np.mean(results['auc_list']))\n",
    "util.plot_auc_from_list(results['tpr_list'], results['mean_fpr'])\n",
    "print(fisher_exact(results['conf_mat']))\n",
    "results['conf_mat']"
   ]
  },
  {
   "cell_type": "code",
   "execution_count": null,
   "metadata": {
    "collapsed": true
   },
   "outputs": [],
   "source": []
  }
 ],
 "metadata": {
  "kernelspec": {
   "display_name": "Python [default]",
   "language": "python",
   "name": "python2"
  },
  "language_info": {
   "codemirror_mode": {
    "name": "ipython",
    "version": 2
   },
   "file_extension": ".py",
   "mimetype": "text/x-python",
   "name": "python",
   "nbconvert_exporter": "python",
   "pygments_lexer": "ipython2",
   "version": "2.7.12"
  }
 },
 "nbformat": 4,
 "nbformat_minor": 2
}
