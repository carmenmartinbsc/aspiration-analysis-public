{
 "cells": [
  {
   "cell_type": "markdown",
   "metadata": {},
   "source": [
    "This file wrangles the new metadata Rachel sent me and adds it to the metadata I already have."
   ]
  },
  {
   "cell_type": "code",
   "execution_count": 1,
   "metadata": {},
   "outputs": [],
   "source": [
    "import pandas as pd\n",
    "import numpy as np"
   ]
  },
  {
   "cell_type": "code",
   "execution_count": 2,
   "metadata": {},
   "outputs": [],
   "source": [
    "outfile = '../../data/clean/rosen.clinical_metadata.clean'"
   ]
  },
  {
   "cell_type": "code",
   "execution_count": 3,
   "metadata": {},
   "outputs": [],
   "source": [
    "ptfile = '../../final/supp_files/patients_with_sites_sampled.csv'\n",
    "pt_outmeta = '../../final/supp_files/patient_clinical_metadata.csv'"
   ]
  },
  {
   "cell_type": "markdown",
   "metadata": {},
   "source": [
    "# K23 data\n",
    "\n",
    "I got three versions of this file with similar metadata, and one version with the GI symptoms scores. Need to consolidate all patients in the first three files, and merge with the GI symptoms data."
   ]
  },
  {
   "cell_type": "code",
   "execution_count": 4,
   "metadata": {},
   "outputs": [],
   "source": [
    "# This was the respiratory study, so these patients have more extensive\n",
    "# respiratory symptoms and they also will have BAL samples\n",
    "fk23_v1 = '../../data/raw/metadata/reviewer-response-jan2019/k23 data.csv'\n",
    "fk23_v2 = '../../data/raw/metadata/reviewer-response-jan2019/FINAL AIM 2, 3, 4 BASELINE DATA.csv'\n",
    "fk23_v3 = '../../data/raw/metadata/reviewer-response-jan2019/UPDATED FINAL AIM 2, 3, 4 BASELINE DATA.csv'\n",
    "fk23_v4 = '../../data/raw/metadata/reviewer-response-jan2019/K23 SYMPTOM QUESTIONNAIRES.csv'\n",
    "\n",
    "dfk23_v1 = pd.read_csv(fk23_v1)\n",
    "dfk23_v2 = pd.read_csv(fk23_v2)\n",
    "dfk23_v3 = pd.read_csv(fk23_v3)\n",
    "# This one is tab-delimited\n",
    "dfk23_v4 = pd.read_csv(fk23_v4, sep='\\t')\n",
    "\n",
    "# Add metadata\n",
    "c = 'metadata_file'\n",
    "c2 = 'metadata_id'\n",
    "\n",
    "# K23 dataframes\n",
    "dfk23_v1[c] = fk23_v1.rsplit('/', 1)[1]\n",
    "dfk23_v1[c2] = 'k23_v1'\n",
    "\n",
    "dfk23_v2[c] = fk23_v2.rsplit('/', 1)[1]\n",
    "dfk23_v2[c2] = 'k23_v2'\n",
    "\n",
    "dfk23_v3[c] = fk23_v3.rsplit('/', 1)[1]\n",
    "dfk23_v3[c2] = 'k23_v3'\n",
    "\n",
    "dfk23_v4[c] = fk23_v4.rsplit('/', 1)[1]\n",
    "dfk23_v4[c2] = 'k23_v4'"
   ]
  },
  {
   "cell_type": "code",
   "execution_count": 5,
   "metadata": {},
   "outputs": [
    {
     "name": "stdout",
     "output_type": "stream",
     "text": [
      "[(154, 238), (156, 238), (156, 238), (156, 58)]\n"
     ]
    }
   ],
   "source": [
    "k23_dfs = [dfk23_v1, dfk23_v2, dfk23_v3, dfk23_v4]\n",
    "print([i.shape for i in k23_dfs])"
   ]
  },
  {
   "cell_type": "markdown",
   "metadata": {},
   "source": [
    "Okay, k23_v4 has different columns than the other, so I'll need to combine that with the other k23 dataframes."
   ]
  },
  {
   "cell_type": "code",
   "execution_count": 6,
   "metadata": {},
   "outputs": [
    {
     "name": "stdout",
     "output_type": "stream",
     "text": [
      "((466, 238), (156,))\n"
     ]
    }
   ],
   "source": [
    "# Make one big K23 dataframe\n",
    "k23_metas = ['k23_v1', 'k23_v2', 'k23_v3']\n",
    "\n",
    "k23_bigdf = pd.concat([dfk23_v1, dfk23_v2, dfk23_v3], sort=False)\n",
    "print(k23_bigdf.shape, k23_bigdf['SUBJID'].unique().shape)\n",
    "\n",
    "k23_bigdf = k23_bigdf.reset_index(drop=True)\n",
    "remove_ix = []\n",
    "for subj, subj_df in k23_bigdf.groupby('SUBJID'):\n",
    "\n",
    "    if subj_df.shape[0] > 1:\n",
    "        \n",
    "        meta_ids = subj_df['metadata_id'].sort_values().values.tolist()\n",
    "        keep_meta = meta_ids[-1]\n",
    "        rmv_ix = subj_df.query('metadata_id != @keep_meta').index.tolist()\n",
    "        remove_ix += rmv_ix\n"
   ]
  },
  {
   "cell_type": "code",
   "execution_count": 7,
   "metadata": {},
   "outputs": [
    {
     "name": "stdout",
     "output_type": "stream",
     "text": [
      "(310, (466, 238))\n",
      "((156, 238), (156,))\n"
     ]
    }
   ],
   "source": [
    "print(len(remove_ix), k23_bigdf.shape)\n",
    "k23_bigdf = k23_bigdf.drop(index=remove_ix)\n",
    "print(k23_bigdf.shape, k23_bigdf['SUBJID'].unique().shape)"
   ]
  },
  {
   "cell_type": "code",
   "execution_count": 8,
   "metadata": {},
   "outputs": [
    {
     "name": "stdout",
     "output_type": "stream",
     "text": [
      "((156, 238), (156, 58))\n",
      "['04-299-7']\n",
      "['04-299-1']\n"
     ]
    }
   ],
   "source": [
    "# Now, merge with the symptoms data\n",
    "print(k23_bigdf.shape, dfk23_v4.shape)\n",
    "print([i for i in k23_bigdf['SUBJID'].unique() if i not in dfk23_v4['SUBJID'].values])\n",
    "print([i for i in dfk23_v4['SUBJID'].values if i not in k23_bigdf['SUBJID'].unique()])"
   ]
  },
  {
   "cell_type": "code",
   "execution_count": 9,
   "metadata": {},
   "outputs": [
    {
     "name": "stdout",
     "output_type": "stream",
     "text": [
      "10\n"
     ]
    },
    {
     "data": {
      "text/plain": [
       "['SUBJID',\n",
       " 'SUBJINTL',\n",
       " 'AIM1YN',\n",
       " 'AIM2YN',\n",
       " 'AIM3YN',\n",
       " 'VISITDT',\n",
       " 'VISITNO',\n",
       " 'INITIAL',\n",
       " 'metadata_file',\n",
       " 'metadata_id']"
      ]
     },
     "execution_count": 9,
     "metadata": {},
     "output_type": "execute_result"
    }
   ],
   "source": [
    "common_cols = [i for i in k23_bigdf.columns if i in dfk23_v4.columns]\n",
    "print(len(common_cols))\n",
    "common_cols"
   ]
  },
  {
   "cell_type": "code",
   "execution_count": 10,
   "metadata": {},
   "outputs": [],
   "source": [
    "# Merge outer\n",
    "k23_bigdf_withsymp = pd.merge(\n",
    "    k23_bigdf, dfk23_v4, \n",
    "    left_on='SUBJID', right_on='SUBJID',\n",
    "    suffixes=('_allk23', '_k23symptoms'),\n",
    "    how='outer')"
   ]
  },
  {
   "cell_type": "code",
   "execution_count": 11,
   "metadata": {},
   "outputs": [
    {
     "data": {
      "text/plain": [
       "(157, 295)"
      ]
     },
     "execution_count": 11,
     "metadata": {},
     "output_type": "execute_result"
    }
   ],
   "source": [
    "k23_bigdf_withsymp.shape"
   ]
  },
  {
   "cell_type": "code",
   "execution_count": 12,
   "metadata": {},
   "outputs": [
    {
     "name": "stdout",
     "output_type": "stream",
     "text": [
      "(157, 295)\n"
     ]
    },
    {
     "data": {
      "text/html": [
       "<div>\n",
       "<style scoped>\n",
       "    .dataframe tbody tr th:only-of-type {\n",
       "        vertical-align: middle;\n",
       "    }\n",
       "\n",
       "    .dataframe tbody tr th {\n",
       "        vertical-align: top;\n",
       "    }\n",
       "\n",
       "    .dataframe thead th {\n",
       "        text-align: right;\n",
       "    }\n",
       "</style>\n",
       "<table border=\"1\" class=\"dataframe\">\n",
       "  <thead>\n",
       "    <tr style=\"text-align: right;\">\n",
       "      <th></th>\n",
       "      <th>SUBJID</th>\n",
       "      <th>CLAIRESEQUENC</th>\n",
       "      <th>SUBJINTL_allk23</th>\n",
       "      <th>AIM1YN_allk23</th>\n",
       "      <th>AIM2YN_allk23</th>\n",
       "      <th>AIM3YN_allk23</th>\n",
       "      <th>VISITDT_allk23</th>\n",
       "      <th>VISITNO_allk23</th>\n",
       "      <th>COMPDATE</th>\n",
       "      <th>INITIAL_allk23</th>\n",
       "      <th>...</th>\n",
       "      <th>GIPed10</th>\n",
       "      <th>GIPedSympTot</th>\n",
       "      <th>GIPed11</th>\n",
       "      <th>GIPed12</th>\n",
       "      <th>GIPed13</th>\n",
       "      <th>GIPed14</th>\n",
       "      <th>GIPedTotal</th>\n",
       "      <th>VAR00001</th>\n",
       "      <th>metadata_file_k23symptoms</th>\n",
       "      <th>metadata_id_k23symptoms</th>\n",
       "    </tr>\n",
       "  </thead>\n",
       "  <tbody>\n",
       "    <tr>\n",
       "      <th>0</th>\n",
       "      <td>04-006-9</td>\n",
       "      <td>1.0</td>\n",
       "      <td>PL</td>\n",
       "      <td>0</td>\n",
       "      <td>1</td>\n",
       "      <td>0</td>\n",
       "      <td>9/21/2009</td>\n",
       "      <td>1</td>\n",
       "      <td>9/21/2009</td>\n",
       "      <td></td>\n",
       "      <td>...</td>\n",
       "      <td></td>\n",
       "      <td></td>\n",
       "      <td></td>\n",
       "      <td></td>\n",
       "      <td></td>\n",
       "      <td></td>\n",
       "      <td></td>\n",
       "      <td></td>\n",
       "      <td>K23 SYMPTOM QUESTIONNAIRES.csv</td>\n",
       "      <td>k23_v4</td>\n",
       "    </tr>\n",
       "    <tr>\n",
       "      <th>1</th>\n",
       "      <td>04-009-2</td>\n",
       "      <td>1.0</td>\n",
       "      <td>CP</td>\n",
       "      <td>0</td>\n",
       "      <td>1</td>\n",
       "      <td>0</td>\n",
       "      <td>10/19/2009</td>\n",
       "      <td>1</td>\n",
       "      <td>10/19/2009</td>\n",
       "      <td></td>\n",
       "      <td>...</td>\n",
       "      <td></td>\n",
       "      <td></td>\n",
       "      <td></td>\n",
       "      <td></td>\n",
       "      <td></td>\n",
       "      <td></td>\n",
       "      <td></td>\n",
       "      <td></td>\n",
       "      <td>K23 SYMPTOM QUESTIONNAIRES.csv</td>\n",
       "      <td>k23_v4</td>\n",
       "    </tr>\n",
       "    <tr>\n",
       "      <th>2</th>\n",
       "      <td>04-011-3</td>\n",
       "      <td>1.0</td>\n",
       "      <td>KG</td>\n",
       "      <td>0</td>\n",
       "      <td>1</td>\n",
       "      <td>0</td>\n",
       "      <td>11/18/2009</td>\n",
       "      <td>1</td>\n",
       "      <td>11/18/2009</td>\n",
       "      <td></td>\n",
       "      <td>...</td>\n",
       "      <td></td>\n",
       "      <td></td>\n",
       "      <td></td>\n",
       "      <td></td>\n",
       "      <td></td>\n",
       "      <td></td>\n",
       "      <td></td>\n",
       "      <td></td>\n",
       "      <td>K23 SYMPTOM QUESTIONNAIRES.csv</td>\n",
       "      <td>k23_v4</td>\n",
       "    </tr>\n",
       "    <tr>\n",
       "      <th>3</th>\n",
       "      <td>04-013-4</td>\n",
       "      <td>1.0</td>\n",
       "      <td></td>\n",
       "      <td></td>\n",
       "      <td></td>\n",
       "      <td></td>\n",
       "      <td>3/4/2010</td>\n",
       "      <td></td>\n",
       "      <td>3/4/2010</td>\n",
       "      <td></td>\n",
       "      <td>...</td>\n",
       "      <td></td>\n",
       "      <td></td>\n",
       "      <td></td>\n",
       "      <td></td>\n",
       "      <td></td>\n",
       "      <td></td>\n",
       "      <td></td>\n",
       "      <td></td>\n",
       "      <td>K23 SYMPTOM QUESTIONNAIRES.csv</td>\n",
       "      <td>k23_v4</td>\n",
       "    </tr>\n",
       "    <tr>\n",
       "      <th>4</th>\n",
       "      <td>04-020-3</td>\n",
       "      <td>1.0</td>\n",
       "      <td>JPN</td>\n",
       "      <td>0</td>\n",
       "      <td>1</td>\n",
       "      <td>0</td>\n",
       "      <td>4/21/2010</td>\n",
       "      <td>1</td>\n",
       "      <td>4/21/2010</td>\n",
       "      <td>KMH</td>\n",
       "      <td>...</td>\n",
       "      <td></td>\n",
       "      <td></td>\n",
       "      <td></td>\n",
       "      <td></td>\n",
       "      <td></td>\n",
       "      <td></td>\n",
       "      <td></td>\n",
       "      <td></td>\n",
       "      <td>K23 SYMPTOM QUESTIONNAIRES.csv</td>\n",
       "      <td>k23_v4</td>\n",
       "    </tr>\n",
       "  </tbody>\n",
       "</table>\n",
       "<p>5 rows × 295 columns</p>\n",
       "</div>"
      ],
      "text/plain": [
       "     SUBJID  CLAIRESEQUENC SUBJINTL_allk23 AIM1YN_allk23 AIM2YN_allk23  \\\n",
       "0  04-006-9            1.0              PL             0             1   \n",
       "1  04-009-2            1.0              CP             0             1   \n",
       "2  04-011-3            1.0              KG             0             1   \n",
       "3  04-013-4            1.0                                               \n",
       "4  04-020-3            1.0             JPN             0             1   \n",
       "\n",
       "  AIM3YN_allk23 VISITDT_allk23 VISITNO_allk23    COMPDATE INITIAL_allk23  \\\n",
       "0             0      9/21/2009              1   9/21/2009                  \n",
       "1             0     10/19/2009              1  10/19/2009                  \n",
       "2             0     11/18/2009              1  11/18/2009                  \n",
       "3                     3/4/2010                   3/4/2010                  \n",
       "4             0      4/21/2010              1   4/21/2010            KMH   \n",
       "\n",
       "            ...           GIPed10 GIPedSympTot GIPed11 GIPed12 GIPed13  \\\n",
       "0           ...                                                          \n",
       "1           ...                                                          \n",
       "2           ...                                                          \n",
       "3           ...                                                          \n",
       "4           ...                                                          \n",
       "\n",
       "  GIPed14 GIPedTotal VAR00001       metadata_file_k23symptoms  \\\n",
       "0                              K23 SYMPTOM QUESTIONNAIRES.csv   \n",
       "1                              K23 SYMPTOM QUESTIONNAIRES.csv   \n",
       "2                              K23 SYMPTOM QUESTIONNAIRES.csv   \n",
       "3                              K23 SYMPTOM QUESTIONNAIRES.csv   \n",
       "4                              K23 SYMPTOM QUESTIONNAIRES.csv   \n",
       "\n",
       "  metadata_id_k23symptoms  \n",
       "0                  k23_v4  \n",
       "1                  k23_v4  \n",
       "2                  k23_v4  \n",
       "3                  k23_v4  \n",
       "4                  k23_v4  \n",
       "\n",
       "[5 rows x 295 columns]"
      ]
     },
     "execution_count": 12,
     "metadata": {},
     "output_type": "execute_result"
    }
   ],
   "source": [
    "print(k23_bigdf_withsymp.shape)\n",
    "k23_bigdf_withsymp.head()"
   ]
  },
  {
   "cell_type": "code",
   "execution_count": 13,
   "metadata": {},
   "outputs": [
    {
     "data": {
      "text/plain": [
       "metadata_id_allk23  metadata_id_k23symptoms\n",
       "k23_v3              k23_v4                     155\n",
       "dtype: int64"
      ]
     },
     "execution_count": 13,
     "metadata": {},
     "output_type": "execute_result"
    }
   ],
   "source": [
    "# Update the metadata ID\n",
    "k23_bigdf_withsymp.groupby(['metadata_id_allk23', 'metadata_id_k23symptoms']).size()"
   ]
  },
  {
   "cell_type": "code",
   "execution_count": 14,
   "metadata": {},
   "outputs": [],
   "source": [
    "k23_bigdf_withsymp['metadata_id'] = 'k23'"
   ]
  },
  {
   "cell_type": "code",
   "execution_count": 15,
   "metadata": {},
   "outputs": [
    {
     "data": {
      "text/html": [
       "<div>\n",
       "<style scoped>\n",
       "    .dataframe tbody tr th:only-of-type {\n",
       "        vertical-align: middle;\n",
       "    }\n",
       "\n",
       "    .dataframe tbody tr th {\n",
       "        vertical-align: top;\n",
       "    }\n",
       "\n",
       "    .dataframe thead th {\n",
       "        text-align: right;\n",
       "    }\n",
       "</style>\n",
       "<table border=\"1\" class=\"dataframe\">\n",
       "  <thead>\n",
       "    <tr style=\"text-align: right;\">\n",
       "      <th></th>\n",
       "      <th>VISITDT_allk23</th>\n",
       "      <th>VISITDT_k23symptoms</th>\n",
       "      <th>DOB</th>\n",
       "    </tr>\n",
       "  </thead>\n",
       "  <tbody>\n",
       "    <tr>\n",
       "      <th>32</th>\n",
       "      <td>9/17/2011</td>\n",
       "      <td>9/14/2011</td>\n",
       "      <td>1/7/2010</td>\n",
       "    </tr>\n",
       "    <tr>\n",
       "      <th>81</th>\n",
       "      <td>8/8/2013</td>\n",
       "      <td>8/8/82013</td>\n",
       "      <td>6/15/2009</td>\n",
       "    </tr>\n",
       "    <tr>\n",
       "      <th>116</th>\n",
       "      <td>3/14/2011</td>\n",
       "      <td>3/14/2001</td>\n",
       "      <td>11/25/2004</td>\n",
       "    </tr>\n",
       "  </tbody>\n",
       "</table>\n",
       "</div>"
      ],
      "text/plain": [
       "    VISITDT_allk23 VISITDT_k23symptoms         DOB\n",
       "32       9/17/2011           9/14/2011    1/7/2010\n",
       "81        8/8/2013           8/8/82013   6/15/2009\n",
       "116      3/14/2011           3/14/2001  11/25/2004"
      ]
     },
     "execution_count": 15,
     "metadata": {},
     "output_type": "execute_result"
    }
   ],
   "source": [
    "c1 = 'VISITDT_allk23'\n",
    "c2 = 'VISITDT_k23symptoms'\n",
    "\n",
    "# look at rows which have mismatch visit dates\n",
    "k23_bigdf_withsymp[\n",
    "   k23_bigdf_withsymp[c1].replace(' ', np.nan).fillna(k23_bigdf_withsymp[c2]) \n",
    "    != k23_bigdf_withsymp[c2].replace(' ', np.nan).fillna(k23_bigdf_withsymp[c1])\n",
    "][[c1, c2, 'DOB']]\n",
    "\n",
    "#k23_bigdf_withsymp[k23_bigdf_withsymp[c1].fillna(k23_bigdf_withsymp[c2]) != k23_bigdf_withsymp[c2].fillna(k23_bigdf_withsymp[c1])]\n",
    "#k23_bigdf_withsymp.query(\"SUBJID == '04-013-4'\")[[c1, c2]]\n",
    "\n"
   ]
  },
  {
   "cell_type": "markdown",
   "metadata": {},
   "source": [
    "Okay, there are only 3 patients with conflicting visit dates. Given that the visit date from the symptoms metadata has the one incorrect date (it has visit date in 2001 for a patient born in 2004), I feel pretty confident saying that the other source of data (i.e. the combined k23 v1, v2, and v3) is the correct visit date."
   ]
  },
  {
   "cell_type": "code",
   "execution_count": 16,
   "metadata": {},
   "outputs": [
    {
     "data": {
      "text/plain": [
       "((157, 297), (157, 297))"
      ]
     },
     "execution_count": 16,
     "metadata": {},
     "output_type": "execute_result"
    }
   ],
   "source": [
    "k23_bigdf_withsymp['visit_date'] = k23_bigdf_withsymp['VISITDT_allk23'].fillna(k23_bigdf_withsymp['VISITDT_k23symptoms'])\n",
    "k23_bigdf_withsymp.shape, k23_bigdf_withsymp.dropna(subset=['visit_date']).shape"
   ]
  },
  {
   "cell_type": "code",
   "execution_count": null,
   "metadata": {},
   "outputs": [],
   "source": []
  },
  {
   "cell_type": "markdown",
   "metadata": {},
   "source": [
    "# Other data sources"
   ]
  },
  {
   "cell_type": "code",
   "execution_count": 17,
   "metadata": {},
   "outputs": [],
   "source": [
    "# R01 study is different, and focuses more on general infections. So it has\n",
    "# more metadata on infections but less on respiratory symptoms. Also, these\n",
    "# patients probably won't have BAL.\n",
    "r01base_v1 = '../../data/raw/metadata/reviewer-response-jan2019/baselineR01.csv'\n",
    "# This one is actually tab delimited\n",
    "r01base_v2 = '../../data/raw/metadata/reviewer-response-jan2019/baselineforclaire-r01-pgsq.csv'\n",
    "\n",
    "r01aim3_v1 = '../../data/raw/metadata/reviewer-response-jan2019/baselineforclaire-r01-aim3supp.csv'\n",
    "# This one is actually tab delimited\n",
    "r01aim3_v2 = '../../data/raw/metadata/reviewer-response-jan2019/baselineforclaire-r01-aim3supp-pgsq.csv'\n",
    "\n",
    "r01long = '../../data/raw/metadata/reviewer-response-jan2019/r01 longitudinal.csv'\n",
    "\n",
    "# Fundoplication patients\n",
    "fundo_v1 = '../../data/raw/metadata/reviewer-response-jan2019/fundobaselinedata_1.csv'\n",
    "fundo_v2 = '../../data/raw/metadata/reviewer-response-jan2019/updatedfundobaselinedata.csv'\n",
    "\n",
    "dfr01base_v1 = pd.read_csv(r01base_v1)\n",
    "dfr01base_v2 = pd.read_csv(r01base_v2, sep='\\t')\n",
    "\n",
    "dfr01long = pd.read_csv(r01long)\n",
    "\n",
    "dfr01aim3_v1 = pd.read_csv(r01aim3_v1)\n",
    "dfr01aim3_v2 = pd.read_csv(r01aim3_v2, sep='\\t')\n",
    "\n",
    "dffundo_v1 = pd.read_csv(fundo_v1)\n",
    "dffundo_v2 = pd.read_csv(fundo_v2)\n",
    "\n",
    "# Fix a few things in the fundo dataframe\n",
    "dffundo_v1 = dffundo_v1.rename(columns={'SUBJID_BL':\"SUBJID\"})\n",
    "dffundo_v2 = dffundo_v2.rename(columns={'SUBJID_BL':\"SUBJID\"})\n",
    "\n",
    "dffundo_v1['SUBJID'] = dffundo_v1['SUBJID'].str.replace(' ', '-')\n",
    "dffundo_v2['SUBJID'] = dffundo_v2['SUBJID'].str.replace(' ', '-')"
   ]
  },
  {
   "cell_type": "code",
   "execution_count": 18,
   "metadata": {},
   "outputs": [],
   "source": [
    "# Label metadata source in each df\n",
    "c = 'metadata_file'\n",
    "c2 = 'metadata_id'\n",
    "\n",
    "# R01 dataframes\n",
    "dfr01base_v1[c] = r01base_v1.rsplit('/', 1)[1]\n",
    "dfr01base_v1[c2] = 'r01_baseline_v1'\n",
    "\n",
    "dfr01base_v2[c] = r01base_v2.rsplit('/', 1)[1]\n",
    "dfr01base_v2[c2] = 'r01_baseline_v2'\n",
    "\n",
    "dfr01long[c] = r01long.rsplit('/', 1)[1]\n",
    "dfr01long[c2] = 'r01_longitudinal'\n",
    "\n",
    "dfr01aim3_v1[c] = r01aim3_v1.rsplit('/', 1)[1]\n",
    "dfr01aim3_v1[c2] = 'r01_aim3_v1'\n",
    "\n",
    "dfr01aim3_v2[c] = r01aim3_v2.rsplit('/', 1)[1]\n",
    "dfr01aim3_v2[c2] = 'r01_aim3_v2'\n",
    "\n",
    "# Fundo\n",
    "dffundo_v1[c] = fundo_v1.rsplit('/', 1)[1]\n",
    "dffundo_v1[c2] = 'fundo_v1'\n",
    "\n",
    "dffundo_v2[c] = fundo_v2.rsplit('/', 1)[1]\n",
    "dffundo_v2[c2] = 'fundo_v2'"
   ]
  },
  {
   "cell_type": "code",
   "execution_count": 19,
   "metadata": {},
   "outputs": [
    {
     "name": "stdout",
     "output_type": "stream",
     "text": [
      "[(157, 297), (23, 371), (22, 371), (16, 205), (16, 206), (22, 371), (26, 531), (26, 531)]\n",
      "((308, 1221), (308,), (223,))\n"
     ]
    }
   ],
   "source": [
    "alldfs = [k23_bigdf_withsymp,\n",
    "          dfr01aim3_v1, dfr01aim3_v2, \n",
    "          dfr01base_v1, dfr01base_v2,\n",
    "          dfr01long, \n",
    "          dffundo_v1, dffundo_v2]\n",
    "\n",
    "print([i.shape for i in alldfs])\n",
    "\n",
    "bigdf = pd.concat(alldfs, sort=False)\n",
    "print(bigdf.shape, bigdf['SUBJID'].dropna().shape, bigdf['SUBJID'].unique().shape)"
   ]
  },
  {
   "cell_type": "code",
   "execution_count": 20,
   "metadata": {},
   "outputs": [],
   "source": [
    "#for d in alldfs:\n",
    "#    display(d.head())"
   ]
  },
  {
   "cell_type": "markdown",
   "metadata": {},
   "source": [
    "## Remove duplicate patients"
   ]
  },
  {
   "cell_type": "code",
   "execution_count": 21,
   "metadata": {},
   "outputs": [
    {
     "data": {
      "text/plain": [
       "subject_meta_files\n",
       "fundo_v1-fundo_v2                                 52\n",
       "k23                                              157\n",
       "r01_aim3_v1-r01_aim3_v2                            6\n",
       "r01_aim3_v1-r01_aim3_v2-r01_longitudinal          57\n",
       "r01_aim3_v1-r01_longitudinal-r01_longitudinal      3\n",
       "r01_baseline_v1-r01_baseline_v2                   32\n",
       "r01_longitudinal                                   1\n",
       "dtype: int64"
      ]
     },
     "execution_count": 21,
     "metadata": {},
     "output_type": "execute_result"
    }
   ],
   "source": [
    "# See what combination of metadata files each patient has\n",
    "\n",
    "# make sure bigdf index doesn't have duplicates\n",
    "bigdf = bigdf.reset_index(drop=True)\n",
    "\n",
    "for subj, subj_df in bigdf.groupby('SUBJID'):\n",
    "    meta_ids = subj_df['metadata_id'].sort_values().values\n",
    "    meta_ids = '-'.join(meta_ids)\n",
    "    bigdf.loc[subj_df.index, 'subject_meta_files'] = meta_ids\n",
    "\n",
    "#subj_df = bigdf.query('SUBJID == \"01-058-2\"')\n",
    "#meta_ids = subj_df['metadata_id'].sort_values().values\n",
    "#meta_ids\n",
    "bigdf.groupby('subject_meta_files').size()"
   ]
  },
  {
   "cell_type": "markdown",
   "metadata": {},
   "source": [
    "Okay, so all fundoplication patients are in both files: use only fundo_v2.\n",
    "\n",
    "All R01 baseline patients are in both versions: use only r01_baseline_v2\n",
    "\n",
    "K23 patients is taken care of already.\n",
    "\n",
    "Other R01 patients are also more complicated:\n",
    "- if they have r01aim3_v2, use that (it's the most recent file I got from the team)\n",
    "- the one patient that is present twice in r01_longitudinal and also in r01_aim3_v1 is 03-200-1, which is not actually used in any of my analyses. So we'll just remove this one."
   ]
  },
  {
   "cell_type": "code",
   "execution_count": 22,
   "metadata": {},
   "outputs": [
    {
     "name": "stdout",
     "output_type": "stream",
     "text": [
      "('03-200-1', ['r01_aim3_v1', 'r01_longitudinal', 'r01_longitudinal'])\n"
     ]
    }
   ],
   "source": [
    "# Go through and grab all the idx's we want to remove\n",
    "\n",
    "# # make sure bigdf index doesn't have duplicates\n",
    "# bigdf = bigdf.reset_index(drop=True)\n",
    "remove_ix = []\n",
    "for subj, subj_df in bigdf.groupby('SUBJID'):\n",
    "    if subj_df.shape[0] > 1:\n",
    "        \n",
    "        meta_ids = subj_df['metadata_id'].sort_values().values.tolist()\n",
    "        \n",
    "        # If fundo patients, keep fundo_v2\n",
    "        if 'fundo_v1' in meta_ids or 'fundo_v2' in meta_ids:\n",
    "            keep_meta = meta_ids[-1]\n",
    "            rmv_ix = subj_df.query('metadata_id != @keep_meta').index.tolist()\n",
    "            remove_ix += rmv_ix\n",
    "        \n",
    "        # If this is R01 baseline, use r01_baseline_v2\n",
    "        elif 'r01_baseline_v1' in meta_ids or 'r01_baseline_v2' in meta_ids:\n",
    "            keep_meta = meta_ids[-1]\n",
    "            rmv_ix = subj_df.query('metadata_id != @keep_meta').index.tolist()\n",
    "            remove_ix += rmv_ix\n",
    "        \n",
    "        # If they have r01aim3_v2, keep that\n",
    "        elif 'r01_aim3_v2' in meta_ids:\n",
    "            keep_meta = 'r01_aim3_v2'\n",
    "            rmv_ix = subj_df.query('metadata_id != @keep_meta').index.tolist()\n",
    "            remove_ix += rmv_ix\n",
    "        \n",
    "        else:\n",
    "            print(subj, meta_ids)"
   ]
  },
  {
   "cell_type": "code",
   "execution_count": 23,
   "metadata": {},
   "outputs": [
    {
     "name": "stdout",
     "output_type": "stream",
     "text": [
      "(83, (308, 1222))\n",
      "((225, 1222), (223,))\n"
     ]
    }
   ],
   "source": [
    "print(len(remove_ix), bigdf.shape)\n",
    "bigdf_nodup = bigdf.drop(index=remove_ix)\n",
    "print(bigdf_nodup.shape, bigdf_nodup['SUBJID'].unique().shape)"
   ]
  },
  {
   "cell_type": "code",
   "execution_count": 24,
   "metadata": {},
   "outputs": [
    {
     "data": {
      "text/plain": [
       "SUBJID\n",
       "03-200-1    3\n",
       "dtype: int64"
      ]
     },
     "execution_count": 24,
     "metadata": {},
     "output_type": "execute_result"
    }
   ],
   "source": [
    "tmp = bigdf_nodup.groupby('SUBJID').size()\n",
    "tmp[tmp > 1]"
   ]
  },
  {
   "cell_type": "markdown",
   "metadata": {},
   "source": [
    "# Correct subject IDs with discrepancies\n",
    "\n",
    "Here, the left subject ID is the ones I have in my data and the explanation is where I should find them in this data.\n",
    "\n",
    "```\n",
    "01-297-4 - \"01-297-4 is actually 01-297-2 - this is in the \"r01\" database\"\n",
    "029-6-F1 - \"please note that 029-6 is listed in database as 029-5\"\n",
    "03-125-1 - \"03-125-9 (we believe this was listed as 03-125-1 but the correct ID should be 03-125-9 based on our sample logs)\"\n",
    "04-164-1 - \"04-164-1 is listed in the database as 02-164-1\"\n",
    "04-168-4 - \"04-168-4 is listed in the database as 14-168-4\"\n",
    "04-235-8 - \"04-235-8 is listed in the database as 04-235-4\"\n",
    "13-058-2 - \"13-058-2 - listed in the \"r01\" database as 01-058-2\"\n",
    "13-089-1 - \"13-089-1 - listed in the \"r01\" database as 01-089-1\"\n",
    "14-233-0 - \"14-233-0 is listed in the database as 04-233-1\"\n",
    "```\n",
    "\n",
    "Note that because I have both 04-164-1 and 02-164-1 in my data, I'll need to add an extra row for this \"new subject\" in this data (I think - we'll see, this is mostly a note for me)."
   ]
  },
  {
   "cell_type": "code",
   "execution_count": 25,
   "metadata": {},
   "outputs": [],
   "source": [
    "bigdf_nodup['subject_id'] = bigdf_nodup['SUBJID']"
   ]
  },
  {
   "cell_type": "code",
   "execution_count": 26,
   "metadata": {},
   "outputs": [],
   "source": [
    "repdict = {\n",
    "    '01-297-2': '01-297-4',\n",
    "    '029-5-F1': '029-6-F1',\n",
    "    '03-125-9': '03-125-1',\n",
    "    #'02-164-1': '04-164-1',\n",
    "    '14-168-4': '04-168-4',\n",
    "    '04-235-4': '04-235-8',\n",
    "    '01-058-2': '13-058-2',\n",
    "    '01-089-1': '13-089-1',\n",
    "    '04-233-1': '14-233-0'\n",
    "}"
   ]
  },
  {
   "cell_type": "code",
   "execution_count": 27,
   "metadata": {},
   "outputs": [
    {
     "data": {
      "text/plain": [
       "[]"
      ]
     },
     "execution_count": 27,
     "metadata": {},
     "output_type": "execute_result"
    }
   ],
   "source": [
    "[k for k in repdict if k not in bigdf_nodup['SUBJID'].values]"
   ]
  },
  {
   "cell_type": "code",
   "execution_count": 28,
   "metadata": {},
   "outputs": [],
   "source": [
    "bigdf_nodup['subject_id'] = bigdf_nodup['subject_id'].replace(repdict)"
   ]
  },
  {
   "cell_type": "code",
   "execution_count": 29,
   "metadata": {},
   "outputs": [
    {
     "name": "stderr",
     "output_type": "stream",
     "text": [
      "/Users/claire/anaconda/envs/aspiration/lib/python2.7/site-packages/ipykernel_launcher.py:3: SettingWithCopyWarning: \n",
      "A value is trying to be set on a copy of a slice from a DataFrame.\n",
      "Try using .loc[row_indexer,col_indexer] = value instead\n",
      "\n",
      "See the caveats in the documentation: http://pandas.pydata.org/pandas-docs/stable/indexing.html#indexing-view-versus-copy\n",
      "  This is separate from the ipykernel package so we can avoid doing imports until\n"
     ]
    }
   ],
   "source": [
    "# Add a new row for 04-164-1, that's just the same as 02-164-1\n",
    "newrow = bigdf_nodup.query('SUBJID == \"02-164-1\"')\n",
    "newrow['subject_id'] = '04-164-1'\n",
    "bigdf_nodup = bigdf_nodup.append(newrow, ignore_index=True)"
   ]
  },
  {
   "cell_type": "code",
   "execution_count": 30,
   "metadata": {},
   "outputs": [],
   "source": [
    "# And add a row full of NaN's for 'dup05-013-1'\n",
    "newrow = pd.Series(index=bigdf_nodup.columns)\n",
    "newrow['subject_id'] = 'dup05-013-1'\n",
    "newrow['SUBJID'] = 'dup05-013-1'\n",
    "bigdf_nodup = bigdf_nodup.append(newrow, ignore_index=True)"
   ]
  },
  {
   "cell_type": "code",
   "execution_count": 31,
   "metadata": {},
   "outputs": [
    {
     "data": {
      "text/plain": [
       "(227, 1223)"
      ]
     },
     "execution_count": 31,
     "metadata": {},
     "output_type": "execute_result"
    }
   ],
   "source": [
    "bigdf_nodup.shape"
   ]
  },
  {
   "cell_type": "code",
   "execution_count": 32,
   "metadata": {},
   "outputs": [],
   "source": [
    "# Keep only the 222 patients I used in my analyses\n",
    "fpatients = '../../final/supp_files/combined_patient_site_and_analyses.csv'\n",
    "dfpts = pd.read_csv(fpatients, index_col=0)\n",
    "#dfpts.head()"
   ]
  },
  {
   "cell_type": "code",
   "execution_count": 33,
   "metadata": {},
   "outputs": [
    {
     "data": {
      "text/plain": [
       "(220, 32)"
      ]
     },
     "execution_count": 33,
     "metadata": {},
     "output_type": "execute_result"
    }
   ],
   "source": [
    "dfpts.shape"
   ]
  },
  {
   "cell_type": "code",
   "execution_count": 34,
   "metadata": {},
   "outputs": [
    {
     "data": {
      "text/plain": [
       "(220, 1223)"
      ]
     },
     "execution_count": 34,
     "metadata": {},
     "output_type": "execute_result"
    }
   ],
   "source": [
    "analysis_subjs = dfpts.index.tolist()\n",
    "bigdf_nodup = bigdf_nodup.query('subject_id == @analysis_subjs')\n",
    "bigdf_nodup.shape"
   ]
  },
  {
   "cell_type": "markdown",
   "metadata": {},
   "source": [
    "# Reconcile different gender codings\n",
    "\n",
    "K23 data:    \n",
    "GENDER    \n",
    "- 1 = M\n",
    "- 2 = F\n",
    "- -6 = missing\n",
    "\n",
    "R01 data:    \n",
    "GENDER\n",
    "- 0 = M\n",
    "- 1 = F\n"
   ]
  },
  {
   "cell_type": "code",
   "execution_count": 35,
   "metadata": {},
   "outputs": [
    {
     "data": {
      "text/plain": [
       "metadata_id  GENDER\n",
       "k23                     1\n",
       "             -6         1\n",
       "             1         92\n",
       "             2         62\n",
       "dtype: int64"
      ]
     },
     "execution_count": 35,
     "metadata": {},
     "output_type": "execute_result"
    }
   ],
   "source": [
    "bigdf_nodup.query('metadata_id == \"k23\"').groupby(['metadata_id', 'GENDER']).size()"
   ]
  },
  {
   "cell_type": "code",
   "execution_count": 36,
   "metadata": {},
   "outputs": [],
   "source": [
    "# Replace the K23 codes in-column\n",
    "k23_df = bigdf_nodup.query('metadata_id == \"k23\"')\n",
    "\n",
    "bigdf_nodup.loc[k23_df.index, 'GENDER'] = k23_df['GENDER'].replace({'1': 0, '2': 1, '-6': np.nan, ' ': np.nan})"
   ]
  },
  {
   "cell_type": "markdown",
   "metadata": {},
   "source": [
    "# Consolidate metadata\n",
    "\n",
    "Now that I have all the right rows, I'll need to consolidate the metadata labels from the different files.\n",
    "\n",
    "For each metadata category, I'll need to:\n",
    "\n",
    "- gather all the relevant columns\n",
    "- check that there are no duplicate entries for each patient (i.e. they don't have data in two of the columns)\n",
    "    - consolidate duplicates when there are any\n",
    "- make a combine metadata column\n",
    "\n",
    "Also, from Eliza's latest email on Feb 7, 2019: \"We spoke with Rachel and have discussed that any -8 and -6 should be no’s and -9 or missing data should be considered missing/unknown.\""
   ]
  },
  {
   "cell_type": "code",
   "execution_count": 37,
   "metadata": {},
   "outputs": [],
   "source": [
    "def identify_conflicts(row, metacols):\n",
    "    \"\"\"\n",
    "    Return whether or not there is conflicting metadata\n",
    "    in the metacols of the given row.\n",
    "\n",
    "    Return True if there is a discrepancy and False if\n",
    "    they all match. Return nan if they are all nan.\n",
    "    \"\"\"\n",
    "\n",
    "    if row[metacols].isnull().sum() == len(metacols):\n",
    "        return np.nan\n",
    "\n",
    "    tmp = row[metacols].dropna()#.apply(lambda x: ppimap[x])\n",
    "\n",
    "    # tmp is a Series, so this is basically only if you only\n",
    "    # gave one column\n",
    "    if tmp.shape[0] == 1:\n",
    "        return False\n",
    "\n",
    "    elif tmp.eq(tmp.iloc[0]).sum() == tmp.shape[0]:\n",
    "        # If all values in the row are equal, no conflict\n",
    "        return False\n",
    "    else:\n",
    "        return True"
   ]
  },
  {
   "cell_type": "code",
   "execution_count": 38,
   "metadata": {},
   "outputs": [],
   "source": [
    "newcols = []"
   ]
  },
  {
   "cell_type": "markdown",
   "metadata": {},
   "source": [
    "## Demographics"
   ]
  },
  {
   "cell_type": "markdown",
   "metadata": {},
   "source": [
    "## Calculate Age\n",
    "\n",
    "From Eliza Fishman's email on 2/1/19, the following columns indicate date of sampling:\n",
    "\n",
    "- FUNDO: COMPDATE_BL\n",
    "- R01: BASELINEDATE\n",
    "- K23: VISITDT\n",
    "\n",
    "I already consolidated the VISITDT's from the different k23 files into a new column called \"visit_date\"\n"
   ]
  },
  {
   "cell_type": "code",
   "execution_count": 39,
   "metadata": {},
   "outputs": [
    {
     "data": {
      "text/plain": [
       "((220,), (220, 1224))"
      ]
     },
     "execution_count": 39,
     "metadata": {},
     "output_type": "execute_result"
    }
   ],
   "source": [
    "bigdf_nodup['dob_all'] = bigdf_nodup['DOB'].fillna(bigdf_nodup['DOB_BL'])\n",
    "bigdf_nodup['dob_all'].dropna().shape, bigdf_nodup.shape"
   ]
  },
  {
   "cell_type": "code",
   "execution_count": 40,
   "metadata": {},
   "outputs": [
    {
     "data": {
      "text/plain": [
       "array(['k23', 'r01_aim3_v2', 'r01_baseline_v2', 'r01_longitudinal',\n",
       "       'fundo_v2'], dtype=object)"
      ]
     },
     "execution_count": 40,
     "metadata": {},
     "output_type": "execute_result"
    }
   ],
   "source": [
    "bigdf_nodup['metadata_id'].unique()"
   ]
  },
  {
   "cell_type": "code",
   "execution_count": 41,
   "metadata": {},
   "outputs": [],
   "source": [
    "meta_id = 'fundo_v2'\n",
    "date_id = 'COMPDATE_BL'\n",
    "\n",
    "tmp_age = bigdf_nodup.query('metadata_id == @meta_id')\n",
    "tmp_age = (\n",
    "    pd.to_datetime(\n",
    "        tmp_age[date_id].replace(' ', np.nan)\n",
    "    ) \n",
    "    - pd.to_datetime(\n",
    "        tmp_age['dob_all'].replace(' ', np.nan)\n",
    "    )).dt.days / 365.0\n",
    "bigdf_nodup.loc[tmp_age.index, 'age'] = tmp_age.values\n",
    "\n",
    "meta_id = ['k23']\n",
    "date_id = 'visit_date'\n",
    "\n",
    "tmp_age = bigdf_nodup.query('metadata_id == @meta_id')\n",
    "tmp_age = (\n",
    "    pd.to_datetime(\n",
    "        tmp_age[date_id].replace(' ', np.nan)\n",
    "    ) \n",
    "    - pd.to_datetime(\n",
    "        tmp_age['dob_all'].replace(' ', np.nan)\n",
    "    )).dt.days / 365.0\n",
    "bigdf_nodup.loc[tmp_age.index, 'age'] = tmp_age.values\n",
    "\n",
    "meta_id = ['r01_aim3_v2', 'r01_baseline_v2', 'r01_longitudinal']\n",
    "date_id = 'BASELINEDATE'\n",
    "\n",
    "tmp_age = bigdf_nodup.query('metadata_id == @meta_id')\n",
    "tmp_age = (\n",
    "    pd.to_datetime(\n",
    "        tmp_age[date_id].replace(' ', np.nan)\n",
    "    ) \n",
    "    - pd.to_datetime(\n",
    "        tmp_age['dob_all'].replace(' ', np.nan)\n",
    "    )).dt.days / 365.0\n",
    "bigdf_nodup.loc[tmp_age.index, 'age'] = tmp_age.values"
   ]
  },
  {
   "cell_type": "markdown",
   "metadata": {},
   "source": [
    "Check discrepancies"
   ]
  },
  {
   "cell_type": "code",
   "execution_count": 42,
   "metadata": {},
   "outputs": [],
   "source": [
    "#bigdf_nodup[['subject_id', 'age', 'metadata_id']].sort_values('age').head()"
   ]
  },
  {
   "cell_type": "code",
   "execution_count": 43,
   "metadata": {},
   "outputs": [],
   "source": [
    "#bigdf_nodup[['subject_id', 'age', 'metadata_id']].sort_values('age').tail(15)"
   ]
  },
  {
   "cell_type": "code",
   "execution_count": 44,
   "metadata": {},
   "outputs": [
    {
     "data": {
      "text/html": [
       "<div>\n",
       "<style scoped>\n",
       "    .dataframe tbody tr th:only-of-type {\n",
       "        vertical-align: middle;\n",
       "    }\n",
       "\n",
       "    .dataframe tbody tr th {\n",
       "        vertical-align: top;\n",
       "    }\n",
       "\n",
       "    .dataframe thead th {\n",
       "        text-align: right;\n",
       "    }\n",
       "</style>\n",
       "<table border=\"1\" class=\"dataframe\">\n",
       "  <thead>\n",
       "    <tr style=\"text-align: right;\">\n",
       "      <th></th>\n",
       "      <th>subject_id</th>\n",
       "      <th>calculated_age</th>\n",
       "      <th>COMPDATE_BL</th>\n",
       "      <th>VISITDT_k23</th>\n",
       "      <th>BASELINEDATE</th>\n",
       "      <th>DOB</th>\n",
       "      <th>metadata_id</th>\n",
       "    </tr>\n",
       "  </thead>\n",
       "  <tbody>\n",
       "    <tr>\n",
       "      <th>223</th>\n",
       "      <td>057-9-F1</td>\n",
       "      <td>-0.419178</td>\n",
       "      <td>5/22/2015</td>\n",
       "      <td>NaN</td>\n",
       "      <td>NaN</td>\n",
       "      <td>10/22/2015</td>\n",
       "      <td>fundo_v2</td>\n",
       "    </tr>\n",
       "    <tr>\n",
       "      <th>76</th>\n",
       "      <td>04-168-4</td>\n",
       "      <td>18.117808</td>\n",
       "      <td>NaN</td>\n",
       "      <td>10/31/2012</td>\n",
       "      <td>NaN</td>\n",
       "      <td>9/23/1994</td>\n",
       "      <td>k23</td>\n",
       "    </tr>\n",
       "    <tr>\n",
       "      <th>172</th>\n",
       "      <td>03-153-7</td>\n",
       "      <td>18.120548</td>\n",
       "      <td>NaN</td>\n",
       "      <td>NaN</td>\n",
       "      <td>10/24/2014</td>\n",
       "      <td>9/14/1996</td>\n",
       "      <td>r01_aim3_v2</td>\n",
       "    </tr>\n",
       "    <tr>\n",
       "      <th>208</th>\n",
       "      <td>032-1-F1</td>\n",
       "      <td>18.602740</td>\n",
       "      <td>7/3/2013</td>\n",
       "      <td>NaN</td>\n",
       "      <td>NaN</td>\n",
       "      <td>11/30/1994</td>\n",
       "      <td>fundo_v2</td>\n",
       "    </tr>\n",
       "    <tr>\n",
       "      <th>176</th>\n",
       "      <td>03-182-8</td>\n",
       "      <td>19.364384</td>\n",
       "      <td>NaN</td>\n",
       "      <td>NaN</td>\n",
       "      <td>2/5/2015</td>\n",
       "      <td>9/30/1995</td>\n",
       "      <td>r01_aim3_v2</td>\n",
       "    </tr>\n",
       "    <tr>\n",
       "      <th>209</th>\n",
       "      <td>033-8-F1</td>\n",
       "      <td>19.465753</td>\n",
       "      <td>7/22/2013</td>\n",
       "      <td>NaN</td>\n",
       "      <td>NaN</td>\n",
       "      <td>2/7/1994</td>\n",
       "      <td>fundo_v2</td>\n",
       "    </tr>\n",
       "    <tr>\n",
       "      <th>214</th>\n",
       "      <td>041-3-F1</td>\n",
       "      <td>23.252055</td>\n",
       "      <td>10/17/2013</td>\n",
       "      <td>NaN</td>\n",
       "      <td>NaN</td>\n",
       "      <td>7/23/1990</td>\n",
       "      <td>fundo_v2</td>\n",
       "    </tr>\n",
       "    <tr>\n",
       "      <th>219</th>\n",
       "      <td>048-1-F1</td>\n",
       "      <td>23.361644</td>\n",
       "      <td>5/27/2014</td>\n",
       "      <td>NaN</td>\n",
       "      <td>NaN</td>\n",
       "      <td>1/21/1991</td>\n",
       "      <td>fundo_v2</td>\n",
       "    </tr>\n",
       "    <tr>\n",
       "      <th>87</th>\n",
       "      <td>04-234-5</td>\n",
       "      <td>23.490411</td>\n",
       "      <td>NaN</td>\n",
       "      <td>5/12/2014</td>\n",
       "      <td>NaN</td>\n",
       "      <td>11/20/1990</td>\n",
       "      <td>k23</td>\n",
       "    </tr>\n",
       "    <tr>\n",
       "      <th>50</th>\n",
       "      <td>04-129-7</td>\n",
       "      <td>NaN</td>\n",
       "      <td>NaN</td>\n",
       "      <td>4/19/2012</td>\n",
       "      <td>NaN</td>\n",
       "      <td></td>\n",
       "      <td>k23</td>\n",
       "    </tr>\n",
       "    <tr>\n",
       "      <th>199</th>\n",
       "      <td>021-7-F1</td>\n",
       "      <td>NaN</td>\n",
       "      <td></td>\n",
       "      <td>NaN</td>\n",
       "      <td>NaN</td>\n",
       "      <td>7/24/2005</td>\n",
       "      <td>fundo_v2</td>\n",
       "    </tr>\n",
       "    <tr>\n",
       "      <th>203</th>\n",
       "      <td>026-8-F1</td>\n",
       "      <td>NaN</td>\n",
       "      <td></td>\n",
       "      <td>NaN</td>\n",
       "      <td>NaN</td>\n",
       "      <td>10/25/2009</td>\n",
       "      <td>fundo_v2</td>\n",
       "    </tr>\n",
       "  </tbody>\n",
       "</table>\n",
       "</div>"
      ],
      "text/plain": [
       "    subject_id  calculated_age COMPDATE_BL VISITDT_k23 BASELINEDATE  \\\n",
       "223   057-9-F1       -0.419178   5/22/2015         NaN          NaN   \n",
       "76    04-168-4       18.117808         NaN  10/31/2012          NaN   \n",
       "172   03-153-7       18.120548         NaN         NaN   10/24/2014   \n",
       "208   032-1-F1       18.602740    7/3/2013         NaN          NaN   \n",
       "176   03-182-8       19.364384         NaN         NaN     2/5/2015   \n",
       "209   033-8-F1       19.465753   7/22/2013         NaN          NaN   \n",
       "214   041-3-F1       23.252055  10/17/2013         NaN          NaN   \n",
       "219   048-1-F1       23.361644   5/27/2014         NaN          NaN   \n",
       "87    04-234-5       23.490411         NaN   5/12/2014          NaN   \n",
       "50    04-129-7             NaN         NaN   4/19/2012          NaN   \n",
       "199   021-7-F1             NaN                     NaN          NaN   \n",
       "203   026-8-F1             NaN                     NaN          NaN   \n",
       "\n",
       "            DOB  metadata_id  \n",
       "223  10/22/2015     fundo_v2  \n",
       "76    9/23/1994          k23  \n",
       "172   9/14/1996  r01_aim3_v2  \n",
       "208  11/30/1994     fundo_v2  \n",
       "176   9/30/1995  r01_aim3_v2  \n",
       "209    2/7/1994     fundo_v2  \n",
       "214   7/23/1990     fundo_v2  \n",
       "219   1/21/1991     fundo_v2  \n",
       "87   11/20/1990          k23  \n",
       "50                       k23  \n",
       "199   7/24/2005     fundo_v2  \n",
       "203  10/25/2009     fundo_v2  "
      ]
     },
     "execution_count": 44,
     "metadata": {},
     "output_type": "execute_result"
    }
   ],
   "source": [
    "date_cols = ['subject_id', 'age', 'COMPDATE_BL', 'visit_date', 'BASELINEDATE', 'dob_all', 'metadata_id']\n",
    "\n",
    "missing_subjs = (\n",
    "    bigdf_nodup.query('age < 0')['subject_id'].values.tolist() +\n",
    "    bigdf_nodup.query('age > 18')['subject_id'].values.tolist() + \n",
    "    bigdf_nodup[['age', 'subject_id']].fillna('nan').query('age == \"nan\"')['subject_id'].values.tolist()\n",
    ")\n",
    "\n",
    "bigdf_nodup.query('subject_id == @missing_subjs')[date_cols].rename(columns={\n",
    "    'age': 'calculated_age',\n",
    "    'visit_date': 'VISITDT_k23',\n",
    "    'dob_all': 'DOB'\n",
    "}).sort_values(by='calculated_age')"
   ]
  },
  {
   "cell_type": "markdown",
   "metadata": {},
   "source": [
    "From Eliza's email on 2/11,\n",
    "\n",
    "> Patient missing DOB = 04-129-7 : 10/23/2006    \n",
    "> Patients missing visit date = 021-7-F1 = 7/19/2012 and 026-8-F1=8/23/2012      \n",
    "> Patient with negative age = 057-9-F1 birthday is 10/22/2014 and their date of visit is 5/22/2015 - there should not be a negative age, must have been an error in the birth year.     \n",
    "> All the others on this table are older than 18 have the correct ages.\n"
   ]
  },
  {
   "cell_type": "code",
   "execution_count": 45,
   "metadata": {},
   "outputs": [
    {
     "data": {
      "text/html": [
       "<div>\n",
       "<style scoped>\n",
       "    .dataframe tbody tr th:only-of-type {\n",
       "        vertical-align: middle;\n",
       "    }\n",
       "\n",
       "    .dataframe tbody tr th {\n",
       "        vertical-align: top;\n",
       "    }\n",
       "\n",
       "    .dataframe thead th {\n",
       "        text-align: right;\n",
       "    }\n",
       "</style>\n",
       "<table border=\"1\" class=\"dataframe\">\n",
       "  <thead>\n",
       "    <tr style=\"text-align: right;\">\n",
       "      <th></th>\n",
       "      <th>DOB</th>\n",
       "      <th>subject_id</th>\n",
       "      <th>age</th>\n",
       "      <th>COMPDATE_BL</th>\n",
       "      <th>visit_date</th>\n",
       "      <th>BASELINEDATE</th>\n",
       "      <th>dob_all</th>\n",
       "      <th>metadata_id</th>\n",
       "    </tr>\n",
       "  </thead>\n",
       "  <tbody>\n",
       "    <tr>\n",
       "      <th>50</th>\n",
       "      <td></td>\n",
       "      <td>04-129-7</td>\n",
       "      <td>NaN</td>\n",
       "      <td>NaN</td>\n",
       "      <td>4/19/2012</td>\n",
       "      <td>NaN</td>\n",
       "      <td></td>\n",
       "      <td>k23</td>\n",
       "    </tr>\n",
       "  </tbody>\n",
       "</table>\n",
       "</div>"
      ],
      "text/plain": [
       "   DOB subject_id  age COMPDATE_BL visit_date BASELINEDATE dob_all metadata_id\n",
       "50       04-129-7  NaN         NaN  4/19/2012          NaN                 k23"
      ]
     },
     "execution_count": 45,
     "metadata": {},
     "output_type": "execute_result"
    }
   ],
   "source": [
    "bigdf_nodup.query('SUBJID == \"04-129-7\"')[['DOB'] + date_cols]"
   ]
  },
  {
   "cell_type": "code",
   "execution_count": 46,
   "metadata": {},
   "outputs": [
    {
     "data": {
      "text/html": [
       "<div>\n",
       "<style scoped>\n",
       "    .dataframe tbody tr th:only-of-type {\n",
       "        vertical-align: middle;\n",
       "    }\n",
       "\n",
       "    .dataframe tbody tr th {\n",
       "        vertical-align: top;\n",
       "    }\n",
       "\n",
       "    .dataframe thead th {\n",
       "        text-align: right;\n",
       "    }\n",
       "</style>\n",
       "<table border=\"1\" class=\"dataframe\">\n",
       "  <thead>\n",
       "    <tr style=\"text-align: right;\">\n",
       "      <th></th>\n",
       "      <th>SUBJID</th>\n",
       "      <th>CLAIRESEQUENC</th>\n",
       "      <th>SUBJINTL_allk23</th>\n",
       "      <th>AIM1YN_allk23</th>\n",
       "      <th>AIM2YN_allk23</th>\n",
       "      <th>AIM3YN_allk23</th>\n",
       "      <th>VISITDT_allk23</th>\n",
       "      <th>VISITNO_allk23</th>\n",
       "      <th>COMPDATE</th>\n",
       "      <th>INITIAL_allk23</th>\n",
       "      <th>...</th>\n",
       "      <th>ABX1SP</th>\n",
       "      <th>ABX1DUR</th>\n",
       "      <th>ABX1DOSE</th>\n",
       "      <th>ABX2SP</th>\n",
       "      <th>ABX2DUR</th>\n",
       "      <th>ABX2DOSE</th>\n",
       "      <th>subject_meta_files</th>\n",
       "      <th>subject_id</th>\n",
       "      <th>dob_all</th>\n",
       "      <th>age</th>\n",
       "    </tr>\n",
       "  </thead>\n",
       "  <tbody>\n",
       "    <tr>\n",
       "      <th>50</th>\n",
       "      <td>04-129-7</td>\n",
       "      <td>1.0</td>\n",
       "      <td>MB</td>\n",
       "      <td>0</td>\n",
       "      <td>1</td>\n",
       "      <td>0</td>\n",
       "      <td>4/19/2012</td>\n",
       "      <td>1</td>\n",
       "      <td>4/19/2012</td>\n",
       "      <td></td>\n",
       "      <td>...</td>\n",
       "      <td>NaN</td>\n",
       "      <td>NaN</td>\n",
       "      <td>NaN</td>\n",
       "      <td>NaN</td>\n",
       "      <td>NaN</td>\n",
       "      <td>NaN</td>\n",
       "      <td>k23</td>\n",
       "      <td>04-129-7</td>\n",
       "      <td>10/23/2006</td>\n",
       "      <td>5.493151</td>\n",
       "    </tr>\n",
       "  </tbody>\n",
       "</table>\n",
       "<p>1 rows × 1225 columns</p>\n",
       "</div>"
      ],
      "text/plain": [
       "      SUBJID  CLAIRESEQUENC SUBJINTL_allk23 AIM1YN_allk23 AIM2YN_allk23  \\\n",
       "50  04-129-7            1.0              MB             0             1   \n",
       "\n",
       "   AIM3YN_allk23 VISITDT_allk23 VISITNO_allk23   COMPDATE INITIAL_allk23  \\\n",
       "50             0      4/19/2012              1  4/19/2012                  \n",
       "\n",
       "      ...    ABX1SP ABX1DUR ABX1DOSE ABX2SP ABX2DUR ABX2DOSE  \\\n",
       "50    ...       NaN     NaN      NaN    NaN     NaN      NaN   \n",
       "\n",
       "   subject_meta_files subject_id     dob_all       age  \n",
       "50                k23   04-129-7  10/23/2006  5.493151  \n",
       "\n",
       "[1 rows x 1225 columns]"
      ]
     },
     "execution_count": 46,
     "metadata": {},
     "output_type": "execute_result"
    }
   ],
   "source": [
    "idx = bigdf_nodup.query('SUBJID == \"04-129-7\"').index\n",
    "bigdf_nodup.loc[idx, 'dob_all'] = \"10/23/2006\"\n",
    "bigdf_nodup.loc[idx, 'age'] = (\n",
    "    (pd.to_datetime(bigdf_nodup.loc[idx, 'visit_date']) \n",
    "     - pd.to_datetime(bigdf_nodup.loc[idx, 'dob_all'])).dt.days / 365.0\n",
    ")\n",
    "bigdf_nodup.loc[idx]"
   ]
  },
  {
   "cell_type": "code",
   "execution_count": 47,
   "metadata": {},
   "outputs": [
    {
     "data": {
      "text/html": [
       "<div>\n",
       "<style scoped>\n",
       "    .dataframe tbody tr th:only-of-type {\n",
       "        vertical-align: middle;\n",
       "    }\n",
       "\n",
       "    .dataframe tbody tr th {\n",
       "        vertical-align: top;\n",
       "    }\n",
       "\n",
       "    .dataframe thead th {\n",
       "        text-align: right;\n",
       "    }\n",
       "</style>\n",
       "<table border=\"1\" class=\"dataframe\">\n",
       "  <thead>\n",
       "    <tr style=\"text-align: right;\">\n",
       "      <th></th>\n",
       "      <th>subject_id</th>\n",
       "      <th>age</th>\n",
       "      <th>COMPDATE_BL</th>\n",
       "      <th>visit_date</th>\n",
       "      <th>BASELINEDATE</th>\n",
       "      <th>dob_all</th>\n",
       "      <th>metadata_id</th>\n",
       "    </tr>\n",
       "  </thead>\n",
       "  <tbody>\n",
       "    <tr>\n",
       "      <th>199</th>\n",
       "      <td>021-7-F1</td>\n",
       "      <td>6.991781</td>\n",
       "      <td>7/19/2012</td>\n",
       "      <td>NaN</td>\n",
       "      <td>NaN</td>\n",
       "      <td>7/24/2005</td>\n",
       "      <td>fundo_v2</td>\n",
       "    </tr>\n",
       "  </tbody>\n",
       "</table>\n",
       "</div>"
      ],
      "text/plain": [
       "    subject_id       age COMPDATE_BL visit_date BASELINEDATE    dob_all  \\\n",
       "199   021-7-F1  6.991781   7/19/2012        NaN          NaN  7/24/2005   \n",
       "\n",
       "    metadata_id  \n",
       "199    fundo_v2  "
      ]
     },
     "execution_count": 47,
     "metadata": {},
     "output_type": "execute_result"
    }
   ],
   "source": [
    "idx = bigdf_nodup.query('SUBJID == \"021-7-F1\"').index\n",
    "bigdf_nodup.loc[idx, 'COMPDATE_BL'] = \"7/19/2012\"\n",
    "bigdf_nodup.loc[idx, 'age'] = (\n",
    "    (pd.to_datetime(bigdf_nodup.loc[idx, 'COMPDATE_BL']) \n",
    "     - pd.to_datetime(bigdf_nodup.loc[idx, 'dob_all'])).dt.days / 365.0\n",
    ")\n",
    "bigdf_nodup.loc[idx, date_cols]"
   ]
  },
  {
   "cell_type": "code",
   "execution_count": 48,
   "metadata": {},
   "outputs": [
    {
     "data": {
      "text/html": [
       "<div>\n",
       "<style scoped>\n",
       "    .dataframe tbody tr th:only-of-type {\n",
       "        vertical-align: middle;\n",
       "    }\n",
       "\n",
       "    .dataframe tbody tr th {\n",
       "        vertical-align: top;\n",
       "    }\n",
       "\n",
       "    .dataframe thead th {\n",
       "        text-align: right;\n",
       "    }\n",
       "</style>\n",
       "<table border=\"1\" class=\"dataframe\">\n",
       "  <thead>\n",
       "    <tr style=\"text-align: right;\">\n",
       "      <th></th>\n",
       "      <th>subject_id</th>\n",
       "      <th>age</th>\n",
       "      <th>COMPDATE_BL</th>\n",
       "      <th>visit_date</th>\n",
       "      <th>BASELINEDATE</th>\n",
       "      <th>dob_all</th>\n",
       "      <th>metadata_id</th>\n",
       "    </tr>\n",
       "  </thead>\n",
       "  <tbody>\n",
       "    <tr>\n",
       "      <th>203</th>\n",
       "      <td>026-8-F1</td>\n",
       "      <td>2.830137</td>\n",
       "      <td>8/23/2012</td>\n",
       "      <td>NaN</td>\n",
       "      <td>NaN</td>\n",
       "      <td>10/25/2009</td>\n",
       "      <td>fundo_v2</td>\n",
       "    </tr>\n",
       "  </tbody>\n",
       "</table>\n",
       "</div>"
      ],
      "text/plain": [
       "    subject_id       age COMPDATE_BL visit_date BASELINEDATE     dob_all  \\\n",
       "203   026-8-F1  2.830137   8/23/2012        NaN          NaN  10/25/2009   \n",
       "\n",
       "    metadata_id  \n",
       "203    fundo_v2  "
      ]
     },
     "execution_count": 48,
     "metadata": {},
     "output_type": "execute_result"
    }
   ],
   "source": [
    "idx = bigdf_nodup.query('SUBJID == \"026-8-F1\"').index\n",
    "bigdf_nodup.loc[idx, 'COMPDATE_BL'] = \"8/23/2012\"\n",
    "bigdf_nodup.loc[idx, 'age'] = (\n",
    "    (pd.to_datetime(bigdf_nodup.loc[idx, 'COMPDATE_BL']) \n",
    "     - pd.to_datetime(bigdf_nodup.loc[idx, 'dob_all'])).dt.days / 365.0\n",
    ")\n",
    "bigdf_nodup.loc[idx, date_cols]"
   ]
  },
  {
   "cell_type": "code",
   "execution_count": 49,
   "metadata": {},
   "outputs": [
    {
     "data": {
      "text/html": [
       "<div>\n",
       "<style scoped>\n",
       "    .dataframe tbody tr th:only-of-type {\n",
       "        vertical-align: middle;\n",
       "    }\n",
       "\n",
       "    .dataframe tbody tr th {\n",
       "        vertical-align: top;\n",
       "    }\n",
       "\n",
       "    .dataframe thead th {\n",
       "        text-align: right;\n",
       "    }\n",
       "</style>\n",
       "<table border=\"1\" class=\"dataframe\">\n",
       "  <thead>\n",
       "    <tr style=\"text-align: right;\">\n",
       "      <th></th>\n",
       "      <th>subject_id</th>\n",
       "      <th>age</th>\n",
       "      <th>COMPDATE_BL</th>\n",
       "      <th>visit_date</th>\n",
       "      <th>BASELINEDATE</th>\n",
       "      <th>dob_all</th>\n",
       "      <th>metadata_id</th>\n",
       "    </tr>\n",
       "  </thead>\n",
       "  <tbody>\n",
       "    <tr>\n",
       "      <th>223</th>\n",
       "      <td>057-9-F1</td>\n",
       "      <td>0.580822</td>\n",
       "      <td>5/22/2015</td>\n",
       "      <td>NaN</td>\n",
       "      <td>NaN</td>\n",
       "      <td>10/22/2014</td>\n",
       "      <td>fundo_v2</td>\n",
       "    </tr>\n",
       "  </tbody>\n",
       "</table>\n",
       "</div>"
      ],
      "text/plain": [
       "    subject_id       age COMPDATE_BL visit_date BASELINEDATE     dob_all  \\\n",
       "223   057-9-F1  0.580822   5/22/2015        NaN          NaN  10/22/2014   \n",
       "\n",
       "    metadata_id  \n",
       "223    fundo_v2  "
      ]
     },
     "execution_count": 49,
     "metadata": {},
     "output_type": "execute_result"
    }
   ],
   "source": [
    "idx = bigdf_nodup.query('SUBJID == \"057-9-F1\"').index\n",
    "bigdf_nodup.loc[idx, 'dob_all'] = \"10/22/2014\"\n",
    "bigdf_nodup.loc[idx, 'COMPDATE_BL'] = \"5/22/2015\"\n",
    "bigdf_nodup.loc[idx, 'age'] = (\n",
    "    (pd.to_datetime(bigdf_nodup.loc[idx, 'COMPDATE_BL']) \n",
    "     - pd.to_datetime(bigdf_nodup.loc[idx, 'dob_all'])).dt.days / 365.0\n",
    ")\n",
    "bigdf_nodup.loc[idx, date_cols]\n"
   ]
  },
  {
   "cell_type": "code",
   "execution_count": 50,
   "metadata": {},
   "outputs": [],
   "source": [
    "newcols.append('age')"
   ]
  },
  {
   "cell_type": "markdown",
   "metadata": {},
   "source": [
    "### Margot's question on 2/19\n",
    "\n",
    "```\n",
    "I have a question about the table that you sent regarding which patients' samples have sequencing data. Some of the study IDs have multiple dates sent for sequencing - are you able to see which dates got microbiome data?\n",
    "\n",
    "The IDs with multiple dates are:\n",
    "01-112-7 (aka 13-112-7)\n",
    "01-164-7 (aka 13-164-7)\n",
    "01-165-8 (aka 13-165-8)\n",
    "01-200-1 (may be listed as 03-200-1 or 13-200-1)\n",
    "01-230-9\n",
    "01-263-4\n",
    "13-058-2\n",
    "13-089-1\n",
    "13-199-7 (aka 01-199-7 or 03-199-7)\n",
    "```"
   ]
  },
  {
   "cell_type": "code",
   "execution_count": 54,
   "metadata": {},
   "outputs": [
    {
     "data": {
      "text/html": [
       "<div>\n",
       "<style scoped>\n",
       "    .dataframe tbody tr th:only-of-type {\n",
       "        vertical-align: middle;\n",
       "    }\n",
       "\n",
       "    .dataframe tbody tr th {\n",
       "        vertical-align: top;\n",
       "    }\n",
       "\n",
       "    .dataframe thead th {\n",
       "        text-align: right;\n",
       "    }\n",
       "</style>\n",
       "<table border=\"1\" class=\"dataframe\">\n",
       "  <thead>\n",
       "    <tr style=\"text-align: right;\">\n",
       "      <th></th>\n",
       "      <th>subject_id</th>\n",
       "      <th>BASELINEDATE</th>\n",
       "    </tr>\n",
       "  </thead>\n",
       "  <tbody>\n",
       "    <tr>\n",
       "      <th>180</th>\n",
       "      <td>13-058-2</td>\n",
       "      <td>10/14/2013</td>\n",
       "    </tr>\n",
       "    <tr>\n",
       "      <th>181</th>\n",
       "      <td>13-089-1</td>\n",
       "      <td>1/16/2014</td>\n",
       "    </tr>\n",
       "    <tr>\n",
       "      <th>182</th>\n",
       "      <td>01-112-7</td>\n",
       "      <td>4/14/2014</td>\n",
       "    </tr>\n",
       "    <tr>\n",
       "      <th>183</th>\n",
       "      <td>01-164-7</td>\n",
       "      <td>11/5/2014</td>\n",
       "    </tr>\n",
       "    <tr>\n",
       "      <th>184</th>\n",
       "      <td>01-165-8</td>\n",
       "      <td>11/6/2014</td>\n",
       "    </tr>\n",
       "    <tr>\n",
       "      <th>187</th>\n",
       "      <td>01-200-1</td>\n",
       "      <td>4/1/2015</td>\n",
       "    </tr>\n",
       "    <tr>\n",
       "      <th>190</th>\n",
       "      <td>01-230-9</td>\n",
       "      <td>7/21/2015</td>\n",
       "    </tr>\n",
       "    <tr>\n",
       "      <th>192</th>\n",
       "      <td>01-263-4</td>\n",
       "      <td>9/16/2015</td>\n",
       "    </tr>\n",
       "  </tbody>\n",
       "</table>\n",
       "</div>"
      ],
      "text/plain": [
       "    subject_id BASELINEDATE\n",
       "180   13-058-2   10/14/2013\n",
       "181   13-089-1    1/16/2014\n",
       "182   01-112-7    4/14/2014\n",
       "183   01-164-7    11/5/2014\n",
       "184   01-165-8    11/6/2014\n",
       "187   01-200-1     4/1/2015\n",
       "190   01-230-9    7/21/2015\n",
       "192   01-263-4    9/16/2015"
      ]
     },
     "execution_count": 54,
     "metadata": {},
     "output_type": "execute_result"
    }
   ],
   "source": [
    "c = ['subject_id', \"BASELINEDATE\"]\n",
    "s = [\"01-112-7\",\n",
    "     \"13-112-7\",\n",
    "     \"01-164-7\",\n",
    "     \"01-165-8\",\n",
    "     \"13-164-7\",\n",
    "     \"01-200-1\", \n",
    "     \"03-200-1\",\n",
    "     \"13-200-1\",\n",
    "     \"01-230-9\",\n",
    "     \"01-263-4\",\n",
    "     \"13-058-2\",\n",
    "     \"13-089-1\",\n",
    "     \"13-199-7\",\n",
    "     \"01-199-7\",\n",
    "     \"03-199-1\"\n",
    "    ]\n",
    "bigdf_nodup.query('subject_id == @s')[c]"
   ]
  },
  {
   "cell_type": "code",
   "execution_count": null,
   "metadata": {},
   "outputs": [],
   "source": []
  },
  {
   "cell_type": "markdown",
   "metadata": {},
   "source": [
    "### Gender\n",
    "\n",
    "The following patients don't have gender data in the table, but from Eliza's email on Feb 1 they are all male: 04-062-8, 04-103-5, 026-8-F1"
   ]
  },
  {
   "cell_type": "code",
   "execution_count": 140,
   "metadata": {},
   "outputs": [],
   "source": [
    "# First, replace GENDER column so that 0 = M and 1 = F\n",
    "# (to match the )\n",
    "\n",
    "cols = ['GENDER', 'GENDER_BL']\n",
    "newcol = 'gender_all'\n",
    "newcols.append(newcol)\n",
    "\n",
    "conflicts = bigdf_nodup.apply(lambda row: identify_conflicts(row, cols), axis=1).sum()\n",
    "if conflicts == 0:\n",
    "    bigdf_nodup[newcol] = bigdf_nodup[cols[0]].fillna(bigdf_nodup[cols[1]])\n",
    "else:\n",
    "    print('conflicts!')\n",
    "    \n",
    "# Replace with string\n",
    "bigdf_nodup[newcol] = bigdf_nodup[newcol].replace({'0': 'M', '1': 'F', 0.0: 'M', 1.0: 'F'})\n",
    "\n",
    "# Manually fill in patients with missing data    \n",
    "male_pts = ['04-062-8', '04-103-5', '026-8-F1']\n",
    "bigdf_nodup.loc[bigdf_nodup.query('subject_id == @male_pts').index, 'gender_all'] = 'M'\n"
   ]
  },
  {
   "cell_type": "code",
   "execution_count": 141,
   "metadata": {},
   "outputs": [
    {
     "data": {
      "text/plain": [
       "gender_all\n",
       "2      1\n",
       "F     90\n",
       "M    129\n",
       "dtype: int64"
      ]
     },
     "execution_count": 141,
     "metadata": {},
     "output_type": "execute_result"
    }
   ],
   "source": [
    "bigdf_nodup.groupby(newcol).size()"
   ]
  },
  {
   "cell_type": "code",
   "execution_count": 142,
   "metadata": {},
   "outputs": [
    {
     "data": {
      "text/html": [
       "<div>\n",
       "<style scoped>\n",
       "    .dataframe tbody tr th:only-of-type {\n",
       "        vertical-align: middle;\n",
       "    }\n",
       "\n",
       "    .dataframe tbody tr th {\n",
       "        vertical-align: top;\n",
       "    }\n",
       "\n",
       "    .dataframe thead th {\n",
       "        text-align: right;\n",
       "    }\n",
       "</style>\n",
       "<table border=\"1\" class=\"dataframe\">\n",
       "  <thead>\n",
       "    <tr style=\"text-align: right;\">\n",
       "      <th></th>\n",
       "      <th>SUBJID</th>\n",
       "      <th>CLAIRESEQUENC</th>\n",
       "      <th>SUBJINTL_allk23</th>\n",
       "      <th>AIM1YN_allk23</th>\n",
       "      <th>AIM2YN_allk23</th>\n",
       "      <th>AIM3YN_allk23</th>\n",
       "      <th>VISITDT_allk23</th>\n",
       "      <th>VISITNO_allk23</th>\n",
       "      <th>COMPDATE</th>\n",
       "      <th>INITIAL_allk23</th>\n",
       "      <th>...</th>\n",
       "      <th>ABX1DUR</th>\n",
       "      <th>ABX1DOSE</th>\n",
       "      <th>ABX2SP</th>\n",
       "      <th>ABX2DUR</th>\n",
       "      <th>ABX2DOSE</th>\n",
       "      <th>subject_meta_files</th>\n",
       "      <th>subject_id</th>\n",
       "      <th>dob_all</th>\n",
       "      <th>age</th>\n",
       "      <th>gender_all</th>\n",
       "    </tr>\n",
       "  </thead>\n",
       "  <tbody>\n",
       "    <tr>\n",
       "      <th>206</th>\n",
       "      <td>029-5-F1</td>\n",
       "      <td>NaN</td>\n",
       "      <td>NaN</td>\n",
       "      <td>NaN</td>\n",
       "      <td>NaN</td>\n",
       "      <td>NaN</td>\n",
       "      <td>NaN</td>\n",
       "      <td>NaN</td>\n",
       "      <td>NaN</td>\n",
       "      <td>NaN</td>\n",
       "      <td>...</td>\n",
       "      <td></td>\n",
       "      <td></td>\n",
       "      <td></td>\n",
       "      <td></td>\n",
       "      <td></td>\n",
       "      <td>fundo_v1-fundo_v2</td>\n",
       "      <td>029-6-F1</td>\n",
       "      <td>2/17/2012</td>\n",
       "      <td>1.131507</td>\n",
       "      <td>2</td>\n",
       "    </tr>\n",
       "  </tbody>\n",
       "</table>\n",
       "<p>1 rows × 1226 columns</p>\n",
       "</div>"
      ],
      "text/plain": [
       "       SUBJID  CLAIRESEQUENC SUBJINTL_allk23 AIM1YN_allk23 AIM2YN_allk23  \\\n",
       "206  029-5-F1            NaN             NaN           NaN           NaN   \n",
       "\n",
       "    AIM3YN_allk23 VISITDT_allk23 VISITNO_allk23 COMPDATE INITIAL_allk23  \\\n",
       "206           NaN            NaN            NaN      NaN            NaN   \n",
       "\n",
       "       ...     ABX1DUR ABX1DOSE ABX2SP ABX2DUR ABX2DOSE subject_meta_files  \\\n",
       "206    ...                                               fundo_v1-fundo_v2   \n",
       "\n",
       "    subject_id    dob_all       age gender_all  \n",
       "206   029-6-F1  2/17/2012  1.131507          2  \n",
       "\n",
       "[1 rows x 1226 columns]"
      ]
     },
     "execution_count": 142,
     "metadata": {},
     "output_type": "execute_result"
    }
   ],
   "source": [
    "bigdf_nodup.query('gender_all == \"2\"')"
   ]
  },
  {
   "cell_type": "markdown",
   "metadata": {},
   "source": [
    "From Eliza's email on 2/11,\n",
    "\n",
    "> Gender: 029-5-F1= Female"
   ]
  },
  {
   "cell_type": "code",
   "execution_count": 143,
   "metadata": {},
   "outputs": [],
   "source": [
    "bigdf_nodup.loc[bigdf_nodup.query('SUBJID == \"029-5-F1\"').index, 'gender_all'] = \"F\""
   ]
  },
  {
   "cell_type": "code",
   "execution_count": 144,
   "metadata": {},
   "outputs": [
    {
     "data": {
      "text/plain": [
       "gender_all\n",
       "F     91\n",
       "M    129\n",
       "dtype: int64"
      ]
     },
     "execution_count": 144,
     "metadata": {},
     "output_type": "execute_result"
    }
   ],
   "source": [
    "bigdf_nodup.groupby(newcol).size()"
   ]
  },
  {
   "cell_type": "markdown",
   "metadata": {},
   "source": [
    "## Medications"
   ]
  },
  {
   "cell_type": "code",
   "execution_count": 145,
   "metadata": {},
   "outputs": [],
   "source": [
    "# Recent history of antibiotics\n",
    "# -6: and -8 are no's; anything else is unkown\n",
    "cols = ['ANTIB1MO', 'T0ABX1MO', 'ANTIB1MONTH']\n",
    "newcol = 'abx_all'\n",
    "newcols.append(newcol)\n",
    "\n",
    "conflicts = bigdf_nodup.apply(lambda row: identify_conflicts(row, cols), axis=1).sum()\n",
    "if conflicts == 0:\n",
    "    bigdf_nodup[newcol] = bigdf_nodup[cols[0]].fillna(bigdf_nodup[cols[1]]).fillna(bigdf_nodup[cols[2]])\n",
    "else:\n",
    "    print('conflicts!')\n",
    "    \n",
    "# On PPIs now\n",
    "cols = ['MEDI2C', 'PPI48HRS', 'PPIstatus_BL']\n",
    "newcol = 'ppi_all'\n",
    "newcols.append(newcol)\n",
    "\n",
    "conflicts = bigdf_nodup.apply(lambda row: identify_conflicts(row, cols), axis=1).sum()\n",
    "if conflicts == 0:\n",
    "    bigdf_nodup[newcol] = bigdf_nodup[cols[0]].fillna(bigdf_nodup[cols[1]]).fillna(bigdf_nodup[cols[2]])\n",
    "else:\n",
    "    print('conflicts!')\n",
    "\n",
    "# H2 blockers\n",
    "# -6: 0, -8: unknown\n",
    "cols = ['MEDI1C', 'H22MOS', 'MEDI1C_BL']\n",
    "newcol = 'h2blockers_all'\n",
    "newcols.append(newcol)\n",
    "\n",
    "conflicts = bigdf_nodup.apply(lambda row: identify_conflicts(row, cols), axis=1).sum()\n",
    "if conflicts == 0:\n",
    "    bigdf_nodup[newcol] = bigdf_nodup[cols[0]].fillna(bigdf_nodup[cols[1]]).fillna(bigdf_nodup[cols[2]])\n",
    "else:\n",
    "    print('conflicts!')\n",
    "    \n",
    "# Recent usage of inhaled steroids\n",
    "cols = ['MEDI3C', 'INHAL2MOS', 'MEDI3C_BL']\n",
    "newcol = 'inhaled_steroids_all'\n",
    "newcols.append(newcol)\n",
    "\n",
    "conflicts = bigdf_nodup.apply(lambda row: identify_conflicts(row, cols), axis=1).sum()\n",
    "if conflicts == 0:\n",
    "    bigdf_nodup[newcol] = bigdf_nodup[cols[0]].fillna(bigdf_nodup[cols[1]]).fillna(bigdf_nodup[cols[2]])\n",
    "else:\n",
    "    print('conflicts!')\n",
    "\n",
    "# Recent usage of oral steroids\n",
    "\n",
    "# First, I need to consolidate the R01 data, where\n",
    "# this is broken up into two columns (SWALL2MOS and ORAL2MOS)\n",
    "def consolidate_oral_steroids(row):\n",
    "    '''\n",
    "    Consolidate the two oral steroids rows from R01 data\n",
    "    \n",
    "    If either column has a \"1\", return that. \n",
    "    If not, but at least one column has a \"0\", return that.\n",
    "        (Because the patient's parents knew about at least one\n",
    "        of the two types of delivery methods, so we'll upweight \n",
    "        that response over the other \"I don't know\". Also, most\n",
    "        of the ORAL2MOS responses are -9 [don't know].)\n",
    "\n",
    "    If neither column has a 1 or 0, return NaN.    \n",
    "    '''\n",
    "    vals = row[['SWALL2MOS', 'ORAL2MOS']].values\n",
    "    if '1' in vals:\n",
    "        return '1'\n",
    "    elif '0' in vals:\n",
    "        return '0'\n",
    "    else:\n",
    "        return np.nan\n",
    "    \n",
    "bigdf_nodup['swall_or_oral_2mos'] = bigdf_nodup[['SWALL2MOS', 'ORAL2MOS']].apply(lambda row: consolidate_oral_steroids(row), axis=1)\n",
    "\n",
    "\n",
    "cols = ['MEDI4C', 'swall_or_oral_2mos', 'MEDI4C_BL']\n",
    "newcol = 'oral_steroids_all'\n",
    "newcols.append(newcol)\n",
    "\n",
    "conflicts = bigdf_nodup.apply(lambda row: identify_conflicts(row, cols), axis=1).sum()\n",
    "if conflicts == 0:\n",
    "    bigdf_nodup[newcol] = bigdf_nodup[cols[0]].fillna(bigdf_nodup[cols[1]]).fillna(bigdf_nodup[cols[2]])\n",
    "else:\n",
    "    print(conflicts)\n",
    "    print('conflicts!')\n"
   ]
  },
  {
   "cell_type": "markdown",
   "metadata": {},
   "source": [
    "## Symptoms\n",
    "\n",
    "Symptoms have matching column IDs for two of the three datasets."
   ]
  },
  {
   "cell_type": "code",
   "execution_count": 146,
   "metadata": {},
   "outputs": [],
   "source": [
    "# Problem swallowing\n",
    "cols = ['PSWALL', 'pswall6mo_BL']\n",
    "newcol = 'prob_swall_all'\n",
    "newcols.append(newcol)\n",
    "\n",
    "conflicts = bigdf_nodup.apply(lambda row: identify_conflicts(row, cols), axis=1).sum()\n",
    "if conflicts == 0:\n",
    "    bigdf_nodup[newcol] = bigdf_nodup[cols[0]].fillna(bigdf_nodup[cols[1]])\n",
    "else:\n",
    "    print('conflicts!')\n",
    "    \n",
    "# Food stuck\n",
    "cols = ['FOODSTUCK', 'foodstuck6mo_BL']\n",
    "newcol = 'food_stuck_all'\n",
    "newcols.append(newcol)\n",
    "\n",
    "conflicts = bigdf_nodup.apply(lambda row: identify_conflicts(row, cols), axis=1).sum()\n",
    "if conflicts == 0:\n",
    "    bigdf_nodup[newcol] = bigdf_nodup[cols[0]].fillna(bigdf_nodup[cols[1]])\n",
    "else:\n",
    "    print('conflicts!')\n",
    "\n",
    "# Difficulty swallowing\n",
    "cols = ['SWLLDIFF', 'diffswall6mo_BL']\n",
    "newcol = 'diff_swall_all'\n",
    "newcols.append(newcol)\n",
    "\n",
    "conflicts = bigdf_nodup.apply(lambda row: identify_conflicts(row, cols), axis=1).sum()\n",
    "if conflicts == 0:\n",
    "    bigdf_nodup[newcol] = bigdf_nodup[cols[0]].fillna(bigdf_nodup[cols[1]])\n",
    "else:\n",
    "    print('conflicts!')\n",
    "\n",
    "# Abdominal pain\n",
    "cols = ['ABPAIN', 'abdpain6mo_BL']\n",
    "newcol = 'abd_pain_all'\n",
    "newcols.append(newcol)\n",
    "\n",
    "conflicts = bigdf_nodup.apply(lambda row: identify_conflicts(row, cols), axis=1).sum()\n",
    "if conflicts == 0:\n",
    "    bigdf_nodup[newcol] = bigdf_nodup[cols[0]].fillna(bigdf_nodup[cols[1]])\n",
    "else:\n",
    "    print('conflicts!')\n",
    "\n",
    "# Constipation\n",
    "# Note: fundo patients do not have this metadata\n",
    "newcols.append('const_all')\n",
    "bigdf_nodup['const_all'] = bigdf_nodup['CONSTIP']\n",
    "\n",
    "# Weight loss\n",
    "cols = ['WTLOSS', 'wtloss6mo_BL']\n",
    "newcol = 'wtloss_all'\n",
    "newcols.append(newcol)\n",
    "\n",
    "conflicts = bigdf_nodup.apply(lambda row: identify_conflicts(row, cols), axis=1).sum()\n",
    "if conflicts == 0:\n",
    "    bigdf_nodup[newcol] = bigdf_nodup[cols[0]].fillna(bigdf_nodup[cols[1]])\n",
    "else:\n",
    "    print('conflicts!')\n",
    "    \n",
    "# Food up\n",
    "cols = ['FOODUP', 'foodup6mo_BL']\n",
    "newcol = 'foodup_all'\n",
    "newcols.append(newcol)\n",
    "\n",
    "conflicts = bigdf_nodup.apply(lambda row: identify_conflicts(row, cols), axis=1).sum()\n",
    "if conflicts == 0:\n",
    "    bigdf_nodup[newcol] = bigdf_nodup[cols[0]].fillna(bigdf_nodup[cols[1]])\n",
    "else:\n",
    "    print('conflicts!')\n",
    "\n",
    "# Chest pain\n",
    "cols = ['CHSTPAIN', 'chstpain6mo_BL']\n",
    "newcol = 'chest_pain_all'\n",
    "newcols.append(newcol)\n",
    "\n",
    "conflicts = bigdf_nodup.apply(lambda row: identify_conflicts(row, cols), axis=1).sum()\n",
    "if conflicts == 0:\n",
    "    bigdf_nodup[newcol] = bigdf_nodup[cols[0]].fillna(bigdf_nodup[cols[1]])\n",
    "else:\n",
    "    print('conflicts!')\n",
    "\n",
    "# Asthma\n",
    "cols = ['ASTH6', 'asthma6mo_BL']\n",
    "newcol = 'asthma_all'\n",
    "newcols.append(newcol)\n",
    "\n",
    "conflicts = bigdf_nodup.apply(lambda row: identify_conflicts(row, cols), axis=1).sum()\n",
    "if conflicts == 0:\n",
    "    bigdf_nodup[newcol] = bigdf_nodup[cols[0]].fillna(bigdf_nodup[cols[1]])\n",
    "else:\n",
    "    print('conflicts!')\n",
    "\n",
    "# Chronic cough\n",
    "cols = ['COUGH6', 'COND48_BL']\n",
    "newcol = 'chronic_cough_all'\n",
    "newcols.append(newcol)\n",
    "\n",
    "conflicts = bigdf_nodup.apply(lambda row: identify_conflicts(row, cols), axis=1).sum()\n",
    "if conflicts == 0:\n",
    "    bigdf_nodup[newcol] = bigdf_nodup[cols[0]].fillna(bigdf_nodup[cols[1]])\n",
    "else:\n",
    "    print('conflicts!')\n",
    "\n",
    "# # Esophagitis\n",
    "# cols = ['ABNLEGD', 'esophagitisYN']\n",
    "# newcol = 'esophagitis_all'\n",
    "# newcols.append(newcol)\n",
    "\n",
    "# conflicts = bigdf_nodup.apply(lambda row: identify_conflicts(row, cols), axis=1).sum()\n",
    "# if conflicts == 0:\n",
    "#     bigdf_nodup[newcol] = bigdf_nodup[cols[0]].fillna(bigdf_nodup[cols[1]])\n",
    "# else:\n",
    "#     print('conflicts!')"
   ]
  },
  {
   "cell_type": "markdown",
   "metadata": {},
   "source": [
    "## History of infections"
   ]
  },
  {
   "cell_type": "code",
   "execution_count": 147,
   "metadata": {},
   "outputs": [],
   "source": [
    "# Recent history of pneumonia\n",
    "cols = ['PNEUMN', 'T0.PNEUM', 'pna6mo_BL']\n",
    "newcol = 'pneum_all'\n",
    "newcols.append(newcol)\n",
    "\n",
    "conflicts = bigdf_nodup.apply(lambda row: identify_conflicts(row, cols), axis=1).sum()\n",
    "if conflicts == 0:\n",
    "    bigdf_nodup[newcol] = bigdf_nodup['PNEUMN'].fillna(bigdf_nodup['T0.PNEUM']).fillna(bigdf_nodup['pna6mo_BL'])\n",
    "\n",
    "# Ear infection\n",
    "cols = ['EARINF', 'T0.EAR', 'OM6mo_BL']\n",
    "newcol = 'ear_inf_all'\n",
    "newcols.append(newcol)\n",
    "\n",
    "conflicts = bigdf_nodup.apply(lambda row: identify_conflicts(row, cols), axis=1).sum()\n",
    "if conflicts == 0:\n",
    "    bigdf_nodup[newcol] = bigdf_nodup[cols[0]].fillna(bigdf_nodup[cols[1]])\n",
    "else:\n",
    "    print('conflicts!')\n",
    "\n",
    "# Sinus infection\n",
    "cols = ['SINUS', 'T0.SINUS']\n",
    "newcol = 'sinus_inf_all'\n",
    "newcols.append(newcol)\n",
    "\n",
    "conflicts = bigdf_nodup.apply(lambda row: identify_conflicts(row, cols), axis=1).sum()\n",
    "if conflicts == 0:\n",
    "    bigdf_nodup[newcol] = bigdf_nodup[cols[0]].fillna(bigdf_nodup[cols[1]])\n",
    "else:\n",
    "    print('conflicts!')\n"
   ]
  },
  {
   "cell_type": "markdown",
   "metadata": {},
   "source": [
    "## GI symptoms\n",
    "\n",
    "For these, a value of -6 means \"no data\". We'll also replace -8 values, just in case they're in here too."
   ]
  },
  {
   "cell_type": "code",
   "execution_count": 148,
   "metadata": {},
   "outputs": [],
   "source": [
    "cols = ['PGSQsymp', 'PGSQSYMP_BL', 'PGSQSYMP']\n",
    "newcol = 'pgsq_symp_all'\n",
    "newcols.append(newcol)\n",
    "\n",
    "conflicts = bigdf_nodup.apply(lambda row: identify_conflicts(row, cols), axis=1).sum()\n",
    "\n",
    "# Before merging, replace -6 with np.nan (so they don't get replaced to zero,\n",
    "# like we're doing for all hte other columns)\n",
    "bigdf_nodup[cols] = bigdf_nodup[cols].replace({'-6': np.nan, '-8': np.nan})\n",
    "if conflicts == 0:\n",
    "    bigdf_nodup[newcol] = bigdf_nodup[cols[0]].fillna(bigdf_nodup[cols[1]]).fillna(bigdf_nodup[cols[2]])\n",
    "else:\n",
    "    print('conflicts!')\n"
   ]
  },
  {
   "cell_type": "code",
   "execution_count": 149,
   "metadata": {},
   "outputs": [],
   "source": [
    "cols = ['PGSQtotal', 'PGSQTOT_BL', 'PGSQTOT']\n",
    "newcol = 'pgsq_total_all'\n",
    "newcols.append(newcol)\n",
    "\n",
    "conflicts = bigdf_nodup.apply(lambda row: identify_conflicts(row, cols), axis=1).sum()\n",
    "\n",
    "# Before merging, replace -6 with np.nan (so they don't get replaced to zero,\n",
    "# like we're doing for all hte other columns)\n",
    "bigdf_nodup[cols] = bigdf_nodup[cols].replace({'-6': np.nan, '-8': np.nan})\n",
    "if conflicts == 0:\n",
    "    bigdf_nodup[newcol] = bigdf_nodup[cols[0]].fillna(bigdf_nodup[cols[1]]).fillna(bigdf_nodup[cols[2]])\n",
    "else:\n",
    "    print('conflicts!')\n"
   ]
  },
  {
   "cell_type": "markdown",
   "metadata": {},
   "source": [
    "## Merge with existing metadata"
   ]
  },
  {
   "cell_type": "code",
   "execution_count": 171,
   "metadata": {},
   "outputs": [],
   "source": [
    "fmeta = '../../data/clean/rosen.metadata.clean'\n",
    "meta = pd.read_csv(fmeta, sep='\\t', index_col=0)"
   ]
  },
  {
   "cell_type": "code",
   "execution_count": 172,
   "metadata": {},
   "outputs": [
    {
     "data": {
      "text/html": [
       "<div>\n",
       "<style scoped>\n",
       "    .dataframe tbody tr th:only-of-type {\n",
       "        vertical-align: middle;\n",
       "    }\n",
       "\n",
       "    .dataframe tbody tr th {\n",
       "        vertical-align: top;\n",
       "    }\n",
       "\n",
       "    .dataframe thead th {\n",
       "        text-align: right;\n",
       "    }\n",
       "</style>\n",
       "<table border=\"1\" class=\"dataframe\">\n",
       "  <thead>\n",
       "    <tr style=\"text-align: right;\">\n",
       "      <th></th>\n",
       "      <th>If Yes, specify the symptom score</th>\n",
       "      <th>If yes, please indicate level</th>\n",
       "      <th>% time pH&lt;4</th>\n",
       "      <th>% time pH&lt;4:</th>\n",
       "      <th>A1. Subject ID number:</th>\n",
       "      <th>A2. Subject initials:</th>\n",
       "      <th>A3. What Cohort is the subject enrolled into?</th>\n",
       "      <th>A4. Aim(s) enrolled in?</th>\n",
       "      <th>A5.  Date of initial/baseline visit/procedure (MM/DD/YYYY):</th>\n",
       "      <th>A5a. Date filled out(MM/DD/YYYY):</th>\n",
       "      <th>...</th>\n",
       "      <th>STUDYID</th>\n",
       "      <th>STUDY</th>\n",
       "      <th>AIM</th>\n",
       "      <th>SOURCE</th>\n",
       "      <th>PHMII</th>\n",
       "      <th>ACIDSUP</th>\n",
       "      <th>DATE</th>\n",
       "      <th>ppi_consolidated</th>\n",
       "      <th>mbs_consolidated</th>\n",
       "      <th>total_reads</th>\n",
       "    </tr>\n",
       "  </thead>\n",
       "  <tbody>\n",
       "    <tr>\n",
       "      <th>01-112-7GI</th>\n",
       "      <td>NaN</td>\n",
       "      <td>NaN</td>\n",
       "      <td>NaN</td>\n",
       "      <td>NaN</td>\n",
       "      <td>01-112-7</td>\n",
       "      <td>DM</td>\n",
       "      <td>GERD</td>\n",
       "      <td>Aim 1</td>\n",
       "      <td>2014-04-14</td>\n",
       "      <td>2014-04-14</td>\n",
       "      <td>...</td>\n",
       "      <td>NaN</td>\n",
       "      <td>NaN</td>\n",
       "      <td>NaN</td>\n",
       "      <td>NaN</td>\n",
       "      <td>NaN</td>\n",
       "      <td>NaN</td>\n",
       "      <td>NaN</td>\n",
       "      <td>NaN</td>\n",
       "      <td>NaN</td>\n",
       "      <td>271980</td>\n",
       "    </tr>\n",
       "    <tr>\n",
       "      <th>01-112-7RI</th>\n",
       "      <td>NaN</td>\n",
       "      <td>NaN</td>\n",
       "      <td>NaN</td>\n",
       "      <td>NaN</td>\n",
       "      <td>01-112-7</td>\n",
       "      <td>DM</td>\n",
       "      <td>GERD</td>\n",
       "      <td>Aim 1</td>\n",
       "      <td>2014-04-14</td>\n",
       "      <td>2014-04-14</td>\n",
       "      <td>...</td>\n",
       "      <td>NaN</td>\n",
       "      <td>NaN</td>\n",
       "      <td>NaN</td>\n",
       "      <td>NaN</td>\n",
       "      <td>NaN</td>\n",
       "      <td>NaN</td>\n",
       "      <td>NaN</td>\n",
       "      <td>NaN</td>\n",
       "      <td>NaN</td>\n",
       "      <td>244891</td>\n",
       "    </tr>\n",
       "    <tr>\n",
       "      <th>01-112-7TI</th>\n",
       "      <td>NaN</td>\n",
       "      <td>NaN</td>\n",
       "      <td>NaN</td>\n",
       "      <td>NaN</td>\n",
       "      <td>01-112-7</td>\n",
       "      <td>DM</td>\n",
       "      <td>GERD</td>\n",
       "      <td>Aim 1</td>\n",
       "      <td>2014-04-14</td>\n",
       "      <td>2014-04-14</td>\n",
       "      <td>...</td>\n",
       "      <td>NaN</td>\n",
       "      <td>NaN</td>\n",
       "      <td>NaN</td>\n",
       "      <td>NaN</td>\n",
       "      <td>NaN</td>\n",
       "      <td>NaN</td>\n",
       "      <td>NaN</td>\n",
       "      <td>NaN</td>\n",
       "      <td>NaN</td>\n",
       "      <td>41988</td>\n",
       "    </tr>\n",
       "    <tr>\n",
       "      <th>01-164-7GI</th>\n",
       "      <td>NaN</td>\n",
       "      <td>NaN</td>\n",
       "      <td>NaN</td>\n",
       "      <td>NaN</td>\n",
       "      <td>NaN</td>\n",
       "      <td>NaN</td>\n",
       "      <td>NaN</td>\n",
       "      <td>NaN</td>\n",
       "      <td>NaN</td>\n",
       "      <td>NaN</td>\n",
       "      <td>...</td>\n",
       "      <td>NaN</td>\n",
       "      <td>NaN</td>\n",
       "      <td>NaN</td>\n",
       "      <td>NaN</td>\n",
       "      <td>NaN</td>\n",
       "      <td>NaN</td>\n",
       "      <td>NaN</td>\n",
       "      <td>NaN</td>\n",
       "      <td>NaN</td>\n",
       "      <td>89821</td>\n",
       "    </tr>\n",
       "    <tr>\n",
       "      <th>01-164-7RI</th>\n",
       "      <td>NaN</td>\n",
       "      <td>NaN</td>\n",
       "      <td>NaN</td>\n",
       "      <td>NaN</td>\n",
       "      <td>NaN</td>\n",
       "      <td>NaN</td>\n",
       "      <td>NaN</td>\n",
       "      <td>NaN</td>\n",
       "      <td>NaN</td>\n",
       "      <td>NaN</td>\n",
       "      <td>...</td>\n",
       "      <td>NaN</td>\n",
       "      <td>NaN</td>\n",
       "      <td>NaN</td>\n",
       "      <td>NaN</td>\n",
       "      <td>NaN</td>\n",
       "      <td>NaN</td>\n",
       "      <td>NaN</td>\n",
       "      <td>NaN</td>\n",
       "      <td>NaN</td>\n",
       "      <td>72671</td>\n",
       "    </tr>\n",
       "  </tbody>\n",
       "</table>\n",
       "<p>5 rows × 958 columns</p>\n",
       "</div>"
      ],
      "text/plain": [
       "             If Yes, specify the symptom score  If yes, please indicate level  \\\n",
       "01-112-7GI                                 NaN                            NaN   \n",
       "01-112-7RI                                 NaN                            NaN   \n",
       "01-112-7TI                                 NaN                            NaN   \n",
       "01-164-7GI                                 NaN                            NaN   \n",
       "01-164-7RI                                 NaN                            NaN   \n",
       "\n",
       "            % time pH<4  % time pH<4: A1. Subject ID number:  \\\n",
       "01-112-7GI          NaN           NaN               01-112-7   \n",
       "01-112-7RI          NaN           NaN               01-112-7   \n",
       "01-112-7TI          NaN           NaN               01-112-7   \n",
       "01-164-7GI          NaN           NaN                    NaN   \n",
       "01-164-7RI          NaN           NaN                    NaN   \n",
       "\n",
       "           A2. Subject initials:  \\\n",
       "01-112-7GI                    DM   \n",
       "01-112-7RI                    DM   \n",
       "01-112-7TI                    DM   \n",
       "01-164-7GI                   NaN   \n",
       "01-164-7RI                   NaN   \n",
       "\n",
       "           A3. What Cohort is the subject enrolled into?  \\\n",
       "01-112-7GI                                          GERD   \n",
       "01-112-7RI                                          GERD   \n",
       "01-112-7TI                                          GERD   \n",
       "01-164-7GI                                           NaN   \n",
       "01-164-7RI                                           NaN   \n",
       "\n",
       "           A4. Aim(s) enrolled in?  \\\n",
       "01-112-7GI                   Aim 1   \n",
       "01-112-7RI                   Aim 1   \n",
       "01-112-7TI                   Aim 1   \n",
       "01-164-7GI                     NaN   \n",
       "01-164-7RI                     NaN   \n",
       "\n",
       "           A5.  Date of initial/baseline visit/procedure (MM/DD/YYYY):  \\\n",
       "01-112-7GI                                         2014-04-14            \n",
       "01-112-7RI                                         2014-04-14            \n",
       "01-112-7TI                                         2014-04-14            \n",
       "01-164-7GI                                                NaN            \n",
       "01-164-7RI                                                NaN            \n",
       "\n",
       "           A5a. Date filled out(MM/DD/YYYY):     ...      STUDYID STUDY  AIM  \\\n",
       "01-112-7GI                        2014-04-14     ...          NaN   NaN  NaN   \n",
       "01-112-7RI                        2014-04-14     ...          NaN   NaN  NaN   \n",
       "01-112-7TI                        2014-04-14     ...          NaN   NaN  NaN   \n",
       "01-164-7GI                               NaN     ...          NaN   NaN  NaN   \n",
       "01-164-7RI                               NaN     ...          NaN   NaN  NaN   \n",
       "\n",
       "           SOURCE PHMII  ACIDSUP DATE ppi_consolidated mbs_consolidated  \\\n",
       "01-112-7GI    NaN   NaN      NaN  NaN              NaN              NaN   \n",
       "01-112-7RI    NaN   NaN      NaN  NaN              NaN              NaN   \n",
       "01-112-7TI    NaN   NaN      NaN  NaN              NaN              NaN   \n",
       "01-164-7GI    NaN   NaN      NaN  NaN              NaN              NaN   \n",
       "01-164-7RI    NaN   NaN      NaN  NaN              NaN              NaN   \n",
       "\n",
       "           total_reads  \n",
       "01-112-7GI      271980  \n",
       "01-112-7RI      244891  \n",
       "01-112-7TI       41988  \n",
       "01-164-7GI       89821  \n",
       "01-164-7RI       72671  \n",
       "\n",
       "[5 rows x 958 columns]"
      ]
     },
     "execution_count": 172,
     "metadata": {},
     "output_type": "execute_result"
    }
   ],
   "source": [
    "meta.head()"
   ]
  },
  {
   "cell_type": "code",
   "execution_count": 173,
   "metadata": {},
   "outputs": [
    {
     "data": {
      "text/plain": [
       "((455, 958), (220,))"
      ]
     },
     "execution_count": 173,
     "metadata": {},
     "output_type": "execute_result"
    }
   ],
   "source": [
    "meta.shape, meta['subject_id'].unique().shape"
   ]
  },
  {
   "cell_type": "code",
   "execution_count": 174,
   "metadata": {},
   "outputs": [
    {
     "name": "stdout",
     "output_type": "stream",
     "text": [
      "(455, 31)\n"
     ]
    }
   ],
   "source": [
    "meta.index.name = 'sample_id'\n",
    "meta = meta.reset_index()\n",
    "\n",
    "oldmetacols = ['sample_id', 'subject_id', 'site', 'mbs_consolidated']\n",
    "newmetacols = newcols + ['metadata_id']\n",
    "# Note: there are additional reflux metadata columns, but these are the\n",
    "# ones with the most reliable measurements\n",
    "refluxcols = ['Total number of reflux episodes (acid+non-acid)',\n",
    "              'number of full colum events/total events',\n",
    "              'percent proximal total',\n",
    "              'percent distal total']\n",
    "\n",
    "allmeta = pd.merge(bigdf_nodup[newmetacols + ['subject_id']], \n",
    "                   meta[oldmetacols + refluxcols].drop_duplicates(), \n",
    "                   left_on='subject_id', right_on='subject_id', \n",
    "                   how='right')\n",
    "\n",
    "# Clean up the reflux cols\n",
    "allmeta[refluxcols] = allmeta[refluxcols].replace('n/a', np.nan)\n",
    "allmeta[refluxcols] = allmeta[refluxcols].astype(float)\n",
    "# Some missing entries are wrongly entered as 1\n",
    "allmeta['number of full colum events/total events'] = allmeta['number of full colum events/total events'].replace(1, np.nan)\n",
    "\n",
    "\n",
    "print(allmeta.shape)"
   ]
  },
  {
   "cell_type": "code",
   "execution_count": 175,
   "metadata": {},
   "outputs": [
    {
     "data": {
      "text/plain": [
       "(220,)"
      ]
     },
     "execution_count": 175,
     "metadata": {},
     "output_type": "execute_result"
    }
   ],
   "source": [
    "allmeta['subject_id'].unique().shape"
   ]
  },
  {
   "cell_type": "code",
   "execution_count": 176,
   "metadata": {},
   "outputs": [
    {
     "name": "stdout",
     "output_type": "stream",
     "text": [
      "['age', 'gender_all', 'abx_all', 'ppi_all', 'h2blockers_all', 'inhaled_steroids_all', 'oral_steroids_all', 'prob_swall_all', 'food_stuck_all', 'diff_swall_all', 'abd_pain_all', 'const_all', 'wtloss_all', 'foodup_all', 'chest_pain_all', 'asthma_all', 'chronic_cough_all', 'pneum_all', 'ear_inf_all', 'sinus_inf_all', 'pgsq_symp_all', 'pgsq_total_all']\n"
     ]
    }
   ],
   "source": [
    "print(newcols)"
   ]
  },
  {
   "cell_type": "code",
   "execution_count": 177,
   "metadata": {},
   "outputs": [
    {
     "data": {
      "text/html": [
       "<div>\n",
       "<style scoped>\n",
       "    .dataframe tbody tr th:only-of-type {\n",
       "        vertical-align: middle;\n",
       "    }\n",
       "\n",
       "    .dataframe tbody tr th {\n",
       "        vertical-align: top;\n",
       "    }\n",
       "\n",
       "    .dataframe thead th {\n",
       "        text-align: right;\n",
       "    }\n",
       "</style>\n",
       "<table border=\"1\" class=\"dataframe\">\n",
       "  <thead>\n",
       "    <tr style=\"text-align: right;\">\n",
       "      <th></th>\n",
       "      <th>sample_id</th>\n",
       "      <th>subject_id</th>\n",
       "      <th>site</th>\n",
       "      <th>mbs_consolidated</th>\n",
       "      <th>age</th>\n",
       "      <th>gender_all</th>\n",
       "      <th>abx_all</th>\n",
       "      <th>ppi_all</th>\n",
       "      <th>h2blockers_all</th>\n",
       "      <th>inhaled_steroids_all</th>\n",
       "      <th>...</th>\n",
       "      <th>pneum_all</th>\n",
       "      <th>ear_inf_all</th>\n",
       "      <th>sinus_inf_all</th>\n",
       "      <th>pgsq_symp_all</th>\n",
       "      <th>pgsq_total_all</th>\n",
       "      <th>metadata_id</th>\n",
       "      <th>Total number of reflux episodes (acid+non-acid)</th>\n",
       "      <th>number of full colum events/total events</th>\n",
       "      <th>percent proximal total</th>\n",
       "      <th>percent distal total</th>\n",
       "    </tr>\n",
       "  </thead>\n",
       "  <tbody>\n",
       "    <tr>\n",
       "      <th>0</th>\n",
       "      <td>04-006-9B</td>\n",
       "      <td>04-006-9</td>\n",
       "      <td>bal</td>\n",
       "      <td>Aspiration/Penetration</td>\n",
       "      <td>2.969863</td>\n",
       "      <td>F</td>\n",
       "      <td>0</td>\n",
       "      <td>1</td>\n",
       "      <td>0</td>\n",
       "      <td>0</td>\n",
       "      <td>...</td>\n",
       "      <td></td>\n",
       "      <td></td>\n",
       "      <td></td>\n",
       "      <td>NaN</td>\n",
       "      <td>NaN</td>\n",
       "      <td>k23</td>\n",
       "      <td>NaN</td>\n",
       "      <td>NaN</td>\n",
       "      <td>NaN</td>\n",
       "      <td>NaN</td>\n",
       "    </tr>\n",
       "    <tr>\n",
       "      <th>1</th>\n",
       "      <td>04-009-2B</td>\n",
       "      <td>04-009-2</td>\n",
       "      <td>bal</td>\n",
       "      <td>Aspiration/Penetration</td>\n",
       "      <td>1.010959</td>\n",
       "      <td>M</td>\n",
       "      <td>0</td>\n",
       "      <td>0</td>\n",
       "      <td>0</td>\n",
       "      <td>0</td>\n",
       "      <td>...</td>\n",
       "      <td>1</td>\n",
       "      <td>0</td>\n",
       "      <td>0</td>\n",
       "      <td>1.12</td>\n",
       "      <td>0.61</td>\n",
       "      <td>k23</td>\n",
       "      <td>NaN</td>\n",
       "      <td>NaN</td>\n",
       "      <td>NaN</td>\n",
       "      <td>NaN</td>\n",
       "    </tr>\n",
       "    <tr>\n",
       "      <th>2</th>\n",
       "      <td>04-009-2G</td>\n",
       "      <td>04-009-2</td>\n",
       "      <td>gastric_fluid</td>\n",
       "      <td>Aspiration/Penetration</td>\n",
       "      <td>1.010959</td>\n",
       "      <td>M</td>\n",
       "      <td>0</td>\n",
       "      <td>0</td>\n",
       "      <td>0</td>\n",
       "      <td>0</td>\n",
       "      <td>...</td>\n",
       "      <td>1</td>\n",
       "      <td>0</td>\n",
       "      <td>0</td>\n",
       "      <td>1.12</td>\n",
       "      <td>0.61</td>\n",
       "      <td>k23</td>\n",
       "      <td>NaN</td>\n",
       "      <td>NaN</td>\n",
       "      <td>NaN</td>\n",
       "      <td>NaN</td>\n",
       "    </tr>\n",
       "    <tr>\n",
       "      <th>3</th>\n",
       "      <td>04-011-3B</td>\n",
       "      <td>04-011-3</td>\n",
       "      <td>bal</td>\n",
       "      <td>Normal</td>\n",
       "      <td>2.564384</td>\n",
       "      <td>F</td>\n",
       "      <td>1</td>\n",
       "      <td>1</td>\n",
       "      <td>0</td>\n",
       "      <td>0</td>\n",
       "      <td>...</td>\n",
       "      <td>1</td>\n",
       "      <td>0</td>\n",
       "      <td>0</td>\n",
       "      <td>0.29</td>\n",
       "      <td>0.26</td>\n",
       "      <td>k23</td>\n",
       "      <td>25.0</td>\n",
       "      <td>0.24</td>\n",
       "      <td>0.001231</td>\n",
       "      <td>0.004344</td>\n",
       "    </tr>\n",
       "    <tr>\n",
       "      <th>4</th>\n",
       "      <td>04-011-3G</td>\n",
       "      <td>04-011-3</td>\n",
       "      <td>gastric_fluid</td>\n",
       "      <td>Normal</td>\n",
       "      <td>2.564384</td>\n",
       "      <td>F</td>\n",
       "      <td>1</td>\n",
       "      <td>1</td>\n",
       "      <td>0</td>\n",
       "      <td>0</td>\n",
       "      <td>...</td>\n",
       "      <td>1</td>\n",
       "      <td>0</td>\n",
       "      <td>0</td>\n",
       "      <td>0.29</td>\n",
       "      <td>0.26</td>\n",
       "      <td>k23</td>\n",
       "      <td>25.0</td>\n",
       "      <td>0.24</td>\n",
       "      <td>0.001231</td>\n",
       "      <td>0.004344</td>\n",
       "    </tr>\n",
       "  </tbody>\n",
       "</table>\n",
       "<p>5 rows × 31 columns</p>\n",
       "</div>"
      ],
      "text/plain": [
       "   sample_id subject_id           site        mbs_consolidated       age  \\\n",
       "0  04-006-9B   04-006-9            bal  Aspiration/Penetration  2.969863   \n",
       "1  04-009-2B   04-009-2            bal  Aspiration/Penetration  1.010959   \n",
       "2  04-009-2G   04-009-2  gastric_fluid  Aspiration/Penetration  1.010959   \n",
       "3  04-011-3B   04-011-3            bal                  Normal  2.564384   \n",
       "4  04-011-3G   04-011-3  gastric_fluid                  Normal  2.564384   \n",
       "\n",
       "  gender_all abx_all ppi_all h2blockers_all inhaled_steroids_all  \\\n",
       "0          F       0       1              0                    0   \n",
       "1          M       0       0              0                    0   \n",
       "2          M       0       0              0                    0   \n",
       "3          F       1       1              0                    0   \n",
       "4          F       1       1              0                    0   \n",
       "\n",
       "          ...          pneum_all ear_inf_all sinus_inf_all pgsq_symp_all  \\\n",
       "0         ...                                                        NaN   \n",
       "1         ...                  1           0             0          1.12   \n",
       "2         ...                  1           0             0          1.12   \n",
       "3         ...                  1           0             0          0.29   \n",
       "4         ...                  1           0             0          0.29   \n",
       "\n",
       "  pgsq_total_all metadata_id Total number of reflux episodes (acid+non-acid)  \\\n",
       "0            NaN         k23                                             NaN   \n",
       "1           0.61         k23                                             NaN   \n",
       "2           0.61         k23                                             NaN   \n",
       "3           0.26         k23                                            25.0   \n",
       "4           0.26         k23                                            25.0   \n",
       "\n",
       "  number of full colum events/total events percent proximal total  \\\n",
       "0                                      NaN                    NaN   \n",
       "1                                      NaN                    NaN   \n",
       "2                                      NaN                    NaN   \n",
       "3                                     0.24               0.001231   \n",
       "4                                     0.24               0.001231   \n",
       "\n",
       "  percent distal total  \n",
       "0                  NaN  \n",
       "1                  NaN  \n",
       "2                  NaN  \n",
       "3             0.004344  \n",
       "4             0.004344  \n",
       "\n",
       "[5 rows x 31 columns]"
      ]
     },
     "execution_count": 177,
     "metadata": {},
     "output_type": "execute_result"
    }
   ],
   "source": [
    "allmeta = allmeta[oldmetacols + newmetacols + refluxcols]\n",
    "allmeta.head()"
   ]
  },
  {
   "cell_type": "markdown",
   "metadata": {},
   "source": [
    "# Fill NaN's"
   ]
  },
  {
   "cell_type": "code",
   "execution_count": 178,
   "metadata": {},
   "outputs": [],
   "source": [
    "# Convert all values to strings and replace all missing values with NaN\n",
    "allmeta = allmeta.replace({1: '1', \n",
    "                           0: '0', \n",
    "                           -9: '-9', \n",
    "                           11: '11'})\n",
    "\n",
    "allmeta[newcols] = allmeta[newcols].replace({' ': np.nan, '-6': '0', '-9': np.nan, '-8': '0', '11': np.nan})\n",
    "\n",
    "#allmeta[newcols]"
   ]
  },
  {
   "cell_type": "code",
   "execution_count": 179,
   "metadata": {},
   "outputs": [],
   "source": [
    "allmeta.to_csv(outfile, sep='\\t', index=False)"
   ]
  },
  {
   "cell_type": "markdown",
   "metadata": {},
   "source": [
    "# Write subject-level version, consolidated with patients used in analyses"
   ]
  },
  {
   "cell_type": "code",
   "execution_count": 159,
   "metadata": {},
   "outputs": [
    {
     "data": {
      "text/html": [
       "<div>\n",
       "<style scoped>\n",
       "    .dataframe tbody tr th:only-of-type {\n",
       "        vertical-align: middle;\n",
       "    }\n",
       "\n",
       "    .dataframe tbody tr th {\n",
       "        vertical-align: top;\n",
       "    }\n",
       "\n",
       "    .dataframe thead th {\n",
       "        text-align: right;\n",
       "    }\n",
       "</style>\n",
       "<table border=\"1\" class=\"dataframe\">\n",
       "  <thead>\n",
       "    <tr style=\"text-align: right;\">\n",
       "      <th></th>\n",
       "      <th>bal</th>\n",
       "      <th>gastric_fluid</th>\n",
       "      <th>throat_swab</th>\n",
       "      <th>stool</th>\n",
       "    </tr>\n",
       "  </thead>\n",
       "  <tbody>\n",
       "    <tr>\n",
       "      <th>04-080-7</th>\n",
       "      <td>True</td>\n",
       "      <td>True</td>\n",
       "      <td>True</td>\n",
       "      <td>False</td>\n",
       "    </tr>\n",
       "    <tr>\n",
       "      <th>01-299-7</th>\n",
       "      <td>False</td>\n",
       "      <td>False</td>\n",
       "      <td>True</td>\n",
       "      <td>False</td>\n",
       "    </tr>\n",
       "    <tr>\n",
       "      <th>04-167-8</th>\n",
       "      <td>False</td>\n",
       "      <td>True</td>\n",
       "      <td>False</td>\n",
       "      <td>False</td>\n",
       "    </tr>\n",
       "    <tr>\n",
       "      <th>04-087-1</th>\n",
       "      <td>True</td>\n",
       "      <td>True</td>\n",
       "      <td>True</td>\n",
       "      <td>False</td>\n",
       "    </tr>\n",
       "    <tr>\n",
       "      <th>042-6-F1</th>\n",
       "      <td>False</td>\n",
       "      <td>False</td>\n",
       "      <td>True</td>\n",
       "      <td>False</td>\n",
       "    </tr>\n",
       "  </tbody>\n",
       "</table>\n",
       "</div>"
      ],
      "text/plain": [
       "            bal  gastric_fluid  throat_swab  stool\n",
       "04-080-7   True           True         True  False\n",
       "01-299-7  False          False         True  False\n",
       "04-167-8  False           True        False  False\n",
       "04-087-1   True           True         True  False\n",
       "042-6-F1  False          False         True  False"
      ]
     },
     "execution_count": 159,
     "metadata": {},
     "output_type": "execute_result"
    }
   ],
   "source": [
    "ptdf = pd.read_csv(ptfile, sep=',', index_col=0)\n",
    "ptdf.head()"
   ]
  },
  {
   "cell_type": "code",
   "execution_count": 160,
   "metadata": {},
   "outputs": [
    {
     "name": "stdout",
     "output_type": "stream",
     "text": [
      "((220, 4), (455, 27), (220, 29))\n"
     ]
    }
   ],
   "source": [
    "print(ptdf.shape, \n",
    "      allmeta.shape, \n",
    "      pd.merge(ptdf, \n",
    "               allmeta.drop(['sample_id', 'site'], axis=1).drop_duplicates(), \n",
    "               left_index=True, right_on='subject_id', how='left').shape\n",
    "     )"
   ]
  },
  {
   "cell_type": "code",
   "execution_count": 161,
   "metadata": {},
   "outputs": [
    {
     "data": {
      "text/plain": [
       "((220, 29), (220,))"
      ]
     },
     "execution_count": 161,
     "metadata": {},
     "output_type": "execute_result"
    }
   ],
   "source": [
    "pt_meta =  pd.merge(\n",
    "    ptdf, \n",
    "    allmeta.drop(['sample_id', 'site'], axis=1).drop_duplicates(), \n",
    "    left_index=True, right_on='subject_id', \n",
    "    how='left')\n",
    "pt_meta.shape, pt_meta['subject_id'].unique().shape"
   ]
  },
  {
   "cell_type": "code",
   "execution_count": 162,
   "metadata": {},
   "outputs": [
    {
     "data": {
      "text/html": [
       "<div>\n",
       "<style scoped>\n",
       "    .dataframe tbody tr th:only-of-type {\n",
       "        vertical-align: middle;\n",
       "    }\n",
       "\n",
       "    .dataframe tbody tr th {\n",
       "        vertical-align: top;\n",
       "    }\n",
       "\n",
       "    .dataframe thead th {\n",
       "        text-align: right;\n",
       "    }\n",
       "</style>\n",
       "<table border=\"1\" class=\"dataframe\">\n",
       "  <thead>\n",
       "    <tr style=\"text-align: right;\">\n",
       "      <th></th>\n",
       "      <th>subject_id</th>\n",
       "      <th>bal</th>\n",
       "      <th>gastric_fluid</th>\n",
       "      <th>throat_swab</th>\n",
       "      <th>stool</th>\n",
       "      <th>mbs_consolidated</th>\n",
       "      <th>age</th>\n",
       "      <th>gender_all</th>\n",
       "      <th>abx_all</th>\n",
       "      <th>ppi_all</th>\n",
       "      <th>...</th>\n",
       "      <th>foodup_all</th>\n",
       "      <th>chest_pain_all</th>\n",
       "      <th>asthma_all</th>\n",
       "      <th>chronic_cough_all</th>\n",
       "      <th>pneum_all</th>\n",
       "      <th>ear_inf_all</th>\n",
       "      <th>sinus_inf_all</th>\n",
       "      <th>pgsq_symp_all</th>\n",
       "      <th>pgsq_total_all</th>\n",
       "      <th>metadata_id</th>\n",
       "    </tr>\n",
       "  </thead>\n",
       "  <tbody>\n",
       "    <tr>\n",
       "      <th>67</th>\n",
       "      <td>04-080-7</td>\n",
       "      <td>True</td>\n",
       "      <td>True</td>\n",
       "      <td>True</td>\n",
       "      <td>False</td>\n",
       "      <td>NaN</td>\n",
       "      <td>7.413699</td>\n",
       "      <td>M</td>\n",
       "      <td>0</td>\n",
       "      <td>0</td>\n",
       "      <td>...</td>\n",
       "      <td>1</td>\n",
       "      <td>0</td>\n",
       "      <td>1</td>\n",
       "      <td>0</td>\n",
       "      <td>0</td>\n",
       "      <td>0</td>\n",
       "      <td>0</td>\n",
       "      <td>0.47</td>\n",
       "      <td>0.26</td>\n",
       "      <td>k23</td>\n",
       "    </tr>\n",
       "    <tr>\n",
       "      <th>425</th>\n",
       "      <td>01-299-7</td>\n",
       "      <td>False</td>\n",
       "      <td>False</td>\n",
       "      <td>True</td>\n",
       "      <td>False</td>\n",
       "      <td>NaN</td>\n",
       "      <td>11.301370</td>\n",
       "      <td>M</td>\n",
       "      <td>0</td>\n",
       "      <td>0</td>\n",
       "      <td>...</td>\n",
       "      <td>1</td>\n",
       "      <td>1</td>\n",
       "      <td>NaN</td>\n",
       "      <td>NaN</td>\n",
       "      <td>0</td>\n",
       "      <td>0</td>\n",
       "      <td>0</td>\n",
       "      <td>2.12</td>\n",
       "      <td>1.19</td>\n",
       "      <td>r01_baseline_v2</td>\n",
       "    </tr>\n",
       "    <tr>\n",
       "      <th>180</th>\n",
       "      <td>04-167-8</td>\n",
       "      <td>False</td>\n",
       "      <td>True</td>\n",
       "      <td>False</td>\n",
       "      <td>False</td>\n",
       "      <td>Aspiration/Penetration</td>\n",
       "      <td>5.079452</td>\n",
       "      <td>F</td>\n",
       "      <td>0</td>\n",
       "      <td>1</td>\n",
       "      <td>...</td>\n",
       "      <td>0</td>\n",
       "      <td>0</td>\n",
       "      <td>NaN</td>\n",
       "      <td>NaN</td>\n",
       "      <td>0</td>\n",
       "      <td>1</td>\n",
       "      <td>0</td>\n",
       "      <td>0.53</td>\n",
       "      <td>0.57</td>\n",
       "      <td>k23</td>\n",
       "    </tr>\n",
       "    <tr>\n",
       "      <th>80</th>\n",
       "      <td>04-087-1</td>\n",
       "      <td>True</td>\n",
       "      <td>True</td>\n",
       "      <td>True</td>\n",
       "      <td>False</td>\n",
       "      <td>NaN</td>\n",
       "      <td>2.775342</td>\n",
       "      <td>M</td>\n",
       "      <td>0</td>\n",
       "      <td>0</td>\n",
       "      <td>...</td>\n",
       "      <td>0</td>\n",
       "      <td>0</td>\n",
       "      <td>1</td>\n",
       "      <td>1</td>\n",
       "      <td>0</td>\n",
       "      <td>0</td>\n",
       "      <td>1</td>\n",
       "      <td>1.47</td>\n",
       "      <td>1.39</td>\n",
       "      <td>k23</td>\n",
       "    </tr>\n",
       "    <tr>\n",
       "      <th>444</th>\n",
       "      <td>042-6-F1</td>\n",
       "      <td>False</td>\n",
       "      <td>False</td>\n",
       "      <td>True</td>\n",
       "      <td>False</td>\n",
       "      <td>NaN</td>\n",
       "      <td>10.846575</td>\n",
       "      <td>M</td>\n",
       "      <td>0</td>\n",
       "      <td>1</td>\n",
       "      <td>...</td>\n",
       "      <td>1</td>\n",
       "      <td>1</td>\n",
       "      <td>0</td>\n",
       "      <td>0</td>\n",
       "      <td>0</td>\n",
       "      <td>NaN</td>\n",
       "      <td>NaN</td>\n",
       "      <td>2.088</td>\n",
       "      <td>2.73</td>\n",
       "      <td>fundo_v2</td>\n",
       "    </tr>\n",
       "  </tbody>\n",
       "</table>\n",
       "<p>5 rows × 29 columns</p>\n",
       "</div>"
      ],
      "text/plain": [
       "    subject_id    bal  gastric_fluid  throat_swab  stool  \\\n",
       "67    04-080-7   True           True         True  False   \n",
       "425   01-299-7  False          False         True  False   \n",
       "180   04-167-8  False           True        False  False   \n",
       "80    04-087-1   True           True         True  False   \n",
       "444   042-6-F1  False          False         True  False   \n",
       "\n",
       "           mbs_consolidated        age gender_all abx_all ppi_all  \\\n",
       "67                      NaN   7.413699          M       0       0   \n",
       "425                     NaN  11.301370          M       0       0   \n",
       "180  Aspiration/Penetration   5.079452          F       0       1   \n",
       "80                      NaN   2.775342          M       0       0   \n",
       "444                     NaN  10.846575          M       0       1   \n",
       "\n",
       "          ...        foodup_all chest_pain_all asthma_all chronic_cough_all  \\\n",
       "67        ...                 1              0          1                 0   \n",
       "425       ...                 1              1        NaN               NaN   \n",
       "180       ...                 0              0        NaN               NaN   \n",
       "80        ...                 0              0          1                 1   \n",
       "444       ...                 1              1          0                 0   \n",
       "\n",
       "    pneum_all ear_inf_all sinus_inf_all pgsq_symp_all pgsq_total_all  \\\n",
       "67          0           0             0          0.47           0.26   \n",
       "425         0           0             0          2.12           1.19   \n",
       "180         0           1             0          0.53           0.57   \n",
       "80          0           0             1          1.47           1.39   \n",
       "444         0         NaN           NaN         2.088           2.73   \n",
       "\n",
       "         metadata_id  \n",
       "67               k23  \n",
       "425  r01_baseline_v2  \n",
       "180              k23  \n",
       "80               k23  \n",
       "444         fundo_v2  \n",
       "\n",
       "[5 rows x 29 columns]"
      ]
     },
     "execution_count": 162,
     "metadata": {},
     "output_type": "execute_result"
    }
   ],
   "source": [
    "pt_meta = pt_meta[['subject_id'] + pt_meta.drop('subject_id', axis=1).columns.tolist()]\n",
    "pt_meta.head()"
   ]
  },
  {
   "cell_type": "code",
   "execution_count": 163,
   "metadata": {},
   "outputs": [],
   "source": [
    "pt_meta.to_csv(pt_outmeta, index=False)"
   ]
  },
  {
   "cell_type": "markdown",
   "metadata": {},
   "source": [
    "## For Rachel: list of patients who are aspirators"
   ]
  },
  {
   "cell_type": "code",
   "execution_count": 164,
   "metadata": {},
   "outputs": [
    {
     "name": "stdout",
     "output_type": "stream",
     "text": [
      "04-167-8\n",
      "04-157-4\n",
      "04-201-8\n",
      "03-124-8\n",
      "02-298-5\n",
      "04-255-1\n",
      "04-274-9\n",
      "04-294-8\n",
      "04-064-5\n",
      "04-182-6\n",
      "04-077-1\n",
      "02-184-5\n",
      "04-172-0\n",
      "04-139-5\n",
      "04-154-9\n",
      "04-036-5\n",
      "04-287-1\n",
      "04-291-3\n",
      "04-200-1\n",
      "04-054-3\n",
      "04-309-9\n",
      "04-257-3\n",
      "04-156-8\n",
      "04-006-9\n",
      "04-072-1\n",
      "03-121-5\n",
      "04-138-4\n",
      "02-143-2\n",
      "04-278-5\n",
      "04-112-4\n",
      "04-276-7\n",
      "04-299-7\n",
      "04-240-2\n",
      "04-166-7\n",
      "03-094-5\n",
      "04-303-7\n",
      "02-186-0\n",
      "03-089-3\n",
      "04-133-5\n",
      "04-247-3\n",
      "04-009-2\n",
      "13-117-4\n",
      "04-262-5\n",
      "04-259-2\n",
      "12-160-1\n",
      "02-183-7\n",
      "03-102-4\n"
     ]
    }
   ],
   "source": [
    "asp = 'Aspiration/Penetration'\n",
    "print('\\n'.join(pt_meta.query('mbs_consolidated == @asp')['subject_id'].tolist()))"
   ]
  },
  {
   "cell_type": "code",
   "execution_count": null,
   "metadata": {},
   "outputs": [],
   "source": []
  }
 ],
 "metadata": {
  "anaconda-cloud": {},
  "kernelspec": {
   "display_name": "Python (aspiration)",
   "language": "python",
   "name": "aspiration"
  },
  "language_info": {
   "codemirror_mode": {
    "name": "ipython",
    "version": 2
   },
   "file_extension": ".py",
   "mimetype": "text/x-python",
   "name": "python",
   "nbconvert_exporter": "python",
   "pygments_lexer": "ipython2",
   "version": "2.7.15"
  }
 },
 "nbformat": 4,
 "nbformat_minor": 2
}
