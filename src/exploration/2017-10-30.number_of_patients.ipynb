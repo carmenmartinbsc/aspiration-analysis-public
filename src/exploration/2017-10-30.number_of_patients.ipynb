{
 "cells": [
  {
   "cell_type": "markdown",
   "metadata": {},
   "source": [
    "The purpose of this notebook is to document the manipulations I do to get the number of patients/samples bc I'm sick of re-doing it every time."
   ]
  },
  {
   "cell_type": "code",
   "execution_count": 1,
   "metadata": {
    "collapsed": true
   },
   "outputs": [],
   "source": [
    "import pandas as pd\n",
    "import numpy as np"
   ]
  },
  {
   "cell_type": "code",
   "execution_count": 2,
   "metadata": {
    "collapsed": false
   },
   "outputs": [
    {
     "data": {
      "text/plain": [
       "Index([u' If Yes, specify the symptom score',\n",
       "       u' If yes, please indicate level', u'% time pH<4', u'% time pH<4:',\n",
       "       u'A1. Subject ID number:', u'A2. Subject initials:',\n",
       "       u'A3. What Cohort is the subject enrolled into?',\n",
       "       u'A4. Aim(s) enrolled in?',\n",
       "       u'A5.  Date of initial/baseline visit/procedure (MM/DD/YYYY):',\n",
       "       u'A5a. Date filled out(MM/DD/YYYY):',\n",
       "       ...\n",
       "       u'STUDYID', u'STUDY', u'AIM', u'SOURCE', u'PHMII', u'ACIDSUP', u'DATE',\n",
       "       u'ppi_consolidated', u'mbs_consolidated', u'total_reads'],\n",
       "      dtype='object', length=958)"
      ]
     },
     "execution_count": 2,
     "metadata": {},
     "output_type": "execute_result"
    }
   ],
   "source": [
    "fnotu = '/Users/claire/github/aspiration-analysis/data/clean/rosen.otu_table.rel_abun.clean'\n",
    "fnmeta = '/Users/claire/github/aspiration-analysis/data/clean/rosen.metadata.clean'\n",
    "\n",
    "meta = pd.read_csv(fnmeta, sep='\\t', index_col=0)\n",
    "meta.columns"
   ]
  },
  {
   "cell_type": "code",
   "execution_count": 3,
   "metadata": {
    "collapsed": false
   },
   "outputs": [
    {
     "data": {
      "text/html": [
       "<div>\n",
       "<style scoped>\n",
       "    .dataframe tbody tr th:only-of-type {\n",
       "        vertical-align: middle;\n",
       "    }\n",
       "\n",
       "    .dataframe tbody tr th {\n",
       "        vertical-align: top;\n",
       "    }\n",
       "\n",
       "    .dataframe thead th {\n",
       "        text-align: right;\n",
       "    }\n",
       "</style>\n",
       "<table border=\"1\" class=\"dataframe\">\n",
       "  <thead>\n",
       "    <tr style=\"text-align: right;\">\n",
       "      <th></th>\n",
       "      <th>mbs_consolidated</th>\n",
       "      <th>ppi_consolidated</th>\n",
       "      <th>site</th>\n",
       "      <th>subject_id</th>\n",
       "      <th>n_samples</th>\n",
       "    </tr>\n",
       "  </thead>\n",
       "  <tbody>\n",
       "    <tr>\n",
       "      <th>0</th>\n",
       "      <td>Aspiration/Penetration</td>\n",
       "      <td>conflicting</td>\n",
       "      <td>bal</td>\n",
       "      <td>13-117-4</td>\n",
       "      <td>1</td>\n",
       "    </tr>\n",
       "    <tr>\n",
       "      <th>65</th>\n",
       "      <td>Aspiration/Penetration</td>\n",
       "      <td>on</td>\n",
       "      <td>bal</td>\n",
       "      <td>04-247-3</td>\n",
       "      <td>1</td>\n",
       "    </tr>\n",
       "    <tr>\n",
       "      <th>130</th>\n",
       "      <td>Normal</td>\n",
       "      <td>off</td>\n",
       "      <td>gastric_fluid</td>\n",
       "      <td>02-111-4</td>\n",
       "      <td>1</td>\n",
       "    </tr>\n",
       "    <tr>\n",
       "      <th>195</th>\n",
       "      <td>Normal</td>\n",
       "      <td>on</td>\n",
       "      <td>gastric_fluid</td>\n",
       "      <td>04-011-3</td>\n",
       "      <td>1</td>\n",
       "    </tr>\n",
       "    <tr>\n",
       "      <th>260</th>\n",
       "      <td>nan</td>\n",
       "      <td>nan</td>\n",
       "      <td>gastric_fluid</td>\n",
       "      <td>01-173-4</td>\n",
       "      <td>1</td>\n",
       "    </tr>\n",
       "    <tr>\n",
       "      <th>325</th>\n",
       "      <td>nan</td>\n",
       "      <td>nan</td>\n",
       "      <td>throat_swab</td>\n",
       "      <td>03-199-7</td>\n",
       "      <td>1</td>\n",
       "    </tr>\n",
       "    <tr>\n",
       "      <th>390</th>\n",
       "      <td>nan</td>\n",
       "      <td>off</td>\n",
       "      <td>stool</td>\n",
       "      <td>13-058-2</td>\n",
       "      <td>1</td>\n",
       "    </tr>\n",
       "    <tr>\n",
       "      <th>455</th>\n",
       "      <td>nan</td>\n",
       "      <td>on</td>\n",
       "      <td>gastric_fluid</td>\n",
       "      <td>04-047-2</td>\n",
       "      <td>1</td>\n",
       "    </tr>\n",
       "    <tr>\n",
       "      <th>520</th>\n",
       "      <td>nan</td>\n",
       "      <td>on</td>\n",
       "      <td>throat_swab</td>\n",
       "      <td>04-136-6</td>\n",
       "      <td>1</td>\n",
       "    </tr>\n",
       "  </tbody>\n",
       "</table>\n",
       "</div>"
      ],
      "text/plain": [
       "           mbs_consolidated ppi_consolidated           site subject_id  \\\n",
       "0    Aspiration/Penetration      conflicting            bal   13-117-4   \n",
       "65   Aspiration/Penetration               on            bal   04-247-3   \n",
       "130                  Normal              off  gastric_fluid   02-111-4   \n",
       "195                  Normal               on  gastric_fluid   04-011-3   \n",
       "260                     nan              nan  gastric_fluid   01-173-4   \n",
       "325                     nan              nan    throat_swab   03-199-7   \n",
       "390                     nan              off          stool   13-058-2   \n",
       "455                     nan               on  gastric_fluid   04-047-2   \n",
       "520                     nan               on    throat_swab   04-136-6   \n",
       "\n",
       "     n_samples  \n",
       "0            1  \n",
       "65           1  \n",
       "130          1  \n",
       "195          1  \n",
       "260          1  \n",
       "325          1  \n",
       "390          1  \n",
       "455          1  \n",
       "520          1  "
      ]
     },
     "execution_count": 3,
     "metadata": {},
     "output_type": "execute_result"
    }
   ],
   "source": [
    "meta['mbs_consolidated'] = meta['mbs_consolidated'].fillna('nan')\n",
    "meta['ppi_consolidated'] = meta['ppi_consolidated'].fillna('nan')\n",
    "\n",
    "patientsamples = meta\\\n",
    "    .groupby(['mbs_consolidated', 'ppi_consolidated', 'site', 'subject_id'])\\\n",
    "    .size()\\\n",
    "    .to_frame('n_samples').reset_index()\n",
    "patientsamples.iloc[::65, :]"
   ]
  },
  {
   "cell_type": "markdown",
   "metadata": {},
   "source": [
    "# First, number of patients for each site alone\n",
    "\n",
    "This is useful for Figure 1, where I compare samples across patients.\n",
    "\n",
    "I should probably re-make Figure 1 using data only from patients who are not known to be aspirators?"
   ]
  },
  {
   "cell_type": "code",
   "execution_count": 4,
   "metadata": {
    "collapsed": true
   },
   "outputs": [],
   "source": [
    "sites = ['stool', 'bal', 'gastric_fluid', 'throat_swab']"
   ]
  },
  {
   "cell_type": "code",
   "execution_count": 5,
   "metadata": {
    "collapsed": false
   },
   "outputs": [
    {
     "data": {
      "text/html": [
       "<div>\n",
       "<style scoped>\n",
       "    .dataframe tbody tr th:only-of-type {\n",
       "        vertical-align: middle;\n",
       "    }\n",
       "\n",
       "    .dataframe tbody tr th {\n",
       "        vertical-align: top;\n",
       "    }\n",
       "\n",
       "    .dataframe thead th {\n",
       "        text-align: right;\n",
       "    }\n",
       "</style>\n",
       "<table border=\"1\" class=\"dataframe\">\n",
       "  <thead>\n",
       "    <tr style=\"text-align: right;\">\n",
       "      <th></th>\n",
       "      <th></th>\n",
       "      <th></th>\n",
       "      <th>n_samples</th>\n",
       "    </tr>\n",
       "    <tr>\n",
       "      <th>site</th>\n",
       "      <th>mbs_consolidated</th>\n",
       "      <th>ppi_consolidated</th>\n",
       "      <th></th>\n",
       "    </tr>\n",
       "  </thead>\n",
       "  <tbody>\n",
       "    <tr>\n",
       "      <th rowspan=\"10\" valign=\"top\">bal</th>\n",
       "      <th rowspan=\"3\" valign=\"top\">Aspiration/Penetration</th>\n",
       "      <th>conflicting</th>\n",
       "      <td>1</td>\n",
       "    </tr>\n",
       "    <tr>\n",
       "      <th>off</th>\n",
       "      <td>16</td>\n",
       "    </tr>\n",
       "    <tr>\n",
       "      <th>on</th>\n",
       "      <td>16</td>\n",
       "    </tr>\n",
       "    <tr>\n",
       "      <th rowspan=\"3\" valign=\"top\">Normal</th>\n",
       "      <th>conflicting</th>\n",
       "      <td>2</td>\n",
       "    </tr>\n",
       "    <tr>\n",
       "      <th>off</th>\n",
       "      <td>11</td>\n",
       "    </tr>\n",
       "    <tr>\n",
       "      <th>on</th>\n",
       "      <td>23</td>\n",
       "    </tr>\n",
       "    <tr>\n",
       "      <th rowspan=\"4\" valign=\"top\">nan</th>\n",
       "      <th>conflicting</th>\n",
       "      <td>1</td>\n",
       "    </tr>\n",
       "    <tr>\n",
       "      <th>nan</th>\n",
       "      <td>3</td>\n",
       "    </tr>\n",
       "    <tr>\n",
       "      <th>off</th>\n",
       "      <td>21</td>\n",
       "    </tr>\n",
       "    <tr>\n",
       "      <th>on</th>\n",
       "      <td>21</td>\n",
       "    </tr>\n",
       "    <tr>\n",
       "      <th rowspan=\"10\" valign=\"top\">gastric_fluid</th>\n",
       "      <th rowspan=\"3\" valign=\"top\">Aspiration/Penetration</th>\n",
       "      <th>conflicting</th>\n",
       "      <td>1</td>\n",
       "    </tr>\n",
       "    <tr>\n",
       "      <th>off</th>\n",
       "      <td>19</td>\n",
       "    </tr>\n",
       "    <tr>\n",
       "      <th>on</th>\n",
       "      <td>22</td>\n",
       "    </tr>\n",
       "    <tr>\n",
       "      <th rowspan=\"3\" valign=\"top\">Normal</th>\n",
       "      <th>conflicting</th>\n",
       "      <td>1</td>\n",
       "    </tr>\n",
       "    <tr>\n",
       "      <th>off</th>\n",
       "      <td>22</td>\n",
       "    </tr>\n",
       "    <tr>\n",
       "      <th>on</th>\n",
       "      <td>29</td>\n",
       "    </tr>\n",
       "    <tr>\n",
       "      <th rowspan=\"4\" valign=\"top\">nan</th>\n",
       "      <th>conflicting</th>\n",
       "      <td>1</td>\n",
       "    </tr>\n",
       "    <tr>\n",
       "      <th>nan</th>\n",
       "      <td>16</td>\n",
       "    </tr>\n",
       "    <tr>\n",
       "      <th>off</th>\n",
       "      <td>26</td>\n",
       "    </tr>\n",
       "    <tr>\n",
       "      <th>on</th>\n",
       "      <td>32</td>\n",
       "    </tr>\n",
       "    <tr>\n",
       "      <th rowspan=\"3\" valign=\"top\">stool</th>\n",
       "      <th rowspan=\"3\" valign=\"top\">nan</th>\n",
       "      <th>nan</th>\n",
       "      <td>19</td>\n",
       "    </tr>\n",
       "    <tr>\n",
       "      <th>off</th>\n",
       "      <td>11</td>\n",
       "    </tr>\n",
       "    <tr>\n",
       "      <th>on</th>\n",
       "      <td>11</td>\n",
       "    </tr>\n",
       "    <tr>\n",
       "      <th rowspan=\"10\" valign=\"top\">throat_swab</th>\n",
       "      <th rowspan=\"3\" valign=\"top\">Aspiration/Penetration</th>\n",
       "      <th>conflicting</th>\n",
       "      <td>2</td>\n",
       "    </tr>\n",
       "    <tr>\n",
       "      <th>off</th>\n",
       "      <td>14</td>\n",
       "    </tr>\n",
       "    <tr>\n",
       "      <th>on</th>\n",
       "      <td>22</td>\n",
       "    </tr>\n",
       "    <tr>\n",
       "      <th rowspan=\"3\" valign=\"top\">Normal</th>\n",
       "      <th>conflicting</th>\n",
       "      <td>1</td>\n",
       "    </tr>\n",
       "    <tr>\n",
       "      <th>off</th>\n",
       "      <td>22</td>\n",
       "    </tr>\n",
       "    <tr>\n",
       "      <th>on</th>\n",
       "      <td>23</td>\n",
       "    </tr>\n",
       "    <tr>\n",
       "      <th rowspan=\"4\" valign=\"top\">nan</th>\n",
       "      <th>conflicting</th>\n",
       "      <td>6</td>\n",
       "    </tr>\n",
       "    <tr>\n",
       "      <th>nan</th>\n",
       "      <td>28</td>\n",
       "    </tr>\n",
       "    <tr>\n",
       "      <th>off</th>\n",
       "      <td>39</td>\n",
       "    </tr>\n",
       "    <tr>\n",
       "      <th>on</th>\n",
       "      <td>52</td>\n",
       "    </tr>\n",
       "  </tbody>\n",
       "</table>\n",
       "</div>"
      ],
      "text/plain": [
       "                                                       n_samples\n",
       "site          mbs_consolidated       ppi_consolidated           \n",
       "bal           Aspiration/Penetration conflicting               1\n",
       "                                     off                      16\n",
       "                                     on                       16\n",
       "              Normal                 conflicting               2\n",
       "                                     off                      11\n",
       "                                     on                       23\n",
       "              nan                    conflicting               1\n",
       "                                     nan                       3\n",
       "                                     off                      21\n",
       "                                     on                       21\n",
       "gastric_fluid Aspiration/Penetration conflicting               1\n",
       "                                     off                      19\n",
       "                                     on                       22\n",
       "              Normal                 conflicting               1\n",
       "                                     off                      22\n",
       "                                     on                       29\n",
       "              nan                    conflicting               1\n",
       "                                     nan                      16\n",
       "                                     off                      26\n",
       "                                     on                       32\n",
       "stool         nan                    nan                      19\n",
       "                                     off                      11\n",
       "                                     on                       11\n",
       "throat_swab   Aspiration/Penetration conflicting               2\n",
       "                                     off                      14\n",
       "                                     on                       22\n",
       "              Normal                 conflicting               1\n",
       "                                     off                      22\n",
       "                                     on                       23\n",
       "              nan                    conflicting               6\n",
       "                                     nan                      28\n",
       "                                     off                      39\n",
       "                                     on                       52"
      ]
     },
     "execution_count": 5,
     "metadata": {},
     "output_type": "execute_result"
    }
   ],
   "source": [
    "# With PPI info\n",
    "patientsamples.query('site == @sites')\\\n",
    "    .groupby(['site', 'mbs_consolidated', 'ppi_consolidated'])\\\n",
    "    .size()\\\n",
    "    .to_frame('n_samples')"
   ]
  },
  {
   "cell_type": "code",
   "execution_count": 6,
   "metadata": {
    "collapsed": false
   },
   "outputs": [
    {
     "data": {
      "text/html": [
       "<div>\n",
       "<style scoped>\n",
       "    .dataframe tbody tr th:only-of-type {\n",
       "        vertical-align: middle;\n",
       "    }\n",
       "\n",
       "    .dataframe tbody tr th {\n",
       "        vertical-align: top;\n",
       "    }\n",
       "\n",
       "    .dataframe thead th {\n",
       "        text-align: right;\n",
       "    }\n",
       "</style>\n",
       "<table border=\"1\" class=\"dataframe\">\n",
       "  <thead>\n",
       "    <tr style=\"text-align: right;\">\n",
       "      <th></th>\n",
       "      <th></th>\n",
       "      <th>n_samples</th>\n",
       "    </tr>\n",
       "    <tr>\n",
       "      <th>site</th>\n",
       "      <th>mbs_consolidated</th>\n",
       "      <th></th>\n",
       "    </tr>\n",
       "  </thead>\n",
       "  <tbody>\n",
       "    <tr>\n",
       "      <th rowspan=\"3\" valign=\"top\">bal</th>\n",
       "      <th>Aspiration/Penetration</th>\n",
       "      <td>33</td>\n",
       "    </tr>\n",
       "    <tr>\n",
       "      <th>Normal</th>\n",
       "      <td>36</td>\n",
       "    </tr>\n",
       "    <tr>\n",
       "      <th>nan</th>\n",
       "      <td>46</td>\n",
       "    </tr>\n",
       "    <tr>\n",
       "      <th rowspan=\"3\" valign=\"top\">gastric_fluid</th>\n",
       "      <th>Aspiration/Penetration</th>\n",
       "      <td>42</td>\n",
       "    </tr>\n",
       "    <tr>\n",
       "      <th>Normal</th>\n",
       "      <td>52</td>\n",
       "    </tr>\n",
       "    <tr>\n",
       "      <th>nan</th>\n",
       "      <td>75</td>\n",
       "    </tr>\n",
       "    <tr>\n",
       "      <th>stool</th>\n",
       "      <th>nan</th>\n",
       "      <td>41</td>\n",
       "    </tr>\n",
       "    <tr>\n",
       "      <th rowspan=\"3\" valign=\"top\">throat_swab</th>\n",
       "      <th>Aspiration/Penetration</th>\n",
       "      <td>38</td>\n",
       "    </tr>\n",
       "    <tr>\n",
       "      <th>Normal</th>\n",
       "      <td>46</td>\n",
       "    </tr>\n",
       "    <tr>\n",
       "      <th>nan</th>\n",
       "      <td>125</td>\n",
       "    </tr>\n",
       "  </tbody>\n",
       "</table>\n",
       "</div>"
      ],
      "text/plain": [
       "                                      n_samples\n",
       "site          mbs_consolidated                 \n",
       "bal           Aspiration/Penetration         33\n",
       "              Normal                         36\n",
       "              nan                            46\n",
       "gastric_fluid Aspiration/Penetration         42\n",
       "              Normal                         52\n",
       "              nan                            75\n",
       "stool         nan                            41\n",
       "throat_swab   Aspiration/Penetration         38\n",
       "              Normal                         46\n",
       "              nan                           125"
      ]
     },
     "execution_count": 6,
     "metadata": {},
     "output_type": "execute_result"
    }
   ],
   "source": [
    "# Without PPI info\n",
    "patientsamples.query('site == @sites')\\\n",
    "    .groupby(['site', 'mbs_consolidated'])\\\n",
    "    .size()\\\n",
    "    .to_frame('n_samples')"
   ]
  },
  {
   "cell_type": "markdown",
   "metadata": {},
   "source": [
    "### Number of samples from each site"
   ]
  },
  {
   "cell_type": "code",
   "execution_count": 7,
   "metadata": {
    "collapsed": false
   },
   "outputs": [
    {
     "data": {
      "text/plain": [
       "site\n",
       "bal              115\n",
       "gastric_fluid    169\n",
       "stool             41\n",
       "throat_swab      209\n",
       "dtype: int64"
      ]
     },
     "execution_count": 7,
     "metadata": {},
     "output_type": "execute_result"
    }
   ],
   "source": [
    "# Without PPI info or MBS info\n",
    "patientsamples.query('site == @sites')\\\n",
    "    .groupby(['site'])\\\n",
    "    .size()"
   ]
  },
  {
   "cell_type": "markdown",
   "metadata": {},
   "source": [
    "### Number of unique patients with each sample type"
   ]
  },
  {
   "cell_type": "code",
   "execution_count": 8,
   "metadata": {
    "collapsed": false
   },
   "outputs": [
    {
     "data": {
      "text/plain": [
       "site\n",
       "bal              115\n",
       "gastric_fluid    169\n",
       "stool             30\n",
       "throat_swab      197\n",
       "dtype: int64"
      ]
     },
     "execution_count": 8,
     "metadata": {},
     "output_type": "execute_result"
    }
   ],
   "source": [
    "# Need to re-do the reset_index part bc currently patients with\n",
    "# pre- and post-PPI samples show up twice in the subject_id column,\n",
    "# since grouping by ppi_consolidated split those samples up\n",
    "patientsamples.query('site == @sites')\\\n",
    "    .groupby(['site', 'subject_id'])\\\n",
    "    .size()\\\n",
    "    .reset_index()\\\n",
    "    .groupby('site')\\\n",
    "    .size()"
   ]
  },
  {
   "cell_type": "code",
   "execution_count": 9,
   "metadata": {
    "collapsed": false
   },
   "outputs": [
    {
     "data": {
      "text/plain": [
       "mbs_consolidated\n",
       "Aspiration/Penetration     49\n",
       "Normal                     63\n",
       "nan                       142\n",
       "dtype: int64"
      ]
     },
     "execution_count": 9,
     "metadata": {},
     "output_type": "execute_result"
    }
   ],
   "source": [
    "patientsamples.query('site == @sites')\\\n",
    "    .groupby(['mbs_consolidated', 'subject_id'])\\\n",
    "    .size()\\\n",
    "    .reset_index()\\\n",
    "    .groupby(['mbs_consolidated'])\\\n",
    "    .size()"
   ]
  },
  {
   "cell_type": "code",
   "execution_count": 10,
   "metadata": {
    "collapsed": false
   },
   "outputs": [
    {
     "data": {
      "text/plain": [
       "258"
      ]
     },
     "execution_count": 10,
     "metadata": {},
     "output_type": "execute_result"
    }
   ],
   "source": [
    "49+63+146"
   ]
  },
  {
   "cell_type": "markdown",
   "metadata": {},
   "source": [
    "# Number of patients with intra site combinations\n",
    "\n",
    "This is for figure 2: the within-patient comparisons.\n",
    "\n",
    "The comparisons I've made are: bal_throat, bal_gastric, gastric_throat, stool_throat, stool_stool.\n",
    "\n",
    "Note: intra-patient beta diversity should take care to compare stools and throats taken at the same time point. See the `2017-08-16.baseline_relationships_different_betas` notebook for these checks.\n",
    "\n",
    "You can also see in the code below that there are 38 stool_throat comparisons but only 27 unique patients: this is because there are 11\n",
    "patients for whom we can do two throat_stool comparisons (one before \n",
    "PPI and one after PPI). To see this, uncomment the lines in the cell below"
   ]
  },
  {
   "cell_type": "code",
   "execution_count": 11,
   "metadata": {
    "collapsed": false
   },
   "outputs": [
    {
     "name": "stdout",
     "output_type": "stream",
     "text": [
      "stool + bal\n",
      "Series([], dtype: int64)\n",
      "(0,)\n",
      "\n",
      "stool + gastric_fluid\n",
      "Series([], dtype: int64)\n",
      "(0,)\n",
      "\n",
      "stool + throat_swab\n",
      "mbs_consolidated\n",
      "nan    38\n",
      "dtype: int64\n",
      "(27,)\n",
      "\n",
      "bal + gastric_fluid\n",
      "mbs_consolidated\n",
      "Aspiration/Penetration    29\n",
      "Normal                    30\n",
      "nan                       41\n",
      "dtype: int64\n",
      "(100,)\n",
      "\n",
      "bal + throat_swab\n",
      "mbs_consolidated\n",
      "Aspiration/Penetration    25\n",
      "Normal                    24\n",
      "nan                       30\n",
      "dtype: int64\n",
      "(79,)\n",
      "\n",
      "gastric_fluid + throat_swab\n",
      "mbs_consolidated\n",
      "Aspiration/Penetration    32\n",
      "Normal                    36\n",
      "nan                       53\n",
      "dtype: int64\n",
      "(121,)\n",
      "\n"
     ]
    }
   ],
   "source": [
    "for site1 in sites:\n",
    "    for site2 in sites[sites.index(site1)+1:]:\n",
    "        subjects = patientsamples\\\n",
    "                    .query('(site == @site1) | (site == @site2)')\\\n",
    "                    .groupby(['ppi_consolidated', 'mbs_consolidated', 'subject_id'])\\\n",
    "                    .size()\n",
    "        print('{} + {}'.format(site1, site2))\n",
    "                \n",
    "        # This line shows the number of within-patient comparisons,\n",
    "        # just grouped by MBS status \n",
    "        print(subjects[subjects == 2].reset_index()\n",
    "              .groupby(['mbs_consolidated']).size())\n",
    "\n",
    "        ## Uncomment this line to see disaggregation by PPI status too\n",
    "        ## (this only affects stool_throat comparisons)\n",
    "        #print(subjects[subjects == 2].reset_index()\n",
    "        #      .groupby(['ppi_consolidated', 'mbs_consolidated']).size())        \n",
    "        \n",
    "        # And this line is just straight-up the number of unique patients\n",
    "        print(subjects[subjects == 2].reset_index()['subject_id'].unique().shape)\n",
    "        print('')\n"
   ]
  },
  {
   "cell_type": "code",
   "execution_count": 13,
   "metadata": {
    "collapsed": false
   },
   "outputs": [
    {
     "data": {
      "text/plain": [
       "(38, 4)"
      ]
     },
     "execution_count": 13,
     "metadata": {},
     "output_type": "execute_result"
    }
   ],
   "source": [
    "site1 = 'stool'\n",
    "site2 = 'throat_swab'\n",
    "\n",
    "subjects = patientsamples\\\n",
    "            .query('(site == @site1) | (site == @site2)')\\\n",
    "            .groupby(['ppi_consolidated', 'mbs_consolidated', 'subject_id'])\\\n",
    "            .size()\n",
    "\n",
    "subjects[subjects == 2].reset_index().shape"
   ]
  },
  {
   "cell_type": "markdown",
   "metadata": {},
   "source": [
    "## All three sites"
   ]
  },
  {
   "cell_type": "code",
   "execution_count": 14,
   "metadata": {
    "collapsed": false
   },
   "outputs": [
    {
     "name": "stdout",
     "output_type": "stream",
     "text": [
      "mbs_consolidated\n",
      "Aspiration/Penetration    23\n",
      "Normal                    19\n",
      "nan                       29\n",
      "dtype: int64\n",
      "(71,)\n",
      "\n"
     ]
    }
   ],
   "source": [
    "aero_sites = ['bal', 'gastric_fluid', 'throat_swab']\n",
    "subjects = patientsamples\\\n",
    "            .query('(site == @aero_sites)')\\\n",
    "            .groupby(['ppi_consolidated', 'mbs_consolidated', 'subject_id'])\\\n",
    "            .size()\n",
    "\n",
    "# This line shows the number of within-patient comparisons,\n",
    "# just grouped by MBS status \n",
    "print(subjects[subjects == 3].reset_index()\n",
    "      .groupby(['mbs_consolidated']).size())\n",
    "\n",
    "## Uncomment this line to see disaggregation by PPI status too\n",
    "## (this only affects stool_throat comparisons)\n",
    "#print(subjects[subjects == 2].reset_index()\n",
    "#      .groupby(['ppi_consolidated', 'mbs_consolidated']).size())        \n",
    "\n",
    "# And this line is just straight-up the number of unique patients\n",
    "print(subjects[subjects == 3].reset_index()['subject_id'].unique().shape)\n",
    "print('')"
   ]
  },
  {
   "cell_type": "code",
   "execution_count": 15,
   "metadata": {
    "collapsed": false
   },
   "outputs": [
    {
     "data": {
      "text/html": [
       "<div>\n",
       "<style scoped>\n",
       "    .dataframe tbody tr th:only-of-type {\n",
       "        vertical-align: middle;\n",
       "    }\n",
       "\n",
       "    .dataframe tbody tr th {\n",
       "        vertical-align: top;\n",
       "    }\n",
       "\n",
       "    .dataframe thead th {\n",
       "        text-align: right;\n",
       "    }\n",
       "</style>\n",
       "<table border=\"1\" class=\"dataframe\">\n",
       "  <thead>\n",
       "    <tr style=\"text-align: right;\">\n",
       "      <th></th>\n",
       "      <th>On PPI currently?</th>\n",
       "      <th>PPI Status</th>\n",
       "      <th>Patient taking PPI</th>\n",
       "      <th>Patient taking PPI?</th>\n",
       "      <th>ACIDSUP</th>\n",
       "      <th>mbs_consolidated</th>\n",
       "      <th>site</th>\n",
       "      <th>subject_id</th>\n",
       "    </tr>\n",
       "  </thead>\n",
       "  <tbody>\n",
       "    <tr>\n",
       "      <th>03-102-4G</th>\n",
       "      <td>NaN</td>\n",
       "      <td>NaN</td>\n",
       "      <td>no</td>\n",
       "      <td>NaN</td>\n",
       "      <td>Off</td>\n",
       "      <td>Aspiration/Penetration</td>\n",
       "      <td>gastric_fluid</td>\n",
       "      <td>03-102-4</td>\n",
       "    </tr>\n",
       "    <tr>\n",
       "      <th>03-102-4T</th>\n",
       "      <td>NaN</td>\n",
       "      <td>NaN</td>\n",
       "      <td>no</td>\n",
       "      <td>NaN</td>\n",
       "      <td>On</td>\n",
       "      <td>Aspiration/Penetration</td>\n",
       "      <td>throat_swab</td>\n",
       "      <td>03-102-4</td>\n",
       "    </tr>\n",
       "  </tbody>\n",
       "</table>\n",
       "</div>"
      ],
      "text/plain": [
       "          On PPI currently? PPI Status Patient taking PPI Patient taking PPI?  \\\n",
       "03-102-4G               NaN        NaN                 no                 NaN   \n",
       "03-102-4T               NaN        NaN                 no                 NaN   \n",
       "\n",
       "          ACIDSUP        mbs_consolidated           site subject_id  \n",
       "03-102-4G     Off  Aspiration/Penetration  gastric_fluid   03-102-4  \n",
       "03-102-4T      On  Aspiration/Penetration    throat_swab   03-102-4  "
      ]
     },
     "execution_count": 15,
     "metadata": {},
     "output_type": "execute_result"
    }
   ],
   "source": [
    "## NOTE: this subject has all three sites sequenced, but conflicting\n",
    "## PPI metadata for the throat sample and so is excluded from these counts\n",
    "\n",
    "# To get this patient: re-calculate the patientsamples and cell above this one\n",
    "# without grouping by ppi_consolidated\n",
    "showcols = ['On PPI currently?', 'PPI Status', 'Patient taking PPI',\n",
    "           'Patient taking PPI?', 'ACIDSUP', 'mbs_consolidated', 'site', 'subject_id']\n",
    "meta.query('subject_id == \"03-102-4\"')[showcols]"
   ]
  },
  {
   "cell_type": "markdown",
   "metadata": {},
   "source": [
    "## Number of patients with at least two sites"
   ]
  },
  {
   "cell_type": "code",
   "execution_count": 36,
   "metadata": {
    "collapsed": false
   },
   "outputs": [
    {
     "data": {
      "text/plain": [
       "159"
      ]
     },
     "execution_count": 36,
     "metadata": {},
     "output_type": "execute_result"
    }
   ],
   "source": [
    "(patientsamples.query('mbs_consolidated != \"nan\"').groupby('subject_id').size() > 1).sum()\n",
    "\n",
    "# bc currently also grouped-by ppi status, patients with pre- and post-PPI show up\n",
    "# twice. need to re-groupby site and subject, reset index to get back to subject, site, number_of_samples\n",
    "# format\n",
    "sites = ['bal', 'gastric_fluid', 'throat_swab']\n",
    "(patientsamples\\\n",
    "    .query('site == @sites')\\\n",
    "    .groupby(['site', 'subject_id'])\\\n",
    "    .size().reset_index()\\\n",
    "    .groupby('subject_id')\\\n",
    "    .size() > 1)\\\n",
    "    .sum()\n"
   ]
  },
  {
   "cell_type": "markdown",
   "metadata": {
    "collapsed": true
   },
   "source": [
    "# Neutrophil info?\n",
    "\n",
    "Which are the metadata columns that might have this information?\n",
    "\n",
    "From Rachel:\n",
    "\n",
    "> It would be great to show that the shift of the microbiome towards oropharyngeal flora results in a greater percentage of neutrophils in the lung—we have this data so if you do not, it would be worth including—it would highlight that the shift towards the oropharyngeal bacteria actually increases risk of inflammation"
   ]
  },
  {
   "cell_type": "code",
   "execution_count": 8,
   "metadata": {
    "collapsed": false
   },
   "outputs": [
    {
     "data": {
      "text/plain": [
       "['If Yes, what was the percentage of neutrophils',\n",
       " 'If Yes, what was the percentage of neutrophils?']"
      ]
     },
     "execution_count": 8,
     "metadata": {},
     "output_type": "execute_result"
    }
   ],
   "source": [
    "neutro_cols = [i for i in meta.columns if 'neutro' in i.lower()]\n",
    "neutro_cols"
   ]
  },
  {
   "cell_type": "code",
   "execution_count": 28,
   "metadata": {
    "collapsed": false
   },
   "outputs": [
    {
     "data": {
      "text/plain": [
       "array([ nan,   4.,   0.,   2.,   3.,   5.,  30.,   1.,  10.,  35.])"
      ]
     },
     "execution_count": 28,
     "metadata": {},
     "output_type": "execute_result"
    }
   ],
   "source": [
    "meta[neutro_cols[0]].unique()"
   ]
  },
  {
   "cell_type": "code",
   "execution_count": 29,
   "metadata": {
    "collapsed": false
   },
   "outputs": [
    {
     "data": {
      "text/plain": [
       "array([nan, '5', '3', '0', '10', '1', '39', '50', '34', '2', '20',\n",
       "       'Not Done', '60', '15', '25', '30', '4', '40', '7', '9', '8', '2.5',\n",
       "       '70'], dtype=object)"
      ]
     },
     "execution_count": 29,
     "metadata": {},
     "output_type": "execute_result"
    }
   ],
   "source": [
    "meta[neutro_cols[1]].unique()"
   ]
  },
  {
   "cell_type": "code",
   "execution_count": 21,
   "metadata": {
    "collapsed": false
   },
   "outputs": [
    {
     "data": {
      "text/html": [
       "<div>\n",
       "<table border=\"1\" class=\"dataframe\">\n",
       "  <thead>\n",
       "    <tr style=\"text-align: right;\">\n",
       "      <th></th>\n",
       "      <th>If Yes, what was the percentage of neutrophils</th>\n",
       "      <th>If Yes, what was the percentage of neutrophils?</th>\n",
       "    </tr>\n",
       "  </thead>\n",
       "  <tbody>\n",
       "  </tbody>\n",
       "</table>\n",
       "</div>"
      ],
      "text/plain": [
       "Empty DataFrame\n",
       "Columns: [If Yes, what was the percentage of neutrophils, If Yes, what was the percentage of neutrophils?]\n",
       "Index: []"
      ]
     },
     "execution_count": 21,
     "metadata": {},
     "output_type": "execute_result"
    }
   ],
   "source": [
    "meta[neutro_cols].dropna()"
   ]
  },
  {
   "cell_type": "markdown",
   "metadata": {},
   "source": [
    "Good, no patients have data in both columns!\n",
    "\n",
    "Next step: consolidate these two columns (TODO: add these to metadata wrangling script!!)"
   ]
  },
  {
   "cell_type": "code",
   "execution_count": 36,
   "metadata": {
    "collapsed": false
   },
   "outputs": [],
   "source": [
    "newcol = 'neutrophil_consolidated'\n",
    "\n",
    "def consolidate_neutrophils(row, neutro_cols):\n",
    "    val = np.nan\n",
    "    \n",
    "    # First neutro_col should only have numbers or nans (no strings)\n",
    "    n0 = row[neutro_cols[0]]\n",
    "    if not np.isnan(n0):\n",
    "        val = float(n0)\n",
    "    \n",
    "    # Second neutro_col has a few 'Not Done', so the column is strings\n",
    "    n1 = row[neutro_cols[1]]\n",
    "    if n1 != \"Not Done\" and not np.isnan(float(n1)):\n",
    "        val = float(n1)\n",
    "        \n",
    "    return val\n",
    "\n",
    "meta[newcol] = meta.apply(lambda row: consolidate_neutrophils(row, neutro_cols), axis=1)"
   ]
  },
  {
   "cell_type": "code",
   "execution_count": 43,
   "metadata": {
    "collapsed": false
   },
   "outputs": [
    {
     "data": {
      "text/html": [
       "<div>\n",
       "<table border=\"1\" class=\"dataframe\">\n",
       "  <thead>\n",
       "    <tr style=\"text-align: right;\">\n",
       "      <th></th>\n",
       "      <th>mbs_consolidated</th>\n",
       "      <th>ppi_consolidated</th>\n",
       "      <th>neutrophil_consolidated</th>\n",
       "      <th>site</th>\n",
       "      <th>subject_id</th>\n",
       "      <th>n_samples</th>\n",
       "    </tr>\n",
       "  </thead>\n",
       "  <tbody>\n",
       "    <tr>\n",
       "      <th>0</th>\n",
       "      <td>Aspiration/Penetration</td>\n",
       "      <td>conflicting</td>\n",
       "      <td>0</td>\n",
       "      <td>throat_swab</td>\n",
       "      <td>03-102-4</td>\n",
       "      <td>1</td>\n",
       "    </tr>\n",
       "    <tr>\n",
       "      <th>65</th>\n",
       "      <td>Aspiration/Penetration</td>\n",
       "      <td>on</td>\n",
       "      <td>0</td>\n",
       "      <td>throat_swab</td>\n",
       "      <td>04-166-7</td>\n",
       "      <td>1</td>\n",
       "    </tr>\n",
       "    <tr>\n",
       "      <th>130</th>\n",
       "      <td>Normal</td>\n",
       "      <td>off</td>\n",
       "      <td>0</td>\n",
       "      <td>throat_swab</td>\n",
       "      <td>03-114-6</td>\n",
       "      <td>1</td>\n",
       "    </tr>\n",
       "    <tr>\n",
       "      <th>195</th>\n",
       "      <td>Normal</td>\n",
       "      <td>on</td>\n",
       "      <td>0</td>\n",
       "      <td>throat_swab</td>\n",
       "      <td>04-147-3</td>\n",
       "      <td>1</td>\n",
       "    </tr>\n",
       "    <tr>\n",
       "      <th>260</th>\n",
       "      <td>Normal</td>\n",
       "      <td>on</td>\n",
       "      <td>nan</td>\n",
       "      <td>throat_swab</td>\n",
       "      <td>04-275-6</td>\n",
       "      <td>1</td>\n",
       "    </tr>\n",
       "    <tr>\n",
       "      <th>325</th>\n",
       "      <td>nan</td>\n",
       "      <td>nan</td>\n",
       "      <td>nan</td>\n",
       "      <td>throat_swab</td>\n",
       "      <td>01-112-7</td>\n",
       "      <td>1</td>\n",
       "    </tr>\n",
       "    <tr>\n",
       "      <th>390</th>\n",
       "      <td>nan</td>\n",
       "      <td>off</td>\n",
       "      <td>5</td>\n",
       "      <td>gastric_fluid</td>\n",
       "      <td>03-112-5</td>\n",
       "      <td>1</td>\n",
       "    </tr>\n",
       "    <tr>\n",
       "      <th>455</th>\n",
       "      <td>nan</td>\n",
       "      <td>off</td>\n",
       "      <td>nan</td>\n",
       "      <td>throat_swab</td>\n",
       "      <td>13-089-1</td>\n",
       "      <td>1</td>\n",
       "    </tr>\n",
       "    <tr>\n",
       "      <th>520</th>\n",
       "      <td>nan</td>\n",
       "      <td>on</td>\n",
       "      <td>35</td>\n",
       "      <td>gastric_fluid</td>\n",
       "      <td>05-128-2</td>\n",
       "      <td>1</td>\n",
       "    </tr>\n",
       "  </tbody>\n",
       "</table>\n",
       "</div>"
      ],
      "text/plain": [
       "           mbs_consolidated ppi_consolidated neutrophil_consolidated  \\\n",
       "0    Aspiration/Penetration      conflicting                       0   \n",
       "65   Aspiration/Penetration               on                       0   \n",
       "130                  Normal              off                       0   \n",
       "195                  Normal               on                       0   \n",
       "260                  Normal               on                     nan   \n",
       "325                     nan              nan                     nan   \n",
       "390                     nan              off                       5   \n",
       "455                     nan              off                     nan   \n",
       "520                     nan               on                      35   \n",
       "\n",
       "              site subject_id  n_samples  \n",
       "0      throat_swab   03-102-4          1  \n",
       "65     throat_swab   04-166-7          1  \n",
       "130    throat_swab   03-114-6          1  \n",
       "195    throat_swab   04-147-3          1  \n",
       "260    throat_swab   04-275-6          1  \n",
       "325    throat_swab   01-112-7          1  \n",
       "390  gastric_fluid   03-112-5          1  \n",
       "455    throat_swab   13-089-1          1  \n",
       "520  gastric_fluid   05-128-2          1  "
      ]
     },
     "execution_count": 43,
     "metadata": {},
     "output_type": "execute_result"
    }
   ],
   "source": [
    "# Re-build the \"patientsamples\" dataframe with counts\n",
    "meta['mbs_consolidated'] = meta['mbs_consolidated'].fillna('nan')\n",
    "meta['ppi_consolidated'] = meta['ppi_consolidated'].fillna('nan')\n",
    "meta['neutrophil_consolidated'] = meta['neutrophil_consolidated'].fillna('nan')\n",
    "\n",
    "patientsamples = meta\\\n",
    "    .groupby(['mbs_consolidated', 'ppi_consolidated', 'neutrophil_consolidated', 'site', 'subject_id'])\\\n",
    "    .size()\\\n",
    "    .to_frame('n_samples').reset_index()\n",
    "patientsamples.iloc[::65, :]"
   ]
  },
  {
   "cell_type": "code",
   "execution_count": 44,
   "metadata": {
    "collapsed": false
   },
   "outputs": [
    {
     "data": {
      "text/plain": [
       "neutrophil_consolidated\n",
       "0.0      85\n",
       "1.0      11\n",
       "2.0      30\n",
       "2.5       4\n",
       "3.0      13\n",
       "4.0      10\n",
       "5.0      71\n",
       "7.0       3\n",
       "8.0       3\n",
       "9.0       2\n",
       "10.0     35\n",
       "15.0     16\n",
       "20.0      9\n",
       "25.0     10\n",
       "30.0     10\n",
       "34.0      3\n",
       "35.0      3\n",
       "39.0      2\n",
       "40.0     11\n",
       "50.0      6\n",
       "60.0      2\n",
       "70.0      2\n",
       "nan     287\n",
       "dtype: int64"
      ]
     },
     "execution_count": 44,
     "metadata": {},
     "output_type": "execute_result"
    }
   ],
   "source": [
    "meta.groupby(newcol).size()"
   ]
  },
  {
   "cell_type": "code",
   "execution_count": 46,
   "metadata": {
    "collapsed": false
   },
   "outputs": [
    {
     "name": "stdout",
     "output_type": "stream",
     "text": [
      "stool + bal\n",
      "Series([], dtype: int64)\n",
      "(0,)\n",
      "\n",
      "stool + gastric_fluid\n",
      "Series([], dtype: int64)\n",
      "(0,)\n",
      "\n",
      "stool + throat_swab\n",
      "mbs_consolidated  neutrophil_consolidated\n",
      "nan               nan                        38\n",
      "dtype: int64\n",
      "(27,)\n",
      "\n",
      "bal + gastric_fluid\n",
      "mbs_consolidated        neutrophil_consolidated\n",
      "Aspiration/Penetration  0.0                         4\n",
      "                        1.0                         1\n",
      "                        2.0                         1\n",
      "                        2.5                         1\n",
      "                        4.0                         2\n",
      "                        5.0                         5\n",
      "                        8.0                         1\n",
      "                        10.0                        1\n",
      "                        15.0                        2\n",
      "                        20.0                        1\n",
      "                        25.0                        1\n",
      "                        30.0                        2\n",
      "                        39.0                        1\n",
      "                        40.0                        1\n",
      "                        nan                         8\n",
      "Normal                  0.0                         7\n",
      "                        1.0                         1\n",
      "                        2.0                         2\n",
      "                        3.0                         2\n",
      "                        5.0                        10\n",
      "                        10.0                        5\n",
      "                        15.0                        2\n",
      "                        20.0                        1\n",
      "                        25.0                        2\n",
      "                        30.0                        1\n",
      "                        34.0                        1\n",
      "                        40.0                        1\n",
      "                        50.0                        1\n",
      "                        60.0                        1\n",
      "                        nan                         4\n",
      "nan                     0.0                         7\n",
      "                        1.0                         2\n",
      "                        2.0                         6\n",
      "                        3.0                         1\n",
      "                        4.0                         1\n",
      "                        5.0                         8\n",
      "                        7.0                         1\n",
      "                        10.0                        5\n",
      "                        15.0                        1\n",
      "                        20.0                        1\n",
      "                        25.0                        1\n",
      "                        35.0                        1\n",
      "                        40.0                        1\n",
      "                        50.0                        1\n",
      "                        70.0                        1\n",
      "                        nan                        11\n",
      "dtype: int64\n",
      "(122,)\n",
      "\n",
      "bal + throat_swab\n",
      "mbs_consolidated        neutrophil_consolidated\n",
      "Aspiration/Penetration  0.0                        5\n",
      "                        1.0                        1\n",
      "                        2.5                        1\n",
      "                        4.0                        2\n",
      "                        5.0                        3\n",
      "                        8.0                        1\n",
      "                        10.0                       1\n",
      "                        15.0                       2\n",
      "                        25.0                       1\n",
      "                        30.0                       2\n",
      "                        40.0                       1\n",
      "                        nan                        7\n",
      "Normal                  0.0                        4\n",
      "                        1.0                        1\n",
      "                        2.0                        2\n",
      "                        3.0                        1\n",
      "                        5.0                        8\n",
      "                        10.0                       4\n",
      "                        15.0                       1\n",
      "                        20.0                       1\n",
      "                        25.0                       1\n",
      "                        30.0                       1\n",
      "                        34.0                       1\n",
      "                        40.0                       1\n",
      "                        50.0                       1\n",
      "                        nan                        3\n",
      "nan                     0.0                        7\n",
      "                        1.0                        1\n",
      "                        2.0                        3\n",
      "                        3.0                        1\n",
      "                        4.0                        1\n",
      "                        5.0                        5\n",
      "                        7.0                        1\n",
      "                        10.0                       4\n",
      "                        15.0                       1\n",
      "                        20.0                       1\n",
      "                        35.0                       1\n",
      "                        40.0                       1\n",
      "                        50.0                       1\n",
      "                        nan                        8\n",
      "dtype: int64\n",
      "(93,)\n",
      "\n",
      "gastric_fluid + throat_swab\n",
      "mbs_consolidated        neutrophil_consolidated\n",
      "Aspiration/Penetration  0.0                         8\n",
      "                        1.0                         1\n",
      "                        2.5                         1\n",
      "                        3.0                         1\n",
      "                        4.0                         2\n",
      "                        5.0                         3\n",
      "                        8.0                         1\n",
      "                        10.0                        1\n",
      "                        15.0                        2\n",
      "                        25.0                        1\n",
      "                        30.0                        2\n",
      "                        40.0                        1\n",
      "                        nan                        10\n",
      "Normal                  0.0                         8\n",
      "                        1.0                         1\n",
      "                        2.0                         3\n",
      "                        3.0                         1\n",
      "                        5.0                         9\n",
      "                        9.0                         1\n",
      "                        10.0                        3\n",
      "                        15.0                        1\n",
      "                        20.0                        1\n",
      "                        25.0                        1\n",
      "                        30.0                        1\n",
      "                        34.0                        1\n",
      "                        40.0                        2\n",
      "                        50.0                        1\n",
      "                        nan                         6\n",
      "nan                     0.0                        10\n",
      "                        1.0                         1\n",
      "                        2.0                         4\n",
      "                        3.0                         2\n",
      "                        4.0                         1\n",
      "                        5.0                         7\n",
      "                        7.0                         1\n",
      "                        10.0                        5\n",
      "                        15.0                        2\n",
      "                        20.0                        1\n",
      "                        35.0                        1\n",
      "                        40.0                        1\n",
      "                        50.0                        1\n",
      "                        nan                        20\n",
      "dtype: int64\n",
      "(131,)\n",
      "\n"
     ]
    }
   ],
   "source": [
    "for site1 in sites:\n",
    "    for site2 in sites[sites.index(site1)+1:]:\n",
    "        subjects = patientsamples\\\n",
    "                    .query('(site == @site1) | (site == @site2)')\\\n",
    "                    .groupby(['ppi_consolidated', 'mbs_consolidated', 'neutrophil_consolidated', 'subject_id'])\\\n",
    "                    .size()\n",
    "        print('{} + {}'.format(site1, site2))\n",
    "                \n",
    "        # This line shows the number of within-patient comparisons,\n",
    "        # just grouped by MBS status \n",
    "        print(subjects[subjects == 2].reset_index()\n",
    "              .groupby(['mbs_consolidated', 'neutrophil_consolidated']).size())\n",
    "\n",
    "        ## Uncomment this line to see disaggregation by PPI status too\n",
    "        ## (this only affects stool_throat comparisons)\n",
    "        #print(subjects[subjects == 2].reset_index()\n",
    "        #      .groupby(['ppi_consolidated', 'mbs_consolidated']).size())        \n",
    "        \n",
    "        # And this line is just straight-up the number of unique patients\n",
    "        print(subjects[subjects == 2].reset_index()['subject_id'].unique().shape)\n",
    "        print('')\n"
   ]
  },
  {
   "cell_type": "code",
   "execution_count": null,
   "metadata": {
    "collapsed": true
   },
   "outputs": [],
   "source": []
  }
 ],
 "metadata": {
  "anaconda-cloud": {},
  "kernelspec": {
   "display_name": "Python [default]",
   "language": "python",
   "name": "python2"
  },
  "language_info": {
   "codemirror_mode": {
    "name": "ipython",
    "version": 2
   },
   "file_extension": ".py",
   "mimetype": "text/x-python",
   "name": "python",
   "nbconvert_exporter": "python",
   "pygments_lexer": "ipython2",
   "version": "2.7.12"
  }
 },
 "nbformat": 4,
 "nbformat_minor": 2
}
