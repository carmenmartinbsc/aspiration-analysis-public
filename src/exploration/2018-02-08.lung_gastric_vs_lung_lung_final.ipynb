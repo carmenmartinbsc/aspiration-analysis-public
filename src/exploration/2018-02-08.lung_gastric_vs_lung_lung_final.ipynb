{
 "cells": [
  {
   "cell_type": "markdown",
   "metadata": {},
   "source": [
    "The goal of this notebook is to show that the intra-individual variation of the same site is larger than the inter-individual variation of different sites.\n",
    "\n",
    "In other words, we want to explicitly show that in the aerodigestive tract, different sites are more similar to each other within a patient than to the same sites in other patients - in the aerodigestive tract, communities cluster by patient rather than by site."
   ]
  },
  {
   "cell_type": "code",
   "execution_count": 1,
   "metadata": {
    "collapsed": true
   },
   "outputs": [],
   "source": [
    "import pandas as pd\n",
    "import numpy as np\n",
    "\n",
    "from scipy.stats import wilcoxon\n",
    "\n",
    "import seaborn as sns\n",
    "import matplotlib.pyplot as plt\n",
    "%matplotlib inline"
   ]
  },
  {
   "cell_type": "markdown",
   "metadata": {},
   "source": [
    "# Read in data and clean up samples"
   ]
  },
  {
   "cell_type": "code",
   "execution_count": 2,
   "metadata": {
    "collapsed": false
   },
   "outputs": [
    {
     "name": "stderr",
     "output_type": "stream",
     "text": [
      "/Users/claire/anaconda/lib/python2.7/site-packages/IPython/core/interactiveshell.py:2718: DtypeWarning: Columns (16,17) have mixed types. Specify dtype option on import or set low_memory=False.\n",
      "  interactivity=interactivity, compiler=compiler, result=result)\n"
     ]
    }
   ],
   "source": [
    "fjsdlong = '/Users/claire/github/aspiration-analysis/data/analysis/jsd.txt'\n",
    "fnmeta = '/Users/claire/github/aspiration-analysis/data/clean/rosen.metadata.clean'\n",
    "\n",
    "jsd = pd.read_csv(fjsdlong, sep='\\t')\n",
    "meta = pd.read_csv(fnmeta, sep='\\t', index_col=0)"
   ]
  },
  {
   "cell_type": "code",
   "execution_count": 3,
   "metadata": {
    "collapsed": false
   },
   "outputs": [
    {
     "name": "stdout",
     "output_type": "stream",
     "text": [
      "106030\n",
      "106030\n",
      "106030\n",
      "106030\n",
      "106030\n",
      "106030\n",
      "106030\n"
     ]
    }
   ],
   "source": [
    "# Remove \"final\" throat and stool samples\n",
    "print(jsd.shape[0])\n",
    "jsd = jsd[~jsd['sample1'].str.endswith('F')]\n",
    "print(jsd.shape[0])\n",
    "jsd = jsd[~jsd['sample2'].str.endswith('F')]\n",
    "print(jsd.shape[0])\n",
    "jsd = jsd[~jsd['sample1'].str.endswith('sick')]\n",
    "print(jsd.shape[0])\n",
    "jsd = jsd[~jsd['sample2'].str.endswith('sick')]\n",
    "print(jsd.shape[0])\n",
    "jsd = jsd[~jsd['sample1'].str.endswith('F2')]\n",
    "jsd = jsd[~jsd['sample1'].str.endswith('F2T')]\n",
    "jsd = jsd[~jsd['sample2'].str.endswith('F2')]\n",
    "jsd = jsd[~jsd['sample2'].str.endswith('F2T')]\n",
    "print(jsd.shape[0])\n",
    "jsd = jsd[~jsd['sample1'].str.startswith('05')]\n",
    "jsd = jsd[~jsd['sample2'].str.startswith('05')]\n",
    "print(jsd.shape[0])"
   ]
  },
  {
   "cell_type": "code",
   "execution_count": 4,
   "metadata": {
    "collapsed": false
   },
   "outputs": [
    {
     "name": "stdout",
     "output_type": "stream",
     "text": [
      "(51040, 9870)\n",
      "(60910, 39)\n"
     ]
    }
   ],
   "source": [
    "# Keep just within-batch comparisons\n",
    "jsd2014 = jsd.query('(batch1 == 2014) & (batch2 == 2014)')\n",
    "jsd2016 = jsd.query('(batch1 == 2016) & (batch2 == 2016)')\n",
    "print(jsd2014.shape[0], jsd2016.shape[0])\n",
    "\n",
    "jsd = pd.concat((jsd2014, jsd2016))\n",
    "print(jsd.shape)"
   ]
  },
  {
   "cell_type": "code",
   "execution_count": 5,
   "metadata": {
    "collapsed": false
   },
   "outputs": [
    {
     "data": {
      "text/plain": [
       "batch1  batch2  patient_comp  site_comparison            \n",
       "2014    2014    between       bal-bal                        3240\n",
       "                              bal-gastric_fluid              4441\n",
       "                              bal-stool                       220\n",
       "                              bal-throat_swab                5034\n",
       "                              gastric_fluid-bal              3911\n",
       "                              gastric_fluid-gastric_fluid    5356\n",
       "                              gastric_fluid-stool             297\n",
       "                              gastric_fluid-throat_swab      6164\n",
       "                              stool-bal                       671\n",
       "                              stool-gastric_fluid             847\n",
       "                              stool-stool                      55\n",
       "                              stool-throat_swab               913\n",
       "                              throat_swab-bal                4950\n",
       "                              throat_swab-gastric_fluid      6648\n",
       "                              throat_swab-stool               440\n",
       "                              throat_swab-throat_swab        7626\n",
       "                within        bal-gastric_fluid                72\n",
       "                              bal-throat_swab                  60\n",
       "                              gastric_fluid-throat_swab        84\n",
       "                              stool-throat_swab                11\n",
       "2016    2016    between       bal-bal                         210\n",
       "                              bal-gastric_fluid               347\n",
       "                              bal-stool                        26\n",
       "                              bal-throat_swab                 397\n",
       "                              gastric_fluid-bal               539\n",
       "                              gastric_fluid-gastric_fluid     903\n",
       "                              gastric_fluid-rectal_swab        55\n",
       "                              gastric_fluid-stool             158\n",
       "                              gastric_fluid-throat_swab      1066\n",
       "                              rectal_swab-bal                 231\n",
       "                              rectal_swab-gastric_fluid       409\n",
       "                              rectal_swab-rectal_swab          55\n",
       "                              rectal_swab-stool               145\n",
       "                              rectal_swab-throat_swab         521\n",
       "                              stool-bal                       268\n",
       "                              stool-gastric_fluid             444\n",
       "                              stool-rectal_swab                 9\n",
       "                              stool-stool                      91\n",
       "                              stool-throat_swab               494\n",
       "                              throat_swab-bal                 682\n",
       "                              throat_swab-gastric_fluid      1142\n",
       "                              throat_swab-rectal_swab          45\n",
       "                              throat_swab-stool               225\n",
       "                              throat_swab-throat_swab        1326\n",
       "                within        bal-gastric_fluid                17\n",
       "                              bal-throat_swab                  13\n",
       "                              gastric_fluid-rectal_swab         9\n",
       "                              gastric_fluid-throat_swab        28\n",
       "                              rectal_swab-throat_swab           6\n",
       "                              stool-throat_swab                 9\n",
       "dtype: int64"
      ]
     },
     "execution_count": 5,
     "metadata": {},
     "output_type": "execute_result"
    }
   ],
   "source": [
    "jsd.groupby(['batch1', 'batch2', 'patient_comp', 'site_comparison']).size()"
   ]
  },
  {
   "cell_type": "code",
   "execution_count": null,
   "metadata": {
    "collapsed": false
   },
   "outputs": [],
   "source": []
  },
  {
   "cell_type": "markdown",
   "metadata": {},
   "source": [
    "# Sample code with one patient\n",
    "\n",
    "What we want to show is: the distribution of JSD's between that patient's lung and all other lungs, with the patient's lung-throat and lung-gastric JSD overlaid.\n",
    "\n",
    "1. Get all lung-lung JSD from that patient and all other patients   \n",
    "2. Make histogram of those   \n",
    "3. Overlay that patient's lung-gastric and lung-throat JSD"
   ]
  },
  {
   "cell_type": "code",
   "execution_count": 6,
   "metadata": {
    "collapsed": false
   },
   "outputs": [
    {
     "data": {
      "text/plain": [
       "['04-172-0G', '04-172-0T', '04-172-0B']"
      ]
     },
     "execution_count": 6,
     "metadata": {},
     "output_type": "execute_result"
    }
   ],
   "source": [
    "# Get a patient who has all three sites\n",
    "subj = '04-172-0'\n",
    "samples = list(set(\n",
    "    jsd.query('subject == @subj')['sample1'].tolist() \n",
    "    + jsd.query('subject == @subj')['sample2'].tolist()\n",
    "    ))\n",
    "samples"
   ]
  },
  {
   "cell_type": "code",
   "execution_count": 7,
   "metadata": {
    "collapsed": false
   },
   "outputs": [
    {
     "name": "stdout",
     "output_type": "stream",
     "text": [
      "(array([ 0.87107771]), array([ 0.93985078]))\n"
     ]
    }
   ],
   "source": [
    "smpl = '04-172-0B'\n",
    "\n",
    "\n",
    "# Query bal-bal comparisons including this person's bal sample\n",
    "balbal = jsd\\\n",
    "    .query('(sample1 == @smpl) | (sample2 == @smpl)')\\\n",
    "    .query('site_comparison == \"bal-bal\"')\n",
    "    \n",
    "balgas = jsd.query('subject == @subj').query('site_comparison == \"bal-gastric_fluid\"')['beta'].values\n",
    "balthr = jsd.query('subject == @subj').query('site_comparison == \"bal-throat_swab\"')['beta'].values\n",
    "print(balgas, balthr)"
   ]
  },
  {
   "cell_type": "code",
   "execution_count": 8,
   "metadata": {
    "collapsed": false
   },
   "outputs": [
    {
     "data": {
      "text/plain": [
       "<matplotlib.lines.Line2D at 0x1102e1e90>"
      ]
     },
     "execution_count": 8,
     "metadata": {},
     "output_type": "execute_result"
    },
    {
     "data": {
      "image/png": "[encoded data removed]",
      "text/plain": [
       "<matplotlib.figure.Figure at 0x10e982050>"
      ]
     },
     "metadata": {},
     "output_type": "display_data"
    }
   ],
   "source": [
    "fig, ax = plt.subplots()\n",
    "sns.distplot(balbal['beta'], ax=ax)\n",
    "ax.axvline(balgas, color='g')\n",
    "ax.axvline(balthr, color='r')"
   ]
  },
  {
   "cell_type": "code",
   "execution_count": 9,
   "metadata": {
    "collapsed": false
   },
   "outputs": [
    {
     "data": {
      "text/plain": [
       "(80, 39)"
      ]
     },
     "execution_count": 9,
     "metadata": {},
     "output_type": "execute_result"
    }
   ],
   "source": [
    "balbal.shape"
   ]
  },
  {
   "cell_type": "markdown",
   "metadata": {},
   "source": [
    "Let's do this systematically.\n",
    "\n",
    "```\n",
    "For each patient:\n",
    "    for each site in that patient:\n",
    "        get all the between-patient, within-batch site-site comparisons (i.e. same site, different patients)\n",
    "        for each within-patient site comparisons for that patient:\n",
    "            count how many btw patient site-site jsd's are lower than that site-comparison jsd\n",
    "            \n",
    "            store: [subject, site, sample-of-that-site, \n",
    "                    N btw patient same site comparisons, \n",
    "                    site-comparison, N jsd within < jsd between]\n",
    "```"
   ]
  },
  {
   "cell_type": "code",
   "execution_count": 10,
   "metadata": {
    "collapsed": false
   },
   "outputs": [],
   "source": [
    "allcomps = ['gastric_fluid-throat_swab', 'bal-gastric_fluid', 'bal-throat_swab']\n",
    "\n",
    "reslst = []\n",
    "for subj, ptjsd in jsd.query('site_comparison == @allcomps').groupby('subject'):\n",
    "    samples = list(set(ptjsd['sample1'].tolist() + ptjsd['sample2'].tolist()))\n",
    "    for s in samples:\n",
    "        site = meta.loc[s, 'site']\n",
    "        \n",
    "        # between patients, same site comparison\n",
    "        site_comp = site + '-' + site\n",
    "        sitejsd = jsd\\\n",
    "            .query('patient_comp == \"between\"')\\\n",
    "            .query('site_comparison == @site_comp')\n",
    "\n",
    "        # get the site comparisons that include that site\n",
    "        relevant_comps = [i for i in ptjsd['site_comparison'] if site in i]\n",
    "        \n",
    "        # get the within-patient beta div for each of those comparisons\n",
    "        for comp in relevant_comps:\n",
    "            \n",
    "            # get the site1-site2 within patient jsd\n",
    "            beta = ptjsd.query('site_comparison == @comp')['beta'].values[0]\n",
    "            \n",
    "            # how many site-site jsd's are lower than this within-patient one?\n",
    "            n = sum(sitejsd['beta'] < beta)\n",
    "            \n",
    "            # mean(patient's lung vs all other lungs) - site1-site2 within jsd\n",
    "            diff = np.mean(sitejsd['beta']) - beta\n",
    "            \n",
    "            # Prepare data to store\n",
    "            row = [subj, site, s, sitejsd.shape[0], comp, beta, n, diff]\n",
    "            reslst.append(row)\n"
   ]
  },
  {
   "cell_type": "code",
   "execution_count": 11,
   "metadata": {
    "collapsed": false
   },
   "outputs": [],
   "source": [
    "# Note: \"n_lower\" means \"number of inter-patient comparisons (site1 vs site1) which\n",
    "# were more similar than that patient's respective intra-patient comparison (site1 vs. site2)\"\n",
    "resdf = pd.DataFrame(\n",
    "    reslst, \n",
    "    columns=['subject', 'site', 'sample', \n",
    "             'n_btw_patient', 'site_comparison', \n",
    "             'beta', 'n_lower', 'inter_minus_intra'])\n",
    "resdf['percent_lower'] = resdf['n_lower']/resdf['n_btw_patient'].astype(float)"
   ]
  },
  {
   "cell_type": "code",
   "execution_count": 12,
   "metadata": {
    "collapsed": false
   },
   "outputs": [
    {
     "data": {
      "text/html": [
       "<div>\n",
       "<style scoped>\n",
       "    .dataframe tbody tr th:only-of-type {\n",
       "        vertical-align: middle;\n",
       "    }\n",
       "\n",
       "    .dataframe tbody tr th {\n",
       "        vertical-align: top;\n",
       "    }\n",
       "\n",
       "    .dataframe thead th {\n",
       "        text-align: right;\n",
       "    }\n",
       "</style>\n",
       "<table border=\"1\" class=\"dataframe\">\n",
       "  <thead>\n",
       "    <tr style=\"text-align: right;\">\n",
       "      <th></th>\n",
       "      <th>subject</th>\n",
       "      <th>site</th>\n",
       "      <th>sample</th>\n",
       "      <th>n_btw_patient</th>\n",
       "      <th>site_comparison</th>\n",
       "      <th>beta</th>\n",
       "      <th>n_lower</th>\n",
       "      <th>inter_minus_intra</th>\n",
       "      <th>percent_lower</th>\n",
       "    </tr>\n",
       "  </thead>\n",
       "  <tbody>\n",
       "    <tr>\n",
       "      <th>0</th>\n",
       "      <td>01-112-7</td>\n",
       "      <td>throat_swab</td>\n",
       "      <td>01-112-7TI</td>\n",
       "      <td>8952</td>\n",
       "      <td>gastric_fluid-throat_swab</td>\n",
       "      <td>0.993353</td>\n",
       "      <td>8952</td>\n",
       "      <td>-0.393382</td>\n",
       "      <td>1.000000</td>\n",
       "    </tr>\n",
       "    <tr>\n",
       "      <th>1</th>\n",
       "      <td>01-112-7</td>\n",
       "      <td>gastric_fluid</td>\n",
       "      <td>01-112-7GI</td>\n",
       "      <td>6259</td>\n",
       "      <td>gastric_fluid-throat_swab</td>\n",
       "      <td>0.993353</td>\n",
       "      <td>6183</td>\n",
       "      <td>-0.228705</td>\n",
       "      <td>0.987857</td>\n",
       "    </tr>\n",
       "    <tr>\n",
       "      <th>2</th>\n",
       "      <td>01-164-7</td>\n",
       "      <td>throat_swab</td>\n",
       "      <td>01-164-7TI</td>\n",
       "      <td>8952</td>\n",
       "      <td>gastric_fluid-throat_swab</td>\n",
       "      <td>0.091874</td>\n",
       "      <td>0</td>\n",
       "      <td>0.508098</td>\n",
       "      <td>0.000000</td>\n",
       "    </tr>\n",
       "    <tr>\n",
       "      <th>3</th>\n",
       "      <td>01-164-7</td>\n",
       "      <td>gastric_fluid</td>\n",
       "      <td>01-164-7GI</td>\n",
       "      <td>6259</td>\n",
       "      <td>gastric_fluid-throat_swab</td>\n",
       "      <td>0.091874</td>\n",
       "      <td>0</td>\n",
       "      <td>0.672775</td>\n",
       "      <td>0.000000</td>\n",
       "    </tr>\n",
       "    <tr>\n",
       "      <th>4</th>\n",
       "      <td>01-173-4</td>\n",
       "      <td>gastric_fluid</td>\n",
       "      <td>01-173-4G</td>\n",
       "      <td>6259</td>\n",
       "      <td>gastric_fluid-throat_swab</td>\n",
       "      <td>0.516810</td>\n",
       "      <td>453</td>\n",
       "      <td>0.247839</td>\n",
       "      <td>0.072376</td>\n",
       "    </tr>\n",
       "  </tbody>\n",
       "</table>\n",
       "</div>"
      ],
      "text/plain": [
       "    subject           site      sample  n_btw_patient  \\\n",
       "0  01-112-7    throat_swab  01-112-7TI           8952   \n",
       "1  01-112-7  gastric_fluid  01-112-7GI           6259   \n",
       "2  01-164-7    throat_swab  01-164-7TI           8952   \n",
       "3  01-164-7  gastric_fluid  01-164-7GI           6259   \n",
       "4  01-173-4  gastric_fluid   01-173-4G           6259   \n",
       "\n",
       "             site_comparison      beta  n_lower  inter_minus_intra  \\\n",
       "0  gastric_fluid-throat_swab  0.993353     8952          -0.393382   \n",
       "1  gastric_fluid-throat_swab  0.993353     6183          -0.228705   \n",
       "2  gastric_fluid-throat_swab  0.091874        0           0.508098   \n",
       "3  gastric_fluid-throat_swab  0.091874        0           0.672775   \n",
       "4  gastric_fluid-throat_swab  0.516810      453           0.247839   \n",
       "\n",
       "   percent_lower  \n",
       "0       1.000000  \n",
       "1       0.987857  \n",
       "2       0.000000  \n",
       "3       0.000000  \n",
       "4       0.072376  "
      ]
     },
     "execution_count": 12,
     "metadata": {},
     "output_type": "execute_result"
    }
   ],
   "source": [
    "resdf.head()"
   ]
  },
  {
   "cell_type": "code",
   "execution_count": 13,
   "metadata": {
    "collapsed": false
   },
   "outputs": [
    {
     "data": {
      "text/html": [
       "<div>\n",
       "<style scoped>\n",
       "    .dataframe tbody tr th:only-of-type {\n",
       "        vertical-align: middle;\n",
       "    }\n",
       "\n",
       "    .dataframe tbody tr th {\n",
       "        vertical-align: top;\n",
       "    }\n",
       "\n",
       "    .dataframe thead tr th {\n",
       "        text-align: left;\n",
       "    }\n",
       "\n",
       "    .dataframe thead tr:last-of-type th {\n",
       "        text-align: right;\n",
       "    }\n",
       "</style>\n",
       "<table border=\"1\" class=\"dataframe\">\n",
       "  <thead>\n",
       "    <tr>\n",
       "      <th></th>\n",
       "      <th></th>\n",
       "      <th colspan=\"8\" halign=\"left\">percent_lower</th>\n",
       "    </tr>\n",
       "    <tr>\n",
       "      <th></th>\n",
       "      <th></th>\n",
       "      <th>count</th>\n",
       "      <th>mean</th>\n",
       "      <th>std</th>\n",
       "      <th>min</th>\n",
       "      <th>25%</th>\n",
       "      <th>50%</th>\n",
       "      <th>75%</th>\n",
       "      <th>max</th>\n",
       "    </tr>\n",
       "    <tr>\n",
       "      <th>site</th>\n",
       "      <th>site_comparison</th>\n",
       "      <th></th>\n",
       "      <th></th>\n",
       "      <th></th>\n",
       "      <th></th>\n",
       "      <th></th>\n",
       "      <th></th>\n",
       "      <th></th>\n",
       "      <th></th>\n",
       "    </tr>\n",
       "  </thead>\n",
       "  <tbody>\n",
       "    <tr>\n",
       "      <th rowspan=\"2\" valign=\"top\">bal</th>\n",
       "      <th>bal-gastric_fluid</th>\n",
       "      <td>89.0</td>\n",
       "      <td>0.205449</td>\n",
       "      <td>0.212084</td>\n",
       "      <td>0.000290</td>\n",
       "      <td>0.055942</td>\n",
       "      <td>0.103768</td>\n",
       "      <td>0.344348</td>\n",
       "      <td>0.782899</td>\n",
       "    </tr>\n",
       "    <tr>\n",
       "      <th>bal-throat_swab</th>\n",
       "      <td>73.0</td>\n",
       "      <td>0.524046</td>\n",
       "      <td>0.353704</td>\n",
       "      <td>0.018551</td>\n",
       "      <td>0.154783</td>\n",
       "      <td>0.547246</td>\n",
       "      <td>0.868406</td>\n",
       "      <td>0.999710</td>\n",
       "    </tr>\n",
       "    <tr>\n",
       "      <th rowspan=\"2\" valign=\"top\">gastric_fluid</th>\n",
       "      <th>bal-gastric_fluid</th>\n",
       "      <td>89.0</td>\n",
       "      <td>0.262626</td>\n",
       "      <td>0.282363</td>\n",
       "      <td>0.000000</td>\n",
       "      <td>0.023167</td>\n",
       "      <td>0.111040</td>\n",
       "      <td>0.548330</td>\n",
       "      <td>0.872823</td>\n",
       "    </tr>\n",
       "    <tr>\n",
       "      <th>gastric_fluid-throat_swab</th>\n",
       "      <td>112.0</td>\n",
       "      <td>0.241512</td>\n",
       "      <td>0.298318</td>\n",
       "      <td>0.000000</td>\n",
       "      <td>0.014339</td>\n",
       "      <td>0.120227</td>\n",
       "      <td>0.389799</td>\n",
       "      <td>0.998243</td>\n",
       "    </tr>\n",
       "    <tr>\n",
       "      <th rowspan=\"2\" valign=\"top\">throat_swab</th>\n",
       "      <th>bal-throat_swab</th>\n",
       "      <td>73.0</td>\n",
       "      <td>0.773787</td>\n",
       "      <td>0.326049</td>\n",
       "      <td>0.000559</td>\n",
       "      <td>0.608021</td>\n",
       "      <td>0.981680</td>\n",
       "      <td>0.998436</td>\n",
       "      <td>1.000000</td>\n",
       "    </tr>\n",
       "    <tr>\n",
       "      <th>gastric_fluid-throat_swab</th>\n",
       "      <td>112.0</td>\n",
       "      <td>0.424450</td>\n",
       "      <td>0.362196</td>\n",
       "      <td>0.000000</td>\n",
       "      <td>0.047001</td>\n",
       "      <td>0.426664</td>\n",
       "      <td>0.759970</td>\n",
       "      <td>1.000000</td>\n",
       "    </tr>\n",
       "  </tbody>\n",
       "</table>\n",
       "</div>"
      ],
      "text/plain": [
       "                                        percent_lower                      \\\n",
       "                                                count      mean       std   \n",
       "site          site_comparison                                               \n",
       "bal           bal-gastric_fluid                  89.0  0.205449  0.212084   \n",
       "              bal-throat_swab                    73.0  0.524046  0.353704   \n",
       "gastric_fluid bal-gastric_fluid                  89.0  0.262626  0.282363   \n",
       "              gastric_fluid-throat_swab         112.0  0.241512  0.298318   \n",
       "throat_swab   bal-throat_swab                    73.0  0.773787  0.326049   \n",
       "              gastric_fluid-throat_swab         112.0  0.424450  0.362196   \n",
       "\n",
       "                                                                       \\\n",
       "                                              min       25%       50%   \n",
       "site          site_comparison                                           \n",
       "bal           bal-gastric_fluid          0.000290  0.055942  0.103768   \n",
       "              bal-throat_swab            0.018551  0.154783  0.547246   \n",
       "gastric_fluid bal-gastric_fluid          0.000000  0.023167  0.111040   \n",
       "              gastric_fluid-throat_swab  0.000000  0.014339  0.120227   \n",
       "throat_swab   bal-throat_swab            0.000559  0.608021  0.981680   \n",
       "              gastric_fluid-throat_swab  0.000000  0.047001  0.426664   \n",
       "\n",
       "                                                             \n",
       "                                              75%       max  \n",
       "site          site_comparison                                \n",
       "bal           bal-gastric_fluid          0.344348  0.782899  \n",
       "              bal-throat_swab            0.868406  0.999710  \n",
       "gastric_fluid bal-gastric_fluid          0.548330  0.872823  \n",
       "              gastric_fluid-throat_swab  0.389799  0.998243  \n",
       "throat_swab   bal-throat_swab            0.998436  1.000000  \n",
       "              gastric_fluid-throat_swab  0.759970  1.000000  "
      ]
     },
     "execution_count": 13,
     "metadata": {},
     "output_type": "execute_result"
    }
   ],
   "source": [
    "resdf.groupby(['site', 'site_comparison']).describe()[['percent_lower']]"
   ]
  },
  {
   "cell_type": "code",
   "execution_count": 14,
   "metadata": {
    "collapsed": false
   },
   "outputs": [
    {
     "name": "stderr",
     "output_type": "stream",
     "text": [
      "/Users/claire/anaconda/lib/python2.7/site-packages/seaborn/categorical.py:454: FutureWarning: remove_na is deprecated and is a private function. Do not use.\n",
      "  box_data = remove_na(group_data)\n"
     ]
    },
    {
     "data": {
      "text/plain": [
       "<seaborn.axisgrid.FacetGrid at 0x110405b10>"
      ]
     },
     "execution_count": 14,
     "metadata": {},
     "output_type": "execute_result"
    },
    {
     "data": {
      "image/png": "[encoded data removed]",
      "text/plain": [
       "<matplotlib.figure.Figure at 0x1104054d0>"
      ]
     },
     "metadata": {},
     "output_type": "display_data"
    }
   ],
   "source": [
    "order = ['bal', 'gastric_fluid', 'throat_swab']\n",
    "g = sns.FacetGrid(data=resdf, col='site', sharex=False, col_order=order)\n",
    "g.map(sns.boxplot, 'site_comparison', 'inter_minus_intra')\n",
    "g.map(sns.stripplot, 'site_comparison', 'inter_minus_intra', jitter=True)\n"
   ]
  },
  {
   "cell_type": "markdown",
   "metadata": {},
   "source": [
    "For each plot, the values are the difference between that patient's mean similarity to all other patient's site and that patients' similarity with the other site.\n",
    "\n",
    "So if it's above zero, that means that on average, the within-patient communities are more similar than the between-patient comparison.\n",
    "\n",
    "If it's below zero, that means that the within-patient are more **different** than similarities in sites between patients."
   ]
  },
  {
   "cell_type": "code",
   "execution_count": 15,
   "metadata": {
    "collapsed": false
   },
   "outputs": [
    {
     "name": "stdout",
     "output_type": "stream",
     "text": [
      "('bal', 'bal-gastric_fluid', WilcoxonResult(statistic=335.0, pvalue=8.9615125006500538e-12))\n",
      "('bal', 'bal-throat_swab', WilcoxonResult(statistic=1293.0, pvalue=0.75191941810426355))\n",
      "('gastric_fluid', 'bal-gastric_fluid', WilcoxonResult(statistic=541.0, pvalue=2.2388416416502762e-09))\n",
      "('gastric_fluid', 'gastric_fluid-throat_swab', WilcoxonResult(statistic=742.0, pvalue=2.045078671169907e-12))\n",
      "('throat_swab', 'bal-throat_swab', WilcoxonResult(statistic=295.0, pvalue=6.5267017957769836e-09))\n",
      "('throat_swab', 'gastric_fluid-throat_swab', WilcoxonResult(statistic=2543.0, pvalue=0.071412991678381596))\n"
     ]
    }
   ],
   "source": [
    "for site, subdf in resdf.groupby(['site', 'site_comparison']):\n",
    "    print(site[0], site[1], wilcoxon(subdf['inter_minus_intra']))"
   ]
  },
  {
   "cell_type": "markdown",
   "metadata": {},
   "source": [
    "Lungs are more different from other lungs than lungs and stomachs are within people.\n",
    "\n",
    "(Lungs are not necessarily more different from other lungs than lungs and throats are within people.)\n",
    "\n",
    "Stomachs are more different between people than they are to both throats and lungs within people.\n",
    "\n",
    "Throats are more similar between people than lungs and throats within people.\n",
    "\n",
    "Throats between people are basically as different/similar as throats and stomachs within people."
   ]
  },
  {
   "cell_type": "code",
   "execution_count": null,
   "metadata": {
    "collapsed": true
   },
   "outputs": [],
   "source": []
  }
 ],
 "metadata": {
  "anaconda-cloud": {},
  "kernelspec": {
   "display_name": "Python [default]",
   "language": "python",
   "name": "python2"
  },
  "language_info": {
   "codemirror_mode": {
    "name": "ipython",
    "version": 2
   },
   "file_extension": ".py",
   "mimetype": "text/x-python",
   "name": "python",
   "nbconvert_exporter": "python",
   "pygments_lexer": "ipython2",
   "version": "2.7.12"
  }
 },
 "nbformat": 4,
 "nbformat_minor": 2
}
