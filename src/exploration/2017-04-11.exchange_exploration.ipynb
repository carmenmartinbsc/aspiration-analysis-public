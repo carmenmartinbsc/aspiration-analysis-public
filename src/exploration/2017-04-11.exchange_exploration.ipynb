{
 "cells": [
  {
   "cell_type": "markdown",
   "metadata": {},
   "source": [
    "The goal of this notebook is to explore the different options I have for defining \"sharedness\" or \"prevalence of exchange\" (synonymous).\n",
    "\n",
    "Specifically\n",
    "- which samples should I use to define the shared OTUs?\n",
    "    - all samples with MBS status?\n",
    "    - all samples with the given site combination?\n",
    "        - which samples does this include? i.e. how many non-K23 samples would this be?\n",
    "- does the choice of samples for the definition affect the interpretation?"
   ]
  },
  {
   "cell_type": "code",
   "execution_count": 1,
   "metadata": {
    "collapsed": true
   },
   "outputs": [],
   "source": [
    "from collections import Counter\n",
    "\n",
    "import pandas as pd\n",
    "import numpy as np\n",
    "import matplotlib.pyplot as plt\n",
    "%matplotlib inline"
   ]
  },
  {
   "cell_type": "code",
   "execution_count": 2,
   "metadata": {
    "collapsed": true
   },
   "outputs": [],
   "source": [
    "fnotu = '/Users/claire/github/aspiration-analysis/data/clean/rosen.otu_table.clean'\n",
    "fnmeta = '/Users/claire/github/aspiration-analysis/data/clean/rosen.metadata.clean'\n",
    "\n",
    "df = pd.read_csv(fnotu, sep='\\t', index_col=0)\n",
    "meta = pd.read_csv(fnmeta, sep='\\t', index_col=0)\n",
    "\n",
    "mbscol = 'mbs_consolidated'"
   ]
  },
  {
   "cell_type": "code",
   "execution_count": 3,
   "metadata": {
    "collapsed": false
   },
   "outputs": [
    {
     "name": "stdout",
     "output_type": "stream",
     "text": [
      "('gastric_fluid', Counter({1: 179, 2: 1}))\n",
      "('throat_swab', Counter({1: 159, 2: 45}))\n",
      "('bal', Counter({1: 131}))\n"
     ]
    }
   ],
   "source": [
    "# How many patients have multiple samples per site?\n",
    "sites = ['gastric_fluid', 'throat_swab', 'bal']\n",
    "for s in sites:\n",
    "    print(s, Counter(meta.query('site == @s').groupby(['subject_id']).size()))"
   ]
  },
  {
   "cell_type": "markdown",
   "metadata": {},
   "source": [
    "An explanation of what the cell below does, where `subdf` is the same object as what's returned by `meta.query('site == @sites').query('subject_id == \"01-230-9\"')`:\n",
    "\n",
    "```python\n",
    "> meta.query('site == @sites').query('subject_id == \"01-230-9\"').groupby('site').size()\n",
    "site\n",
    "gastric_fluid    2\n",
    "throat_swab      1\n",
    "dtype: int64\n",
    "\n",
    "# Shape of the grouped-by site df is how many different sites are sampled\n",
    "> meta.query('site == @sites').query('subject_id == \"01-230-9\"').groupby('site').size().shape\n",
    "(2,)\n",
    "\n",
    "# If any of the values are greater than 1, keep track of that sample\n",
    "> meta.query('site == @sites').query('subject_id == \"01-230-9\"').groupby('site').size().values\n",
    "array([2, 1])\n",
    "```"
   ]
  },
  {
   "cell_type": "code",
   "execution_count": 4,
   "metadata": {
    "collapsed": false
   },
   "outputs": [
    {
     "name": "stdout",
     "output_type": "stream",
     "text": [
      "2 subjects have multiple sites of interest sampled and duplicate samples for at least one of those sites.\n"
     ]
    }
   ],
   "source": [
    "# Of patients with at least 2 different sites of interest sampled,\n",
    "# how many have duplicate samples for one of the sites?\n",
    "subjs = []\n",
    "for subj, subdf in meta.query('site == @sites').groupby('subject_id'):\n",
    "    if subdf.groupby('site').size().shape[0] > 1:\n",
    "        if sum(subdf.groupby('site').size().values > 1) > 0:\n",
    "            subjs.append(subj)\n",
    "print('{} subjects have multiple sites of interest sampled and '\n",
    "      'duplicate samples for at least one of those sites.'.format(len(subjs)))          "
   ]
  },
  {
   "cell_type": "code",
   "execution_count": 5,
   "metadata": {
    "collapsed": false
   },
   "outputs": [
    {
     "data": {
      "text/html": [
       "<div>\n",
       "<table border=\"1\" class=\"dataframe\">\n",
       "  <thead>\n",
       "    <tr style=\"text-align: right;\">\n",
       "      <th></th>\n",
       "      <th>subject_id</th>\n",
       "      <th>site</th>\n",
       "    </tr>\n",
       "  </thead>\n",
       "  <tbody>\n",
       "    <tr>\n",
       "      <th>01-230-9GF</th>\n",
       "      <td>01-230-9</td>\n",
       "      <td>gastric_fluid</td>\n",
       "    </tr>\n",
       "    <tr>\n",
       "      <th>01-230-9GI</th>\n",
       "      <td>01-230-9</td>\n",
       "      <td>gastric_fluid</td>\n",
       "    </tr>\n",
       "    <tr>\n",
       "      <th>01-230-9RF</th>\n",
       "      <td>01-230-9</td>\n",
       "      <td>rectal_swab</td>\n",
       "    </tr>\n",
       "    <tr>\n",
       "      <th>01-230-9RI</th>\n",
       "      <td>01-230-9</td>\n",
       "      <td>rectal_swab</td>\n",
       "    </tr>\n",
       "    <tr>\n",
       "      <th>01-230-9TF</th>\n",
       "      <td>01-230-9</td>\n",
       "      <td>throat_swab</td>\n",
       "    </tr>\n",
       "    <tr>\n",
       "      <th>01-263-4GI</th>\n",
       "      <td>01-263-4</td>\n",
       "      <td>gastric_fluid</td>\n",
       "    </tr>\n",
       "    <tr>\n",
       "      <th>01-263-4RI</th>\n",
       "      <td>01-263-4</td>\n",
       "      <td>rectal_swab</td>\n",
       "    </tr>\n",
       "    <tr>\n",
       "      <th>01-263-4TF</th>\n",
       "      <td>01-263-4</td>\n",
       "      <td>throat_swab</td>\n",
       "    </tr>\n",
       "    <tr>\n",
       "      <th>01-263-4TI</th>\n",
       "      <td>01-263-4</td>\n",
       "      <td>throat_swab</td>\n",
       "    </tr>\n",
       "  </tbody>\n",
       "</table>\n",
       "</div>"
      ],
      "text/plain": [
       "           subject_id           site\n",
       "01-230-9GF   01-230-9  gastric_fluid\n",
       "01-230-9GI   01-230-9  gastric_fluid\n",
       "01-230-9RF   01-230-9    rectal_swab\n",
       "01-230-9RI   01-230-9    rectal_swab\n",
       "01-230-9TF   01-230-9    throat_swab\n",
       "01-263-4GI   01-263-4  gastric_fluid\n",
       "01-263-4RI   01-263-4    rectal_swab\n",
       "01-263-4TF   01-263-4    throat_swab\n",
       "01-263-4TI   01-263-4    throat_swab"
      ]
     },
     "execution_count": 5,
     "metadata": {},
     "output_type": "execute_result"
    }
   ],
   "source": [
    "meta.query('subject_id == @subjs')[['subject_id', 'site']]"
   ]
  },
  {
   "cell_type": "code",
   "execution_count": 6,
   "metadata": {
    "collapsed": false
   },
   "outputs": [],
   "source": [
    "# Hm, this makes me wonder.. how many of those other subjects are post-fundoplication?\n",
    "smpls = []\n",
    "for subj, subdf in meta.query('site == @sites').groupby('subject_id'):\n",
    "    if subdf.groupby('site').size().shape[0] > 1:\n",
    "        smpls += list(subdf.index)"
   ]
  },
  {
   "cell_type": "code",
   "execution_count": 7,
   "metadata": {
    "collapsed": false
   },
   "outputs": [
    {
     "data": {
      "text/plain": [
       "['01-230-9GF',\n",
       " '01-230-9TF',\n",
       " '01-263-4TF',\n",
       " '13-112-7GF',\n",
       " '13-112-7TF',\n",
       " '13-164-7GF',\n",
       " '13-164-7TF']"
      ]
     },
     "execution_count": 7,
     "metadata": {},
     "output_type": "execute_result"
    }
   ],
   "source": [
    "# The two that were found above, plus two others\n",
    "[i for i in smpls if i.endswith('F')]"
   ]
  },
  {
   "cell_type": "code",
   "execution_count": 8,
   "metadata": {
    "collapsed": false
   },
   "outputs": [
    {
     "data": {
      "text/plain": [
       "array([nan, 'K23'], dtype=object)"
      ]
     },
     "execution_count": 8,
     "metadata": {},
     "output_type": "execute_result"
    }
   ],
   "source": [
    "# Strange bc these samples are part of the K23 study. \n",
    "# Not sure what the F means (I would guess it's either pre/post fundo or pre/post PPI, \n",
    "# but those are 'Fundo' and 'R01' studies...)\n",
    "meta.loc[smpls, 'STUDY'].unique()"
   ]
  },
  {
   "cell_type": "code",
   "execution_count": 9,
   "metadata": {
    "collapsed": false
   },
   "outputs": [
    {
     "name": "stdout",
     "output_type": "stream",
     "text": [
      "427 samples correspond to multiple sites within a patient. Of these, 253 have aspiration metadata.\n"
     ]
    }
   ],
   "source": [
    "smpls = [i for i in smpls if not i.endswith('F')]\n",
    "print('{} samples correspond to multiple sites within a patient. '\n",
    "      'Of these, {} have aspiration metadata.'\\\n",
    "      .format(len(smpls), meta.loc[smpls, mbscol].dropna().shape[0]))\n"
   ]
  },
  {
   "cell_type": "markdown",
   "metadata": {},
   "source": [
    "### Make some scatterplots\n",
    "\n",
    "Plot abundance in site1 vs. in site 2 for all OTUs, colored by aspiration status.   \n",
    "Also include the correlation value on the plot.    \n",
    "And maybe separate out by yes/no \"exchanged\"?"
   ]
  },
  {
   "cell_type": "code",
   "execution_count": 10,
   "metadata": {
    "collapsed": true
   },
   "outputs": [],
   "source": [
    "## First, make a tidy dataframe that I can query for downstream comparisons\n",
    "def site_comp(site1, site2):\n",
    "    comp = 'unk'\n",
    "    if site1 == 'bal' and site2 == 'bal':\n",
    "        comp = 'bal_bal'\n",
    "    elif site1 == 'bal' and site2 == 'throat_swab':\n",
    "        comp = 'bal_throat'\n",
    "    elif site1 == 'bal' and site2 == 'gastric_fluid':\n",
    "        comp = 'bal_gastric'\n",
    "\n",
    "    elif site1 == 'throat_swab' and site2 == 'bal':\n",
    "        comp = 'bal_throat'\n",
    "    elif site1 == 'throat_swab' and site2 == 'throat_swab':\n",
    "        comp = 'throat_throat'\n",
    "    elif site1 == 'throat_swab' and site2 == 'gastric_fluid':\n",
    "        comp = 'throat_gastric'\n",
    "\n",
    "    elif site1 == 'gastric_fluid' and site2 == 'bal':\n",
    "        comp = 'bal_gastric'\n",
    "    elif site1 == 'gastric_fluid' and site2 == 'throat_swab':\n",
    "        comp = 'throat_gastric'\n",
    "    elif site1 == 'gastric_fluid' and site2 == 'gastric_fluid':\n",
    "        comp = 'gastric_gastric'\n",
    "    return comp\n",
    "\n",
    "# Note that I'll be getting rid of samples that end in 'F'. \n",
    "# Not sure what these samples correspond to,\n",
    "# and subjects 01-230-9 and 01-263-4 have duplicate samples from the same site,\n",
    "# one of which is labeled GI (or TI) and the other is GF (or TF) - so removing\n",
    "# samples that end in F also address this situation"
   ]
  },
  {
   "cell_type": "code",
   "execution_count": 11,
   "metadata": {
    "collapsed": false
   },
   "outputs": [],
   "source": [
    "lst_tidymeta = []\n",
    "for subj, subdf in meta.query('site == @sites').groupby('subject_id'):\n",
    "    if subdf.groupby('site').size().shape[0] > 1:\n",
    "        smpls = list(subdf.index)\n",
    "        \n",
    "        # Get rid of any samples that end in 'F'\n",
    "        smpls = [i for i in smpls if not i.endswith('F')]\n",
    "        if len(smpls) == 0:\n",
    "            continue\n",
    "            \n",
    "        asp = subdf.loc[smpls[0], mbscol]\n",
    "        for s1 in smpls:\n",
    "            site1 = subdf.loc[s1, 'site']\n",
    "            for s2 in smpls[smpls.index(s1)+1:]:\n",
    "                site2 = subdf.loc[s2, 'site']\n",
    "                lst_tidymeta.append([subj, s1, s2, site_comp(site1, site2), asp])\n",
    "tidymeta = pd.DataFrame(data=lst_tidymeta, \n",
    "                        columns=['subject', 'sample1', 'sample2', 'site_comparison', mbscol])"
   ]
  },
  {
   "cell_type": "code",
   "execution_count": 13,
   "metadata": {
    "collapsed": false
   },
   "outputs": [
    {
     "data": {
      "text/html": [
       "<div>\n",
       "<table border=\"1\" class=\"dataframe\">\n",
       "  <thead>\n",
       "    <tr style=\"text-align: right;\">\n",
       "      <th></th>\n",
       "      <th>subject</th>\n",
       "      <th>sample1</th>\n",
       "      <th>sample2</th>\n",
       "      <th>site_comparison</th>\n",
       "      <th>mbs_consolidated</th>\n",
       "    </tr>\n",
       "  </thead>\n",
       "  <tbody>\n",
       "    <tr>\n",
       "      <th>0</th>\n",
       "      <td>01-112-7</td>\n",
       "      <td>01-112-7GI</td>\n",
       "      <td>01-112-7TI</td>\n",
       "      <td>throat_gastric</td>\n",
       "      <td>NaN</td>\n",
       "    </tr>\n",
       "    <tr>\n",
       "      <th>1</th>\n",
       "      <td>01-164-7</td>\n",
       "      <td>01-164-7GI</td>\n",
       "      <td>01-164-7TI</td>\n",
       "      <td>throat_gastric</td>\n",
       "      <td>NaN</td>\n",
       "    </tr>\n",
       "    <tr>\n",
       "      <th>2</th>\n",
       "      <td>01-173-4</td>\n",
       "      <td>01-173-4G</td>\n",
       "      <td>01-173-4T</td>\n",
       "      <td>throat_gastric</td>\n",
       "      <td>NaN</td>\n",
       "    </tr>\n",
       "    <tr>\n",
       "      <th>3</th>\n",
       "      <td>01-247-3</td>\n",
       "      <td>01-247-3G</td>\n",
       "      <td>01-247-3T</td>\n",
       "      <td>throat_gastric</td>\n",
       "      <td>NaN</td>\n",
       "    </tr>\n",
       "    <tr>\n",
       "      <th>4</th>\n",
       "      <td>01-263-4</td>\n",
       "      <td>01-263-4GI</td>\n",
       "      <td>01-263-4TI</td>\n",
       "      <td>throat_gastric</td>\n",
       "      <td>NaN</td>\n",
       "    </tr>\n",
       "    <tr>\n",
       "      <th>5</th>\n",
       "      <td>01-270-3</td>\n",
       "      <td>01-270-3G</td>\n",
       "      <td>01-270-3T</td>\n",
       "      <td>throat_gastric</td>\n",
       "      <td>NaN</td>\n",
       "    </tr>\n",
       "    <tr>\n",
       "      <th>6</th>\n",
       "      <td>02-096-6</td>\n",
       "      <td>02-096-6B</td>\n",
       "      <td>02-096-6G</td>\n",
       "      <td>bal_gastric</td>\n",
       "      <td>Normal</td>\n",
       "    </tr>\n",
       "    <tr>\n",
       "      <th>7</th>\n",
       "      <td>02-096-6</td>\n",
       "      <td>02-096-6B</td>\n",
       "      <td>02-096-6T</td>\n",
       "      <td>bal_throat</td>\n",
       "      <td>Normal</td>\n",
       "    </tr>\n",
       "    <tr>\n",
       "      <th>8</th>\n",
       "      <td>02-096-6</td>\n",
       "      <td>02-096-6G</td>\n",
       "      <td>02-096-6T</td>\n",
       "      <td>throat_gastric</td>\n",
       "      <td>Normal</td>\n",
       "    </tr>\n",
       "    <tr>\n",
       "      <th>9</th>\n",
       "      <td>02-098-5</td>\n",
       "      <td>02-098-5B</td>\n",
       "      <td>02-098-5G</td>\n",
       "      <td>bal_gastric</td>\n",
       "      <td>Normal</td>\n",
       "    </tr>\n",
       "    <tr>\n",
       "      <th>10</th>\n",
       "      <td>02-098-5</td>\n",
       "      <td>02-098-5B</td>\n",
       "      <td>02-098-5T</td>\n",
       "      <td>bal_throat</td>\n",
       "      <td>Normal</td>\n",
       "    </tr>\n",
       "    <tr>\n",
       "      <th>11</th>\n",
       "      <td>02-098-5</td>\n",
       "      <td>02-098-5G</td>\n",
       "      <td>02-098-5T</td>\n",
       "      <td>throat_gastric</td>\n",
       "      <td>Normal</td>\n",
       "    </tr>\n",
       "    <tr>\n",
       "      <th>12</th>\n",
       "      <td>02-099-7</td>\n",
       "      <td>02-099-7B</td>\n",
       "      <td>02-099-7G</td>\n",
       "      <td>bal_gastric</td>\n",
       "      <td>NaN</td>\n",
       "    </tr>\n",
       "    <tr>\n",
       "      <th>13</th>\n",
       "      <td>02-099-7</td>\n",
       "      <td>02-099-7B</td>\n",
       "      <td>02-099-7T</td>\n",
       "      <td>bal_throat</td>\n",
       "      <td>NaN</td>\n",
       "    </tr>\n",
       "    <tr>\n",
       "      <th>14</th>\n",
       "      <td>02-099-7</td>\n",
       "      <td>02-099-7G</td>\n",
       "      <td>02-099-7T</td>\n",
       "      <td>throat_gastric</td>\n",
       "      <td>NaN</td>\n",
       "    </tr>\n",
       "  </tbody>\n",
       "</table>\n",
       "</div>"
      ],
      "text/plain": [
       "     subject     sample1     sample2 site_comparison mbs_consolidated\n",
       "0   01-112-7  01-112-7GI  01-112-7TI  throat_gastric              NaN\n",
       "1   01-164-7  01-164-7GI  01-164-7TI  throat_gastric              NaN\n",
       "2   01-173-4   01-173-4G   01-173-4T  throat_gastric              NaN\n",
       "3   01-247-3   01-247-3G   01-247-3T  throat_gastric              NaN\n",
       "4   01-263-4  01-263-4GI  01-263-4TI  throat_gastric              NaN\n",
       "5   01-270-3   01-270-3G   01-270-3T  throat_gastric              NaN\n",
       "6   02-096-6   02-096-6B   02-096-6G     bal_gastric           Normal\n",
       "7   02-096-6   02-096-6B   02-096-6T      bal_throat           Normal\n",
       "8   02-096-6   02-096-6G   02-096-6T  throat_gastric           Normal\n",
       "9   02-098-5   02-098-5B   02-098-5G     bal_gastric           Normal\n",
       "10  02-098-5   02-098-5B   02-098-5T      bal_throat           Normal\n",
       "11  02-098-5   02-098-5G   02-098-5T  throat_gastric           Normal\n",
       "12  02-099-7   02-099-7B   02-099-7G     bal_gastric              NaN\n",
       "13  02-099-7   02-099-7B   02-099-7T      bal_throat              NaN\n",
       "14  02-099-7   02-099-7G   02-099-7T  throat_gastric              NaN"
      ]
     },
     "execution_count": 13,
     "metadata": {},
     "output_type": "execute_result"
    }
   ],
   "source": [
    "tidymeta.head(15)"
   ]
  },
  {
   "cell_type": "code",
   "execution_count": 31,
   "metadata": {
    "collapsed": true
   },
   "outputs": [],
   "source": [
    "from scipy.stats import spearmanr\n",
    "\n",
    "def get_exchange_and_correlation_old(col, s1smpls, s2smpls):\n",
    "    \"\"\"\n",
    "    Get the sharedness and correlation values for the values in col,\n",
    "    comparing samples in s1smpls and s2smpls lists.\n",
    "\n",
    "    Prevalence of exchange is calculated as the number of samples with\n",
    "    non-zero abundance in both subjects divided by total subjects.\n",
    "\n",
    "    Sharedness is 0 and correlation is 0 if fewer than 3 of the\n",
    "    samples have the OTU in both sites.\n",
    "\n",
    "    Parameters\n",
    "    ----------\n",
    "    col : pandas Series\n",
    "        Values to correlate and calculate 'exchange' for, e.g. relative\n",
    "        abundances of one OTU. Index should have at least s1smpls and\n",
    "        s2smpls. Values in col are log-transformed relative abundances,\n",
    "        where infinities have been replaced with nan's.\n",
    "    s1smpls, s2smpls :  lists\n",
    "        Samples to consider. Should be the same length and paired (i.e. the\n",
    "        first sample in s1smpls comes from the same patient as the first\n",
    "        sample in s2smpls.)\n",
    "\n",
    "    Returns:\n",
    "    -------\n",
    "    corrs : tuple\n",
    "        (r, p, sharedness)\n",
    "    \"\"\"\n",
    "    x = col.loc[s1smpls]\n",
    "    y = col.loc[s2smpls]\n",
    "    ## Get correlation of x and y, ignoring infinities\n",
    "    try:\n",
    "        r, p = spearmanr(x, y, nan_policy='omit')\n",
    "        ## Don't think I need the following code, but keep it just in case\n",
    "        ## with nan_policy='omit', need to get p out of a masked array\n",
    "        #if isinstance(p, np.ma.core.MaskedArray):\n",
    "        #    p = p.compressed()[0]\n",
    "        sharedness = sum([1 if np.isnan(x[i]) or np.isnan(y[i]) else 0\n",
    "                          for i in range(0, len(x))]) \\\n",
    "                     / float(len(x) + len(y))\n",
    "    except ValueError as e:\n",
    "        # This error means that fewer than 3 of the samples have OTU in both sites...\n",
    "        if e.message == \"The input must have at least 3 entries!\":\n",
    "            r = 0\n",
    "            p = 1\n",
    "            sharedness = 0\n",
    "        else:\n",
    "            raise\n",
    "\n",
    "    return (r, p, sharedness)"
   ]
  },
  {
   "cell_type": "code",
   "execution_count": 32,
   "metadata": {
    "collapsed": false
   },
   "outputs": [
    {
     "name": "stderr",
     "output_type": "stream",
     "text": [
      "/Users/claire/anaconda/lib/python2.7/site-packages/ipykernel/__main__.py:45: DeprecationWarning: BaseException.message has been deprecated as of Python 2.6\n"
     ]
    }
   ],
   "source": [
    "## Make some plots\n",
    "\n",
    "# Log transform relative abundances\n",
    "dflog = df.applymap(np.log10)\n",
    "# Replace log(zero)'s with nan's\n",
    "dflog = dflog.applymap(lambda x: x if np.isfinite(x) else np.nan)\n",
    "\n",
    "s1smpls = tidymeta.query('site_comparison == \"bal_throat\"')['sample1']\n",
    "s2smpls = tidymeta.query('site_comparison == \"bal_throat\"')['sample2']\n",
    "\n",
    "corrs = dflog.apply(lambda col: get_exchange_and_correlation_old(col, s1smpls, s2smpls))"
   ]
  },
  {
   "cell_type": "code",
   "execution_count": null,
   "metadata": {
    "collapsed": true
   },
   "outputs": [],
   "source": [
    "corrs = pd.DataFrame(corrs, columns=['results'])\n",
    "corrs['r'] = corrs['results'].apply(lambda x: x[0])\n",
    "corrs['p'] = corrs['results'].apply(lambda x: x[1])\n",
    "corrs['exchange_all'] = corrs['results'].apply(lambda x: x[2])\n",
    "corrs = corrs.drop('results', axis=1)"
   ]
  },
  {
   "cell_type": "code",
   "execution_count": 49,
   "metadata": {
    "collapsed": false,
    "scrolled": false
   },
   "outputs": [
    {
     "data": {
      "text/html": [
       "<div>\n",
       "<table border=\"1\" class=\"dataframe\">\n",
       "  <thead>\n",
       "    <tr style=\"text-align: right;\">\n",
       "      <th></th>\n",
       "      <th>r</th>\n",
       "      <th>p</th>\n",
       "      <th>exchange_all</th>\n",
       "    </tr>\n",
       "  </thead>\n",
       "  <tbody>\n",
       "    <tr>\n",
       "      <th>k__Bacteria;p__Actinobacteria;c__Actinobacteria;o__Actinomycetales;f__Micrococcaceae;g__Rothia;s__;d__denovo883</th>\n",
       "      <td>0.300000</td>\n",
       "      <td>0.623838</td>\n",
       "      <td>0.473404</td>\n",
       "    </tr>\n",
       "    <tr>\n",
       "      <th>k__Bacteria;p__Bacteroidetes;c__Bacteroidia;o__Bacteroidales;f__Prevotellaceae;g__;s__;d__denovo1421</th>\n",
       "      <td>0.500000</td>\n",
       "      <td>0.666667</td>\n",
       "      <td>0.484043</td>\n",
       "    </tr>\n",
       "    <tr>\n",
       "      <th>k__Bacteria;p__Firmicutes;c__Bacilli;o__Lactobacillales;f__Streptococcaceae;g__Streptococcus;s__;d__denovo323</th>\n",
       "      <td>0.499248</td>\n",
       "      <td>0.025022</td>\n",
       "      <td>0.393617</td>\n",
       "    </tr>\n",
       "    <tr>\n",
       "      <th>k__Bacteria;p__Actinobacteria;c__Actinobacteria;o__Actinomycetales;f__Micrococcaceae;g__Rothia;s__;d__denovo327</th>\n",
       "      <td>0.142857</td>\n",
       "      <td>0.759945</td>\n",
       "      <td>0.462766</td>\n",
       "    </tr>\n",
       "    <tr>\n",
       "      <th>k__Bacteria;p__Fusobacteria;c__Fusobacteriia;o__Fusobacteriales;f__Leptotrichiaceae;g__Leptotrichia;s__;d__denovo326</th>\n",
       "      <td>1.000000</td>\n",
       "      <td>0.000000</td>\n",
       "      <td>0.489362</td>\n",
       "    </tr>\n",
       "    <tr>\n",
       "      <th>k__Bacteria;p__Bacteroidetes;c__Bacteroidia;o__Bacteroidales;f__Prevotellaceae;g__Prevotella;s__;d__denovo1195</th>\n",
       "      <td>1.000000</td>\n",
       "      <td>0.000000</td>\n",
       "      <td>0.484043</td>\n",
       "    </tr>\n",
       "    <tr>\n",
       "      <th>k__Bacteria;p__Firmicutes;c__Bacilli;o__Lactobacillales;f__Carnobacteriaceae;g__Granulicatella;s__;d__denovo1811</th>\n",
       "      <td>1.000000</td>\n",
       "      <td>0.000000</td>\n",
       "      <td>0.489362</td>\n",
       "    </tr>\n",
       "    <tr>\n",
       "      <th>k__Bacteria;p__Bacteroidetes;c__Bacteroidia;o__Bacteroidales;f__Prevotellaceae;g__Prevotella;s__;d__denovo184</th>\n",
       "      <td>0.317647</td>\n",
       "      <td>0.230573</td>\n",
       "      <td>0.414894</td>\n",
       "    </tr>\n",
       "    <tr>\n",
       "      <th>k__Bacteria;p__Actinobacteria;c__Actinobacteria;o__Actinomycetales;f__Corynebacteriaceae;g__Corynebacterium;s__;d__denovo182</th>\n",
       "      <td>1.000000</td>\n",
       "      <td>0.000000</td>\n",
       "      <td>0.489362</td>\n",
       "    </tr>\n",
       "    <tr>\n",
       "      <th>k__Bacteria;p__Bacteroidetes;c__Bacteroidia;o__Bacteroidales;f__Prevotellaceae;g__Prevotella;s__;d__denovo180</th>\n",
       "      <td>0.107692</td>\n",
       "      <td>0.714031</td>\n",
       "      <td>0.425532</td>\n",
       "    </tr>\n",
       "    <tr>\n",
       "      <th>k__Bacteria;p__Fusobacteria;c__Fusobacteriia;o__Fusobacteriales;f__Leptotrichiaceae;g__Streptobacillus;s__;d__denovo432</th>\n",
       "      <td>0.816667</td>\n",
       "      <td>0.007225</td>\n",
       "      <td>0.452128</td>\n",
       "    </tr>\n",
       "    <tr>\n",
       "      <th>k__Bacteria;p__Proteobacteria;c__Gammaproteobacteria;o__Cardiobacteriales;f__Cardiobacteriaceae;g__Cardiobacterium;s__;d__denovo431</th>\n",
       "      <td>0.321429</td>\n",
       "      <td>0.482072</td>\n",
       "      <td>0.462766</td>\n",
       "    </tr>\n",
       "    <tr>\n",
       "      <th>k__Bacteria;p__Proteobacteria;c__Betaproteobacteria;o__Burkholderiales;f__Oxalobacteraceae;g__Herbaspirillum;s__;d__denovo619</th>\n",
       "      <td>0.500000</td>\n",
       "      <td>0.666667</td>\n",
       "      <td>0.484043</td>\n",
       "    </tr>\n",
       "    <tr>\n",
       "      <th>k__Bacteria;p__Firmicutes;c__Bacilli;o__Lactobacillales;f__Streptococcaceae;g__Streptococcus;s__;d__denovo614</th>\n",
       "      <td>1.000000</td>\n",
       "      <td>0.000000</td>\n",
       "      <td>0.489362</td>\n",
       "    </tr>\n",
       "    <tr>\n",
       "      <th>k__Bacteria;p__Firmicutes;c__Bacilli;o__Lactobacillales;f__Streptococcaceae;g__Streptococcus;s__;d__denovo2336</th>\n",
       "      <td>1.000000</td>\n",
       "      <td>0.000000</td>\n",
       "      <td>0.489362</td>\n",
       "    </tr>\n",
       "  </tbody>\n",
       "</table>\n",
       "</div>"
      ],
      "text/plain": [
       "                                                           r         p  \\\n",
       "k__Bacteria;p__Actinobacteria;c__Actinobacteria...  0.300000  0.623838   \n",
       "k__Bacteria;p__Bacteroidetes;c__Bacteroidia;o__...  0.500000  0.666667   \n",
       "k__Bacteria;p__Firmicutes;c__Bacilli;o__Lactoba...  0.499248  0.025022   \n",
       "k__Bacteria;p__Actinobacteria;c__Actinobacteria...  0.142857  0.759945   \n",
       "k__Bacteria;p__Fusobacteria;c__Fusobacteriia;o_...  1.000000  0.000000   \n",
       "k__Bacteria;p__Bacteroidetes;c__Bacteroidia;o__...  1.000000  0.000000   \n",
       "k__Bacteria;p__Firmicutes;c__Bacilli;o__Lactoba...  1.000000  0.000000   \n",
       "k__Bacteria;p__Bacteroidetes;c__Bacteroidia;o__...  0.317647  0.230573   \n",
       "k__Bacteria;p__Actinobacteria;c__Actinobacteria...  1.000000  0.000000   \n",
       "k__Bacteria;p__Bacteroidetes;c__Bacteroidia;o__...  0.107692  0.714031   \n",
       "k__Bacteria;p__Fusobacteria;c__Fusobacteriia;o_...  0.816667  0.007225   \n",
       "k__Bacteria;p__Proteobacteria;c__Gammaproteobac...  0.321429  0.482072   \n",
       "k__Bacteria;p__Proteobacteria;c__Betaproteobact...  0.500000  0.666667   \n",
       "k__Bacteria;p__Firmicutes;c__Bacilli;o__Lactoba...  1.000000  0.000000   \n",
       "k__Bacteria;p__Firmicutes;c__Bacilli;o__Lactoba...  1.000000  0.000000   \n",
       "\n",
       "                                                    exchange_all  \n",
       "k__Bacteria;p__Actinobacteria;c__Actinobacteria...      0.473404  \n",
       "k__Bacteria;p__Bacteroidetes;c__Bacteroidia;o__...      0.484043  \n",
       "k__Bacteria;p__Firmicutes;c__Bacilli;o__Lactoba...      0.393617  \n",
       "k__Bacteria;p__Actinobacteria;c__Actinobacteria...      0.462766  \n",
       "k__Bacteria;p__Fusobacteria;c__Fusobacteriia;o_...      0.489362  \n",
       "k__Bacteria;p__Bacteroidetes;c__Bacteroidia;o__...      0.484043  \n",
       "k__Bacteria;p__Firmicutes;c__Bacilli;o__Lactoba...      0.489362  \n",
       "k__Bacteria;p__Bacteroidetes;c__Bacteroidia;o__...      0.414894  \n",
       "k__Bacteria;p__Actinobacteria;c__Actinobacteria...      0.489362  \n",
       "k__Bacteria;p__Bacteroidetes;c__Bacteroidia;o__...      0.425532  \n",
       "k__Bacteria;p__Fusobacteria;c__Fusobacteriia;o_...      0.452128  \n",
       "k__Bacteria;p__Proteobacteria;c__Gammaproteobac...      0.462766  \n",
       "k__Bacteria;p__Proteobacteria;c__Betaproteobact...      0.484043  \n",
       "k__Bacteria;p__Firmicutes;c__Bacilli;o__Lactoba...      0.489362  \n",
       "k__Bacteria;p__Firmicutes;c__Bacilli;o__Lactoba...      0.489362  "
      ]
     },
     "execution_count": 49,
     "metadata": {},
     "output_type": "execute_result"
    }
   ],
   "source": [
    "corrs.query('r > 0').head(15)"
   ]
  },
  {
   "cell_type": "code",
   "execution_count": 71,
   "metadata": {
    "collapsed": false
   },
   "outputs": [
    {
     "data": {
      "text/html": [
       "<div>\n",
       "<table border=\"1\" class=\"dataframe\">\n",
       "  <thead>\n",
       "    <tr style=\"text-align: right;\">\n",
       "      <th></th>\n",
       "      <th>k__Bacteria;p__Firmicutes;c__Bacilli;o__Lactobacillales;f__Streptococcaceae;g__Streptococcus;s__;d__denovo614</th>\n",
       "      <th>k__Bacteria;p__Firmicutes;c__Bacilli;o__Lactobacillales;f__Streptococcaceae;g__Streptococcus;s__;d__denovo614</th>\n",
       "    </tr>\n",
       "  </thead>\n",
       "  <tbody>\n",
       "    <tr>\n",
       "      <th>04-182-6</th>\n",
       "      <td>-4.774079</td>\n",
       "      <td>-4.013995</td>\n",
       "    </tr>\n",
       "    <tr>\n",
       "      <th>04-201-8</th>\n",
       "      <td>-4.500813</td>\n",
       "      <td>-2.401805</td>\n",
       "    </tr>\n",
       "  </tbody>\n",
       "</table>\n",
       "</div>"
      ],
      "text/plain": [
       "          k__Bacteria;p__Firmicutes;c__Bacilli;o__Lactobacillales;f__Streptococcaceae;g__Streptococcus;s__;d__denovo614  \\\n",
       "04-182-6                                          -4.774079                                                               \n",
       "04-201-8                                          -4.500813                                                               \n",
       "\n",
       "          k__Bacteria;p__Firmicutes;c__Bacilli;o__Lactobacillales;f__Streptococcaceae;g__Streptococcus;s__;d__denovo614  \n",
       "04-182-6                                          -4.013995                                                              \n",
       "04-201-8                                          -2.401805                                                              "
      ]
     },
     "execution_count": 71,
     "metadata": {},
     "output_type": "execute_result"
    }
   ],
   "source": [
    "o = 'k__Bacteria;p__Firmicutes;c__Bacilli;o__Lactobacillales;f__Streptococcaceae;g__Streptococcus;s__;d__denovo614'\n",
    "\n",
    "tmp1 = dflog.loc[s1smpls, o]\n",
    "tmp1.index = [i[:-1] for i in tmp1.index]\n",
    "tmp2 = dflog.loc[s2smpls, o]\n",
    "tmp2.index = [i[:-1] for i in tmp2.index]\n",
    "\n",
    "pd.concat((tmp1, tmp2), axis=1).dropna()\n"
   ]
  },
  {
   "cell_type": "markdown",
   "metadata": {},
   "source": [
    "### Oh right, I need to limit my analysis to OTUs which are non-zero in both sites in at least 3 patients\n",
    "\n",
    "Previously, I had set this limit with `n_patients`. I had arbitrarily chosen 10, \n",
    "but I think I can just go with the minimum value that makes sense (i.e. 3, because\n",
    "we're doing correlation...)"
   ]
  },
  {
   "cell_type": "code",
   "execution_count": 124,
   "metadata": {
    "collapsed": true
   },
   "outputs": [],
   "source": [
    "def get_exchange_and_correlation_also_old(col, s1smpls, s2smpls):\n",
    "    \"\"\"\n",
    "    Get the sharedness and correlation values for the values in col,\n",
    "    comparing samples in s1smpls and s2smpls lists.\n",
    "\n",
    "    Prevalence of exchange is calculated as the number of samples with\n",
    "    non-zero abundance in both subjects divided by total subjects.\n",
    "\n",
    "    Correlation, p, and sharedness are all NaN if the OTU is present in\n",
    "    both sites in fewer than 4 patients.\n",
    "\n",
    "    Parameters\n",
    "    ----------\n",
    "    col : pandas Series\n",
    "        Values to correlate and calculate 'exchange' for, e.g. relative\n",
    "        abundances of one OTU. Index should have at least s1smpls and\n",
    "        s2smpls. Values in col are log-transformed relative abundances,\n",
    "        where infinities have been replaced with nan's.\n",
    "    s1smpls, s2smpls :  lists\n",
    "        Samples to consider. Should be the same length and paired (i.e. the\n",
    "        first sample in s1smpls comes from the same patient as the first\n",
    "        sample in s2smpls.)\n",
    "\n",
    "    Returns:\n",
    "    -------\n",
    "    corrs : tuple\n",
    "        (r, p, sharedness)\n",
    "    \"\"\"\n",
    "    x = col.loc[s1smpls]\n",
    "    y = col.loc[s2smpls]\n",
    "    \n",
    "    ## If there are more than 3 patients with non-zero abundance in both sites\n",
    "    nonzero = sum([i and j for i, j in zip(x.notnull().values, y.notnull().values)])\n",
    "    if nonzero > 3:\n",
    "        ## Get correlation of x and y, ignoring infinities\n",
    "        try:\n",
    "            r, p = spearmanr(x, y, nan_policy='omit')\n",
    "            ## Don't think I need the following code, but keep it just in case\n",
    "            ## with nan_policy='omit', need to get p out of a masked array\n",
    "            #if isinstance(p, np.ma.core.MaskedArray):\n",
    "            #    p = p.compressed()[0]\n",
    "            sharedness = sum([1 if np.isnan(x[i]) or np.isnan(y[i]) else 0\n",
    "                              for i in range(0, len(x))]) \\\n",
    "                         / float(len(x) + len(y))\n",
    "        except ValueError as e:\n",
    "            # This error means that fewer than 3 of the samples have OTU in both sites...\n",
    "            if e.message == \"The input must have at least 3 entries!\":\n",
    "                r = 0\n",
    "                p = 1\n",
    "                sharedness = 0\n",
    "            else:\n",
    "                raise\n",
    "    else:\n",
    "        r = np.nan\n",
    "        p = np.nan\n",
    "        sharedness = np.nan\n",
    "\n",
    "    return (r, p, sharedness)"
   ]
  },
  {
   "cell_type": "code",
   "execution_count": 126,
   "metadata": {
    "collapsed": false
   },
   "outputs": [],
   "source": [
    "corrs = dflog.apply(lambda col: get_exchange_and_correlation(col, s1smpls, s2smpls))"
   ]
  },
  {
   "cell_type": "code",
   "execution_count": 127,
   "metadata": {
    "collapsed": false
   },
   "outputs": [
    {
     "data": {
      "text/html": [
       "<div>\n",
       "<table border=\"1\" class=\"dataframe\">\n",
       "  <thead>\n",
       "    <tr style=\"text-align: right;\">\n",
       "      <th></th>\n",
       "      <th>r</th>\n",
       "      <th>p</th>\n",
       "      <th>exchange_all</th>\n",
       "    </tr>\n",
       "  </thead>\n",
       "  <tbody>\n",
       "    <tr>\n",
       "      <th>k__Bacteria;p__Actinobacteria;c__Actinobacteria;o__Actinomycetales;f__Micrococcaceae;g__Rothia;s__;d__denovo883</th>\n",
       "      <td>0.300000</td>\n",
       "      <td>0.623838</td>\n",
       "      <td>0.473404</td>\n",
       "    </tr>\n",
       "    <tr>\n",
       "      <th>k__Bacteria;p__Firmicutes;c__Bacilli;o__Lactobacillales;f__Streptococcaceae;g__Streptococcus;s__;d__denovo323</th>\n",
       "      <td>0.499248</td>\n",
       "      <td>0.025022</td>\n",
       "      <td>0.393617</td>\n",
       "    </tr>\n",
       "    <tr>\n",
       "      <th>k__Bacteria;p__Actinobacteria;c__Actinobacteria;o__Actinomycetales;f__Micrococcaceae;g__Rothia;s__;d__denovo327</th>\n",
       "      <td>0.142857</td>\n",
       "      <td>0.759945</td>\n",
       "      <td>0.462766</td>\n",
       "    </tr>\n",
       "    <tr>\n",
       "      <th>k__Bacteria;p__Bacteroidetes;c__Bacteroidia;o__Bacteroidales;f__Prevotellaceae;g__Prevotella;s__;d__denovo184</th>\n",
       "      <td>0.317647</td>\n",
       "      <td>0.230573</td>\n",
       "      <td>0.414894</td>\n",
       "    </tr>\n",
       "    <tr>\n",
       "      <th>k__Bacteria;p__Bacteroidetes;c__Bacteroidia;o__Bacteroidales;f__Prevotellaceae;g__Prevotella;s__;d__denovo180</th>\n",
       "      <td>0.107692</td>\n",
       "      <td>0.714031</td>\n",
       "      <td>0.425532</td>\n",
       "    </tr>\n",
       "    <tr>\n",
       "      <th>k__Bacteria;p__Fusobacteria;c__Fusobacteriia;o__Fusobacteriales;f__Leptotrichiaceae;g__Streptobacillus;s__;d__denovo432</th>\n",
       "      <td>0.816667</td>\n",
       "      <td>0.007225</td>\n",
       "      <td>0.452128</td>\n",
       "    </tr>\n",
       "    <tr>\n",
       "      <th>k__Bacteria;p__Proteobacteria;c__Gammaproteobacteria;o__Cardiobacteriales;f__Cardiobacteriaceae;g__Cardiobacterium;s__;d__denovo431</th>\n",
       "      <td>0.321429</td>\n",
       "      <td>0.482072</td>\n",
       "      <td>0.462766</td>\n",
       "    </tr>\n",
       "    <tr>\n",
       "      <th>k__Bacteria;p__Bacteroidetes;c__Bacteroidia;o__Bacteroidales;f__Porphyromonadaceae;g__Tannerella;s__;d__denovo653</th>\n",
       "      <td>0.714286</td>\n",
       "      <td>0.110787</td>\n",
       "      <td>0.468085</td>\n",
       "    </tr>\n",
       "    <tr>\n",
       "      <th>k__Bacteria;p__Fusobacteria;c__Fusobacteriia;o__Fusobacteriales;f__Fusobacteriaceae;g__Fusobacterium;s__;d__denovo1504</th>\n",
       "      <td>0.800000</td>\n",
       "      <td>0.200000</td>\n",
       "      <td>0.478723</td>\n",
       "    </tr>\n",
       "    <tr>\n",
       "      <th>k__Bacteria;p__Firmicutes;c__Clostridia;o__Clostridiales;f__Lachnospiraceae;g__;s__;d__denovo330</th>\n",
       "      <td>1.000000</td>\n",
       "      <td>0.000000</td>\n",
       "      <td>0.478723</td>\n",
       "    </tr>\n",
       "    <tr>\n",
       "      <th>k__Bacteria;p__Actinobacteria;c__Actinobacteria;o__Actinomycetales;f__Actinomycetaceae;g__Actinomyces;s__;d__denovo198</th>\n",
       "      <td>0.527273</td>\n",
       "      <td>0.095565</td>\n",
       "      <td>0.441489</td>\n",
       "    </tr>\n",
       "    <tr>\n",
       "      <th>k__Bacteria;p__Firmicutes;c__Bacilli;o__Lactobacillales;f__Streptococcaceae;g__Streptococcus;s__;d__denovo1237</th>\n",
       "      <td>0.734266</td>\n",
       "      <td>0.006543</td>\n",
       "      <td>0.436170</td>\n",
       "    </tr>\n",
       "    <tr>\n",
       "      <th>k__Bacteria;p__Bacteroidetes;c__Bacteroidia;o__Bacteroidales;f__Prevotellaceae;g__Paraprevotella;s__;d__denovo604</th>\n",
       "      <td>0.609091</td>\n",
       "      <td>0.046696</td>\n",
       "      <td>0.441489</td>\n",
       "    </tr>\n",
       "    <tr>\n",
       "      <th>k__Bacteria;p__Proteobacteria;c__Gammaproteobacteria;o__Pasteurellales;f__Pasteurellaceae;g__Haemophilus;s__;d__denovo709</th>\n",
       "      <td>0.600000</td>\n",
       "      <td>0.400000</td>\n",
       "      <td>0.478723</td>\n",
       "    </tr>\n",
       "    <tr>\n",
       "      <th>k__Bacteria;p__Proteobacteria;c__Gammaproteobacteria;o__Pasteurellales;f__Pasteurellaceae;g__;s__;d__denovo857</th>\n",
       "      <td>0.100000</td>\n",
       "      <td>0.872889</td>\n",
       "      <td>0.473404</td>\n",
       "    </tr>\n",
       "  </tbody>\n",
       "</table>\n",
       "</div>"
      ],
      "text/plain": [
       "                                                           r         p  \\\n",
       "k__Bacteria;p__Actinobacteria;c__Actinobacteria...  0.300000  0.623838   \n",
       "k__Bacteria;p__Firmicutes;c__Bacilli;o__Lactoba...  0.499248  0.025022   \n",
       "k__Bacteria;p__Actinobacteria;c__Actinobacteria...  0.142857  0.759945   \n",
       "k__Bacteria;p__Bacteroidetes;c__Bacteroidia;o__...  0.317647  0.230573   \n",
       "k__Bacteria;p__Bacteroidetes;c__Bacteroidia;o__...  0.107692  0.714031   \n",
       "k__Bacteria;p__Fusobacteria;c__Fusobacteriia;o_...  0.816667  0.007225   \n",
       "k__Bacteria;p__Proteobacteria;c__Gammaproteobac...  0.321429  0.482072   \n",
       "k__Bacteria;p__Bacteroidetes;c__Bacteroidia;o__...  0.714286  0.110787   \n",
       "k__Bacteria;p__Fusobacteria;c__Fusobacteriia;o_...  0.800000  0.200000   \n",
       "k__Bacteria;p__Firmicutes;c__Clostridia;o__Clos...  1.000000  0.000000   \n",
       "k__Bacteria;p__Actinobacteria;c__Actinobacteria...  0.527273  0.095565   \n",
       "k__Bacteria;p__Firmicutes;c__Bacilli;o__Lactoba...  0.734266  0.006543   \n",
       "k__Bacteria;p__Bacteroidetes;c__Bacteroidia;o__...  0.609091  0.046696   \n",
       "k__Bacteria;p__Proteobacteria;c__Gammaproteobac...  0.600000  0.400000   \n",
       "k__Bacteria;p__Proteobacteria;c__Gammaproteobac...  0.100000  0.872889   \n",
       "\n",
       "                                                    exchange_all  \n",
       "k__Bacteria;p__Actinobacteria;c__Actinobacteria...      0.473404  \n",
       "k__Bacteria;p__Firmicutes;c__Bacilli;o__Lactoba...      0.393617  \n",
       "k__Bacteria;p__Actinobacteria;c__Actinobacteria...      0.462766  \n",
       "k__Bacteria;p__Bacteroidetes;c__Bacteroidia;o__...      0.414894  \n",
       "k__Bacteria;p__Bacteroidetes;c__Bacteroidia;o__...      0.425532  \n",
       "k__Bacteria;p__Fusobacteria;c__Fusobacteriia;o_...      0.452128  \n",
       "k__Bacteria;p__Proteobacteria;c__Gammaproteobac...      0.462766  \n",
       "k__Bacteria;p__Bacteroidetes;c__Bacteroidia;o__...      0.468085  \n",
       "k__Bacteria;p__Fusobacteria;c__Fusobacteriia;o_...      0.478723  \n",
       "k__Bacteria;p__Firmicutes;c__Clostridia;o__Clos...      0.478723  \n",
       "k__Bacteria;p__Actinobacteria;c__Actinobacteria...      0.441489  \n",
       "k__Bacteria;p__Firmicutes;c__Bacilli;o__Lactoba...      0.436170  \n",
       "k__Bacteria;p__Bacteroidetes;c__Bacteroidia;o__...      0.441489  \n",
       "k__Bacteria;p__Proteobacteria;c__Gammaproteobac...      0.478723  \n",
       "k__Bacteria;p__Proteobacteria;c__Gammaproteobac...      0.473404  "
      ]
     },
     "execution_count": 127,
     "metadata": {},
     "output_type": "execute_result"
    }
   ],
   "source": [
    "corrs = pd.DataFrame(corrs, columns=['results'])\n",
    "corrs['r'] = corrs['results'].apply(lambda x: x[0])\n",
    "corrs['p'] = corrs['results'].apply(lambda x: x[1])\n",
    "corrs['exchange_all'] = corrs['results'].apply(lambda x: x[2])\n",
    "corrs = corrs.drop('results', axis=1)\n",
    "corrs.query('r > 0').head(15)"
   ]
  },
  {
   "cell_type": "code",
   "execution_count": 130,
   "metadata": {
    "collapsed": false
   },
   "outputs": [
    {
     "data": {
      "text/plain": [
       "<matplotlib.collections.PathCollection at 0x11e5a80d0>"
      ]
     },
     "execution_count": 130,
     "metadata": {},
     "output_type": "execute_result"
    },
    {
     "data": {
      "image/png": "[encoded data removed]",
      "text/plain": [
       "<matplotlib.figure.Figure at 0x11ea7e7d0>"
      ]
     },
     "metadata": {},
     "output_type": "display_data"
    }
   ],
   "source": [
    "o = 'k__Bacteria;p__Firmicutes;c__Clostridia;o__Clostridiales;f__Lachnospiraceae;g__;s__;d__denovo330'\n",
    "plt.scatter(dflog.loc[s1smpls, o].replace(np.nan, -5), dflog.loc[s2smpls, o].replace(np.nan, -5))"
   ]
  },
  {
   "cell_type": "code",
   "execution_count": 131,
   "metadata": {
    "collapsed": false
   },
   "outputs": [
    {
     "data": {
      "text/plain": [
       "<matplotlib.collections.PathCollection at 0x11ebe3310>"
      ]
     },
     "execution_count": 131,
     "metadata": {},
     "output_type": "execute_result"
    },
    {
     "data": {
      "image/png": "[encoded data removed]",
      "text/plain": [
       "<matplotlib.figure.Figure at 0x11ea7ef10>"
      ]
     },
     "metadata": {},
     "output_type": "display_data"
    }
   ],
   "source": [
    "# o1 has r = 0.6 and p = 0.04\n",
    "# o2 has r = 0.6 and p = 0.4\n",
    "\n",
    "o1 = 'k__Bacteria;p__Bacteroidetes;c__Bacteroidia;o__Bacteroidales;f__Prevotellaceae;g__Paraprevotella;s__;d__denovo604'\n",
    "o2 = 'k__Bacteria;p__Proteobacteria;c__Gammaproteobacteria;o__Pasteurellales;f__Pasteurellaceae;g__Haemophilus;s__;d__denovo709'\n",
    "\n",
    "fig, ax = plt.subplots(1,2)\n",
    "ax[0].scatter(dflog.loc[s1smpls, o1].replace(np.nan, -5), dflog.loc[s2smpls, o1].replace(np.nan, -5))\n",
    "ax[1].scatter(dflog.loc[s1smpls, o2].replace(np.nan, -5), dflog.loc[s2smpls, o2].replace(np.nan, -5))"
   ]
  },
  {
   "cell_type": "code",
   "execution_count": 136,
   "metadata": {
    "collapsed": false
   },
   "outputs": [
    {
     "data": {
      "image/png": "[encoded data removed]",
      "text/plain": [
       "<matplotlib.figure.Figure at 0x11ec4cc10>"
      ]
     },
     "metadata": {},
     "output_type": "display_data"
    }
   ],
   "source": [
    "# Right - because we have different numbers of patients with the OTU non-zero \n",
    "# in both sites, we can get same correlation values with very different support.\n",
    "\n",
    "# Do we want to just ignore p-value in determining which OTUs are shared? That seems\n",
    "# fishy. Seems like we may need to consider both p-value and correlation value...\n",
    "\n",
    "# Look at the distribution of p-values by correlation threshold cutoff\n",
    "fig, ax = plt.subplots(1, 4, figsize=(12,4))\n",
    "i = 0\n",
    "for r in [0.5, 0.6, 0.7, 0.8]:\n",
    "    ax[i].hist(corrs.query('r > @r')['p'])\n",
    "    ax[i].set_title('r > {}'.format(r))\n",
    "    i += 1\n",
    "fig.tight_layout()"
   ]
  },
  {
   "cell_type": "markdown",
   "metadata": {},
   "source": [
    "### Actually, let's go back to having an `n_patients` threshold\n",
    "\n",
    "This way, we get around the problem of having high correlation but high p-value (i.e. low support bc few samples).\n",
    "\n",
    "If we already filter OTUs which are non-zero in both sites in at least 10 patients, then we can just\n",
    "define `exchanged` OTUs based on the correlation value (and not worry about the p-value. Hopefully)."
   ]
  },
  {
   "cell_type": "code",
   "execution_count": 137,
   "metadata": {
    "collapsed": true
   },
   "outputs": [],
   "source": [
    "def get_exchange_and_correlation(col, s1smpls, s2smpls, n_patients):\n",
    "    \"\"\"\n",
    "    Get the sharedness and correlation values for the values in col,\n",
    "    comparing samples in s1smpls and s2smpls lists.\n",
    "\n",
    "    Prevalence of exchange is calculated as the number of samples with\n",
    "    non-zero abundance in both subjects divided by total subjects.\n",
    "\n",
    "    Correlation, p, and sharedness are all NaN if the OTU is present in\n",
    "    both sites in fewer than 4 patients.\n",
    "\n",
    "    Parameters\n",
    "    ----------\n",
    "    col : pandas Series\n",
    "        Values to correlate and calculate 'exchange' for, e.g. relative\n",
    "        abundances of one OTU. Index should have at least s1smpls and\n",
    "        s2smpls. Values in col are log-transformed relative abundances,\n",
    "        where infinities have been replaced with nan's.\n",
    "    \n",
    "    s1smpls, s2smpls :  lists\n",
    "        Samples to consider. Should be the same length and paired (i.e. the\n",
    "        first sample in s1smpls comes from the same patient as the first\n",
    "        sample in s2smpls.)\n",
    "    \n",
    "    n_patients : int\n",
    "        number of patients in which OTU must be non-zero in both sites\n",
    "        to be considered as putatively 'exchanged'.\n",
    "        \n",
    "    Returns:\n",
    "    -------\n",
    "    corrs : tuple\n",
    "        (r, p, sharedness)\n",
    "    \"\"\"\n",
    "    x = col.loc[s1smpls]\n",
    "    y = col.loc[s2smpls]\n",
    "    \n",
    "    ## If there are more than 3 patients with non-zero abundance in both sites\n",
    "    nonzero = sum([i and j for i, j in zip(x.notnull().values, y.notnull().values)])\n",
    "    if nonzero >= n_patients:\n",
    "        ## Get correlation of x and y, ignoring infinities\n",
    "        try:\n",
    "            r, p = spearmanr(x, y, nan_policy='omit')\n",
    "            ## Don't think I need the following code, but keep it just in case\n",
    "            ## with nan_policy='omit', need to get p out of a masked array\n",
    "            #if isinstance(p, np.ma.core.MaskedArray):\n",
    "            #    p = p.compressed()[0]\n",
    "            sharedness = sum([1 if np.isnan(x[i]) or np.isnan(y[i]) else 0\n",
    "                              for i in range(0, len(x))]) \\\n",
    "                         / float(len(x) + len(y))\n",
    "        except ValueError as e:\n",
    "            # This error means that fewer than 3 of the samples have OTU in both sites...\n",
    "            if e.message == \"The input must have at least 3 entries!\":\n",
    "                r = 0\n",
    "                p = 1\n",
    "                sharedness = 0\n",
    "            else:\n",
    "                raise\n",
    "    else:\n",
    "        r = np.nan\n",
    "        p = np.nan\n",
    "        sharedness = np.nan\n",
    "\n",
    "    return (r, p, sharedness)"
   ]
  },
  {
   "cell_type": "code",
   "execution_count": 142,
   "metadata": {
    "collapsed": true
   },
   "outputs": [],
   "source": [
    "corrs = dflog.apply(lambda col: get_exchange_and_correlation(col, s1smpls, s2smpls, 10))"
   ]
  },
  {
   "cell_type": "code",
   "execution_count": 143,
   "metadata": {
    "collapsed": false
   },
   "outputs": [],
   "source": [
    "corrs = pd.DataFrame(corrs, columns=['results'])\n",
    "corrs['r'] = corrs['results'].apply(lambda x: x[0])\n",
    "corrs['p'] = corrs['results'].apply(lambda x: x[1])\n",
    "corrs['exchange_all'] = corrs['results'].apply(lambda x: x[2])\n",
    "corrs = corrs.drop('results', axis=1)"
   ]
  },
  {
   "cell_type": "code",
   "execution_count": 151,
   "metadata": {
    "collapsed": false
   },
   "outputs": [
    {
     "data": {
      "text/html": [
       "<div>\n",
       "<table border=\"1\" class=\"dataframe\">\n",
       "  <thead>\n",
       "    <tr style=\"text-align: right;\">\n",
       "      <th></th>\n",
       "      <th>r</th>\n",
       "      <th>p</th>\n",
       "      <th>exchange_all</th>\n",
       "    </tr>\n",
       "  </thead>\n",
       "  <tbody>\n",
       "    <tr>\n",
       "      <th>k__Bacteria;p__Bacteroidetes;c__Bacteroidia;o__Bacteroidales;f__Porphyromonadaceae;g__Porphyromonas;s__;d__denovo287</th>\n",
       "      <td>0.754545</td>\n",
       "      <td>0.007282</td>\n",
       "      <td>0.441489</td>\n",
       "    </tr>\n",
       "    <tr>\n",
       "      <th>k__Bacteria;p__Firmicutes;c__Bacilli;o__Lactobacillales;f__Streptococcaceae;g__Streptococcus;s__;d__denovo1237</th>\n",
       "      <td>0.734266</td>\n",
       "      <td>0.006543</td>\n",
       "      <td>0.436170</td>\n",
       "    </tr>\n",
       "    <tr>\n",
       "      <th>k__Bacteria;p__SR1;c__;o__;f__;g__SR1_genera_incertae_sedis;s__;d__denovo210</th>\n",
       "      <td>0.664216</td>\n",
       "      <td>0.003636</td>\n",
       "      <td>0.409574</td>\n",
       "    </tr>\n",
       "    <tr>\n",
       "      <th>k__Bacteria;p__Firmicutes;c__Bacilli;o__Lactobacillales;f__Streptococcaceae;g__Streptococcus;s__;d__denovo838</th>\n",
       "      <td>0.636364</td>\n",
       "      <td>0.047912</td>\n",
       "      <td>0.446809</td>\n",
       "    </tr>\n",
       "    <tr>\n",
       "      <th>k__Bacteria;p__Actinobacteria;c__Actinobacteria;o__Actinomycetales;f__Actinomycetaceae;g__Actinomyces;s__;d__denovo82</th>\n",
       "      <td>0.621429</td>\n",
       "      <td>0.013402</td>\n",
       "      <td>0.420213</td>\n",
       "    </tr>\n",
       "    <tr>\n",
       "      <th>k__Bacteria;p__Bacteroidetes;c__Bacteroidia;o__Bacteroidales;f__Prevotellaceae;g__Paraprevotella;s__;d__denovo604</th>\n",
       "      <td>0.609091</td>\n",
       "      <td>0.046696</td>\n",
       "      <td>0.441489</td>\n",
       "    </tr>\n",
       "    <tr>\n",
       "      <th>k__Bacteria;p__Firmicutes;c__Bacilli;o__Lactobacillales;f__Streptococcaceae;g__Streptococcus;s__;d__denovo412</th>\n",
       "      <td>0.609091</td>\n",
       "      <td>0.046696</td>\n",
       "      <td>0.441489</td>\n",
       "    </tr>\n",
       "    <tr>\n",
       "      <th>k__Bacteria;p__Actinobacteria;c__Actinobacteria;o__Actinomycetales;f__Micrococcaceae;g__Rothia;s__;d__denovo288</th>\n",
       "      <td>0.586674</td>\n",
       "      <td>0.004105</td>\n",
       "      <td>0.382979</td>\n",
       "    </tr>\n",
       "    <tr>\n",
       "      <th>k__Bacteria;p__Fusobacteria;c__Fusobacteriia;o__Fusobacteriales;f__Fusobacteriaceae;g__Fusobacterium;s__;d__denovo306</th>\n",
       "      <td>0.557895</td>\n",
       "      <td>0.013060</td>\n",
       "      <td>0.398936</td>\n",
       "    </tr>\n",
       "    <tr>\n",
       "      <th>k__Bacteria;p__Bacteroidetes;c__Bacteroidia;o__Bacteroidales;f__Prevotellaceae;g__Prevotella;s__;d__denovo409</th>\n",
       "      <td>0.549451</td>\n",
       "      <td>0.051771</td>\n",
       "      <td>0.430851</td>\n",
       "    </tr>\n",
       "    <tr>\n",
       "      <th>k__Bacteria;p__Bacteroidetes;c__Bacteroidia;o__Bacteroidales;f__Porphyromonadaceae;g__Porphyromonas;s__;d__denovo13</th>\n",
       "      <td>0.529092</td>\n",
       "      <td>0.000110</td>\n",
       "      <td>0.244681</td>\n",
       "    </tr>\n",
       "    <tr>\n",
       "      <th>k__Bacteria;p__Actinobacteria;c__Actinobacteria;o__Actinomycetales;f__Actinomycetaceae;g__Actinomyces;s__;d__denovo198</th>\n",
       "      <td>0.527273</td>\n",
       "      <td>0.095565</td>\n",
       "      <td>0.441489</td>\n",
       "    </tr>\n",
       "    <tr>\n",
       "      <th>k__Bacteria;p__Firmicutes;c__Clostridia;o__Clostridiales;f__Lachnospiraceae;g__Syntrophococcus;s__;d__denovo70</th>\n",
       "      <td>0.509091</td>\n",
       "      <td>0.109737</td>\n",
       "      <td>0.441489</td>\n",
       "    </tr>\n",
       "    <tr>\n",
       "      <th>k__Bacteria;p__Bacteroidetes;c__Bacteroidia;o__Bacteroidales;f__Prevotellaceae;g__Prevotella;s__;d__denovo215</th>\n",
       "      <td>0.503497</td>\n",
       "      <td>0.095157</td>\n",
       "      <td>0.436170</td>\n",
       "    </tr>\n",
       "    <tr>\n",
       "      <th>k__Bacteria;p__Firmicutes;c__Bacilli;o__Lactobacillales;f__Aerococcaceae;g__Abiotrophia;s__;d__denovo208</th>\n",
       "      <td>0.502941</td>\n",
       "      <td>0.047063</td>\n",
       "      <td>0.414894</td>\n",
       "    </tr>\n",
       "  </tbody>\n",
       "</table>\n",
       "</div>"
      ],
      "text/plain": [
       "                                                           r         p  \\\n",
       "k__Bacteria;p__Bacteroidetes;c__Bacteroidia;o__...  0.754545  0.007282   \n",
       "k__Bacteria;p__Firmicutes;c__Bacilli;o__Lactoba...  0.734266  0.006543   \n",
       "k__Bacteria;p__SR1;c__;o__;f__;g__SR1_genera_in...  0.664216  0.003636   \n",
       "k__Bacteria;p__Firmicutes;c__Bacilli;o__Lactoba...  0.636364  0.047912   \n",
       "k__Bacteria;p__Actinobacteria;c__Actinobacteria...  0.621429  0.013402   \n",
       "k__Bacteria;p__Bacteroidetes;c__Bacteroidia;o__...  0.609091  0.046696   \n",
       "k__Bacteria;p__Firmicutes;c__Bacilli;o__Lactoba...  0.609091  0.046696   \n",
       "k__Bacteria;p__Actinobacteria;c__Actinobacteria...  0.586674  0.004105   \n",
       "k__Bacteria;p__Fusobacteria;c__Fusobacteriia;o_...  0.557895  0.013060   \n",
       "k__Bacteria;p__Bacteroidetes;c__Bacteroidia;o__...  0.549451  0.051771   \n",
       "k__Bacteria;p__Bacteroidetes;c__Bacteroidia;o__...  0.529092  0.000110   \n",
       "k__Bacteria;p__Actinobacteria;c__Actinobacteria...  0.527273  0.095565   \n",
       "k__Bacteria;p__Firmicutes;c__Clostridia;o__Clos...  0.509091  0.109737   \n",
       "k__Bacteria;p__Bacteroidetes;c__Bacteroidia;o__...  0.503497  0.095157   \n",
       "k__Bacteria;p__Firmicutes;c__Bacilli;o__Lactoba...  0.502941  0.047063   \n",
       "\n",
       "                                                    exchange_all  \n",
       "k__Bacteria;p__Bacteroidetes;c__Bacteroidia;o__...      0.441489  \n",
       "k__Bacteria;p__Firmicutes;c__Bacilli;o__Lactoba...      0.436170  \n",
       "k__Bacteria;p__SR1;c__;o__;f__;g__SR1_genera_in...      0.409574  \n",
       "k__Bacteria;p__Firmicutes;c__Bacilli;o__Lactoba...      0.446809  \n",
       "k__Bacteria;p__Actinobacteria;c__Actinobacteria...      0.420213  \n",
       "k__Bacteria;p__Bacteroidetes;c__Bacteroidia;o__...      0.441489  \n",
       "k__Bacteria;p__Firmicutes;c__Bacilli;o__Lactoba...      0.441489  \n",
       "k__Bacteria;p__Actinobacteria;c__Actinobacteria...      0.382979  \n",
       "k__Bacteria;p__Fusobacteria;c__Fusobacteriia;o_...      0.398936  \n",
       "k__Bacteria;p__Bacteroidetes;c__Bacteroidia;o__...      0.430851  \n",
       "k__Bacteria;p__Bacteroidetes;c__Bacteroidia;o__...      0.244681  \n",
       "k__Bacteria;p__Actinobacteria;c__Actinobacteria...      0.441489  \n",
       "k__Bacteria;p__Firmicutes;c__Clostridia;o__Clos...      0.441489  \n",
       "k__Bacteria;p__Bacteroidetes;c__Bacteroidia;o__...      0.436170  \n",
       "k__Bacteria;p__Firmicutes;c__Bacilli;o__Lactoba...      0.414894  "
      ]
     },
     "execution_count": 151,
     "metadata": {},
     "output_type": "execute_result"
    }
   ],
   "source": [
    "corrs.query('r > 0.5').sort_values(by='r', ascending=False)"
   ]
  },
  {
   "cell_type": "code",
   "execution_count": 147,
   "metadata": {
    "collapsed": false
   },
   "outputs": [
    {
     "data": {
      "text/plain": [
       "<matplotlib.collections.PathCollection at 0x11ed8ed90>"
      ]
     },
     "execution_count": 147,
     "metadata": {},
     "output_type": "execute_result"
    },
    {
     "data": {
      "image/png": "[encoded data removed]",
      "text/plain": [
       "<matplotlib.figure.Figure at 0x11f35e1d0>"
      ]
     },
     "metadata": {},
     "output_type": "display_data"
    }
   ],
   "source": [
    "o = 'k__Bacteria;p__Firmicutes;c__Clostridia;o__Clostridiales;f__Lachnospiraceae;g__Syntrophococcus;s__;d__denovo70'\n",
    "plt.scatter(dflog.loc[s1smpls, o].replace(np.nan, -5), dflog.loc[s2smpls, o].replace(np.nan, -5))"
   ]
  },
  {
   "cell_type": "code",
   "execution_count": 149,
   "metadata": {
    "collapsed": false
   },
   "outputs": [
    {
     "data": {
      "image/png": "[encoded data removed]",
      "text/plain": [
       "<matplotlib.figure.Figure at 0x11f12cc10>"
      ]
     },
     "metadata": {},
     "output_type": "display_data"
    }
   ],
   "source": [
    "# Look at the distribution of p-values by correlation threshold cutoff\n",
    "fig, ax = plt.subplots(1, 3, figsize=(12,4))\n",
    "i = 0\n",
    "for r in [0.5, 0.6, 0.7]:\n",
    "    ax[i].hist(corrs.query('r > @r')['p'])\n",
    "    ax[i].set_title('r > {}'.format(r))\n",
    "    i += 1\n",
    "fig.tight_layout()"
   ]
  },
  {
   "cell_type": "code",
   "execution_count": 152,
   "metadata": {
    "collapsed": true
   },
   "outputs": [],
   "source": [
    "## What about for a different site comparison?\n",
    "\n",
    "s1smpls = tidymeta.query('site_comparison == \"bal_throat\"')['sample1']\n",
    "s2smpls = tidymeta.query('site_comparison == \"bal_throat\"')['sample2']\n",
    "\n",
    "corrs = dflog.apply(lambda col: get_exchange_and_correlation(col, s1smpls, s2smpls, 10))"
   ]
  },
  {
   "cell_type": "code",
   "execution_count": 153,
   "metadata": {
    "collapsed": false
   },
   "outputs": [
    {
     "data": {
      "text/plain": [
       "k__Bacteria;p__Firmicutes;c__Negativicutes;o__Selenomonadales;f__Acidaminococcaceae;g__Phascolarctobacterium;s__;d__denovo58      (nan, nan, nan)\n",
       "k__Bacteria;p__Firmicutes;c__Clostridia;o__Clostridiales;f__Clostridiales_Incertae_Sedis_XIII;g__Anaerovorax;s__;d__denovo1106    (nan, nan, nan)\n",
       "k__Bacteria;p__Firmicutes;c__Clostridia;o__Clostridiales;f__Lachnospiraceae;g__Ruminococcus2;s__;d__denovo57                      (nan, nan, nan)\n",
       "k__Bacteria;p__Actinobacteria;c__Actinobacteria;o__Actinomycetales;f__Actinomycetaceae;g__Actinomyces;s__;d__denovo886            (nan, nan, nan)\n",
       "k__Bacteria;p__Firmicutes;c__Clostridia;o__Clostridiales;f__Ruminococcaceae;g__;s__;d__denovo887                                  (nan, nan, nan)\n",
       "dtype: object"
      ]
     },
     "execution_count": 153,
     "metadata": {},
     "output_type": "execute_result"
    }
   ],
   "source": [
    "corrs.head()"
   ]
  },
  {
   "cell_type": "markdown",
   "metadata": {
    "collapsed": true
   },
   "source": [
    "### Stop here\n",
    "\n",
    "Clearly the data file I need is tidy dataframe with `otu`, `r`, `p`, `exchange`, `site_comparison`, and `min_patients`, where `min_patients` is the presence threshold for consideration (i.e. OTU must be non-zero in both sites in at least `min_patients` to even get considered as \"shared\")."
   ]
  },
  {
   "cell_type": "code",
   "execution_count": null,
   "metadata": {
    "collapsed": true
   },
   "outputs": [],
   "source": []
  }
 ],
 "metadata": {
  "anaconda-cloud": {},
  "kernelspec": {
   "display_name": "Python [default]",
   "language": "python",
   "name": "python2"
  },
  "language_info": {
   "codemirror_mode": {
    "name": "ipython",
    "version": 2
   },
   "file_extension": ".py",
   "mimetype": "text/x-python",
   "name": "python",
   "nbconvert_exporter": "python",
   "pygments_lexer": "ipython2",
   "version": "2.7.12"
  }
 },
 "nbformat": 4,
 "nbformat_minor": 2
}
