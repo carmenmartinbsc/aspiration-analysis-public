{
 "cells": [
  {
   "cell_type": "markdown",
   "metadata": {},
   "source": [
    "This notebook preps data to run SourceTracker."
   ]
  },
  {
   "cell_type": "code",
   "execution_count": 1,
   "metadata": {},
   "outputs": [],
   "source": [
    "import pandas as pd"
   ]
  },
  {
   "cell_type": "code",
   "execution_count": 2,
   "metadata": {},
   "outputs": [],
   "source": [
    "fotu = '../../data/clean/rosen.otu_table.counts.clean'\n",
    "fmeta = '../../data/clean/rosen.metadata.clean'\n",
    "\n",
    "df = pd.read_csv(fotu, sep='\\t', index_col=0)\n",
    "meta = pd.read_csv(fmeta, sep='\\t', index_col=0)"
   ]
  },
  {
   "cell_type": "markdown",
   "metadata": {},
   "source": [
    "# Prepare samples\n",
    "\n",
    "Let's just keep the lung, throat, and gastric samples, and remove the second time point and lung transplant samples as we do in the rest of the paper."
   ]
  },
  {
   "cell_type": "code",
   "execution_count": 3,
   "metadata": {},
   "outputs": [
    {
     "name": "stdout",
     "output_type": "stream",
     "text": [
      "(586, 958)\n",
      "(520, 958)\n"
     ]
    }
   ],
   "source": [
    "sites = ['bal', 'throat_swab', 'gastric_fluid']\n",
    "print(meta.shape)\n",
    "meta = meta.query('site == @sites')\n",
    "print(meta.shape)"
   ]
  },
  {
   "cell_type": "markdown",
   "metadata": {},
   "source": [
    "Also remove the second time points and lung transplant samples."
   ]
  },
  {
   "cell_type": "code",
   "execution_count": 5,
   "metadata": {},
   "outputs": [
    {
     "data": {
      "text/plain": [
       "425"
      ]
     },
     "execution_count": 5,
     "metadata": {},
     "output_type": "execute_result"
    }
   ],
   "source": [
    "# Don't include samples from second time point or lung transplants\n",
    "samples = meta.index\n",
    "exclude = ['2', 'F', 'sick', 'F2T']\n",
    "for s in exclude:\n",
    "    samples = [i for i in samples if not i.endswith(s)]\n",
    "samples = [i for i in samples if not i.startswith('05')]\n",
    "len(samples)"
   ]
  },
  {
   "cell_type": "code",
   "execution_count": 7,
   "metadata": {},
   "outputs": [
    {
     "data": {
      "text/plain": [
       "217"
      ]
     },
     "execution_count": 7,
     "metadata": {},
     "output_type": "execute_result"
    }
   ],
   "source": [
    "len(meta.loc[samples, 'subject_id'].unique())"
   ]
  },
  {
   "cell_type": "markdown",
   "metadata": {},
   "source": [
    "That's what we expect: we have 222 subjects total in our whole dataset, which includes 5 patients who _only_ have stool (so we have 217 total with any of throat, lung, or gastric fluid)."
   ]
  },
  {
   "cell_type": "code",
   "execution_count": 8,
   "metadata": {},
   "outputs": [],
   "source": [
    "meta = meta.loc[samples]\n",
    "df = df.loc[samples]"
   ]
  },
  {
   "cell_type": "markdown",
   "metadata": {},
   "source": [
    "## Prepare SourceTracker metadata file"
   ]
  },
  {
   "cell_type": "code",
   "execution_count": 11,
   "metadata": {},
   "outputs": [
    {
     "data": {
      "text/html": [
       "<div>\n",
       "<style scoped>\n",
       "    .dataframe tbody tr th:only-of-type {\n",
       "        vertical-align: middle;\n",
       "    }\n",
       "\n",
       "    .dataframe tbody tr th {\n",
       "        vertical-align: top;\n",
       "    }\n",
       "\n",
       "    .dataframe thead th {\n",
       "        text-align: right;\n",
       "    }\n",
       "</style>\n",
       "<table border=\"1\" class=\"dataframe\">\n",
       "  <thead>\n",
       "    <tr style=\"text-align: right;\">\n",
       "      <th></th>\n",
       "      <th>#SampleID</th>\n",
       "      <th>SourceSink</th>\n",
       "      <th>Env</th>\n",
       "    </tr>\n",
       "  </thead>\n",
       "  <tbody>\n",
       "    <tr>\n",
       "      <th>0</th>\n",
       "      <td>01-112-7GI</td>\n",
       "      <td>source</td>\n",
       "      <td>gastric_fluid</td>\n",
       "    </tr>\n",
       "    <tr>\n",
       "      <th>1</th>\n",
       "      <td>01-112-7TI</td>\n",
       "      <td>source</td>\n",
       "      <td>throat_swab</td>\n",
       "    </tr>\n",
       "    <tr>\n",
       "      <th>2</th>\n",
       "      <td>01-164-7GI</td>\n",
       "      <td>source</td>\n",
       "      <td>gastric_fluid</td>\n",
       "    </tr>\n",
       "    <tr>\n",
       "      <th>3</th>\n",
       "      <td>01-164-7TI</td>\n",
       "      <td>source</td>\n",
       "      <td>throat_swab</td>\n",
       "    </tr>\n",
       "    <tr>\n",
       "      <th>4</th>\n",
       "      <td>01-173-4G</td>\n",
       "      <td>source</td>\n",
       "      <td>gastric_fluid</td>\n",
       "    </tr>\n",
       "  </tbody>\n",
       "</table>\n",
       "</div>"
      ],
      "text/plain": [
       "    #SampleID SourceSink            Env\n",
       "0  01-112-7GI     source  gastric_fluid\n",
       "1  01-112-7TI     source    throat_swab\n",
       "2  01-164-7GI     source  gastric_fluid\n",
       "3  01-164-7TI     source    throat_swab\n",
       "4   01-173-4G     source  gastric_fluid"
      ]
     },
     "execution_count": 11,
     "metadata": {},
     "output_type": "execute_result"
    }
   ],
   "source": [
    "st = meta['site'].reset_index()\n",
    "st['SourceSink'] = st['site'].apply(lambda x: 'sink' if x == \"bal\" else 'source')\n",
    "st = st.rename(columns={'index': '#SampleID', 'site': 'Env'})\n",
    "st = st[['#SampleID', 'SourceSink', 'Env']]\n",
    "st.head()"
   ]
  },
  {
   "cell_type": "code",
   "execution_count": 12,
   "metadata": {},
   "outputs": [],
   "source": [
    "st.to_csv('../../data/clean/sourcetracker_mapping.txt', index=False, sep='\\t')"
   ]
  },
  {
   "cell_type": "markdown",
   "metadata": {},
   "source": [
    "## Also make the OTU table"
   ]
  },
  {
   "cell_type": "code",
   "execution_count": 15,
   "metadata": {},
   "outputs": [],
   "source": [
    "df = df.T\n",
    "df.index.name = 'otu'\n",
    "df.to_csv('../../data/clean/sourcetracker_table.txt', sep='\\t')"
   ]
  },
  {
   "cell_type": "markdown",
   "metadata": {},
   "source": [
    "Then, in the terminal I ran:\n",
    "\n",
    "```\n",
    "biom convert -i sourcetracker_table.txt -m sourcetracker_mapping.txt -o sourcetracker_table.biom --to-hdf5\n",
    "```"
   ]
  },
  {
   "cell_type": "markdown",
   "metadata": {},
   "source": [
    "And then to run sourcetracker I did:\n",
    "\n",
    "```\n",
    "sourcetracker2 gibbs -i sourcetracker_table.biom -m sourcetracker_mapping.txt -o ./sourcetracker/\n",
    "```"
   ]
  },
  {
   "cell_type": "code",
   "execution_count": null,
   "metadata": {},
   "outputs": [],
   "source": []
  }
 ],
 "metadata": {
  "anaconda-cloud": {},
  "kernelspec": {
   "display_name": "Python (aspiration)",
   "language": "python",
   "name": "aspiration"
  },
  "language_info": {
   "codemirror_mode": {
    "name": "ipython",
    "version": 2
   },
   "file_extension": ".py",
   "mimetype": "text/x-python",
   "name": "python",
   "nbconvert_exporter": "python",
   "pygments_lexer": "ipython2",
   "version": "2.7.15"
  }
 },
 "nbformat": 4,
 "nbformat_minor": 2
}
