{
 "cells": [
  {
   "cell_type": "markdown",
   "metadata": {},
   "source": [
    "This notebook explores my first pass of SourceTracker results.\n",
    "\n",
    "An important note that I did not do anything to control for different _patients_ here: so it's possible that the sourcetracking results are confounded with the patient.\n",
    "\n",
    "One way to check this will be to see if the patients whose BAL are assigned high gastric are just the patients who have a gastric sample. "
   ]
  },
  {
   "cell_type": "code",
   "execution_count": 23,
   "metadata": {},
   "outputs": [],
   "source": [
    "import pandas as pd\n",
    "\n",
    "import matplotlib.pyplot as plt\n",
    "import seaborn as sns\n",
    "%matplotlib inline\n",
    "\n",
    "from scipy.stats import fisher_exact, ranksums, chi2_contingency\n"
   ]
  },
  {
   "cell_type": "code",
   "execution_count": 24,
   "metadata": {},
   "outputs": [],
   "source": [
    "fst = '../../data/analysis/sourcetracker/mixing_proportions.txt'\n",
    "fst_std = '../../data/analysis/sourcetracker/mixing_proportions_stds.txt'\n",
    "df = pd.read_csv(fst, sep='\\t')\n",
    "stds = pd.read_csv(fst_std, sep='\\t')"
   ]
  },
  {
   "cell_type": "code",
   "execution_count": 25,
   "metadata": {},
   "outputs": [
    {
     "data": {
      "text/html": [
       "<div>\n",
       "<style scoped>\n",
       "    .dataframe tbody tr th:only-of-type {\n",
       "        vertical-align: middle;\n",
       "    }\n",
       "\n",
       "    .dataframe tbody tr th {\n",
       "        vertical-align: top;\n",
       "    }\n",
       "\n",
       "    .dataframe thead th {\n",
       "        text-align: right;\n",
       "    }\n",
       "</style>\n",
       "<table border=\"1\" class=\"dataframe\">\n",
       "  <thead>\n",
       "    <tr style=\"text-align: right;\">\n",
       "      <th></th>\n",
       "      <th>SampleID</th>\n",
       "      <th>gastric_fluid</th>\n",
       "      <th>throat_swab</th>\n",
       "      <th>Unknown</th>\n",
       "    </tr>\n",
       "  </thead>\n",
       "  <tbody>\n",
       "    <tr>\n",
       "      <th>0</th>\n",
       "      <td>04-113-7B</td>\n",
       "      <td>0.0030</td>\n",
       "      <td>0.0006</td>\n",
       "      <td>0.9964</td>\n",
       "    </tr>\n",
       "    <tr>\n",
       "      <th>1</th>\n",
       "      <td>04-086-2B</td>\n",
       "      <td>0.0028</td>\n",
       "      <td>0.0003</td>\n",
       "      <td>0.9969</td>\n",
       "    </tr>\n",
       "    <tr>\n",
       "      <th>2</th>\n",
       "      <td>12-160-1B</td>\n",
       "      <td>0.6845</td>\n",
       "      <td>0.0654</td>\n",
       "      <td>0.2501</td>\n",
       "    </tr>\n",
       "    <tr>\n",
       "      <th>3</th>\n",
       "      <td>04-116-2B</td>\n",
       "      <td>0.8574</td>\n",
       "      <td>0.0366</td>\n",
       "      <td>0.1060</td>\n",
       "    </tr>\n",
       "    <tr>\n",
       "      <th>4</th>\n",
       "      <td>04-208-1B</td>\n",
       "      <td>0.8398</td>\n",
       "      <td>0.1254</td>\n",
       "      <td>0.0348</td>\n",
       "    </tr>\n",
       "  </tbody>\n",
       "</table>\n",
       "</div>"
      ],
      "text/plain": [
       "    SampleID  gastric_fluid  throat_swab  Unknown\n",
       "0  04-113-7B         0.0030       0.0006   0.9964\n",
       "1  04-086-2B         0.0028       0.0003   0.9969\n",
       "2  12-160-1B         0.6845       0.0654   0.2501\n",
       "3  04-116-2B         0.8574       0.0366   0.1060\n",
       "4  04-208-1B         0.8398       0.1254   0.0348"
      ]
     },
     "execution_count": 25,
     "metadata": {},
     "output_type": "execute_result"
    }
   ],
   "source": [
    "df.head()"
   ]
  },
  {
   "cell_type": "code",
   "execution_count": 26,
   "metadata": {},
   "outputs": [
    {
     "data": {
      "text/html": [
       "<div>\n",
       "<style scoped>\n",
       "    .dataframe tbody tr th:only-of-type {\n",
       "        vertical-align: middle;\n",
       "    }\n",
       "\n",
       "    .dataframe tbody tr th {\n",
       "        vertical-align: top;\n",
       "    }\n",
       "\n",
       "    .dataframe thead th {\n",
       "        text-align: right;\n",
       "    }\n",
       "</style>\n",
       "<table border=\"1\" class=\"dataframe\">\n",
       "  <thead>\n",
       "    <tr style=\"text-align: right;\">\n",
       "      <th></th>\n",
       "      <th>SampleID</th>\n",
       "      <th>gastric_fluid</th>\n",
       "      <th>throat_swab</th>\n",
       "      <th>Unknown</th>\n",
       "    </tr>\n",
       "  </thead>\n",
       "  <tbody>\n",
       "    <tr>\n",
       "      <th>0</th>\n",
       "      <td>04-113-7B</td>\n",
       "      <td>0.001732</td>\n",
       "      <td>0.000490</td>\n",
       "      <td>0.001562</td>\n",
       "    </tr>\n",
       "    <tr>\n",
       "      <th>1</th>\n",
       "      <td>04-086-2B</td>\n",
       "      <td>0.001470</td>\n",
       "      <td>0.000458</td>\n",
       "      <td>0.001640</td>\n",
       "    </tr>\n",
       "    <tr>\n",
       "      <th>2</th>\n",
       "      <td>12-160-1B</td>\n",
       "      <td>0.018112</td>\n",
       "      <td>0.014016</td>\n",
       "      <td>0.009638</td>\n",
       "    </tr>\n",
       "    <tr>\n",
       "      <th>3</th>\n",
       "      <td>04-116-2B</td>\n",
       "      <td>0.013048</td>\n",
       "      <td>0.008102</td>\n",
       "      <td>0.012402</td>\n",
       "    </tr>\n",
       "    <tr>\n",
       "      <th>4</th>\n",
       "      <td>04-208-1B</td>\n",
       "      <td>0.022864</td>\n",
       "      <td>0.023665</td>\n",
       "      <td>0.002441</td>\n",
       "    </tr>\n",
       "  </tbody>\n",
       "</table>\n",
       "</div>"
      ],
      "text/plain": [
       "    SampleID  gastric_fluid  throat_swab   Unknown\n",
       "0  04-113-7B       0.001732     0.000490  0.001562\n",
       "1  04-086-2B       0.001470     0.000458  0.001640\n",
       "2  12-160-1B       0.018112     0.014016  0.009638\n",
       "3  04-116-2B       0.013048     0.008102  0.012402\n",
       "4  04-208-1B       0.022864     0.023665  0.002441"
      ]
     },
     "execution_count": 26,
     "metadata": {},
     "output_type": "execute_result"
    }
   ],
   "source": [
    "stds.head()"
   ]
  },
  {
   "cell_type": "code",
   "execution_count": 27,
   "metadata": {},
   "outputs": [
    {
     "data": {
      "text/html": [
       "<div>\n",
       "<style scoped>\n",
       "    .dataframe tbody tr th:only-of-type {\n",
       "        vertical-align: middle;\n",
       "    }\n",
       "\n",
       "    .dataframe tbody tr th {\n",
       "        vertical-align: top;\n",
       "    }\n",
       "\n",
       "    .dataframe thead th {\n",
       "        text-align: right;\n",
       "    }\n",
       "</style>\n",
       "<table border=\"1\" class=\"dataframe\">\n",
       "  <thead>\n",
       "    <tr style=\"text-align: right;\">\n",
       "      <th></th>\n",
       "      <th>SampleID</th>\n",
       "      <th>env</th>\n",
       "      <th>proportion</th>\n",
       "    </tr>\n",
       "  </thead>\n",
       "  <tbody>\n",
       "    <tr>\n",
       "      <th>0</th>\n",
       "      <td>04-113-7B</td>\n",
       "      <td>gastric_fluid</td>\n",
       "      <td>0.0030</td>\n",
       "    </tr>\n",
       "    <tr>\n",
       "      <th>1</th>\n",
       "      <td>04-086-2B</td>\n",
       "      <td>gastric_fluid</td>\n",
       "      <td>0.0028</td>\n",
       "    </tr>\n",
       "    <tr>\n",
       "      <th>2</th>\n",
       "      <td>12-160-1B</td>\n",
       "      <td>gastric_fluid</td>\n",
       "      <td>0.6845</td>\n",
       "    </tr>\n",
       "    <tr>\n",
       "      <th>3</th>\n",
       "      <td>04-116-2B</td>\n",
       "      <td>gastric_fluid</td>\n",
       "      <td>0.8574</td>\n",
       "    </tr>\n",
       "    <tr>\n",
       "      <th>4</th>\n",
       "      <td>04-208-1B</td>\n",
       "      <td>gastric_fluid</td>\n",
       "      <td>0.8398</td>\n",
       "    </tr>\n",
       "  </tbody>\n",
       "</table>\n",
       "</div>"
      ],
      "text/plain": [
       "    SampleID            env  proportion\n",
       "0  04-113-7B  gastric_fluid      0.0030\n",
       "1  04-086-2B  gastric_fluid      0.0028\n",
       "2  12-160-1B  gastric_fluid      0.6845\n",
       "3  04-116-2B  gastric_fluid      0.8574\n",
       "4  04-208-1B  gastric_fluid      0.8398"
      ]
     },
     "execution_count": 27,
     "metadata": {},
     "output_type": "execute_result"
    }
   ],
   "source": [
    "tidydf = pd.melt(df, id_vars='SampleID', var_name='env', value_name='proportion')\n",
    "tidydf.head()"
   ]
  },
  {
   "cell_type": "code",
   "execution_count": 28,
   "metadata": {},
   "outputs": [
    {
     "data": {
      "text/html": [
       "<div>\n",
       "<style scoped>\n",
       "    .dataframe tbody tr th:only-of-type {\n",
       "        vertical-align: middle;\n",
       "    }\n",
       "\n",
       "    .dataframe tbody tr th {\n",
       "        vertical-align: top;\n",
       "    }\n",
       "\n",
       "    .dataframe thead th {\n",
       "        text-align: right;\n",
       "    }\n",
       "</style>\n",
       "<table border=\"1\" class=\"dataframe\">\n",
       "  <thead>\n",
       "    <tr style=\"text-align: right;\">\n",
       "      <th></th>\n",
       "      <th>If Yes, specify the symptom score</th>\n",
       "      <th>If yes, please indicate level</th>\n",
       "      <th>% time pH&lt;4</th>\n",
       "      <th>% time pH&lt;4:</th>\n",
       "      <th>A1. Subject ID number:</th>\n",
       "      <th>A2. Subject initials:</th>\n",
       "      <th>A3. What Cohort is the subject enrolled into?</th>\n",
       "      <th>A4. Aim(s) enrolled in?</th>\n",
       "      <th>A5.  Date of initial/baseline visit/procedure (MM/DD/YYYY):</th>\n",
       "      <th>A5a. Date filled out(MM/DD/YYYY):</th>\n",
       "      <th>...</th>\n",
       "      <th>STUDYID</th>\n",
       "      <th>STUDY</th>\n",
       "      <th>AIM</th>\n",
       "      <th>SOURCE</th>\n",
       "      <th>PHMII</th>\n",
       "      <th>ACIDSUP</th>\n",
       "      <th>DATE</th>\n",
       "      <th>ppi_consolidated</th>\n",
       "      <th>mbs_consolidated</th>\n",
       "      <th>total_reads</th>\n",
       "    </tr>\n",
       "  </thead>\n",
       "  <tbody>\n",
       "    <tr>\n",
       "      <th>01-112-7GI</th>\n",
       "      <td>NaN</td>\n",
       "      <td>NaN</td>\n",
       "      <td>NaN</td>\n",
       "      <td>NaN</td>\n",
       "      <td>01-112-7</td>\n",
       "      <td>DM</td>\n",
       "      <td>GERD</td>\n",
       "      <td>Aim 1</td>\n",
       "      <td>2014-04-14</td>\n",
       "      <td>2014-04-14</td>\n",
       "      <td>...</td>\n",
       "      <td>NaN</td>\n",
       "      <td>NaN</td>\n",
       "      <td>NaN</td>\n",
       "      <td>NaN</td>\n",
       "      <td>NaN</td>\n",
       "      <td>NaN</td>\n",
       "      <td>NaN</td>\n",
       "      <td>NaN</td>\n",
       "      <td>NaN</td>\n",
       "      <td>271980</td>\n",
       "    </tr>\n",
       "    <tr>\n",
       "      <th>01-112-7RI</th>\n",
       "      <td>NaN</td>\n",
       "      <td>NaN</td>\n",
       "      <td>NaN</td>\n",
       "      <td>NaN</td>\n",
       "      <td>01-112-7</td>\n",
       "      <td>DM</td>\n",
       "      <td>GERD</td>\n",
       "      <td>Aim 1</td>\n",
       "      <td>2014-04-14</td>\n",
       "      <td>2014-04-14</td>\n",
       "      <td>...</td>\n",
       "      <td>NaN</td>\n",
       "      <td>NaN</td>\n",
       "      <td>NaN</td>\n",
       "      <td>NaN</td>\n",
       "      <td>NaN</td>\n",
       "      <td>NaN</td>\n",
       "      <td>NaN</td>\n",
       "      <td>NaN</td>\n",
       "      <td>NaN</td>\n",
       "      <td>244891</td>\n",
       "    </tr>\n",
       "    <tr>\n",
       "      <th>01-112-7TI</th>\n",
       "      <td>NaN</td>\n",
       "      <td>NaN</td>\n",
       "      <td>NaN</td>\n",
       "      <td>NaN</td>\n",
       "      <td>01-112-7</td>\n",
       "      <td>DM</td>\n",
       "      <td>GERD</td>\n",
       "      <td>Aim 1</td>\n",
       "      <td>2014-04-14</td>\n",
       "      <td>2014-04-14</td>\n",
       "      <td>...</td>\n",
       "      <td>NaN</td>\n",
       "      <td>NaN</td>\n",
       "      <td>NaN</td>\n",
       "      <td>NaN</td>\n",
       "      <td>NaN</td>\n",
       "      <td>NaN</td>\n",
       "      <td>NaN</td>\n",
       "      <td>NaN</td>\n",
       "      <td>NaN</td>\n",
       "      <td>41988</td>\n",
       "    </tr>\n",
       "    <tr>\n",
       "      <th>01-164-7GI</th>\n",
       "      <td>NaN</td>\n",
       "      <td>NaN</td>\n",
       "      <td>NaN</td>\n",
       "      <td>NaN</td>\n",
       "      <td>NaN</td>\n",
       "      <td>NaN</td>\n",
       "      <td>NaN</td>\n",
       "      <td>NaN</td>\n",
       "      <td>NaN</td>\n",
       "      <td>NaN</td>\n",
       "      <td>...</td>\n",
       "      <td>NaN</td>\n",
       "      <td>NaN</td>\n",
       "      <td>NaN</td>\n",
       "      <td>NaN</td>\n",
       "      <td>NaN</td>\n",
       "      <td>NaN</td>\n",
       "      <td>NaN</td>\n",
       "      <td>NaN</td>\n",
       "      <td>NaN</td>\n",
       "      <td>89821</td>\n",
       "    </tr>\n",
       "    <tr>\n",
       "      <th>01-164-7RI</th>\n",
       "      <td>NaN</td>\n",
       "      <td>NaN</td>\n",
       "      <td>NaN</td>\n",
       "      <td>NaN</td>\n",
       "      <td>NaN</td>\n",
       "      <td>NaN</td>\n",
       "      <td>NaN</td>\n",
       "      <td>NaN</td>\n",
       "      <td>NaN</td>\n",
       "      <td>NaN</td>\n",
       "      <td>...</td>\n",
       "      <td>NaN</td>\n",
       "      <td>NaN</td>\n",
       "      <td>NaN</td>\n",
       "      <td>NaN</td>\n",
       "      <td>NaN</td>\n",
       "      <td>NaN</td>\n",
       "      <td>NaN</td>\n",
       "      <td>NaN</td>\n",
       "      <td>NaN</td>\n",
       "      <td>72671</td>\n",
       "    </tr>\n",
       "  </tbody>\n",
       "</table>\n",
       "<p>5 rows × 958 columns</p>\n",
       "</div>"
      ],
      "text/plain": [
       "             If Yes, specify the symptom score  If yes, please indicate level  \\\n",
       "01-112-7GI                                 NaN                            NaN   \n",
       "01-112-7RI                                 NaN                            NaN   \n",
       "01-112-7TI                                 NaN                            NaN   \n",
       "01-164-7GI                                 NaN                            NaN   \n",
       "01-164-7RI                                 NaN                            NaN   \n",
       "\n",
       "            % time pH<4  % time pH<4: A1. Subject ID number:  \\\n",
       "01-112-7GI          NaN           NaN               01-112-7   \n",
       "01-112-7RI          NaN           NaN               01-112-7   \n",
       "01-112-7TI          NaN           NaN               01-112-7   \n",
       "01-164-7GI          NaN           NaN                    NaN   \n",
       "01-164-7RI          NaN           NaN                    NaN   \n",
       "\n",
       "           A2. Subject initials:  \\\n",
       "01-112-7GI                    DM   \n",
       "01-112-7RI                    DM   \n",
       "01-112-7TI                    DM   \n",
       "01-164-7GI                   NaN   \n",
       "01-164-7RI                   NaN   \n",
       "\n",
       "           A3. What Cohort is the subject enrolled into?  \\\n",
       "01-112-7GI                                          GERD   \n",
       "01-112-7RI                                          GERD   \n",
       "01-112-7TI                                          GERD   \n",
       "01-164-7GI                                           NaN   \n",
       "01-164-7RI                                           NaN   \n",
       "\n",
       "           A4. Aim(s) enrolled in?  \\\n",
       "01-112-7GI                   Aim 1   \n",
       "01-112-7RI                   Aim 1   \n",
       "01-112-7TI                   Aim 1   \n",
       "01-164-7GI                     NaN   \n",
       "01-164-7RI                     NaN   \n",
       "\n",
       "           A5.  Date of initial/baseline visit/procedure (MM/DD/YYYY):  \\\n",
       "01-112-7GI                                         2014-04-14            \n",
       "01-112-7RI                                         2014-04-14            \n",
       "01-112-7TI                                         2014-04-14            \n",
       "01-164-7GI                                                NaN            \n",
       "01-164-7RI                                                NaN            \n",
       "\n",
       "           A5a. Date filled out(MM/DD/YYYY):     ...      STUDYID STUDY  AIM  \\\n",
       "01-112-7GI                        2014-04-14     ...          NaN   NaN  NaN   \n",
       "01-112-7RI                        2014-04-14     ...          NaN   NaN  NaN   \n",
       "01-112-7TI                        2014-04-14     ...          NaN   NaN  NaN   \n",
       "01-164-7GI                               NaN     ...          NaN   NaN  NaN   \n",
       "01-164-7RI                               NaN     ...          NaN   NaN  NaN   \n",
       "\n",
       "           SOURCE PHMII  ACIDSUP DATE ppi_consolidated mbs_consolidated  \\\n",
       "01-112-7GI    NaN   NaN      NaN  NaN              NaN              NaN   \n",
       "01-112-7RI    NaN   NaN      NaN  NaN              NaN              NaN   \n",
       "01-112-7TI    NaN   NaN      NaN  NaN              NaN              NaN   \n",
       "01-164-7GI    NaN   NaN      NaN  NaN              NaN              NaN   \n",
       "01-164-7RI    NaN   NaN      NaN  NaN              NaN              NaN   \n",
       "\n",
       "           total_reads  \n",
       "01-112-7GI      271980  \n",
       "01-112-7RI      244891  \n",
       "01-112-7TI       41988  \n",
       "01-164-7GI       89821  \n",
       "01-164-7RI       72671  \n",
       "\n",
       "[5 rows x 958 columns]"
      ]
     },
     "execution_count": 28,
     "metadata": {},
     "output_type": "execute_result"
    }
   ],
   "source": [
    "# Add in metadata\n",
    "fmeta = '../../data/clean/rosen.metadata.clean'\n",
    "meta = pd.read_csv(fmeta, sep='\\t', index_col=0)\n",
    "meta.head()"
   ]
  },
  {
   "cell_type": "code",
   "execution_count": 29,
   "metadata": {},
   "outputs": [
    {
     "data": {
      "text/plain": [
       "<seaborn.axisgrid.FacetGrid at 0x1a16512810>"
      ]
     },
     "execution_count": 29,
     "metadata": {},
     "output_type": "execute_result"
    },
    {
     "data": {
      "image/png": "[encoded data removed]",
      "text/plain": [
       "<Figure size 648x216 with 3 Axes>"
      ]
     },
     "metadata": {
      "needs_background": "light"
     },
     "output_type": "display_data"
    }
   ],
   "source": [
    "g = sns.FacetGrid(data=tidydf, col='env')\n",
    "g.map(sns.kdeplot, 'proportion')"
   ]
  },
  {
   "cell_type": "code",
   "execution_count": 30,
   "metadata": {},
   "outputs": [],
   "source": [
    "keep_smpls = meta.index.tolist()"
   ]
  },
  {
   "cell_type": "code",
   "execution_count": 31,
   "metadata": {},
   "outputs": [],
   "source": [
    "df = df.query('SampleID == @keep_smpls')"
   ]
  },
  {
   "cell_type": "code",
   "execution_count": 32,
   "metadata": {},
   "outputs": [
    {
     "data": {
      "text/plain": [
       "<matplotlib.legend.Legend at 0x1a16f30790>"
      ]
     },
     "execution_count": 32,
     "metadata": {},
     "output_type": "execute_result"
    },
    {
     "data": {
      "image/png": "[encoded data removed]",
      "text/plain": [
       "<Figure size 432x288 with 1 Axes>"
      ]
     },
     "metadata": {
      "needs_background": "light"
     },
     "output_type": "display_data"
    }
   ],
   "source": [
    "df['mbs_consolidated'] = df['SampleID'].apply(lambda x: meta.loc[x, 'mbs_consolidated'])\n",
    "df = df.fillna('nan')\n",
    "df = df.sort_values(by=['mbs_consolidated', 'gastric_fluid', 'Unknown'], ascending=[True, False, False])\n",
    "df[['gastric_fluid', 'Unknown', 'throat_swab']].plot(kind='bar', stacked=True).legend(loc='center left', bbox_to_anchor=(1.05, 0.5))"
   ]
  },
  {
   "cell_type": "code",
   "execution_count": 33,
   "metadata": {},
   "outputs": [
    {
     "data": {
      "text/html": [
       "<div>\n",
       "<style scoped>\n",
       "    .dataframe tbody tr th:only-of-type {\n",
       "        vertical-align: middle;\n",
       "    }\n",
       "\n",
       "    .dataframe tbody tr th {\n",
       "        vertical-align: top;\n",
       "    }\n",
       "\n",
       "    .dataframe thead th {\n",
       "        text-align: right;\n",
       "    }\n",
       "</style>\n",
       "<table border=\"1\" class=\"dataframe\">\n",
       "  <thead>\n",
       "    <tr style=\"text-align: right;\">\n",
       "      <th></th>\n",
       "      <th>SampleID</th>\n",
       "      <th>gastric_fluid</th>\n",
       "      <th>throat_swab</th>\n",
       "      <th>Unknown</th>\n",
       "    </tr>\n",
       "  </thead>\n",
       "  <tbody>\n",
       "    <tr>\n",
       "      <th>75</th>\n",
       "      <td>04-303-7B</td>\n",
       "      <td>0.006063</td>\n",
       "      <td>0.006750</td>\n",
       "      <td>0.002691</td>\n",
       "    </tr>\n",
       "    <tr>\n",
       "      <th>56</th>\n",
       "      <td>04-291-3B</td>\n",
       "      <td>0.005235</td>\n",
       "      <td>0.006074</td>\n",
       "      <td>0.002844</td>\n",
       "    </tr>\n",
       "    <tr>\n",
       "      <th>34</th>\n",
       "      <td>04-182-6B</td>\n",
       "      <td>0.019614</td>\n",
       "      <td>0.019463</td>\n",
       "      <td>0.001833</td>\n",
       "    </tr>\n",
       "    <tr>\n",
       "      <th>85</th>\n",
       "      <td>04-139-5B</td>\n",
       "      <td>0.021031</td>\n",
       "      <td>0.022204</td>\n",
       "      <td>0.005186</td>\n",
       "    </tr>\n",
       "    <tr>\n",
       "      <th>100</th>\n",
       "      <td>04-157-4B</td>\n",
       "      <td>0.031034</td>\n",
       "      <td>0.032236</td>\n",
       "      <td>0.006357</td>\n",
       "    </tr>\n",
       "  </tbody>\n",
       "</table>\n",
       "</div>"
      ],
      "text/plain": [
       "      SampleID  gastric_fluid  throat_swab   Unknown\n",
       "75   04-303-7B       0.006063     0.006750  0.002691\n",
       "56   04-291-3B       0.005235     0.006074  0.002844\n",
       "34   04-182-6B       0.019614     0.019463  0.001833\n",
       "85   04-139-5B       0.021031     0.022204  0.005186\n",
       "100  04-157-4B       0.031034     0.032236  0.006357"
      ]
     },
     "execution_count": 33,
     "metadata": {},
     "output_type": "execute_result"
    }
   ],
   "source": [
    "# Again, but this time with stderrs\n",
    "# Re-order so they match the new dataframe order\n",
    "stds = stds.loc[df.index]\n",
    "stds.head()"
   ]
  },
  {
   "cell_type": "code",
   "execution_count": 34,
   "metadata": {},
   "outputs": [
    {
     "data": {
      "text/html": [
       "<div>\n",
       "<style scoped>\n",
       "    .dataframe tbody tr th:only-of-type {\n",
       "        vertical-align: middle;\n",
       "    }\n",
       "\n",
       "    .dataframe tbody tr th {\n",
       "        vertical-align: top;\n",
       "    }\n",
       "\n",
       "    .dataframe thead th {\n",
       "        text-align: right;\n",
       "    }\n",
       "</style>\n",
       "<table border=\"1\" class=\"dataframe\">\n",
       "  <thead>\n",
       "    <tr style=\"text-align: right;\">\n",
       "      <th></th>\n",
       "      <th>SampleID</th>\n",
       "      <th>gastric_fluid</th>\n",
       "      <th>throat_swab</th>\n",
       "      <th>Unknown</th>\n",
       "      <th>mbs_consolidated</th>\n",
       "    </tr>\n",
       "  </thead>\n",
       "  <tbody>\n",
       "    <tr>\n",
       "      <th>75</th>\n",
       "      <td>04-303-7B</td>\n",
       "      <td>0.9542</td>\n",
       "      <td>0.0262</td>\n",
       "      <td>0.0196</td>\n",
       "      <td>Aspiration/Penetration</td>\n",
       "    </tr>\n",
       "    <tr>\n",
       "      <th>56</th>\n",
       "      <td>04-291-3B</td>\n",
       "      <td>0.9350</td>\n",
       "      <td>0.0249</td>\n",
       "      <td>0.0401</td>\n",
       "      <td>Aspiration/Penetration</td>\n",
       "    </tr>\n",
       "    <tr>\n",
       "      <th>34</th>\n",
       "      <td>04-182-6B</td>\n",
       "      <td>0.8479</td>\n",
       "      <td>0.1083</td>\n",
       "      <td>0.0438</td>\n",
       "      <td>Aspiration/Penetration</td>\n",
       "    </tr>\n",
       "    <tr>\n",
       "      <th>85</th>\n",
       "      <td>04-139-5B</td>\n",
       "      <td>0.7839</td>\n",
       "      <td>0.1320</td>\n",
       "      <td>0.0841</td>\n",
       "      <td>Aspiration/Penetration</td>\n",
       "    </tr>\n",
       "    <tr>\n",
       "      <th>100</th>\n",
       "      <td>04-157-4B</td>\n",
       "      <td>0.7649</td>\n",
       "      <td>0.1758</td>\n",
       "      <td>0.0593</td>\n",
       "      <td>Aspiration/Penetration</td>\n",
       "    </tr>\n",
       "  </tbody>\n",
       "</table>\n",
       "</div>"
      ],
      "text/plain": [
       "      SampleID  gastric_fluid  throat_swab  Unknown        mbs_consolidated\n",
       "75   04-303-7B         0.9542       0.0262   0.0196  Aspiration/Penetration\n",
       "56   04-291-3B         0.9350       0.0249   0.0401  Aspiration/Penetration\n",
       "34   04-182-6B         0.8479       0.1083   0.0438  Aspiration/Penetration\n",
       "85   04-139-5B         0.7839       0.1320   0.0841  Aspiration/Penetration\n",
       "100  04-157-4B         0.7649       0.1758   0.0593  Aspiration/Penetration"
      ]
     },
     "execution_count": 34,
     "metadata": {},
     "output_type": "execute_result"
    }
   ],
   "source": [
    "df.head()"
   ]
  },
  {
   "cell_type": "code",
   "execution_count": 35,
   "metadata": {},
   "outputs": [
    {
     "data": {
      "text/plain": [
       "array([<matplotlib.axes._subplots.AxesSubplot object at 0x1a17a36b10>,\n",
       "       <matplotlib.axes._subplots.AxesSubplot object at 0x1a17f61a50>,\n",
       "       <matplotlib.axes._subplots.AxesSubplot object at 0x1a1805ae10>],\n",
       "      dtype=object)"
      ]
     },
     "execution_count": 35,
     "metadata": {},
     "output_type": "execute_result"
    },
    {
     "data": {
      "image/png": "[encoded data removed]",
      "text/plain": [
       "<Figure size 720x288 with 3 Axes>"
      ]
     },
     "metadata": {
      "needs_background": "light"
     },
     "output_type": "display_data"
    }
   ],
   "source": [
    "df[['gastric_fluid', 'Unknown', 'throat_swab']].plot(\n",
    "    kind='bar',\n",
    "    subplots=True,\n",
    "    yerr=stds,\n",
    "    figsize=(10, 4))\n"
   ]
  },
  {
   "cell_type": "markdown",
   "metadata": {},
   "source": [
    "Okay, so it looks like the stderr's are actually pretty tight. Only a few samples with high variance."
   ]
  },
  {
   "cell_type": "markdown",
   "metadata": {},
   "source": [
    "# How many samples classified as each type?"
   ]
  },
  {
   "cell_type": "code",
   "execution_count": 39,
   "metadata": {},
   "outputs": [
    {
     "data": {
      "text/plain": [
       "Unknown          68\n",
       "gastric_fluid    20\n",
       "throat_swab      10\n",
       "Name: env, dtype: int64"
      ]
     },
     "execution_count": 39,
     "metadata": {},
     "output_type": "execute_result"
    }
   ],
   "source": [
    "tidydf.query('proportion > 0.5')['env'].value_counts()"
   ]
  },
  {
   "cell_type": "code",
   "execution_count": 40,
   "metadata": {},
   "outputs": [
    {
     "data": {
      "text/html": [
       "<div>\n",
       "<style scoped>\n",
       "    .dataframe tbody tr th:only-of-type {\n",
       "        vertical-align: middle;\n",
       "    }\n",
       "\n",
       "    .dataframe tbody tr th {\n",
       "        vertical-align: top;\n",
       "    }\n",
       "\n",
       "    .dataframe thead th {\n",
       "        text-align: right;\n",
       "    }\n",
       "</style>\n",
       "<table border=\"1\" class=\"dataframe\">\n",
       "  <thead>\n",
       "    <tr style=\"text-align: right;\">\n",
       "      <th></th>\n",
       "      <th>SampleID</th>\n",
       "      <th>env</th>\n",
       "      <th>proportion</th>\n",
       "      <th>subject_id</th>\n",
       "      <th>site</th>\n",
       "      <th>mbs_consolidated</th>\n",
       "    </tr>\n",
       "  </thead>\n",
       "  <tbody>\n",
       "    <tr>\n",
       "      <th>0</th>\n",
       "      <td>04-113-7B</td>\n",
       "      <td>gastric_fluid</td>\n",
       "      <td>0.0030</td>\n",
       "      <td>04-113-7</td>\n",
       "      <td>bal</td>\n",
       "      <td>NaN</td>\n",
       "    </tr>\n",
       "    <tr>\n",
       "      <th>102</th>\n",
       "      <td>04-113-7B</td>\n",
       "      <td>throat_swab</td>\n",
       "      <td>0.0006</td>\n",
       "      <td>04-113-7</td>\n",
       "      <td>bal</td>\n",
       "      <td>NaN</td>\n",
       "    </tr>\n",
       "    <tr>\n",
       "      <th>204</th>\n",
       "      <td>04-113-7B</td>\n",
       "      <td>Unknown</td>\n",
       "      <td>0.9964</td>\n",
       "      <td>04-113-7</td>\n",
       "      <td>bal</td>\n",
       "      <td>NaN</td>\n",
       "    </tr>\n",
       "    <tr>\n",
       "      <th>1</th>\n",
       "      <td>04-086-2B</td>\n",
       "      <td>gastric_fluid</td>\n",
       "      <td>0.0028</td>\n",
       "      <td>04-086-2</td>\n",
       "      <td>bal</td>\n",
       "      <td>NaN</td>\n",
       "    </tr>\n",
       "    <tr>\n",
       "      <th>103</th>\n",
       "      <td>04-086-2B</td>\n",
       "      <td>throat_swab</td>\n",
       "      <td>0.0003</td>\n",
       "      <td>04-086-2</td>\n",
       "      <td>bal</td>\n",
       "      <td>NaN</td>\n",
       "    </tr>\n",
       "    <tr>\n",
       "      <th>205</th>\n",
       "      <td>04-086-2B</td>\n",
       "      <td>Unknown</td>\n",
       "      <td>0.9969</td>\n",
       "      <td>04-086-2</td>\n",
       "      <td>bal</td>\n",
       "      <td>NaN</td>\n",
       "    </tr>\n",
       "    <tr>\n",
       "      <th>2</th>\n",
       "      <td>12-160-1B</td>\n",
       "      <td>gastric_fluid</td>\n",
       "      <td>0.6845</td>\n",
       "      <td>12-160-1</td>\n",
       "      <td>bal</td>\n",
       "      <td>Aspiration/Penetration</td>\n",
       "    </tr>\n",
       "    <tr>\n",
       "      <th>104</th>\n",
       "      <td>12-160-1B</td>\n",
       "      <td>throat_swab</td>\n",
       "      <td>0.0654</td>\n",
       "      <td>12-160-1</td>\n",
       "      <td>bal</td>\n",
       "      <td>Aspiration/Penetration</td>\n",
       "    </tr>\n",
       "    <tr>\n",
       "      <th>206</th>\n",
       "      <td>12-160-1B</td>\n",
       "      <td>Unknown</td>\n",
       "      <td>0.2501</td>\n",
       "      <td>12-160-1</td>\n",
       "      <td>bal</td>\n",
       "      <td>Aspiration/Penetration</td>\n",
       "    </tr>\n",
       "    <tr>\n",
       "      <th>3</th>\n",
       "      <td>04-116-2B</td>\n",
       "      <td>gastric_fluid</td>\n",
       "      <td>0.8574</td>\n",
       "      <td>04-116-2</td>\n",
       "      <td>bal</td>\n",
       "      <td>NaN</td>\n",
       "    </tr>\n",
       "  </tbody>\n",
       "</table>\n",
       "</div>"
      ],
      "text/plain": [
       "      SampleID            env  proportion subject_id site  \\\n",
       "0    04-113-7B  gastric_fluid      0.0030   04-113-7  bal   \n",
       "102  04-113-7B    throat_swab      0.0006   04-113-7  bal   \n",
       "204  04-113-7B        Unknown      0.9964   04-113-7  bal   \n",
       "1    04-086-2B  gastric_fluid      0.0028   04-086-2  bal   \n",
       "103  04-086-2B    throat_swab      0.0003   04-086-2  bal   \n",
       "205  04-086-2B        Unknown      0.9969   04-086-2  bal   \n",
       "2    12-160-1B  gastric_fluid      0.6845   12-160-1  bal   \n",
       "104  12-160-1B    throat_swab      0.0654   12-160-1  bal   \n",
       "206  12-160-1B        Unknown      0.2501   12-160-1  bal   \n",
       "3    04-116-2B  gastric_fluid      0.8574   04-116-2  bal   \n",
       "\n",
       "           mbs_consolidated  \n",
       "0                       NaN  \n",
       "102                     NaN  \n",
       "204                     NaN  \n",
       "1                       NaN  \n",
       "103                     NaN  \n",
       "205                     NaN  \n",
       "2    Aspiration/Penetration  \n",
       "104  Aspiration/Penetration  \n",
       "206  Aspiration/Penetration  \n",
       "3                       NaN  "
      ]
     },
     "execution_count": 40,
     "metadata": {},
     "output_type": "execute_result"
    }
   ],
   "source": [
    "# Merge metadata into sourcetracker data\n",
    "tidydf = pd.merge(\n",
    "    tidydf, meta[['subject_id', 'site', 'mbs_consolidated']], \n",
    "    left_on='SampleID', right_index=True)\n",
    "tidydf.head(10)"
   ]
  },
  {
   "cell_type": "code",
   "execution_count": 41,
   "metadata": {},
   "outputs": [
    {
     "data": {
      "text/html": [
       "<div>\n",
       "<style scoped>\n",
       "    .dataframe tbody tr th:only-of-type {\n",
       "        vertical-align: middle;\n",
       "    }\n",
       "\n",
       "    .dataframe tbody tr th {\n",
       "        vertical-align: top;\n",
       "    }\n",
       "\n",
       "    .dataframe thead th {\n",
       "        text-align: right;\n",
       "    }\n",
       "</style>\n",
       "<table border=\"1\" class=\"dataframe\">\n",
       "  <thead>\n",
       "    <tr style=\"text-align: right;\">\n",
       "      <th></th>\n",
       "      <th>SampleID</th>\n",
       "      <th>env</th>\n",
       "      <th>proportion</th>\n",
       "      <th>subject_id</th>\n",
       "      <th>site</th>\n",
       "      <th>mbs_consolidated</th>\n",
       "    </tr>\n",
       "  </thead>\n",
       "  <tbody>\n",
       "    <tr>\n",
       "      <th>0</th>\n",
       "      <td>04-113-7B</td>\n",
       "      <td>gastric_fluid</td>\n",
       "      <td>0.0030</td>\n",
       "      <td>04-113-7</td>\n",
       "      <td>bal</td>\n",
       "      <td>NaN</td>\n",
       "    </tr>\n",
       "    <tr>\n",
       "      <th>102</th>\n",
       "      <td>04-113-7B</td>\n",
       "      <td>throat_swab</td>\n",
       "      <td>0.0006</td>\n",
       "      <td>04-113-7</td>\n",
       "      <td>bal</td>\n",
       "      <td>NaN</td>\n",
       "    </tr>\n",
       "    <tr>\n",
       "      <th>204</th>\n",
       "      <td>04-113-7B</td>\n",
       "      <td>Unknown</td>\n",
       "      <td>0.9964</td>\n",
       "      <td>04-113-7</td>\n",
       "      <td>bal</td>\n",
       "      <td>NaN</td>\n",
       "    </tr>\n",
       "    <tr>\n",
       "      <th>1</th>\n",
       "      <td>04-086-2B</td>\n",
       "      <td>gastric_fluid</td>\n",
       "      <td>0.0028</td>\n",
       "      <td>04-086-2</td>\n",
       "      <td>bal</td>\n",
       "      <td>NaN</td>\n",
       "    </tr>\n",
       "    <tr>\n",
       "      <th>103</th>\n",
       "      <td>04-086-2B</td>\n",
       "      <td>throat_swab</td>\n",
       "      <td>0.0003</td>\n",
       "      <td>04-086-2</td>\n",
       "      <td>bal</td>\n",
       "      <td>NaN</td>\n",
       "    </tr>\n",
       "  </tbody>\n",
       "</table>\n",
       "</div>"
      ],
      "text/plain": [
       "      SampleID            env  proportion subject_id site mbs_consolidated\n",
       "0    04-113-7B  gastric_fluid      0.0030   04-113-7  bal              NaN\n",
       "102  04-113-7B    throat_swab      0.0006   04-113-7  bal              NaN\n",
       "204  04-113-7B        Unknown      0.9964   04-113-7  bal              NaN\n",
       "1    04-086-2B  gastric_fluid      0.0028   04-086-2  bal              NaN\n",
       "103  04-086-2B    throat_swab      0.0003   04-086-2  bal              NaN"
      ]
     },
     "execution_count": 41,
     "metadata": {},
     "output_type": "execute_result"
    }
   ],
   "source": [
    "tidydf.head()"
   ]
  },
  {
   "cell_type": "code",
   "execution_count": 42,
   "metadata": {},
   "outputs": [
    {
     "data": {
      "text/plain": [
       "env            mbs_consolidated      \n",
       "Unknown        Aspiration/Penetration    19\n",
       "               Normal                    24\n",
       "gastric_fluid  Aspiration/Penetration     8\n",
       "               Normal                     7\n",
       "throat_swab    Aspiration/Penetration     4\n",
       "               Normal                     2\n",
       "dtype: int64"
      ]
     },
     "execution_count": 42,
     "metadata": {},
     "output_type": "execute_result"
    }
   ],
   "source": [
    "tidydf.query('proportion > 0.5').groupby(['env', 'mbs_consolidated']).size()"
   ]
  },
  {
   "cell_type": "code",
   "execution_count": 43,
   "metadata": {},
   "outputs": [
    {
     "name": "stdout",
     "output_type": "stream",
     "text": [
      "(2.17334004464481, 0.7039129945573851, 4, array([[21.41237113, 22.79381443, 22.79381443],\n",
      "       [ 6.39175258,  6.80412371,  6.80412371],\n",
      "       [ 3.19587629,  3.40206186,  3.40206186]]))\n"
     ]
    },
    {
     "data": {
      "text/html": [
       "<div>\n",
       "<style scoped>\n",
       "    .dataframe tbody tr th:only-of-type {\n",
       "        vertical-align: middle;\n",
       "    }\n",
       "\n",
       "    .dataframe tbody tr th {\n",
       "        vertical-align: top;\n",
       "    }\n",
       "\n",
       "    .dataframe thead tr th {\n",
       "        text-align: left;\n",
       "    }\n",
       "\n",
       "    .dataframe thead tr:last-of-type th {\n",
       "        text-align: right;\n",
       "    }\n",
       "</style>\n",
       "<table border=\"1\" class=\"dataframe\">\n",
       "  <thead>\n",
       "    <tr>\n",
       "      <th></th>\n",
       "      <th colspan=\"3\" halign=\"left\">0</th>\n",
       "    </tr>\n",
       "    <tr>\n",
       "      <th>mbs_consolidated</th>\n",
       "      <th>Aspiration/Penetration</th>\n",
       "      <th>Normal</th>\n",
       "      <th>nan</th>\n",
       "    </tr>\n",
       "    <tr>\n",
       "      <th>env</th>\n",
       "      <th></th>\n",
       "      <th></th>\n",
       "      <th></th>\n",
       "    </tr>\n",
       "  </thead>\n",
       "  <tbody>\n",
       "    <tr>\n",
       "      <th>Unknown</th>\n",
       "      <td>19</td>\n",
       "      <td>24</td>\n",
       "      <td>24</td>\n",
       "    </tr>\n",
       "    <tr>\n",
       "      <th>gastric_fluid</th>\n",
       "      <td>8</td>\n",
       "      <td>7</td>\n",
       "      <td>5</td>\n",
       "    </tr>\n",
       "    <tr>\n",
       "      <th>throat_swab</th>\n",
       "      <td>4</td>\n",
       "      <td>2</td>\n",
       "      <td>4</td>\n",
       "    </tr>\n",
       "  </tbody>\n",
       "</table>\n",
       "</div>"
      ],
      "text/plain": [
       "                                      0           \n",
       "mbs_consolidated Aspiration/Penetration Normal nan\n",
       "env                                               \n",
       "Unknown                              19     24  24\n",
       "gastric_fluid                         8      7   5\n",
       "throat_swab                           4      2   4"
      ]
     },
     "execution_count": 43,
     "metadata": {},
     "output_type": "execute_result"
    }
   ],
   "source": [
    "asp_vs_classified_env = (tidydf\n",
    "     .fillna('nan')\n",
    "     .query('proportion > 0.5')\n",
    "     .groupby(['env', 'mbs_consolidated'])\n",
    "     .size()\n",
    "     .reset_index()\n",
    "     .pivot(index='env', columns='mbs_consolidated')\n",
    ")\n",
    "\n",
    "print(chi2_contingency(asp_vs_classified_env.values))\n",
    "asp_vs_classified_env"
   ]
  },
  {
   "cell_type": "markdown",
   "metadata": {},
   "source": [
    "Oh wait, I should actually assign each sample to a class based on which one is maximal (not just which one is above 0.5)."
   ]
  },
  {
   "cell_type": "code",
   "execution_count": 44,
   "metadata": {},
   "outputs": [
    {
     "data": {
      "text/html": [
       "<div>\n",
       "<style scoped>\n",
       "    .dataframe tbody tr th:only-of-type {\n",
       "        vertical-align: middle;\n",
       "    }\n",
       "\n",
       "    .dataframe tbody tr th {\n",
       "        vertical-align: top;\n",
       "    }\n",
       "\n",
       "    .dataframe thead th {\n",
       "        text-align: right;\n",
       "    }\n",
       "</style>\n",
       "<table border=\"1\" class=\"dataframe\">\n",
       "  <thead>\n",
       "    <tr style=\"text-align: right;\">\n",
       "      <th></th>\n",
       "      <th>SampleID</th>\n",
       "      <th>gastric_fluid</th>\n",
       "      <th>throat_swab</th>\n",
       "      <th>Unknown</th>\n",
       "      <th>mbs_consolidated</th>\n",
       "      <th>max_env_source</th>\n",
       "    </tr>\n",
       "  </thead>\n",
       "  <tbody>\n",
       "    <tr>\n",
       "      <th>75</th>\n",
       "      <td>04-303-7B</td>\n",
       "      <td>0.9542</td>\n",
       "      <td>0.0262</td>\n",
       "      <td>0.0196</td>\n",
       "      <td>Aspiration/Penetration</td>\n",
       "      <td>gastric_fluid</td>\n",
       "    </tr>\n",
       "    <tr>\n",
       "      <th>56</th>\n",
       "      <td>04-291-3B</td>\n",
       "      <td>0.9350</td>\n",
       "      <td>0.0249</td>\n",
       "      <td>0.0401</td>\n",
       "      <td>Aspiration/Penetration</td>\n",
       "      <td>gastric_fluid</td>\n",
       "    </tr>\n",
       "    <tr>\n",
       "      <th>34</th>\n",
       "      <td>04-182-6B</td>\n",
       "      <td>0.8479</td>\n",
       "      <td>0.1083</td>\n",
       "      <td>0.0438</td>\n",
       "      <td>Aspiration/Penetration</td>\n",
       "      <td>gastric_fluid</td>\n",
       "    </tr>\n",
       "    <tr>\n",
       "      <th>85</th>\n",
       "      <td>04-139-5B</td>\n",
       "      <td>0.7839</td>\n",
       "      <td>0.1320</td>\n",
       "      <td>0.0841</td>\n",
       "      <td>Aspiration/Penetration</td>\n",
       "      <td>gastric_fluid</td>\n",
       "    </tr>\n",
       "    <tr>\n",
       "      <th>100</th>\n",
       "      <td>04-157-4B</td>\n",
       "      <td>0.7649</td>\n",
       "      <td>0.1758</td>\n",
       "      <td>0.0593</td>\n",
       "      <td>Aspiration/Penetration</td>\n",
       "      <td>gastric_fluid</td>\n",
       "    </tr>\n",
       "  </tbody>\n",
       "</table>\n",
       "</div>"
      ],
      "text/plain": [
       "      SampleID  gastric_fluid  throat_swab  Unknown        mbs_consolidated  \\\n",
       "75   04-303-7B         0.9542       0.0262   0.0196  Aspiration/Penetration   \n",
       "56   04-291-3B         0.9350       0.0249   0.0401  Aspiration/Penetration   \n",
       "34   04-182-6B         0.8479       0.1083   0.0438  Aspiration/Penetration   \n",
       "85   04-139-5B         0.7839       0.1320   0.0841  Aspiration/Penetration   \n",
       "100  04-157-4B         0.7649       0.1758   0.0593  Aspiration/Penetration   \n",
       "\n",
       "    max_env_source  \n",
       "75   gastric_fluid  \n",
       "56   gastric_fluid  \n",
       "34   gastric_fluid  \n",
       "85   gastric_fluid  \n",
       "100  gastric_fluid  "
      ]
     },
     "execution_count": 44,
     "metadata": {},
     "output_type": "execute_result"
    }
   ],
   "source": [
    "df['max_env_source'] = df.apply(lambda row: row[['gastric_fluid', 'throat_swab', 'Unknown']].astype(float).idxmax(), axis=1)\n",
    "df.head()"
   ]
  },
  {
   "cell_type": "code",
   "execution_count": 45,
   "metadata": {},
   "outputs": [
    {
     "name": "stdout",
     "output_type": "stream",
     "text": [
      "(3.5800046769216722, 0.4658181745020302, 4, array([[22.54455446, 22.54455446, 23.91089109],\n",
      "       [ 7.18811881,  7.18811881,  7.62376238],\n",
      "       [ 3.26732673,  3.26732673,  3.46534653]]))\n"
     ]
    },
    {
     "data": {
      "text/html": [
       "<div>\n",
       "<style scoped>\n",
       "    .dataframe tbody tr th:only-of-type {\n",
       "        vertical-align: middle;\n",
       "    }\n",
       "\n",
       "    .dataframe tbody tr th {\n",
       "        vertical-align: top;\n",
       "    }\n",
       "\n",
       "    .dataframe thead tr th {\n",
       "        text-align: left;\n",
       "    }\n",
       "\n",
       "    .dataframe thead tr:last-of-type th {\n",
       "        text-align: right;\n",
       "    }\n",
       "</style>\n",
       "<table border=\"1\" class=\"dataframe\">\n",
       "  <thead>\n",
       "    <tr>\n",
       "      <th></th>\n",
       "      <th colspan=\"3\" halign=\"left\">0</th>\n",
       "    </tr>\n",
       "    <tr>\n",
       "      <th>mbs_consolidated</th>\n",
       "      <th>Aspiration/Penetration</th>\n",
       "      <th>Normal</th>\n",
       "      <th>nan</th>\n",
       "    </tr>\n",
       "    <tr>\n",
       "      <th>max_env_source</th>\n",
       "      <th></th>\n",
       "      <th></th>\n",
       "      <th></th>\n",
       "    </tr>\n",
       "  </thead>\n",
       "  <tbody>\n",
       "    <tr>\n",
       "      <th>Unknown</th>\n",
       "      <td>19</td>\n",
       "      <td>24</td>\n",
       "      <td>26</td>\n",
       "    </tr>\n",
       "    <tr>\n",
       "      <th>gastric_fluid</th>\n",
       "      <td>10</td>\n",
       "      <td>7</td>\n",
       "      <td>5</td>\n",
       "    </tr>\n",
       "    <tr>\n",
       "      <th>throat_swab</th>\n",
       "      <td>4</td>\n",
       "      <td>2</td>\n",
       "      <td>4</td>\n",
       "    </tr>\n",
       "  </tbody>\n",
       "</table>\n",
       "</div>"
      ],
      "text/plain": [
       "                                      0           \n",
       "mbs_consolidated Aspiration/Penetration Normal nan\n",
       "max_env_source                                    \n",
       "Unknown                              19     24  26\n",
       "gastric_fluid                        10      7   5\n",
       "throat_swab                           4      2   4"
      ]
     },
     "execution_count": 45,
     "metadata": {},
     "output_type": "execute_result"
    }
   ],
   "source": [
    "asp_vs_max_env = (df.groupby(['max_env_source', 'mbs_consolidated'])\n",
    "     .size()\n",
    "     .reset_index()\n",
    "     .pivot(index='max_env_source', columns='mbs_consolidated')\n",
    ")\n",
    "\n",
    "print(chi2_contingency(asp_vs_max_env.values))\n",
    "asp_vs_max_env"
   ]
  },
  {
   "cell_type": "markdown",
   "metadata": {},
   "source": [
    "# Check confounding with gastric fluid sampling\n",
    "\n",
    "Do samples which are predicted to be gastric fluid tend to be ones from patients who have a gastric fluid sample?"
   ]
  },
  {
   "cell_type": "code",
   "execution_count": 46,
   "metadata": {},
   "outputs": [
    {
     "name": "stdout",
     "output_type": "stream",
     "text": [
      "20\n"
     ]
    },
    {
     "data": {
      "text/plain": [
       "(17, 958)"
      ]
     },
     "execution_count": 46,
     "metadata": {},
     "output_type": "execute_result"
    }
   ],
   "source": [
    "# Grab subjects whose BAL samples are more than 50% \"gastric fluid\"\n",
    "pred_gastric_subjs = (\n",
    "    tidydf\n",
    "        .query('env == \"gastric_fluid\"')\n",
    "        .query('proportion > 0.5')\n",
    "        ['subject_id'].tolist()\n",
    ")\n",
    "\n",
    "print(len(pred_gastric_subjs))\n",
    "\n",
    "# See which sites these patients have sequenced\n",
    "meta\\\n",
    "    .query('subject_id == @pred_gastric_subjs')\\\n",
    "    .query('site == \"gastric_fluid\"')\\\n",
    "    .shape"
   ]
  },
  {
   "cell_type": "markdown",
   "metadata": {},
   "source": [
    "So 17 out of the 20 patients whose BAL was predicted to be predominantly \"gastric_fluid\" also have a gastric fluid sample. Let's see how this shakes out for the BAL samples which _weren't_ predicated to be gastric."
   ]
  },
  {
   "cell_type": "code",
   "execution_count": 47,
   "metadata": {},
   "outputs": [
    {
     "name": "stdout",
     "output_type": "stream",
     "text": [
      "81\n"
     ]
    },
    {
     "data": {
      "text/plain": [
       "(71, 958)"
      ]
     },
     "execution_count": 47,
     "metadata": {},
     "output_type": "execute_result"
    }
   ],
   "source": [
    "# Grab subjects whose BAL samples are more than 50% \"gastric fluid\"\n",
    "pred_not_gastric_subjs = (\n",
    "    tidydf\n",
    "        .query('env == \"gastric_fluid\"')\n",
    "        .query('proportion <= 0.5')\n",
    "        ['subject_id'].tolist()\n",
    ")\n",
    "\n",
    "print(len(pred_not_gastric_subjs))\n",
    "\n",
    "# See which sites these patients have sequenced\n",
    "meta\\\n",
    "    .query('subject_id == @pred_not_gastric_subjs')\\\n",
    "    .query('site == \"gastric_fluid\"')\\\n",
    "    .shape"
   ]
  },
  {
   "cell_type": "markdown",
   "metadata": {},
   "source": [
    "So 72 of the 82 subjects whose BAL was _not_ predicted to be gastric fluid had a gastric fluid sample sequenced."
   ]
  },
  {
   "cell_type": "code",
   "execution_count": 48,
   "metadata": {},
   "outputs": [
    {
     "data": {
      "text/html": [
       "<div>\n",
       "<style scoped>\n",
       "    .dataframe tbody tr th:only-of-type {\n",
       "        vertical-align: middle;\n",
       "    }\n",
       "\n",
       "    .dataframe tbody tr th {\n",
       "        vertical-align: top;\n",
       "    }\n",
       "\n",
       "    .dataframe thead th {\n",
       "        text-align: right;\n",
       "    }\n",
       "</style>\n",
       "<table border=\"1\" class=\"dataframe\">\n",
       "  <thead>\n",
       "    <tr style=\"text-align: right;\">\n",
       "      <th></th>\n",
       "      <th>don't have gastric</th>\n",
       "      <th>do have gastric</th>\n",
       "    </tr>\n",
       "  </thead>\n",
       "  <tbody>\n",
       "    <tr>\n",
       "      <th>not predicted gastric</th>\n",
       "      <td>10</td>\n",
       "      <td>72</td>\n",
       "    </tr>\n",
       "    <tr>\n",
       "      <th>predicted gastric</th>\n",
       "      <td>3</td>\n",
       "      <td>17</td>\n",
       "    </tr>\n",
       "  </tbody>\n",
       "</table>\n",
       "</div>"
      ],
      "text/plain": [
       "                       don't have gastric  do have gastric\n",
       "not predicted gastric                  10               72\n",
       "predicted gastric                       3               17"
      ]
     },
     "execution_count": 48,
     "metadata": {},
     "output_type": "execute_result"
    }
   ],
   "source": [
    "fisher = pd.DataFrame(data=[[82-72, 72], [20-17, 17]],\n",
    "                      columns=[\"don't have gastric\", \"do have gastric\"],\n",
    "                      index=['not predicted gastric', 'predicted gastric'])\n",
    "fisher"
   ]
  },
  {
   "cell_type": "code",
   "execution_count": 49,
   "metadata": {},
   "outputs": [
    {
     "data": {
      "text/plain": [
       "(0.7870370370370371, 0.7155476742710635)"
      ]
     },
     "execution_count": 49,
     "metadata": {},
     "output_type": "execute_result"
    }
   ],
   "source": [
    "fisher_exact(fisher)"
   ]
  },
  {
   "cell_type": "markdown",
   "metadata": {},
   "source": [
    "Okay, so that's not confounded. Good, I guess?"
   ]
  },
  {
   "cell_type": "markdown",
   "metadata": {},
   "source": [
    "# See if it's interesting, I guess?\n",
    "\n",
    "Look at relationship with aspiration..."
   ]
  },
  {
   "cell_type": "code",
   "execution_count": 63,
   "metadata": {},
   "outputs": [
    {
     "data": {
      "image/png": "[encoded data removed]",
      "text/plain": [
       "<Figure size 576x288 with 1 Axes>"
      ]
     },
     "metadata": {
      "needs_background": "light"
     },
     "output_type": "display_data"
    }
   ],
   "source": [
    "tidydf['mbs_consolidated'] = tidydf['mbs_consolidated'].fillna('Not tested')\n",
    "\n",
    "fig, ax = plt.subplots(figsize=(8, 4))\n",
    "\n",
    "sns.boxplot(data=tidydf, x='env', y='proportion', hue='mbs_consolidated')\n",
    "sns.stripplot(data=tidydf, x='env', y='proportion', hue='mbs_consolidated', \n",
    "              dodge=True, linewidth=0.5)\n",
    "\n",
    "handles, labels = ax.get_legend_handles_labels()\n",
    "ax.legend(handles[:3], labels[:3], loc='center left', bbox_to_anchor=(1.05, 0.5))\n",
    "\n",
    "ax.set_ylabel('Proportion of BAL sample', fontsize='x-large')\n",
    "ax.set_xlabel('Source community', fontsize='x-large')\n",
    "ax.set_xticklabels(['Gastric fluid', 'Oropharyngeal\\nswab', 'Unknown'])\n",
    "\n",
    "fig.tight_layout()\n",
    "fig.savefig('../../final/figures/reviewer.sourcetracker_proportions.png')"
   ]
  },
  {
   "cell_type": "code",
   "execution_count": 51,
   "metadata": {},
   "outputs": [
    {
     "name": "stdout",
     "output_type": "stream",
     "text": [
      "mbs_consolidated\n",
      "Aspiration/Penetration    33\n",
      "Normal                    33\n",
      "dtype: int64\n",
      "mbs_consolidated\n",
      "Aspiration/Penetration    33\n",
      "Normal                    33\n",
      "dtype: int64\n",
      "mbs_consolidated\n",
      "Aspiration/Penetration    33\n",
      "Normal                    33\n",
      "dtype: int64\n"
     ]
    }
   ],
   "source": [
    "# Check sample sizes\n",
    "for site, subdf in tidydf.groupby('env'):\n",
    "    print(subdf.groupby(['mbs_consolidated']).size())"
   ]
  },
  {
   "cell_type": "markdown",
   "metadata": {},
   "source": [
    "Oh right, these are just plotting the BAL samples. Yes, 33 of each group is correct."
   ]
  },
  {
   "cell_type": "code",
   "execution_count": 52,
   "metadata": {},
   "outputs": [
    {
     "name": "stdout",
     "output_type": "stream",
     "text": [
      "Unknown\n",
      "RanksumsResult(statistic=-1.6735927794463104, pvalue=0.09421065855744282)\n",
      "gastric_fluid\n",
      "RanksumsResult(statistic=1.8018374368751464, pvalue=0.07157098578495692)\n",
      "throat_swab\n",
      "RanksumsResult(statistic=1.8338986012323555, pvalue=0.06666904726002462)\n"
     ]
    }
   ],
   "source": [
    "asp = 'Aspiration/Penetration'\n",
    "nml = 'Normal'\n",
    "for site, subdf in tidydf.groupby('env'):\n",
    "    print(site)\n",
    "    x = subdf.query('mbs_consolidated == @asp')['proportion'].values\n",
    "    y = subdf.query('mbs_consolidated == @nml')['proportion'].values\n",
    "    print(ranksums(x, y))"
   ]
  },
  {
   "cell_type": "markdown",
   "metadata": {},
   "source": [
    "Ehh they're all marginally significant but not really. That said I'm not sure I trust the actual proportions or that they mean anything in particular? If we do the contingency table (above), it's not significant."
   ]
  },
  {
   "cell_type": "code",
   "execution_count": null,
   "metadata": {},
   "outputs": [],
   "source": []
  }
 ],
 "metadata": {
  "anaconda-cloud": {},
  "kernelspec": {
   "display_name": "Python (aspiration)",
   "language": "python",
   "name": "aspiration"
  },
  "language_info": {
   "codemirror_mode": {
    "name": "ipython",
    "version": 2
   },
   "file_extension": ".py",
   "mimetype": "text/x-python",
   "name": "python",
   "nbconvert_exporter": "python",
   "pygments_lexer": "ipython2",
   "version": "2.7.15"
  }
 },
 "nbformat": 4,
 "nbformat_minor": 2
}
