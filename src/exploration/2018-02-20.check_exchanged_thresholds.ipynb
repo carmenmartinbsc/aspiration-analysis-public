{
 "cells": [
  {
   "cell_type": "markdown",
   "metadata": {},
   "source": [
    "The purpose of this notebook is to check my threshold for calling an OTU exchanged or not.\n",
    "\n",
    "Eric was skeptical about my threshold of *both* q-value < 0.05 and r > 0. He thinks that we should base the threshold only on q-value, and there *shouldn't* be any negative r values bc that would make no sense.\n",
    "\n",
    "i.e. we shouldn't use an arbitrary cutoff by saying that \"anything with r < 0 makes no sense\". Instead, make sure it all makes sense (or explain the bugs which don't)"
   ]
  },
  {
   "cell_type": "code",
   "execution_count": 5,
   "metadata": {
    "collapsed": true
   },
   "outputs": [],
   "source": [
    "import pandas as pd\n",
    "from statsmodels.sandbox.stats.multicomp import multipletests\n",
    "\n",
    "\n",
    "import matplotlib.pyplot as plt\n",
    "import seaborn as sns\n",
    "%matplotlib inline"
   ]
  },
  {
   "cell_type": "code",
   "execution_count": 6,
   "metadata": {
    "collapsed": true
   },
   "outputs": [],
   "source": [
    "fexchange = '../../data/analysis/exchange.with_partial_corrs.txt'\n",
    "df = pd.read_csv(fexchange, sep='\\t')"
   ]
  },
  {
   "cell_type": "code",
   "execution_count": 8,
   "metadata": {
    "collapsed": true
   },
   "outputs": [],
   "source": [
    "nthresh = 10\n",
    "df = df.query('n_partial >= @nthresh')\n",
    "_, df['q_partial'], _, _ = multipletests(df['p_partial'], method='fdr_bh')"
   ]
  },
  {
   "cell_type": "code",
   "execution_count": 9,
   "metadata": {
    "collapsed": false
   },
   "outputs": [
    {
     "data": {
      "text/html": [
       "<div>\n",
       "<style scoped>\n",
       "    .dataframe tbody tr th:only-of-type {\n",
       "        vertical-align: middle;\n",
       "    }\n",
       "\n",
       "    .dataframe tbody tr th {\n",
       "        vertical-align: top;\n",
       "    }\n",
       "\n",
       "    .dataframe thead th {\n",
       "        text-align: right;\n",
       "    }\n",
       "</style>\n",
       "<table border=\"1\" class=\"dataframe\">\n",
       "  <thead>\n",
       "    <tr style=\"text-align: right;\">\n",
       "      <th></th>\n",
       "      <th>otu</th>\n",
       "      <th>site1</th>\n",
       "      <th>site2</th>\n",
       "      <th>site3</th>\n",
       "      <th>r_site12</th>\n",
       "      <th>p_site12</th>\n",
       "      <th>n_site12</th>\n",
       "      <th>r_partial</th>\n",
       "      <th>p_partial</th>\n",
       "      <th>n_partial</th>\n",
       "      <th>shuffled</th>\n",
       "      <th>q_partial</th>\n",
       "    </tr>\n",
       "  </thead>\n",
       "  <tbody>\n",
       "    <tr>\n",
       "      <th>1</th>\n",
       "      <td>k__Bacteria;p__;c__;o__;f__;g__;s__;d__denovo364</td>\n",
       "      <td>bal</td>\n",
       "      <td>gastric_fluid</td>\n",
       "      <td>throat_swab</td>\n",
       "      <td>0.666056</td>\n",
       "      <td>1.492092e-04</td>\n",
       "      <td>27</td>\n",
       "      <td>0.669388</td>\n",
       "      <td>0.000</td>\n",
       "      <td>18</td>\n",
       "      <td>False</td>\n",
       "      <td>0.000000</td>\n",
       "    </tr>\n",
       "    <tr>\n",
       "      <th>7</th>\n",
       "      <td>k__Bacteria;p__Actinobacteria;c__Actinobacteri...</td>\n",
       "      <td>gastric_fluid</td>\n",
       "      <td>throat_swab</td>\n",
       "      <td>bal</td>\n",
       "      <td>0.294981</td>\n",
       "      <td>8.072055e-02</td>\n",
       "      <td>36</td>\n",
       "      <td>0.314559</td>\n",
       "      <td>0.037</td>\n",
       "      <td>20</td>\n",
       "      <td>False</td>\n",
       "      <td>0.063564</td>\n",
       "    </tr>\n",
       "    <tr>\n",
       "      <th>8</th>\n",
       "      <td>k__Bacteria;p__Actinobacteria;c__Actinobacteri...</td>\n",
       "      <td>bal</td>\n",
       "      <td>gastric_fluid</td>\n",
       "      <td>throat_swab</td>\n",
       "      <td>0.474188</td>\n",
       "      <td>1.439045e-02</td>\n",
       "      <td>26</td>\n",
       "      <td>0.479353</td>\n",
       "      <td>0.008</td>\n",
       "      <td>18</td>\n",
       "      <td>False</td>\n",
       "      <td>0.019420</td>\n",
       "    </tr>\n",
       "    <tr>\n",
       "      <th>9</th>\n",
       "      <td>k__Bacteria;p__Actinobacteria;c__Actinobacteri...</td>\n",
       "      <td>bal</td>\n",
       "      <td>throat_swab</td>\n",
       "      <td>gastric_fluid</td>\n",
       "      <td>0.116606</td>\n",
       "      <td>5.624462e-01</td>\n",
       "      <td>27</td>\n",
       "      <td>0.098394</td>\n",
       "      <td>0.327</td>\n",
       "      <td>22</td>\n",
       "      <td>False</td>\n",
       "      <td>0.371339</td>\n",
       "    </tr>\n",
       "    <tr>\n",
       "      <th>10</th>\n",
       "      <td>k__Bacteria;p__Actinobacteria;c__Actinobacteri...</td>\n",
       "      <td>gastric_fluid</td>\n",
       "      <td>throat_swab</td>\n",
       "      <td>bal</td>\n",
       "      <td>0.487845</td>\n",
       "      <td>6.123350e-07</td>\n",
       "      <td>94</td>\n",
       "      <td>0.488545</td>\n",
       "      <td>0.000</td>\n",
       "      <td>56</td>\n",
       "      <td>False</td>\n",
       "      <td>0.000000</td>\n",
       "    </tr>\n",
       "  </tbody>\n",
       "</table>\n",
       "</div>"
      ],
      "text/plain": [
       "                                                  otu          site1  \\\n",
       "1    k__Bacteria;p__;c__;o__;f__;g__;s__;d__denovo364            bal   \n",
       "7   k__Bacteria;p__Actinobacteria;c__Actinobacteri...  gastric_fluid   \n",
       "8   k__Bacteria;p__Actinobacteria;c__Actinobacteri...            bal   \n",
       "9   k__Bacteria;p__Actinobacteria;c__Actinobacteri...            bal   \n",
       "10  k__Bacteria;p__Actinobacteria;c__Actinobacteri...  gastric_fluid   \n",
       "\n",
       "            site2          site3  r_site12      p_site12  n_site12  r_partial  \\\n",
       "1   gastric_fluid    throat_swab  0.666056  1.492092e-04        27   0.669388   \n",
       "7     throat_swab            bal  0.294981  8.072055e-02        36   0.314559   \n",
       "8   gastric_fluid    throat_swab  0.474188  1.439045e-02        26   0.479353   \n",
       "9     throat_swab  gastric_fluid  0.116606  5.624462e-01        27   0.098394   \n",
       "10    throat_swab            bal  0.487845  6.123350e-07        94   0.488545   \n",
       "\n",
       "    p_partial  n_partial  shuffled  q_partial  \n",
       "1       0.000         18     False   0.000000  \n",
       "7       0.037         20     False   0.063564  \n",
       "8       0.008         18     False   0.019420  \n",
       "9       0.327         22     False   0.371339  \n",
       "10      0.000         56     False   0.000000  "
      ]
     },
     "execution_count": 9,
     "metadata": {},
     "output_type": "execute_result"
    }
   ],
   "source": [
    "df.head()"
   ]
  },
  {
   "cell_type": "code",
   "execution_count": 24,
   "metadata": {
    "collapsed": false
   },
   "outputs": [
    {
     "data": {
      "text/plain": [
       "<matplotlib.lines.Line2D at 0x11130f310>"
      ]
     },
     "execution_count": 24,
     "metadata": {},
     "output_type": "execute_result"
    },
    {
     "data": {
      "image/png": "[encoded data removed]",
      "text/plain": [
       "<matplotlib.figure.Figure at 0x111221350>"
      ]
     },
     "metadata": {},
     "output_type": "display_data"
    }
   ],
   "source": [
    "sns.set_style('white')\n",
    "\n",
    "fig, ax = plt.subplots()\n",
    "\n",
    "ax.scatter(df['q_partial'], df['r_partial'])\n",
    "ax.set_xlabel('q value')\n",
    "ax.set_ylabel('spearman r')\n",
    "ax.set_xlim([-0.05, 1])\n",
    "ax.axvline(0.05)\n",
    "ax.axhline(0)"
   ]
  },
  {
   "cell_type": "code",
   "execution_count": null,
   "metadata": {
    "collapsed": true
   },
   "outputs": [],
   "source": []
  }
 ],
 "metadata": {
  "anaconda-cloud": {},
  "kernelspec": {
   "display_name": "Python [default]",
   "language": "python",
   "name": "python2"
  },
  "language_info": {
   "codemirror_mode": {
    "name": "ipython",
    "version": 2
   },
   "file_extension": ".py",
   "mimetype": "text/x-python",
   "name": "python",
   "nbconvert_exporter": "python",
   "pygments_lexer": "ipython2",
   "version": "2.7.12"
  }
 },
 "nbformat": 4,
 "nbformat_minor": 2
}
