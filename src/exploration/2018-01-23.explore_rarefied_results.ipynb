{
 "cells": [
  {
   "cell_type": "markdown",
   "metadata": {},
   "source": [
    "This notebook explores how the exchanged OTUs are affected by rarefying."
   ]
  },
  {
   "cell_type": "code",
   "execution_count": 1,
   "metadata": {
    "collapsed": true
   },
   "outputs": [],
   "source": [
    "import pandas as pd"
   ]
  },
  {
   "cell_type": "code",
   "execution_count": 5,
   "metadata": {
    "collapsed": false
   },
   "outputs": [
    {
     "name": "stdout",
     "output_type": "stream",
     "text": [
      "site_comparison\n",
      "bal-gastric_fluid             76\n",
      "bal-throat_swab               12\n",
      "gastric_fluid-throat_swab    120\n",
      "dtype: int64\n"
     ]
    }
   ],
   "source": [
    "fpreva = '../../data/analysis/prevalence.partial_corrs.nthresh10-qthresh01-rthresh0.rarefied2000.txt'\n",
    "newpreva = pd.read_csv(fpreva, sep='\\t')\n",
    "print(newpreva.query('meta_var == \"all_patients\"').groupby('site_comparison').size())\n",
    "\n",
    "fpreva = '../../data/analysis/prevalence.partial_corrs.nthresh10-qthresh01-rthresh0.txt'\n",
    "oldpreva = pd.read_csv(fpreva, sep='\\t')"
   ]
  },
  {
   "cell_type": "code",
   "execution_count": 6,
   "metadata": {
    "collapsed": false
   },
   "outputs": [
    {
     "data": {
      "text/html": [
       "<div>\n",
       "<style scoped>\n",
       "    .dataframe tbody tr th:only-of-type {\n",
       "        vertical-align: middle;\n",
       "    }\n",
       "\n",
       "    .dataframe tbody tr th {\n",
       "        vertical-align: top;\n",
       "    }\n",
       "\n",
       "    .dataframe thead th {\n",
       "        text-align: right;\n",
       "    }\n",
       "</style>\n",
       "<table border=\"1\" class=\"dataframe\">\n",
       "  <thead>\n",
       "    <tr style=\"text-align: right;\">\n",
       "      <th></th>\n",
       "      <th>otu</th>\n",
       "      <th>prevalence_exchange</th>\n",
       "      <th>meta_var</th>\n",
       "      <th>meta_val</th>\n",
       "      <th>site_comparison</th>\n",
       "      <th>n_patients</th>\n",
       "    </tr>\n",
       "  </thead>\n",
       "  <tbody>\n",
       "    <tr>\n",
       "      <th>0</th>\n",
       "      <td>k__Bacteria;p__;c__;o__;f__;g__;s__;d__denovo364</td>\n",
       "      <td>0.27</td>\n",
       "      <td>all_patients</td>\n",
       "      <td>all_patients</td>\n",
       "      <td>bal-gastric_fluid</td>\n",
       "      <td>100</td>\n",
       "    </tr>\n",
       "    <tr>\n",
       "      <th>1</th>\n",
       "      <td>k__Bacteria;p__Actinobacteria;c__Actinobacteri...</td>\n",
       "      <td>0.26</td>\n",
       "      <td>all_patients</td>\n",
       "      <td>all_patients</td>\n",
       "      <td>bal-gastric_fluid</td>\n",
       "      <td>100</td>\n",
       "    </tr>\n",
       "    <tr>\n",
       "      <th>2</th>\n",
       "      <td>k__Bacteria;p__Actinobacteria;c__Actinobacteri...</td>\n",
       "      <td>0.16</td>\n",
       "      <td>all_patients</td>\n",
       "      <td>all_patients</td>\n",
       "      <td>bal-gastric_fluid</td>\n",
       "      <td>100</td>\n",
       "    </tr>\n",
       "    <tr>\n",
       "      <th>3</th>\n",
       "      <td>k__Bacteria;p__Actinobacteria;c__Actinobacteri...</td>\n",
       "      <td>0.43</td>\n",
       "      <td>all_patients</td>\n",
       "      <td>all_patients</td>\n",
       "      <td>bal-gastric_fluid</td>\n",
       "      <td>100</td>\n",
       "    </tr>\n",
       "    <tr>\n",
       "      <th>4</th>\n",
       "      <td>k__Bacteria;p__Actinobacteria;c__Actinobacteri...</td>\n",
       "      <td>0.20</td>\n",
       "      <td>all_patients</td>\n",
       "      <td>all_patients</td>\n",
       "      <td>bal-gastric_fluid</td>\n",
       "      <td>100</td>\n",
       "    </tr>\n",
       "  </tbody>\n",
       "</table>\n",
       "</div>"
      ],
      "text/plain": [
       "                                                 otu  prevalence_exchange  \\\n",
       "0   k__Bacteria;p__;c__;o__;f__;g__;s__;d__denovo364                 0.27   \n",
       "1  k__Bacteria;p__Actinobacteria;c__Actinobacteri...                 0.26   \n",
       "2  k__Bacteria;p__Actinobacteria;c__Actinobacteri...                 0.16   \n",
       "3  k__Bacteria;p__Actinobacteria;c__Actinobacteri...                 0.43   \n",
       "4  k__Bacteria;p__Actinobacteria;c__Actinobacteri...                 0.20   \n",
       "\n",
       "       meta_var      meta_val    site_comparison  n_patients  \n",
       "0  all_patients  all_patients  bal-gastric_fluid         100  \n",
       "1  all_patients  all_patients  bal-gastric_fluid         100  \n",
       "2  all_patients  all_patients  bal-gastric_fluid         100  \n",
       "3  all_patients  all_patients  bal-gastric_fluid         100  \n",
       "4  all_patients  all_patients  bal-gastric_fluid         100  "
      ]
     },
     "execution_count": 6,
     "metadata": {},
     "output_type": "execute_result"
    }
   ],
   "source": [
    "preva.head()"
   ]
  },
  {
   "cell_type": "code",
   "execution_count": 9,
   "metadata": {
    "collapsed": false
   },
   "outputs": [
    {
     "data": {
      "text/html": [
       "<div>\n",
       "<style scoped>\n",
       "    .dataframe tbody tr th:only-of-type {\n",
       "        vertical-align: middle;\n",
       "    }\n",
       "\n",
       "    .dataframe tbody tr th {\n",
       "        vertical-align: top;\n",
       "    }\n",
       "\n",
       "    .dataframe thead th {\n",
       "        text-align: right;\n",
       "    }\n",
       "</style>\n",
       "<table border=\"1\" class=\"dataframe\">\n",
       "  <thead>\n",
       "    <tr style=\"text-align: right;\">\n",
       "      <th></th>\n",
       "      <th>n_patients</th>\n",
       "    </tr>\n",
       "    <tr>\n",
       "      <th>site_comparison</th>\n",
       "      <th></th>\n",
       "    </tr>\n",
       "  </thead>\n",
       "  <tbody>\n",
       "    <tr>\n",
       "      <th>bal-gastric_fluid</th>\n",
       "      <td>100</td>\n",
       "    </tr>\n",
       "    <tr>\n",
       "      <th>bal-throat_swab</th>\n",
       "      <td>79</td>\n",
       "    </tr>\n",
       "    <tr>\n",
       "      <th>gastric_fluid-throat_swab</th>\n",
       "      <td>122</td>\n",
       "    </tr>\n",
       "  </tbody>\n",
       "</table>\n",
       "</div>"
      ],
      "text/plain": [
       "                           n_patients\n",
       "site_comparison                      \n",
       "bal-gastric_fluid                 100\n",
       "bal-throat_swab                    79\n",
       "gastric_fluid-throat_swab         122"
      ]
     },
     "execution_count": 9,
     "metadata": {},
     "output_type": "execute_result"
    }
   ],
   "source": [
    "newpreva[['site_comparison', 'n_patients']].drop_duplicates().groupby('site_comparison').max()"
   ]
  },
  {
   "cell_type": "code",
   "execution_count": 10,
   "metadata": {
    "collapsed": false
   },
   "outputs": [
    {
     "data": {
      "text/html": [
       "<div>\n",
       "<style scoped>\n",
       "    .dataframe tbody tr th:only-of-type {\n",
       "        vertical-align: middle;\n",
       "    }\n",
       "\n",
       "    .dataframe tbody tr th {\n",
       "        vertical-align: top;\n",
       "    }\n",
       "\n",
       "    .dataframe thead th {\n",
       "        text-align: right;\n",
       "    }\n",
       "</style>\n",
       "<table border=\"1\" class=\"dataframe\">\n",
       "  <thead>\n",
       "    <tr style=\"text-align: right;\">\n",
       "      <th></th>\n",
       "      <th>n_patients</th>\n",
       "    </tr>\n",
       "    <tr>\n",
       "      <th>site_comparison</th>\n",
       "      <th></th>\n",
       "    </tr>\n",
       "  </thead>\n",
       "  <tbody>\n",
       "    <tr>\n",
       "      <th>bal-gastric_fluid</th>\n",
       "      <td>122</td>\n",
       "    </tr>\n",
       "    <tr>\n",
       "      <th>bal-throat_swab</th>\n",
       "      <td>94</td>\n",
       "    </tr>\n",
       "    <tr>\n",
       "      <th>gastric_fluid-throat_swab</th>\n",
       "      <td>131</td>\n",
       "    </tr>\n",
       "  </tbody>\n",
       "</table>\n",
       "</div>"
      ],
      "text/plain": [
       "                           n_patients\n",
       "site_comparison                      \n",
       "bal-gastric_fluid                 122\n",
       "bal-throat_swab                    94\n",
       "gastric_fluid-throat_swab         131"
      ]
     },
     "execution_count": 10,
     "metadata": {},
     "output_type": "execute_result"
    }
   ],
   "source": [
    "oldpreva[['site_comparison', 'n_patients']].drop_duplicates().groupby('site_comparison').max()"
   ]
  },
  {
   "cell_type": "code",
   "execution_count": null,
   "metadata": {
    "collapsed": true
   },
   "outputs": [],
   "source": []
  }
 ],
 "metadata": {
  "kernelspec": {
   "display_name": "Python [default]",
   "language": "python",
   "name": "python2"
  },
  "language_info": {
   "codemirror_mode": {
    "name": "ipython",
    "version": 2
   },
   "file_extension": ".py",
   "mimetype": "text/x-python",
   "name": "python",
   "nbconvert_exporter": "python",
   "pygments_lexer": "ipython2",
   "version": "2.7.12"
  }
 },
 "nbformat": 4,
 "nbformat_minor": 2
}
