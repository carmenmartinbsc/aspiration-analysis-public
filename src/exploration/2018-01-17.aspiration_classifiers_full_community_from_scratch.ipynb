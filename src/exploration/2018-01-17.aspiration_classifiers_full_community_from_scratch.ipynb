{
 "cells": [
  {
   "cell_type": "markdown",
   "metadata": {},
   "source": [
    "This notebook builds classifiers to distinguish aspirators from non-aspirators using different microbial communities (including combinations)."
   ]
  },
  {
   "cell_type": "code",
   "execution_count": 64,
   "metadata": {
    "collapsed": true
   },
   "outputs": [],
   "source": [
    "import pandas as pd\n",
    "import numpy as np\n",
    "\n",
    "from sklearn.ensemble import RandomForestClassifier\n",
    "from scipy.stats import fisher_exact\n",
    "\n",
    "from IPython.display import display\n",
    "\n",
    "import matplotlib.pyplot as plt\n",
    "import seaborn as sns\n",
    "%matplotlib inline"
   ]
  },
  {
   "cell_type": "code",
   "execution_count": 65,
   "metadata": {
    "collapsed": false
   },
   "outputs": [],
   "source": [
    "import os, sys\n",
    "src_dir = os.path.normpath(os.path.join(os.getcwd(), '../util'))\n",
    "sys.path.append(src_dir)\n",
    "import util"
   ]
  },
  {
   "cell_type": "code",
   "execution_count": 66,
   "metadata": {
    "collapsed": true
   },
   "outputs": [],
   "source": [
    "fotu = '../../data/clean/rosen.otu_table.rel_abun.clean'\n",
    "fmeta = '../../data/clean/rosen.metadata.clean'\n",
    "\n",
    "df = pd.read_csv(fotu, sep='\\t', index_col=0)\n",
    "meta = pd.read_csv(fmeta, sep='\\t', index_col=0)"
   ]
  },
  {
   "cell_type": "code",
   "execution_count": 67,
   "metadata": {
    "collapsed": false
   },
   "outputs": [
    {
     "data": {
      "text/plain": [
       "1"
      ]
     },
     "execution_count": 67,
     "metadata": {},
     "output_type": "execute_result"
    }
   ],
   "source": [
    "mbs_col = 'mbs_consolidated'\n",
    "\n",
    "# Check that each aspiration patient has only one sample per site\n",
    "meta.dropna(subset=[mbs_col]).groupby(['subject_id', 'site']).size().max()"
   ]
  },
  {
   "cell_type": "code",
   "execution_count": 68,
   "metadata": {
    "collapsed": false
   },
   "outputs": [
    {
     "name": "stdout",
     "output_type": "stream",
     "text": [
      "Tidying data... \n",
      "Finished.\n"
     ]
    },
    {
     "data": {
      "text/html": [
       "<div>\n",
       "<style scoped>\n",
       "    .dataframe tbody tr th:only-of-type {\n",
       "        vertical-align: middle;\n",
       "    }\n",
       "\n",
       "    .dataframe tbody tr th {\n",
       "        vertical-align: top;\n",
       "    }\n",
       "\n",
       "    .dataframe thead th {\n",
       "        text-align: right;\n",
       "    }\n",
       "</style>\n",
       "<table border=\"1\" class=\"dataframe\">\n",
       "  <thead>\n",
       "    <tr style=\"text-align: right;\">\n",
       "      <th></th>\n",
       "      <th>sample</th>\n",
       "      <th>otu</th>\n",
       "      <th>abun</th>\n",
       "      <th>mbs_consolidated</th>\n",
       "      <th>site</th>\n",
       "      <th>subject_id</th>\n",
       "      <th>ppi_consolidated</th>\n",
       "      <th>otu_w_site</th>\n",
       "    </tr>\n",
       "  </thead>\n",
       "  <tbody>\n",
       "    <tr>\n",
       "      <th>35</th>\n",
       "      <td>02-096-6G</td>\n",
       "      <td>k__Bacteria;p__Firmicutes;c__Negativicutes;o__...</td>\n",
       "      <td>0.0</td>\n",
       "      <td>Normal</td>\n",
       "      <td>gastric_fluid</td>\n",
       "      <td>02-096-6</td>\n",
       "      <td>off</td>\n",
       "      <td>k__Bacteria;p__Firmicutes;c__Negativicutes;o__...</td>\n",
       "    </tr>\n",
       "    <tr>\n",
       "      <th>621</th>\n",
       "      <td>02-096-6G</td>\n",
       "      <td>k__Bacteria;p__Firmicutes;c__Clostridia;o__Clo...</td>\n",
       "      <td>0.0</td>\n",
       "      <td>Normal</td>\n",
       "      <td>gastric_fluid</td>\n",
       "      <td>02-096-6</td>\n",
       "      <td>off</td>\n",
       "      <td>k__Bacteria;p__Firmicutes;c__Clostridia;o__Clo...</td>\n",
       "    </tr>\n",
       "    <tr>\n",
       "      <th>1207</th>\n",
       "      <td>02-096-6G</td>\n",
       "      <td>k__Bacteria;p__Firmicutes;c__Clostridia;o__Clo...</td>\n",
       "      <td>0.0</td>\n",
       "      <td>Normal</td>\n",
       "      <td>gastric_fluid</td>\n",
       "      <td>02-096-6</td>\n",
       "      <td>off</td>\n",
       "      <td>k__Bacteria;p__Firmicutes;c__Clostridia;o__Clo...</td>\n",
       "    </tr>\n",
       "    <tr>\n",
       "      <th>1793</th>\n",
       "      <td>02-096-6G</td>\n",
       "      <td>k__Bacteria;p__Actinobacteria;c__Actinobacteri...</td>\n",
       "      <td>0.0</td>\n",
       "      <td>Normal</td>\n",
       "      <td>gastric_fluid</td>\n",
       "      <td>02-096-6</td>\n",
       "      <td>off</td>\n",
       "      <td>k__Bacteria;p__Actinobacteria;c__Actinobacteri...</td>\n",
       "    </tr>\n",
       "    <tr>\n",
       "      <th>2379</th>\n",
       "      <td>02-096-6G</td>\n",
       "      <td>k__Bacteria;p__Firmicutes;c__Clostridia;o__Clo...</td>\n",
       "      <td>0.0</td>\n",
       "      <td>Normal</td>\n",
       "      <td>gastric_fluid</td>\n",
       "      <td>02-096-6</td>\n",
       "      <td>off</td>\n",
       "      <td>k__Bacteria;p__Firmicutes;c__Clostridia;o__Clo...</td>\n",
       "    </tr>\n",
       "  </tbody>\n",
       "</table>\n",
       "</div>"
      ],
      "text/plain": [
       "         sample                                                otu  abun  \\\n",
       "35    02-096-6G  k__Bacteria;p__Firmicutes;c__Negativicutes;o__...   0.0   \n",
       "621   02-096-6G  k__Bacteria;p__Firmicutes;c__Clostridia;o__Clo...   0.0   \n",
       "1207  02-096-6G  k__Bacteria;p__Firmicutes;c__Clostridia;o__Clo...   0.0   \n",
       "1793  02-096-6G  k__Bacteria;p__Actinobacteria;c__Actinobacteri...   0.0   \n",
       "2379  02-096-6G  k__Bacteria;p__Firmicutes;c__Clostridia;o__Clo...   0.0   \n",
       "\n",
       "     mbs_consolidated           site subject_id ppi_consolidated  \\\n",
       "35             Normal  gastric_fluid   02-096-6              off   \n",
       "621            Normal  gastric_fluid   02-096-6              off   \n",
       "1207           Normal  gastric_fluid   02-096-6              off   \n",
       "1793           Normal  gastric_fluid   02-096-6              off   \n",
       "2379           Normal  gastric_fluid   02-096-6              off   \n",
       "\n",
       "                                             otu_w_site  \n",
       "35    k__Bacteria;p__Firmicutes;c__Negativicutes;o__...  \n",
       "621   k__Bacteria;p__Firmicutes;c__Clostridia;o__Clo...  \n",
       "1207  k__Bacteria;p__Firmicutes;c__Clostridia;o__Clo...  \n",
       "1793  k__Bacteria;p__Actinobacteria;c__Actinobacteri...  \n",
       "2379  k__Bacteria;p__Firmicutes;c__Clostridia;o__Clo...  "
      ]
     },
     "execution_count": 68,
     "metadata": {},
     "output_type": "execute_result"
    }
   ],
   "source": [
    "meta = meta.dropna(subset=[mbs_col])\n",
    "tidydf = util.tidyfy_otu(df, meta, mbs_col, cols=['ppi_consolidated'])\n",
    "tidydf['ppi_consolidated'] = tidydf['ppi_consolidated'].fillna('nan')\n",
    "tidydf.head()"
   ]
  },
  {
   "cell_type": "code",
   "execution_count": 69,
   "metadata": {
    "collapsed": false
   },
   "outputs": [
    {
     "data": {
      "text/plain": [
       "['bal', 'gastric_fluid', 'throat_swab']"
      ]
     },
     "execution_count": 69,
     "metadata": {},
     "output_type": "execute_result"
    }
   ],
   "source": [
    "# Define some global variables\n",
    "random_state = 12345\n",
    "nml = 'Normal'\n",
    "asp = 'Aspiration/Penetration'\n",
    "aspdict = {'Normal': 0, 'Aspiration/Penetration': 1}\n",
    "sites = util.get_sites()\n",
    "sites"
   ]
  },
  {
   "cell_type": "markdown",
   "metadata": {},
   "source": [
    "# Single-site classifiers\n",
    "\n",
    "These classifiers are trained using only one community per patient."
   ]
  },
  {
   "cell_type": "code",
   "execution_count": 70,
   "metadata": {
    "collapsed": false
   },
   "outputs": [],
   "source": [
    "def single_site_classifier(s):\n",
    "    \"\"\"\n",
    "    Make classifier based on site s.\n",
    "\n",
    "    Global variables used are: meta, df (OTU table), aspdict, and random_state.\n",
    "    \"\"\"\n",
    "    h_smpls = meta\\\n",
    "        .query('mbs_consolidated == @nml')\\\n",
    "        .query('site == @s')\\\n",
    "        .index.tolist()\n",
    "    asp_smpls = meta\\\n",
    "        .query('mbs_consolidated == @asp')\\\n",
    "        .query('site == @s')\\\n",
    "        .index.tolist()\n",
    "\n",
    "    X = df.loc[h_smpls + asp_smpls, :]\n",
    "    Y = [aspdict[meta.loc[i, 'mbs_consolidated']] for i in X.index]\n",
    "    X = X.values\n",
    "\n",
    "    rf = RandomForestClassifier(n_estimators=1000, random_state=random_state)\n",
    "\n",
    "    results = util.cv_and_roc(rf, X, Y, random_state=random_state)\n",
    "\n",
    "    # Print results\n",
    "    print('N non-asp = {}, N asp = {}'.format(len(h_smpls), len(asp_smpls)))\n",
    "    print('AUC = {}'.format(np.mean(results['auc_list'])))\n",
    "    util.plot_auc_from_list(results['tpr_list'], results['mean_fpr'])\n",
    "    print('Fisher results : {}'.format(fisher_exact(results['conf_mat'])))\n",
    "    display(results['conf_mat'])"
   ]
  },
  {
   "cell_type": "code",
   "execution_count": 71,
   "metadata": {
    "collapsed": false
   },
   "outputs": [
    {
     "name": "stdout",
     "output_type": "stream",
     "text": [
      "N non-asp = 36, N asp = 33\n",
      "AUC = 0.65612244898\n",
      "Fisher results : (2.4175824175824174, 0.093454101727910133)\n"
     ]
    },
    {
     "data": {
      "text/html": [
       "<div>\n",
       "<style scoped>\n",
       "    .dataframe tbody tr th:only-of-type {\n",
       "        vertical-align: middle;\n",
       "    }\n",
       "\n",
       "    .dataframe tbody tr th {\n",
       "        vertical-align: top;\n",
       "    }\n",
       "\n",
       "    .dataframe thead th {\n",
       "        text-align: right;\n",
       "    }\n",
       "</style>\n",
       "<table border=\"1\" class=\"dataframe\">\n",
       "  <thead>\n",
       "    <tr style=\"text-align: right;\">\n",
       "      <th></th>\n",
       "      <th>pred 0</th>\n",
       "      <th>pred 1</th>\n",
       "    </tr>\n",
       "  </thead>\n",
       "  <tbody>\n",
       "    <tr>\n",
       "      <th>true 0</th>\n",
       "      <td>22</td>\n",
       "      <td>14</td>\n",
       "    </tr>\n",
       "    <tr>\n",
       "      <th>true 1</th>\n",
       "      <td>13</td>\n",
       "      <td>20</td>\n",
       "    </tr>\n",
       "  </tbody>\n",
       "</table>\n",
       "</div>"
      ],
      "text/plain": [
       "        pred 0  pred 1\n",
       "true 0      22      14\n",
       "true 1      13      20"
      ]
     },
     "metadata": {},
     "output_type": "display_data"
    },
    {
     "data": {
      "image/png": "[encoded data removed]",
      "text/plain": [
       "<matplotlib.figure.Figure at 0x1169f8350>"
      ]
     },
     "metadata": {},
     "output_type": "display_data"
    }
   ],
   "source": [
    "s = 'bal'\n",
    "single_site_classifier(s)"
   ]
  },
  {
   "cell_type": "code",
   "execution_count": 72,
   "metadata": {
    "collapsed": false
   },
   "outputs": [
    {
     "name": "stdout",
     "output_type": "stream",
     "text": [
      "N non-asp = 52, N asp = 42\n",
      "AUC = 0.682171717172\n",
      "Fisher results : (3.3333333333333335, 0.0090536020308857063)\n"
     ]
    },
    {
     "data": {
      "text/html": [
       "<div>\n",
       "<style scoped>\n",
       "    .dataframe tbody tr th:only-of-type {\n",
       "        vertical-align: middle;\n",
       "    }\n",
       "\n",
       "    .dataframe tbody tr th {\n",
       "        vertical-align: top;\n",
       "    }\n",
       "\n",
       "    .dataframe thead th {\n",
       "        text-align: right;\n",
       "    }\n",
       "</style>\n",
       "<table border=\"1\" class=\"dataframe\">\n",
       "  <thead>\n",
       "    <tr style=\"text-align: right;\">\n",
       "      <th></th>\n",
       "      <th>pred 0</th>\n",
       "      <th>pred 1</th>\n",
       "    </tr>\n",
       "  </thead>\n",
       "  <tbody>\n",
       "    <tr>\n",
       "      <th>true 0</th>\n",
       "      <td>40</td>\n",
       "      <td>12</td>\n",
       "    </tr>\n",
       "    <tr>\n",
       "      <th>true 1</th>\n",
       "      <td>21</td>\n",
       "      <td>21</td>\n",
       "    </tr>\n",
       "  </tbody>\n",
       "</table>\n",
       "</div>"
      ],
      "text/plain": [
       "        pred 0  pred 1\n",
       "true 0      40      12\n",
       "true 1      21      21"
      ]
     },
     "metadata": {},
     "output_type": "display_data"
    },
    {
     "data": {
      "image/png": "[encoded data removed]",
      "text/plain": [
       "<matplotlib.figure.Figure at 0x11441a450>"
      ]
     },
     "metadata": {},
     "output_type": "display_data"
    }
   ],
   "source": [
    "s = 'gastric_fluid'\n",
    "single_site_classifier(s)"
   ]
  },
  {
   "cell_type": "code",
   "execution_count": 73,
   "metadata": {
    "collapsed": false
   },
   "outputs": [
    {
     "name": "stdout",
     "output_type": "stream",
     "text": [
      "N non-asp = 46, N asp = 38\n",
      "AUC = 0.669761904762\n",
      "Fisher results : (2.1000000000000001, 0.15048048030485922)\n"
     ]
    },
    {
     "data": {
      "text/html": [
       "<div>\n",
       "<style scoped>\n",
       "    .dataframe tbody tr th:only-of-type {\n",
       "        vertical-align: middle;\n",
       "    }\n",
       "\n",
       "    .dataframe tbody tr th {\n",
       "        vertical-align: top;\n",
       "    }\n",
       "\n",
       "    .dataframe thead th {\n",
       "        text-align: right;\n",
       "    }\n",
       "</style>\n",
       "<table border=\"1\" class=\"dataframe\">\n",
       "  <thead>\n",
       "    <tr style=\"text-align: right;\">\n",
       "      <th></th>\n",
       "      <th>pred 0</th>\n",
       "      <th>pred 1</th>\n",
       "    </tr>\n",
       "  </thead>\n",
       "  <tbody>\n",
       "    <tr>\n",
       "      <th>true 0</th>\n",
       "      <td>36</td>\n",
       "      <td>10</td>\n",
       "    </tr>\n",
       "    <tr>\n",
       "      <th>true 1</th>\n",
       "      <td>24</td>\n",
       "      <td>14</td>\n",
       "    </tr>\n",
       "  </tbody>\n",
       "</table>\n",
       "</div>"
      ],
      "text/plain": [
       "        pred 0  pred 1\n",
       "true 0      36      10\n",
       "true 1      24      14"
      ]
     },
     "metadata": {},
     "output_type": "display_data"
    },
    {
     "data": {
      "image/png": "[encoded data removed]",
      "text/plain": [
       "<matplotlib.figure.Figure at 0x112792bd0>"
      ]
     },
     "metadata": {},
     "output_type": "display_data"
    }
   ],
   "source": [
    "s = 'throat_swab'\n",
    "single_site_classifier(s)"
   ]
  },
  {
   "cell_type": "markdown",
   "metadata": {},
   "source": [
    "# Two-site classifiers\n",
    "\n",
    "These classifiers are trained using two sites per patient."
   ]
  },
  {
   "cell_type": "code",
   "execution_count": 74,
   "metadata": {
    "collapsed": true
   },
   "outputs": [],
   "source": [
    "def make_combined_site_df(tidydf, sites, mbs_col):\n",
    "    \"\"\"\n",
    "    Return a wide-form dataframe with data from all sites.\n",
    "    \n",
    "    Drops any rows with NaNs (i.e. subjects which are missing\n",
    "    one of the sites). Also drops any subjects without mbs_col\n",
    "    metadata.\n",
    "    \n",
    "    Parameters\n",
    "    ----------\n",
    "    tidydf : pandas DataFrame\n",
    "        'subject_id', 'site', and 'otu_w_site' columns\n",
    "    sites : list\n",
    "        list of sites to keep\n",
    "    \"\"\"\n",
    "        \n",
    "    tmpotu = tidydf.query('site == @sites')\\\n",
    "            .dropna(subset=[mbs_col])\\\n",
    "            .pivot(index='subject_id', columns='otu_w_site',\n",
    "                   values='abun')\\\n",
    "            .dropna(axis=0)\n",
    "\n",
    "    return tmpotu\n",
    "\n",
    "def multi_site_classifier(tidydf, sites):\n",
    "    \"\"\"\n",
    "    Make a multi-site classifiers.\n",
    "    \n",
    "    First makes a datafarme with has subject IDs in rows\n",
    "    and OTUs in columns. OTUs are labeled by which site\n",
    "    they were in (e.g. k__Bacteria;...;d__denovo123-bal and \n",
    "    k__Bacteria;...;d__denovo123-gastric_fluid are separate columns).\n",
    "    \n",
    "    tidydf has columns 'subject_id' and 'mbs_consolidated'\n",
    "    \n",
    "    sites is a list of sites to consider\n",
    "    \n",
    "    Global variables used: meta (with column 'subject_id'), aspdict, random_state, mbs_col\n",
    "    \"\"\"\n",
    "    \n",
    "    df = make_combined_site_df(tidydf, sites, mbs_col)\n",
    "    \n",
    "    subjects = df.index.tolist()\n",
    "    \n",
    "    # Using pandas.query matches order given in subjects, which matches\n",
    "    # order in df (which becomes X)\n",
    "    mbs_info = tidydf\\\n",
    "        .query('subject_id == @subjects')\\\n",
    "        [['subject_id', 'mbs_consolidated']]\\\n",
    "        .drop_duplicates()\n",
    "        \n",
    "    Y = [aspdict[i] for i in mbs_info['mbs_consolidated']]\n",
    "    X = df.values\n",
    "    \n",
    "    \n",
    "    rf = RandomForestClassifier(n_estimators=1000, random_state=random_state)\n",
    "\n",
    "    results = util.cv_and_roc(rf, X, Y, random_state=random_state)\n",
    "\n",
    "    # Print results\n",
    "    print(mbs_info.groupby('mbs_consolidated').size())\n",
    "    print('AUC = {}'.format(np.mean(results['auc_list'])))\n",
    "    util.plot_auc_from_list(results['tpr_list'], results['mean_fpr'])\n",
    "    print('Fisher results : {}'.format(fisher_exact(results['conf_mat'])))\n",
    "    display(results['conf_mat'])"
   ]
  },
  {
   "cell_type": "code",
   "execution_count": 75,
   "metadata": {
    "collapsed": false
   },
   "outputs": [
    {
     "name": "stdout",
     "output_type": "stream",
     "text": [
      "bal, throat_swab\n",
      "mbs_consolidated\n",
      "Aspiration/Penetration    25\n",
      "Normal                    24\n",
      "dtype: int64\n",
      "AUC = 0.816\n",
      "Fisher results : (5.2777777777777777, 0.0095950485875508917)\n"
     ]
    },
    {
     "data": {
      "text/html": [
       "<div>\n",
       "<style scoped>\n",
       "    .dataframe tbody tr th:only-of-type {\n",
       "        vertical-align: middle;\n",
       "    }\n",
       "\n",
       "    .dataframe tbody tr th {\n",
       "        vertical-align: top;\n",
       "    }\n",
       "\n",
       "    .dataframe thead th {\n",
       "        text-align: right;\n",
       "    }\n",
       "</style>\n",
       "<table border=\"1\" class=\"dataframe\">\n",
       "  <thead>\n",
       "    <tr style=\"text-align: right;\">\n",
       "      <th></th>\n",
       "      <th>pred 0</th>\n",
       "      <th>pred 1</th>\n",
       "    </tr>\n",
       "  </thead>\n",
       "  <tbody>\n",
       "    <tr>\n",
       "      <th>true 0</th>\n",
       "      <td>15</td>\n",
       "      <td>9</td>\n",
       "    </tr>\n",
       "    <tr>\n",
       "      <th>true 1</th>\n",
       "      <td>6</td>\n",
       "      <td>19</td>\n",
       "    </tr>\n",
       "  </tbody>\n",
       "</table>\n",
       "</div>"
      ],
      "text/plain": [
       "        pred 0  pred 1\n",
       "true 0      15       9\n",
       "true 1       6      19"
      ]
     },
     "metadata": {},
     "output_type": "display_data"
    },
    {
     "data": {
      "image/png": "[encoded data removed]",
      "text/plain": [
       "<matplotlib.figure.Figure at 0x132d0f410>"
      ]
     },
     "metadata": {},
     "output_type": "display_data"
    }
   ],
   "source": [
    "twosites = ['bal', 'throat_swab']\n",
    "print(', '.join(twosites))\n",
    "multi_site_classifier(tidydf, twosites)"
   ]
  },
  {
   "cell_type": "code",
   "execution_count": 76,
   "metadata": {
    "collapsed": false
   },
   "outputs": [
    {
     "name": "stdout",
     "output_type": "stream",
     "text": [
      "bal, gastric_fluid\n",
      "mbs_consolidated\n",
      "Aspiration/Penetration    29\n",
      "Normal                    30\n",
      "dtype: int64\n",
      "AUC = 0.697222222222\n",
      "Fisher results : (3.7999999999999998, 0.01938318826179003)\n"
     ]
    },
    {
     "data": {
      "text/html": [
       "<div>\n",
       "<style scoped>\n",
       "    .dataframe tbody tr th:only-of-type {\n",
       "        vertical-align: middle;\n",
       "    }\n",
       "\n",
       "    .dataframe tbody tr th {\n",
       "        vertical-align: top;\n",
       "    }\n",
       "\n",
       "    .dataframe thead th {\n",
       "        text-align: right;\n",
       "    }\n",
       "</style>\n",
       "<table border=\"1\" class=\"dataframe\">\n",
       "  <thead>\n",
       "    <tr style=\"text-align: right;\">\n",
       "      <th></th>\n",
       "      <th>pred 0</th>\n",
       "      <th>pred 1</th>\n",
       "    </tr>\n",
       "  </thead>\n",
       "  <tbody>\n",
       "    <tr>\n",
       "      <th>true 0</th>\n",
       "      <td>20</td>\n",
       "      <td>10</td>\n",
       "    </tr>\n",
       "    <tr>\n",
       "      <th>true 1</th>\n",
       "      <td>10</td>\n",
       "      <td>19</td>\n",
       "    </tr>\n",
       "  </tbody>\n",
       "</table>\n",
       "</div>"
      ],
      "text/plain": [
       "        pred 0  pred 1\n",
       "true 0      20      10\n",
       "true 1      10      19"
      ]
     },
     "metadata": {},
     "output_type": "display_data"
    },
    {
     "data": {
      "image/png": "[encoded data removed]",
      "text/plain": [
       "<matplotlib.figure.Figure at 0x12dca25d0>"
      ]
     },
     "metadata": {},
     "output_type": "display_data"
    }
   ],
   "source": [
    "twosites = ['bal', 'gastric_fluid']\n",
    "print(', '.join(twosites))\n",
    "multi_site_classifier(tidydf, twosites)"
   ]
  },
  {
   "cell_type": "code",
   "execution_count": 77,
   "metadata": {
    "collapsed": false
   },
   "outputs": [
    {
     "name": "stdout",
     "output_type": "stream",
     "text": [
      "throat_swab, gastric_fluid\n",
      "mbs_consolidated\n",
      "Aspiration/Penetration    33\n",
      "Normal                    36\n",
      "dtype: int64\n",
      "AUC = 0.752465986395\n",
      "Fisher results : (5.384615384615385, 0.0015215310681511674)\n"
     ]
    },
    {
     "data": {
      "text/html": [
       "<div>\n",
       "<style scoped>\n",
       "    .dataframe tbody tr th:only-of-type {\n",
       "        vertical-align: middle;\n",
       "    }\n",
       "\n",
       "    .dataframe tbody tr th {\n",
       "        vertical-align: top;\n",
       "    }\n",
       "\n",
       "    .dataframe thead th {\n",
       "        text-align: right;\n",
       "    }\n",
       "</style>\n",
       "<table border=\"1\" class=\"dataframe\">\n",
       "  <thead>\n",
       "    <tr style=\"text-align: right;\">\n",
       "      <th></th>\n",
       "      <th>pred 0</th>\n",
       "      <th>pred 1</th>\n",
       "    </tr>\n",
       "  </thead>\n",
       "  <tbody>\n",
       "    <tr>\n",
       "      <th>true 0</th>\n",
       "      <td>28</td>\n",
       "      <td>8</td>\n",
       "    </tr>\n",
       "    <tr>\n",
       "      <th>true 1</th>\n",
       "      <td>13</td>\n",
       "      <td>20</td>\n",
       "    </tr>\n",
       "  </tbody>\n",
       "</table>\n",
       "</div>"
      ],
      "text/plain": [
       "        pred 0  pred 1\n",
       "true 0      28       8\n",
       "true 1      13      20"
      ]
     },
     "metadata": {},
     "output_type": "display_data"
    },
    {
     "data": {
      "image/png": "[encoded data removed]",
      "text/plain": [
       "<matplotlib.figure.Figure at 0x106992110>"
      ]
     },
     "metadata": {},
     "output_type": "display_data"
    }
   ],
   "source": [
    "twosites = ['throat_swab', 'gastric_fluid']\n",
    "print(', '.join(twosites))\n",
    "multi_site_classifier(tidydf, twosites)"
   ]
  },
  {
   "cell_type": "markdown",
   "metadata": {},
   "source": [
    "# All three sites"
   ]
  },
  {
   "cell_type": "code",
   "execution_count": 78,
   "metadata": {
    "collapsed": false
   },
   "outputs": [
    {
     "name": "stdout",
     "output_type": "stream",
     "text": [
      "bal, gastric_fluid, throat_swab\n",
      "mbs_consolidated\n",
      "Aspiration/Penetration    23\n",
      "Normal                    19\n",
      "dtype: int64\n",
      "AUC = 0.763333333333\n",
      "Fisher results : (7.9333333333333336, 0.0046071082941318217)\n"
     ]
    },
    {
     "data": {
      "text/html": [
       "<div>\n",
       "<style scoped>\n",
       "    .dataframe tbody tr th:only-of-type {\n",
       "        vertical-align: middle;\n",
       "    }\n",
       "\n",
       "    .dataframe tbody tr th {\n",
       "        vertical-align: top;\n",
       "    }\n",
       "\n",
       "    .dataframe thead th {\n",
       "        text-align: right;\n",
       "    }\n",
       "</style>\n",
       "<table border=\"1\" class=\"dataframe\">\n",
       "  <thead>\n",
       "    <tr style=\"text-align: right;\">\n",
       "      <th></th>\n",
       "      <th>pred 0</th>\n",
       "      <th>pred 1</th>\n",
       "    </tr>\n",
       "  </thead>\n",
       "  <tbody>\n",
       "    <tr>\n",
       "      <th>true 0</th>\n",
       "      <td>14</td>\n",
       "      <td>5</td>\n",
       "    </tr>\n",
       "    <tr>\n",
       "      <th>true 1</th>\n",
       "      <td>6</td>\n",
       "      <td>17</td>\n",
       "    </tr>\n",
       "  </tbody>\n",
       "</table>\n",
       "</div>"
      ],
      "text/plain": [
       "        pred 0  pred 1\n",
       "true 0      14       5\n",
       "true 1       6      17"
      ]
     },
     "metadata": {},
     "output_type": "display_data"
    },
    {
     "data": {
      "image/png": "[encoded data removed]",
      "text/plain": [
       "<matplotlib.figure.Figure at 0x1169ef6d0>"
      ]
     },
     "metadata": {},
     "output_type": "display_data"
    }
   ],
   "source": [
    "print(', '.join(sites))\n",
    "multi_site_classifier(tidydf, sites)"
   ]
  },
  {
   "cell_type": "markdown",
   "metadata": {
    "collapsed": true
   },
   "source": [
    "# Check PPI confounding\n",
    "\n",
    "For patients used in each classifier, show the confusion matrix of on/off PPI and yes/no aspiration."
   ]
  },
  {
   "cell_type": "markdown",
   "metadata": {},
   "source": [
    "## Single-site classifiers"
   ]
  },
  {
   "cell_type": "code",
   "execution_count": 79,
   "metadata": {
    "collapsed": true
   },
   "outputs": [],
   "source": [
    "from IPython.display import display\n",
    "from scipy.stats import fisher_exact\n",
    "\n",
    "def get_single_site_samples(s):\n",
    "    h_smpls = meta\\\n",
    "        .query('mbs_consolidated == @nml')\\\n",
    "        .query('site == @s')\\\n",
    "        .index.tolist()\n",
    "    asp_smpls = meta\\\n",
    "        .query('mbs_consolidated == @asp')\\\n",
    "        .query('site == @s')\\\n",
    "        .index.tolist()\n",
    "    return h_smpls + asp_smpls\n",
    "\n",
    "nml = 'Normal'\n",
    "asp = 'Aspiration/Penetration'"
   ]
  },
  {
   "cell_type": "code",
   "execution_count": 80,
   "metadata": {
    "collapsed": false
   },
   "outputs": [],
   "source": [
    "def investigate_single_site(s):\n",
    "    smpls = get_single_site_samples(s)\n",
    "    print(s)\n",
    "    confmat = pd.crosstab(\n",
    "        meta.loc[smpls, 'mbs_consolidated'], \n",
    "        meta.loc[smpls, 'ppi_consolidated'])\n",
    "    display(confmat)\n",
    "\n",
    "    print(fisher_exact(confmat.drop('conflicting', axis=1)))"
   ]
  },
  {
   "cell_type": "code",
   "execution_count": 81,
   "metadata": {
    "collapsed": false
   },
   "outputs": [
    {
     "name": "stdout",
     "output_type": "stream",
     "text": [
      "bal\n"
     ]
    },
    {
     "data": {
      "text/html": [
       "<div>\n",
       "<style scoped>\n",
       "    .dataframe tbody tr th:only-of-type {\n",
       "        vertical-align: middle;\n",
       "    }\n",
       "\n",
       "    .dataframe tbody tr th {\n",
       "        vertical-align: top;\n",
       "    }\n",
       "\n",
       "    .dataframe thead th {\n",
       "        text-align: right;\n",
       "    }\n",
       "</style>\n",
       "<table border=\"1\" class=\"dataframe\">\n",
       "  <thead>\n",
       "    <tr style=\"text-align: right;\">\n",
       "      <th>ppi_consolidated</th>\n",
       "      <th>conflicting</th>\n",
       "      <th>off</th>\n",
       "      <th>on</th>\n",
       "    </tr>\n",
       "    <tr>\n",
       "      <th>mbs_consolidated</th>\n",
       "      <th></th>\n",
       "      <th></th>\n",
       "      <th></th>\n",
       "    </tr>\n",
       "  </thead>\n",
       "  <tbody>\n",
       "    <tr>\n",
       "      <th>Aspiration/Penetration</th>\n",
       "      <td>1</td>\n",
       "      <td>16</td>\n",
       "      <td>16</td>\n",
       "    </tr>\n",
       "    <tr>\n",
       "      <th>Normal</th>\n",
       "      <td>2</td>\n",
       "      <td>11</td>\n",
       "      <td>23</td>\n",
       "    </tr>\n",
       "  </tbody>\n",
       "</table>\n",
       "</div>"
      ],
      "text/plain": [
       "ppi_consolidated        conflicting  off  on\n",
       "mbs_consolidated                            \n",
       "Aspiration/Penetration            1   16  16\n",
       "Normal                            2   11  23"
      ]
     },
     "metadata": {},
     "output_type": "display_data"
    },
    {
     "name": "stdout",
     "output_type": "stream",
     "text": [
      "(2.0909090909090908, 0.2105954920138336)\n"
     ]
    }
   ],
   "source": [
    "investigate_single_site('bal')"
   ]
  },
  {
   "cell_type": "code",
   "execution_count": 82,
   "metadata": {
    "collapsed": false
   },
   "outputs": [
    {
     "name": "stdout",
     "output_type": "stream",
     "text": [
      "gastric_fluid\n"
     ]
    },
    {
     "data": {
      "text/html": [
       "<div>\n",
       "<style scoped>\n",
       "    .dataframe tbody tr th:only-of-type {\n",
       "        vertical-align: middle;\n",
       "    }\n",
       "\n",
       "    .dataframe tbody tr th {\n",
       "        vertical-align: top;\n",
       "    }\n",
       "\n",
       "    .dataframe thead th {\n",
       "        text-align: right;\n",
       "    }\n",
       "</style>\n",
       "<table border=\"1\" class=\"dataframe\">\n",
       "  <thead>\n",
       "    <tr style=\"text-align: right;\">\n",
       "      <th>ppi_consolidated</th>\n",
       "      <th>conflicting</th>\n",
       "      <th>off</th>\n",
       "      <th>on</th>\n",
       "    </tr>\n",
       "    <tr>\n",
       "      <th>mbs_consolidated</th>\n",
       "      <th></th>\n",
       "      <th></th>\n",
       "      <th></th>\n",
       "    </tr>\n",
       "  </thead>\n",
       "  <tbody>\n",
       "    <tr>\n",
       "      <th>Aspiration/Penetration</th>\n",
       "      <td>1</td>\n",
       "      <td>19</td>\n",
       "      <td>22</td>\n",
       "    </tr>\n",
       "    <tr>\n",
       "      <th>Normal</th>\n",
       "      <td>1</td>\n",
       "      <td>22</td>\n",
       "      <td>29</td>\n",
       "    </tr>\n",
       "  </tbody>\n",
       "</table>\n",
       "</div>"
      ],
      "text/plain": [
       "ppi_consolidated        conflicting  off  on\n",
       "mbs_consolidated                            \n",
       "Aspiration/Penetration            1   19  22\n",
       "Normal                            1   22  29"
      ]
     },
     "metadata": {},
     "output_type": "display_data"
    },
    {
     "name": "stdout",
     "output_type": "stream",
     "text": [
      "(1.1384297520661157, 0.83407484281092659)\n"
     ]
    }
   ],
   "source": [
    "investigate_single_site('gastric_fluid')"
   ]
  },
  {
   "cell_type": "code",
   "execution_count": 83,
   "metadata": {
    "collapsed": false
   },
   "outputs": [
    {
     "name": "stdout",
     "output_type": "stream",
     "text": [
      "throat_swab\n"
     ]
    },
    {
     "data": {
      "text/html": [
       "<div>\n",
       "<style scoped>\n",
       "    .dataframe tbody tr th:only-of-type {\n",
       "        vertical-align: middle;\n",
       "    }\n",
       "\n",
       "    .dataframe tbody tr th {\n",
       "        vertical-align: top;\n",
       "    }\n",
       "\n",
       "    .dataframe thead th {\n",
       "        text-align: right;\n",
       "    }\n",
       "</style>\n",
       "<table border=\"1\" class=\"dataframe\">\n",
       "  <thead>\n",
       "    <tr style=\"text-align: right;\">\n",
       "      <th>ppi_consolidated</th>\n",
       "      <th>conflicting</th>\n",
       "      <th>off</th>\n",
       "      <th>on</th>\n",
       "    </tr>\n",
       "    <tr>\n",
       "      <th>mbs_consolidated</th>\n",
       "      <th></th>\n",
       "      <th></th>\n",
       "      <th></th>\n",
       "    </tr>\n",
       "  </thead>\n",
       "  <tbody>\n",
       "    <tr>\n",
       "      <th>Aspiration/Penetration</th>\n",
       "      <td>2</td>\n",
       "      <td>14</td>\n",
       "      <td>22</td>\n",
       "    </tr>\n",
       "    <tr>\n",
       "      <th>Normal</th>\n",
       "      <td>1</td>\n",
       "      <td>22</td>\n",
       "      <td>23</td>\n",
       "    </tr>\n",
       "  </tbody>\n",
       "</table>\n",
       "</div>"
      ],
      "text/plain": [
       "ppi_consolidated        conflicting  off  on\n",
       "mbs_consolidated                            \n",
       "Aspiration/Penetration            2   14  22\n",
       "Normal                            1   22  23"
      ]
     },
     "metadata": {},
     "output_type": "display_data"
    },
    {
     "name": "stdout",
     "output_type": "stream",
     "text": [
      "(0.66528925619834711, 0.49998486800531511)\n"
     ]
    }
   ],
   "source": [
    "investigate_single_site('throat_swab')"
   ]
  },
  {
   "cell_type": "markdown",
   "metadata": {},
   "source": [
    "## Two sites"
   ]
  },
  {
   "cell_type": "code",
   "execution_count": 84,
   "metadata": {
    "collapsed": true
   },
   "outputs": [],
   "source": [
    "mbs_col = 'mbs_consolidated'\n",
    "\n",
    "def get_multi_site_subjects(sites):\n",
    "    df = make_combined_site_df(tidydf, sites, mbs_col)    \n",
    "    subjects = df.index.tolist()\n",
    "    \n",
    "    return subjects\n",
    "\n",
    "def investigate_multi_site_subjects(sites):\n",
    "    print(sites)\n",
    "    \n",
    "    subjects = get_multi_site_subjects(sites)\n",
    "    \n",
    "    meta_info = tidydf\\\n",
    "        .query('subject_id == @subjects')\\\n",
    "        [['subject_id', 'mbs_consolidated', 'ppi_consolidated']]\\\n",
    "        .drop_duplicates()\n",
    "    \n",
    "    confmat = pd.crosstab(\n",
    "        meta_info['mbs_consolidated'], \n",
    "        meta_info['ppi_consolidated'])\n",
    "    \n",
    "    display(confmat)\n",
    "    \n",
    "    print(fisher_exact(confmat.drop('conflicting', axis=1)))"
   ]
  },
  {
   "cell_type": "code",
   "execution_count": 85,
   "metadata": {
    "collapsed": false
   },
   "outputs": [
    {
     "name": "stdout",
     "output_type": "stream",
     "text": [
      "['bal', 'throat_swab']\n"
     ]
    },
    {
     "data": {
      "text/html": [
       "<div>\n",
       "<style scoped>\n",
       "    .dataframe tbody tr th:only-of-type {\n",
       "        vertical-align: middle;\n",
       "    }\n",
       "\n",
       "    .dataframe tbody tr th {\n",
       "        vertical-align: top;\n",
       "    }\n",
       "\n",
       "    .dataframe thead th {\n",
       "        text-align: right;\n",
       "    }\n",
       "</style>\n",
       "<table border=\"1\" class=\"dataframe\">\n",
       "  <thead>\n",
       "    <tr style=\"text-align: right;\">\n",
       "      <th>ppi_consolidated</th>\n",
       "      <th>conflicting</th>\n",
       "      <th>off</th>\n",
       "      <th>on</th>\n",
       "    </tr>\n",
       "    <tr>\n",
       "      <th>mbs_consolidated</th>\n",
       "      <th></th>\n",
       "      <th></th>\n",
       "      <th></th>\n",
       "    </tr>\n",
       "  </thead>\n",
       "  <tbody>\n",
       "    <tr>\n",
       "      <th>Aspiration/Penetration</th>\n",
       "      <td>1</td>\n",
       "      <td>9</td>\n",
       "      <td>15</td>\n",
       "    </tr>\n",
       "    <tr>\n",
       "      <th>Normal</th>\n",
       "      <td>1</td>\n",
       "      <td>9</td>\n",
       "      <td>14</td>\n",
       "    </tr>\n",
       "  </tbody>\n",
       "</table>\n",
       "</div>"
      ],
      "text/plain": [
       "ppi_consolidated        conflicting  off  on\n",
       "mbs_consolidated                            \n",
       "Aspiration/Penetration            1    9  15\n",
       "Normal                            1    9  14"
      ]
     },
     "metadata": {},
     "output_type": "display_data"
    },
    {
     "name": "stdout",
     "output_type": "stream",
     "text": [
      "(0.93333333333333335, 1.0)\n"
     ]
    }
   ],
   "source": [
    "twosites = ['bal', 'throat_swab']\n",
    "investigate_multi_site_subjects(twosites)"
   ]
  },
  {
   "cell_type": "code",
   "execution_count": 86,
   "metadata": {
    "collapsed": false
   },
   "outputs": [
    {
     "name": "stdout",
     "output_type": "stream",
     "text": [
      "['bal', 'gastric_fluid']\n"
     ]
    },
    {
     "data": {
      "text/html": [
       "<div>\n",
       "<style scoped>\n",
       "    .dataframe tbody tr th:only-of-type {\n",
       "        vertical-align: middle;\n",
       "    }\n",
       "\n",
       "    .dataframe tbody tr th {\n",
       "        vertical-align: top;\n",
       "    }\n",
       "\n",
       "    .dataframe thead th {\n",
       "        text-align: right;\n",
       "    }\n",
       "</style>\n",
       "<table border=\"1\" class=\"dataframe\">\n",
       "  <thead>\n",
       "    <tr style=\"text-align: right;\">\n",
       "      <th>ppi_consolidated</th>\n",
       "      <th>conflicting</th>\n",
       "      <th>off</th>\n",
       "      <th>on</th>\n",
       "    </tr>\n",
       "    <tr>\n",
       "      <th>mbs_consolidated</th>\n",
       "      <th></th>\n",
       "      <th></th>\n",
       "      <th></th>\n",
       "    </tr>\n",
       "  </thead>\n",
       "  <tbody>\n",
       "    <tr>\n",
       "      <th>Aspiration/Penetration</th>\n",
       "      <td>1</td>\n",
       "      <td>14</td>\n",
       "      <td>14</td>\n",
       "    </tr>\n",
       "    <tr>\n",
       "      <th>Normal</th>\n",
       "      <td>1</td>\n",
       "      <td>10</td>\n",
       "      <td>19</td>\n",
       "    </tr>\n",
       "  </tbody>\n",
       "</table>\n",
       "</div>"
      ],
      "text/plain": [
       "ppi_consolidated        conflicting  off  on\n",
       "mbs_consolidated                            \n",
       "Aspiration/Penetration            1   14  14\n",
       "Normal                            1   10  19"
      ]
     },
     "metadata": {},
     "output_type": "display_data"
    },
    {
     "name": "stdout",
     "output_type": "stream",
     "text": [
      "(1.8999999999999999, 0.2888774436037147)\n"
     ]
    }
   ],
   "source": [
    "twosites = ['bal', 'gastric_fluid']\n",
    "investigate_multi_site_subjects(twosites)"
   ]
  },
  {
   "cell_type": "code",
   "execution_count": 87,
   "metadata": {
    "collapsed": false
   },
   "outputs": [
    {
     "name": "stdout",
     "output_type": "stream",
     "text": [
      "['throat_swab', 'gastric_fluid']\n"
     ]
    },
    {
     "data": {
      "text/html": [
       "<div>\n",
       "<style scoped>\n",
       "    .dataframe tbody tr th:only-of-type {\n",
       "        vertical-align: middle;\n",
       "    }\n",
       "\n",
       "    .dataframe tbody tr th {\n",
       "        vertical-align: top;\n",
       "    }\n",
       "\n",
       "    .dataframe thead th {\n",
       "        text-align: right;\n",
       "    }\n",
       "</style>\n",
       "<table border=\"1\" class=\"dataframe\">\n",
       "  <thead>\n",
       "    <tr style=\"text-align: right;\">\n",
       "      <th>ppi_consolidated</th>\n",
       "      <th>conflicting</th>\n",
       "      <th>off</th>\n",
       "      <th>on</th>\n",
       "    </tr>\n",
       "    <tr>\n",
       "      <th>mbs_consolidated</th>\n",
       "      <th></th>\n",
       "      <th></th>\n",
       "      <th></th>\n",
       "    </tr>\n",
       "  </thead>\n",
       "  <tbody>\n",
       "    <tr>\n",
       "      <th>Aspiration/Penetration</th>\n",
       "      <td>2</td>\n",
       "      <td>12</td>\n",
       "      <td>20</td>\n",
       "    </tr>\n",
       "    <tr>\n",
       "      <th>Normal</th>\n",
       "      <td>0</td>\n",
       "      <td>19</td>\n",
       "      <td>17</td>\n",
       "    </tr>\n",
       "  </tbody>\n",
       "</table>\n",
       "</div>"
      ],
      "text/plain": [
       "ppi_consolidated        conflicting  off  on\n",
       "mbs_consolidated                            \n",
       "Aspiration/Penetration            2   12  20\n",
       "Normal                            0   19  17"
      ]
     },
     "metadata": {},
     "output_type": "display_data"
    },
    {
     "name": "stdout",
     "output_type": "stream",
     "text": [
      "(0.5368421052631579, 0.2317635130885069)\n"
     ]
    }
   ],
   "source": [
    "twosites = ['throat_swab', 'gastric_fluid']\n",
    "investigate_multi_site_subjects(twosites)"
   ]
  },
  {
   "cell_type": "code",
   "execution_count": 88,
   "metadata": {
    "collapsed": false
   },
   "outputs": [
    {
     "name": "stdout",
     "output_type": "stream",
     "text": [
      "['bal', 'throat_swab', 'gastric_fluid']\n"
     ]
    },
    {
     "data": {
      "text/html": [
       "<div>\n",
       "<style scoped>\n",
       "    .dataframe tbody tr th:only-of-type {\n",
       "        vertical-align: middle;\n",
       "    }\n",
       "\n",
       "    .dataframe tbody tr th {\n",
       "        vertical-align: top;\n",
       "    }\n",
       "\n",
       "    .dataframe thead th {\n",
       "        text-align: right;\n",
       "    }\n",
       "</style>\n",
       "<table border=\"1\" class=\"dataframe\">\n",
       "  <thead>\n",
       "    <tr style=\"text-align: right;\">\n",
       "      <th>ppi_consolidated</th>\n",
       "      <th>conflicting</th>\n",
       "      <th>off</th>\n",
       "      <th>on</th>\n",
       "    </tr>\n",
       "    <tr>\n",
       "      <th>mbs_consolidated</th>\n",
       "      <th></th>\n",
       "      <th></th>\n",
       "      <th></th>\n",
       "    </tr>\n",
       "  </thead>\n",
       "  <tbody>\n",
       "    <tr>\n",
       "      <th>Aspiration/Penetration</th>\n",
       "      <td>1</td>\n",
       "      <td>8</td>\n",
       "      <td>14</td>\n",
       "    </tr>\n",
       "    <tr>\n",
       "      <th>Normal</th>\n",
       "      <td>0</td>\n",
       "      <td>8</td>\n",
       "      <td>11</td>\n",
       "    </tr>\n",
       "  </tbody>\n",
       "</table>\n",
       "</div>"
      ],
      "text/plain": [
       "ppi_consolidated        conflicting  off  on\n",
       "mbs_consolidated                            \n",
       "Aspiration/Penetration            1    8  14\n",
       "Normal                            0    8  11"
      ]
     },
     "metadata": {},
     "output_type": "display_data"
    },
    {
     "name": "stdout",
     "output_type": "stream",
     "text": [
      "(0.7857142857142857, 0.75684303636771089)\n"
     ]
    }
   ],
   "source": [
    "allsites = ['bal', 'throat_swab', 'gastric_fluid']\n",
    "investigate_multi_site_subjects(allsites)"
   ]
  },
  {
   "cell_type": "code",
   "execution_count": null,
   "metadata": {
    "collapsed": true
   },
   "outputs": [],
   "source": []
  }
 ],
 "metadata": {
  "anaconda-cloud": {},
  "kernelspec": {
   "display_name": "Python [default]",
   "language": "python",
   "name": "python2"
  },
  "language_info": {
   "codemirror_mode": {
    "name": "ipython",
    "version": 2
   },
   "file_extension": ".py",
   "mimetype": "text/x-python",
   "name": "python",
   "nbconvert_exporter": "python",
   "pygments_lexer": "ipython2",
   "version": "2.7.12"
  }
 },
 "nbformat": 4,
 "nbformat_minor": 2
}
