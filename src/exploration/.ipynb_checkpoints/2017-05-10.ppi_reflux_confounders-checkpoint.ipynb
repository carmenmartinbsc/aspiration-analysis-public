{
 "cells": [
  {
   "cell_type": "markdown",
   "metadata": {},
   "source": [
    "This script investigates whether our reflux correlations are confounded somehow by PPI status. The following email from Rachel (on May 1, 2017, subject \"Updates\") motivates this investigation:\n",
    "\n",
    "> Also, from the reflux perspective, the percentage of full column reflux is not affected by PPIs but the acid/nonacid component is. So the number of events needs to be taken in the context of PPI status. I think if we include those figures, we would need to look at the PPI on versus off. For example, if we say that acid reflux affects microbial exchange, we would need to asses for PPI status in those patients to see if those patients with increased exchange are on PPIs more than those with less. I would happy to discuss more by phone which may be easier but this is a really important point."
   ]
  },
  {
   "cell_type": "code",
   "execution_count": 7,
   "metadata": {
    "collapsed": true
   },
   "outputs": [],
   "source": [
    "import pandas as pd\n",
    "import matplotlib.pyplot as plt\n",
    "import seaborn as sns\n",
    "import numpy as np\n",
    "sns.set_style(\"white\")\n",
    "%matplotlib inline"
   ]
  },
  {
   "cell_type": "code",
   "execution_count": 8,
   "metadata": {
    "collapsed": true
   },
   "outputs": [],
   "source": [
    "fnotu = '/Users/claire/github/aspiration-analysis/data/clean/rosen.otu_table.clean'\n",
    "fnmeta = '/Users/claire/github/aspiration-analysis/data/clean/rosen.metadata.clean'\n",
    "\n",
    "df = pd.read_csv(fnotu, sep='\\t', index_col=0)\n",
    "meta = pd.read_csv(fnmeta, sep='\\t', index_col=0)"
   ]
  },
  {
   "cell_type": "code",
   "execution_count": 9,
   "metadata": {
    "collapsed": true
   },
   "outputs": [],
   "source": [
    "mbscol = 'mbs_consolidated'\n",
    "ppicol = 'ppi_consolidated'\n",
    "refluxcols = ['Reflux - total number of episodes',\n",
    "              'Number of acid reflux episodes',\n",
    "              'Total number of reflux episodes (acid+non-acid)',\n",
    "              'SI - Reflux', 'SSI - Reflux', 'SAP - Reflux',\n",
    "              'Number of non-acid reflux episodes',\n",
    "              'percent distal nonacid', 'percent proximal total',\n",
    "              'percent distal acid', 'percent proximal acid',\n",
    "              'percent proximal nonacid', 'percent distal total',\n",
    "              'number of full colum events/total events',\n",
    "              'Number of full column episodes']"
   ]
  },
  {
   "cell_type": "markdown",
   "metadata": {},
   "source": [
    "## Exploration/orientation to data"
   ]
  },
  {
   "cell_type": "code",
   "execution_count": 10,
   "metadata": {
    "collapsed": false
   },
   "outputs": [],
   "source": [
    "# See how many patients are in each category for the two reflux cols of interest:\n",
    "# percent proximal acid and percent distal acid\n",
    "submeta = meta[['site', 'subject_id', mbscol, ppicol] + refluxcols]\n",
    "submeta = submeta.replace('n/a', np.nan)\n",
    "\n",
    "submeta['percent_distal_acid_measured'] = submeta['percent distal acid'].notnull().astype(int)\n",
    "submeta['percent_proximal_acid_measured'] = submeta['percent proximal acid'].notnull().astype(int)"
   ]
  },
  {
   "cell_type": "code",
   "execution_count": 11,
   "metadata": {
    "collapsed": false
   },
   "outputs": [
    {
     "data": {
      "text/plain": [
       "percent_distal_acid_measured  site           mbs_consolidated        ppi_consolidated\n",
       "0                             bal            Aspiration/Penetration  off                 12\n",
       "                                                                     on                  14\n",
       "                                             Normal                  off                  5\n",
       "                                                                     on                  17\n",
       "                              gastric_fluid  Aspiration/Penetration  off                 15\n",
       "                                                                     on                  19\n",
       "                                             Normal                  off                  8\n",
       "                                                                     on                  24\n",
       "                              throat_swab    Aspiration/Penetration  off                 13\n",
       "                                                                     on                  19\n",
       "                                             Normal                  off                  8\n",
       "                                                                     on                  18\n",
       "1                             bal            Aspiration/Penetration  conflicting          1\n",
       "                                                                     off                  5\n",
       "                                                                     on                   3\n",
       "                                             Normal                  conflicting          2\n",
       "                                                                     off                 11\n",
       "                                                                     on                   9\n",
       "                              gastric_fluid  Aspiration/Penetration  conflicting          1\n",
       "                                                                     off                  6\n",
       "                                                                     on                   3\n",
       "                                             Normal                  conflicting          1\n",
       "                                                                     off                 14\n",
       "                                                                     on                   9\n",
       "                              throat_swab    Aspiration/Penetration  conflicting          2\n",
       "                                                                     off                  2\n",
       "                                                                     on                   3\n",
       "                                             Normal                  conflicting          1\n",
       "                                                                     off                 14\n",
       "                                                                     on                   6\n",
       "dtype: int64"
      ]
     },
     "execution_count": 11,
     "metadata": {},
     "output_type": "execute_result"
    }
   ],
   "source": [
    "# percent_distal_acid_measured is 0 if there is no value for percent distal acid and 1 if there is a value\n",
    "submeta.groupby(['percent_distal_acid_measured', 'site', mbscol, ppicol]).size()"
   ]
  },
  {
   "cell_type": "code",
   "execution_count": 12,
   "metadata": {
    "collapsed": false
   },
   "outputs": [
    {
     "name": "stdout",
     "output_type": "stream",
     "text": [
      "bal\n",
      "ppi_consolidated        off  on\n",
      "mbs_consolidated               \n",
      "Aspiration/Penetration    5   3\n",
      "Normal                   11   9\n",
      "(1.3636363636363635, 1.0)\n",
      "\n",
      "gastric_fluid\n",
      "ppi_consolidated        off  on\n",
      "mbs_consolidated               \n",
      "Aspiration/Penetration    6   3\n",
      "Normal                   14   9\n",
      "(1.2857142857142858, 1.0)\n",
      "\n",
      "throat_swab\n",
      "ppi_consolidated        off  on\n",
      "mbs_consolidated               \n",
      "Aspiration/Penetration    2   3\n",
      "Normal                   14   6\n",
      "(0.2857142857142857, 0.31225296442687922)\n",
      "\n"
     ]
    }
   ],
   "source": [
    "from scipy.stats import fisher_exact\n",
    "# Of the patients who have a measurement for percent_distal_acid, how many are on PPI?\n",
    "tmp = submeta.query('percent_distal_acid_measured == 1').query('ppi_consolidated != \"conflicting\"')\n",
    "\n",
    "for g, subdf in tmp.groupby('site'):\n",
    "    print(g)\n",
    "    print(pd.crosstab(subdf[mbscol], subdf[ppicol]))\n",
    "    print(fisher_exact(pd.crosstab(subdf[mbscol], subdf[ppicol])))\n",
    "    print('')"
   ]
  },
  {
   "cell_type": "markdown",
   "metadata": {},
   "source": [
    "## Results"
   ]
  },
  {
   "cell_type": "code",
   "execution_count": 13,
   "metadata": {
    "collapsed": false
   },
   "outputs": [
    {
     "name": "stderr",
     "output_type": "stream",
     "text": [
      "/Users/claire/anaconda/lib/python2.7/site-packages/IPython/core/interactiveshell.py:2717: DtypeWarning: Columns (8,9,10,11,12,13,14,15,16,19,20,24,25,26,27,28,29,30,31,32,33,34,35,36) have mixed types. Specify dtype option on import or set low_memory=False.\n",
      "  interactivity=interactivity, compiler=compiler, result=result)\n"
     ]
    },
    {
     "data": {
      "text/html": [
       "<div>\n",
       "<table border=\"1\" class=\"dataframe\">\n",
       "  <thead>\n",
       "    <tr style=\"text-align: right;\">\n",
       "      <th></th>\n",
       "      <th>sample1</th>\n",
       "      <th>sample2</th>\n",
       "      <th>jsd</th>\n",
       "      <th>site1</th>\n",
       "      <th>site2</th>\n",
       "      <th>site_comparison</th>\n",
       "      <th>patient_comp</th>\n",
       "      <th>subject</th>\n",
       "      <th>Results of MBS closest to enrollment date</th>\n",
       "      <th>Results of worst MBS</th>\n",
       "      <th>...</th>\n",
       "      <th>percent distal acid</th>\n",
       "      <th>percent proximal acid</th>\n",
       "      <th>percent proximal nonacid</th>\n",
       "      <th>percent distal total</th>\n",
       "      <th>number of full colum events/total events</th>\n",
       "      <th>Number of full column episodes</th>\n",
       "      <th>Was Bile CA detected?</th>\n",
       "      <th>Was Bile DCA detected?</th>\n",
       "      <th>Was Bile LCA detected?</th>\n",
       "      <th>Was Bile TCA detected?</th>\n",
       "    </tr>\n",
       "  </thead>\n",
       "  <tbody>\n",
       "    <tr>\n",
       "      <th>23123</th>\n",
       "      <td>02-096-6B</td>\n",
       "      <td>02-096-6G</td>\n",
       "      <td>0.645820</td>\n",
       "      <td>bal</td>\n",
       "      <td>gastric_fluid</td>\n",
       "      <td>bal_gastric</td>\n",
       "      <td>within</td>\n",
       "      <td>02-096-6</td>\n",
       "      <td>Normal</td>\n",
       "      <td>Penetration</td>\n",
       "      <td>...</td>\n",
       "      <td>0.0085</td>\n",
       "      <td>0.0038</td>\n",
       "      <td>0.0049</td>\n",
       "      <td>0.0201</td>\n",
       "      <td>0.62962962962963</td>\n",
       "      <td>34</td>\n",
       "      <td>Yes</td>\n",
       "      <td>Yes</td>\n",
       "      <td>Yes</td>\n",
       "      <td>Yes</td>\n",
       "    </tr>\n",
       "    <tr>\n",
       "      <th>23124</th>\n",
       "      <td>02-096-6B</td>\n",
       "      <td>02-096-6T</td>\n",
       "      <td>0.951694</td>\n",
       "      <td>bal</td>\n",
       "      <td>throat_swab</td>\n",
       "      <td>bal_throat</td>\n",
       "      <td>within</td>\n",
       "      <td>02-096-6</td>\n",
       "      <td>Normal</td>\n",
       "      <td>Penetration</td>\n",
       "      <td>...</td>\n",
       "      <td>0.0085</td>\n",
       "      <td>0.0038</td>\n",
       "      <td>0.0049</td>\n",
       "      <td>0.0201</td>\n",
       "      <td>0.62962962962963</td>\n",
       "      <td>34</td>\n",
       "      <td>Yes</td>\n",
       "      <td>Yes</td>\n",
       "      <td>Yes</td>\n",
       "      <td>Yes</td>\n",
       "    </tr>\n",
       "    <tr>\n",
       "      <th>23712</th>\n",
       "      <td>02-096-6G</td>\n",
       "      <td>02-096-6T</td>\n",
       "      <td>0.932289</td>\n",
       "      <td>gastric_fluid</td>\n",
       "      <td>throat_swab</td>\n",
       "      <td>throat_gastric</td>\n",
       "      <td>within</td>\n",
       "      <td>02-096-6</td>\n",
       "      <td>Normal</td>\n",
       "      <td>Penetration</td>\n",
       "      <td>...</td>\n",
       "      <td>0.0085</td>\n",
       "      <td>0.0038</td>\n",
       "      <td>0.0049</td>\n",
       "      <td>0.0201</td>\n",
       "      <td>0.62962962962963</td>\n",
       "      <td>34</td>\n",
       "      <td>Yes</td>\n",
       "      <td>Yes</td>\n",
       "      <td>Yes</td>\n",
       "      <td>Yes</td>\n",
       "    </tr>\n",
       "    <tr>\n",
       "      <th>24887</th>\n",
       "      <td>02-098-5B</td>\n",
       "      <td>02-098-5G</td>\n",
       "      <td>0.241348</td>\n",
       "      <td>bal</td>\n",
       "      <td>gastric_fluid</td>\n",
       "      <td>bal_gastric</td>\n",
       "      <td>within</td>\n",
       "      <td>02-098-5</td>\n",
       "      <td>Normal</td>\n",
       "      <td>NaN</td>\n",
       "      <td>...</td>\n",
       "      <td>0.0168569739952719</td>\n",
       "      <td>0.00941252955082742</td>\n",
       "      <td>0.0116075650118203</td>\n",
       "      <td>0.0414338061465721</td>\n",
       "      <td>0.590909090909091</td>\n",
       "      <td>39</td>\n",
       "      <td>NQ Not quantifiable</td>\n",
       "      <td>Yes</td>\n",
       "      <td>ND Not detectable</td>\n",
       "      <td>NQ Not quantifiable</td>\n",
       "    </tr>\n",
       "    <tr>\n",
       "      <th>24888</th>\n",
       "      <td>02-098-5B</td>\n",
       "      <td>02-098-5T</td>\n",
       "      <td>0.971096</td>\n",
       "      <td>bal</td>\n",
       "      <td>throat_swab</td>\n",
       "      <td>bal_throat</td>\n",
       "      <td>within</td>\n",
       "      <td>02-098-5</td>\n",
       "      <td>Normal</td>\n",
       "      <td>NaN</td>\n",
       "      <td>...</td>\n",
       "      <td>0.0168569739952719</td>\n",
       "      <td>0.00941252955082742</td>\n",
       "      <td>0.0116075650118203</td>\n",
       "      <td>0.0414338061465721</td>\n",
       "      <td>0.590909090909091</td>\n",
       "      <td>39</td>\n",
       "      <td>NQ Not quantifiable</td>\n",
       "      <td>Yes</td>\n",
       "      <td>ND Not detectable</td>\n",
       "      <td>NQ Not quantifiable</td>\n",
       "    </tr>\n",
       "  </tbody>\n",
       "</table>\n",
       "<p>5 rows × 36 columns</p>\n",
       "</div>"
      ],
      "text/plain": [
       "         sample1    sample2       jsd          site1          site2  \\\n",
       "23123  02-096-6B  02-096-6G  0.645820            bal  gastric_fluid   \n",
       "23124  02-096-6B  02-096-6T  0.951694            bal    throat_swab   \n",
       "23712  02-096-6G  02-096-6T  0.932289  gastric_fluid    throat_swab   \n",
       "24887  02-098-5B  02-098-5G  0.241348            bal  gastric_fluid   \n",
       "24888  02-098-5B  02-098-5T  0.971096            bal    throat_swab   \n",
       "\n",
       "      site_comparison patient_comp   subject  \\\n",
       "23123     bal_gastric       within  02-096-6   \n",
       "23124      bal_throat       within  02-096-6   \n",
       "23712  throat_gastric       within  02-096-6   \n",
       "24887     bal_gastric       within  02-098-5   \n",
       "24888      bal_throat       within  02-098-5   \n",
       "\n",
       "      Results of MBS closest to enrollment date Results of worst MBS  \\\n",
       "23123                                    Normal          Penetration   \n",
       "23124                                    Normal          Penetration   \n",
       "23712                                    Normal          Penetration   \n",
       "24887                                    Normal                  NaN   \n",
       "24888                                    Normal                  NaN   \n",
       "\n",
       "               ...           percent distal acid percent proximal acid  \\\n",
       "23123          ...                        0.0085                0.0038   \n",
       "23124          ...                        0.0085                0.0038   \n",
       "23712          ...                        0.0085                0.0038   \n",
       "24887          ...            0.0168569739952719   0.00941252955082742   \n",
       "24888          ...            0.0168569739952719   0.00941252955082742   \n",
       "\n",
       "      percent proximal nonacid percent distal total  \\\n",
       "23123                   0.0049               0.0201   \n",
       "23124                   0.0049               0.0201   \n",
       "23712                   0.0049               0.0201   \n",
       "24887       0.0116075650118203   0.0414338061465721   \n",
       "24888       0.0116075650118203   0.0414338061465721   \n",
       "\n",
       "      number of full colum events/total events Number of full column episodes  \\\n",
       "23123                         0.62962962962963                             34   \n",
       "23124                         0.62962962962963                             34   \n",
       "23712                         0.62962962962963                             34   \n",
       "24887                        0.590909090909091                             39   \n",
       "24888                        0.590909090909091                             39   \n",
       "\n",
       "      Was Bile CA detected? Was Bile DCA detected? Was Bile LCA detected?  \\\n",
       "23123                   Yes                    Yes                    Yes   \n",
       "23124                   Yes                    Yes                    Yes   \n",
       "23712                   Yes                    Yes                    Yes   \n",
       "24887   NQ Not quantifiable                    Yes      ND Not detectable   \n",
       "24888   NQ Not quantifiable                    Yes      ND Not detectable   \n",
       "\n",
       "      Was Bile TCA detected?  \n",
       "23123                    Yes  \n",
       "23124                    Yes  \n",
       "23712                    Yes  \n",
       "24887    NQ Not quantifiable  \n",
       "24888    NQ Not quantifiable  \n",
       "\n",
       "[5 rows x 36 columns]"
      ]
     },
     "execution_count": 13,
     "metadata": {},
     "output_type": "execute_result"
    }
   ],
   "source": [
    "# Actually, look at the JSD data directly (that's what we're using to measure correlations)\n",
    "fnjsd = '/Users/claire/github/aspiration-analysis/data/analysis/jsd.txt'\n",
    "\n",
    "jsd = pd.read_csv(fnjsd, sep='\\t').dropna(how='all', axis=1)\n",
    "jsd = jsd.query('patient_comp == \"within\"')\n",
    "jsd.dropna(subset=[mbscol]).head()"
   ]
  },
  {
   "cell_type": "code",
   "execution_count": 14,
   "metadata": {
    "collapsed": false
   },
   "outputs": [],
   "source": [
    "jsd[refluxcols] = jsd[refluxcols].replace('n/a', np.nan)\n",
    "jsd[refluxcols] = jsd[refluxcols].astype(float)\n",
    "jsd['number of full colum events/total events'] = jsd['number of full colum events/total events'].replace(1, np.nan)\n"
   ]
  },
  {
   "cell_type": "markdown",
   "metadata": {},
   "source": [
    "Of the patients with intra-site comparisons **and** reflux measurement, what's their distribution of PPI and aspiration statuses?\n",
    "\n",
    "#### percent proximal acid, aspiration status, ppi status"
   ]
  },
  {
   "cell_type": "code",
   "execution_count": 15,
   "metadata": {
    "collapsed": false
   },
   "outputs": [
    {
     "name": "stdout",
     "output_type": "stream",
     "text": [
      "bal_gastric\n",
      "ppi_consolidated        off  on\n",
      "mbs_consolidated               \n",
      "Aspiration/Penetration    5   2\n",
      "Normal                   11   8\n",
      "(1.8181818181818181, 0.66798418972332319)\n",
      "\n",
      "bal_throat\n",
      "ppi_consolidated        off  on\n",
      "mbs_consolidated               \n",
      "Aspiration/Penetration    2   3\n",
      "Normal                   11   5\n",
      "(0.30303030303030304, 0.32537225416482413)\n",
      "\n",
      "throat_gastric\n",
      "ppi_consolidated        off  on\n",
      "mbs_consolidated               \n",
      "Aspiration/Penetration    3   2\n",
      "Normal                   13   4\n",
      "(0.46153846153846156, 0.58532695374800381)\n",
      "\n"
     ]
    }
   ],
   "source": [
    "# Of the patients with intra-site comparisons, what's the distribution of PPI and aspiration statuses?\n",
    "# Are aspirators/non-aspirators more likely to be on PPIs or not?\n",
    "refluxcol = 'percent proximal acid'\n",
    "\n",
    "sitecomps = ['bal_throat', 'bal_gastric', 'throat_gastric']\n",
    "\n",
    "# There are a few ( < 3) with \"conflicting\" PPI status\n",
    "tmp = jsd.query('site_comparison == @sitecomps')\n",
    "tmp = tmp.query('ppi_consolidated != \"conflicting\"')\n",
    "tmp = tmp.dropna(subset=[refluxcol])\n",
    "\n",
    "for g, subdf in tmp.groupby('site_comparison'):\n",
    "    print(g)\n",
    "    print(pd.crosstab(subdf[mbscol], subdf[ppicol]))\n",
    "    print(fisher_exact(pd.crosstab(subdf[mbscol], subdf[ppicol])))\n",
    "    print('')"
   ]
  },
  {
   "cell_type": "markdown",
   "metadata": {},
   "source": [
    "#### percent distal acid, aspiration status, ppi status\n",
    "\n",
    "Spoiler: it's the same results as for percent proximal acid (bc it's the same patients...)"
   ]
  },
  {
   "cell_type": "code",
   "execution_count": 16,
   "metadata": {
    "collapsed": false
   },
   "outputs": [
    {
     "name": "stdout",
     "output_type": "stream",
     "text": [
      "bal_gastric\n",
      "ppi_consolidated        off  on\n",
      "mbs_consolidated               \n",
      "Aspiration/Penetration    5   2\n",
      "Normal                   11   8\n",
      "(1.8181818181818181, 0.66798418972332319)\n",
      "\n",
      "bal_throat\n",
      "ppi_consolidated        off  on\n",
      "mbs_consolidated               \n",
      "Aspiration/Penetration    2   3\n",
      "Normal                   11   5\n",
      "(0.30303030303030304, 0.32537225416482413)\n",
      "\n",
      "throat_gastric\n",
      "ppi_consolidated        off  on\n",
      "mbs_consolidated               \n",
      "Aspiration/Penetration    3   2\n",
      "Normal                   13   4\n",
      "(0.46153846153846156, 0.58532695374800381)\n",
      "\n"
     ]
    }
   ],
   "source": [
    "# Of the patients with intra-site comparisons, what's the distribution of PPI and aspiration statuses?\n",
    "# Are aspirators/non-aspirators more likely to be on PPIs or not?\n",
    "refluxcol = 'percent distal acid'\n",
    "\n",
    "sitecomps = ['bal_throat', 'bal_gastric', 'throat_gastric']\n",
    "\n",
    "# There are a few ( < 3) with \"conflicting\" PPI status\n",
    "tmp = jsd.query('site_comparison == @sitecomps')\n",
    "tmp = tmp.query('ppi_consolidated != \"conflicting\"')\n",
    "tmp = tmp.dropna(subset=[refluxcol])\n",
    "\n",
    "for g, subdf in tmp.groupby('site_comparison'):\n",
    "    print(g)\n",
    "    print(pd.crosstab(subdf[mbscol], subdf[ppicol]))\n",
    "    print(fisher_exact(pd.crosstab(subdf[mbscol], subdf[ppicol])))\n",
    "    print('')"
   ]
  },
  {
   "cell_type": "code",
   "execution_count": 17,
   "metadata": {
    "collapsed": false
   },
   "outputs": [
    {
     "data": {
      "text/html": [
       "<div>\n",
       "<table border=\"1\" class=\"dataframe\">\n",
       "  <thead>\n",
       "    <tr style=\"text-align: right;\">\n",
       "      <th></th>\n",
       "      <th>jsd</th>\n",
       "      <th>percent distal acid</th>\n",
       "      <th>mbs_consolidated</th>\n",
       "      <th>ppi_consolidated</th>\n",
       "    </tr>\n",
       "  </thead>\n",
       "  <tbody>\n",
       "    <tr>\n",
       "      <th>23123</th>\n",
       "      <td>0.645820</td>\n",
       "      <td>0.008500</td>\n",
       "      <td>Normal</td>\n",
       "      <td>off</td>\n",
       "    </tr>\n",
       "    <tr>\n",
       "      <th>24887</th>\n",
       "      <td>0.241348</td>\n",
       "      <td>0.016857</td>\n",
       "      <td>Normal</td>\n",
       "      <td>off</td>\n",
       "    </tr>\n",
       "    <tr>\n",
       "      <th>26642</th>\n",
       "      <td>0.285924</td>\n",
       "      <td>0.010683</td>\n",
       "      <td>nan</td>\n",
       "      <td>off</td>\n",
       "    </tr>\n",
       "    <tr>\n",
       "      <th>28388</th>\n",
       "      <td>0.943253</td>\n",
       "      <td>0.018600</td>\n",
       "      <td>Normal</td>\n",
       "      <td>off</td>\n",
       "    </tr>\n",
       "    <tr>\n",
       "      <th>30125</th>\n",
       "      <td>0.758258</td>\n",
       "      <td>0.009900</td>\n",
       "      <td>nan</td>\n",
       "      <td>off</td>\n",
       "    </tr>\n",
       "  </tbody>\n",
       "</table>\n",
       "</div>"
      ],
      "text/plain": [
       "            jsd  percent distal acid mbs_consolidated ppi_consolidated\n",
       "23123  0.645820             0.008500           Normal              off\n",
       "24887  0.241348             0.016857           Normal              off\n",
       "26642  0.285924             0.010683              nan              off\n",
       "28388  0.943253             0.018600           Normal              off\n",
       "30125  0.758258             0.009900              nan              off"
      ]
     },
     "execution_count": 17,
     "metadata": {},
     "output_type": "execute_result"
    }
   ],
   "source": [
    "# Just to check, let's plot our two reflux measures of interest\n",
    "\n",
    "tmp = jsd.query('site_comparison == \"bal_gastric\"')[['jsd', refluxcol, mbscol, ppicol]]\n",
    "tmp = tmp.dropna(subset=[refluxcol]).fillna('nan')\n",
    "tmp.head()"
   ]
  },
  {
   "cell_type": "code",
   "execution_count": 18,
   "metadata": {
    "collapsed": false
   },
   "outputs": [
    {
     "name": "stdout",
     "output_type": "stream",
     "text": [
      "('Aspiration/Penetration', 'conflicting')\n",
      "('Aspiration/Penetration', 'off')\n",
      "('Aspiration/Penetration', 'on')\n",
      "('Normal', 'conflicting')\n",
      "('Normal', 'off')\n",
      "('Normal', 'on')\n",
      "('nan', 'off')\n",
      "('nan', 'on')\n"
     ]
    }
   ],
   "source": [
    "for g, subdf in tmp.groupby([mbscol, ppicol]):\n",
    "    print(g[0], g[1])"
   ]
  },
  {
   "cell_type": "code",
   "execution_count": 19,
   "metadata": {
    "collapsed": false
   },
   "outputs": [
    {
     "data": {
      "image/png": "[encoded data removed]",
      "text/plain": [
       "<matplotlib.figure.Figure at 0x11d00aed0>"
      ]
     },
     "metadata": {},
     "output_type": "display_data"
    }
   ],
   "source": [
    "colors = {'Normal': 'green', 'Aspiration/Penetration': 'blue', 'nan': '0.85'}\n",
    "shapes = {'on': 'x', 'off': 'o', 'conflicting': '*', 'nan': '*'}\n",
    "\n",
    "fig, ax = plt.subplots()\n",
    "for g, subdf in tmp.groupby([mbscol, ppicol]):\n",
    "    plt.scatter(subdf[refluxcol], subdf['jsd'], c=colors[g[0]], marker=shapes[g[1]])"
   ]
  },
  {
   "cell_type": "code",
   "execution_count": 20,
   "metadata": {
    "collapsed": false
   },
   "outputs": [
    {
     "data": {
      "text/plain": [
       "<matplotlib.text.Text at 0x11d03b490>"
      ]
     },
     "execution_count": 20,
     "metadata": {},
     "output_type": "execute_result"
    },
    {
     "data": {
      "image/png": "[encoded data removed]",
      "text/plain": [
       "<matplotlib.figure.Figure at 0x11641b690>"
      ]
     },
     "metadata": {},
     "output_type": "display_data"
    }
   ],
   "source": [
    "# Same plot, but without aspirators\n",
    "for g, subdf in tmp.groupby([mbscol, ppicol]):\n",
    "    if g[0] != 'nan':\n",
    "        plt.scatter(subdf[refluxcol], subdf['jsd'], c=colors[g[0]], marker=shapes[g[1]])\n",
    "plt.title(refluxcol)\n",
    "plt.ylabel('bal_gastric JSD')\n",
    "plt.xlabel(refluxcol)\n"
   ]
  },
  {
   "cell_type": "code",
   "execution_count": 21,
   "metadata": {
    "collapsed": false
   },
   "outputs": [
    {
     "data": {
      "image/png": "[encoded data removed]",
      "text/plain": [
       "<matplotlib.figure.Figure at 0x1154257d0>"
      ]
     },
     "metadata": {},
     "output_type": "display_data"
    }
   ],
   "source": [
    "refluxcol = 'percent distal acid'\n",
    "tmp = jsd.query('site_comparison == \"bal_gastric\"')[['jsd', refluxcol, mbscol, ppicol]]\n",
    "tmp = tmp.dropna(subset=[refluxcol]).fillna('nan')\n",
    "\n",
    "fig, ax = plt.subplots()\n",
    "for g, subdf in tmp.groupby([mbscol, ppicol]):\n",
    "    plt.scatter(subdf[refluxcol], subdf['jsd'], c=colors[g[0]], marker=shapes[g[1]])"
   ]
  },
  {
   "cell_type": "code",
   "execution_count": 22,
   "metadata": {
    "collapsed": false
   },
   "outputs": [
    {
     "data": {
      "text/plain": [
       "<matplotlib.text.Text at 0x115d7ee90>"
      ]
     },
     "execution_count": 22,
     "metadata": {},
     "output_type": "execute_result"
    },
    {
     "data": {
      "image/png": "[encoded data removed]",
      "text/plain": [
       "<matplotlib.figure.Figure at 0x116525b90>"
      ]
     },
     "metadata": {},
     "output_type": "display_data"
    }
   ],
   "source": [
    "# Same plot, but without aspirators\n",
    "for g, subdf in tmp.groupby([mbscol, ppicol]):\n",
    "    if g[0] != 'nan':\n",
    "        plt.scatter(subdf[refluxcol], subdf['jsd'], c=colors[g[0]], marker=shapes[g[1]])\n",
    "plt.title(refluxcol)\n",
    "plt.ylabel('bal_gastric JSD')\n",
    "plt.xlabel(refluxcol)\n"
   ]
  },
  {
   "cell_type": "code",
   "execution_count": 25,
   "metadata": {
    "collapsed": false
   },
   "outputs": [
    {
     "data": {
      "image/png": "[encoded data removed]",
      "text/plain": [
       "<matplotlib.figure.Figure at 0x116508550>"
      ]
     },
     "metadata": {},
     "output_type": "display_data"
    }
   ],
   "source": [
    "refluxcol = 'percent distal nonacid'\n",
    "tmp = jsd.query('site_comparison == \"bal_gastric\"')[['jsd', refluxcol, mbscol, ppicol]]\n",
    "tmp = tmp.dropna(subset=[refluxcol]).fillna('nan')\n",
    "\n",
    "fig, ax = plt.subplots()\n",
    "for g, subdf in tmp.groupby([mbscol, ppicol]):\n",
    "    plt.scatter(subdf[refluxcol], subdf['jsd'], c=colors[g[0]], marker=shapes[g[1]])"
   ]
  },
  {
   "cell_type": "code",
   "execution_count": 24,
   "metadata": {
    "collapsed": false
   },
   "outputs": [
    {
     "data": {
      "text/plain": [
       "['Reflux - total number of episodes',\n",
       " 'Number of acid reflux episodes',\n",
       " 'Total number of reflux episodes (acid+non-acid)',\n",
       " 'SI - Reflux',\n",
       " 'SSI - Reflux',\n",
       " 'SAP - Reflux',\n",
       " 'Number of non-acid reflux episodes',\n",
       " 'percent distal nonacid',\n",
       " 'percent proximal total',\n",
       " 'percent distal acid',\n",
       " 'percent proximal acid',\n",
       " 'percent proximal nonacid',\n",
       " 'percent distal total',\n",
       " 'number of full colum events/total events',\n",
       " 'Number of full column episodes']"
      ]
     },
     "execution_count": 24,
     "metadata": {},
     "output_type": "execute_result"
    }
   ],
   "source": [
    "refluxcols"
   ]
  },
  {
   "cell_type": "code",
   "execution_count": 37,
   "metadata": {
    "collapsed": false
   },
   "outputs": [
    {
     "data": {
      "text/plain": [
       "<matplotlib.text.Text at 0x116a913d0>"
      ]
     },
     "execution_count": 37,
     "metadata": {},
     "output_type": "execute_result"
    },
    {
     "data": {
      "image/png": "[encoded data removed]",
      "text/plain": [
       "<matplotlib.figure.Figure at 0x11655e190>"
      ]
     },
     "metadata": {},
     "output_type": "display_data"
    }
   ],
   "source": [
    "refluxcol = 'number of full colum events/total events'\n",
    "tmp = jsd.query('site_comparison == \"bal_gastric\"')[['jsd', refluxcol, mbscol, ppicol]]\n",
    "tmp = tmp.dropna(subset=[refluxcol]).fillna('nan')\n",
    "\n",
    "fig, ax = plt.subplots()\n",
    "for g, subdf in tmp.groupby([mbscol, ppicol]):\n",
    "    if g[0] != 'nan':\n",
    "        plt.scatter(subdf[refluxcol], subdf['jsd'], c=colors[g[0]])#, marker=shapes[g[1]])\n",
    "ax.set_xlabel('percent full column')\n",
    "ax.set_ylabel('bal gastric JSD')"
   ]
  },
  {
   "cell_type": "code",
   "execution_count": null,
   "metadata": {
    "collapsed": true
   },
   "outputs": [],
   "source": []
  }
 ],
 "metadata": {
  "anaconda-cloud": {},
  "kernelspec": {
   "display_name": "Python [default]",
   "language": "python",
   "name": "python2"
  },
  "language_info": {
   "codemirror_mode": {
    "name": "ipython",
    "version": 2
   },
   "file_extension": ".py",
   "mimetype": "text/x-python",
   "name": "python",
   "nbconvert_exporter": "python",
   "pygments_lexer": "ipython2",
   "version": "2.7.12"
  }
 },
 "nbformat": 4,
 "nbformat_minor": 2
}
