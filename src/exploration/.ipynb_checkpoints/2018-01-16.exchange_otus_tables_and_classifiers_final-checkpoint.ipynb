{
 "cells": [
  {
   "cell_type": "markdown",
   "metadata": {},
   "source": [
    "Most exchanged bugs. re: Rachel's email\n",
    "\n",
    "> I think it is really important to highlight the most commonly exchanged bacteria between the three sights in aspirating patients compared to nonaspirating patients. Clinically this is important and is especially important as all of us are looking for biomarkers of aspiration or biomarkers of more significant lung disease of which bacterial may be one….    \n",
    "\n",
    "Two ways to answer this:\n",
    "\n",
    "1. Which OTUs are ``most exchanged'' between throat and lungs, in general? (Sort of boring, but easiest to answer).\n",
    "2. Of the BAL-throat exchanged OTUs, which are most differentially abundant/prevalent between aspirators and non-aspirators?\n",
    "    - not sure if prevalence or abundance is more interesting. probably prevalence, since we're looking for a clinically relevant biomarker...\n",
    "    \n",
    "In this notebook, I also try to build classifiers based only on the most exchanged OTUs.\n",
    "\n",
    "2018-01-16 update: I'm going to do all the same analyses, but for the lung-stomach bugs too."
   ]
  }
 ],
 "metadata": {
  "anaconda-cloud": {},
  "kernelspec": {
   "display_name": "Python [default]",
   "language": "python",
   "name": "python2"
  },
  "language_info": {
   "codemirror_mode": {
    "name": "ipython",
    "version": 2
   },
   "file_extension": ".py",
   "mimetype": "text/x-python",
   "name": "python",
   "nbconvert_exporter": "python",
   "pygments_lexer": "ipython2",
   "version": "2.7.12"
  }
 },
 "nbformat": 4,
 "nbformat_minor": 2
}
