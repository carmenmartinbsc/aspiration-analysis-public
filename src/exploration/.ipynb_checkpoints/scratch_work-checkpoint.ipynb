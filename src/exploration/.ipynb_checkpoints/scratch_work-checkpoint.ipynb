{
 "cells": [
  {
   "cell_type": "code",
   "execution_count": 1,
   "metadata": {
    "collapsed": true
   },
   "outputs": [],
   "source": [
    "import pandas as pd\n"
   ]
  },
  {
   "cell_type": "code",
   "execution_count": 2,
   "metadata": {
    "collapsed": true
   },
   "outputs": [],
   "source": [
    "fname = '../../data/clean/rosen.otu_table.rel_abun.clean'\n",
    "df = pd.read_csv(fname, sep='\\t', index_col=0)"
   ]
  },
  {
   "cell_type": "code",
   "execution_count": 23,
   "metadata": {
    "collapsed": false
   },
   "outputs": [
    {
     "name": "stdout",
     "output_type": "stream",
     "text": [
      "Index([u'01-112-7GI', u'01-112-7RI', u'01-112-7TI', u'01-164-7GI',\n",
      "       u'01-164-7RI'],\n",
      "      dtype='object')\n",
      "Index([u'01-209-2G', u'01-208-8T', u'01-200-1TI', u'01-200-1TF',\n",
      "       u'01-200-1SF'],\n",
      "      dtype='object')\n"
     ]
    }
   ],
   "source": [
    "s1smpls = df.index[0:5]\n",
    "s2smpls = df.index[10:15][::-1]\n",
    "o = df.columns[0]\n",
    "print(s1smpls)\n",
    "print(s2smpls)"
   ]
  },
  {
   "cell_type": "code",
   "execution_count": 24,
   "metadata": {
    "collapsed": false
   },
   "outputs": [
    {
     "data": {
      "text/plain": [
       "[True, False, False, False, False]"
      ]
     },
     "execution_count": 24,
     "metadata": {},
     "output_type": "execute_result"
    }
   ],
   "source": [
    "[i and j for i, j in zip((df.loc[s1smpls, o] > 0).values,(df.loc[s2smpls, o] > 0).values)]"
   ]
  },
  {
   "cell_type": "code",
   "execution_count": 25,
   "metadata": {
    "collapsed": false
   },
   "outputs": [
    {
     "data": {
      "text/plain": [
       "01-112-7GI     True\n",
       "01-112-7RI     True\n",
       "01-112-7TI    False\n",
       "01-164-7GI     True\n",
       "01-164-7RI     True\n",
       "Name: k__Bacteria;p__Firmicutes;c__Negativicutes;o__Selenomonadales;f__Acidaminococcaceae;g__Phascolarctobacterium;s__;d__denovo58, dtype: bool"
      ]
     },
     "execution_count": 25,
     "metadata": {},
     "output_type": "execute_result"
    }
   ],
   "source": [
    "df.loc[s1smpls, o] > 0"
   ]
  },
  {
   "cell_type": "code",
   "execution_count": 26,
   "metadata": {
    "collapsed": false
   },
   "outputs": [
    {
     "data": {
      "text/plain": [
       "01-209-2G      True\n",
       "01-208-8T     False\n",
       "01-200-1TI     True\n",
       "01-200-1TF    False\n",
       "01-200-1SF    False\n",
       "Name: k__Bacteria;p__Firmicutes;c__Negativicutes;o__Selenomonadales;f__Acidaminococcaceae;g__Phascolarctobacterium;s__;d__denovo58, dtype: bool"
      ]
     },
     "execution_count": 26,
     "metadata": {},
     "output_type": "execute_result"
    }
   ],
   "source": [
    "df.loc[s2smpls, o] > 0"
   ]
  },
  {
   "cell_type": "code",
   "execution_count": 37,
   "metadata": {
    "collapsed": true
   },
   "outputs": [],
   "source": [
    "def calculate_exchange_prevalence(col, s1smpls, s2smpls):\n",
    "    \"\"\"\n",
    "    Calculate the exchange/sharedness value for abundances in col\n",
    "    between s1smpls and s2smpls.\n",
    "\n",
    "    Parameters\n",
    "    ----------\n",
    "    col : pandas Series\n",
    "        Values to correlate and calculate 'exchange' for, e.g. relative\n",
    "        abundances of one OTU. Index should have at least s1smpls and\n",
    "        s2smpls. Values should be 0 if the OTU is not present and greater\n",
    "        than zero if it is.\n",
    "\n",
    "    s1smpls, s2smpls :  lists\n",
    "        Samples to consider. Should be the same length and paired (i.e. the\n",
    "        first sample in s1smpls comes from the same patient as the first\n",
    "        sample in s2smpls.)\n",
    "\n",
    "    Returns\n",
    "    -------\n",
    "    sharedness : float\n",
    "        Percent of (s1, s2) pairs where both samples are non-zero.\n",
    "        In other words, percentage of x, y points which are off the axes.\n",
    "    \"\"\"\n",
    "    preva = sum([i and j for i, j in zip(\n",
    "                    (col.loc[s1smpls] > 0).values,\n",
    "                    (col.loc[s2smpls] > 0).values)])\\\n",
    "            /float(len(s1smpls))\n",
    "    return preva"
   ]
  },
  {
   "cell_type": "code",
   "execution_count": 38,
   "metadata": {
    "collapsed": false
   },
   "outputs": [
    {
     "data": {
      "text/plain": [
       "k__Bacteria;p__Firmicutes;c__Negativicutes;o__Selenomonadales;f__Acidaminococcaceae;g__Phascolarctobacterium;s__;d__denovo58      0.2\n",
       "k__Bacteria;p__Firmicutes;c__Clostridia;o__Clostridiales;f__Clostridiales_Incertae_Sedis_XIII;g__Anaerovorax;s__;d__denovo1106    0.0\n",
       "k__Bacteria;p__Firmicutes;c__Clostridia;o__Clostridiales;f__Lachnospiraceae;g__Ruminococcus2;s__;d__denovo57                      0.0\n",
       "k__Bacteria;p__Actinobacteria;c__Actinobacteria;o__Actinomycetales;f__Actinomycetaceae;g__Actinomyces;s__;d__denovo886            0.2\n",
       "k__Bacteria;p__Firmicutes;c__Clostridia;o__Clostridiales;f__Ruminococcaceae;g__;s__;d__denovo887                                  0.0\n",
       "dtype: float64"
      ]
     },
     "execution_count": 38,
     "metadata": {},
     "output_type": "execute_result"
    }
   ],
   "source": [
    "df.iloc[:, :5].apply(calculate_exchange_prevalence, args=(s1smpls, s2smpls)).T"
   ]
  },
  {
   "cell_type": "code",
   "execution_count": 44,
   "metadata": {
    "collapsed": false
   },
   "outputs": [],
   "source": [
    "tmp2 = df.loc[s1smpls].iloc[:, :5]"
   ]
  },
  {
   "cell_type": "code",
   "execution_count": 45,
   "metadata": {
    "collapsed": false
   },
   "outputs": [],
   "source": [
    "tmp1 = df.loc[s2smpls].iloc[:, :5]"
   ]
  },
  {
   "cell_type": "code",
   "execution_count": 47,
   "metadata": {
    "collapsed": false
   },
   "outputs": [
    {
     "data": {
      "text/plain": [
       "(10, 5)"
      ]
     },
     "execution_count": 47,
     "metadata": {},
     "output_type": "execute_result"
    }
   ],
   "source": [
    "pd.concat((tmp1, tmp2)).shape"
   ]
  },
  {
   "cell_type": "code",
   "execution_count": 48,
   "metadata": {
    "collapsed": false
   },
   "outputs": [
    {
     "data": {
      "text/plain": [
       "'01-209-2G'"
      ]
     },
     "execution_count": 48,
     "metadata": {},
     "output_type": "execute_result"
    }
   ],
   "source": [
    "tmp1.index[0]\n"
   ]
  },
  {
   "cell_type": "markdown",
   "metadata": {
    "collapsed": true
   },
   "source": [
    "# Scratch work for labeling exchanged OTUs"
   ]
  },
  {
   "cell_type": "code",
   "execution_count": 25,
   "metadata": {
    "collapsed": true
   },
   "outputs": [],
   "source": [
    "import pandas as pd\n",
    "import numpy as np\n",
    "from statsmodels.sandbox.stats.multicomp import multipletests\n",
    "\n",
    "\n",
    "fname = '../../data/analysis/exchange.with_partial_corrs.txt'\n",
    "df = pd.read_csv(fname, sep='\\t')\n",
    "df['site_comparison'] = df['site1'] + '-' + df['site2']\n",
    "\n",
    "n_thresh = 10\n",
    "r_partial = 0\n",
    "q_partial = 0.1"
   ]
  },
  {
   "cell_type": "code",
   "execution_count": 8,
   "metadata": {
    "collapsed": false
   },
   "outputs": [
    {
     "data": {
      "text/html": [
       "<div>\n",
       "<table border=\"1\" class=\"dataframe\">\n",
       "  <thead>\n",
       "    <tr style=\"text-align: right;\">\n",
       "      <th></th>\n",
       "      <th>otu</th>\n",
       "      <th>site1</th>\n",
       "      <th>site2</th>\n",
       "      <th>site3</th>\n",
       "      <th>r_site12</th>\n",
       "      <th>p_site12</th>\n",
       "      <th>n_site12</th>\n",
       "      <th>r_partial</th>\n",
       "      <th>p_partial</th>\n",
       "      <th>n_partial</th>\n",
       "      <th>site_comparison</th>\n",
       "      <th>q_partial</th>\n",
       "    </tr>\n",
       "  </thead>\n",
       "  <tbody>\n",
       "    <tr>\n",
       "      <th>4</th>\n",
       "      <td>k__Bacteria;p__;c__;o__;f__;g__;s__;d__denovo364</td>\n",
       "      <td>bal</td>\n",
       "      <td>gastric_fluid</td>\n",
       "      <td>throat_swab</td>\n",
       "      <td>0.633498</td>\n",
       "      <td>0.000225</td>\n",
       "      <td>29</td>\n",
       "      <td>0.660447</td>\n",
       "      <td>0.0010</td>\n",
       "      <td>21</td>\n",
       "      <td>bal-gastric_fluid</td>\n",
       "      <td>0.003688</td>\n",
       "    </tr>\n",
       "    <tr>\n",
       "      <th>17</th>\n",
       "      <td>k__Bacteria;p__Actinobacteria;c__Actinobacteri...</td>\n",
       "      <td>gastric_fluid</td>\n",
       "      <td>throat_swab</td>\n",
       "      <td>bal</td>\n",
       "      <td>0.226411</td>\n",
       "      <td>0.177817</td>\n",
       "      <td>37</td>\n",
       "      <td>0.210480</td>\n",
       "      <td>0.1740</td>\n",
       "      <td>24</td>\n",
       "      <td>gastric_fluid-throat_swab</td>\n",
       "      <td>0.248675</td>\n",
       "    </tr>\n",
       "    <tr>\n",
       "      <th>18</th>\n",
       "      <td>k__Bacteria;p__Actinobacteria;c__Actinobacteri...</td>\n",
       "      <td>bal</td>\n",
       "      <td>gastric_fluid</td>\n",
       "      <td>throat_swab</td>\n",
       "      <td>0.562180</td>\n",
       "      <td>0.001224</td>\n",
       "      <td>30</td>\n",
       "      <td>0.335027</td>\n",
       "      <td>0.0875</td>\n",
       "      <td>20</td>\n",
       "      <td>bal-gastric_fluid</td>\n",
       "      <td>0.146402</td>\n",
       "    </tr>\n",
       "    <tr>\n",
       "      <th>19</th>\n",
       "      <td>k__Bacteria;p__Actinobacteria;c__Actinobacteri...</td>\n",
       "      <td>bal</td>\n",
       "      <td>throat_swab</td>\n",
       "      <td>gastric_fluid</td>\n",
       "      <td>0.186700</td>\n",
       "      <td>0.332174</td>\n",
       "      <td>29</td>\n",
       "      <td>0.068330</td>\n",
       "      <td>0.3755</td>\n",
       "      <td>25</td>\n",
       "      <td>bal-throat_swab</td>\n",
       "      <td>0.456725</td>\n",
       "    </tr>\n",
       "    <tr>\n",
       "      <th>20</th>\n",
       "      <td>k__Bacteria;p__Actinobacteria;c__Actinobacteri...</td>\n",
       "      <td>gastric_fluid</td>\n",
       "      <td>throat_swab</td>\n",
       "      <td>bal</td>\n",
       "      <td>0.462177</td>\n",
       "      <td>0.000001</td>\n",
       "      <td>99</td>\n",
       "      <td>0.471868</td>\n",
       "      <td>0.0000</td>\n",
       "      <td>67</td>\n",
       "      <td>gastric_fluid-throat_swab</td>\n",
       "      <td>0.000000</td>\n",
       "    </tr>\n",
       "  </tbody>\n",
       "</table>\n",
       "</div>"
      ],
      "text/plain": [
       "                                                  otu          site1  \\\n",
       "4    k__Bacteria;p__;c__;o__;f__;g__;s__;d__denovo364            bal   \n",
       "17  k__Bacteria;p__Actinobacteria;c__Actinobacteri...  gastric_fluid   \n",
       "18  k__Bacteria;p__Actinobacteria;c__Actinobacteri...            bal   \n",
       "19  k__Bacteria;p__Actinobacteria;c__Actinobacteri...            bal   \n",
       "20  k__Bacteria;p__Actinobacteria;c__Actinobacteri...  gastric_fluid   \n",
       "\n",
       "            site2          site3  r_site12  p_site12  n_site12  r_partial  \\\n",
       "4   gastric_fluid    throat_swab  0.633498  0.000225        29   0.660447   \n",
       "17    throat_swab            bal  0.226411  0.177817        37   0.210480   \n",
       "18  gastric_fluid    throat_swab  0.562180  0.001224        30   0.335027   \n",
       "19    throat_swab  gastric_fluid  0.186700  0.332174        29   0.068330   \n",
       "20    throat_swab            bal  0.462177  0.000001        99   0.471868   \n",
       "\n",
       "    p_partial  n_partial            site_comparison  q_partial  \n",
       "4      0.0010         21          bal-gastric_fluid   0.003688  \n",
       "17     0.1740         24  gastric_fluid-throat_swab   0.248675  \n",
       "18     0.0875         20          bal-gastric_fluid   0.146402  \n",
       "19     0.3755         25            bal-throat_swab   0.456725  \n",
       "20     0.0000         67  gastric_fluid-throat_swab   0.000000  "
      ]
     },
     "execution_count": 8,
     "metadata": {},
     "output_type": "execute_result"
    }
   ],
   "source": [
    "df = df.query('n_partial > @n_thresh')\n",
    "\n",
    "_, df['q_partial'], _, _ = multipletests(df['p_partial'], method='fdr_bh')\n",
    "df.head()"
   ]
  },
  {
   "cell_type": "code",
   "execution_count": 10,
   "metadata": {
    "collapsed": false
   },
   "outputs": [],
   "source": [
    "exchange = df.query('n_partial >= @n_thresh').query('r_partial > 0').query('q_partial < 0.1')"
   ]
  },
  {
   "cell_type": "code",
   "execution_count": 27,
   "metadata": {
    "collapsed": false
   },
   "outputs": [
    {
     "data": {
      "text/html": [
       "<div>\n",
       "<table border=\"1\" class=\"dataframe\">\n",
       "  <thead>\n",
       "    <tr style=\"text-align: right;\">\n",
       "      <th>site_comparison</th>\n",
       "      <th>bal-gastric_fluid</th>\n",
       "      <th>bal-throat_swab</th>\n",
       "      <th>gastric_fluid-throat_swab</th>\n",
       "    </tr>\n",
       "    <tr>\n",
       "      <th>otu</th>\n",
       "      <th></th>\n",
       "      <th></th>\n",
       "      <th></th>\n",
       "    </tr>\n",
       "  </thead>\n",
       "  <tbody>\n",
       "    <tr>\n",
       "      <th>k__Bacteria;p__;c__;o__;f__;g__;s__;d__denovo364</th>\n",
       "      <td>0.660447</td>\n",
       "      <td>NaN</td>\n",
       "      <td>NaN</td>\n",
       "    </tr>\n",
       "    <tr>\n",
       "      <th>k__Bacteria;p__Actinobacteria;c__Actinobacteria;o__Actinomycetales;f__Actinomycetaceae;g__Actinomyces;s__;d__denovo60</th>\n",
       "      <td>NaN</td>\n",
       "      <td>NaN</td>\n",
       "      <td>0.471868</td>\n",
       "    </tr>\n",
       "    <tr>\n",
       "      <th>k__Bacteria;p__Actinobacteria;c__Actinobacteria;o__Actinomycetales;f__Actinomycetaceae;g__Actinomyces;s__;d__denovo77</th>\n",
       "      <td>0.528483</td>\n",
       "      <td>NaN</td>\n",
       "      <td>0.366272</td>\n",
       "    </tr>\n",
       "    <tr>\n",
       "      <th>k__Bacteria;p__Actinobacteria;c__Actinobacteria;o__Actinomycetales;f__Actinomycetaceae;g__Actinomyces;s__;d__denovo82</th>\n",
       "      <td>NaN</td>\n",
       "      <td>NaN</td>\n",
       "      <td>0.441879</td>\n",
       "    </tr>\n",
       "    <tr>\n",
       "      <th>k__Bacteria;p__Actinobacteria;c__Actinobacteria;o__Actinomycetales;f__Micrococcaceae;g__Rothia;s__;d__denovo160</th>\n",
       "      <td>NaN</td>\n",
       "      <td>NaN</td>\n",
       "      <td>0.827167</td>\n",
       "    </tr>\n",
       "  </tbody>\n",
       "</table>\n",
       "</div>"
      ],
      "text/plain": [
       "site_comparison                                     bal-gastric_fluid  \\\n",
       "otu                                                                     \n",
       "k__Bacteria;p__;c__;o__;f__;g__;s__;d__denovo364             0.660447   \n",
       "k__Bacteria;p__Actinobacteria;c__Actinobacteria...                NaN   \n",
       "k__Bacteria;p__Actinobacteria;c__Actinobacteria...           0.528483   \n",
       "k__Bacteria;p__Actinobacteria;c__Actinobacteria...                NaN   \n",
       "k__Bacteria;p__Actinobacteria;c__Actinobacteria...                NaN   \n",
       "\n",
       "site_comparison                                     bal-throat_swab  \\\n",
       "otu                                                                   \n",
       "k__Bacteria;p__;c__;o__;f__;g__;s__;d__denovo364                NaN   \n",
       "k__Bacteria;p__Actinobacteria;c__Actinobacteria...              NaN   \n",
       "k__Bacteria;p__Actinobacteria;c__Actinobacteria...              NaN   \n",
       "k__Bacteria;p__Actinobacteria;c__Actinobacteria...              NaN   \n",
       "k__Bacteria;p__Actinobacteria;c__Actinobacteria...              NaN   \n",
       "\n",
       "site_comparison                                     gastric_fluid-throat_swab  \n",
       "otu                                                                            \n",
       "k__Bacteria;p__;c__;o__;f__;g__;s__;d__denovo364                          NaN  \n",
       "k__Bacteria;p__Actinobacteria;c__Actinobacteria...                   0.471868  \n",
       "k__Bacteria;p__Actinobacteria;c__Actinobacteria...                   0.366272  \n",
       "k__Bacteria;p__Actinobacteria;c__Actinobacteria...                   0.441879  \n",
       "k__Bacteria;p__Actinobacteria;c__Actinobacteria...                   0.827167  "
      ]
     },
     "execution_count": 27,
     "metadata": {},
     "output_type": "execute_result"
    }
   ],
   "source": [
    "# Get exchanged bugs\n",
    "exchange.pivot(columns='site_comparison', index='otu', values='r_partial').head()"
   ]
  },
  {
   "cell_type": "code",
   "execution_count": 26,
   "metadata": {
    "collapsed": false
   },
   "outputs": [
    {
     "data": {
      "text/html": [
       "<div>\n",
       "<table border=\"1\" class=\"dataframe\">\n",
       "  <thead>\n",
       "    <tr style=\"text-align: right;\">\n",
       "      <th>site_comparison</th>\n",
       "      <th>bal-gastric_fluid</th>\n",
       "      <th>bal-throat_swab</th>\n",
       "      <th>gastric_fluid-throat_swab</th>\n",
       "    </tr>\n",
       "    <tr>\n",
       "      <th>otu</th>\n",
       "      <th></th>\n",
       "      <th></th>\n",
       "      <th></th>\n",
       "    </tr>\n",
       "  </thead>\n",
       "  <tbody>\n",
       "    <tr>\n",
       "      <th>k__Bacteria;p__;c__;o__;f__;g__;s__;d__denovo364</th>\n",
       "      <td>1.0</td>\n",
       "      <td>NaN</td>\n",
       "      <td>NaN</td>\n",
       "    </tr>\n",
       "    <tr>\n",
       "      <th>k__Bacteria;p__Actinobacteria;c__Actinobacteria;o__Actinomycetales;f__Actinomycetaceae;g__Actinomyces;s__;d__denovo60</th>\n",
       "      <td>NaN</td>\n",
       "      <td>NaN</td>\n",
       "      <td>1.0</td>\n",
       "    </tr>\n",
       "    <tr>\n",
       "      <th>k__Bacteria;p__Actinobacteria;c__Actinobacteria;o__Actinomycetales;f__Actinomycetaceae;g__Actinomyces;s__;d__denovo77</th>\n",
       "      <td>1.0</td>\n",
       "      <td>NaN</td>\n",
       "      <td>1.0</td>\n",
       "    </tr>\n",
       "    <tr>\n",
       "      <th>k__Bacteria;p__Actinobacteria;c__Actinobacteria;o__Actinomycetales;f__Actinomycetaceae;g__Actinomyces;s__;d__denovo82</th>\n",
       "      <td>NaN</td>\n",
       "      <td>NaN</td>\n",
       "      <td>1.0</td>\n",
       "    </tr>\n",
       "    <tr>\n",
       "      <th>k__Bacteria;p__Actinobacteria;c__Actinobacteria;o__Actinomycetales;f__Micrococcaceae;g__Rothia;s__;d__denovo160</th>\n",
       "      <td>NaN</td>\n",
       "      <td>NaN</td>\n",
       "      <td>1.0</td>\n",
       "    </tr>\n",
       "  </tbody>\n",
       "</table>\n",
       "</div>"
      ],
      "text/plain": [
       "site_comparison                                     bal-gastric_fluid  \\\n",
       "otu                                                                     \n",
       "k__Bacteria;p__;c__;o__;f__;g__;s__;d__denovo364                  1.0   \n",
       "k__Bacteria;p__Actinobacteria;c__Actinobacteria...                NaN   \n",
       "k__Bacteria;p__Actinobacteria;c__Actinobacteria...                1.0   \n",
       "k__Bacteria;p__Actinobacteria;c__Actinobacteria...                NaN   \n",
       "k__Bacteria;p__Actinobacteria;c__Actinobacteria...                NaN   \n",
       "\n",
       "site_comparison                                     bal-throat_swab  \\\n",
       "otu                                                                   \n",
       "k__Bacteria;p__;c__;o__;f__;g__;s__;d__denovo364                NaN   \n",
       "k__Bacteria;p__Actinobacteria;c__Actinobacteria...              NaN   \n",
       "k__Bacteria;p__Actinobacteria;c__Actinobacteria...              NaN   \n",
       "k__Bacteria;p__Actinobacteria;c__Actinobacteria...              NaN   \n",
       "k__Bacteria;p__Actinobacteria;c__Actinobacteria...              NaN   \n",
       "\n",
       "site_comparison                                     gastric_fluid-throat_swab  \n",
       "otu                                                                            \n",
       "k__Bacteria;p__;c__;o__;f__;g__;s__;d__denovo364                          NaN  \n",
       "k__Bacteria;p__Actinobacteria;c__Actinobacteria...                        1.0  \n",
       "k__Bacteria;p__Actinobacteria;c__Actinobacteria...                        1.0  \n",
       "k__Bacteria;p__Actinobacteria;c__Actinobacteria...                        1.0  \n",
       "k__Bacteria;p__Actinobacteria;c__Actinobacteria...                        1.0  "
      ]
     },
     "execution_count": 26,
     "metadata": {},
     "output_type": "execute_result"
    }
   ],
   "source": [
    "# Get exchanged bugs and convert to 1 for exchanged, NaN for not.\n",
    "exchange.pivot(columns='site_comparison', index='otu', values='r_partial').head().notnull().astype(int).replace(0, np.nan)"
   ]
  },
  {
   "cell_type": "code",
   "execution_count": null,
   "metadata": {
    "collapsed": true
   },
   "outputs": [],
   "source": []
  }
 ],
 "metadata": {
  "anaconda-cloud": {},
  "kernelspec": {
   "display_name": "Python [default]",
   "language": "python",
   "name": "python2"
  },
  "language_info": {
   "codemirror_mode": {
    "name": "ipython",
    "version": 2
   },
   "file_extension": ".py",
   "mimetype": "text/x-python",
   "name": "python",
   "nbconvert_exporter": "python",
   "pygments_lexer": "ipython2",
   "version": "2.7.12"
  }
 },
 "nbformat": 4,
 "nbformat_minor": 2
}
