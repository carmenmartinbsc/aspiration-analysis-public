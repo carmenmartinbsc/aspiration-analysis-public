{
 "cells": [
  {
   "cell_type": "markdown",
   "metadata": {},
   "source": [
    "The purpose of this notebook is to show that read depth is not confounded with aspiration status, as justification for why we did not rarefy anywhere.\n",
    "\n",
    "It's also got some scratch work to plot a rarefaction curve."
   ]
  },
  {
   "cell_type": "code",
   "execution_count": 27,
   "metadata": {
    "collapsed": true
   },
   "outputs": [],
   "source": [
    "import pandas as pd\n",
    "import numpy as np\n",
    "\n",
    "import matplotlib.pyplot as plt\n",
    "import seaborn as sns\n",
    "%matplotlib inline"
   ]
  },
  {
   "cell_type": "code",
   "execution_count": 33,
   "metadata": {
    "collapsed": false
   },
   "outputs": [
    {
     "data": {
      "text/plain": [
       "True"
      ]
     },
     "execution_count": 33,
     "metadata": {},
     "output_type": "execute_result"
    }
   ],
   "source": [
    "fname = '../../data/clean/rosen.otu_table.counts.clean'\n",
    "fmeta = '../../data/clean/rosen.metadata.clean'\n",
    "\n",
    "df = pd.read_csv(fname, sep='\\t', index_col=0)\n",
    "meta = pd.read_csv(fmeta, sep='\\t', index_col=0)\n",
    "'total_reads' in meta.columns"
   ]
  },
  {
   "cell_type": "code",
   "execution_count": 34,
   "metadata": {
    "collapsed": true
   },
   "outputs": [],
   "source": [
    "sites = ['bal', 'throat_swab', 'gastric_fluid']\n",
    "meta = meta.query('site == @sites')"
   ]
  },
  {
   "cell_type": "code",
   "execution_count": 35,
   "metadata": {
    "collapsed": false
   },
   "outputs": [
    {
     "data": {
      "text/html": [
       "<div>\n",
       "<style scoped>\n",
       "    .dataframe tbody tr th:only-of-type {\n",
       "        vertical-align: middle;\n",
       "    }\n",
       "\n",
       "    .dataframe tbody tr th {\n",
       "        vertical-align: top;\n",
       "    }\n",
       "\n",
       "    .dataframe thead tr th {\n",
       "        text-align: left;\n",
       "    }\n",
       "\n",
       "    .dataframe thead tr:last-of-type th {\n",
       "        text-align: right;\n",
       "    }\n",
       "</style>\n",
       "<table border=\"1\" class=\"dataframe\">\n",
       "  <thead>\n",
       "    <tr>\n",
       "      <th></th>\n",
       "      <th></th>\n",
       "      <th colspan=\"8\" halign=\"left\">log_reads</th>\n",
       "      <th colspan=\"8\" halign=\"left\">total_reads</th>\n",
       "    </tr>\n",
       "    <tr>\n",
       "      <th></th>\n",
       "      <th></th>\n",
       "      <th>count</th>\n",
       "      <th>mean</th>\n",
       "      <th>std</th>\n",
       "      <th>min</th>\n",
       "      <th>25%</th>\n",
       "      <th>50%</th>\n",
       "      <th>75%</th>\n",
       "      <th>max</th>\n",
       "      <th>count</th>\n",
       "      <th>mean</th>\n",
       "      <th>std</th>\n",
       "      <th>min</th>\n",
       "      <th>25%</th>\n",
       "      <th>50%</th>\n",
       "      <th>75%</th>\n",
       "      <th>max</th>\n",
       "    </tr>\n",
       "    <tr>\n",
       "      <th>site</th>\n",
       "      <th>mbs_consolidated</th>\n",
       "      <th></th>\n",
       "      <th></th>\n",
       "      <th></th>\n",
       "      <th></th>\n",
       "      <th></th>\n",
       "      <th></th>\n",
       "      <th></th>\n",
       "      <th></th>\n",
       "      <th></th>\n",
       "      <th></th>\n",
       "      <th></th>\n",
       "      <th></th>\n",
       "      <th></th>\n",
       "      <th></th>\n",
       "      <th></th>\n",
       "      <th></th>\n",
       "    </tr>\n",
       "  </thead>\n",
       "  <tbody>\n",
       "    <tr>\n",
       "      <th rowspan=\"3\" valign=\"top\">bal</th>\n",
       "      <th>Aspiration/Penetration</th>\n",
       "      <td>35.0</td>\n",
       "      <td>4.148887</td>\n",
       "      <td>0.482442</td>\n",
       "      <td>3.145196</td>\n",
       "      <td>3.824202</td>\n",
       "      <td>4.188563</td>\n",
       "      <td>4.427215</td>\n",
       "      <td>5.089736</td>\n",
       "      <td>35.0</td>\n",
       "      <td>25059.257143</td>\n",
       "      <td>30264.104975</td>\n",
       "      <td>1397.0</td>\n",
       "      <td>6673.50</td>\n",
       "      <td>15437.0</td>\n",
       "      <td>26745.00</td>\n",
       "      <td>122952.0</td>\n",
       "    </tr>\n",
       "    <tr>\n",
       "      <th>Normal</th>\n",
       "      <td>44.0</td>\n",
       "      <td>3.937242</td>\n",
       "      <td>0.564797</td>\n",
       "      <td>3.008600</td>\n",
       "      <td>3.450962</td>\n",
       "      <td>3.909803</td>\n",
       "      <td>4.446146</td>\n",
       "      <td>4.793700</td>\n",
       "      <td>44.0</td>\n",
       "      <td>17344.886364</td>\n",
       "      <td>17899.105218</td>\n",
       "      <td>1020.0</td>\n",
       "      <td>2825.25</td>\n",
       "      <td>8173.0</td>\n",
       "      <td>27966.75</td>\n",
       "      <td>62187.0</td>\n",
       "    </tr>\n",
       "    <tr>\n",
       "      <th>nan</th>\n",
       "      <td>52.0</td>\n",
       "      <td>3.951672</td>\n",
       "      <td>0.589432</td>\n",
       "      <td>2.469822</td>\n",
       "      <td>3.414395</td>\n",
       "      <td>3.914036</td>\n",
       "      <td>4.461476</td>\n",
       "      <td>5.191311</td>\n",
       "      <td>52.0</td>\n",
       "      <td>20299.769231</td>\n",
       "      <td>28813.836399</td>\n",
       "      <td>295.0</td>\n",
       "      <td>2597.00</td>\n",
       "      <td>8213.0</td>\n",
       "      <td>28938.50</td>\n",
       "      <td>155350.0</td>\n",
       "    </tr>\n",
       "    <tr>\n",
       "      <th rowspan=\"3\" valign=\"top\">gastric_fluid</th>\n",
       "      <th>Aspiration/Penetration</th>\n",
       "      <td>44.0</td>\n",
       "      <td>4.118863</td>\n",
       "      <td>0.486430</td>\n",
       "      <td>3.089905</td>\n",
       "      <td>3.738499</td>\n",
       "      <td>4.111236</td>\n",
       "      <td>4.526774</td>\n",
       "      <td>5.288788</td>\n",
       "      <td>44.0</td>\n",
       "      <td>24202.363636</td>\n",
       "      <td>33282.238401</td>\n",
       "      <td>1230.0</td>\n",
       "      <td>5477.75</td>\n",
       "      <td>12938.0</td>\n",
       "      <td>33645.75</td>\n",
       "      <td>194441.0</td>\n",
       "    </tr>\n",
       "    <tr>\n",
       "      <th>Normal</th>\n",
       "      <td>56.0</td>\n",
       "      <td>4.318729</td>\n",
       "      <td>0.649248</td>\n",
       "      <td>2.127105</td>\n",
       "      <td>3.981389</td>\n",
       "      <td>4.372266</td>\n",
       "      <td>4.822653</td>\n",
       "      <td>5.808022</td>\n",
       "      <td>56.0</td>\n",
       "      <td>51192.214286</td>\n",
       "      <td>92285.237369</td>\n",
       "      <td>134.0</td>\n",
       "      <td>9599.25</td>\n",
       "      <td>23566.5</td>\n",
       "      <td>66507.50</td>\n",
       "      <td>642721.0</td>\n",
       "    </tr>\n",
       "    <tr>\n",
       "      <th>nan</th>\n",
       "      <td>81.0</td>\n",
       "      <td>4.275472</td>\n",
       "      <td>0.641317</td>\n",
       "      <td>2.918030</td>\n",
       "      <td>3.769673</td>\n",
       "      <td>4.370661</td>\n",
       "      <td>4.804330</td>\n",
       "      <td>5.434537</td>\n",
       "      <td>81.0</td>\n",
       "      <td>44790.395062</td>\n",
       "      <td>58294.547728</td>\n",
       "      <td>828.0</td>\n",
       "      <td>5884.00</td>\n",
       "      <td>23478.0</td>\n",
       "      <td>63728.00</td>\n",
       "      <td>271980.0</td>\n",
       "    </tr>\n",
       "    <tr>\n",
       "      <th rowspan=\"3\" valign=\"top\">throat_swab</th>\n",
       "      <th>Aspiration/Penetration</th>\n",
       "      <td>39.0</td>\n",
       "      <td>4.345798</td>\n",
       "      <td>0.429583</td>\n",
       "      <td>3.159868</td>\n",
       "      <td>4.320413</td>\n",
       "      <td>4.426283</td>\n",
       "      <td>4.614716</td>\n",
       "      <td>4.894144</td>\n",
       "      <td>39.0</td>\n",
       "      <td>30858.282051</td>\n",
       "      <td>20471.514749</td>\n",
       "      <td>1445.0</td>\n",
       "      <td>20918.50</td>\n",
       "      <td>26686.0</td>\n",
       "      <td>41183.00</td>\n",
       "      <td>78369.0</td>\n",
       "    </tr>\n",
       "    <tr>\n",
       "      <th>Normal</th>\n",
       "      <td>47.0</td>\n",
       "      <td>4.473038</td>\n",
       "      <td>0.387555</td>\n",
       "      <td>3.037426</td>\n",
       "      <td>4.438460</td>\n",
       "      <td>4.551609</td>\n",
       "      <td>4.698708</td>\n",
       "      <td>5.053317</td>\n",
       "      <td>47.0</td>\n",
       "      <td>38093.872340</td>\n",
       "      <td>21392.023022</td>\n",
       "      <td>1090.0</td>\n",
       "      <td>27448.50</td>\n",
       "      <td>35613.0</td>\n",
       "      <td>49997.50</td>\n",
       "      <td>113062.0</td>\n",
       "    </tr>\n",
       "    <tr>\n",
       "      <th>nan</th>\n",
       "      <td>163.0</td>\n",
       "      <td>4.480391</td>\n",
       "      <td>0.545388</td>\n",
       "      <td>2.227887</td>\n",
       "      <td>4.400243</td>\n",
       "      <td>4.616623</td>\n",
       "      <td>4.797675</td>\n",
       "      <td>5.413580</td>\n",
       "      <td>163.0</td>\n",
       "      <td>48227.613497</td>\n",
       "      <td>39660.999948</td>\n",
       "      <td>169.0</td>\n",
       "      <td>25133.50</td>\n",
       "      <td>41364.0</td>\n",
       "      <td>62759.00</td>\n",
       "      <td>259167.0</td>\n",
       "    </tr>\n",
       "  </tbody>\n",
       "</table>\n",
       "</div>"
      ],
      "text/plain": [
       "                                     log_reads                                \\\n",
       "                                         count      mean       std       min   \n",
       "site          mbs_consolidated                                                 \n",
       "bal           Aspiration/Penetration      35.0  4.148887  0.482442  3.145196   \n",
       "              Normal                      44.0  3.937242  0.564797  3.008600   \n",
       "              nan                         52.0  3.951672  0.589432  2.469822   \n",
       "gastric_fluid Aspiration/Penetration      44.0  4.118863  0.486430  3.089905   \n",
       "              Normal                      56.0  4.318729  0.649248  2.127105   \n",
       "              nan                         81.0  4.275472  0.641317  2.918030   \n",
       "throat_swab   Aspiration/Penetration      39.0  4.345798  0.429583  3.159868   \n",
       "              Normal                      47.0  4.473038  0.387555  3.037426   \n",
       "              nan                        163.0  4.480391  0.545388  2.227887   \n",
       "\n",
       "                                                                              \\\n",
       "                                           25%       50%       75%       max   \n",
       "site          mbs_consolidated                                                 \n",
       "bal           Aspiration/Penetration  3.824202  4.188563  4.427215  5.089736   \n",
       "              Normal                  3.450962  3.909803  4.446146  4.793700   \n",
       "              nan                     3.414395  3.914036  4.461476  5.191311   \n",
       "gastric_fluid Aspiration/Penetration  3.738499  4.111236  4.526774  5.288788   \n",
       "              Normal                  3.981389  4.372266  4.822653  5.808022   \n",
       "              nan                     3.769673  4.370661  4.804330  5.434537   \n",
       "throat_swab   Aspiration/Penetration  4.320413  4.426283  4.614716  4.894144   \n",
       "              Normal                  4.438460  4.551609  4.698708  5.053317   \n",
       "              nan                     4.400243  4.616623  4.797675  5.413580   \n",
       "\n",
       "                                     total_reads                              \\\n",
       "                                           count          mean           std   \n",
       "site          mbs_consolidated                                                 \n",
       "bal           Aspiration/Penetration        35.0  25059.257143  30264.104975   \n",
       "              Normal                        44.0  17344.886364  17899.105218   \n",
       "              nan                           52.0  20299.769231  28813.836399   \n",
       "gastric_fluid Aspiration/Penetration        44.0  24202.363636  33282.238401   \n",
       "              Normal                        56.0  51192.214286  92285.237369   \n",
       "              nan                           81.0  44790.395062  58294.547728   \n",
       "throat_swab   Aspiration/Penetration        39.0  30858.282051  20471.514749   \n",
       "              Normal                        47.0  38093.872340  21392.023022   \n",
       "              nan                          163.0  48227.613497  39660.999948   \n",
       "\n",
       "                                                                           \\\n",
       "                                         min       25%      50%       75%   \n",
       "site          mbs_consolidated                                              \n",
       "bal           Aspiration/Penetration  1397.0   6673.50  15437.0  26745.00   \n",
       "              Normal                  1020.0   2825.25   8173.0  27966.75   \n",
       "              nan                      295.0   2597.00   8213.0  28938.50   \n",
       "gastric_fluid Aspiration/Penetration  1230.0   5477.75  12938.0  33645.75   \n",
       "              Normal                   134.0   9599.25  23566.5  66507.50   \n",
       "              nan                      828.0   5884.00  23478.0  63728.00   \n",
       "throat_swab   Aspiration/Penetration  1445.0  20918.50  26686.0  41183.00   \n",
       "              Normal                  1090.0  27448.50  35613.0  49997.50   \n",
       "              nan                      169.0  25133.50  41364.0  62759.00   \n",
       "\n",
       "                                                \n",
       "                                           max  \n",
       "site          mbs_consolidated                  \n",
       "bal           Aspiration/Penetration  122952.0  \n",
       "              Normal                   62187.0  \n",
       "              nan                     155350.0  \n",
       "gastric_fluid Aspiration/Penetration  194441.0  \n",
       "              Normal                  642721.0  \n",
       "              nan                     271980.0  \n",
       "throat_swab   Aspiration/Penetration   78369.0  \n",
       "              Normal                  113062.0  \n",
       "              nan                     259167.0  "
      ]
     },
     "execution_count": 35,
     "metadata": {},
     "output_type": "execute_result"
    }
   ],
   "source": [
    "meta['log_reads'] = np.log10(meta['total_reads'])\n",
    "cols = ['log_reads', 'total_reads', 'site', 'mbs_consolidated']\n",
    "total_reads = meta[cols].fillna('nan')\n",
    "total_reads.groupby(['site', 'mbs_consolidated']).describe()"
   ]
  },
  {
   "cell_type": "code",
   "execution_count": 36,
   "metadata": {
    "collapsed": false
   },
   "outputs": [
    {
     "data": {
      "text/plain": [
       "<matplotlib.axes._subplots.AxesSubplot at 0x11431c1d0>"
      ]
     },
     "execution_count": 36,
     "metadata": {},
     "output_type": "execute_result"
    },
    {
     "data": {
      "image/png": "[encoded data removed]",
      "text/plain": [
       "<matplotlib.figure.Figure at 0x113527850>"
      ]
     },
     "metadata": {},
     "output_type": "display_data"
    }
   ],
   "source": [
    "sns.boxplot(data=total_reads, x='site', y='total_reads', hue='mbs_consolidated')"
   ]
  },
  {
   "cell_type": "code",
   "execution_count": 37,
   "metadata": {
    "collapsed": false
   },
   "outputs": [
    {
     "data": {
      "text/plain": [
       "<matplotlib.axes._subplots.AxesSubplot at 0x1126cf590>"
      ]
     },
     "execution_count": 37,
     "metadata": {},
     "output_type": "execute_result"
    },
    {
     "data": {
      "image/png": "[encoded data removed]",
      "text/plain": [
       "<matplotlib.figure.Figure at 0x11277a7d0>"
      ]
     },
     "metadata": {},
     "output_type": "display_data"
    }
   ],
   "source": [
    "sns.boxplot(data=total_reads, x='site', y='log_reads', hue='mbs_consolidated')"
   ]
  },
  {
   "cell_type": "code",
   "execution_count": 40,
   "metadata": {
    "collapsed": false
   },
   "outputs": [
    {
     "data": {
      "text/plain": [
       "3.3010299956639813"
      ]
     },
     "execution_count": 40,
     "metadata": {},
     "output_type": "execute_result"
    }
   ],
   "source": [
    "np.log10(2000)"
   ]
  },
  {
   "cell_type": "markdown",
   "metadata": {
    "collapsed": true
   },
   "source": [
    "# Rarefaction curve\n",
    "\n",
    "Pseudo code:\n",
    "\n",
    "```\n",
    "for n in [range of N reads to downsample]:\n",
    "    for i in range(20):\n",
    "        subsample each sample\n",
    "        calculate a couple of different alpha diversities (number of OTUs, shannon)\n",
    "        store: sample, n, alpha_type, alpha_val, i\n",
    "\n",
    "# Plotting\n",
    "groupby(sample).mean()\n",
    "merge with site metadata\n",
    "for each value of alpha:\n",
    "    plot(x=n, y=alpha, color=site)\n",
    "```"
   ]
  },
  {
   "cell_type": "code",
   "execution_count": 161,
   "metadata": {
    "collapsed": true
   },
   "outputs": [],
   "source": [
    "from skbio.stats import subsample_counts\n",
    "from skbio.diversity.alpha import chao1, shannon, simpson_e, observed_otus"
   ]
  },
  {
   "cell_type": "code",
   "execution_count": 162,
   "metadata": {
    "collapsed": true
   },
   "outputs": [],
   "source": [
    "fotu = '../../data/clean/rosen.otu_table.counts.clean'\n",
    "fmeta = '../../data/clean/rosen.metadata.clean'\n",
    "\n",
    "df = pd.read_csv(fotu, sep='\\t', index_col=0)\n",
    "meta = pd.read_csv(fmeta, sep='\\t', index_col=0)\n",
    "\n",
    "# Transpose dataframe so samples are in columns\n",
    "df = df.T"
   ]
  },
  {
   "cell_type": "code",
   "execution_count": 163,
   "metadata": {
    "collapsed": false
   },
   "outputs": [],
   "source": [
    "def my_subsample(col, n):\n",
    "    \"\"\"\n",
    "    Subsample n reads from col. If col does not\n",
    "    have at least n reads, do not return that column.\n",
    "    \n",
    "    This wrapper is needed bc skbio's subsample_counts\n",
    "    throws an error if there aren't enough reads.\n",
    "    \"\"\"\n",
    "    if sum(col) >= n:\n",
    "        return subsample_counts(col, n)\n",
    "    else:\n",
    "        return [np.nan]*len(col.index)"
   ]
  },
  {
   "cell_type": "code",
   "execution_count": null,
   "metadata": {
    "collapsed": false
   },
   "outputs": [
    {
     "name": "stdout",
     "output_type": "stream",
     "text": [
      "50\n",
      "0 1 2 3 4 5 6 7 8 9 \n",
      "100\n",
      "0 1 2 3 4 5 6 7 8 9 \n",
      "150\n",
      "0 1 2 3 4 5 6 7"
     ]
    }
   ],
   "source": [
    "n_reads = [50, 100, 150, 200, 250, 300, 350, 400, 450, 500, 1000, 1500, 2000, 5000, 7000]\n",
    "alpha_metrics = {'chao1': chao1, 'shannon': shannon, 'simpson_e': simpson_e, 'observed': observed_otus}\n",
    "\n",
    "# This list will contain all the final results\n",
    "rare_lst = []\n",
    "for n in n_reads:\n",
    "    print(n)\n",
    "    for i in range(10):\n",
    "        print(i),\n",
    "        subdf = df.apply(lambda col: my_subsample(col, n))\n",
    "        subdf = subdf.dropna(how='all', axis=1)\n",
    "\n",
    "        # Calculate new alpha diversity\n",
    "        for name, fun in alpha_metrics.iteritems():\n",
    "            a = pd.DataFrame(subdf.apply(fun), columns=['alpha_val']).reset_index()\n",
    "            a = a.rename(columns={'index': 'sample'})\n",
    "            a['alpha_type'] = name\n",
    "            a['n'] = n\n",
    "            a['iteration'] = i\n",
    "            rare_lst.append(a)\n",
    "    print('')\n"
   ]
  },
  {
   "cell_type": "code",
   "execution_count": null,
   "metadata": {
    "collapsed": false
   },
   "outputs": [],
   "source": [
    "raredf = pd.concat(rare_lst, ignore_index=True)\n",
    "# Merge with site metadata\n",
    "raredf = pd.merge(raredf, meta[['batch', 'site']], left_on='sample', right_index=True)\n",
    "means = raredf.groupby(['sample', 'site', 'alpha_type', 'n']).mean().reset_index()"
   ]
  },
  {
   "cell_type": "code",
   "execution_count": null,
   "metadata": {
    "collapsed": false
   },
   "outputs": [],
   "source": [
    "sites = ['bal', 'throat_swab', 'gastric_fluid']\n",
    "\n",
    "#g = sns.FacetGrid(data=means.query('site == @sites'), col='alpha_type', row='site', sharey=False)\n",
    "## Gr this isn't working bc all the lines are connected\n",
    "#g.map(sns.plt.plot, 'n', 'alpha_val', linewidth=0.1)"
   ]
  },
  {
   "cell_type": "code",
   "execution_count": null,
   "metadata": {
    "collapsed": false
   },
   "outputs": [],
   "source": [
    "# Fine I'll just do it manually...\n",
    "sns.set_style('white')\n",
    "fig, ax = plt.subplots(3, 4, figsize=(14, 9))\n",
    "ax = ax.flatten()\n",
    "\n",
    "i = 0\n",
    "for site in sites:\n",
    "    for alpha_type in raredf['alpha_type'].unique():\n",
    "        subdf = means.query('site == @site').query('alpha_type == @alpha_type')\n",
    "        for _, sampledf in subdf.groupby('sample'):\n",
    "            ax[i].plot(sampledf['n'], sampledf['alpha_val'], 'k', linewidth=0.1)\n",
    "        ax[i].set_title(site + '/' + alpha_type)\n",
    "        i += 1\n",
    "        "
   ]
  },
  {
   "cell_type": "code",
   "execution_count": null,
   "metadata": {
    "collapsed": false
   },
   "outputs": [],
   "source": [
    "# Fine I'll just do it manually...\n",
    "sns.set_style('white')\n",
    "fig, ax = plt.subplots(3, 4, figsize=(14, 9))\n",
    "ax = ax.flatten()\n",
    "\n",
    "i = 0\n",
    "for site in sites:\n",
    "    for alpha_type in raredf['alpha_type'].unique():\n",
    "        subdf = means.query('site == @site').query('alpha_type == @alpha_type')\n",
    "        for _, sampledf in subdf.groupby('sample'):\n",
    "            ax[i].plot(sampledf['n'], sampledf['alpha_val'], 'k', linewidth=0.1)\n",
    "        ax[i].set_title(site + '/' + alpha_type)\n",
    "        \n",
    "        # Zoom in\n",
    "        ax[i].set_xlim([0, 500])\n",
    "        \n",
    "        i += 1\n",
    "        "
   ]
  },
  {
   "cell_type": "code",
   "execution_count": null,
   "metadata": {
    "collapsed": true
   },
   "outputs": [],
   "source": []
  }
 ],
 "metadata": {
  "kernelspec": {
   "display_name": "Python [default]",
   "language": "python",
   "name": "python2"
  },
  "language_info": {
   "codemirror_mode": {
    "name": "ipython",
    "version": 2
   },
   "file_extension": ".py",
   "mimetype": "text/x-python",
   "name": "python",
   "nbconvert_exporter": "python",
   "pygments_lexer": "ipython2",
   "version": "2.7.12"
  }
 },
 "nbformat": 4,
 "nbformat_minor": 2
}
