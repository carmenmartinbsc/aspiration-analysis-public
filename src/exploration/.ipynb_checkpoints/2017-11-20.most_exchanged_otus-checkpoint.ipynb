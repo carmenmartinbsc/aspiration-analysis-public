{
 "cells": [
  {
   "cell_type": "markdown",
   "metadata": {},
   "source": [
    "Most exchanged bugs. re: Rachel's email\n",
    "\n",
    "> I think it is really important to highlight the most commonly exchanged bacteria between the three sights in aspirating patients compared to nonaspirating patients. Clinically this is important and is especially important as all of us are looking for biomarkers of aspiration or biomarkers of more significant lung disease of which bacterial may be one….    \n",
    "\n",
    "Two ways to answer this:\n",
    "\n",
    "1. Which OTUs are ``most exchanged'' between throat and lungs, in general? (Sort of boring, but easiest to answer).\n",
    "2. Of the BAL-throat exchanged OTUs, which are most differentially abundant/prevalent between aspirators and non-aspirators?\n",
    "    - not sure if prevalence or abundance is more interesting. probably prevalence, since we're looking for a clinically relevant biomarker...\n",
    "    \n",
    "In this notebook, I also try to build classifiers based only on the most exchanged OTUs.\n",
    "\n",
    "2018-01-16 update: I'm going to do all the same analyses, but for the lung-stomach bugs too."
   ]
  },
  {
   "cell_type": "code",
   "execution_count": 1,
   "metadata": {
    "collapsed": false
   },
   "outputs": [],
   "source": [
    "import pandas as pd\n",
    "\n",
    "from IPython.display import display\n",
    "\n",
    "import matplotlib.pyplot as plt\n",
    "import seaborn as sns\n",
    "%matplotlib inline"
   ]
  },
  {
   "cell_type": "code",
   "execution_count": 32,
   "metadata": {
    "collapsed": false
   },
   "outputs": [],
   "source": [
    "import numpy as np\n",
    "\n",
    "from sklearn.ensemble import RandomForestClassifier\n",
    "from sklearn.cross_validation import StratifiedKFold\n",
    "from sklearn.metrics import confusion_matrix, auc, roc_curve\n",
    "from scipy import interp\n",
    "from scipy.stats import fisher_exact\n",
    "\n",
    "def cv_and_roc(rf, X, Y, num_cv=5, random_state=None, shuffle=False):\n",
    "    \"\"\"\n",
    "    Perform cross validated training and testing and return the aggregate\n",
    "    interpolated ROC curve and confusion matrices.\n",
    "\n",
    "    Parameters\n",
    "    ----------\n",
    "    rf : any sklearn classifier object\n",
    "    X : array-like or sparse matrix, shape = [n_samples, n_features]\n",
    "        The input samples to be split into train and test folds and\n",
    "        cross-validated.\n",
    "    Y : list or array\n",
    "        array-like, shape = [n_samples] or [n_samples, n_outputs]\n",
    "        The target values (class labels in classification).\n",
    "    num_cv : int (default: 5)\n",
    "        number of cross-validation folds\n",
    "    random_state : int (default 12345)\n",
    "        random state seed for StratifiedKFold\n",
    "\n",
    "    Returns\n",
    "    -------\n",
    "    d : dict with the following keys:\n",
    "        'roc_auc': area under the ROC curve\n",
    "        'conf_mat': confusion matrix array, looks like:\n",
    "                              pred\n",
    "                             0   1\n",
    "                    true  0  -   -\n",
    "                          1  -   -\n",
    "        'fisher_p': fisher exact pvalue of conf_mat above\n",
    "        'y_probs': probability of being class 1\n",
    "        'y_trues': true labels\n",
    "        'mean_fpr', 'mean_tpr': interpolated values used to build ROC curve\n",
    "\n",
    "    \"\"\"\n",
    "    if isinstance(Y, list):\n",
    "        Y = np.asarray(Y)\n",
    "    cv = StratifiedKFold(Y, num_cv, shuffle=True, random_state=random_state)\n",
    "    tpr_list = []\n",
    "    auc_list = []\n",
    "    mean_fpr = np.linspace(0, 1, 100)\n",
    "    conf_mat = np.asarray([[0,0],[0,0]])\n",
    "    y_probs = np.empty_like(Y)\n",
    "    y_predictions = np.empty_like(Y)\n",
    "\n",
    "    for train_index, test_index in cv:\n",
    "        X_train, X_test = X[train_index], X[test_index]\n",
    "        Y_train, Y_test = Y[train_index], Y[test_index]\n",
    "        probs = rf.fit(X_train, Y_train).predict_proba(X_test)[:,1]\n",
    "        preds = rf.predict(X_test)\n",
    "\n",
    "        # Store probability and predicted values for X_test\n",
    "        y_probs[test_index] = probs\n",
    "        y_predictions[test_index] = preds\n",
    "\n",
    "        # Compute ROC curve and area under the curve\n",
    "        fpr, tpr, thresholds = roc_curve(Y_test, probs)\n",
    "        roc_auc = auc(fpr, tpr)\n",
    "        auc_list.append(roc_auc)\n",
    "        tpr_list.append(interp(mean_fpr, fpr, tpr))\n",
    "        tpr_list[-1][0] = 0.0\n",
    "\n",
    "        # Compute confusion matrix\n",
    "        conf_mat += confusion_matrix(Y_test, preds, labels=[0,1])\n",
    "\n",
    "    # Get fisher p value, sensitivity/specificity, positive/negative pred value\n",
    "    _, fisher_p = fisher_exact(conf_mat)\n",
    "    # conf_mat: rows are the true labels, columns are the predicted labels\n",
    "    conf_mat = pd.DataFrame(conf_mat)\n",
    "    conf_mat.columns = ['pred 0', 'pred 1']\n",
    "    conf_mat.index = ['true 0', 'true 1']\n",
    "    ppv = conf_mat.loc['true 1', 'pred 1'] / float(conf_mat['pred 1'].sum())\n",
    "    npv = conf_mat.loc['true 0', 'pred 0'] / float(conf_mat['pred 0'].sum())\n",
    "    spec = \\\n",
    "        conf_mat.loc['true 0', 'pred 0'] / float(conf_mat.loc['true 0'].sum())\n",
    "    sens = \\\n",
    "        conf_mat.loc['true 1', 'pred 1'] / float(conf_mat.loc['true 1'].sum())\n",
    "\n",
    "    return {i: j for i, j in\n",
    "            zip(('auc_list', 'conf_mat', 'mean_fpr', 'tpr_list',\n",
    "                'fisher_p', 'y_prob', 'y_predictions', 'y_true',\n",
    "                'sensitivity', 'specificity', 'ppv', 'npv'),\n",
    "               (auc_list, conf_mat, mean_fpr, tpr_list, fisher_p,\n",
    "               y_probs, y_predictions, Y,\n",
    "               sens, spec, ppv, npv))}\n",
    "\n",
    "def plot_auc_from_list(tpr_list, mean_fpr, color='blue', ax=None):\n",
    "    \"\"\" \n",
    "    tpr_list : list\n",
    "        list of true positive rates (len(tpr_list) = number of CV folds)\n",
    "    mean_fpr : list\n",
    "        np.linspace(0, 1) with the same number of elements as tpr_list\n",
    "    color : str\n",
    "        color of the mean ROC line to plot\n",
    "    \n",
    "    Adapted from Isaac's code at \n",
    "    https://github.com/irockafe/revo_healthcare/blob/master/src/visualization/viz.py\n",
    "    \"\"\"\n",
    "    # get mean tpr and fpr\n",
    "    mean_tpr = np.mean(tpr_list, axis=0)\n",
    "    # make sure it ends up at 1.0\n",
    "    mean_tpr[-1] = 1.0\n",
    "    \n",
    "    if ax is None:\n",
    "        fig, ax = plt.subplots()\n",
    "    \n",
    "    ax.plot(mean_fpr, mean_tpr, color=color)\n",
    "    # Plot luck line\n",
    "    ax.plot([0, 1], [0, 1], linestyle='--', color='k', alpha=0.5)\n",
    "    \n",
    "    # plot 1-std\n",
    "    std_tpr = np.std(tpr_list, axis=0)\n",
    "    tprs_upper = np.minimum(mean_tpr + std_tpr, 1)\n",
    "    tprs_lower = np.maximum(mean_tpr - std_tpr, 0)\n",
    "    ax.fill_between(mean_fpr, tprs_lower, tprs_upper, color=color,\n",
    "                    alpha=0.2)\n",
    "    \n",
    "    return ax\n",
    "\n",
    "def tidyfy_otu(df, meta, mbscol):\n",
    "    \"\"\"\n",
    "    Turn OTU table into a tidy dataframe with subject, sample ID, site, OTU,\n",
    "    OTU labeled with the site, abundance, and aspiration status.\n",
    "\n",
    "    To make our OTU-based classifiers (after tidyfying), we will:\n",
    "    1. Query tidyotu for the site(s) of interest and drop any samples\n",
    "       without aspiration metadata.\n",
    "    2. Pivot queried table to have subjects in rows and otu-w-site in columns\n",
    "    3. Assemble the output (Y) from the metadata, using a subject to\n",
    "       aspiration status dict\n",
    "\n",
    "    Parameters\n",
    "    ----------\n",
    "    df : pandas DataFrame\n",
    "        OTUs in columns and samples in rows\n",
    "    meta : pandas DataFrame\n",
    "        metadata in columns and samples in rows\n",
    "    mbscol : str\n",
    "        column in meta with aspiration status\n",
    "    \"\"\"\n",
    "    \n",
    "    print('Tidying data... ')\n",
    "    tidyotu = pd.melt(df.reset_index(), id_vars='index', value_name='abun',\n",
    "                      var_name='otu')\n",
    "    tidyotu = tidyotu.rename(columns={'index': 'sample'})\n",
    "    # Add the subject ID, site, and aspiration metadata associated with each sample\n",
    "    keepcols = [mbscol, 'site', 'subject_id']\n",
    "    tidyotu = tidyotu.merge(meta[keepcols], left_on='sample', right_index=True)\n",
    "    # Label OTUs with their associated site\n",
    "    tidyotu['otu_w_site'] = tidyotu.apply(\n",
    "        lambda row: row['otu'] + '--' + row['site'],\n",
    "        axis=1)\n",
    "    print('Finished.')\n",
    "    return tidyotu\n",
    "\n",
    "def convert_to_latex(row):\n",
    "    \"\"\"\n",
    "    Convert a row from a pandas DataFrame (i.e. a Series)\n",
    "    into different cells in a Latex table. Also replaces\n",
    "    underscores with escaped underscore.\n",
    "    \"\"\"\n",
    "    return ' & '.join(['\\_'.join(i.split('_')) for i in row.astype(str)]) + ' \\\\\\ '\n"
   ]
  },
  {
   "cell_type": "code",
   "execution_count": 2,
   "metadata": {
    "collapsed": false
   },
   "outputs": [
    {
     "data": {
      "text/html": [
       "<div>\n",
       "<style scoped>\n",
       "    .dataframe tbody tr th:only-of-type {\n",
       "        vertical-align: middle;\n",
       "    }\n",
       "\n",
       "    .dataframe tbody tr th {\n",
       "        vertical-align: top;\n",
       "    }\n",
       "\n",
       "    .dataframe thead th {\n",
       "        text-align: right;\n",
       "    }\n",
       "</style>\n",
       "<table border=\"1\" class=\"dataframe\">\n",
       "  <thead>\n",
       "    <tr style=\"text-align: right;\">\n",
       "      <th></th>\n",
       "      <th>otu</th>\n",
       "      <th>site1</th>\n",
       "      <th>site2</th>\n",
       "      <th>site3</th>\n",
       "      <th>r_site12</th>\n",
       "      <th>p_site12</th>\n",
       "      <th>n_site12</th>\n",
       "      <th>r_partial</th>\n",
       "      <th>p_partial</th>\n",
       "      <th>n_partial</th>\n",
       "      <th>shuffled</th>\n",
       "    </tr>\n",
       "  </thead>\n",
       "  <tbody>\n",
       "    <tr>\n",
       "      <th>0</th>\n",
       "      <td>k__Bacteria;p__;c__;o__;f__;g__;s__;d__denovo259</td>\n",
       "      <td>gastric_fluid</td>\n",
       "      <td>throat_swab</td>\n",
       "      <td>bal</td>\n",
       "      <td>0.538462</td>\n",
       "      <td>0.057634</td>\n",
       "      <td>13</td>\n",
       "      <td>0.527205</td>\n",
       "      <td>0.0455</td>\n",
       "      <td>10</td>\n",
       "      <td>False</td>\n",
       "    </tr>\n",
       "    <tr>\n",
       "      <th>1</th>\n",
       "      <td>k__Bacteria;p__;c__;o__;f__;g__;s__;d__denovo364</td>\n",
       "      <td>bal</td>\n",
       "      <td>gastric_fluid</td>\n",
       "      <td>throat_swab</td>\n",
       "      <td>0.633498</td>\n",
       "      <td>0.000225</td>\n",
       "      <td>29</td>\n",
       "      <td>0.630829</td>\n",
       "      <td>0.0000</td>\n",
       "      <td>21</td>\n",
       "      <td>False</td>\n",
       "    </tr>\n",
       "    <tr>\n",
       "      <th>2</th>\n",
       "      <td>k__Bacteria;p__;c__;o__;f__;g__;s__;d__denovo364</td>\n",
       "      <td>gastric_fluid</td>\n",
       "      <td>throat_swab</td>\n",
       "      <td>bal</td>\n",
       "      <td>0.500000</td>\n",
       "      <td>0.253170</td>\n",
       "      <td>7</td>\n",
       "      <td>0.494496</td>\n",
       "      <td>0.1620</td>\n",
       "      <td>5</td>\n",
       "      <td>False</td>\n",
       "    </tr>\n",
       "    <tr>\n",
       "      <th>3</th>\n",
       "      <td>k__Bacteria;p__Actinobacteria;c__Actinobacteri...</td>\n",
       "      <td>bal</td>\n",
       "      <td>gastric_fluid</td>\n",
       "      <td>throat_swab</td>\n",
       "      <td>0.142857</td>\n",
       "      <td>0.787172</td>\n",
       "      <td>6</td>\n",
       "      <td>NaN</td>\n",
       "      <td>NaN</td>\n",
       "      <td>4</td>\n",
       "      <td>False</td>\n",
       "    </tr>\n",
       "    <tr>\n",
       "      <th>4</th>\n",
       "      <td>k__Bacteria;p__Actinobacteria;c__Actinobacteri...</td>\n",
       "      <td>gastric_fluid</td>\n",
       "      <td>throat_swab</td>\n",
       "      <td>bal</td>\n",
       "      <td>0.657143</td>\n",
       "      <td>0.156175</td>\n",
       "      <td>6</td>\n",
       "      <td>NaN</td>\n",
       "      <td>NaN</td>\n",
       "      <td>1</td>\n",
       "      <td>False</td>\n",
       "    </tr>\n",
       "  </tbody>\n",
       "</table>\n",
       "</div>"
      ],
      "text/plain": [
       "                                                 otu          site1  \\\n",
       "0   k__Bacteria;p__;c__;o__;f__;g__;s__;d__denovo259  gastric_fluid   \n",
       "1   k__Bacteria;p__;c__;o__;f__;g__;s__;d__denovo364            bal   \n",
       "2   k__Bacteria;p__;c__;o__;f__;g__;s__;d__denovo364  gastric_fluid   \n",
       "3  k__Bacteria;p__Actinobacteria;c__Actinobacteri...            bal   \n",
       "4  k__Bacteria;p__Actinobacteria;c__Actinobacteri...  gastric_fluid   \n",
       "\n",
       "           site2        site3  r_site12  p_site12  n_site12  r_partial  \\\n",
       "0    throat_swab          bal  0.538462  0.057634        13   0.527205   \n",
       "1  gastric_fluid  throat_swab  0.633498  0.000225        29   0.630829   \n",
       "2    throat_swab          bal  0.500000  0.253170         7   0.494496   \n",
       "3  gastric_fluid  throat_swab  0.142857  0.787172         6        NaN   \n",
       "4    throat_swab          bal  0.657143  0.156175         6        NaN   \n",
       "\n",
       "   p_partial  n_partial  shuffled  \n",
       "0     0.0455         10     False  \n",
       "1     0.0000         21     False  \n",
       "2     0.1620          5     False  \n",
       "3        NaN          4     False  \n",
       "4        NaN          1     False  "
      ]
     },
     "execution_count": 2,
     "metadata": {},
     "output_type": "execute_result"
    }
   ],
   "source": [
    "fexchange = '../../data/analysis/exchange.with_partial_corrs.txt'\n",
    "df = pd.read_csv(fexchange, sep='\\t')\n",
    "df.head()"
   ]
  },
  {
   "cell_type": "markdown",
   "metadata": {},
   "source": [
    "# Which are the most exchanged OTUs?\n",
    "\n",
    "First: look at which ones have the highest correlation between two sites. \n",
    "\n",
    "But the thing I really want is the ones that have the highest prevalence in both sites. These are the \"most exchanged.\" That said, the thing I'll actually report is the most differentially exchanged bugs (see section below)."
   ]
  },
  {
   "cell_type": "code",
   "execution_count": 3,
   "metadata": {
    "collapsed": false
   },
   "outputs": [],
   "source": [
    "n_thresh = 10\n",
    "df = df.query('n_partial >= @n_thresh')\n",
    "df['genus'] = df['otu'].str.split(';').str[-3]"
   ]
  },
  {
   "cell_type": "code",
   "execution_count": 127,
   "metadata": {
    "collapsed": false
   },
   "outputs": [],
   "source": [
    "## Show the OTUs with the largest r_partial\n",
    "#sites = ['bal', 'gastric_fluid', 'throat_swab']\n",
    "#cols = ['otu', 'site1', 'site2', 'r_partial', 'p_partial', 'n_partial', 'genus']\n",
    "#for site1 in sites:\n",
    "#    for site2 in sites[sites.index(site1)+1:]:\n",
    "#        print(site1, site2)\n",
    "#        display(df\\\n",
    "#                .dropna(subset=['r_partial'])\\\n",
    "#                .query('site1 == @site1')\\\n",
    "#                .query('site2 == @site2')\\\n",
    "#                .sort_values(by=['r_partial', 'p_partial'], ascending=[False, True])\\\n",
    "#                [cols]\\\n",
    "#                .head(10))"
   ]
  },
  {
   "cell_type": "markdown",
   "metadata": {},
   "source": [
    "# What are the most differentially exchanged OTUs?\n",
    "\n",
    "Which of the throat-BAL OTUs are most differentially prevalent between aspirators and non-aspirators? \n",
    "Then: what are their average abundances in throats and lungs of aspirators/non-aspirators?"
   ]
  },
  {
   "cell_type": "code",
   "execution_count": 131,
   "metadata": {
    "collapsed": false
   },
   "outputs": [
    {
     "data": {
      "text/html": [
       "<div>\n",
       "<style scoped>\n",
       "    .dataframe tbody tr th:only-of-type {\n",
       "        vertical-align: middle;\n",
       "    }\n",
       "\n",
       "    .dataframe tbody tr th {\n",
       "        vertical-align: top;\n",
       "    }\n",
       "\n",
       "    .dataframe thead th {\n",
       "        text-align: right;\n",
       "    }\n",
       "</style>\n",
       "<table border=\"1\" class=\"dataframe\">\n",
       "  <thead>\n",
       "    <tr style=\"text-align: right;\">\n",
       "      <th></th>\n",
       "      <th>otu</th>\n",
       "      <th>prevalence_exchange</th>\n",
       "      <th>meta_var</th>\n",
       "      <th>meta_val</th>\n",
       "      <th>site_comparison</th>\n",
       "      <th>n_patients</th>\n",
       "    </tr>\n",
       "  </thead>\n",
       "  <tbody>\n",
       "    <tr>\n",
       "      <th>0</th>\n",
       "      <td>k__Bacteria;p__;c__;o__;f__;g__;s__;d__denovo364</td>\n",
       "      <td>0.237705</td>\n",
       "      <td>all_patients</td>\n",
       "      <td>all_patients</td>\n",
       "      <td>bal-gastric_fluid</td>\n",
       "      <td>122</td>\n",
       "    </tr>\n",
       "    <tr>\n",
       "      <th>1</th>\n",
       "      <td>k__Bacteria;p__Actinobacteria;c__Actinobacteri...</td>\n",
       "      <td>0.147541</td>\n",
       "      <td>all_patients</td>\n",
       "      <td>all_patients</td>\n",
       "      <td>bal-gastric_fluid</td>\n",
       "      <td>122</td>\n",
       "    </tr>\n",
       "    <tr>\n",
       "      <th>2</th>\n",
       "      <td>k__Bacteria;p__Actinobacteria;c__Actinobacteri...</td>\n",
       "      <td>0.139344</td>\n",
       "      <td>all_patients</td>\n",
       "      <td>all_patients</td>\n",
       "      <td>bal-gastric_fluid</td>\n",
       "      <td>122</td>\n",
       "    </tr>\n",
       "    <tr>\n",
       "      <th>3</th>\n",
       "      <td>k__Bacteria;p__Actinobacteria;c__Actinobacteri...</td>\n",
       "      <td>0.393443</td>\n",
       "      <td>all_patients</td>\n",
       "      <td>all_patients</td>\n",
       "      <td>bal-gastric_fluid</td>\n",
       "      <td>122</td>\n",
       "    </tr>\n",
       "    <tr>\n",
       "      <th>4</th>\n",
       "      <td>k__Bacteria;p__Actinobacteria;c__Actinobacteri...</td>\n",
       "      <td>0.180328</td>\n",
       "      <td>all_patients</td>\n",
       "      <td>all_patients</td>\n",
       "      <td>bal-gastric_fluid</td>\n",
       "      <td>122</td>\n",
       "    </tr>\n",
       "  </tbody>\n",
       "</table>\n",
       "</div>"
      ],
      "text/plain": [
       "                                                 otu  prevalence_exchange  \\\n",
       "0   k__Bacteria;p__;c__;o__;f__;g__;s__;d__denovo364             0.237705   \n",
       "1  k__Bacteria;p__Actinobacteria;c__Actinobacteri...             0.147541   \n",
       "2  k__Bacteria;p__Actinobacteria;c__Actinobacteri...             0.139344   \n",
       "3  k__Bacteria;p__Actinobacteria;c__Actinobacteri...             0.393443   \n",
       "4  k__Bacteria;p__Actinobacteria;c__Actinobacteri...             0.180328   \n",
       "\n",
       "       meta_var      meta_val    site_comparison  n_patients  \n",
       "0  all_patients  all_patients  bal-gastric_fluid         122  \n",
       "1  all_patients  all_patients  bal-gastric_fluid         122  \n",
       "2  all_patients  all_patients  bal-gastric_fluid         122  \n",
       "3  all_patients  all_patients  bal-gastric_fluid         122  \n",
       "4  all_patients  all_patients  bal-gastric_fluid         122  "
      ]
     },
     "execution_count": 131,
     "metadata": {},
     "output_type": "execute_result"
    }
   ],
   "source": [
    "fpreva = '../../data/analysis/prevalence.partial_corrs.nthresh10-qthresh01-rthresh0.txt'\n",
    "preva = pd.read_csv(fpreva, sep='\\t')\n",
    "preva.head()"
   ]
  },
  {
   "cell_type": "code",
   "execution_count": 132,
   "metadata": {
    "collapsed": false
   },
   "outputs": [
    {
     "data": {
      "text/plain": [
       "site_comparison\n",
       "bal-gastric_fluid            48\n",
       "bal-throat_swab               9\n",
       "gastric_fluid-throat_swab    98\n",
       "dtype: int64"
      ]
     },
     "execution_count": 132,
     "metadata": {},
     "output_type": "execute_result"
    }
   ],
   "source": [
    "# Number of exchange OTUs per site combination\n",
    "preva.query('meta_var == \"all_patients\"').groupby('site_comparison').size()"
   ]
  },
  {
   "cell_type": "code",
   "execution_count": 133,
   "metadata": {
    "collapsed": false
   },
   "outputs": [],
   "source": [
    "#preva['meta_var'].unique()"
   ]
  },
  {
   "cell_type": "code",
   "execution_count": 134,
   "metadata": {
    "collapsed": true
   },
   "outputs": [],
   "source": [
    "# Let's look just at the aspirator vs. non-aspirator comparisons\n",
    "preva = preva.query('meta_var == \"mbs_consolidated\"')\n",
    "\n",
    "# And just the bal-throat_swab comparison\n",
    "preva = preva.query('site_comparison == \"bal-throat_swab\"')"
   ]
  },
  {
   "cell_type": "code",
   "execution_count": 135,
   "metadata": {
    "collapsed": false
   },
   "outputs": [],
   "source": [
    "#print(preva['meta_val'].unique())\n",
    "#print(preva['site_comparison'].unique())"
   ]
  },
  {
   "cell_type": "code",
   "execution_count": 136,
   "metadata": {
    "collapsed": false
   },
   "outputs": [],
   "source": [
    "#print(preva.shape, preva['otu'].unique().shape)"
   ]
  },
  {
   "cell_type": "code",
   "execution_count": 137,
   "metadata": {
    "collapsed": false
   },
   "outputs": [],
   "source": [
    "diffpreva = preva.pivot(index='otu', columns='meta_val', values='prevalence_exchange')\n",
    "diffpreva['asp_minus_nml'] = diffpreva['Aspiration/Penetration'] - diffpreva['Normal']\n",
    "diffpreva['abs_diff'] = abs(diffpreva['asp_minus_nml'])"
   ]
  },
  {
   "cell_type": "code",
   "execution_count": 138,
   "metadata": {
    "collapsed": false
   },
   "outputs": [
    {
     "data": {
      "text/html": [
       "<div>\n",
       "<style scoped>\n",
       "    .dataframe tbody tr th:only-of-type {\n",
       "        vertical-align: middle;\n",
       "    }\n",
       "\n",
       "    .dataframe tbody tr th {\n",
       "        vertical-align: top;\n",
       "    }\n",
       "\n",
       "    .dataframe thead th {\n",
       "        text-align: right;\n",
       "    }\n",
       "</style>\n",
       "<table border=\"1\" class=\"dataframe\">\n",
       "  <thead>\n",
       "    <tr style=\"text-align: right;\">\n",
       "      <th>meta_val</th>\n",
       "      <th>Aspiration/Penetration</th>\n",
       "      <th>Normal</th>\n",
       "      <th>asp_minus_nml</th>\n",
       "      <th>abs_diff</th>\n",
       "    </tr>\n",
       "    <tr>\n",
       "      <th>otu</th>\n",
       "      <th></th>\n",
       "      <th></th>\n",
       "      <th></th>\n",
       "      <th></th>\n",
       "    </tr>\n",
       "  </thead>\n",
       "  <tbody>\n",
       "    <tr>\n",
       "      <th>k__Bacteria;p__Bacteroidetes;c__Flavobacteriia;o__Flavobacteriales;f__Flavobacteriaceae;g__;s__;d__denovo93</th>\n",
       "      <td>0.428571</td>\n",
       "      <td>0.066667</td>\n",
       "      <td>0.361905</td>\n",
       "      <td>0.361905</td>\n",
       "    </tr>\n",
       "    <tr>\n",
       "      <th>k__Bacteria;p__Fusobacteria;c__Fusobacteriia;o__Fusobacteriales;f__Fusobacteriaceae;g__Fusobacterium;s__;d__denovo8</th>\n",
       "      <td>0.642857</td>\n",
       "      <td>0.300000</td>\n",
       "      <td>0.342857</td>\n",
       "      <td>0.342857</td>\n",
       "    </tr>\n",
       "    <tr>\n",
       "      <th>k__Bacteria;p__Bacteroidetes;c__Bacteroidia;o__Bacteroidales;f__Porphyromonadaceae;g__Porphyromonas;s__;d__denovo13</th>\n",
       "      <td>0.678571</td>\n",
       "      <td>0.366667</td>\n",
       "      <td>0.311905</td>\n",
       "      <td>0.311905</td>\n",
       "    </tr>\n",
       "    <tr>\n",
       "      <th>k__Bacteria;p__Firmicutes;c__Negativicutes;o__Selenomonadales;f__Veillonellaceae;g__Veillonella;s__;d__denovo26</th>\n",
       "      <td>0.571429</td>\n",
       "      <td>0.266667</td>\n",
       "      <td>0.304762</td>\n",
       "      <td>0.304762</td>\n",
       "    </tr>\n",
       "    <tr>\n",
       "      <th>k__Bacteria;p__Firmicutes;c__Bacilli;o__Lactobacillales;f__Streptococcaceae;g__Streptococcus;s__;d__denovo323</th>\n",
       "      <td>0.392857</td>\n",
       "      <td>0.133333</td>\n",
       "      <td>0.259524</td>\n",
       "      <td>0.259524</td>\n",
       "    </tr>\n",
       "    <tr>\n",
       "      <th>k__Bacteria;p__Fusobacteria;c__Fusobacteriia;o__Fusobacteriales;f__Fusobacteriaceae;g__Fusobacterium;s__;d__denovo100</th>\n",
       "      <td>0.321429</td>\n",
       "      <td>0.100000</td>\n",
       "      <td>0.221429</td>\n",
       "      <td>0.221429</td>\n",
       "    </tr>\n",
       "    <tr>\n",
       "      <th>k__Bacteria;p__Bacteroidetes;c__Bacteroidia;o__Bacteroidales;f__Prevotellaceae;g__Prevotella;s__;d__denovo213</th>\n",
       "      <td>0.321429</td>\n",
       "      <td>0.133333</td>\n",
       "      <td>0.188095</td>\n",
       "      <td>0.188095</td>\n",
       "    </tr>\n",
       "    <tr>\n",
       "      <th>k__Bacteria;p__Bacteroidetes;c__Bacteroidia;o__Bacteroidales;f__Porphyromonadaceae;g__Porphyromonas;s__;d__denovo287</th>\n",
       "      <td>0.178571</td>\n",
       "      <td>0.100000</td>\n",
       "      <td>0.078571</td>\n",
       "      <td>0.078571</td>\n",
       "    </tr>\n",
       "    <tr>\n",
       "      <th>k__Bacteria;p__Proteobacteria;c__Gammaproteobacteria;o__Pasteurellales;f__Pasteurellaceae;g__;s__;d__denovo37</th>\n",
       "      <td>0.321429</td>\n",
       "      <td>0.366667</td>\n",
       "      <td>-0.045238</td>\n",
       "      <td>0.045238</td>\n",
       "    </tr>\n",
       "  </tbody>\n",
       "</table>\n",
       "</div>"
      ],
      "text/plain": [
       "meta_val                                            Aspiration/Penetration  \\\n",
       "otu                                                                          \n",
       "k__Bacteria;p__Bacteroidetes;c__Flavobacteriia;...                0.428571   \n",
       "k__Bacteria;p__Fusobacteria;c__Fusobacteriia;o_...                0.642857   \n",
       "k__Bacteria;p__Bacteroidetes;c__Bacteroidia;o__...                0.678571   \n",
       "k__Bacteria;p__Firmicutes;c__Negativicutes;o__S...                0.571429   \n",
       "k__Bacteria;p__Firmicutes;c__Bacilli;o__Lactoba...                0.392857   \n",
       "k__Bacteria;p__Fusobacteria;c__Fusobacteriia;o_...                0.321429   \n",
       "k__Bacteria;p__Bacteroidetes;c__Bacteroidia;o__...                0.321429   \n",
       "k__Bacteria;p__Bacteroidetes;c__Bacteroidia;o__...                0.178571   \n",
       "k__Bacteria;p__Proteobacteria;c__Gammaproteobac...                0.321429   \n",
       "\n",
       "meta_val                                              Normal  asp_minus_nml  \\\n",
       "otu                                                                           \n",
       "k__Bacteria;p__Bacteroidetes;c__Flavobacteriia;...  0.066667       0.361905   \n",
       "k__Bacteria;p__Fusobacteria;c__Fusobacteriia;o_...  0.300000       0.342857   \n",
       "k__Bacteria;p__Bacteroidetes;c__Bacteroidia;o__...  0.366667       0.311905   \n",
       "k__Bacteria;p__Firmicutes;c__Negativicutes;o__S...  0.266667       0.304762   \n",
       "k__Bacteria;p__Firmicutes;c__Bacilli;o__Lactoba...  0.133333       0.259524   \n",
       "k__Bacteria;p__Fusobacteria;c__Fusobacteriia;o_...  0.100000       0.221429   \n",
       "k__Bacteria;p__Bacteroidetes;c__Bacteroidia;o__...  0.133333       0.188095   \n",
       "k__Bacteria;p__Bacteroidetes;c__Bacteroidia;o__...  0.100000       0.078571   \n",
       "k__Bacteria;p__Proteobacteria;c__Gammaproteobac...  0.366667      -0.045238   \n",
       "\n",
       "meta_val                                            abs_diff  \n",
       "otu                                                           \n",
       "k__Bacteria;p__Bacteroidetes;c__Flavobacteriia;...  0.361905  \n",
       "k__Bacteria;p__Fusobacteria;c__Fusobacteriia;o_...  0.342857  \n",
       "k__Bacteria;p__Bacteroidetes;c__Bacteroidia;o__...  0.311905  \n",
       "k__Bacteria;p__Firmicutes;c__Negativicutes;o__S...  0.304762  \n",
       "k__Bacteria;p__Firmicutes;c__Bacilli;o__Lactoba...  0.259524  \n",
       "k__Bacteria;p__Fusobacteria;c__Fusobacteriia;o_...  0.221429  \n",
       "k__Bacteria;p__Bacteroidetes;c__Bacteroidia;o__...  0.188095  \n",
       "k__Bacteria;p__Bacteroidetes;c__Bacteroidia;o__...  0.078571  \n",
       "k__Bacteria;p__Proteobacteria;c__Gammaproteobac...  0.045238  "
      ]
     },
     "execution_count": 138,
     "metadata": {},
     "output_type": "execute_result"
    }
   ],
   "source": [
    "diffpreva.sort_values(by='abs_diff', ascending=False)"
   ]
  },
  {
   "cell_type": "code",
   "execution_count": 139,
   "metadata": {
    "collapsed": false
   },
   "outputs": [
    {
     "data": {
      "text/html": [
       "<div>\n",
       "<style scoped>\n",
       "    .dataframe tbody tr th:only-of-type {\n",
       "        vertical-align: middle;\n",
       "    }\n",
       "\n",
       "    .dataframe tbody tr th {\n",
       "        vertical-align: top;\n",
       "    }\n",
       "\n",
       "    .dataframe thead th {\n",
       "        text-align: right;\n",
       "    }\n",
       "</style>\n",
       "<table border=\"1\" class=\"dataframe\">\n",
       "  <thead>\n",
       "    <tr style=\"text-align: right;\">\n",
       "      <th></th>\n",
       "      <th>meta_val</th>\n",
       "      <th>n_patients</th>\n",
       "    </tr>\n",
       "  </thead>\n",
       "  <tbody>\n",
       "    <tr>\n",
       "      <th>825</th>\n",
       "      <td>Aspiration/Penetration</td>\n",
       "      <td>28</td>\n",
       "    </tr>\n",
       "    <tr>\n",
       "      <th>834</th>\n",
       "      <td>Normal</td>\n",
       "      <td>30</td>\n",
       "    </tr>\n",
       "  </tbody>\n",
       "</table>\n",
       "</div>"
      ],
      "text/plain": [
       "                   meta_val  n_patients\n",
       "825  Aspiration/Penetration          28\n",
       "834                  Normal          30"
      ]
     },
     "execution_count": 139,
     "metadata": {},
     "output_type": "execute_result"
    }
   ],
   "source": [
    "# Just as a reminder... how many patients were used for these prevalence calcs?\n",
    "preva[['meta_val', 'n_patients']].drop_duplicates()"
   ]
  },
  {
   "cell_type": "markdown",
   "metadata": {},
   "source": [
    "Note: I could just include this table, I think it's pretty interesting on its own right. For the paper, we'll have family and genus level indicators, prevalence in aspirators, prevalence in normal, and differential prevalence."
   ]
  },
  {
   "cell_type": "code",
   "execution_count": 166,
   "metadata": {
    "collapsed": false
   },
   "outputs": [
    {
     "name": "stdout",
     "output_type": "stream",
     "text": [
      "Flavobacteriaceae &  & 42.9 & 6.7 & 36.2 \\\\ \n",
      "Fusobacteriaceae & Fusobacterium & 64.3 & 30.0 & 34.3 \\\\ \n",
      "Porphyromonadaceae & Porphyromonas & 67.9 & 36.7 & 31.2 \\\\ \n",
      "Veillonellaceae & Veillonella & 57.1 & 26.7 & 30.5 \\\\ \n",
      "Streptococcaceae & Streptococcus & 39.3 & 13.3 & 26.0 \\\\ \n",
      "Fusobacteriaceae & Fusobacterium & 32.1 & 10.0 & 22.1 \\\\ \n",
      "Prevotellaceae & Prevotella & 32.1 & 13.3 & 18.8 \\\\ \n",
      "Porphyromonadaceae & Porphyromonas & 17.9 & 10.0 & 7.9 \\\\ \n",
      "Pasteurellaceae &  & 32.1 & 36.7 & -4.5 \\\\ \n"
     ]
    }
   ],
   "source": [
    "## Do some text manipulations to print these values out in latex table format\n",
    "\n",
    "# Split OTU names to individual phyla\n",
    "table = pd.concat((diffpreva.reset_index(), diffpreva.reset_index()['otu'].str.split(';', expand=True)), axis=1)\n",
    "table['family'] = table[4].str.split('f__').str[1]\n",
    "table['genus'] = table[5].str.split('g__').str[1]\n",
    "# Re-format percentages\n",
    "table['Aspiration/Penetration'] = table['Aspiration/Penetration'].apply(lambda x: '{:.1f}'.format(x*100))\n",
    "table['Normal'] = table['Normal'].apply(lambda x: '{:.1f}'.format(x*100))\n",
    "table['Difference'] = table['asp_minus_nml'].apply(lambda x: '{:.1f}'.format(x*100))\n",
    "table = table.sort_values(by='asp_minus_nml', ascending=False)\n",
    "\n",
    "col_order = ['family', 'genus', 'Aspiration/Penetration', 'Normal', 'Difference']\n",
    "table = table[col_order]\n",
    "print('\\n'.join(table.apply(convert_to_latex, axis=1)))"
   ]
  },
  {
   "cell_type": "markdown",
   "metadata": {},
   "source": [
    "# Classify aspirator from non-aspirator with throat-BAL OTUs"
   ]
  },
  {
   "cell_type": "code",
   "execution_count": 102,
   "metadata": {
    "collapsed": true
   },
   "outputs": [],
   "source": [
    "fotu = '../../data/clean/rosen.otu_table.rel_abun.clean'\n",
    "fmeta = '../../data/clean/rosen.metadata.clean'\n",
    "\n",
    "otu = pd.read_csv(fotu, sep='\\t', index_col=0)\n",
    "meta = pd.read_csv(fmeta, sep='\\t', index_col=0)"
   ]
  },
  {
   "cell_type": "code",
   "execution_count": 103,
   "metadata": {
    "collapsed": false
   },
   "outputs": [],
   "source": [
    "keepotus = diffpreva.index.tolist()\n",
    "otu = otu[keepotus]"
   ]
  },
  {
   "cell_type": "code",
   "execution_count": 104,
   "metadata": {
    "collapsed": false
   },
   "outputs": [
    {
     "data": {
      "text/html": [
       "<div>\n",
       "<style scoped>\n",
       "    .dataframe tbody tr th:only-of-type {\n",
       "        vertical-align: middle;\n",
       "    }\n",
       "\n",
       "    .dataframe tbody tr th {\n",
       "        vertical-align: top;\n",
       "    }\n",
       "\n",
       "    .dataframe thead th {\n",
       "        text-align: right;\n",
       "    }\n",
       "</style>\n",
       "<table border=\"1\" class=\"dataframe\">\n",
       "  <thead>\n",
       "    <tr style=\"text-align: right;\">\n",
       "      <th></th>\n",
       "      <th>subject_id</th>\n",
       "      <th>mbs_consolidated</th>\n",
       "      <th>n_samples</th>\n",
       "    </tr>\n",
       "  </thead>\n",
       "  <tbody>\n",
       "    <tr>\n",
       "      <th>0</th>\n",
       "      <td>02-096-6</td>\n",
       "      <td>Normal</td>\n",
       "      <td>2</td>\n",
       "    </tr>\n",
       "    <tr>\n",
       "      <th>1</th>\n",
       "      <td>02-098-5</td>\n",
       "      <td>Normal</td>\n",
       "      <td>2</td>\n",
       "    </tr>\n",
       "    <tr>\n",
       "      <th>2</th>\n",
       "      <td>02-111-4</td>\n",
       "      <td>Normal</td>\n",
       "      <td>2</td>\n",
       "    </tr>\n",
       "    <tr>\n",
       "      <th>3</th>\n",
       "      <td>02-120-4</td>\n",
       "      <td>Normal</td>\n",
       "      <td>2</td>\n",
       "    </tr>\n",
       "    <tr>\n",
       "      <th>7</th>\n",
       "      <td>02-186-0</td>\n",
       "      <td>Aspiration/Penetration</td>\n",
       "      <td>2</td>\n",
       "    </tr>\n",
       "  </tbody>\n",
       "</table>\n",
       "</div>"
      ],
      "text/plain": [
       "  subject_id        mbs_consolidated  n_samples\n",
       "0   02-096-6                  Normal          2\n",
       "1   02-098-5                  Normal          2\n",
       "2   02-111-4                  Normal          2\n",
       "3   02-120-4                  Normal          2\n",
       "7   02-186-0  Aspiration/Penetration          2"
      ]
     },
     "execution_count": 104,
     "metadata": {},
     "output_type": "execute_result"
    }
   ],
   "source": [
    "# Grab patients with both BAL and throat swab, and aspiration status\n",
    "sites = ['bal', 'throat_swab']\n",
    "patientsamples = meta\\\n",
    "    .query('site == @sites')\\\n",
    "    .dropna(subset=['mbs_consolidated'])\\\n",
    "    .groupby(['mbs_consolidated', 'site', 'subject_id'])\\\n",
    "    .size()\\\n",
    "    .to_frame('n_samples')\\\n",
    "    .reset_index()\\\n",
    "    .groupby(['subject_id', 'mbs_consolidated'])\\\n",
    "    .size()\\\n",
    "    .to_frame('n_samples')\\\n",
    "    .reset_index()\n",
    "patientsamples = patientsamples.query('n_samples == 2')\n",
    "#patientsamples.head()"
   ]
  },
  {
   "cell_type": "code",
   "execution_count": 105,
   "metadata": {
    "collapsed": true
   },
   "outputs": [],
   "source": [
    "h_subjs = patientsamples.query('mbs_consolidated == \"Normal\"')['subject_id'].tolist()\n",
    "asp_subjs = patientsamples.query('mbs_consolidated == \"Aspiration/Penetration\"')['subject_id'].tolist()"
   ]
  },
  {
   "cell_type": "markdown",
   "metadata": {},
   "source": [
    "### Asp vs. non-asp, using BAL samples and bal-throat exchanged OTUs only"
   ]
  },
  {
   "cell_type": "code",
   "execution_count": 33,
   "metadata": {
    "collapsed": false
   },
   "outputs": [],
   "source": [
    "h_smpls = meta.query('subject_id == @h_subjs').query('site == \"bal\"').index.tolist()\n",
    "asp_smpls = meta.query('subject_id == @asp_subjs').query('site == \"bal\"').index.tolist()\n",
    "\n",
    "aspdict = {'Normal': 0, 'Aspiration/Penetration': 1}\n",
    "\n",
    "X = otu.loc[h_smpls + asp_smpls, :]\n",
    "Y = [aspdict[meta.loc[i, 'mbs_consolidated']] for i in X.index]\n",
    "X = X.values"
   ]
  },
  {
   "cell_type": "code",
   "execution_count": 34,
   "metadata": {
    "collapsed": false
   },
   "outputs": [],
   "source": [
    "# BAL samples only, bal-throat OTUs only\n",
    "rf = RandomForestClassifier(n_estimators=1000)\n",
    "random_state=1234\n",
    "\n",
    "results = cv_and_roc(rf, X, Y, random_state=random_state)"
   ]
  },
  {
   "cell_type": "code",
   "execution_count": 30,
   "metadata": {
    "collapsed": false
   },
   "outputs": [
    {
     "data": {
      "text/plain": [
       "0.59045539570792094"
      ]
     },
     "execution_count": 30,
     "metadata": {},
     "output_type": "execute_result"
    }
   ],
   "source": [
    "np.mean(results['auc_list'])"
   ]
  },
  {
   "cell_type": "code",
   "execution_count": 39,
   "metadata": {
    "collapsed": false
   },
   "outputs": [
    {
     "data": {
      "text/plain": [
       "<matplotlib.axes._subplots.AxesSubplot at 0x11156fbd0>"
      ]
     },
     "execution_count": 39,
     "metadata": {},
     "output_type": "execute_result"
    },
    {
     "data": {
      "image/png": "[encoded data removed]",
      "text/plain": [
       "<matplotlib.figure.Figure at 0x111388390>"
      ]
     },
     "metadata": {},
     "output_type": "display_data"
    }
   ],
   "source": [
    "plot_auc_from_list(results['tpr_list'], results['mean_fpr'])"
   ]
  },
  {
   "cell_type": "code",
   "execution_count": 40,
   "metadata": {
    "collapsed": false
   },
   "outputs": [
    {
     "data": {
      "text/html": [
       "<div>\n",
       "<style scoped>\n",
       "    .dataframe tbody tr th:only-of-type {\n",
       "        vertical-align: middle;\n",
       "    }\n",
       "\n",
       "    .dataframe tbody tr th {\n",
       "        vertical-align: top;\n",
       "    }\n",
       "\n",
       "    .dataframe thead th {\n",
       "        text-align: right;\n",
       "    }\n",
       "</style>\n",
       "<table border=\"1\" class=\"dataframe\">\n",
       "  <thead>\n",
       "    <tr style=\"text-align: right;\">\n",
       "      <th></th>\n",
       "      <th>pred 0</th>\n",
       "      <th>pred 1</th>\n",
       "    </tr>\n",
       "  </thead>\n",
       "  <tbody>\n",
       "    <tr>\n",
       "      <th>true 0</th>\n",
       "      <td>17</td>\n",
       "      <td>13</td>\n",
       "    </tr>\n",
       "    <tr>\n",
       "      <th>true 1</th>\n",
       "      <td>14</td>\n",
       "      <td>14</td>\n",
       "    </tr>\n",
       "  </tbody>\n",
       "</table>\n",
       "</div>"
      ],
      "text/plain": [
       "        pred 0  pred 1\n",
       "true 0      17      13\n",
       "true 1      14      14"
      ]
     },
     "execution_count": 40,
     "metadata": {},
     "output_type": "execute_result"
    }
   ],
   "source": [
    "print(fisher_exact(results['conf_mat']))\n",
    "results['conf_mat']"
   ]
  },
  {
   "cell_type": "markdown",
   "metadata": {},
   "source": [
    "### Asp vs. non-asp, using throat samples and bal-throat exchanged OTUs only"
   ]
  },
  {
   "cell_type": "code",
   "execution_count": 41,
   "metadata": {
    "collapsed": true
   },
   "outputs": [],
   "source": [
    "# Throat samples only, bal-throat OTUs only\n",
    "h_smpls = meta.query('subject_id == @h_subjs').query('site == \"throat_swab\"').index.tolist()\n",
    "asp_smpls = meta.query('subject_id == @asp_subjs').query('site == \"throat_swab\"').index.tolist()\n",
    "\n",
    "X = otu.loc[h_smpls + asp_smpls, :]\n",
    "Y = [aspdict[meta.loc[i, 'mbs_consolidated']] for i in X.index]\n",
    "X = X.values\n",
    "\n",
    "rf = RandomForestClassifier(n_estimators=1000)\n",
    "results = cv_and_roc(rf, X, Y, random_state=random_state)"
   ]
  },
  {
   "cell_type": "code",
   "execution_count": 42,
   "metadata": {
    "collapsed": false
   },
   "outputs": [
    {
     "data": {
      "text/plain": [
       "0.55888888888888888"
      ]
     },
     "execution_count": 42,
     "metadata": {},
     "output_type": "execute_result"
    }
   ],
   "source": [
    "np.mean(results['auc_list'])"
   ]
  },
  {
   "cell_type": "code",
   "execution_count": 43,
   "metadata": {
    "collapsed": false
   },
   "outputs": [
    {
     "data": {
      "text/html": [
       "<div>\n",
       "<style scoped>\n",
       "    .dataframe tbody tr th:only-of-type {\n",
       "        vertical-align: middle;\n",
       "    }\n",
       "\n",
       "    .dataframe tbody tr th {\n",
       "        vertical-align: top;\n",
       "    }\n",
       "\n",
       "    .dataframe thead th {\n",
       "        text-align: right;\n",
       "    }\n",
       "</style>\n",
       "<table border=\"1\" class=\"dataframe\">\n",
       "  <thead>\n",
       "    <tr style=\"text-align: right;\">\n",
       "      <th></th>\n",
       "      <th>pred 0</th>\n",
       "      <th>pred 1</th>\n",
       "    </tr>\n",
       "  </thead>\n",
       "  <tbody>\n",
       "    <tr>\n",
       "      <th>true 0</th>\n",
       "      <td>19</td>\n",
       "      <td>11</td>\n",
       "    </tr>\n",
       "    <tr>\n",
       "      <th>true 1</th>\n",
       "      <td>15</td>\n",
       "      <td>13</td>\n",
       "    </tr>\n",
       "  </tbody>\n",
       "</table>\n",
       "</div>"
      ],
      "text/plain": [
       "        pred 0  pred 1\n",
       "true 0      19      11\n",
       "true 1      15      13"
      ]
     },
     "execution_count": 43,
     "metadata": {},
     "output_type": "execute_result"
    }
   ],
   "source": [
    "print(fisher_exact(results['conf_mat']))\n",
    "results['conf_mat']"
   ]
  },
  {
   "cell_type": "markdown",
   "metadata": {},
   "source": [
    "### How about presence/absence?"
   ]
  },
  {
   "cell_type": "code",
   "execution_count": 45,
   "metadata": {
    "collapsed": false
   },
   "outputs": [],
   "source": [
    "X_pres = (X > 0).astype(int)\n",
    "rf = RandomForestClassifier(n_estimators=1000)\n",
    "\n",
    "results = cv_and_roc(rf, X_pres, Y, random_state=random_state)"
   ]
  },
  {
   "cell_type": "code",
   "execution_count": 47,
   "metadata": {
    "collapsed": false
   },
   "outputs": [
    {
     "data": {
      "text/plain": [
       "0.45944444444444449"
      ]
     },
     "execution_count": 47,
     "metadata": {},
     "output_type": "execute_result"
    }
   ],
   "source": [
    "np.mean(results['auc_list'])"
   ]
  },
  {
   "cell_type": "code",
   "execution_count": 48,
   "metadata": {
    "collapsed": false
   },
   "outputs": [
    {
     "data": {
      "text/html": [
       "<div>\n",
       "<style scoped>\n",
       "    .dataframe tbody tr th:only-of-type {\n",
       "        vertical-align: middle;\n",
       "    }\n",
       "\n",
       "    .dataframe tbody tr th {\n",
       "        vertical-align: top;\n",
       "    }\n",
       "\n",
       "    .dataframe thead th {\n",
       "        text-align: right;\n",
       "    }\n",
       "</style>\n",
       "<table border=\"1\" class=\"dataframe\">\n",
       "  <thead>\n",
       "    <tr style=\"text-align: right;\">\n",
       "      <th></th>\n",
       "      <th>pred 0</th>\n",
       "      <th>pred 1</th>\n",
       "    </tr>\n",
       "  </thead>\n",
       "  <tbody>\n",
       "    <tr>\n",
       "      <th>true 0</th>\n",
       "      <td>15</td>\n",
       "      <td>15</td>\n",
       "    </tr>\n",
       "    <tr>\n",
       "      <th>true 1</th>\n",
       "      <td>18</td>\n",
       "      <td>10</td>\n",
       "    </tr>\n",
       "  </tbody>\n",
       "</table>\n",
       "</div>"
      ],
      "text/plain": [
       "        pred 0  pred 1\n",
       "true 0      15      15\n",
       "true 1      18      10"
      ]
     },
     "execution_count": 48,
     "metadata": {},
     "output_type": "execute_result"
    }
   ],
   "source": [
    "print(fisher_exact(results['conf_mat']))\n",
    "results['conf_mat']"
   ]
  },
  {
   "cell_type": "markdown",
   "metadata": {},
   "source": [
    "### Asp vs. non-asp, using BAL and throat samples, and bal-throat exchanged OTUs only"
   ]
  },
  {
   "cell_type": "code",
   "execution_count": 106,
   "metadata": {
    "collapsed": false
   },
   "outputs": [
    {
     "name": "stdout",
     "output_type": "stream",
     "text": [
      "Tidying data... \n",
      "Finished.\n"
     ]
    }
   ],
   "source": [
    "mbscol = 'mbs_consolidated'\n",
    "tidyotu = tidyfy_otu(otu, meta, mbscol)\n",
    "\n",
    "site1 = 'bal'\n",
    "site2 = 'throat_swab'\n",
    "tmpotu = tidyotu.query('(site == @site1) | (site == @site2)')\\\n",
    "            .dropna(subset=[mbscol])\\\n",
    "            .pivot(index='subject_id', columns='otu_w_site',\n",
    "                   values='abun')\\\n",
    "            .dropna()"
   ]
  },
  {
   "cell_type": "code",
   "execution_count": 107,
   "metadata": {
    "collapsed": false
   },
   "outputs": [
    {
     "data": {
      "text/plain": [
       "(58, 18)"
      ]
     },
     "execution_count": 107,
     "metadata": {},
     "output_type": "execute_result"
    }
   ],
   "source": [
    "tmpotu.shape"
   ]
  },
  {
   "cell_type": "code",
   "execution_count": 110,
   "metadata": {
    "collapsed": false
   },
   "outputs": [
    {
     "data": {
      "text/html": [
       "<div>\n",
       "<style scoped>\n",
       "    .dataframe tbody tr th:only-of-type {\n",
       "        vertical-align: middle;\n",
       "    }\n",
       "\n",
       "    .dataframe tbody tr th {\n",
       "        vertical-align: top;\n",
       "    }\n",
       "\n",
       "    .dataframe thead th {\n",
       "        text-align: right;\n",
       "    }\n",
       "</style>\n",
       "<table border=\"1\" class=\"dataframe\">\n",
       "  <thead>\n",
       "    <tr style=\"text-align: right;\">\n",
       "      <th>otu_w_site</th>\n",
       "      <th>k__Bacteria;p__Bacteroidetes;c__Bacteroidia;o__Bacteroidales;f__Porphyromonadaceae;g__Porphyromonas;s__;d__denovo13--bal</th>\n",
       "      <th>k__Bacteria;p__Bacteroidetes;c__Bacteroidia;o__Bacteroidales;f__Porphyromonadaceae;g__Porphyromonas;s__;d__denovo13--throat_swab</th>\n",
       "      <th>k__Bacteria;p__Bacteroidetes;c__Bacteroidia;o__Bacteroidales;f__Porphyromonadaceae;g__Porphyromonas;s__;d__denovo287--bal</th>\n",
       "      <th>k__Bacteria;p__Bacteroidetes;c__Bacteroidia;o__Bacteroidales;f__Porphyromonadaceae;g__Porphyromonas;s__;d__denovo287--throat_swab</th>\n",
       "      <th>k__Bacteria;p__Bacteroidetes;c__Bacteroidia;o__Bacteroidales;f__Prevotellaceae;g__Prevotella;s__;d__denovo213--bal</th>\n",
       "      <th>k__Bacteria;p__Bacteroidetes;c__Bacteroidia;o__Bacteroidales;f__Prevotellaceae;g__Prevotella;s__;d__denovo213--throat_swab</th>\n",
       "      <th>k__Bacteria;p__Bacteroidetes;c__Flavobacteriia;o__Flavobacteriales;f__Flavobacteriaceae;g__;s__;d__denovo93--bal</th>\n",
       "      <th>k__Bacteria;p__Bacteroidetes;c__Flavobacteriia;o__Flavobacteriales;f__Flavobacteriaceae;g__;s__;d__denovo93--throat_swab</th>\n",
       "      <th>k__Bacteria;p__Firmicutes;c__Bacilli;o__Lactobacillales;f__Streptococcaceae;g__Streptococcus;s__;d__denovo323--bal</th>\n",
       "      <th>k__Bacteria;p__Firmicutes;c__Bacilli;o__Lactobacillales;f__Streptococcaceae;g__Streptococcus;s__;d__denovo323--throat_swab</th>\n",
       "      <th>k__Bacteria;p__Firmicutes;c__Negativicutes;o__Selenomonadales;f__Veillonellaceae;g__Veillonella;s__;d__denovo26--bal</th>\n",
       "      <th>k__Bacteria;p__Firmicutes;c__Negativicutes;o__Selenomonadales;f__Veillonellaceae;g__Veillonella;s__;d__denovo26--throat_swab</th>\n",
       "      <th>k__Bacteria;p__Fusobacteria;c__Fusobacteriia;o__Fusobacteriales;f__Fusobacteriaceae;g__Fusobacterium;s__;d__denovo100--bal</th>\n",
       "      <th>k__Bacteria;p__Fusobacteria;c__Fusobacteriia;o__Fusobacteriales;f__Fusobacteriaceae;g__Fusobacterium;s__;d__denovo100--throat_swab</th>\n",
       "      <th>k__Bacteria;p__Fusobacteria;c__Fusobacteriia;o__Fusobacteriales;f__Fusobacteriaceae;g__Fusobacterium;s__;d__denovo8--bal</th>\n",
       "      <th>k__Bacteria;p__Fusobacteria;c__Fusobacteriia;o__Fusobacteriales;f__Fusobacteriaceae;g__Fusobacterium;s__;d__denovo8--throat_swab</th>\n",
       "      <th>k__Bacteria;p__Proteobacteria;c__Gammaproteobacteria;o__Pasteurellales;f__Pasteurellaceae;g__;s__;d__denovo37--bal</th>\n",
       "      <th>k__Bacteria;p__Proteobacteria;c__Gammaproteobacteria;o__Pasteurellales;f__Pasteurellaceae;g__;s__;d__denovo37--throat_swab</th>\n",
       "    </tr>\n",
       "    <tr>\n",
       "      <th>subject_id</th>\n",
       "      <th></th>\n",
       "      <th></th>\n",
       "      <th></th>\n",
       "      <th></th>\n",
       "      <th></th>\n",
       "      <th></th>\n",
       "      <th></th>\n",
       "      <th></th>\n",
       "      <th></th>\n",
       "      <th></th>\n",
       "      <th></th>\n",
       "      <th></th>\n",
       "      <th></th>\n",
       "      <th></th>\n",
       "      <th></th>\n",
       "      <th></th>\n",
       "      <th></th>\n",
       "      <th></th>\n",
       "    </tr>\n",
       "  </thead>\n",
       "  <tbody>\n",
       "    <tr>\n",
       "      <th>13-110-5</th>\n",
       "      <td>0.000000</td>\n",
       "      <td>0.077922</td>\n",
       "      <td>0.00000</td>\n",
       "      <td>0.000000</td>\n",
       "      <td>0.0</td>\n",
       "      <td>0.000000</td>\n",
       "      <td>0.0</td>\n",
       "      <td>0.000000</td>\n",
       "      <td>0.000000</td>\n",
       "      <td>0.000072</td>\n",
       "      <td>0.000000</td>\n",
       "      <td>0.058486</td>\n",
       "      <td>0.000000</td>\n",
       "      <td>0.000000</td>\n",
       "      <td>0.000000</td>\n",
       "      <td>0.040843</td>\n",
       "      <td>0.000000</td>\n",
       "      <td>0.000108</td>\n",
       "    </tr>\n",
       "    <tr>\n",
       "      <th>13-115-1</th>\n",
       "      <td>0.000043</td>\n",
       "      <td>0.000000</td>\n",
       "      <td>0.00000</td>\n",
       "      <td>0.000000</td>\n",
       "      <td>0.0</td>\n",
       "      <td>0.000000</td>\n",
       "      <td>0.0</td>\n",
       "      <td>0.000000</td>\n",
       "      <td>0.000000</td>\n",
       "      <td>0.000033</td>\n",
       "      <td>0.000000</td>\n",
       "      <td>0.000366</td>\n",
       "      <td>0.000000</td>\n",
       "      <td>0.000000</td>\n",
       "      <td>0.000000</td>\n",
       "      <td>0.000167</td>\n",
       "      <td>0.000129</td>\n",
       "      <td>0.000000</td>\n",
       "    </tr>\n",
       "    <tr>\n",
       "      <th>13-117-4</th>\n",
       "      <td>0.000000</td>\n",
       "      <td>0.069247</td>\n",
       "      <td>0.00000</td>\n",
       "      <td>0.000000</td>\n",
       "      <td>0.0</td>\n",
       "      <td>0.000000</td>\n",
       "      <td>0.0</td>\n",
       "      <td>0.001055</td>\n",
       "      <td>0.000000</td>\n",
       "      <td>0.000000</td>\n",
       "      <td>0.000000</td>\n",
       "      <td>0.025692</td>\n",
       "      <td>0.000000</td>\n",
       "      <td>0.000000</td>\n",
       "      <td>0.002834</td>\n",
       "      <td>0.098102</td>\n",
       "      <td>0.000000</td>\n",
       "      <td>0.000895</td>\n",
       "    </tr>\n",
       "    <tr>\n",
       "      <th>14-111-4</th>\n",
       "      <td>0.000000</td>\n",
       "      <td>0.007481</td>\n",
       "      <td>0.00000</td>\n",
       "      <td>0.000000</td>\n",
       "      <td>0.0</td>\n",
       "      <td>0.000033</td>\n",
       "      <td>0.0</td>\n",
       "      <td>0.000132</td>\n",
       "      <td>0.000000</td>\n",
       "      <td>0.000033</td>\n",
       "      <td>0.000000</td>\n",
       "      <td>0.005925</td>\n",
       "      <td>0.000000</td>\n",
       "      <td>0.000099</td>\n",
       "      <td>0.000000</td>\n",
       "      <td>0.047931</td>\n",
       "      <td>0.000000</td>\n",
       "      <td>0.001523</td>\n",
       "    </tr>\n",
       "    <tr>\n",
       "      <th>14-165-8</th>\n",
       "      <td>0.048408</td>\n",
       "      <td>0.064032</td>\n",
       "      <td>0.00151</td>\n",
       "      <td>0.000262</td>\n",
       "      <td>0.0</td>\n",
       "      <td>0.000000</td>\n",
       "      <td>0.0</td>\n",
       "      <td>0.000000</td>\n",
       "      <td>0.000189</td>\n",
       "      <td>0.000000</td>\n",
       "      <td>0.045648</td>\n",
       "      <td>0.052473</td>\n",
       "      <td>0.000377</td>\n",
       "      <td>0.000000</td>\n",
       "      <td>0.036329</td>\n",
       "      <td>0.071535</td>\n",
       "      <td>0.008092</td>\n",
       "      <td>0.000349</td>\n",
       "    </tr>\n",
       "  </tbody>\n",
       "</table>\n",
       "</div>"
      ],
      "text/plain": [
       "otu_w_site  k__Bacteria;p__Bacteroidetes;c__Bacteroidia;o__Bacteroidales;f__Porphyromonadaceae;g__Porphyromonas;s__;d__denovo13--bal  \\\n",
       "subject_id                                                                                                                             \n",
       "13-110-5                                             0.000000                                                                          \n",
       "13-115-1                                             0.000043                                                                          \n",
       "13-117-4                                             0.000000                                                                          \n",
       "14-111-4                                             0.000000                                                                          \n",
       "14-165-8                                             0.048408                                                                          \n",
       "\n",
       "otu_w_site  k__Bacteria;p__Bacteroidetes;c__Bacteroidia;o__Bacteroidales;f__Porphyromonadaceae;g__Porphyromonas;s__;d__denovo13--throat_swab  \\\n",
       "subject_id                                                                                                                                     \n",
       "13-110-5                                             0.077922                                                                                  \n",
       "13-115-1                                             0.000000                                                                                  \n",
       "13-117-4                                             0.069247                                                                                  \n",
       "14-111-4                                             0.007481                                                                                  \n",
       "14-165-8                                             0.064032                                                                                  \n",
       "\n",
       "otu_w_site  k__Bacteria;p__Bacteroidetes;c__Bacteroidia;o__Bacteroidales;f__Porphyromonadaceae;g__Porphyromonas;s__;d__denovo287--bal  \\\n",
       "subject_id                                                                                                                              \n",
       "13-110-5                                              0.00000                                                                           \n",
       "13-115-1                                              0.00000                                                                           \n",
       "13-117-4                                              0.00000                                                                           \n",
       "14-111-4                                              0.00000                                                                           \n",
       "14-165-8                                              0.00151                                                                           \n",
       "\n",
       "otu_w_site  k__Bacteria;p__Bacteroidetes;c__Bacteroidia;o__Bacteroidales;f__Porphyromonadaceae;g__Porphyromonas;s__;d__denovo287--throat_swab  \\\n",
       "subject_id                                                                                                                                      \n",
       "13-110-5                                             0.000000                                                                                   \n",
       "13-115-1                                             0.000000                                                                                   \n",
       "13-117-4                                             0.000000                                                                                   \n",
       "14-111-4                                             0.000000                                                                                   \n",
       "14-165-8                                             0.000262                                                                                   \n",
       "\n",
       "otu_w_site  k__Bacteria;p__Bacteroidetes;c__Bacteroidia;o__Bacteroidales;f__Prevotellaceae;g__Prevotella;s__;d__denovo213--bal  \\\n",
       "subject_id                                                                                                                       \n",
       "13-110-5                                                  0.0                                                                    \n",
       "13-115-1                                                  0.0                                                                    \n",
       "13-117-4                                                  0.0                                                                    \n",
       "14-111-4                                                  0.0                                                                    \n",
       "14-165-8                                                  0.0                                                                    \n",
       "\n",
       "otu_w_site  k__Bacteria;p__Bacteroidetes;c__Bacteroidia;o__Bacteroidales;f__Prevotellaceae;g__Prevotella;s__;d__denovo213--throat_swab  \\\n",
       "subject_id                                                                                                                               \n",
       "13-110-5                                             0.000000                                                                            \n",
       "13-115-1                                             0.000000                                                                            \n",
       "13-117-4                                             0.000000                                                                            \n",
       "14-111-4                                             0.000033                                                                            \n",
       "14-165-8                                             0.000000                                                                            \n",
       "\n",
       "otu_w_site  k__Bacteria;p__Bacteroidetes;c__Flavobacteriia;o__Flavobacteriales;f__Flavobacteriaceae;g__;s__;d__denovo93--bal  \\\n",
       "subject_id                                                                                                                     \n",
       "13-110-5                                                  0.0                                                                  \n",
       "13-115-1                                                  0.0                                                                  \n",
       "13-117-4                                                  0.0                                                                  \n",
       "14-111-4                                                  0.0                                                                  \n",
       "14-165-8                                                  0.0                                                                  \n",
       "\n",
       "otu_w_site  k__Bacteria;p__Bacteroidetes;c__Flavobacteriia;o__Flavobacteriales;f__Flavobacteriaceae;g__;s__;d__denovo93--throat_swab  \\\n",
       "subject_id                                                                                                                             \n",
       "13-110-5                                             0.000000                                                                          \n",
       "13-115-1                                             0.000000                                                                          \n",
       "13-117-4                                             0.001055                                                                          \n",
       "14-111-4                                             0.000132                                                                          \n",
       "14-165-8                                             0.000000                                                                          \n",
       "\n",
       "otu_w_site  k__Bacteria;p__Firmicutes;c__Bacilli;o__Lactobacillales;f__Streptococcaceae;g__Streptococcus;s__;d__denovo323--bal  \\\n",
       "subject_id                                                                                                                       \n",
       "13-110-5                                             0.000000                                                                    \n",
       "13-115-1                                             0.000000                                                                    \n",
       "13-117-4                                             0.000000                                                                    \n",
       "14-111-4                                             0.000000                                                                    \n",
       "14-165-8                                             0.000189                                                                    \n",
       "\n",
       "otu_w_site  k__Bacteria;p__Firmicutes;c__Bacilli;o__Lactobacillales;f__Streptococcaceae;g__Streptococcus;s__;d__denovo323--throat_swab  \\\n",
       "subject_id                                                                                                                               \n",
       "13-110-5                                             0.000072                                                                            \n",
       "13-115-1                                             0.000033                                                                            \n",
       "13-117-4                                             0.000000                                                                            \n",
       "14-111-4                                             0.000033                                                                            \n",
       "14-165-8                                             0.000000                                                                            \n",
       "\n",
       "otu_w_site  k__Bacteria;p__Firmicutes;c__Negativicutes;o__Selenomonadales;f__Veillonellaceae;g__Veillonella;s__;d__denovo26--bal  \\\n",
       "subject_id                                                                                                                         \n",
       "13-110-5                                             0.000000                                                                      \n",
       "13-115-1                                             0.000000                                                                      \n",
       "13-117-4                                             0.000000                                                                      \n",
       "14-111-4                                             0.000000                                                                      \n",
       "14-165-8                                             0.045648                                                                      \n",
       "\n",
       "otu_w_site  k__Bacteria;p__Firmicutes;c__Negativicutes;o__Selenomonadales;f__Veillonellaceae;g__Veillonella;s__;d__denovo26--throat_swab  \\\n",
       "subject_id                                                                                                                                 \n",
       "13-110-5                                             0.058486                                                                              \n",
       "13-115-1                                             0.000366                                                                              \n",
       "13-117-4                                             0.025692                                                                              \n",
       "14-111-4                                             0.005925                                                                              \n",
       "14-165-8                                             0.052473                                                                              \n",
       "\n",
       "otu_w_site  k__Bacteria;p__Fusobacteria;c__Fusobacteriia;o__Fusobacteriales;f__Fusobacteriaceae;g__Fusobacterium;s__;d__denovo100--bal  \\\n",
       "subject_id                                                                                                                               \n",
       "13-110-5                                             0.000000                                                                            \n",
       "13-115-1                                             0.000000                                                                            \n",
       "13-117-4                                             0.000000                                                                            \n",
       "14-111-4                                             0.000000                                                                            \n",
       "14-165-8                                             0.000377                                                                            \n",
       "\n",
       "otu_w_site  k__Bacteria;p__Fusobacteria;c__Fusobacteriia;o__Fusobacteriales;f__Fusobacteriaceae;g__Fusobacterium;s__;d__denovo100--throat_swab  \\\n",
       "subject_id                                                                                                                                       \n",
       "13-110-5                                             0.000000                                                                                    \n",
       "13-115-1                                             0.000000                                                                                    \n",
       "13-117-4                                             0.000000                                                                                    \n",
       "14-111-4                                             0.000099                                                                                    \n",
       "14-165-8                                             0.000000                                                                                    \n",
       "\n",
       "otu_w_site  k__Bacteria;p__Fusobacteria;c__Fusobacteriia;o__Fusobacteriales;f__Fusobacteriaceae;g__Fusobacterium;s__;d__denovo8--bal  \\\n",
       "subject_id                                                                                                                             \n",
       "13-110-5                                             0.000000                                                                          \n",
       "13-115-1                                             0.000000                                                                          \n",
       "13-117-4                                             0.002834                                                                          \n",
       "14-111-4                                             0.000000                                                                          \n",
       "14-165-8                                             0.036329                                                                          \n",
       "\n",
       "otu_w_site  k__Bacteria;p__Fusobacteria;c__Fusobacteriia;o__Fusobacteriales;f__Fusobacteriaceae;g__Fusobacterium;s__;d__denovo8--throat_swab  \\\n",
       "subject_id                                                                                                                                     \n",
       "13-110-5                                             0.040843                                                                                  \n",
       "13-115-1                                             0.000167                                                                                  \n",
       "13-117-4                                             0.098102                                                                                  \n",
       "14-111-4                                             0.047931                                                                                  \n",
       "14-165-8                                             0.071535                                                                                  \n",
       "\n",
       "otu_w_site  k__Bacteria;p__Proteobacteria;c__Gammaproteobacteria;o__Pasteurellales;f__Pasteurellaceae;g__;s__;d__denovo37--bal  \\\n",
       "subject_id                                                                                                                       \n",
       "13-110-5                                             0.000000                                                                    \n",
       "13-115-1                                             0.000129                                                                    \n",
       "13-117-4                                             0.000000                                                                    \n",
       "14-111-4                                             0.000000                                                                    \n",
       "14-165-8                                             0.008092                                                                    \n",
       "\n",
       "otu_w_site  k__Bacteria;p__Proteobacteria;c__Gammaproteobacteria;o__Pasteurellales;f__Pasteurellaceae;g__;s__;d__denovo37--throat_swab  \n",
       "subject_id                                                                                                                              \n",
       "13-110-5                                             0.000108                                                                           \n",
       "13-115-1                                             0.000000                                                                           \n",
       "13-117-4                                             0.000895                                                                           \n",
       "14-111-4                                             0.001523                                                                           \n",
       "14-165-8                                             0.000349                                                                           "
      ]
     },
     "execution_count": 110,
     "metadata": {},
     "output_type": "execute_result"
    }
   ],
   "source": [
    "tmpotu.tail()"
   ]
  },
  {
   "cell_type": "code",
   "execution_count": 111,
   "metadata": {
    "collapsed": false
   },
   "outputs": [
    {
     "data": {
      "text/html": [
       "<div>\n",
       "<style scoped>\n",
       "    .dataframe tbody tr th:only-of-type {\n",
       "        vertical-align: middle;\n",
       "    }\n",
       "\n",
       "    .dataframe tbody tr th {\n",
       "        vertical-align: top;\n",
       "    }\n",
       "\n",
       "    .dataframe thead th {\n",
       "        text-align: right;\n",
       "    }\n",
       "</style>\n",
       "<table border=\"1\" class=\"dataframe\">\n",
       "  <thead>\n",
       "    <tr style=\"text-align: right;\">\n",
       "      <th></th>\n",
       "      <th>k__Bacteria;p__Bacteroidetes;c__Bacteroidia;o__Bacteroidales;f__Porphyromonadaceae;g__Porphyromonas;s__;d__denovo13--bal</th>\n",
       "      <th>k__Bacteria;p__Bacteroidetes;c__Bacteroidia;o__Bacteroidales;f__Porphyromonadaceae;g__Porphyromonas;s__;d__denovo13--throat_swab</th>\n",
       "      <th>k__Bacteria;p__Bacteroidetes;c__Bacteroidia;o__Bacteroidales;f__Porphyromonadaceae;g__Porphyromonas;s__;d__denovo287--bal</th>\n",
       "      <th>k__Bacteria;p__Bacteroidetes;c__Bacteroidia;o__Bacteroidales;f__Porphyromonadaceae;g__Porphyromonas;s__;d__denovo287--throat_swab</th>\n",
       "      <th>k__Bacteria;p__Bacteroidetes;c__Bacteroidia;o__Bacteroidales;f__Prevotellaceae;g__Prevotella;s__;d__denovo213--bal</th>\n",
       "      <th>k__Bacteria;p__Bacteroidetes;c__Bacteroidia;o__Bacteroidales;f__Prevotellaceae;g__Prevotella;s__;d__denovo213--throat_swab</th>\n",
       "      <th>k__Bacteria;p__Bacteroidetes;c__Flavobacteriia;o__Flavobacteriales;f__Flavobacteriaceae;g__;s__;d__denovo93--bal</th>\n",
       "      <th>k__Bacteria;p__Bacteroidetes;c__Flavobacteriia;o__Flavobacteriales;f__Flavobacteriaceae;g__;s__;d__denovo93--throat_swab</th>\n",
       "      <th>k__Bacteria;p__Firmicutes;c__Bacilli;o__Lactobacillales;f__Streptococcaceae;g__Streptococcus;s__;d__denovo323--bal</th>\n",
       "      <th>k__Bacteria;p__Firmicutes;c__Bacilli;o__Lactobacillales;f__Streptococcaceae;g__Streptococcus;s__;d__denovo323--throat_swab</th>\n",
       "      <th>k__Bacteria;p__Firmicutes;c__Negativicutes;o__Selenomonadales;f__Veillonellaceae;g__Veillonella;s__;d__denovo26--bal</th>\n",
       "      <th>k__Bacteria;p__Firmicutes;c__Negativicutes;o__Selenomonadales;f__Veillonellaceae;g__Veillonella;s__;d__denovo26--throat_swab</th>\n",
       "      <th>k__Bacteria;p__Fusobacteria;c__Fusobacteriia;o__Fusobacteriales;f__Fusobacteriaceae;g__Fusobacterium;s__;d__denovo100--bal</th>\n",
       "      <th>k__Bacteria;p__Fusobacteria;c__Fusobacteriia;o__Fusobacteriales;f__Fusobacteriaceae;g__Fusobacterium;s__;d__denovo100--throat_swab</th>\n",
       "      <th>k__Bacteria;p__Fusobacteria;c__Fusobacteriia;o__Fusobacteriales;f__Fusobacteriaceae;g__Fusobacterium;s__;d__denovo8--bal</th>\n",
       "      <th>k__Bacteria;p__Fusobacteria;c__Fusobacteriia;o__Fusobacteriales;f__Fusobacteriaceae;g__Fusobacterium;s__;d__denovo8--throat_swab</th>\n",
       "      <th>k__Bacteria;p__Proteobacteria;c__Gammaproteobacteria;o__Pasteurellales;f__Pasteurellaceae;g__;s__;d__denovo37--bal</th>\n",
       "      <th>k__Bacteria;p__Proteobacteria;c__Gammaproteobacteria;o__Pasteurellales;f__Pasteurellaceae;g__;s__;d__denovo37--throat_swab</th>\n",
       "      <th>subject_id</th>\n",
       "      <th>mbs_consolidated</th>\n",
       "    </tr>\n",
       "  </thead>\n",
       "  <tbody>\n",
       "    <tr>\n",
       "      <th>13-110-5B</th>\n",
       "      <td>0.000000</td>\n",
       "      <td>0.077922</td>\n",
       "      <td>0.00000</td>\n",
       "      <td>0.000000</td>\n",
       "      <td>0.0</td>\n",
       "      <td>0.000000</td>\n",
       "      <td>0.0</td>\n",
       "      <td>0.000000</td>\n",
       "      <td>0.000000</td>\n",
       "      <td>0.000072</td>\n",
       "      <td>0.000000</td>\n",
       "      <td>0.058486</td>\n",
       "      <td>0.000000</td>\n",
       "      <td>0.000000</td>\n",
       "      <td>0.000000</td>\n",
       "      <td>0.040843</td>\n",
       "      <td>0.000000</td>\n",
       "      <td>0.000108</td>\n",
       "      <td>13-110-5</td>\n",
       "      <td>Normal</td>\n",
       "    </tr>\n",
       "    <tr>\n",
       "      <th>13-115-1B</th>\n",
       "      <td>0.000043</td>\n",
       "      <td>0.000000</td>\n",
       "      <td>0.00000</td>\n",
       "      <td>0.000000</td>\n",
       "      <td>0.0</td>\n",
       "      <td>0.000000</td>\n",
       "      <td>0.0</td>\n",
       "      <td>0.000000</td>\n",
       "      <td>0.000000</td>\n",
       "      <td>0.000033</td>\n",
       "      <td>0.000000</td>\n",
       "      <td>0.000366</td>\n",
       "      <td>0.000000</td>\n",
       "      <td>0.000000</td>\n",
       "      <td>0.000000</td>\n",
       "      <td>0.000167</td>\n",
       "      <td>0.000129</td>\n",
       "      <td>0.000000</td>\n",
       "      <td>13-115-1</td>\n",
       "      <td>Normal</td>\n",
       "    </tr>\n",
       "    <tr>\n",
       "      <th>13-117-4B</th>\n",
       "      <td>0.000000</td>\n",
       "      <td>0.069247</td>\n",
       "      <td>0.00000</td>\n",
       "      <td>0.000000</td>\n",
       "      <td>0.0</td>\n",
       "      <td>0.000000</td>\n",
       "      <td>0.0</td>\n",
       "      <td>0.001055</td>\n",
       "      <td>0.000000</td>\n",
       "      <td>0.000000</td>\n",
       "      <td>0.000000</td>\n",
       "      <td>0.025692</td>\n",
       "      <td>0.000000</td>\n",
       "      <td>0.000000</td>\n",
       "      <td>0.002834</td>\n",
       "      <td>0.098102</td>\n",
       "      <td>0.000000</td>\n",
       "      <td>0.000895</td>\n",
       "      <td>13-117-4</td>\n",
       "      <td>Aspiration/Penetration</td>\n",
       "    </tr>\n",
       "    <tr>\n",
       "      <th>14-111-4B</th>\n",
       "      <td>0.000000</td>\n",
       "      <td>0.007481</td>\n",
       "      <td>0.00000</td>\n",
       "      <td>0.000000</td>\n",
       "      <td>0.0</td>\n",
       "      <td>0.000033</td>\n",
       "      <td>0.0</td>\n",
       "      <td>0.000132</td>\n",
       "      <td>0.000000</td>\n",
       "      <td>0.000033</td>\n",
       "      <td>0.000000</td>\n",
       "      <td>0.005925</td>\n",
       "      <td>0.000000</td>\n",
       "      <td>0.000099</td>\n",
       "      <td>0.000000</td>\n",
       "      <td>0.047931</td>\n",
       "      <td>0.000000</td>\n",
       "      <td>0.001523</td>\n",
       "      <td>14-111-4</td>\n",
       "      <td>Normal</td>\n",
       "    </tr>\n",
       "    <tr>\n",
       "      <th>14-165-8B</th>\n",
       "      <td>0.048408</td>\n",
       "      <td>0.064032</td>\n",
       "      <td>0.00151</td>\n",
       "      <td>0.000262</td>\n",
       "      <td>0.0</td>\n",
       "      <td>0.000000</td>\n",
       "      <td>0.0</td>\n",
       "      <td>0.000000</td>\n",
       "      <td>0.000189</td>\n",
       "      <td>0.000000</td>\n",
       "      <td>0.045648</td>\n",
       "      <td>0.052473</td>\n",
       "      <td>0.000377</td>\n",
       "      <td>0.000000</td>\n",
       "      <td>0.036329</td>\n",
       "      <td>0.071535</td>\n",
       "      <td>0.008092</td>\n",
       "      <td>0.000349</td>\n",
       "      <td>14-165-8</td>\n",
       "      <td>Normal</td>\n",
       "    </tr>\n",
       "  </tbody>\n",
       "</table>\n",
       "</div>"
      ],
      "text/plain": [
       "           k__Bacteria;p__Bacteroidetes;c__Bacteroidia;o__Bacteroidales;f__Porphyromonadaceae;g__Porphyromonas;s__;d__denovo13--bal  \\\n",
       "13-110-5B                                           0.000000                                                                          \n",
       "13-115-1B                                           0.000043                                                                          \n",
       "13-117-4B                                           0.000000                                                                          \n",
       "14-111-4B                                           0.000000                                                                          \n",
       "14-165-8B                                           0.048408                                                                          \n",
       "\n",
       "           k__Bacteria;p__Bacteroidetes;c__Bacteroidia;o__Bacteroidales;f__Porphyromonadaceae;g__Porphyromonas;s__;d__denovo13--throat_swab  \\\n",
       "13-110-5B                                           0.077922                                                                                  \n",
       "13-115-1B                                           0.000000                                                                                  \n",
       "13-117-4B                                           0.069247                                                                                  \n",
       "14-111-4B                                           0.007481                                                                                  \n",
       "14-165-8B                                           0.064032                                                                                  \n",
       "\n",
       "           k__Bacteria;p__Bacteroidetes;c__Bacteroidia;o__Bacteroidales;f__Porphyromonadaceae;g__Porphyromonas;s__;d__denovo287--bal  \\\n",
       "13-110-5B                                            0.00000                                                                           \n",
       "13-115-1B                                            0.00000                                                                           \n",
       "13-117-4B                                            0.00000                                                                           \n",
       "14-111-4B                                            0.00000                                                                           \n",
       "14-165-8B                                            0.00151                                                                           \n",
       "\n",
       "           k__Bacteria;p__Bacteroidetes;c__Bacteroidia;o__Bacteroidales;f__Porphyromonadaceae;g__Porphyromonas;s__;d__denovo287--throat_swab  \\\n",
       "13-110-5B                                           0.000000                                                                                   \n",
       "13-115-1B                                           0.000000                                                                                   \n",
       "13-117-4B                                           0.000000                                                                                   \n",
       "14-111-4B                                           0.000000                                                                                   \n",
       "14-165-8B                                           0.000262                                                                                   \n",
       "\n",
       "           k__Bacteria;p__Bacteroidetes;c__Bacteroidia;o__Bacteroidales;f__Prevotellaceae;g__Prevotella;s__;d__denovo213--bal  \\\n",
       "13-110-5B                                                0.0                                                                    \n",
       "13-115-1B                                                0.0                                                                    \n",
       "13-117-4B                                                0.0                                                                    \n",
       "14-111-4B                                                0.0                                                                    \n",
       "14-165-8B                                                0.0                                                                    \n",
       "\n",
       "           k__Bacteria;p__Bacteroidetes;c__Bacteroidia;o__Bacteroidales;f__Prevotellaceae;g__Prevotella;s__;d__denovo213--throat_swab  \\\n",
       "13-110-5B                                           0.000000                                                                            \n",
       "13-115-1B                                           0.000000                                                                            \n",
       "13-117-4B                                           0.000000                                                                            \n",
       "14-111-4B                                           0.000033                                                                            \n",
       "14-165-8B                                           0.000000                                                                            \n",
       "\n",
       "           k__Bacteria;p__Bacteroidetes;c__Flavobacteriia;o__Flavobacteriales;f__Flavobacteriaceae;g__;s__;d__denovo93--bal  \\\n",
       "13-110-5B                                                0.0                                                                  \n",
       "13-115-1B                                                0.0                                                                  \n",
       "13-117-4B                                                0.0                                                                  \n",
       "14-111-4B                                                0.0                                                                  \n",
       "14-165-8B                                                0.0                                                                  \n",
       "\n",
       "           k__Bacteria;p__Bacteroidetes;c__Flavobacteriia;o__Flavobacteriales;f__Flavobacteriaceae;g__;s__;d__denovo93--throat_swab  \\\n",
       "13-110-5B                                           0.000000                                                                          \n",
       "13-115-1B                                           0.000000                                                                          \n",
       "13-117-4B                                           0.001055                                                                          \n",
       "14-111-4B                                           0.000132                                                                          \n",
       "14-165-8B                                           0.000000                                                                          \n",
       "\n",
       "           k__Bacteria;p__Firmicutes;c__Bacilli;o__Lactobacillales;f__Streptococcaceae;g__Streptococcus;s__;d__denovo323--bal  \\\n",
       "13-110-5B                                           0.000000                                                                    \n",
       "13-115-1B                                           0.000000                                                                    \n",
       "13-117-4B                                           0.000000                                                                    \n",
       "14-111-4B                                           0.000000                                                                    \n",
       "14-165-8B                                           0.000189                                                                    \n",
       "\n",
       "           k__Bacteria;p__Firmicutes;c__Bacilli;o__Lactobacillales;f__Streptococcaceae;g__Streptococcus;s__;d__denovo323--throat_swab  \\\n",
       "13-110-5B                                           0.000072                                                                            \n",
       "13-115-1B                                           0.000033                                                                            \n",
       "13-117-4B                                           0.000000                                                                            \n",
       "14-111-4B                                           0.000033                                                                            \n",
       "14-165-8B                                           0.000000                                                                            \n",
       "\n",
       "           k__Bacteria;p__Firmicutes;c__Negativicutes;o__Selenomonadales;f__Veillonellaceae;g__Veillonella;s__;d__denovo26--bal  \\\n",
       "13-110-5B                                           0.000000                                                                      \n",
       "13-115-1B                                           0.000000                                                                      \n",
       "13-117-4B                                           0.000000                                                                      \n",
       "14-111-4B                                           0.000000                                                                      \n",
       "14-165-8B                                           0.045648                                                                      \n",
       "\n",
       "           k__Bacteria;p__Firmicutes;c__Negativicutes;o__Selenomonadales;f__Veillonellaceae;g__Veillonella;s__;d__denovo26--throat_swab  \\\n",
       "13-110-5B                                           0.058486                                                                              \n",
       "13-115-1B                                           0.000366                                                                              \n",
       "13-117-4B                                           0.025692                                                                              \n",
       "14-111-4B                                           0.005925                                                                              \n",
       "14-165-8B                                           0.052473                                                                              \n",
       "\n",
       "           k__Bacteria;p__Fusobacteria;c__Fusobacteriia;o__Fusobacteriales;f__Fusobacteriaceae;g__Fusobacterium;s__;d__denovo100--bal  \\\n",
       "13-110-5B                                           0.000000                                                                            \n",
       "13-115-1B                                           0.000000                                                                            \n",
       "13-117-4B                                           0.000000                                                                            \n",
       "14-111-4B                                           0.000000                                                                            \n",
       "14-165-8B                                           0.000377                                                                            \n",
       "\n",
       "           k__Bacteria;p__Fusobacteria;c__Fusobacteriia;o__Fusobacteriales;f__Fusobacteriaceae;g__Fusobacterium;s__;d__denovo100--throat_swab  \\\n",
       "13-110-5B                                           0.000000                                                                                    \n",
       "13-115-1B                                           0.000000                                                                                    \n",
       "13-117-4B                                           0.000000                                                                                    \n",
       "14-111-4B                                           0.000099                                                                                    \n",
       "14-165-8B                                           0.000000                                                                                    \n",
       "\n",
       "           k__Bacteria;p__Fusobacteria;c__Fusobacteriia;o__Fusobacteriales;f__Fusobacteriaceae;g__Fusobacterium;s__;d__denovo8--bal  \\\n",
       "13-110-5B                                           0.000000                                                                          \n",
       "13-115-1B                                           0.000000                                                                          \n",
       "13-117-4B                                           0.002834                                                                          \n",
       "14-111-4B                                           0.000000                                                                          \n",
       "14-165-8B                                           0.036329                                                                          \n",
       "\n",
       "           k__Bacteria;p__Fusobacteria;c__Fusobacteriia;o__Fusobacteriales;f__Fusobacteriaceae;g__Fusobacterium;s__;d__denovo8--throat_swab  \\\n",
       "13-110-5B                                           0.040843                                                                                  \n",
       "13-115-1B                                           0.000167                                                                                  \n",
       "13-117-4B                                           0.098102                                                                                  \n",
       "14-111-4B                                           0.047931                                                                                  \n",
       "14-165-8B                                           0.071535                                                                                  \n",
       "\n",
       "           k__Bacteria;p__Proteobacteria;c__Gammaproteobacteria;o__Pasteurellales;f__Pasteurellaceae;g__;s__;d__denovo37--bal  \\\n",
       "13-110-5B                                           0.000000                                                                    \n",
       "13-115-1B                                           0.000129                                                                    \n",
       "13-117-4B                                           0.000000                                                                    \n",
       "14-111-4B                                           0.000000                                                                    \n",
       "14-165-8B                                           0.008092                                                                    \n",
       "\n",
       "           k__Bacteria;p__Proteobacteria;c__Gammaproteobacteria;o__Pasteurellales;f__Pasteurellaceae;g__;s__;d__denovo37--throat_swab  \\\n",
       "13-110-5B                                           0.000108                                                                            \n",
       "13-115-1B                                           0.000000                                                                            \n",
       "13-117-4B                                           0.000895                                                                            \n",
       "14-111-4B                                           0.001523                                                                            \n",
       "14-165-8B                                           0.000349                                                                            \n",
       "\n",
       "          subject_id        mbs_consolidated  \n",
       "13-110-5B   13-110-5                  Normal  \n",
       "13-115-1B   13-115-1                  Normal  \n",
       "13-117-4B   13-117-4  Aspiration/Penetration  \n",
       "14-111-4B   14-111-4                  Normal  \n",
       "14-165-8B   14-165-8                  Normal  "
      ]
     },
     "execution_count": 111,
     "metadata": {},
     "output_type": "execute_result"
    }
   ],
   "source": [
    "# Note: using how='inner' preserves the order of the left keys, so this new tmpmeta\n",
    "# is in the same order as my OTU table\n",
    "tmpmeta = pd.merge(tmpotu, meta[['subject_id', 'mbs_consolidated']].drop_duplicates(),  \n",
    "                   left_index=True, right_on='subject_id',\n",
    "                   how='inner')\n",
    "tmpmeta.tail()"
   ]
  },
  {
   "cell_type": "code",
   "execution_count": 119,
   "metadata": {
    "collapsed": false
   },
   "outputs": [
    {
     "data": {
      "text/plain": [
       "array([ True,  True,  True,  True,  True,  True,  True,  True,  True,\n",
       "        True,  True,  True,  True,  True,  True,  True,  True,  True,\n",
       "        True,  True,  True,  True,  True,  True,  True,  True,  True,\n",
       "        True,  True,  True,  True,  True,  True,  True,  True,  True,\n",
       "        True,  True,  True,  True,  True,  True,  True,  True,  True,\n",
       "        True,  True,  True,  True,  True,  True,  True,  True,  True,\n",
       "        True,  True,  True,  True], dtype=bool)"
      ]
     },
     "execution_count": 119,
     "metadata": {},
     "output_type": "execute_result"
    }
   ],
   "source": [
    "tmpotu.index == tmpmeta['subject_id'].values"
   ]
  },
  {
   "cell_type": "code",
   "execution_count": 112,
   "metadata": {
    "collapsed": false
   },
   "outputs": [],
   "source": [
    "X = tmpotu.values\n",
    "Y = [aspdict[i] for i in tmpmeta['mbs_consolidated']]"
   ]
  },
  {
   "cell_type": "code",
   "execution_count": 113,
   "metadata": {
    "collapsed": false
   },
   "outputs": [
    {
     "data": {
      "text/plain": [
       "(58, 18)"
      ]
     },
     "execution_count": 113,
     "metadata": {},
     "output_type": "execute_result"
    }
   ],
   "source": [
    "tmpotu.shape"
   ]
  },
  {
   "cell_type": "code",
   "execution_count": 114,
   "metadata": {
    "collapsed": false
   },
   "outputs": [
    {
     "data": {
      "text/plain": [
       "(260, 2)"
      ]
     },
     "execution_count": 114,
     "metadata": {},
     "output_type": "execute_result"
    }
   ],
   "source": [
    "meta[['subject_id', 'mbs_consolidated']].drop_duplicates().shape"
   ]
  },
  {
   "cell_type": "code",
   "execution_count": 115,
   "metadata": {
    "collapsed": true
   },
   "outputs": [],
   "source": [
    "rf = RandomForestClassifier(n_estimators=1000)\n",
    "results_balthr = cv_and_roc(rf, X, Y, random_state=random_state)"
   ]
  },
  {
   "cell_type": "code",
   "execution_count": 116,
   "metadata": {
    "collapsed": false
   },
   "outputs": [
    {
     "data": {
      "text/plain": [
       "0.51444444444444448"
      ]
     },
     "execution_count": 116,
     "metadata": {},
     "output_type": "execute_result"
    }
   ],
   "source": [
    "np.mean(results_balthr['auc_list'])"
   ]
  },
  {
   "cell_type": "code",
   "execution_count": 117,
   "metadata": {
    "collapsed": false
   },
   "outputs": [
    {
     "data": {
      "text/html": [
       "<div>\n",
       "<style scoped>\n",
       "    .dataframe tbody tr th:only-of-type {\n",
       "        vertical-align: middle;\n",
       "    }\n",
       "\n",
       "    .dataframe tbody tr th {\n",
       "        vertical-align: top;\n",
       "    }\n",
       "\n",
       "    .dataframe thead th {\n",
       "        text-align: right;\n",
       "    }\n",
       "</style>\n",
       "<table border=\"1\" class=\"dataframe\">\n",
       "  <thead>\n",
       "    <tr style=\"text-align: right;\">\n",
       "      <th></th>\n",
       "      <th>pred 0</th>\n",
       "      <th>pred 1</th>\n",
       "    </tr>\n",
       "  </thead>\n",
       "  <tbody>\n",
       "    <tr>\n",
       "      <th>true 0</th>\n",
       "      <td>21</td>\n",
       "      <td>9</td>\n",
       "    </tr>\n",
       "    <tr>\n",
       "      <th>true 1</th>\n",
       "      <td>17</td>\n",
       "      <td>11</td>\n",
       "    </tr>\n",
       "  </tbody>\n",
       "</table>\n",
       "</div>"
      ],
      "text/plain": [
       "        pred 0  pred 1\n",
       "true 0      21       9\n",
       "true 1      17      11"
      ]
     },
     "execution_count": 117,
     "metadata": {},
     "output_type": "execute_result"
    }
   ],
   "source": [
    "results_balthr['conf_mat']"
   ]
  },
  {
   "cell_type": "markdown",
   "metadata": {},
   "source": [
    "### How about presence/absence classifiers?"
   ]
  },
  {
   "cell_type": "code",
   "execution_count": 59,
   "metadata": {
    "collapsed": true
   },
   "outputs": [],
   "source": [
    "X_pres = (X > 0).astype(int)\n",
    "\n",
    "rf = RandomForestClassifier(n_estimators=1000)\n",
    "\n",
    "results_balthr = cv_and_roc(rf, X_pres, Y, random_state=random_state)"
   ]
  },
  {
   "cell_type": "code",
   "execution_count": 60,
   "metadata": {
    "collapsed": false
   },
   "outputs": [
    {
     "data": {
      "text/plain": [
       "0.57611111111111113"
      ]
     },
     "execution_count": 60,
     "metadata": {},
     "output_type": "execute_result"
    }
   ],
   "source": [
    "np.mean(results_balthr['auc_list'])"
   ]
  },
  {
   "cell_type": "code",
   "execution_count": 61,
   "metadata": {
    "collapsed": false
   },
   "outputs": [
    {
     "data": {
      "text/html": [
       "<div>\n",
       "<style scoped>\n",
       "    .dataframe tbody tr th:only-of-type {\n",
       "        vertical-align: middle;\n",
       "    }\n",
       "\n",
       "    .dataframe tbody tr th {\n",
       "        vertical-align: top;\n",
       "    }\n",
       "\n",
       "    .dataframe thead th {\n",
       "        text-align: right;\n",
       "    }\n",
       "</style>\n",
       "<table border=\"1\" class=\"dataframe\">\n",
       "  <thead>\n",
       "    <tr style=\"text-align: right;\">\n",
       "      <th></th>\n",
       "      <th>pred 0</th>\n",
       "      <th>pred 1</th>\n",
       "    </tr>\n",
       "  </thead>\n",
       "  <tbody>\n",
       "    <tr>\n",
       "      <th>true 0</th>\n",
       "      <td>16</td>\n",
       "      <td>14</td>\n",
       "    </tr>\n",
       "    <tr>\n",
       "      <th>true 1</th>\n",
       "      <td>15</td>\n",
       "      <td>13</td>\n",
       "    </tr>\n",
       "  </tbody>\n",
       "</table>\n",
       "</div>"
      ],
      "text/plain": [
       "        pred 0  pred 1\n",
       "true 0      16      14\n",
       "true 1      15      13"
      ]
     },
     "execution_count": 61,
     "metadata": {},
     "output_type": "execute_result"
    }
   ],
   "source": [
    "results_balthr['conf_mat']"
   ]
  },
  {
   "cell_type": "markdown",
   "metadata": {},
   "source": [
    "# What do the bal-throat OTUs look like in the two sites?"
   ]
  },
  {
   "cell_type": "code",
   "execution_count": 62,
   "metadata": {
    "collapsed": false
   },
   "outputs": [
    {
     "data": {
      "text/html": [
       "<div>\n",
       "<style scoped>\n",
       "    .dataframe tbody tr th:only-of-type {\n",
       "        vertical-align: middle;\n",
       "    }\n",
       "\n",
       "    .dataframe tbody tr th {\n",
       "        vertical-align: top;\n",
       "    }\n",
       "\n",
       "    .dataframe thead th {\n",
       "        text-align: right;\n",
       "    }\n",
       "</style>\n",
       "<table border=\"1\" class=\"dataframe\">\n",
       "  <thead>\n",
       "    <tr style=\"text-align: right;\">\n",
       "      <th></th>\n",
       "      <th>sample</th>\n",
       "      <th>otu</th>\n",
       "      <th>abun</th>\n",
       "      <th>mbs_consolidated</th>\n",
       "      <th>site</th>\n",
       "      <th>subject_id</th>\n",
       "      <th>otu_w_site</th>\n",
       "    </tr>\n",
       "  </thead>\n",
       "  <tbody>\n",
       "    <tr>\n",
       "      <th>0</th>\n",
       "      <td>01-112-7GI</td>\n",
       "      <td>k__Bacteria;p__Bacteroidetes;c__Bacteroidia;o_...</td>\n",
       "      <td>0.000007</td>\n",
       "      <td>NaN</td>\n",
       "      <td>gastric_fluid</td>\n",
       "      <td>01-112-7</td>\n",
       "      <td>k__Bacteria;p__Bacteroidetes;c__Bacteroidia;o_...</td>\n",
       "    </tr>\n",
       "    <tr>\n",
       "      <th>628</th>\n",
       "      <td>01-112-7GI</td>\n",
       "      <td>k__Bacteria;p__Bacteroidetes;c__Bacteroidia;o_...</td>\n",
       "      <td>0.000000</td>\n",
       "      <td>NaN</td>\n",
       "      <td>gastric_fluid</td>\n",
       "      <td>01-112-7</td>\n",
       "      <td>k__Bacteria;p__Bacteroidetes;c__Bacteroidia;o_...</td>\n",
       "    </tr>\n",
       "    <tr>\n",
       "      <th>1256</th>\n",
       "      <td>01-112-7GI</td>\n",
       "      <td>k__Bacteria;p__Bacteroidetes;c__Bacteroidia;o_...</td>\n",
       "      <td>0.000000</td>\n",
       "      <td>NaN</td>\n",
       "      <td>gastric_fluid</td>\n",
       "      <td>01-112-7</td>\n",
       "      <td>k__Bacteria;p__Bacteroidetes;c__Bacteroidia;o_...</td>\n",
       "    </tr>\n",
       "    <tr>\n",
       "      <th>1884</th>\n",
       "      <td>01-112-7GI</td>\n",
       "      <td>k__Bacteria;p__Bacteroidetes;c__Flavobacteriia...</td>\n",
       "      <td>0.000004</td>\n",
       "      <td>NaN</td>\n",
       "      <td>gastric_fluid</td>\n",
       "      <td>01-112-7</td>\n",
       "      <td>k__Bacteria;p__Bacteroidetes;c__Flavobacteriia...</td>\n",
       "    </tr>\n",
       "    <tr>\n",
       "      <th>2512</th>\n",
       "      <td>01-112-7GI</td>\n",
       "      <td>k__Bacteria;p__Firmicutes;c__Bacilli;o__Lactob...</td>\n",
       "      <td>0.000000</td>\n",
       "      <td>NaN</td>\n",
       "      <td>gastric_fluid</td>\n",
       "      <td>01-112-7</td>\n",
       "      <td>k__Bacteria;p__Firmicutes;c__Bacilli;o__Lactob...</td>\n",
       "    </tr>\n",
       "  </tbody>\n",
       "</table>\n",
       "</div>"
      ],
      "text/plain": [
       "          sample                                                otu      abun  \\\n",
       "0     01-112-7GI  k__Bacteria;p__Bacteroidetes;c__Bacteroidia;o_...  0.000007   \n",
       "628   01-112-7GI  k__Bacteria;p__Bacteroidetes;c__Bacteroidia;o_...  0.000000   \n",
       "1256  01-112-7GI  k__Bacteria;p__Bacteroidetes;c__Bacteroidia;o_...  0.000000   \n",
       "1884  01-112-7GI  k__Bacteria;p__Bacteroidetes;c__Flavobacteriia...  0.000004   \n",
       "2512  01-112-7GI  k__Bacteria;p__Firmicutes;c__Bacilli;o__Lactob...  0.000000   \n",
       "\n",
       "     mbs_consolidated           site subject_id  \\\n",
       "0                 NaN  gastric_fluid   01-112-7   \n",
       "628               NaN  gastric_fluid   01-112-7   \n",
       "1256              NaN  gastric_fluid   01-112-7   \n",
       "1884              NaN  gastric_fluid   01-112-7   \n",
       "2512              NaN  gastric_fluid   01-112-7   \n",
       "\n",
       "                                             otu_w_site  \n",
       "0     k__Bacteria;p__Bacteroidetes;c__Bacteroidia;o_...  \n",
       "628   k__Bacteria;p__Bacteroidetes;c__Bacteroidia;o_...  \n",
       "1256  k__Bacteria;p__Bacteroidetes;c__Bacteroidia;o_...  \n",
       "1884  k__Bacteria;p__Bacteroidetes;c__Flavobacteriia...  \n",
       "2512  k__Bacteria;p__Firmicutes;c__Bacilli;o__Lactob...  "
      ]
     },
     "execution_count": 62,
     "metadata": {},
     "output_type": "execute_result"
    }
   ],
   "source": [
    "tidyotu.head()"
   ]
  },
  {
   "cell_type": "code",
   "execution_count": 63,
   "metadata": {
    "collapsed": false
   },
   "outputs": [],
   "source": [
    "keepsites = ['bal', 'throat_swab']\n",
    "tmp = tidyotu\\\n",
    "    .query('otu == @keepotus')\\\n",
    "    .query('(subject_id == @h_subjs) | (subject_id == @asp_subjs)')\\\n",
    "    .query('site == @keepsites')\n",
    "tmp['log_abun'] = np.log10(tmp['abun'] + 1e-6)\n"
   ]
  },
  {
   "cell_type": "code",
   "execution_count": 64,
   "metadata": {
    "collapsed": false
   },
   "outputs": [
    {
     "name": "stderr",
     "output_type": "stream",
     "text": [
      "/Users/claire/anaconda/lib/python2.7/site-packages/seaborn/categorical.py:588: FutureWarning: remove_na is deprecated and is a private function. Do not use.\n",
      "  kde_data = remove_na(group_data)\n",
      "/Users/claire/anaconda/lib/python2.7/site-packages/seaborn/categorical.py:816: FutureWarning: remove_na is deprecated and is a private function. Do not use.\n",
      "  violin_data = remove_na(group_data)\n"
     ]
    },
    {
     "data": {
      "text/plain": [
       "<seaborn.axisgrid.FacetGrid at 0x111b63e50>"
      ]
     },
     "execution_count": 64,
     "metadata": {},
     "output_type": "execute_result"
    },
    {
     "data": {
      "image/png": "[encoded data removed]",
      "text/plain": [
       "<matplotlib.figure.Figure at 0x111b63790>"
      ]
     },
     "metadata": {},
     "output_type": "display_data"
    }
   ],
   "source": [
    "g = sns.FacetGrid(col='site', row='otu', data=tmp, margin_titles=True)\n",
    "g.map(sns.violinplot, 'mbs_consolidated', 'log_abun')\n",
    "g.map(sns.stripplot, 'mbs_consolidated', 'log_abun', jitter=True, split=True, linewidth=0.5)"
   ]
  },
  {
   "cell_type": "markdown",
   "metadata": {},
   "source": [
    "Okay, so the lungs are definitely more informative than the throat (obvs). \n",
    "\n",
    "Might be worth just presenting these results as potential bugs to follow up with for biomarker\n",
    "studies?? \n",
    "\n",
    "That said, these are really bimodal results... I do want to try the presence/absence classifier!\n",
    "And maybe I should try something simpler than Random Forest...?\n",
    "\n",
    "2018-01-16 follow-up - just present these negative results as negative results. No worries!"
   ]
  },
  {
   "cell_type": "markdown",
   "metadata": {},
   "source": [
    "# Gastric-BAL OTUs\n",
    "\n",
    "Basically repeat all the classifiers on the gastric and BAL exchange OTUs"
   ]
  },
  {
   "cell_type": "code",
   "execution_count": 167,
   "metadata": {
    "collapsed": false
   },
   "outputs": [
    {
     "name": "stdout",
     "output_type": "stream",
     "text": [
      "((96, 6), (48,))\n"
     ]
    },
    {
     "data": {
      "text/html": [
       "<div>\n",
       "<style scoped>\n",
       "    .dataframe tbody tr th:only-of-type {\n",
       "        vertical-align: middle;\n",
       "    }\n",
       "\n",
       "    .dataframe tbody tr th {\n",
       "        vertical-align: top;\n",
       "    }\n",
       "\n",
       "    .dataframe thead th {\n",
       "        text-align: right;\n",
       "    }\n",
       "</style>\n",
       "<table border=\"1\" class=\"dataframe\">\n",
       "  <thead>\n",
       "    <tr style=\"text-align: right;\">\n",
       "      <th>meta_val</th>\n",
       "      <th>Aspiration/Penetration</th>\n",
       "      <th>Normal</th>\n",
       "      <th>asp_minus_nml</th>\n",
       "    </tr>\n",
       "    <tr>\n",
       "      <th>otu</th>\n",
       "      <th></th>\n",
       "      <th></th>\n",
       "      <th></th>\n",
       "    </tr>\n",
       "  </thead>\n",
       "  <tbody>\n",
       "    <tr>\n",
       "      <th>k__Bacteria;p__Proteobacteria;c__Gammaproteobacteria;o__Pasteurellales;f__Pasteurellaceae;g__Haemophilus;s__;d__denovo3</th>\n",
       "      <td>0.78125</td>\n",
       "      <td>0.439024</td>\n",
       "      <td>0.342226</td>\n",
       "    </tr>\n",
       "    <tr>\n",
       "      <th>k__Bacteria;p__Proteobacteria;c__Betaproteobacteria;o__Neisseriales;f__Neisseriaceae;g__Neisseria;s__;d__denovo124</th>\n",
       "      <td>0.37500</td>\n",
       "      <td>0.048780</td>\n",
       "      <td>0.326220</td>\n",
       "    </tr>\n",
       "    <tr>\n",
       "      <th>k__Bacteria;p__Firmicutes;c__Clostridia;o__Clostridiales;f__Lachnospiraceae;g__Coprococcus;s__;d__denovo216</th>\n",
       "      <td>0.34375</td>\n",
       "      <td>0.073171</td>\n",
       "      <td>0.270579</td>\n",
       "    </tr>\n",
       "    <tr>\n",
       "      <th>k__Bacteria;p__Proteobacteria;c__Gammaproteobacteria;o__Pasteurellales;f__Pasteurellaceae;g__Haemophilus;s__;d__denovo7</th>\n",
       "      <td>0.78125</td>\n",
       "      <td>0.512195</td>\n",
       "      <td>0.269055</td>\n",
       "    </tr>\n",
       "    <tr>\n",
       "      <th>k__Bacteria;p__Proteobacteria;c__Betaproteobacteria;o__Neisseriales;f__Neisseriaceae;g__Neisseria;s__;d__denovo5</th>\n",
       "      <td>0.75000</td>\n",
       "      <td>0.487805</td>\n",
       "      <td>0.262195</td>\n",
       "    </tr>\n",
       "    <tr>\n",
       "      <th>k__Bacteria;p__Bacteroidetes;c__Bacteroidia;o__Bacteroidales;f__Prevotellaceae;g__;s__;d__denovo10</th>\n",
       "      <td>0.65625</td>\n",
       "      <td>0.414634</td>\n",
       "      <td>0.241616</td>\n",
       "    </tr>\n",
       "    <tr>\n",
       "      <th>k__Bacteria;p__Firmicutes;c__Bacilli;o__Lactobacillales;f__Streptococcaceae;g__Streptococcus;s__;d__denovo17</th>\n",
       "      <td>0.59375</td>\n",
       "      <td>0.365854</td>\n",
       "      <td>0.227896</td>\n",
       "    </tr>\n",
       "    <tr>\n",
       "      <th>k__Bacteria;p__Bacteroidetes;c__Bacteroidia;o__Bacteroidales;f__Prevotellaceae;g__Prevotella;s__;d__denovo18</th>\n",
       "      <td>0.53125</td>\n",
       "      <td>0.317073</td>\n",
       "      <td>0.214177</td>\n",
       "    </tr>\n",
       "    <tr>\n",
       "      <th>k__Bacteria;p__Fusobacteria;c__Fusobacteriia;o__Fusobacteriales;f__Fusobacteriaceae;g__Fusobacterium;s__;d__denovo8</th>\n",
       "      <td>0.59375</td>\n",
       "      <td>0.390244</td>\n",
       "      <td>0.203506</td>\n",
       "    </tr>\n",
       "    <tr>\n",
       "      <th>k__Bacteria;p__Firmicutes;c__Negativicutes;o__Selenomonadales;f__Veillonellaceae;g__Veillonella;s__;d__denovo56</th>\n",
       "      <td>0.46875</td>\n",
       "      <td>0.268293</td>\n",
       "      <td>0.200457</td>\n",
       "    </tr>\n",
       "  </tbody>\n",
       "</table>\n",
       "</div>"
      ],
      "text/plain": [
       "meta_val                                            Aspiration/Penetration  \\\n",
       "otu                                                                          \n",
       "k__Bacteria;p__Proteobacteria;c__Gammaproteobac...                 0.78125   \n",
       "k__Bacteria;p__Proteobacteria;c__Betaproteobact...                 0.37500   \n",
       "k__Bacteria;p__Firmicutes;c__Clostridia;o__Clos...                 0.34375   \n",
       "k__Bacteria;p__Proteobacteria;c__Gammaproteobac...                 0.78125   \n",
       "k__Bacteria;p__Proteobacteria;c__Betaproteobact...                 0.75000   \n",
       "k__Bacteria;p__Bacteroidetes;c__Bacteroidia;o__...                 0.65625   \n",
       "k__Bacteria;p__Firmicutes;c__Bacilli;o__Lactoba...                 0.59375   \n",
       "k__Bacteria;p__Bacteroidetes;c__Bacteroidia;o__...                 0.53125   \n",
       "k__Bacteria;p__Fusobacteria;c__Fusobacteriia;o_...                 0.59375   \n",
       "k__Bacteria;p__Firmicutes;c__Negativicutes;o__S...                 0.46875   \n",
       "\n",
       "meta_val                                              Normal  asp_minus_nml  \n",
       "otu                                                                          \n",
       "k__Bacteria;p__Proteobacteria;c__Gammaproteobac...  0.439024       0.342226  \n",
       "k__Bacteria;p__Proteobacteria;c__Betaproteobact...  0.048780       0.326220  \n",
       "k__Bacteria;p__Firmicutes;c__Clostridia;o__Clos...  0.073171       0.270579  \n",
       "k__Bacteria;p__Proteobacteria;c__Gammaproteobac...  0.512195       0.269055  \n",
       "k__Bacteria;p__Proteobacteria;c__Betaproteobact...  0.487805       0.262195  \n",
       "k__Bacteria;p__Bacteroidetes;c__Bacteroidia;o__...  0.414634       0.241616  \n",
       "k__Bacteria;p__Firmicutes;c__Bacilli;o__Lactoba...  0.365854       0.227896  \n",
       "k__Bacteria;p__Bacteroidetes;c__Bacteroidia;o__...  0.317073       0.214177  \n",
       "k__Bacteria;p__Fusobacteria;c__Fusobacteriia;o_...  0.390244       0.203506  \n",
       "k__Bacteria;p__Firmicutes;c__Negativicutes;o__S...  0.268293       0.200457  "
      ]
     },
     "execution_count": 167,
     "metadata": {},
     "output_type": "execute_result"
    }
   ],
   "source": [
    "## First, look at the most differentially exchange bugs\n",
    "fpreva = '../../data/analysis/prevalence.partial_corrs.nthresh10-qthresh01-rthresh0.txt'\n",
    "preva = pd.read_csv(fpreva, sep='\\t')\n",
    "\n",
    "# Let's look just at the aspirator vs. non-aspirator comparisons\n",
    "preva = preva.query('meta_var == \"mbs_consolidated\"')\n",
    "\n",
    "# And just the bal-throat_swab comparison\n",
    "preva = preva.query('site_comparison == \"bal-gastric_fluid\"')\n",
    "\n",
    "print(preva.shape, preva['otu'].unique().shape)\n",
    "\n",
    "# Pivot to get differential prevalence\n",
    "diffpreva = preva.pivot(index='otu', columns='meta_val', values='prevalence_exchange')\n",
    "\n",
    "# Sort values by differential prevalence in aspirators\n",
    "diffpreva['asp_minus_nml'] = diffpreva['Aspiration/Penetration'] - diffpreva['Normal']\n",
    "#diffpreva['abs_diff'] = abs(diffpreva['asp_minus_nml'])\n",
    "diffpreva.sort_values(by='asp_minus_nml', ascending=False).head(10)"
   ]
  },
  {
   "cell_type": "code",
   "execution_count": 168,
   "metadata": {
    "collapsed": false
   },
   "outputs": [
    {
     "data": {
      "text/html": [
       "<div>\n",
       "<style scoped>\n",
       "    .dataframe tbody tr th:only-of-type {\n",
       "        vertical-align: middle;\n",
       "    }\n",
       "\n",
       "    .dataframe tbody tr th {\n",
       "        vertical-align: top;\n",
       "    }\n",
       "\n",
       "    .dataframe thead th {\n",
       "        text-align: right;\n",
       "    }\n",
       "</style>\n",
       "<table border=\"1\" class=\"dataframe\">\n",
       "  <thead>\n",
       "    <tr style=\"text-align: right;\">\n",
       "      <th></th>\n",
       "      <th>meta_val</th>\n",
       "      <th>n_patients</th>\n",
       "    </tr>\n",
       "  </thead>\n",
       "  <tbody>\n",
       "    <tr>\n",
       "      <th>48</th>\n",
       "      <td>Aspiration/Penetration</td>\n",
       "      <td>32</td>\n",
       "    </tr>\n",
       "    <tr>\n",
       "      <th>96</th>\n",
       "      <td>Normal</td>\n",
       "      <td>41</td>\n",
       "    </tr>\n",
       "  </tbody>\n",
       "</table>\n",
       "</div>"
      ],
      "text/plain": [
       "                  meta_val  n_patients\n",
       "48  Aspiration/Penetration          32\n",
       "96                  Normal          41"
      ]
     },
     "execution_count": 168,
     "metadata": {},
     "output_type": "execute_result"
    }
   ],
   "source": [
    "# Just as a reminder... how many patients were used for these prevalence calcs?\n",
    "preva[['meta_val', 'n_patients']].drop_duplicates()"
   ]
  },
  {
   "cell_type": "markdown",
   "metadata": {},
   "source": [
    "For the paper, I'll just show these in the supplement."
   ]
  },
  {
   "cell_type": "code",
   "execution_count": 197,
   "metadata": {
    "collapsed": false
   },
   "outputs": [
    {
     "name": "stdout",
     "output_type": "stream",
     "text": [
      "Pasteurellaceae & Haemophilus & 78.1 & 43.9 & 34.2 \\\\ \n",
      "Neisseriaceae & Neisseria & 37.5 & 4.9 & 32.6 \\\\ \n",
      "Lachnospiraceae & Coprococcus & 34.4 & 7.3 & 27.1 \\\\ \n",
      "Pasteurellaceae & Haemophilus & 78.1 & 51.2 & 26.9 \\\\ \n",
      "Neisseriaceae & Neisseria & 75.0 & 48.8 & 26.2 \\\\ \n",
      "Prevotellaceae &  & 65.6 & 41.5 & 24.2 \\\\ \n",
      "Streptococcaceae & Streptococcus & 59.4 & 36.6 & 22.8 \\\\ \n",
      "Prevotellaceae & Prevotella & 53.1 & 31.7 & 21.4 \\\\ \n",
      "Fusobacteriaceae & Fusobacterium & 59.4 & 39.0 & 20.4 \\\\ \n",
      "Veillonellaceae & Veillonella & 46.9 & 26.8 & 20.0 \\\\ \n",
      "Prevotellaceae & Prevotella & 34.4 & 14.6 & 19.7 \\\\ \n",
      "Lachnospiraceae & Oribacterium & 34.4 & 14.6 & 19.7 \\\\ \n",
      "Flavobacteriaceae & Planobacterium & 28.1 & 9.8 & 18.4 \\\\ \n",
      "Veillonellaceae & Veillonella & 46.9 & 29.3 & 17.6 \\\\ \n",
      "Streptococcaceae & Streptococcus & 56.2 & 39.0 & 17.2 \\\\ \n",
      "Moraxellaceae & Moraxella & 43.8 & 26.8 & 16.9 \\\\ \n",
      "Erysipelotrichaceae & Solobacterium & 31.2 & 14.6 & 16.6 \\\\ \n",
      "Prevotellaceae & Prevotella & 59.4 & 43.9 & 15.5 \\\\ \n",
      "Micrococcaceae & Rothia & 53.1 & 39.0 & 14.1 \\\\ \n",
      "Pasteurellaceae & Haemophilus & 40.6 & 26.8 & 13.8 \\\\ \n",
      "Actinomycetaceae & Actinomyces & 25.0 & 12.2 & 12.8 \\\\ \n",
      "Fusobacteriaceae & Fusobacterium & 31.2 & 19.5 & 11.7 \\\\ \n",
      "Unknown Burkholderiales &  & 18.8 & 7.3 & 11.4 \\\\ \n",
      "Streptococcaceae & Streptococcus & 84.4 & 73.2 & 11.2 \\\\ \n",
      "Comamonadaceae & Comamonas & 15.6 & 4.9 & 10.7 \\\\ \n",
      "Prevotellaceae & Prevotella & 71.9 & 63.4 & 8.5 \\\\ \n",
      "Aerococcaceae & Abiotrophia & 12.5 & 4.9 & 7.6 \\\\ \n",
      "Actinomycetaceae & Actinomyces & 21.9 & 14.6 & 7.2 \\\\ \n",
      "Bacteroidaceae & Bacteroides & 21.9 & 14.6 & 7.2 \\\\ \n",
      "Veillonellaceae & Veillonella & 87.5 & 80.5 & 7.0 \\\\ \n",
      "Fusobacteriaceae & Fusobacterium & 18.8 & 12.2 & 6.6 \\\\ \n",
      "Enterococcaceae &  & 84.4 & 78.0 & 6.3 \\\\ \n",
      "Coriobacteriaceae & Atopobium & 21.9 & 19.5 & 2.4 \\\\ \n",
      "Chloroplast & Streptophyta & 6.2 & 7.3 & -1.1 \\\\ \n",
      "Pasteurellaceae & Haemophilus & 21.9 & 24.4 & -2.5 \\\\ \n",
      "Unknown Bacteria &  & 18.8 & 22.0 & -3.2 \\\\ \n",
      "Porphyromonadaceae & Parabacteroides & 6.2 & 14.6 & -8.4 \\\\ \n",
      "Erysipelotrichaceae & Clostridium\\_XVIII & 3.1 & 14.6 & -11.5 \\\\ \n",
      "Lachnospiraceae & Ruminococcus2 & 6.2 & 19.5 & -13.3 \\\\ \n",
      "Staphylococcaceae & Staphylococcus & 43.8 & 58.5 & -14.8 \\\\ \n",
      "Moraxellaceae & Acinetobacter & 37.5 & 53.7 & -16.2 \\\\ \n",
      "Enterobacteriaceae & Enterobacter & 62.5 & 80.5 & -18.0 \\\\ \n",
      "Unknown Bacillales &  & 28.1 & 46.3 & -18.2 \\\\ \n",
      "Lactobacillaceae & Lactobacillus & 18.8 & 39.0 & -20.3 \\\\ \n",
      "Moraxellaceae & Acinetobacter & 40.6 & 61.0 & -20.4 \\\\ \n",
      "Bacteroidaceae & Bacteroides & 25.0 & 48.8 & -23.8 \\\\ \n",
      "Moraxellaceae & Acinetobacter & 43.8 & 73.2 & -29.4 \\\\ \n",
      "Leuconostocaceae & Leuconostoc & 40.6 & 73.2 & -32.5 \\\\ \n"
     ]
    }
   ],
   "source": [
    "## Do some text manipulations to print these values out in latex table format\n",
    "table = pd.concat((diffpreva.reset_index(), diffpreva.reset_index()['otu'].str.split(';', expand=True)), axis=1)\n",
    "\n",
    "# Split OTU names to individual phyla\n",
    "# Prettify results\n",
    "table['family'] = table[4].str.split('f__').str[1]\n",
    "table['genus'] = table[5].str.split('g__').str[1]\n",
    "\n",
    "# Fill in empty families with order\n",
    "table['family'] = table['family'].where(table['family'] != '', \"Unknown \" + table[3].str.split('o__').str[1])\n",
    "# Fill in empty orders with \"Unkown bacteria\" (I checked manually that this one is unannotated all the way)\n",
    "table['family'] = table['family'].where(table['family'] != 'Unknown ', \"Unknown Bacteria\")\n",
    "\n",
    "# Re-format percentages\n",
    "table['Aspiration/Penetration'] = table['Aspiration/Penetration'].apply(lambda x: '{:.1f}'.format(x*100))\n",
    "table['Normal'] = table['Normal'].apply(lambda x: '{:.1f}'.format(x*100))\n",
    "table['Difference'] = table['asp_minus_nml'].apply(lambda x: '{:.1f}'.format(x*100))\n",
    "\n",
    "table = table.sort_values(by='asp_minus_nml', ascending=False)\n",
    "\n",
    "col_order = ['family', 'genus', 'Aspiration/Penetration', 'Normal', 'Difference']\n",
    "table = table[col_order]\n",
    "print('\\n'.join(table.apply(convert_to_latex, axis=1)))"
   ]
  },
  {
   "cell_type": "markdown",
   "metadata": {},
   "source": [
    "## Classifiers based on the gastric-BAL OTUs\n",
    "\n",
    "- using only BAL community   \n",
    "    - abundance and presence/absence   \n",
    "- using only gastric community    \n",
    "    - abundance and presence/absence   \n",
    "- using both communities    \n",
    "    - abundance and presence/absence   "
   ]
  },
  {
   "cell_type": "markdown",
   "metadata": {},
   "source": [
    "### BAL community, gastric-BAL OTUs"
   ]
  },
  {
   "cell_type": "code",
   "execution_count": 123,
   "metadata": {
    "collapsed": true
   },
   "outputs": [],
   "source": [
    "fotu = '../../data/clean/rosen.otu_table.rel_abun.clean'\n",
    "fmeta = '../../data/clean/rosen.metadata.clean'\n",
    "\n",
    "otu = pd.read_csv(fotu, sep='\\t', index_col=0)\n",
    "meta = pd.read_csv(fmeta, sep='\\t', index_col=0)\n",
    "\n",
    "# Keep gastric-BAL OTUs only\n",
    "keepotus = diffpreva.index.tolist()\n",
    "otu = otu[keepotus]\n",
    "\n",
    "# Grab patients with both BAL and gastric fluid, and aspiration status\n",
    "sites = ['bal', 'gastric_fluid']\n",
    "patientsamples = meta\\\n",
    "    .query('site == @sites')\\\n",
    "    .dropna(subset=['mbs_consolidated'])\\\n",
    "    .groupby(['mbs_consolidated', 'site', 'subject_id'])\\\n",
    "    .size()\\\n",
    "    .to_frame('n_samples')\\\n",
    "    .reset_index()\\\n",
    "    .groupby(['subject_id', 'mbs_consolidated'])\\\n",
    "    .size()\\\n",
    "    .to_frame('n_samples')\\\n",
    "    .reset_index()\n",
    "patientsamples = patientsamples.query('n_samples == 2')\n",
    "\n",
    "# Get separate lists for normal and aspirator *subjects*\n",
    "h_subjs = patientsamples\\\n",
    "    .query('mbs_consolidated == \"Normal\"')\\\n",
    "    ['subject_id'].tolist()\n",
    "    \n",
    "asp_subjs = patientsamples\\\n",
    "    .query('mbs_consolidated == \"Aspiration/Penetration\"')\\\n",
    "    ['subject_id'].tolist()\n",
    "\n",
    "# Get healthy and aspirators BAL samples\n",
    "h_smpls = meta\\\n",
    "    .query('subject_id == @h_subjs')\\\n",
    "    .query('site == \"bal\"')\\\n",
    "    .index.tolist()\n",
    "asp_smpls = meta\\\n",
    "    .query('subject_id == @asp_subjs')\\\n",
    "    .query('site == \"bal\"').index.tolist()\n",
    "\n",
    "# Prepare data for classifiers\n",
    "X = otu.loc[h_smpls + asp_smpls, :]\n",
    "Y = [aspdict[meta.loc[i, 'mbs_consolidated']] for i in X.index]\n",
    "X = X.values"
   ]
  },
  {
   "cell_type": "code",
   "execution_count": 70,
   "metadata": {
    "collapsed": false
   },
   "outputs": [
    {
     "name": "stdout",
     "output_type": "stream",
     "text": [
      "0.695238095238\n"
     ]
    },
    {
     "data": {
      "text/html": [
       "<div>\n",
       "<style scoped>\n",
       "    .dataframe tbody tr th:only-of-type {\n",
       "        vertical-align: middle;\n",
       "    }\n",
       "\n",
       "    .dataframe tbody tr th {\n",
       "        vertical-align: top;\n",
       "    }\n",
       "\n",
       "    .dataframe thead th {\n",
       "        text-align: right;\n",
       "    }\n",
       "</style>\n",
       "<table border=\"1\" class=\"dataframe\">\n",
       "  <thead>\n",
       "    <tr style=\"text-align: right;\">\n",
       "      <th></th>\n",
       "      <th>pred 0</th>\n",
       "      <th>pred 1</th>\n",
       "    </tr>\n",
       "  </thead>\n",
       "  <tbody>\n",
       "    <tr>\n",
       "      <th>true 0</th>\n",
       "      <td>30</td>\n",
       "      <td>11</td>\n",
       "    </tr>\n",
       "    <tr>\n",
       "      <th>true 1</th>\n",
       "      <td>15</td>\n",
       "      <td>17</td>\n",
       "    </tr>\n",
       "  </tbody>\n",
       "</table>\n",
       "</div>"
      ],
      "text/plain": [
       "        pred 0  pred 1\n",
       "true 0      30      11\n",
       "true 1      15      17"
      ]
     },
     "execution_count": 70,
     "metadata": {},
     "output_type": "execute_result"
    },
    {
     "data": {
      "image/png": "[encoded data removed]",
      "text/plain": [
       "<matplotlib.figure.Figure at 0x1113d9710>"
      ]
     },
     "metadata": {},
     "output_type": "display_data"
    }
   ],
   "source": [
    "# Classify and print results\n",
    "rf = RandomForestClassifier(n_estimators=1000)\n",
    "results = cv_and_roc(rf, X, Y, random_state=random_state)\n",
    "\n",
    "print(np.mean(results['auc_list']))\n",
    "plot_auc_from_list(results['tpr_list'], results['mean_fpr'])\n",
    "results['conf_mat']"
   ]
  },
  {
   "cell_type": "markdown",
   "metadata": {},
   "source": [
    "#### Presence absence of BAL-gastric OTUs in BAL community"
   ]
  },
  {
   "cell_type": "code",
   "execution_count": 71,
   "metadata": {
    "collapsed": false
   },
   "outputs": [
    {
     "name": "stdout",
     "output_type": "stream",
     "text": [
      "0.70496031746\n"
     ]
    },
    {
     "data": {
      "text/html": [
       "<div>\n",
       "<style scoped>\n",
       "    .dataframe tbody tr th:only-of-type {\n",
       "        vertical-align: middle;\n",
       "    }\n",
       "\n",
       "    .dataframe tbody tr th {\n",
       "        vertical-align: top;\n",
       "    }\n",
       "\n",
       "    .dataframe thead th {\n",
       "        text-align: right;\n",
       "    }\n",
       "</style>\n",
       "<table border=\"1\" class=\"dataframe\">\n",
       "  <thead>\n",
       "    <tr style=\"text-align: right;\">\n",
       "      <th></th>\n",
       "      <th>pred 0</th>\n",
       "      <th>pred 1</th>\n",
       "    </tr>\n",
       "  </thead>\n",
       "  <tbody>\n",
       "    <tr>\n",
       "      <th>true 0</th>\n",
       "      <td>32</td>\n",
       "      <td>9</td>\n",
       "    </tr>\n",
       "    <tr>\n",
       "      <th>true 1</th>\n",
       "      <td>14</td>\n",
       "      <td>18</td>\n",
       "    </tr>\n",
       "  </tbody>\n",
       "</table>\n",
       "</div>"
      ],
      "text/plain": [
       "        pred 0  pred 1\n",
       "true 0      32       9\n",
       "true 1      14      18"
      ]
     },
     "execution_count": 71,
     "metadata": {},
     "output_type": "execute_result"
    },
    {
     "data": {
      "image/png": "[encoded data removed]",
      "text/plain": [
       "<matplotlib.figure.Figure at 0x1171fea10>"
      ]
     },
     "metadata": {},
     "output_type": "display_data"
    }
   ],
   "source": [
    "X_pres = (X > 0).astype(int)\n",
    "\n",
    "rf = RandomForestClassifier(n_estimators=1000)\n",
    "results_pres = cv_and_roc(rf, X_pres, Y, random_state=random_state)\n",
    "\n",
    "print(np.mean(results_pres['auc_list']))\n",
    "plot_auc_from_list(results_pres['tpr_list'], results_pres['mean_fpr'])\n",
    "results_pres['conf_mat']"
   ]
  },
  {
   "cell_type": "markdown",
   "metadata": {},
   "source": [
    "### Gastric community, gastric-BAL OTUs"
   ]
  },
  {
   "cell_type": "code",
   "execution_count": 72,
   "metadata": {
    "collapsed": true
   },
   "outputs": [],
   "source": [
    "# Get healthy and aspirators BAL samples\n",
    "h_smpls = meta\\\n",
    "    .query('subject_id == @h_subjs')\\\n",
    "    .query('site == \"gastric_fluid\"')\\\n",
    "    .index.tolist()\n",
    "asp_smpls = meta\\\n",
    "    .query('subject_id == @asp_subjs')\\\n",
    "    .query('site == \"gastric_fluid\"').index.tolist()\n",
    "\n",
    "# Prepare data for classifiers\n",
    "X = otu.loc[h_smpls + asp_smpls, :]\n",
    "Y = [aspdict[meta.loc[i, 'mbs_consolidated']] for i in X.index]\n",
    "X = X.values"
   ]
  },
  {
   "cell_type": "code",
   "execution_count": 73,
   "metadata": {
    "collapsed": false
   },
   "outputs": [
    {
     "name": "stdout",
     "output_type": "stream",
     "text": [
      "0.685714285714\n"
     ]
    },
    {
     "data": {
      "text/html": [
       "<div>\n",
       "<style scoped>\n",
       "    .dataframe tbody tr th:only-of-type {\n",
       "        vertical-align: middle;\n",
       "    }\n",
       "\n",
       "    .dataframe tbody tr th {\n",
       "        vertical-align: top;\n",
       "    }\n",
       "\n",
       "    .dataframe thead th {\n",
       "        text-align: right;\n",
       "    }\n",
       "</style>\n",
       "<table border=\"1\" class=\"dataframe\">\n",
       "  <thead>\n",
       "    <tr style=\"text-align: right;\">\n",
       "      <th></th>\n",
       "      <th>pred 0</th>\n",
       "      <th>pred 1</th>\n",
       "    </tr>\n",
       "  </thead>\n",
       "  <tbody>\n",
       "    <tr>\n",
       "      <th>true 0</th>\n",
       "      <td>28</td>\n",
       "      <td>13</td>\n",
       "    </tr>\n",
       "    <tr>\n",
       "      <th>true 1</th>\n",
       "      <td>17</td>\n",
       "      <td>15</td>\n",
       "    </tr>\n",
       "  </tbody>\n",
       "</table>\n",
       "</div>"
      ],
      "text/plain": [
       "        pred 0  pred 1\n",
       "true 0      28      13\n",
       "true 1      17      15"
      ]
     },
     "execution_count": 73,
     "metadata": {},
     "output_type": "execute_result"
    },
    {
     "data": {
      "image/png": "[encoded data removed]",
      "text/plain": [
       "<matplotlib.figure.Figure at 0x11144b890>"
      ]
     },
     "metadata": {},
     "output_type": "display_data"
    }
   ],
   "source": [
    "# Classify and print results\n",
    "rf = RandomForestClassifier(n_estimators=1000)\n",
    "results = cv_and_roc(rf, X, Y, random_state=random_state)\n",
    "\n",
    "print(np.mean(results['auc_list']))\n",
    "plot_auc_from_list(results['tpr_list'], results['mean_fpr'])\n",
    "results['conf_mat']"
   ]
  },
  {
   "cell_type": "markdown",
   "metadata": {},
   "source": [
    "#### Presence absence of BAL-gastric OTUs in gastric community\n"
   ]
  },
  {
   "cell_type": "code",
   "execution_count": 74,
   "metadata": {
    "collapsed": false
   },
   "outputs": [
    {
     "name": "stdout",
     "output_type": "stream",
     "text": [
      "0.628968253968\n"
     ]
    },
    {
     "data": {
      "text/html": [
       "<div>\n",
       "<style scoped>\n",
       "    .dataframe tbody tr th:only-of-type {\n",
       "        vertical-align: middle;\n",
       "    }\n",
       "\n",
       "    .dataframe tbody tr th {\n",
       "        vertical-align: top;\n",
       "    }\n",
       "\n",
       "    .dataframe thead th {\n",
       "        text-align: right;\n",
       "    }\n",
       "</style>\n",
       "<table border=\"1\" class=\"dataframe\">\n",
       "  <thead>\n",
       "    <tr style=\"text-align: right;\">\n",
       "      <th></th>\n",
       "      <th>pred 0</th>\n",
       "      <th>pred 1</th>\n",
       "    </tr>\n",
       "  </thead>\n",
       "  <tbody>\n",
       "    <tr>\n",
       "      <th>true 0</th>\n",
       "      <td>31</td>\n",
       "      <td>10</td>\n",
       "    </tr>\n",
       "    <tr>\n",
       "      <th>true 1</th>\n",
       "      <td>17</td>\n",
       "      <td>15</td>\n",
       "    </tr>\n",
       "  </tbody>\n",
       "</table>\n",
       "</div>"
      ],
      "text/plain": [
       "        pred 0  pred 1\n",
       "true 0      31      10\n",
       "true 1      17      15"
      ]
     },
     "execution_count": 74,
     "metadata": {},
     "output_type": "execute_result"
    },
    {
     "data": {
      "image/png": "[encoded data removed]",
      "text/plain": [
       "<matplotlib.figure.Figure at 0x1171fb350>"
      ]
     },
     "metadata": {},
     "output_type": "display_data"
    }
   ],
   "source": [
    "X_pres = (X > 0).astype(int)\n",
    "\n",
    "rf = RandomForestClassifier(n_estimators=1000)\n",
    "results_pres = cv_and_roc(rf, X_pres, Y, random_state=random_state)\n",
    "\n",
    "print(np.mean(results_pres['auc_list']))\n",
    "plot_auc_from_list(results_pres['tpr_list'], results_pres['mean_fpr'])\n",
    "results_pres['conf_mat']"
   ]
  },
  {
   "cell_type": "markdown",
   "metadata": {},
   "source": [
    "### BAL and gastric communities, BAL-gastric OTUs"
   ]
  },
  {
   "cell_type": "code",
   "execution_count": 75,
   "metadata": {
    "collapsed": false
   },
   "outputs": [
    {
     "name": "stdout",
     "output_type": "stream",
     "text": [
      "Tidying data... \n",
      "Finished.\n"
     ]
    }
   ],
   "source": [
    "mbscol = 'mbs_consolidated'\n",
    "tidyotu = tidyfy_otu(otu, meta, mbscol)\n",
    "\n",
    "site1 = 'bal'\n",
    "site2 = 'gastric_fluid'\n",
    "tmpotu = tidyotu.query('(site == @site1) | (site == @site2)')\\\n",
    "            .dropna(subset=[mbscol])\\\n",
    "            .pivot(index='subject_id', columns='otu_w_site',\n",
    "                   values='abun')\\\n",
    "            .dropna()"
   ]
  },
  {
   "cell_type": "code",
   "execution_count": 81,
   "metadata": {
    "collapsed": true
   },
   "outputs": [],
   "source": [
    "# Note: using how='inner' preserves the order of the left keys, so this new tmpmeta\n",
    "# is in the same order as my OTU table\n",
    "tmpmeta = pd.merge(tmpotu, meta[['subject_id', 'mbs_consolidated']].drop_duplicates(),  \n",
    "                   left_index=True, right_on='subject_id',\n",
    "                   how='inner')\n",
    "X = tmpotu.values\n",
    "Y = [aspdict[i] for i in tmpmeta['mbs_consolidated']]"
   ]
  },
  {
   "cell_type": "code",
   "execution_count": 124,
   "metadata": {
    "collapsed": false
   },
   "outputs": [
    {
     "data": {
      "text/plain": [
       "array([ True,  True,  True,  True,  True,  True,  True,  True,  True,\n",
       "        True,  True,  True,  True,  True,  True,  True,  True,  True,\n",
       "        True,  True,  True,  True,  True,  True,  True,  True,  True,\n",
       "        True,  True,  True,  True,  True,  True,  True,  True,  True,\n",
       "        True,  True,  True,  True,  True,  True,  True,  True,  True,\n",
       "        True,  True,  True,  True,  True,  True,  True,  True,  True,\n",
       "        True,  True,  True,  True], dtype=bool)"
      ]
     },
     "execution_count": 124,
     "metadata": {},
     "output_type": "execute_result"
    }
   ],
   "source": [
    "tmpotu.index == tmpmeta['subject_id'].values"
   ]
  },
  {
   "cell_type": "code",
   "execution_count": 125,
   "metadata": {
    "collapsed": false
   },
   "outputs": [
    {
     "name": "stdout",
     "output_type": "stream",
     "text": [
      "0.700595238095\n"
     ]
    },
    {
     "data": {
      "text/html": [
       "<div>\n",
       "<style scoped>\n",
       "    .dataframe tbody tr th:only-of-type {\n",
       "        vertical-align: middle;\n",
       "    }\n",
       "\n",
       "    .dataframe tbody tr th {\n",
       "        vertical-align: top;\n",
       "    }\n",
       "\n",
       "    .dataframe thead th {\n",
       "        text-align: right;\n",
       "    }\n",
       "</style>\n",
       "<table border=\"1\" class=\"dataframe\">\n",
       "  <thead>\n",
       "    <tr style=\"text-align: right;\">\n",
       "      <th></th>\n",
       "      <th>pred 0</th>\n",
       "      <th>pred 1</th>\n",
       "    </tr>\n",
       "  </thead>\n",
       "  <tbody>\n",
       "    <tr>\n",
       "      <th>true 0</th>\n",
       "      <td>30</td>\n",
       "      <td>11</td>\n",
       "    </tr>\n",
       "    <tr>\n",
       "      <th>true 1</th>\n",
       "      <td>16</td>\n",
       "      <td>16</td>\n",
       "    </tr>\n",
       "  </tbody>\n",
       "</table>\n",
       "</div>"
      ],
      "text/plain": [
       "        pred 0  pred 1\n",
       "true 0      30      11\n",
       "true 1      16      16"
      ]
     },
     "execution_count": 125,
     "metadata": {},
     "output_type": "execute_result"
    },
    {
     "data": {
      "image/png": "[encoded data removed]",
      "text/plain": [
       "<matplotlib.figure.Figure at 0x1114e2bd0>"
      ]
     },
     "metadata": {},
     "output_type": "display_data"
    }
   ],
   "source": [
    "rf = RandomForestClassifier(n_estimators=1000)\n",
    "results_pres = cv_and_roc(rf, X, Y, random_state=random_state)\n",
    "\n",
    "print(np.mean(results_pres['auc_list']))\n",
    "plot_auc_from_list(results_pres['tpr_list'], results_pres['mean_fpr'])\n",
    "results_pres['conf_mat']"
   ]
  },
  {
   "cell_type": "markdown",
   "metadata": {},
   "source": [
    "#### Presence/absence of BAL-gastric OTUs in both BAL and gastric communities"
   ]
  },
  {
   "cell_type": "code",
   "execution_count": 126,
   "metadata": {
    "collapsed": false
   },
   "outputs": [
    {
     "name": "stdout",
     "output_type": "stream",
     "text": [
      "0.702777777778\n"
     ]
    },
    {
     "data": {
      "text/html": [
       "<div>\n",
       "<style scoped>\n",
       "    .dataframe tbody tr th:only-of-type {\n",
       "        vertical-align: middle;\n",
       "    }\n",
       "\n",
       "    .dataframe tbody tr th {\n",
       "        vertical-align: top;\n",
       "    }\n",
       "\n",
       "    .dataframe thead th {\n",
       "        text-align: right;\n",
       "    }\n",
       "</style>\n",
       "<table border=\"1\" class=\"dataframe\">\n",
       "  <thead>\n",
       "    <tr style=\"text-align: right;\">\n",
       "      <th></th>\n",
       "      <th>pred 0</th>\n",
       "      <th>pred 1</th>\n",
       "    </tr>\n",
       "  </thead>\n",
       "  <tbody>\n",
       "    <tr>\n",
       "      <th>true 0</th>\n",
       "      <td>31</td>\n",
       "      <td>10</td>\n",
       "    </tr>\n",
       "    <tr>\n",
       "      <th>true 1</th>\n",
       "      <td>13</td>\n",
       "      <td>19</td>\n",
       "    </tr>\n",
       "  </tbody>\n",
       "</table>\n",
       "</div>"
      ],
      "text/plain": [
       "        pred 0  pred 1\n",
       "true 0      31      10\n",
       "true 1      13      19"
      ]
     },
     "execution_count": 126,
     "metadata": {},
     "output_type": "execute_result"
    },
    {
     "data": {
      "image/png": "[encoded data removed]",
      "text/plain": [
       "<matplotlib.figure.Figure at 0x10fbca390>"
      ]
     },
     "metadata": {},
     "output_type": "display_data"
    }
   ],
   "source": [
    "X_pres = (X > 0).astype(int)\n",
    "\n",
    "rf = RandomForestClassifier(n_estimators=1000)\n",
    "results_pres = cv_and_roc(rf, X_pres, Y, random_state=random_state)\n",
    "\n",
    "print(np.mean(results_pres['auc_list']))\n",
    "plot_auc_from_list(results_pres['tpr_list'], results_pres['mean_fpr'])\n",
    "results_pres['conf_mat']"
   ]
  },
  {
   "cell_type": "code",
   "execution_count": null,
   "metadata": {
    "collapsed": true
   },
   "outputs": [],
   "source": []
  }
 ],
 "metadata": {
  "anaconda-cloud": {},
  "kernelspec": {
   "display_name": "Python [default]",
   "language": "python",
   "name": "python2"
  },
  "language_info": {
   "codemirror_mode": {
    "name": "ipython",
    "version": 2
   },
   "file_extension": ".py",
   "mimetype": "text/x-python",
   "name": "python",
   "nbconvert_exporter": "python",
   "pygments_lexer": "ipython2",
   "version": "2.7.12"
  }
 },
 "nbformat": 4,
 "nbformat_minor": 2
}
