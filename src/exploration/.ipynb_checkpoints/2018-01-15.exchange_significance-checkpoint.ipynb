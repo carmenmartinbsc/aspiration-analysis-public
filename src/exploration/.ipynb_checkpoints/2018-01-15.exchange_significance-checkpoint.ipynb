{
 "cells": [
  {
   "cell_type": "markdown",
   "metadata": {},
   "source": [
    "This notebook looks into the null exchange results.\n",
    "\n",
    "It first labels whether bugs are exchange or not, then plots how many exchange bugs\n",
    "were in each site-comparison per iteration."
   ]
  },
  {
   "cell_type": "code",
   "execution_count": 1,
   "metadata": {
    "collapsed": true
   },
   "outputs": [],
   "source": [
    "import pandas as pd\n",
    "from statsmodels.sandbox.stats.multicomp import multipletests\n",
    "\n",
    "import matplotlib.pyplot as plt\n",
    "import seaborn as sns\n",
    "%matplotlib inline"
   ]
  },
  {
   "cell_type": "code",
   "execution_count": 2,
   "metadata": {
    "collapsed": false
   },
   "outputs": [
    {
     "data": {
      "text/html": [
       "<div>\n",
       "<style scoped>\n",
       "    .dataframe tbody tr th:only-of-type {\n",
       "        vertical-align: middle;\n",
       "    }\n",
       "\n",
       "    .dataframe tbody tr th {\n",
       "        vertical-align: top;\n",
       "    }\n",
       "\n",
       "    .dataframe thead th {\n",
       "        text-align: right;\n",
       "    }\n",
       "</style>\n",
       "<table border=\"1\" class=\"dataframe\">\n",
       "  <thead>\n",
       "    <tr style=\"text-align: right;\">\n",
       "      <th></th>\n",
       "      <th>otu</th>\n",
       "      <th>site1</th>\n",
       "      <th>site2</th>\n",
       "      <th>site3</th>\n",
       "      <th>r_site12</th>\n",
       "      <th>p_site12</th>\n",
       "      <th>n_site12</th>\n",
       "      <th>r_partial</th>\n",
       "      <th>p_partial</th>\n",
       "      <th>n_partial</th>\n",
       "      <th>shuffle_iter</th>\n",
       "    </tr>\n",
       "  </thead>\n",
       "  <tbody>\n",
       "    <tr>\n",
       "      <th>0</th>\n",
       "      <td>k__Bacteria;p__;c__;o__;f__;g__;s__;d__denovo364</td>\n",
       "      <td>bal</td>\n",
       "      <td>gastric_fluid</td>\n",
       "      <td>throat_swab</td>\n",
       "      <td>0.337461</td>\n",
       "      <td>0.170838</td>\n",
       "      <td>18</td>\n",
       "      <td>0.338192</td>\n",
       "      <td>0.0930</td>\n",
       "      <td>13</td>\n",
       "      <td>0</td>\n",
       "    </tr>\n",
       "    <tr>\n",
       "      <th>2</th>\n",
       "      <td>k__Bacteria;p__Actinobacteria;c__Actinobacteri...</td>\n",
       "      <td>gastric_fluid</td>\n",
       "      <td>throat_swab</td>\n",
       "      <td>bal</td>\n",
       "      <td>-0.207389</td>\n",
       "      <td>0.280370</td>\n",
       "      <td>29</td>\n",
       "      <td>-0.207650</td>\n",
       "      <td>0.8665</td>\n",
       "      <td>18</td>\n",
       "      <td>0</td>\n",
       "    </tr>\n",
       "    <tr>\n",
       "      <th>3</th>\n",
       "      <td>k__Bacteria;p__Actinobacteria;c__Actinobacteri...</td>\n",
       "      <td>bal</td>\n",
       "      <td>gastric_fluid</td>\n",
       "      <td>throat_swab</td>\n",
       "      <td>0.230943</td>\n",
       "      <td>0.301112</td>\n",
       "      <td>22</td>\n",
       "      <td>0.227302</td>\n",
       "      <td>0.1570</td>\n",
       "      <td>12</td>\n",
       "      <td>0</td>\n",
       "    </tr>\n",
       "    <tr>\n",
       "      <th>4</th>\n",
       "      <td>k__Bacteria;p__Actinobacteria;c__Actinobacteri...</td>\n",
       "      <td>bal</td>\n",
       "      <td>throat_swab</td>\n",
       "      <td>gastric_fluid</td>\n",
       "      <td>0.360870</td>\n",
       "      <td>0.083195</td>\n",
       "      <td>24</td>\n",
       "      <td>0.332241</td>\n",
       "      <td>0.0440</td>\n",
       "      <td>20</td>\n",
       "      <td>0</td>\n",
       "    </tr>\n",
       "    <tr>\n",
       "      <th>5</th>\n",
       "      <td>k__Bacteria;p__Actinobacteria;c__Actinobacteri...</td>\n",
       "      <td>gastric_fluid</td>\n",
       "      <td>throat_swab</td>\n",
       "      <td>bal</td>\n",
       "      <td>-0.137014</td>\n",
       "      <td>0.222569</td>\n",
       "      <td>81</td>\n",
       "      <td>-0.138964</td>\n",
       "      <td>0.8940</td>\n",
       "      <td>47</td>\n",
       "      <td>0</td>\n",
       "    </tr>\n",
       "  </tbody>\n",
       "</table>\n",
       "</div>"
      ],
      "text/plain": [
       "                                                 otu          site1  \\\n",
       "0   k__Bacteria;p__;c__;o__;f__;g__;s__;d__denovo364            bal   \n",
       "2  k__Bacteria;p__Actinobacteria;c__Actinobacteri...  gastric_fluid   \n",
       "3  k__Bacteria;p__Actinobacteria;c__Actinobacteri...            bal   \n",
       "4  k__Bacteria;p__Actinobacteria;c__Actinobacteri...            bal   \n",
       "5  k__Bacteria;p__Actinobacteria;c__Actinobacteri...  gastric_fluid   \n",
       "\n",
       "           site2          site3  r_site12  p_site12  n_site12  r_partial  \\\n",
       "0  gastric_fluid    throat_swab  0.337461  0.170838        18   0.338192   \n",
       "2    throat_swab            bal -0.207389  0.280370        29  -0.207650   \n",
       "3  gastric_fluid    throat_swab  0.230943  0.301112        22   0.227302   \n",
       "4    throat_swab  gastric_fluid  0.360870  0.083195        24   0.332241   \n",
       "5    throat_swab            bal -0.137014  0.222569        81  -0.138964   \n",
       "\n",
       "   p_partial  n_partial  shuffle_iter  \n",
       "0     0.0930         13             0  \n",
       "2     0.8665         18             0  \n",
       "3     0.1570         12             0  \n",
       "4     0.0440         20             0  \n",
       "5     0.8940         47             0  "
      ]
     },
     "execution_count": 2,
     "metadata": {},
     "output_type": "execute_result"
    }
   ],
   "source": [
    "fname = '../../data/analysis/exchange.with_partial_corrs.null_20reps.txt'\n",
    "\n",
    "nthresh = 10\n",
    "rthresh = 0\n",
    "qthresh = 0.1\n",
    "\n",
    "df = pd.read_csv(fname, sep='\\t')\n",
    "\n",
    "df = df.query('n_partial >= @nthresh')\n",
    "df.head()"
   ]
  },
  {
   "cell_type": "code",
   "execution_count": 3,
   "metadata": {
    "collapsed": false
   },
   "outputs": [
    {
     "data": {
      "text/plain": [
       "array([ 0,  1,  2,  3,  4,  5,  6,  7,  8,  9, 10, 11, 12, 13, 14, 15, 16,\n",
       "       17, 18, 19])"
      ]
     },
     "execution_count": 3,
     "metadata": {},
     "output_type": "execute_result"
    }
   ],
   "source": [
    "df['shuffle_iter'].unique()"
   ]
  },
  {
   "cell_type": "code",
   "execution_count": 4,
   "metadata": {
    "collapsed": false
   },
   "outputs": [
    {
     "data": {
      "text/html": [
       "<div>\n",
       "<style scoped>\n",
       "    .dataframe tbody tr th:only-of-type {\n",
       "        vertical-align: middle;\n",
       "    }\n",
       "\n",
       "    .dataframe tbody tr th {\n",
       "        vertical-align: top;\n",
       "    }\n",
       "\n",
       "    .dataframe thead th {\n",
       "        text-align: right;\n",
       "    }\n",
       "</style>\n",
       "<table border=\"1\" class=\"dataframe\">\n",
       "  <thead>\n",
       "    <tr style=\"text-align: right;\">\n",
       "      <th></th>\n",
       "      <th>otu</th>\n",
       "      <th>site1</th>\n",
       "      <th>site2</th>\n",
       "      <th>site3</th>\n",
       "      <th>r_site12</th>\n",
       "      <th>p_site12</th>\n",
       "      <th>n_site12</th>\n",
       "      <th>r_partial</th>\n",
       "      <th>p_partial</th>\n",
       "      <th>n_partial</th>\n",
       "      <th>shuffle_iter</th>\n",
       "      <th>q_partial</th>\n",
       "    </tr>\n",
       "  </thead>\n",
       "  <tbody>\n",
       "    <tr>\n",
       "      <th>0</th>\n",
       "      <td>k__Bacteria;p__;c__;o__;f__;g__;s__;d__denovo364</td>\n",
       "      <td>bal</td>\n",
       "      <td>gastric_fluid</td>\n",
       "      <td>throat_swab</td>\n",
       "      <td>0.337461</td>\n",
       "      <td>0.170838</td>\n",
       "      <td>18</td>\n",
       "      <td>0.338192</td>\n",
       "      <td>0.0930</td>\n",
       "      <td>13</td>\n",
       "      <td>0</td>\n",
       "      <td>0.682297</td>\n",
       "    </tr>\n",
       "    <tr>\n",
       "      <th>2</th>\n",
       "      <td>k__Bacteria;p__Actinobacteria;c__Actinobacteri...</td>\n",
       "      <td>gastric_fluid</td>\n",
       "      <td>throat_swab</td>\n",
       "      <td>bal</td>\n",
       "      <td>-0.207389</td>\n",
       "      <td>0.280370</td>\n",
       "      <td>29</td>\n",
       "      <td>-0.207650</td>\n",
       "      <td>0.8665</td>\n",
       "      <td>18</td>\n",
       "      <td>0</td>\n",
       "      <td>0.982952</td>\n",
       "    </tr>\n",
       "    <tr>\n",
       "      <th>3</th>\n",
       "      <td>k__Bacteria;p__Actinobacteria;c__Actinobacteri...</td>\n",
       "      <td>bal</td>\n",
       "      <td>gastric_fluid</td>\n",
       "      <td>throat_swab</td>\n",
       "      <td>0.230943</td>\n",
       "      <td>0.301112</td>\n",
       "      <td>22</td>\n",
       "      <td>0.227302</td>\n",
       "      <td>0.1570</td>\n",
       "      <td>12</td>\n",
       "      <td>0</td>\n",
       "      <td>0.805345</td>\n",
       "    </tr>\n",
       "    <tr>\n",
       "      <th>4</th>\n",
       "      <td>k__Bacteria;p__Actinobacteria;c__Actinobacteri...</td>\n",
       "      <td>bal</td>\n",
       "      <td>throat_swab</td>\n",
       "      <td>gastric_fluid</td>\n",
       "      <td>0.360870</td>\n",
       "      <td>0.083195</td>\n",
       "      <td>24</td>\n",
       "      <td>0.332241</td>\n",
       "      <td>0.0440</td>\n",
       "      <td>20</td>\n",
       "      <td>0</td>\n",
       "      <td>0.495000</td>\n",
       "    </tr>\n",
       "    <tr>\n",
       "      <th>5</th>\n",
       "      <td>k__Bacteria;p__Actinobacteria;c__Actinobacteri...</td>\n",
       "      <td>gastric_fluid</td>\n",
       "      <td>throat_swab</td>\n",
       "      <td>bal</td>\n",
       "      <td>-0.137014</td>\n",
       "      <td>0.222569</td>\n",
       "      <td>81</td>\n",
       "      <td>-0.138964</td>\n",
       "      <td>0.8940</td>\n",
       "      <td>47</td>\n",
       "      <td>0</td>\n",
       "      <td>0.982952</td>\n",
       "    </tr>\n",
       "  </tbody>\n",
       "</table>\n",
       "</div>"
      ],
      "text/plain": [
       "                                                 otu          site1  \\\n",
       "0   k__Bacteria;p__;c__;o__;f__;g__;s__;d__denovo364            bal   \n",
       "2  k__Bacteria;p__Actinobacteria;c__Actinobacteri...  gastric_fluid   \n",
       "3  k__Bacteria;p__Actinobacteria;c__Actinobacteri...            bal   \n",
       "4  k__Bacteria;p__Actinobacteria;c__Actinobacteri...            bal   \n",
       "5  k__Bacteria;p__Actinobacteria;c__Actinobacteri...  gastric_fluid   \n",
       "\n",
       "           site2          site3  r_site12  p_site12  n_site12  r_partial  \\\n",
       "0  gastric_fluid    throat_swab  0.337461  0.170838        18   0.338192   \n",
       "2    throat_swab            bal -0.207389  0.280370        29  -0.207650   \n",
       "3  gastric_fluid    throat_swab  0.230943  0.301112        22   0.227302   \n",
       "4    throat_swab  gastric_fluid  0.360870  0.083195        24   0.332241   \n",
       "5    throat_swab            bal -0.137014  0.222569        81  -0.138964   \n",
       "\n",
       "   p_partial  n_partial  shuffle_iter  q_partial  \n",
       "0     0.0930         13             0   0.682297  \n",
       "2     0.8665         18             0   0.982952  \n",
       "3     0.1570         12             0   0.805345  \n",
       "4     0.0440         20             0   0.495000  \n",
       "5     0.8940         47             0   0.982952  "
      ]
     },
     "execution_count": 4,
     "metadata": {},
     "output_type": "execute_result"
    }
   ],
   "source": [
    "# Need to correct for multiple tests within each iteration only\n",
    "for g, subdf in df.groupby('shuffle_iter'):\n",
    "    _, df.loc[subdf.index, 'q_partial'], _, _ = multipletests(subdf['p_partial'], method='fdr_bh')\n",
    "\n",
    "df.head()"
   ]
  },
  {
   "cell_type": "code",
   "execution_count": 5,
   "metadata": {
    "collapsed": false
   },
   "outputs": [
    {
     "data": {
      "text/plain": [
       "<seaborn.axisgrid.FacetGrid at 0x10f5727d0>"
      ]
     },
     "execution_count": 5,
     "metadata": {},
     "output_type": "execute_result"
    },
    {
     "data": {
      "image/png": "[encoded data removed]",
      "text/plain": [
       "<matplotlib.figure.Figure at 0x10f572950>"
      ]
     },
     "metadata": {},
     "output_type": "display_data"
    }
   ],
   "source": [
    "import seaborn as sns\n",
    "%matplotlib inline\n",
    "\n",
    "g = sns.FacetGrid(data=df, col='shuffle_iter', col_wrap=5)\n",
    "g.map(plt.hist, 'p_partial')"
   ]
  },
  {
   "cell_type": "code",
   "execution_count": 6,
   "metadata": {
    "collapsed": false
   },
   "outputs": [
    {
     "data": {
      "text/plain": [
       "<seaborn.axisgrid.FacetGrid at 0x110db5250>"
      ]
     },
     "execution_count": 6,
     "metadata": {},
     "output_type": "execute_result"
    },
    {
     "data": {
      "image/png": "[encoded data removed]",
      "text/plain": [
       "<matplotlib.figure.Figure at 0x110c55090>"
      ]
     },
     "metadata": {},
     "output_type": "display_data"
    }
   ],
   "source": [
    "g = sns.FacetGrid(data=df, col='shuffle_iter', col_wrap=5)\n",
    "g.map(plt.hist, 'q_partial')"
   ]
  },
  {
   "cell_type": "code",
   "execution_count": 7,
   "metadata": {
    "collapsed": false
   },
   "outputs": [
    {
     "name": "stderr",
     "output_type": "stream",
     "text": [
      "/Users/claire/anaconda/lib/python2.7/site-packages/ipykernel/__main__.py:2: SettingWithCopyWarning: \n",
      "A value is trying to be set on a copy of a slice from a DataFrame.\n",
      "Try using .loc[row_indexer,col_indexer] = value instead\n",
      "\n",
      "See the caveats in the documentation: http://pandas.pydata.org/pandas-docs/stable/indexing.html#indexing-view-versus-copy\n",
      "  from ipykernel import kernelapp as app\n"
     ]
    },
    {
     "data": {
      "text/plain": [
       "shuffle_iter  site_comparison          \n",
       "5             gastric_fluid-throat_swab    1\n",
       "6             bal-gastric_fluid            1\n",
       "              gastric_fluid-throat_swab    1\n",
       "10            bal-gastric_fluid            2\n",
       "              bal-throat_swab              2\n",
       "13            bal-gastric_fluid            1\n",
       "dtype: int64"
      ]
     },
     "execution_count": 7,
     "metadata": {},
     "output_type": "execute_result"
    }
   ],
   "source": [
    "exchanged = df.query('(r_partial > @rthresh) & (q_partial < @qthresh)')\n",
    "exchanged['site_comparison'] = exchanged['site1'] + '-' + exchanged['site2']\n",
    "exchanged.groupby(['shuffle_iter', 'site_comparison']).size()"
   ]
  },
  {
   "cell_type": "code",
   "execution_count": null,
   "metadata": {
    "collapsed": true
   },
   "outputs": [],
   "source": []
  }
 ],
 "metadata": {
  "kernelspec": {
   "display_name": "Python [default]",
   "language": "python",
   "name": "python2"
  },
  "language_info": {
   "codemirror_mode": {
    "name": "ipython",
    "version": 2
   },
   "file_extension": ".py",
   "mimetype": "text/x-python",
   "name": "python",
   "nbconvert_exporter": "python",
   "pygments_lexer": "ipython2",
   "version": "2.7.12"
  }
 },
 "nbformat": 4,
 "nbformat_minor": 2
}
