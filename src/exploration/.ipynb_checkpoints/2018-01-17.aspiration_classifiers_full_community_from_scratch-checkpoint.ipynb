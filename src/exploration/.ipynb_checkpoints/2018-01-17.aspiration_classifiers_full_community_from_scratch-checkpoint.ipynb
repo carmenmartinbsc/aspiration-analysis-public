{
 "cells": [
  {
   "cell_type": "markdown",
   "metadata": {},
   "source": [
    "This notebook builds classifiers to distinguish aspirators from non-aspirators using different microbial communities (including combinations)."
   ]
  },
  {
   "cell_type": "code",
   "execution_count": 56,
   "metadata": {
    "collapsed": true
   },
   "outputs": [],
   "source": [
    "import pandas as pd\n",
    "import numpy as np\n",
    "\n",
    "from sklearn.ensemble import RandomForestClassifier\n",
    "from scipy.stats import fisher_exact\n",
    "\n",
    "from IPython.display import display\n",
    "\n",
    "import matplotlib.pyplot as plt\n",
    "import seaborn as sns\n",
    "%matplotlib inline"
   ]
  },
  {
   "cell_type": "code",
   "execution_count": 57,
   "metadata": {
    "collapsed": false
   },
   "outputs": [],
   "source": [
    "import os, sys\n",
    "src_dir = os.path.normpath(os.path.join(os.getcwd(), '../util'))\n",
    "sys.path.append(src_dir)\n",
    "import util"
   ]
  },
  {
   "cell_type": "code",
   "execution_count": 58,
   "metadata": {
    "collapsed": true
   },
   "outputs": [],
   "source": [
    "fotu = '../../data/clean/rosen.otu_table.rel_abun.clean'\n",
    "fmeta = '../../data/clean/rosen.metadata.clean'\n",
    "\n",
    "df = pd.read_csv(fotu, sep='\\t', index_col=0)\n",
    "meta = pd.read_csv(fmeta, sep='\\t', index_col=0)"
   ]
  },
  {
   "cell_type": "code",
   "execution_count": 59,
   "metadata": {
    "collapsed": false
   },
   "outputs": [
    {
     "data": {
      "text/plain": [
       "1"
      ]
     },
     "execution_count": 59,
     "metadata": {},
     "output_type": "execute_result"
    }
   ],
   "source": [
    "mbs_col = 'mbs_consolidated'\n",
    "\n",
    "# Check that each aspiration patient has only one sample per site\n",
    "meta.dropna(subset=[mbs_col]).groupby(['subject_id', 'site']).size().max()"
   ]
  },
  {
   "cell_type": "code",
   "execution_count": 60,
   "metadata": {
    "collapsed": false
   },
   "outputs": [
    {
     "name": "stdout",
     "output_type": "stream",
     "text": [
      "Tidying data... \n",
      "Finished.\n"
     ]
    },
    {
     "data": {
      "text/html": [
       "<div>\n",
       "<style scoped>\n",
       "    .dataframe tbody tr th:only-of-type {\n",
       "        vertical-align: middle;\n",
       "    }\n",
       "\n",
       "    .dataframe tbody tr th {\n",
       "        vertical-align: top;\n",
       "    }\n",
       "\n",
       "    .dataframe thead th {\n",
       "        text-align: right;\n",
       "    }\n",
       "</style>\n",
       "<table border=\"1\" class=\"dataframe\">\n",
       "  <thead>\n",
       "    <tr style=\"text-align: right;\">\n",
       "      <th></th>\n",
       "      <th>sample</th>\n",
       "      <th>otu</th>\n",
       "      <th>abun</th>\n",
       "      <th>mbs_consolidated</th>\n",
       "      <th>site</th>\n",
       "      <th>subject_id</th>\n",
       "      <th>ppi_consolidated</th>\n",
       "      <th>otu_w_site</th>\n",
       "    </tr>\n",
       "  </thead>\n",
       "  <tbody>\n",
       "    <tr>\n",
       "      <th>35</th>\n",
       "      <td>02-096-6G</td>\n",
       "      <td>k__Bacteria;p__Firmicutes;c__Negativicutes;o__...</td>\n",
       "      <td>0.0</td>\n",
       "      <td>Normal</td>\n",
       "      <td>gastric_fluid</td>\n",
       "      <td>02-096-6</td>\n",
       "      <td>off</td>\n",
       "      <td>k__Bacteria;p__Firmicutes;c__Negativicutes;o__...</td>\n",
       "    </tr>\n",
       "    <tr>\n",
       "      <th>621</th>\n",
       "      <td>02-096-6G</td>\n",
       "      <td>k__Bacteria;p__Firmicutes;c__Clostridia;o__Clo...</td>\n",
       "      <td>0.0</td>\n",
       "      <td>Normal</td>\n",
       "      <td>gastric_fluid</td>\n",
       "      <td>02-096-6</td>\n",
       "      <td>off</td>\n",
       "      <td>k__Bacteria;p__Firmicutes;c__Clostridia;o__Clo...</td>\n",
       "    </tr>\n",
       "    <tr>\n",
       "      <th>1207</th>\n",
       "      <td>02-096-6G</td>\n",
       "      <td>k__Bacteria;p__Firmicutes;c__Clostridia;o__Clo...</td>\n",
       "      <td>0.0</td>\n",
       "      <td>Normal</td>\n",
       "      <td>gastric_fluid</td>\n",
       "      <td>02-096-6</td>\n",
       "      <td>off</td>\n",
       "      <td>k__Bacteria;p__Firmicutes;c__Clostridia;o__Clo...</td>\n",
       "    </tr>\n",
       "    <tr>\n",
       "      <th>1793</th>\n",
       "      <td>02-096-6G</td>\n",
       "      <td>k__Bacteria;p__Actinobacteria;c__Actinobacteri...</td>\n",
       "      <td>0.0</td>\n",
       "      <td>Normal</td>\n",
       "      <td>gastric_fluid</td>\n",
       "      <td>02-096-6</td>\n",
       "      <td>off</td>\n",
       "      <td>k__Bacteria;p__Actinobacteria;c__Actinobacteri...</td>\n",
       "    </tr>\n",
       "    <tr>\n",
       "      <th>2379</th>\n",
       "      <td>02-096-6G</td>\n",
       "      <td>k__Bacteria;p__Firmicutes;c__Clostridia;o__Clo...</td>\n",
       "      <td>0.0</td>\n",
       "      <td>Normal</td>\n",
       "      <td>gastric_fluid</td>\n",
       "      <td>02-096-6</td>\n",
       "      <td>off</td>\n",
       "      <td>k__Bacteria;p__Firmicutes;c__Clostridia;o__Clo...</td>\n",
       "    </tr>\n",
       "  </tbody>\n",
       "</table>\n",
       "</div>"
      ],
      "text/plain": [
       "         sample                                                otu  abun  \\\n",
       "35    02-096-6G  k__Bacteria;p__Firmicutes;c__Negativicutes;o__...   0.0   \n",
       "621   02-096-6G  k__Bacteria;p__Firmicutes;c__Clostridia;o__Clo...   0.0   \n",
       "1207  02-096-6G  k__Bacteria;p__Firmicutes;c__Clostridia;o__Clo...   0.0   \n",
       "1793  02-096-6G  k__Bacteria;p__Actinobacteria;c__Actinobacteri...   0.0   \n",
       "2379  02-096-6G  k__Bacteria;p__Firmicutes;c__Clostridia;o__Clo...   0.0   \n",
       "\n",
       "     mbs_consolidated           site subject_id ppi_consolidated  \\\n",
       "35             Normal  gastric_fluid   02-096-6              off   \n",
       "621            Normal  gastric_fluid   02-096-6              off   \n",
       "1207           Normal  gastric_fluid   02-096-6              off   \n",
       "1793           Normal  gastric_fluid   02-096-6              off   \n",
       "2379           Normal  gastric_fluid   02-096-6              off   \n",
       "\n",
       "                                             otu_w_site  \n",
       "35    k__Bacteria;p__Firmicutes;c__Negativicutes;o__...  \n",
       "621   k__Bacteria;p__Firmicutes;c__Clostridia;o__Clo...  \n",
       "1207  k__Bacteria;p__Firmicutes;c__Clostridia;o__Clo...  \n",
       "1793  k__Bacteria;p__Actinobacteria;c__Actinobacteri...  \n",
       "2379  k__Bacteria;p__Firmicutes;c__Clostridia;o__Clo...  "
      ]
     },
     "execution_count": 60,
     "metadata": {},
     "output_type": "execute_result"
    }
   ],
   "source": [
    "meta = meta.dropna(subset=[mbs_col])\n",
    "tidydf = util.tidyfy_otu(df, meta, mbs_col, cols=['ppi_consolidated'])\n",
    "tidydf['ppi_consolidated'] = tidydf['ppi_consolidated'].fillna('nan')\n",
    "tidydf.head()"
   ]
  },
  {
   "cell_type": "code",
   "execution_count": 61,
   "metadata": {
    "collapsed": false
   },
   "outputs": [
    {
     "data": {
      "text/plain": [
       "['bal', 'gastric_fluid', 'throat_swab']"
      ]
     },
     "execution_count": 61,
     "metadata": {},
     "output_type": "execute_result"
    }
   ],
   "source": [
    "# Define some global variables\n",
    "random_state = 12345\n",
    "nml = 'Normal'\n",
    "asp = 'Aspiration/Penetration'\n",
    "aspdict = {'Normal': 0, 'Aspiration/Penetration': 1}\n",
    "sites = util.get_sites()\n",
    "sites"
   ]
  },
  {
   "cell_type": "markdown",
   "metadata": {},
   "source": [
    "# Single-site classifiers\n",
    "\n",
    "These classifiers are trained using only one community per patient."
   ]
  },
  {
   "cell_type": "code",
   "execution_count": 62,
   "metadata": {
    "collapsed": false
   },
   "outputs": [],
   "source": [
    "def single_site_classifier(s):\n",
    "    \"\"\"\n",
    "    Make classifier based on site s.\n",
    "\n",
    "    Global variables used are: meta, df (OTU table), aspdict, and random_state.\n",
    "    \"\"\"\n",
    "    h_smpls = meta\\\n",
    "        .query('mbs_consolidated == @nml')\\\n",
    "        .query('site == @s')\\\n",
    "        .index.tolist()\n",
    "    asp_smpls = meta\\\n",
    "        .query('mbs_consolidated == @asp')\\\n",
    "        .query('site == @s')\\\n",
    "        .index.tolist()\n",
    "\n",
    "    X = df.loc[h_smpls + asp_smpls, :]\n",
    "    Y = [aspdict[meta.loc[i, 'mbs_consolidated']] for i in X.index]\n",
    "    X = X.values\n",
    "\n",
    "    rf = RandomForestClassifier(n_estimators=1000, random_state=random_state)\n",
    "\n",
    "    results = util.cv_and_roc(rf, X, Y, random_state=random_state)\n",
    "\n",
    "    # Print results\n",
    "    print('N non-asp = {}, N asp = {}'.format(len(h_smpls), len(asp_smpls)))\n",
    "    print('AUC = {}'.format(np.mean(results['auc_list'])))\n",
    "    util.plot_auc_from_list(results['tpr_list'], results['mean_fpr'])\n",
    "    print('Fisher results : {}'.format(fisher_exact(results['conf_mat'])))\n",
    "    display(results['conf_mat'])"
   ]
  },
  {
   "cell_type": "code",
   "execution_count": 63,
   "metadata": {
    "collapsed": false
   },
   "outputs": [
    {
     "name": "stdout",
     "output_type": "stream",
     "text": [
      "N non-asp = 36, N asp = 33\n",
      "AUC = 0.65612244898\n"
     ]
    },
    {
     "ename": "NameError",
     "evalue": "global name 'plot_auc_from_list' is not defined",
     "output_type": "error",
     "traceback": [
      "\u001b[0;31m---------------------------------------------------------------------------\u001b[0m",
      "\u001b[0;31mNameError\u001b[0m                                 Traceback (most recent call last)",
      "\u001b[0;32m<ipython-input-63-3d86e06359b6>\u001b[0m in \u001b[0;36m<module>\u001b[0;34m()\u001b[0m\n\u001b[1;32m      1\u001b[0m \u001b[0ms\u001b[0m \u001b[0;34m=\u001b[0m \u001b[0;34m'bal'\u001b[0m\u001b[0;34m\u001b[0m\u001b[0m\n\u001b[0;32m----> 2\u001b[0;31m \u001b[0msingle_site_classifier\u001b[0m\u001b[0;34m(\u001b[0m\u001b[0ms\u001b[0m\u001b[0;34m)\u001b[0m\u001b[0;34m\u001b[0m\u001b[0m\n\u001b[0m",
      "\u001b[0;32m<ipython-input-62-d073418eef2e>\u001b[0m in \u001b[0;36msingle_site_classifier\u001b[0;34m(s)\u001b[0m\n\u001b[1;32m     19\u001b[0m     \u001b[0;32mprint\u001b[0m\u001b[0;34m(\u001b[0m\u001b[0;34m'N non-asp = {}, N asp = {}'\u001b[0m\u001b[0;34m.\u001b[0m\u001b[0mformat\u001b[0m\u001b[0;34m(\u001b[0m\u001b[0mlen\u001b[0m\u001b[0;34m(\u001b[0m\u001b[0mh_smpls\u001b[0m\u001b[0;34m)\u001b[0m\u001b[0;34m,\u001b[0m \u001b[0mlen\u001b[0m\u001b[0;34m(\u001b[0m\u001b[0masp_smpls\u001b[0m\u001b[0;34m)\u001b[0m\u001b[0;34m)\u001b[0m\u001b[0;34m)\u001b[0m\u001b[0;34m\u001b[0m\u001b[0m\n\u001b[1;32m     20\u001b[0m     \u001b[0;32mprint\u001b[0m\u001b[0;34m(\u001b[0m\u001b[0;34m'AUC = {}'\u001b[0m\u001b[0;34m.\u001b[0m\u001b[0mformat\u001b[0m\u001b[0;34m(\u001b[0m\u001b[0mnp\u001b[0m\u001b[0;34m.\u001b[0m\u001b[0mmean\u001b[0m\u001b[0;34m(\u001b[0m\u001b[0mresults\u001b[0m\u001b[0;34m[\u001b[0m\u001b[0;34m'auc_list'\u001b[0m\u001b[0;34m]\u001b[0m\u001b[0;34m)\u001b[0m\u001b[0;34m)\u001b[0m\u001b[0;34m)\u001b[0m\u001b[0;34m\u001b[0m\u001b[0m\n\u001b[0;32m---> 21\u001b[0;31m     \u001b[0mplot_auc_from_list\u001b[0m\u001b[0;34m(\u001b[0m\u001b[0mresults\u001b[0m\u001b[0;34m[\u001b[0m\u001b[0;34m'tpr_list'\u001b[0m\u001b[0;34m]\u001b[0m\u001b[0;34m,\u001b[0m \u001b[0mresults\u001b[0m\u001b[0;34m[\u001b[0m\u001b[0;34m'mean_fpr'\u001b[0m\u001b[0;34m]\u001b[0m\u001b[0;34m)\u001b[0m\u001b[0;34m\u001b[0m\u001b[0m\n\u001b[0m\u001b[1;32m     22\u001b[0m     \u001b[0;32mprint\u001b[0m\u001b[0;34m(\u001b[0m\u001b[0;34m'Fisher results : {}'\u001b[0m\u001b[0;34m.\u001b[0m\u001b[0mformat\u001b[0m\u001b[0;34m(\u001b[0m\u001b[0mfisher_exact\u001b[0m\u001b[0;34m(\u001b[0m\u001b[0mresults\u001b[0m\u001b[0;34m[\u001b[0m\u001b[0;34m'conf_mat'\u001b[0m\u001b[0;34m]\u001b[0m\u001b[0;34m)\u001b[0m\u001b[0;34m)\u001b[0m\u001b[0;34m)\u001b[0m\u001b[0;34m\u001b[0m\u001b[0m\n\u001b[1;32m     23\u001b[0m     \u001b[0mdisplay\u001b[0m\u001b[0;34m(\u001b[0m\u001b[0mresults\u001b[0m\u001b[0;34m[\u001b[0m\u001b[0;34m'conf_mat'\u001b[0m\u001b[0;34m]\u001b[0m\u001b[0;34m)\u001b[0m\u001b[0;34m\u001b[0m\u001b[0m\n",
      "\u001b[0;31mNameError\u001b[0m: global name 'plot_auc_from_list' is not defined"
     ]
    }
   ],
   "source": [
    "s = 'bal'\n",
    "single_site_classifier(s)"
   ]
  },
  {
   "cell_type": "code",
   "execution_count": null,
   "metadata": {
    "collapsed": false
   },
   "outputs": [],
   "source": [
    "s = 'gastric_fluid'\n",
    "single_site_classifier(s)"
   ]
  },
  {
   "cell_type": "code",
   "execution_count": null,
   "metadata": {
    "collapsed": false
   },
   "outputs": [],
   "source": [
    "s = 'throat_swab'\n",
    "single_site_classifier(s)"
   ]
  },
  {
   "cell_type": "markdown",
   "metadata": {},
   "source": [
    "# Two-site classifiers\n",
    "\n",
    "These classifiers are trained using two sites per patient."
   ]
  },
  {
   "cell_type": "code",
   "execution_count": null,
   "metadata": {
    "collapsed": true
   },
   "outputs": [],
   "source": [
    "def make_combined_site_df(tidydf, sites, mbs_col):\n",
    "    \"\"\"\n",
    "    Return a wide-form dataframe with data from all sites.\n",
    "    \n",
    "    Drops any rows with NaNs (i.e. subjects which are missing\n",
    "    one of the sites). Also drops any subjects without mbs_col\n",
    "    metadata.\n",
    "    \n",
    "    Parameters\n",
    "    ----------\n",
    "    tidydf : pandas DataFrame\n",
    "        'subject_id', 'site', and 'otu_w_site' columns\n",
    "    sites : list\n",
    "        list of sites to keep\n",
    "    \"\"\"\n",
    "        \n",
    "    tmpotu = tidydf.query('site == @sites')\\\n",
    "            .dropna(subset=[mbs_col])\\\n",
    "            .pivot(index='subject_id', columns='otu_w_site',\n",
    "                   values='abun')\\\n",
    "            .dropna(axis=0)\n",
    "\n",
    "    return tmpotu\n",
    "\n",
    "def multi_site_classifier(tidydf, sites):\n",
    "    \"\"\"\n",
    "    Make a multi-site classifiers.\n",
    "    \n",
    "    First makes a datafarme with has subject IDs in rows\n",
    "    and OTUs in columns. OTUs are labeled by which site\n",
    "    they were in (e.g. k__Bacteria;...;d__denovo123-bal and \n",
    "    k__Bacteria;...;d__denovo123-gastric_fluid are separate columns).\n",
    "    \n",
    "    tidydf has columns 'subject_id' and 'mbs_consolidated'\n",
    "    \n",
    "    sites is a list of sites to consider\n",
    "    \n",
    "    Global variables used: meta (with column 'subject_id'), aspdict, random_state, mbs_col\n",
    "    \"\"\"\n",
    "    \n",
    "    df = make_combined_site_df(tidydf, sites, mbs_col)\n",
    "    \n",
    "    subjects = df.index.tolist()\n",
    "    \n",
    "    # Using pandas.query matches order given in subjects, which matches\n",
    "    # order in df (which becomes X)\n",
    "    mbs_info = tidydf\\\n",
    "        .query('subject_id == @subjects')\\\n",
    "        [['subject_id', 'mbs_consolidated']]\\\n",
    "        .drop_duplicates()\n",
    "        \n",
    "    Y = [aspdict[i] for i in mbs_info['mbs_consolidated']]\n",
    "    X = df.values\n",
    "    \n",
    "    \n",
    "    rf = RandomForestClassifier(n_estimators=1000, random_state=random_state)\n",
    "\n",
    "    results = util.cv_and_roc(rf, X, Y, random_state=random_state)\n",
    "\n",
    "    # Print results\n",
    "    print(mbs_info.groupby('mbs_consolidated').size())\n",
    "    print('AUC = {}'.format(np.mean(results['auc_list'])))\n",
    "    util.plot_auc_from_list(results['tpr_list'], results['mean_fpr'])\n",
    "    print('Fisher results : {}'.format(fisher_exact(results['conf_mat'])))\n",
    "    display(results['conf_mat'])"
   ]
  },
  {
   "cell_type": "code",
   "execution_count": null,
   "metadata": {
    "collapsed": false
   },
   "outputs": [],
   "source": [
    "twosites = ['bal', 'throat_swab']\n",
    "print(', '.join(twosites))\n",
    "multi_site_classifier(tidydf, twosites)"
   ]
  },
  {
   "cell_type": "code",
   "execution_count": null,
   "metadata": {
    "collapsed": false
   },
   "outputs": [],
   "source": [
    "twosites = ['bal', 'gastric_fluid']\n",
    "print(', '.join(twosites))\n",
    "multi_site_classifier(tidydf, twosites)"
   ]
  },
  {
   "cell_type": "code",
   "execution_count": null,
   "metadata": {
    "collapsed": false
   },
   "outputs": [],
   "source": [
    "twosites = ['throat_swab', 'gastric_fluid']\n",
    "print(', '.join(twosites))\n",
    "multi_site_classifier(tidydf, twosites)"
   ]
  },
  {
   "cell_type": "markdown",
   "metadata": {},
   "source": [
    "# All three sites"
   ]
  },
  {
   "cell_type": "code",
   "execution_count": null,
   "metadata": {
    "collapsed": false
   },
   "outputs": [],
   "source": [
    "print(', '.join(sites))\n",
    "multi_site_classifier(tidydf, sites)"
   ]
  },
  {
   "cell_type": "markdown",
   "metadata": {
    "collapsed": true
   },
   "source": [
    "# Check PPI confounding\n",
    "\n",
    "For patients used in each classifier, show the confusion matrix of on/off PPI and yes/no aspiration."
   ]
  },
  {
   "cell_type": "markdown",
   "metadata": {},
   "source": [
    "## Single-site classifiers"
   ]
  },
  {
   "cell_type": "code",
   "execution_count": null,
   "metadata": {
    "collapsed": true
   },
   "outputs": [],
   "source": [
    "from IPython.display import display\n",
    "from scipy.stats import fisher_exact\n",
    "\n",
    "def get_single_site_samples(s):\n",
    "    h_smpls = meta\\\n",
    "        .query('mbs_consolidated == @nml')\\\n",
    "        .query('site == @s')\\\n",
    "        .index.tolist()\n",
    "    asp_smpls = meta\\\n",
    "        .query('mbs_consolidated == @asp')\\\n",
    "        .query('site == @s')\\\n",
    "        .index.tolist()\n",
    "    return h_smpls + asp_smpls\n",
    "\n",
    "nml = 'Normal'\n",
    "asp = 'Aspiration/Penetration'"
   ]
  },
  {
   "cell_type": "code",
   "execution_count": null,
   "metadata": {
    "collapsed": false
   },
   "outputs": [],
   "source": [
    "def investigate_single_site(s):\n",
    "    smpls = get_single_site_samples(s)\n",
    "    print(s)\n",
    "    confmat = pd.crosstab(\n",
    "        meta.loc[smpls, 'mbs_consolidated'], \n",
    "        meta.loc[smpls, 'ppi_consolidated'])\n",
    "    display(confmat)\n",
    "\n",
    "    print(fisher_exact(confmat.drop('conflicting', axis=1)))"
   ]
  },
  {
   "cell_type": "code",
   "execution_count": null,
   "metadata": {
    "collapsed": false
   },
   "outputs": [],
   "source": [
    "investigate_single_site('bal')"
   ]
  },
  {
   "cell_type": "code",
   "execution_count": null,
   "metadata": {
    "collapsed": false
   },
   "outputs": [],
   "source": [
    "investigate_single_site('gastric_fluid')"
   ]
  },
  {
   "cell_type": "code",
   "execution_count": null,
   "metadata": {
    "collapsed": false
   },
   "outputs": [],
   "source": [
    "investigate_single_site('throat_swab')"
   ]
  },
  {
   "cell_type": "markdown",
   "metadata": {},
   "source": [
    "## Two sites"
   ]
  },
  {
   "cell_type": "code",
   "execution_count": null,
   "metadata": {
    "collapsed": true
   },
   "outputs": [],
   "source": [
    "mbs_col = 'mbs_consolidated'\n",
    "\n",
    "def get_multi_site_subjects(sites):\n",
    "    df = make_combined_site_df(tidydf, sites, mbs_col)    \n",
    "    subjects = df.index.tolist()\n",
    "    \n",
    "    return subjects\n",
    "\n",
    "def investigate_multi_site_subjects(sites):\n",
    "    print(sites)\n",
    "    \n",
    "    subjects = get_multi_site_subjects(sites)\n",
    "    \n",
    "    meta_info = tidydf\\\n",
    "        .query('subject_id == @subjects')\\\n",
    "        [['subject_id', 'mbs_consolidated', 'ppi_consolidated']]\\\n",
    "        .drop_duplicates()\n",
    "    \n",
    "    confmat = pd.crosstab(\n",
    "        meta_info['mbs_consolidated'], \n",
    "        meta_info['ppi_consolidated'])\n",
    "    \n",
    "    display(confmat)\n",
    "    \n",
    "    print(fisher_exact(confmat.drop('conflicting', axis=1)))"
   ]
  },
  {
   "cell_type": "code",
   "execution_count": null,
   "metadata": {
    "collapsed": false
   },
   "outputs": [],
   "source": [
    "twosites = ['bal', 'throat_swab']\n",
    "investigate_multi_site_subjects(twosites)"
   ]
  },
  {
   "cell_type": "code",
   "execution_count": null,
   "metadata": {
    "collapsed": false
   },
   "outputs": [],
   "source": [
    "twosites = ['bal', 'gastric_fluid']\n",
    "investigate_multi_site_subjects(twosites)"
   ]
  },
  {
   "cell_type": "code",
   "execution_count": null,
   "metadata": {
    "collapsed": false
   },
   "outputs": [],
   "source": [
    "twosites = ['throat_swab', 'gastric_fluid']\n",
    "investigate_multi_site_subjects(twosites)"
   ]
  },
  {
   "cell_type": "code",
   "execution_count": null,
   "metadata": {
    "collapsed": false
   },
   "outputs": [],
   "source": [
    "allsites = ['bal', 'throat_swab', 'gastric_fluid']\n",
    "investigate_multi_site_subjects(allsites)"
   ]
  },
  {
   "cell_type": "code",
   "execution_count": null,
   "metadata": {
    "collapsed": true
   },
   "outputs": [],
   "source": []
  }
 ],
 "metadata": {
  "anaconda-cloud": {},
  "kernelspec": {
   "display_name": "Python [default]",
   "language": "python",
   "name": "python2"
  },
  "language_info": {
   "codemirror_mode": {
    "name": "ipython",
    "version": 2
   },
   "file_extension": ".py",
   "mimetype": "text/x-python",
   "name": "python",
   "nbconvert_exporter": "python",
   "pygments_lexer": "ipython2",
   "version": "2.7.12"
  }
 },
 "nbformat": 4,
 "nbformat_minor": 2
}
