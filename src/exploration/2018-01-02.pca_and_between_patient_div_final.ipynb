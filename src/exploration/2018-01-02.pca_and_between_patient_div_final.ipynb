{
 "cells": [
  {
   "cell_type": "markdown",
   "metadata": {},
   "source": [
    "This notebook is to make the final version of Figure 2, which has the MDS plot and the between patient same-site beta diversities."
   ]
  },
  {
   "cell_type": "code",
   "execution_count": 1,
   "metadata": {
    "collapsed": true
   },
   "outputs": [],
   "source": [
    "import pandas as pd\n",
    "import matplotlib.pyplot as plt\n",
    "import seaborn as sns\n",
    "import numpy as np\n",
    "%matplotlib inline\n",
    "\n",
    "from sklearn.decomposition import PCA\n",
    "from sklearn.manifold import MDS\n",
    "\n",
    "# to pretty print dataframes\n",
    "from IPython.display import display"
   ]
  },
  {
   "cell_type": "code",
   "execution_count": 2,
   "metadata": {
    "collapsed": true
   },
   "outputs": [],
   "source": [
    "# Raw data\n",
    "fnotu = '/Users/claire/github/aspiration-analysis/data/clean/rosen.otu_table.rel_abun.clean'\n",
    "fnmeta = '/Users/claire/github/aspiration-analysis/data/clean/rosen.metadata.clean'\n",
    "\n",
    "df = pd.read_csv(fnotu, sep='\\t', index_col=0)\n",
    "meta = pd.read_csv(fnmeta, sep='\\t', index_col=0)\n",
    "\n",
    "# JSD\n",
    "fnjsd = '/Users/claire/github/aspiration-analysis/data/analysis/jsd.wide.txt'\n",
    "jsd = pd.read_csv(fnjsd, sep='\\t', index_col=0)\n",
    "\n",
    "# Seed random state\n",
    "random_state = 212345"
   ]
  },
  {
   "cell_type": "code",
   "execution_count": 3,
   "metadata": {
    "collapsed": false
   },
   "outputs": [],
   "source": [
    "#sns.palplot(sns.color_palette(\"Set1\"))"
   ]
  },
  {
   "cell_type": "code",
   "execution_count": 4,
   "metadata": {
    "collapsed": true
   },
   "outputs": [],
   "source": [
    "# Prepare colors\n",
    "pal = sns.color_palette(\"Set1\")\n",
    "\n",
    "sites = ['bal', 'throat_swab', 'gastric_fluid', 'stool']\n",
    "colors = [pal[1], pal[2], pal[0], pal[4]]\n",
    "colordict = {i: k for i, k in zip(sites, colors)}\n"
   ]
  },
  {
   "cell_type": "markdown",
   "metadata": {},
   "source": [
    "## PCoA for 2014 and 2016 batches"
   ]
  },
  {
   "cell_type": "code",
   "execution_count": 5,
   "metadata": {
    "collapsed": false
   },
   "outputs": [],
   "source": [
    "# Get samples from the 4 sites of interest and in 2016 batch\n",
    "keep_batch = meta\\\n",
    "    .query('site == @sites')\\\n",
    "    .query('batch == 2016')\\\n",
    "    .index\n",
    "\n",
    "# Get rid of any \"F\" samples (these are second time points samples)\n",
    "# There is also one patient with duplicate throat and stool samples taht end in 'sick'\n",
    "keep_batch = [i for i in keep_batch \n",
    "              if not i.endswith('F') \n",
    "              and not i.endswith('sick') \n",
    "              and not i.endswith('F2') \n",
    "              and not i.endswith('F2T')\n",
    "              and not i.startswith('05')]"
   ]
  },
  {
   "cell_type": "code",
   "execution_count": 6,
   "metadata": {
    "collapsed": false
   },
   "outputs": [
    {
     "data": {
      "text/plain": [
       "Series([], dtype: int64)"
      ]
     },
     "execution_count": 6,
     "metadata": {},
     "output_type": "execute_result"
    }
   ],
   "source": [
    "# Make sure all patients only have one sample per site represented here\n",
    "tmp = meta.loc[keep_batch].groupby(['subject_id', 'site']).size()\n",
    "tmp[tmp > 1]"
   ]
  },
  {
   "cell_type": "code",
   "execution_count": 7,
   "metadata": {
    "collapsed": false
   },
   "outputs": [
    {
     "name": "stdout",
     "output_type": "stream",
     "text": [
      "('bal', 21)\n",
      "('throat_swab', 52)\n",
      "('gastric_fluid', 43)\n",
      "('stool', 14)\n"
     ]
    },
    {
     "data": {
      "image/png": "[encoded data removed]",
      "text/plain": [
       "<matplotlib.figure.Figure at 0x10f8a6e50>"
      ]
     },
     "metadata": {},
     "output_type": "display_data"
    }
   ],
   "source": [
    "# Prepare for plotting\n",
    "sns.set_style('white')\n",
    "labels = {'gastric_fluid': 'Gastric fluid',\n",
    "          'throat_swab': 'Oropharyngeal swab',\n",
    "          'bal': 'Lung (BAL)',\n",
    "          'stool': 'Stool'}\n",
    "\n",
    "## Do PCA\n",
    "pca2016 = PCA(random_state=random_state)\\\n",
    "    .fit(jsd.loc[keep_batch, keep_batch].values)\n",
    "\n",
    "Y2016 = pca2016.transform(jsd.loc[keep_batch, keep_batch].values)\n",
    "\n",
    "# Put PC's in a df and add metadata\n",
    "df2016 = pd.DataFrame(Y2016, index=keep_batch, columns=range(0, Y2016.shape[1]))\n",
    "df2016 = df2016.join(meta[['site', 'batch']])\n",
    "\n",
    "## Plot\n",
    "\n",
    "# Set up figure\n",
    "fig, ax = plt.subplots(figsize=(4.5,4))\n",
    "\n",
    "# Plot each site\n",
    "for site in sites:\n",
    "    subdf = df2016.query('site == @site')\n",
    "    print(site, subdf.shape[0])\n",
    "    ax.scatter(subdf.iloc[:, 0], subdf.iloc[:, 1], \n",
    "                c=colordict[site], \n",
    "                label=labels[site],\n",
    "                s=30)\n",
    "## Figure annotations/labels\n",
    "# Legend\n",
    "lgd = ax.legend(loc='center left', bbox_to_anchor=(1, 0.5),\n",
    "                fontsize='large')\n",
    "\n",
    "# X and Y labels\n",
    "ax.set_xlabel(\n",
    "    'PC 1 ({:.0f} %)'.format(pca2016.explained_variance_ratio_[0]*100),\n",
    "    fontsize='x-large')\n",
    "ax.set_ylabel(\n",
    "    'PC 2 ({:.0f} %)'.format(pca2016.explained_variance_ratio_[1]*100),\n",
    "    fontsize='x-large')\n",
    "\n",
    "# Get rid of x and y ticks (I think this is ok, right?)\n",
    "ax.set_xticks([])\n",
    "ax.set_yticks([])\n",
    "\n",
    "#plt.title('PCoA', fontsize='x-large')\n",
    "txt = ax.text(-0.11, 1.025, 'B', transform=ax.transAxes, fontsize=24)\n",
    "\n",
    "fig.savefig('../../final/figures/figure2.pcoa.png', \n",
    "            bbox_extra_artists=(lgd, txt), bbox_inches='tight')"
   ]
  },
  {
   "cell_type": "code",
   "execution_count": 8,
   "metadata": {
    "collapsed": false
   },
   "outputs": [
    {
     "name": "stdout",
     "output_type": "stream",
     "text": [
      "('bal', 81)\n",
      "('throat_swab', 124)\n",
      "('gastric_fluid', 104)\n",
      "('stool', 11)\n"
     ]
    },
    {
     "data": {
      "image/png": "[encoded data removed]",
      "text/plain": [
       "<matplotlib.figure.Figure at 0x11065a250>"
      ]
     },
     "metadata": {},
     "output_type": "display_data"
    }
   ],
   "source": [
    "#from sklearn.manifold import MDS\n",
    "\n",
    "## PCA on the 2014 samples\n",
    "# Get samples from the 4 sites of interest and in 2016 batch\n",
    "keep_batch = meta\\\n",
    "    .query('site == @sites')\\\n",
    "    .query('batch == 2014')\\\n",
    "    .index\n",
    "\n",
    "# Get rid of any \"F\" samples (these are second time points samples)\n",
    "# There is also one patient with duplicate throat and stool samples taht end in 'sick'\n",
    "keep_batch = [i for i in keep_batch \n",
    "              if not i.endswith('F') \n",
    "              and not i.endswith('sick') \n",
    "              and not i.endswith('F2') \n",
    "              and not i.endswith('F2T')\n",
    "              and not i.startswith('05')]\n",
    "\n",
    "## Do PCA\n",
    "pca2014 = PCA(random_state=random_state)\\\n",
    "    .fit(jsd.loc[keep_batch, keep_batch].values)\n",
    "\n",
    "Y2014 = pca2014.transform(jsd.loc[keep_batch, keep_batch].values)\n",
    "#Y2014 = MDS().fit_transform(jsd.loc[keep_batch, keep_batch].values)\n",
    "\n",
    "# Put PC's in a df and add metadata\n",
    "df2014 = pd.DataFrame(Y2014, index=keep_batch, columns=range(0, Y2014.shape[1]))\n",
    "df2014 = df2014.join(meta[['site', 'batch']])\n",
    "\n",
    "## Plot\n",
    "\n",
    "# Set up figure\n",
    "fig, ax = plt.subplots(figsize=(4.5,4))\n",
    "\n",
    "# Plot each site\n",
    "for site in sites:\n",
    "    subdf = df2014.query('site == @site')\n",
    "    print(site, subdf.shape[0])\n",
    "    ax.scatter(subdf.iloc[:, 0], subdf.iloc[:, 1], \n",
    "                c=colordict[site], \n",
    "                label=labels[site],\n",
    "                s=30)\n",
    "## Figure annotations/labels\n",
    "# Legend\n",
    "lgd = ax.legend(loc='center left', bbox_to_anchor=(1, 0.5),\n",
    "                fontsize='large')\n",
    "\n",
    "# X and Y labels\n",
    "ax.set_xlabel(\n",
    "    'PC 1 ({:.0f} %)'.format(pca2014.explained_variance_ratio_[0]*100),\n",
    "    fontsize='x-large')\n",
    "ax.set_ylabel(\n",
    "    'PC 2 ({:.0f} %)'.format(pca2014.explained_variance_ratio_[1]*100),\n",
    "    fontsize='x-large')\n",
    "\n",
    "# Get rid of x and y ticks (I think this is ok, right?)\n",
    "ax.set_xticks([])\n",
    "ax.set_yticks([])\n",
    "\n",
    "#plt.title('PCoA', fontsize='x-large')\n",
    "#txt = ax.text(-0.11, 1.025, 'B', transform=ax.transAxes, fontsize=24)\n",
    "\n",
    "fig.savefig('../../final/figures/figure.pcoa_2014_batch.png', \n",
    "            bbox_extra_artists=(lgd, txt), bbox_inches='tight')"
   ]
  },
  {
   "cell_type": "markdown",
   "metadata": {},
   "source": [
    "### Patients in this figure"
   ]
  },
  {
   "cell_type": "code",
   "execution_count": 9,
   "metadata": {
    "collapsed": false
   },
   "outputs": [
    {
     "data": {
      "text/plain": [
       "site           mbs_consolidated      \n",
       "bal            Aspiration/Penetration    33\n",
       "               Normal                    33\n",
       "               nan                       36\n",
       "gastric_fluid  Aspiration/Penetration    41\n",
       "               Normal                    48\n",
       "               nan                       58\n",
       "stool          nan                       25\n",
       "throat_swab    Aspiration/Penetration    36\n",
       "               Normal                    43\n",
       "               nan                       97\n",
       "dtype: int64"
      ]
     },
     "execution_count": 9,
     "metadata": {},
     "output_type": "execute_result"
    }
   ],
   "source": [
    "samples = df2014.index.tolist() + df2016.index.tolist()\n",
    "meta\\\n",
    "    .loc[samples, ['subject_id', 'mbs_consolidated', 'site']]\\\n",
    "    .drop_duplicates()\\\n",
    "    .fillna('nan')\\\n",
    "    .groupby(['site', 'mbs_consolidated'])\\\n",
    "    .size()"
   ]
  },
  {
   "cell_type": "code",
   "execution_count": 10,
   "metadata": {
    "collapsed": false
   },
   "outputs": [
    {
     "data": {
      "text/plain": [
       "site\n",
       "bal              102\n",
       "gastric_fluid    147\n",
       "stool             25\n",
       "throat_swab      176\n",
       "dtype: int64"
      ]
     },
     "execution_count": 10,
     "metadata": {},
     "output_type": "execute_result"
    }
   ],
   "source": [
    "meta\\\n",
    "    .loc[samples, ['subject_id', 'mbs_consolidated', 'site']]\\\n",
    "    .drop_duplicates()\\\n",
    "    .fillna('nan')\\\n",
    "    .groupby(['site'])\\\n",
    "    .size()"
   ]
  },
  {
   "cell_type": "markdown",
   "metadata": {},
   "source": [
    "### Write patients to file"
   ]
  },
  {
   "cell_type": "code",
   "execution_count": 11,
   "metadata": {
    "collapsed": true
   },
   "outputs": [],
   "source": [
    "with open('../../final/patients/figure2.pcoa.samples.txt', 'w') as f:\n",
    "    f.write('\\n'.join(samples))"
   ]
  },
  {
   "cell_type": "markdown",
   "metadata": {},
   "source": [
    "## Across-patient beta diversity"
   ]
  },
  {
   "cell_type": "code",
   "execution_count": 12,
   "metadata": {
    "collapsed": true
   },
   "outputs": [],
   "source": [
    "# For these plots, I'll need to select just the within-sequencing batch comparisons\n",
    "# in addition to making sure there are no duplicate samples from the same patient"
   ]
  },
  {
   "cell_type": "code",
   "execution_count": 13,
   "metadata": {
    "collapsed": false
   },
   "outputs": [
    {
     "name": "stderr",
     "output_type": "stream",
     "text": [
      "/Users/claire/anaconda/lib/python2.7/site-packages/IPython/core/interactiveshell.py:2718: DtypeWarning: Columns (16,17) have mixed types. Specify dtype option on import or set low_memory=False.\n",
      "  interactivity=interactivity, compiler=compiler, result=result)\n"
     ]
    },
    {
     "data": {
      "text/html": [
       "<div>\n",
       "<style scoped>\n",
       "    .dataframe tbody tr th:only-of-type {\n",
       "        vertical-align: middle;\n",
       "    }\n",
       "\n",
       "    .dataframe tbody tr th {\n",
       "        vertical-align: top;\n",
       "    }\n",
       "\n",
       "    .dataframe thead th {\n",
       "        text-align: right;\n",
       "    }\n",
       "</style>\n",
       "<table border=\"1\" class=\"dataframe\">\n",
       "  <thead>\n",
       "    <tr style=\"text-align: right;\">\n",
       "      <th></th>\n",
       "      <th>sample1</th>\n",
       "      <th>sample2</th>\n",
       "      <th>beta</th>\n",
       "      <th>site1</th>\n",
       "      <th>site2</th>\n",
       "      <th>site_comparison</th>\n",
       "      <th>patient_comp</th>\n",
       "      <th>subject</th>\n",
       "      <th>batch1</th>\n",
       "      <th>batch2</th>\n",
       "      <th>...</th>\n",
       "      <th>percent distal acid</th>\n",
       "      <th>percent proximal acid</th>\n",
       "      <th>percent proximal nonacid</th>\n",
       "      <th>percent distal total</th>\n",
       "      <th>number of full colum events/total events</th>\n",
       "      <th>Number of full column episodes</th>\n",
       "      <th>Was Bile CA detected?</th>\n",
       "      <th>Was Bile DCA detected?</th>\n",
       "      <th>Was Bile LCA detected?</th>\n",
       "      <th>Was Bile TCA detected?</th>\n",
       "    </tr>\n",
       "  </thead>\n",
       "  <tbody>\n",
       "    <tr>\n",
       "      <th>0</th>\n",
       "      <td>01-112-7GI</td>\n",
       "      <td>01-112-7RI</td>\n",
       "      <td>0.400324</td>\n",
       "      <td>gastric_fluid</td>\n",
       "      <td>rectal_swab</td>\n",
       "      <td>gastric_fluid-rectal_swab</td>\n",
       "      <td>within</td>\n",
       "      <td>01-112-7</td>\n",
       "      <td>2016</td>\n",
       "      <td>2016</td>\n",
       "      <td>...</td>\n",
       "      <td>NaN</td>\n",
       "      <td>NaN</td>\n",
       "      <td>NaN</td>\n",
       "      <td>NaN</td>\n",
       "      <td>NaN</td>\n",
       "      <td>NaN</td>\n",
       "      <td>NaN</td>\n",
       "      <td>NaN</td>\n",
       "      <td>NaN</td>\n",
       "      <td>NaN</td>\n",
       "    </tr>\n",
       "    <tr>\n",
       "      <th>1</th>\n",
       "      <td>01-112-7GI</td>\n",
       "      <td>01-112-7TI</td>\n",
       "      <td>0.993353</td>\n",
       "      <td>gastric_fluid</td>\n",
       "      <td>throat_swab</td>\n",
       "      <td>gastric_fluid-throat_swab</td>\n",
       "      <td>within</td>\n",
       "      <td>01-112-7</td>\n",
       "      <td>2016</td>\n",
       "      <td>2016</td>\n",
       "      <td>...</td>\n",
       "      <td>NaN</td>\n",
       "      <td>NaN</td>\n",
       "      <td>NaN</td>\n",
       "      <td>NaN</td>\n",
       "      <td>NaN</td>\n",
       "      <td>NaN</td>\n",
       "      <td>NaN</td>\n",
       "      <td>NaN</td>\n",
       "      <td>NaN</td>\n",
       "      <td>NaN</td>\n",
       "    </tr>\n",
       "    <tr>\n",
       "      <th>2</th>\n",
       "      <td>01-112-7GI</td>\n",
       "      <td>01-164-7GI</td>\n",
       "      <td>0.994055</td>\n",
       "      <td>gastric_fluid</td>\n",
       "      <td>gastric_fluid</td>\n",
       "      <td>gastric_fluid-gastric_fluid</td>\n",
       "      <td>between</td>\n",
       "      <td>NaN</td>\n",
       "      <td>2016</td>\n",
       "      <td>2016</td>\n",
       "      <td>...</td>\n",
       "      <td>NaN</td>\n",
       "      <td>NaN</td>\n",
       "      <td>NaN</td>\n",
       "      <td>NaN</td>\n",
       "      <td>NaN</td>\n",
       "      <td>NaN</td>\n",
       "      <td>NaN</td>\n",
       "      <td>NaN</td>\n",
       "      <td>NaN</td>\n",
       "      <td>NaN</td>\n",
       "    </tr>\n",
       "    <tr>\n",
       "      <th>3</th>\n",
       "      <td>01-112-7GI</td>\n",
       "      <td>01-164-7RI</td>\n",
       "      <td>0.575080</td>\n",
       "      <td>gastric_fluid</td>\n",
       "      <td>rectal_swab</td>\n",
       "      <td>gastric_fluid-rectal_swab</td>\n",
       "      <td>between</td>\n",
       "      <td>NaN</td>\n",
       "      <td>2016</td>\n",
       "      <td>2016</td>\n",
       "      <td>...</td>\n",
       "      <td>NaN</td>\n",
       "      <td>NaN</td>\n",
       "      <td>NaN</td>\n",
       "      <td>NaN</td>\n",
       "      <td>NaN</td>\n",
       "      <td>NaN</td>\n",
       "      <td>NaN</td>\n",
       "      <td>NaN</td>\n",
       "      <td>NaN</td>\n",
       "      <td>NaN</td>\n",
       "    </tr>\n",
       "    <tr>\n",
       "      <th>4</th>\n",
       "      <td>01-112-7GI</td>\n",
       "      <td>01-164-7TI</td>\n",
       "      <td>0.995439</td>\n",
       "      <td>gastric_fluid</td>\n",
       "      <td>throat_swab</td>\n",
       "      <td>gastric_fluid-throat_swab</td>\n",
       "      <td>between</td>\n",
       "      <td>NaN</td>\n",
       "      <td>2016</td>\n",
       "      <td>2016</td>\n",
       "      <td>...</td>\n",
       "      <td>NaN</td>\n",
       "      <td>NaN</td>\n",
       "      <td>NaN</td>\n",
       "      <td>NaN</td>\n",
       "      <td>NaN</td>\n",
       "      <td>NaN</td>\n",
       "      <td>NaN</td>\n",
       "      <td>NaN</td>\n",
       "      <td>NaN</td>\n",
       "      <td>NaN</td>\n",
       "    </tr>\n",
       "  </tbody>\n",
       "</table>\n",
       "<p>5 rows × 39 columns</p>\n",
       "</div>"
      ],
      "text/plain": [
       "      sample1     sample2      beta          site1          site2  \\\n",
       "0  01-112-7GI  01-112-7RI  0.400324  gastric_fluid    rectal_swab   \n",
       "1  01-112-7GI  01-112-7TI  0.993353  gastric_fluid    throat_swab   \n",
       "2  01-112-7GI  01-164-7GI  0.994055  gastric_fluid  gastric_fluid   \n",
       "3  01-112-7GI  01-164-7RI  0.575080  gastric_fluid    rectal_swab   \n",
       "4  01-112-7GI  01-164-7TI  0.995439  gastric_fluid    throat_swab   \n",
       "\n",
       "               site_comparison patient_comp   subject  batch1  batch2  \\\n",
       "0    gastric_fluid-rectal_swab       within  01-112-7    2016    2016   \n",
       "1    gastric_fluid-throat_swab       within  01-112-7    2016    2016   \n",
       "2  gastric_fluid-gastric_fluid      between       NaN    2016    2016   \n",
       "3    gastric_fluid-rectal_swab      between       NaN    2016    2016   \n",
       "4    gastric_fluid-throat_swab      between       NaN    2016    2016   \n",
       "\n",
       "            ...           percent distal acid percent proximal acid  \\\n",
       "0           ...                           NaN                   NaN   \n",
       "1           ...                           NaN                   NaN   \n",
       "2           ...                           NaN                   NaN   \n",
       "3           ...                           NaN                   NaN   \n",
       "4           ...                           NaN                   NaN   \n",
       "\n",
       "  percent proximal nonacid percent distal total  \\\n",
       "0                      NaN                  NaN   \n",
       "1                      NaN                  NaN   \n",
       "2                      NaN                  NaN   \n",
       "3                      NaN                  NaN   \n",
       "4                      NaN                  NaN   \n",
       "\n",
       "   number of full colum events/total events  Number of full column episodes  \\\n",
       "0                                       NaN                             NaN   \n",
       "1                                       NaN                             NaN   \n",
       "2                                       NaN                             NaN   \n",
       "3                                       NaN                             NaN   \n",
       "4                                       NaN                             NaN   \n",
       "\n",
       "  Was Bile CA detected? Was Bile DCA detected? Was Bile LCA detected?  \\\n",
       "0                   NaN                    NaN                    NaN   \n",
       "1                   NaN                    NaN                    NaN   \n",
       "2                   NaN                    NaN                    NaN   \n",
       "3                   NaN                    NaN                    NaN   \n",
       "4                   NaN                    NaN                    NaN   \n",
       "\n",
       "   Was Bile TCA detected?  \n",
       "0                     NaN  \n",
       "1                     NaN  \n",
       "2                     NaN  \n",
       "3                     NaN  \n",
       "4                     NaN  \n",
       "\n",
       "[5 rows x 39 columns]"
      ]
     },
     "execution_count": 13,
     "metadata": {},
     "output_type": "execute_result"
    }
   ],
   "source": [
    "fnjsdlong = '../../data/analysis/jsd.txt'\n",
    "jsdlong = pd.read_csv(fnjsdlong, sep='\\t')\n",
    "jsdlong.head()"
   ]
  },
  {
   "cell_type": "code",
   "execution_count": 14,
   "metadata": {
    "collapsed": false
   },
   "outputs": [
    {
     "name": "stdout",
     "output_type": "stream",
     "text": [
      "106030\n",
      "106030\n",
      "106030\n",
      "106030\n",
      "106030\n",
      "106030\n"
     ]
    }
   ],
   "source": [
    "# Remove \"final\" throat and stool samples\n",
    "print(jsdlong.shape[0])\n",
    "jsdlong = jsdlong[~jsdlong['sample1'].str.endswith('F')]\n",
    "print(jsdlong.shape[0])\n",
    "jsdlong = jsdlong[~jsdlong['sample2'].str.endswith('F')]\n",
    "print(jsdlong.shape[0])\n",
    "jsdlong = jsdlong[~jsdlong['sample1'].str.endswith('sick')]\n",
    "print(jsdlong.shape[0])\n",
    "jsdlong = jsdlong[~jsdlong['sample2'].str.endswith('sick')]\n",
    "print(jsdlong.shape[0])\n",
    "jsdlong = jsdlong[~jsdlong['sample1'].str.endswith('F2')]\n",
    "jsdlong = jsdlong[~jsdlong['sample2'].str.endswith('F2')]\n",
    "jsdlong = jsdlong[~jsdlong['sample1'].str.endswith('F2T')]\n",
    "jsdlong = jsdlong[~jsdlong['sample2'].str.endswith('F2T')]\n",
    "# Remove lung transplant samples\n",
    "jsdlong = jsdlong[~jsdlong['sample1'].str.startswith('05')]\n",
    "jsdlong = jsdlong[~jsdlong['sample2'].str.startswith('05')]\n",
    "print(jsdlong.shape[0])"
   ]
  },
  {
   "cell_type": "code",
   "execution_count": 15,
   "metadata": {
    "collapsed": false
   },
   "outputs": [
    {
     "data": {
      "text/plain": [
       "site_comparison              batch1  batch2\n",
       "bal-bal                      2014    2014      3240\n",
       "                                     2016      1364\n",
       "                             2016    2014       337\n",
       "                                     2016       210\n",
       "gastric_fluid-gastric_fluid  2014    2014      5356\n",
       "                                     2016      2827\n",
       "                             2016    2014      1645\n",
       "                                     2016       903\n",
       "throat_swab-throat_swab      2014    2014      7626\n",
       "                                     2016      3648\n",
       "                             2016    2014      2800\n",
       "                                     2016      1326\n",
       "dtype: int64"
      ]
     },
     "execution_count": 15,
     "metadata": {},
     "output_type": "execute_result"
    }
   ],
   "source": [
    "# Keep just the \"between\" patient comparisons\n",
    "btw_jsd = jsdlong.query('patient_comp == \"between\"')\n",
    "\n",
    "# Keep just aerodigestive site comparisons\n",
    "keep_comps = ['bal-bal', 'throat_swab-throat_swab', 'gastric_fluid-gastric_fluid']\n",
    "btw_jsd = btw_jsd.query('site_comparison == @keep_comps')\n",
    "\n",
    "btw_jsd.fillna('nan').groupby(['site_comparison', 'batch1', 'batch2']).size()"
   ]
  },
  {
   "cell_type": "code",
   "execution_count": 16,
   "metadata": {
    "collapsed": false
   },
   "outputs": [],
   "source": [
    "jsd2014 = btw_jsd.query('(batch1 == 2014) & (batch2 == 2014)')\n",
    "jsd2016 = btw_jsd.query('(batch1 == 2016) & (batch2 == 2016)')\n",
    "\n",
    "jsdboth = pd.concat((jsd2014, jsd2016))"
   ]
  },
  {
   "cell_type": "code",
   "execution_count": 17,
   "metadata": {
    "collapsed": false
   },
   "outputs": [
    {
     "name": "stderr",
     "output_type": "stream",
     "text": [
      "/Users/claire/anaconda/lib/python2.7/site-packages/seaborn/categorical.py:588: FutureWarning: remove_na is deprecated and is a private function. Do not use.\n",
      "  kde_data = remove_na(group_data)\n",
      "/Users/claire/anaconda/lib/python2.7/site-packages/seaborn/categorical.py:816: FutureWarning: remove_na is deprecated and is a private function. Do not use.\n",
      "  violin_data = remove_na(group_data)\n"
     ]
    },
    {
     "data": {
      "image/png": "[encoded data removed]",
      "text/plain": [
       "<matplotlib.figure.Figure at 0x110544110>"
      ]
     },
     "metadata": {},
     "output_type": "display_data"
    }
   ],
   "source": [
    "order_fig = ['bal-bal', 'throat_swab-throat_swab', 'gastric_fluid-gastric_fluid']\n",
    "\n",
    "# Prepare colors\n",
    "pal = sns.color_palette(\"Set1\")\n",
    "colors = [pal[1], pal[2], pal[0]]\n",
    "colordict = {i: k for i, k in zip(order_fig, colors)}\n",
    "\n",
    "fig, ax = plt.subplots()\n",
    "sns.violinplot(data=jsdboth, x='site_comparison', y='beta', \n",
    "               inner='box', order=order_fig,\n",
    "               palette=colordict)\n",
    "\n",
    "\n",
    "ax.set_xlabel('')\n",
    "ax.set_xticklabels(['Lung vs.\\nlung', \n",
    "                    'Oropharyngeal vs.\\noropharyngeal swab',\n",
    "                    'Gastric fluid vs.\\ngastric fluid'],\n",
    "                  fontsize='large')\n",
    "ax.set_ylim([0, 1.1])\n",
    "ax.set_yticks([0, 0.5, 1])\n",
    "ax.set_yticklabels([0, 0.5, 1], fontsize='x-large')\n",
    "ax.set_ylabel('Jensen-Shannon Distance', fontsize='x-large')\n",
    "\n",
    "ax.text(-0.11, 1.025, 'A', transform=ax.transAxes, fontsize=24)\n",
    "\n",
    "#ax.set_title('Across patient beta diversity', fontsize='xx-large')\n",
    "fig.savefig('../../final/figures/figure2.across_patient_beta_div_same_site.png')"
   ]
  },
  {
   "cell_type": "code",
   "execution_count": 18,
   "metadata": {
    "collapsed": false
   },
   "outputs": [
    {
     "data": {
      "text/html": [
       "<div>\n",
       "<style scoped>\n",
       "    .dataframe tbody tr th:only-of-type {\n",
       "        vertical-align: middle;\n",
       "    }\n",
       "\n",
       "    .dataframe tbody tr th {\n",
       "        vertical-align: top;\n",
       "    }\n",
       "\n",
       "    .dataframe thead th {\n",
       "        text-align: right;\n",
       "    }\n",
       "</style>\n",
       "<table border=\"1\" class=\"dataframe\">\n",
       "  <thead>\n",
       "    <tr style=\"text-align: right;\">\n",
       "      <th></th>\n",
       "      <th>count</th>\n",
       "      <th>mean</th>\n",
       "      <th>std</th>\n",
       "      <th>min</th>\n",
       "      <th>25%</th>\n",
       "      <th>50%</th>\n",
       "      <th>75%</th>\n",
       "      <th>max</th>\n",
       "    </tr>\n",
       "    <tr>\n",
       "      <th>site_comparison</th>\n",
       "      <th></th>\n",
       "      <th></th>\n",
       "      <th></th>\n",
       "      <th></th>\n",
       "      <th></th>\n",
       "      <th></th>\n",
       "      <th></th>\n",
       "      <th></th>\n",
       "    </tr>\n",
       "  </thead>\n",
       "  <tbody>\n",
       "    <tr>\n",
       "      <th>bal-bal</th>\n",
       "      <td>3450.0</td>\n",
       "      <td>0.816503</td>\n",
       "      <td>0.187786</td>\n",
       "      <td>0.098206</td>\n",
       "      <td>0.731513</td>\n",
       "      <td>0.877055</td>\n",
       "      <td>0.964893</td>\n",
       "      <td>0.999219</td>\n",
       "    </tr>\n",
       "    <tr>\n",
       "      <th>gastric_fluid-gastric_fluid</th>\n",
       "      <td>6259.0</td>\n",
       "      <td>0.764649</td>\n",
       "      <td>0.169653</td>\n",
       "      <td>0.159927</td>\n",
       "      <td>0.633807</td>\n",
       "      <td>0.763999</td>\n",
       "      <td>0.928130</td>\n",
       "      <td>0.998176</td>\n",
       "    </tr>\n",
       "    <tr>\n",
       "      <th>throat_swab-throat_swab</th>\n",
       "      <td>8952.0</td>\n",
       "      <td>0.599972</td>\n",
       "      <td>0.139513</td>\n",
       "      <td>0.110568</td>\n",
       "      <td>0.491617</td>\n",
       "      <td>0.588559</td>\n",
       "      <td>0.701691</td>\n",
       "      <td>0.992263</td>\n",
       "    </tr>\n",
       "  </tbody>\n",
       "</table>\n",
       "</div>"
      ],
      "text/plain": [
       "                              count      mean       std       min       25%  \\\n",
       "site_comparison                                                               \n",
       "bal-bal                      3450.0  0.816503  0.187786  0.098206  0.731513   \n",
       "gastric_fluid-gastric_fluid  6259.0  0.764649  0.169653  0.159927  0.633807   \n",
       "throat_swab-throat_swab      8952.0  0.599972  0.139513  0.110568  0.491617   \n",
       "\n",
       "                                  50%       75%       max  \n",
       "site_comparison                                            \n",
       "bal-bal                      0.877055  0.964893  0.999219  \n",
       "gastric_fluid-gastric_fluid  0.763999  0.928130  0.998176  \n",
       "throat_swab-throat_swab      0.588559  0.701691  0.992263  "
      ]
     },
     "execution_count": 18,
     "metadata": {},
     "output_type": "execute_result"
    }
   ],
   "source": [
    "jsdboth.groupby('site_comparison')['beta'].describe()"
   ]
  },
  {
   "cell_type": "markdown",
   "metadata": {
    "collapsed": true
   },
   "source": [
    "# PERMANOVA\n",
    "\n",
    "Calculate PERMANOVA statistics within each sequencing batch."
   ]
  },
  {
   "cell_type": "code",
   "execution_count": 19,
   "metadata": {
    "collapsed": false
   },
   "outputs": [],
   "source": [
    "from skbio.stats.distance import permanova, anosim\n",
    "from skbio.stats.distance import DistanceMatrix"
   ]
  },
  {
   "cell_type": "code",
   "execution_count": 20,
   "metadata": {
    "collapsed": true
   },
   "outputs": [],
   "source": [
    "sites = ['bal', 'throat_swab', 'gastric_fluid']"
   ]
  },
  {
   "cell_type": "markdown",
   "metadata": {},
   "source": [
    "## 2016 samples"
   ]
  },
  {
   "cell_type": "code",
   "execution_count": 21,
   "metadata": {
    "collapsed": false
   },
   "outputs": [
    {
     "name": "stdout",
     "output_type": "stream",
     "text": [
      "Series([], dtype: int64)\n"
     ]
    }
   ],
   "source": [
    "# Get samples from the 4 sites of interest and in 2016 batch\n",
    "keep_batch = meta\\\n",
    "    .query('site == @sites')\\\n",
    "    .query('batch == 2016')\\\n",
    "    .index\n",
    "\n",
    "# Get rid of any \"F\" samples (these are second time points samples)\n",
    "# There is also one patient with duplicate throat and stool samples taht end in 'sick'\n",
    "keep_batch = [i for i in keep_batch \n",
    "              if not i.endswith('F') \n",
    "              and not i.endswith('sick') \n",
    "              and not i.endswith('F2') \n",
    "              and not i.endswith('F2T')\n",
    "              and not i.startswith('05')]\n",
    "\n",
    "# Check that no patient has duplicate sites\n",
    "tmp = meta.loc[keep_batch].groupby(['subject_id', 'site']).size()\n",
    "print(tmp[tmp > 1])\n",
    "\n",
    "jsd2016 = jsd.loc[keep_batch, keep_batch]\n"
   ]
  },
  {
   "cell_type": "code",
   "execution_count": 22,
   "metadata": {
    "collapsed": false
   },
   "outputs": [
    {
     "data": {
      "text/plain": [
       "method name               PERMANOVA\n",
       "test statistic name        pseudo-F\n",
       "sample size                     116\n",
       "number of groups                  3\n",
       "test statistic              3.23894\n",
       "p-value                      0.0001\n",
       "number of permutations         9999\n",
       "Name: PERMANOVA results, dtype: object"
      ]
     },
     "execution_count": 22,
     "metadata": {},
     "output_type": "execute_result"
    }
   ],
   "source": [
    "dm = DistanceMatrix(jsd2016.values, ids=jsd2016.index)\n",
    "permanova(dm, meta.loc[jsd2016.index, 'site'], permutations=9999)"
   ]
  },
  {
   "cell_type": "code",
   "execution_count": 23,
   "metadata": {
    "collapsed": false
   },
   "outputs": [
    {
     "data": {
      "text/plain": [
       "method name                 ANOSIM\n",
       "test statistic name              R\n",
       "sample size                    116\n",
       "number of groups                 3\n",
       "test statistic            0.112103\n",
       "p-value                     0.0003\n",
       "number of permutations        9999\n",
       "Name: ANOSIM results, dtype: object"
      ]
     },
     "execution_count": 23,
     "metadata": {},
     "output_type": "execute_result"
    }
   ],
   "source": [
    "anosim(dm, meta.loc[jsd2016.index, 'site'], permutations=9999)"
   ]
  },
  {
   "cell_type": "markdown",
   "metadata": {},
   "source": [
    "## 2014 samples"
   ]
  },
  {
   "cell_type": "code",
   "execution_count": 24,
   "metadata": {
    "collapsed": false
   },
   "outputs": [
    {
     "name": "stdout",
     "output_type": "stream",
     "text": [
      "Series([], dtype: int64)\n"
     ]
    }
   ],
   "source": [
    "# Get samples from the 4 sites of interest and in 2016 batch\n",
    "keep_batch = meta\\\n",
    "    .query('site == @sites')\\\n",
    "    .query('batch == 2014')\\\n",
    "    .index\n",
    "\n",
    "# Get rid of any \"F\" samples (these are second time points samples)\n",
    "# There is also one patient with duplicate throat and stool samples taht end in 'sick'\n",
    "keep_batch = [i for i in keep_batch \n",
    "              if not i.endswith('F') \n",
    "              and not i.endswith('sick') \n",
    "              and not i.endswith('F2') \n",
    "              and not i.endswith('F2T')\n",
    "              and not i.startswith('05')]\n",
    "\n",
    "# Check that no patient has duplicate sites\n",
    "tmp = meta.loc[keep_batch].groupby(['subject_id', 'site']).size()\n",
    "print(tmp[tmp > 1])\n",
    "\n",
    "jsd2014 = jsd.loc[keep_batch, keep_batch]"
   ]
  },
  {
   "cell_type": "code",
   "execution_count": 25,
   "metadata": {
    "collapsed": false
   },
   "outputs": [
    {
     "data": {
      "text/plain": [
       "method name               PERMANOVA\n",
       "test statistic name        pseudo-F\n",
       "sample size                     309\n",
       "number of groups                  3\n",
       "test statistic              27.4298\n",
       "p-value                      0.0001\n",
       "number of permutations         9999\n",
       "Name: PERMANOVA results, dtype: object"
      ]
     },
     "execution_count": 25,
     "metadata": {},
     "output_type": "execute_result"
    }
   ],
   "source": [
    "dm = DistanceMatrix(jsd2014.values, ids=jsd2014.index)\n",
    "permanova(dm, meta.loc[jsd2014.index, 'site'], permutations=9999)"
   ]
  },
  {
   "cell_type": "code",
   "execution_count": 26,
   "metadata": {
    "collapsed": false
   },
   "outputs": [
    {
     "data": {
      "text/plain": [
       "method name                 ANOSIM\n",
       "test statistic name              R\n",
       "sample size                    309\n",
       "number of groups                 3\n",
       "test statistic            0.385123\n",
       "p-value                     0.0001\n",
       "number of permutations        9999\n",
       "Name: ANOSIM results, dtype: object"
      ]
     },
     "execution_count": 26,
     "metadata": {},
     "output_type": "execute_result"
    }
   ],
   "source": [
    "anosim(dm, meta.loc[jsd2014.index, 'site'], permutations=9999)"
   ]
  },
  {
   "cell_type": "markdown",
   "metadata": {
    "collapsed": true
   },
   "source": [
    "# Patients in these analyses"
   ]
  },
  {
   "cell_type": "code",
   "execution_count": 27,
   "metadata": {
    "collapsed": false
   },
   "outputs": [
    {
     "data": {
      "text/plain": [
       "425"
      ]
     },
     "execution_count": 27,
     "metadata": {},
     "output_type": "execute_result"
    }
   ],
   "source": [
    "samples = jsd2014.index.tolist() + jsd2016.index.tolist()\n",
    "len(samples)"
   ]
  },
  {
   "cell_type": "code",
   "execution_count": 28,
   "metadata": {
    "collapsed": false
   },
   "outputs": [
    {
     "data": {
      "text/plain": [
       "site           mbs_consolidated      \n",
       "bal            Aspiration/Penetration    33\n",
       "               Normal                    33\n",
       "               nan                       36\n",
       "gastric_fluid  Aspiration/Penetration    41\n",
       "               Normal                    48\n",
       "               nan                       58\n",
       "throat_swab    Aspiration/Penetration    36\n",
       "               Normal                    43\n",
       "               nan                       97\n",
       "dtype: int64"
      ]
     },
     "execution_count": 28,
     "metadata": {},
     "output_type": "execute_result"
    }
   ],
   "source": [
    "meta\\\n",
    "    .loc[samples, ['subject_id', 'mbs_consolidated', 'site']]\\\n",
    "    .drop_duplicates()\\\n",
    "    .fillna('nan')\\\n",
    "    .groupby(['site', 'mbs_consolidated'])\\\n",
    "    .size()"
   ]
  },
  {
   "cell_type": "markdown",
   "metadata": {
    "collapsed": false
   },
   "source": [
    "### Write to file"
   ]
  },
  {
   "cell_type": "code",
   "execution_count": 29,
   "metadata": {
    "collapsed": true
   },
   "outputs": [],
   "source": [
    "with open('../../final/patients/figure2.across_patient_beta.samples.txt', 'w') as f:\n",
    "    samples = list(set(samples))\n",
    "    f.write('\\n'.join(samples))"
   ]
  },
  {
   "cell_type": "code",
   "execution_count": null,
   "metadata": {
    "collapsed": true
   },
   "outputs": [],
   "source": []
  }
 ],
 "metadata": {
  "anaconda-cloud": {},
  "kernelspec": {
   "display_name": "Python [default]",
   "language": "python",
   "name": "python2"
  },
  "language_info": {
   "codemirror_mode": {
    "name": "ipython",
    "version": 2
   },
   "file_extension": ".py",
   "mimetype": "text/x-python",
   "name": "python",
   "nbconvert_exporter": "python",
   "pygments_lexer": "ipython2",
   "version": "2.7.12"
  }
 },
 "nbformat": 4,
 "nbformat_minor": 2
}
