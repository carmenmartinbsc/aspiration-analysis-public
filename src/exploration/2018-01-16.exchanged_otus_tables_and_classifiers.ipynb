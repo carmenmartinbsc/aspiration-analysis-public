{
 "cells": [
  {
   "cell_type": "markdown",
   "metadata": {},
   "source": [
    "This notebook highlights the most commonly exchanged bacteria between the lungs and oropharynx and lungs and stomach.\n",
    "\n",
    "It also builds classifiers based on these exchanged OTUs alone."
   ]
  },
  {
   "cell_type": "code",
   "execution_count": 1,
   "metadata": {
    "collapsed": false
   },
   "outputs": [],
   "source": [
    "import pandas as pd\n",
    "import numpy as np\n",
    "\n",
    "from sklearn.ensemble import RandomForestClassifier\n",
    "from scipy.stats import fisher_exact\n",
    "\n",
    "from IPython.display import display\n",
    "\n",
    "import matplotlib.pyplot as plt\n",
    "import seaborn as sns\n",
    "%matplotlib inline"
   ]
  },
  {
   "cell_type": "code",
   "execution_count": 2,
   "metadata": {
    "collapsed": false
   },
   "outputs": [
    {
     "name": "stderr",
     "output_type": "stream",
     "text": [
      "/Users/claire/anaconda/lib/python2.7/site-packages/sklearn/cross_validation.py:44: DeprecationWarning: This module was deprecated in version 0.18 in favor of the model_selection module into which all the refactored classes and functions are moved. Also note that the interface of the new CV iterators are different from that of this module. This module will be removed in 0.20.\n",
      "  \"This module will be removed in 0.20.\", DeprecationWarning)\n"
     ]
    }
   ],
   "source": [
    "import os, sys\n",
    "src_dir = os.path.normpath(os.path.join(os.getcwd(), '../util'))\n",
    "sys.path.append(src_dir)\n",
    "from util import cv_and_roc, plot_auc_from_list, tidyfy_otu, convert_to_latex"
   ]
  },
  {
   "cell_type": "markdown",
   "metadata": {},
   "source": [
    "# Which are the most differentially exchanged OTUs?"
   ]
  },
  {
   "cell_type": "code",
   "execution_count": 3,
   "metadata": {
    "collapsed": false
   },
   "outputs": [
    {
     "data": {
      "text/html": [
       "<div>\n",
       "<style scoped>\n",
       "    .dataframe tbody tr th:only-of-type {\n",
       "        vertical-align: middle;\n",
       "    }\n",
       "\n",
       "    .dataframe tbody tr th {\n",
       "        vertical-align: top;\n",
       "    }\n",
       "\n",
       "    .dataframe thead th {\n",
       "        text-align: right;\n",
       "    }\n",
       "</style>\n",
       "<table border=\"1\" class=\"dataframe\">\n",
       "  <thead>\n",
       "    <tr style=\"text-align: right;\">\n",
       "      <th></th>\n",
       "      <th>otu</th>\n",
       "      <th>prevalence_exchange</th>\n",
       "      <th>meta_var</th>\n",
       "      <th>meta_val</th>\n",
       "      <th>site_comparison</th>\n",
       "      <th>n_patients</th>\n",
       "    </tr>\n",
       "  </thead>\n",
       "  <tbody>\n",
       "    <tr>\n",
       "      <th>0</th>\n",
       "      <td>k__Bacteria;p__;c__;o__;f__;g__;s__;d__denovo364</td>\n",
       "      <td>0.237705</td>\n",
       "      <td>all_patients</td>\n",
       "      <td>all_patients</td>\n",
       "      <td>bal-gastric_fluid</td>\n",
       "      <td>122</td>\n",
       "    </tr>\n",
       "    <tr>\n",
       "      <th>1</th>\n",
       "      <td>k__Bacteria;p__Actinobacteria;c__Actinobacteri...</td>\n",
       "      <td>0.147541</td>\n",
       "      <td>all_patients</td>\n",
       "      <td>all_patients</td>\n",
       "      <td>bal-gastric_fluid</td>\n",
       "      <td>122</td>\n",
       "    </tr>\n",
       "    <tr>\n",
       "      <th>2</th>\n",
       "      <td>k__Bacteria;p__Actinobacteria;c__Actinobacteri...</td>\n",
       "      <td>0.139344</td>\n",
       "      <td>all_patients</td>\n",
       "      <td>all_patients</td>\n",
       "      <td>bal-gastric_fluid</td>\n",
       "      <td>122</td>\n",
       "    </tr>\n",
       "    <tr>\n",
       "      <th>3</th>\n",
       "      <td>k__Bacteria;p__Actinobacteria;c__Actinobacteri...</td>\n",
       "      <td>0.393443</td>\n",
       "      <td>all_patients</td>\n",
       "      <td>all_patients</td>\n",
       "      <td>bal-gastric_fluid</td>\n",
       "      <td>122</td>\n",
       "    </tr>\n",
       "    <tr>\n",
       "      <th>4</th>\n",
       "      <td>k__Bacteria;p__Actinobacteria;c__Actinobacteri...</td>\n",
       "      <td>0.180328</td>\n",
       "      <td>all_patients</td>\n",
       "      <td>all_patients</td>\n",
       "      <td>bal-gastric_fluid</td>\n",
       "      <td>122</td>\n",
       "    </tr>\n",
       "  </tbody>\n",
       "</table>\n",
       "</div>"
      ],
      "text/plain": [
       "                                                 otu  prevalence_exchange  \\\n",
       "0   k__Bacteria;p__;c__;o__;f__;g__;s__;d__denovo364             0.237705   \n",
       "1  k__Bacteria;p__Actinobacteria;c__Actinobacteri...             0.147541   \n",
       "2  k__Bacteria;p__Actinobacteria;c__Actinobacteri...             0.139344   \n",
       "3  k__Bacteria;p__Actinobacteria;c__Actinobacteri...             0.393443   \n",
       "4  k__Bacteria;p__Actinobacteria;c__Actinobacteri...             0.180328   \n",
       "\n",
       "       meta_var      meta_val    site_comparison  n_patients  \n",
       "0  all_patients  all_patients  bal-gastric_fluid         122  \n",
       "1  all_patients  all_patients  bal-gastric_fluid         122  \n",
       "2  all_patients  all_patients  bal-gastric_fluid         122  \n",
       "3  all_patients  all_patients  bal-gastric_fluid         122  \n",
       "4  all_patients  all_patients  bal-gastric_fluid         122  "
      ]
     },
     "execution_count": 3,
     "metadata": {},
     "output_type": "execute_result"
    }
   ],
   "source": [
    "fpreva = '../../data/analysis/prevalence.partial_corrs.nthresh10-qthresh01-rthresh0.txt'\n",
    "preva = pd.read_csv(fpreva, sep='\\t')\n",
    "preva.head()"
   ]
  },
  {
   "cell_type": "code",
   "execution_count": 4,
   "metadata": {
    "collapsed": false
   },
   "outputs": [
    {
     "data": {
      "text/plain": [
       "site_comparison\n",
       "bal-gastric_fluid            48\n",
       "bal-throat_swab               9\n",
       "gastric_fluid-throat_swab    98\n",
       "dtype: int64"
      ]
     },
     "execution_count": 4,
     "metadata": {},
     "output_type": "execute_result"
    }
   ],
   "source": [
    "# Number of exchange OTUs per site combination\n",
    "preva.query('meta_var == \"all_patients\"').groupby('site_comparison').size()"
   ]
  },
  {
   "cell_type": "code",
   "execution_count": 5,
   "metadata": {
    "collapsed": true
   },
   "outputs": [],
   "source": [
    "# Let's look just at the aspirator vs. non-aspirator comparisons\n",
    "preva = preva.query('meta_var == \"mbs_consolidated\"')\n",
    "\n",
    "# And just the bal-throat_swab comparison\n",
    "preva = preva.query('site_comparison == \"bal-throat_swab\"')"
   ]
  },
  {
   "cell_type": "code",
   "execution_count": 6,
   "metadata": {
    "collapsed": false
   },
   "outputs": [],
   "source": [
    "diffpreva = preva.pivot(index='otu', columns='meta_val', values='prevalence_exchange')\n",
    "diffpreva['asp_minus_nml'] = diffpreva['Aspiration/Penetration'] - diffpreva['Normal']\n",
    "diffpreva['abs_diff'] = abs(diffpreva['asp_minus_nml'])"
   ]
  },
  {
   "cell_type": "code",
   "execution_count": 7,
   "metadata": {
    "collapsed": false
   },
   "outputs": [
    {
     "data": {
      "text/html": [
       "<div>\n",
       "<style scoped>\n",
       "    .dataframe tbody tr th:only-of-type {\n",
       "        vertical-align: middle;\n",
       "    }\n",
       "\n",
       "    .dataframe tbody tr th {\n",
       "        vertical-align: top;\n",
       "    }\n",
       "\n",
       "    .dataframe thead th {\n",
       "        text-align: right;\n",
       "    }\n",
       "</style>\n",
       "<table border=\"1\" class=\"dataframe\">\n",
       "  <thead>\n",
       "    <tr style=\"text-align: right;\">\n",
       "      <th>meta_val</th>\n",
       "      <th>Aspiration/Penetration</th>\n",
       "      <th>Normal</th>\n",
       "      <th>asp_minus_nml</th>\n",
       "      <th>abs_diff</th>\n",
       "    </tr>\n",
       "    <tr>\n",
       "      <th>otu</th>\n",
       "      <th></th>\n",
       "      <th></th>\n",
       "      <th></th>\n",
       "      <th></th>\n",
       "    </tr>\n",
       "  </thead>\n",
       "  <tbody>\n",
       "    <tr>\n",
       "      <th>k__Bacteria;p__Bacteroidetes;c__Flavobacteriia;o__Flavobacteriales;f__Flavobacteriaceae;g__;s__;d__denovo93</th>\n",
       "      <td>0.428571</td>\n",
       "      <td>0.066667</td>\n",
       "      <td>0.361905</td>\n",
       "      <td>0.361905</td>\n",
       "    </tr>\n",
       "    <tr>\n",
       "      <th>k__Bacteria;p__Fusobacteria;c__Fusobacteriia;o__Fusobacteriales;f__Fusobacteriaceae;g__Fusobacterium;s__;d__denovo8</th>\n",
       "      <td>0.642857</td>\n",
       "      <td>0.300000</td>\n",
       "      <td>0.342857</td>\n",
       "      <td>0.342857</td>\n",
       "    </tr>\n",
       "    <tr>\n",
       "      <th>k__Bacteria;p__Bacteroidetes;c__Bacteroidia;o__Bacteroidales;f__Porphyromonadaceae;g__Porphyromonas;s__;d__denovo13</th>\n",
       "      <td>0.678571</td>\n",
       "      <td>0.366667</td>\n",
       "      <td>0.311905</td>\n",
       "      <td>0.311905</td>\n",
       "    </tr>\n",
       "    <tr>\n",
       "      <th>k__Bacteria;p__Firmicutes;c__Negativicutes;o__Selenomonadales;f__Veillonellaceae;g__Veillonella;s__;d__denovo26</th>\n",
       "      <td>0.571429</td>\n",
       "      <td>0.266667</td>\n",
       "      <td>0.304762</td>\n",
       "      <td>0.304762</td>\n",
       "    </tr>\n",
       "    <tr>\n",
       "      <th>k__Bacteria;p__Firmicutes;c__Bacilli;o__Lactobacillales;f__Streptococcaceae;g__Streptococcus;s__;d__denovo323</th>\n",
       "      <td>0.392857</td>\n",
       "      <td>0.133333</td>\n",
       "      <td>0.259524</td>\n",
       "      <td>0.259524</td>\n",
       "    </tr>\n",
       "    <tr>\n",
       "      <th>k__Bacteria;p__Fusobacteria;c__Fusobacteriia;o__Fusobacteriales;f__Fusobacteriaceae;g__Fusobacterium;s__;d__denovo100</th>\n",
       "      <td>0.321429</td>\n",
       "      <td>0.100000</td>\n",
       "      <td>0.221429</td>\n",
       "      <td>0.221429</td>\n",
       "    </tr>\n",
       "    <tr>\n",
       "      <th>k__Bacteria;p__Bacteroidetes;c__Bacteroidia;o__Bacteroidales;f__Prevotellaceae;g__Prevotella;s__;d__denovo213</th>\n",
       "      <td>0.321429</td>\n",
       "      <td>0.133333</td>\n",
       "      <td>0.188095</td>\n",
       "      <td>0.188095</td>\n",
       "    </tr>\n",
       "    <tr>\n",
       "      <th>k__Bacteria;p__Bacteroidetes;c__Bacteroidia;o__Bacteroidales;f__Porphyromonadaceae;g__Porphyromonas;s__;d__denovo287</th>\n",
       "      <td>0.178571</td>\n",
       "      <td>0.100000</td>\n",
       "      <td>0.078571</td>\n",
       "      <td>0.078571</td>\n",
       "    </tr>\n",
       "    <tr>\n",
       "      <th>k__Bacteria;p__Proteobacteria;c__Gammaproteobacteria;o__Pasteurellales;f__Pasteurellaceae;g__;s__;d__denovo37</th>\n",
       "      <td>0.321429</td>\n",
       "      <td>0.366667</td>\n",
       "      <td>-0.045238</td>\n",
       "      <td>0.045238</td>\n",
       "    </tr>\n",
       "  </tbody>\n",
       "</table>\n",
       "</div>"
      ],
      "text/plain": [
       "meta_val                                            Aspiration/Penetration  \\\n",
       "otu                                                                          \n",
       "k__Bacteria;p__Bacteroidetes;c__Flavobacteriia;...                0.428571   \n",
       "k__Bacteria;p__Fusobacteria;c__Fusobacteriia;o_...                0.642857   \n",
       "k__Bacteria;p__Bacteroidetes;c__Bacteroidia;o__...                0.678571   \n",
       "k__Bacteria;p__Firmicutes;c__Negativicutes;o__S...                0.571429   \n",
       "k__Bacteria;p__Firmicutes;c__Bacilli;o__Lactoba...                0.392857   \n",
       "k__Bacteria;p__Fusobacteria;c__Fusobacteriia;o_...                0.321429   \n",
       "k__Bacteria;p__Bacteroidetes;c__Bacteroidia;o__...                0.321429   \n",
       "k__Bacteria;p__Bacteroidetes;c__Bacteroidia;o__...                0.178571   \n",
       "k__Bacteria;p__Proteobacteria;c__Gammaproteobac...                0.321429   \n",
       "\n",
       "meta_val                                              Normal  asp_minus_nml  \\\n",
       "otu                                                                           \n",
       "k__Bacteria;p__Bacteroidetes;c__Flavobacteriia;...  0.066667       0.361905   \n",
       "k__Bacteria;p__Fusobacteria;c__Fusobacteriia;o_...  0.300000       0.342857   \n",
       "k__Bacteria;p__Bacteroidetes;c__Bacteroidia;o__...  0.366667       0.311905   \n",
       "k__Bacteria;p__Firmicutes;c__Negativicutes;o__S...  0.266667       0.304762   \n",
       "k__Bacteria;p__Firmicutes;c__Bacilli;o__Lactoba...  0.133333       0.259524   \n",
       "k__Bacteria;p__Fusobacteria;c__Fusobacteriia;o_...  0.100000       0.221429   \n",
       "k__Bacteria;p__Bacteroidetes;c__Bacteroidia;o__...  0.133333       0.188095   \n",
       "k__Bacteria;p__Bacteroidetes;c__Bacteroidia;o__...  0.100000       0.078571   \n",
       "k__Bacteria;p__Proteobacteria;c__Gammaproteobac...  0.366667      -0.045238   \n",
       "\n",
       "meta_val                                            abs_diff  \n",
       "otu                                                           \n",
       "k__Bacteria;p__Bacteroidetes;c__Flavobacteriia;...  0.361905  \n",
       "k__Bacteria;p__Fusobacteria;c__Fusobacteriia;o_...  0.342857  \n",
       "k__Bacteria;p__Bacteroidetes;c__Bacteroidia;o__...  0.311905  \n",
       "k__Bacteria;p__Firmicutes;c__Negativicutes;o__S...  0.304762  \n",
       "k__Bacteria;p__Firmicutes;c__Bacilli;o__Lactoba...  0.259524  \n",
       "k__Bacteria;p__Fusobacteria;c__Fusobacteriia;o_...  0.221429  \n",
       "k__Bacteria;p__Bacteroidetes;c__Bacteroidia;o__...  0.188095  \n",
       "k__Bacteria;p__Bacteroidetes;c__Bacteroidia;o__...  0.078571  \n",
       "k__Bacteria;p__Proteobacteria;c__Gammaproteobac...  0.045238  "
      ]
     },
     "execution_count": 7,
     "metadata": {},
     "output_type": "execute_result"
    }
   ],
   "source": [
    "diffpreva.sort_values(by='abs_diff', ascending=False)"
   ]
  },
  {
   "cell_type": "code",
   "execution_count": 8,
   "metadata": {
    "collapsed": false
   },
   "outputs": [
    {
     "data": {
      "text/html": [
       "<div>\n",
       "<style scoped>\n",
       "    .dataframe tbody tr th:only-of-type {\n",
       "        vertical-align: middle;\n",
       "    }\n",
       "\n",
       "    .dataframe tbody tr th {\n",
       "        vertical-align: top;\n",
       "    }\n",
       "\n",
       "    .dataframe thead th {\n",
       "        text-align: right;\n",
       "    }\n",
       "</style>\n",
       "<table border=\"1\" class=\"dataframe\">\n",
       "  <thead>\n",
       "    <tr style=\"text-align: right;\">\n",
       "      <th></th>\n",
       "      <th>meta_val</th>\n",
       "      <th>n_patients</th>\n",
       "    </tr>\n",
       "  </thead>\n",
       "  <tbody>\n",
       "    <tr>\n",
       "      <th>825</th>\n",
       "      <td>Aspiration/Penetration</td>\n",
       "      <td>28</td>\n",
       "    </tr>\n",
       "    <tr>\n",
       "      <th>834</th>\n",
       "      <td>Normal</td>\n",
       "      <td>30</td>\n",
       "    </tr>\n",
       "  </tbody>\n",
       "</table>\n",
       "</div>"
      ],
      "text/plain": [
       "                   meta_val  n_patients\n",
       "825  Aspiration/Penetration          28\n",
       "834                  Normal          30"
      ]
     },
     "execution_count": 8,
     "metadata": {},
     "output_type": "execute_result"
    }
   ],
   "source": [
    "# How many patients were used for these prevalence calcs?\n",
    "preva[['meta_val', 'n_patients']].drop_duplicates()"
   ]
  },
  {
   "cell_type": "code",
   "execution_count": 9,
   "metadata": {
    "collapsed": false
   },
   "outputs": [
    {
     "name": "stdout",
     "output_type": "stream",
     "text": [
      "Flavobacteriaceae &  & 42.9 & 6.7 & 36.2 \\\\ \n",
      "Fusobacteriaceae & Fusobacterium & 64.3 & 30.0 & 34.3 \\\\ \n",
      "Porphyromonadaceae & Porphyromonas & 67.9 & 36.7 & 31.2 \\\\ \n",
      "Veillonellaceae & Veillonella & 57.1 & 26.7 & 30.5 \\\\ \n",
      "Streptococcaceae & Streptococcus & 39.3 & 13.3 & 26.0 \\\\ \n",
      "Fusobacteriaceae & Fusobacterium & 32.1 & 10.0 & 22.1 \\\\ \n",
      "Prevotellaceae & Prevotella & 32.1 & 13.3 & 18.8 \\\\ \n",
      "Porphyromonadaceae & Porphyromonas & 17.9 & 10.0 & 7.9 \\\\ \n",
      "Pasteurellaceae &  & 32.1 & 36.7 & -4.5 \\\\ \n"
     ]
    }
   ],
   "source": [
    "## Do some text manipulations to print these values out in latex table format\n",
    "\n",
    "# Split OTU names to individual phyla\n",
    "table = pd.concat((diffpreva.reset_index(), diffpreva.reset_index()['otu'].str.split(';', expand=True)), axis=1)\n",
    "table['family'] = table[4].str.split('f__').str[1]\n",
    "table['genus'] = table[5].str.split('g__').str[1]\n",
    "# Re-format percentages\n",
    "table['Aspiration/Penetration'] = table['Aspiration/Penetration'].apply(lambda x: '{:.1f}'.format(x*100))\n",
    "table['Normal'] = table['Normal'].apply(lambda x: '{:.1f}'.format(x*100))\n",
    "table['Difference'] = table['asp_minus_nml'].apply(lambda x: '{:.1f}'.format(x*100))\n",
    "table = table.sort_values(by='asp_minus_nml', ascending=False)\n",
    "\n",
    "col_order = ['family', 'genus', 'Aspiration/Penetration', 'Normal', 'Difference']\n",
    "table = table[col_order]\n",
    "print('\\n'.join(table.apply(convert_to_latex, axis=1)))"
   ]
  },
  {
   "cell_type": "markdown",
   "metadata": {},
   "source": [
    "# Classify aspirator from non-aspirator with BAL-throat OTUs"
   ]
  },
  {
   "cell_type": "code",
   "execution_count": 10,
   "metadata": {
    "collapsed": true
   },
   "outputs": [],
   "source": [
    "# Define some global variables\n",
    "random_state = 1234\n",
    "aspdict = {'Normal': 0, 'Aspiration/Penetration': 1}"
   ]
  },
  {
   "cell_type": "code",
   "execution_count": 11,
   "metadata": {
    "collapsed": true
   },
   "outputs": [],
   "source": [
    "fotu = '../../data/clean/rosen.otu_table.rel_abun.clean'\n",
    "fmeta = '../../data/clean/rosen.metadata.clean'\n",
    "\n",
    "otu = pd.read_csv(fotu, sep='\\t', index_col=0)\n",
    "meta = pd.read_csv(fmeta, sep='\\t', index_col=0)"
   ]
  },
  {
   "cell_type": "code",
   "execution_count": 12,
   "metadata": {
    "collapsed": false
   },
   "outputs": [],
   "source": [
    "keepotus = diffpreva.index.tolist()\n",
    "otu = otu[keepotus]"
   ]
  },
  {
   "cell_type": "code",
   "execution_count": 13,
   "metadata": {
    "collapsed": false
   },
   "outputs": [],
   "source": [
    "# Grab patients with both BAL and throat swab, and aspiration status\n",
    "sites = ['bal', 'throat_swab']\n",
    "patientsamples = meta\\\n",
    "    .query('site == @sites')\\\n",
    "    .dropna(subset=['mbs_consolidated'])\\\n",
    "    .groupby(['mbs_consolidated', 'site', 'subject_id'])\\\n",
    "    .size()\\\n",
    "    .to_frame('n_samples')\\\n",
    "    .reset_index()\\\n",
    "    .groupby(['subject_id', 'mbs_consolidated'])\\\n",
    "    .size()\\\n",
    "    .to_frame('n_samples')\\\n",
    "    .reset_index()\n",
    "patientsamples = patientsamples.query('n_samples == 2')\n",
    "#patientsamples.head()"
   ]
  },
  {
   "cell_type": "code",
   "execution_count": 14,
   "metadata": {
    "collapsed": true
   },
   "outputs": [],
   "source": [
    "h_subjs = patientsamples\\\n",
    "    .query('mbs_consolidated == \"Normal\"')\\\n",
    "    ['subject_id'].tolist()\n",
    "asp_subjs = patientsamples\\\n",
    "    .query('mbs_consolidated == \"Aspiration/Penetration\"')\\\n",
    "    ['subject_id'].tolist()"
   ]
  },
  {
   "cell_type": "markdown",
   "metadata": {},
   "source": [
    "## Asp vs. non-asp, BAL microbiome, bal-throat exchanged OTUs only"
   ]
  },
  {
   "cell_type": "code",
   "execution_count": 15,
   "metadata": {
    "collapsed": false
   },
   "outputs": [],
   "source": [
    "h_smpls = meta\\\n",
    "    .query('subject_id == @h_subjs')\\\n",
    "    .query('site == \"bal\"')\\\n",
    "    .index.tolist()\n",
    "asp_smpls = meta\\\n",
    "    .query('subject_id == @asp_subjs')\\\n",
    "    .query('site == \"bal\"')\\\n",
    "    .index.tolist()\n",
    "\n",
    "X = otu.loc[h_smpls + asp_smpls, :]\n",
    "Y = [aspdict[meta.loc[i, 'mbs_consolidated']] for i in X.index]\n",
    "X = X.values"
   ]
  },
  {
   "cell_type": "code",
   "execution_count": 16,
   "metadata": {
    "collapsed": false
   },
   "outputs": [],
   "source": [
    "# BAL samples only, bal-throat OTUs only\n",
    "rf = RandomForestClassifier(n_estimators=1000, random_state=random_state)\n",
    "\n",
    "results = cv_and_roc(rf, X, Y, random_state=random_state)"
   ]
  },
  {
   "cell_type": "code",
   "execution_count": 17,
   "metadata": {
    "collapsed": false
   },
   "outputs": [
    {
     "data": {
      "text/plain": [
       "0.60166666666666679"
      ]
     },
     "execution_count": 17,
     "metadata": {},
     "output_type": "execute_result"
    }
   ],
   "source": [
    "# Mean AUC\n",
    "np.mean(results['auc_list'])"
   ]
  },
  {
   "cell_type": "code",
   "execution_count": 18,
   "metadata": {
    "collapsed": false
   },
   "outputs": [
    {
     "data": {
      "text/plain": [
       "<matplotlib.axes._subplots.AxesSubplot at 0x10efb6290>"
      ]
     },
     "execution_count": 18,
     "metadata": {},
     "output_type": "execute_result"
    },
    {
     "data": {
      "image/png": "[encoded data removed]",
      "text/plain": [
       "<matplotlib.figure.Figure at 0x10ef9f850>"
      ]
     },
     "metadata": {},
     "output_type": "display_data"
    }
   ],
   "source": [
    "plot_auc_from_list(results['tpr_list'], results['mean_fpr'])"
   ]
  },
  {
   "cell_type": "code",
   "execution_count": 19,
   "metadata": {
    "collapsed": false
   },
   "outputs": [
    {
     "name": "stdout",
     "output_type": "stream",
     "text": [
      "(2.3333333333333335, 0.1794482149812395)\n"
     ]
    },
    {
     "data": {
      "text/html": [
       "<div>\n",
       "<style scoped>\n",
       "    .dataframe tbody tr th:only-of-type {\n",
       "        vertical-align: middle;\n",
       "    }\n",
       "\n",
       "    .dataframe tbody tr th {\n",
       "        vertical-align: top;\n",
       "    }\n",
       "\n",
       "    .dataframe thead th {\n",
       "        text-align: right;\n",
       "    }\n",
       "</style>\n",
       "<table border=\"1\" class=\"dataframe\">\n",
       "  <thead>\n",
       "    <tr style=\"text-align: right;\">\n",
       "      <th></th>\n",
       "      <th>pred 0</th>\n",
       "      <th>pred 1</th>\n",
       "    </tr>\n",
       "  </thead>\n",
       "  <tbody>\n",
       "    <tr>\n",
       "      <th>true 0</th>\n",
       "      <td>21</td>\n",
       "      <td>9</td>\n",
       "    </tr>\n",
       "    <tr>\n",
       "      <th>true 1</th>\n",
       "      <td>14</td>\n",
       "      <td>14</td>\n",
       "    </tr>\n",
       "  </tbody>\n",
       "</table>\n",
       "</div>"
      ],
      "text/plain": [
       "        pred 0  pred 1\n",
       "true 0      21       9\n",
       "true 1      14      14"
      ]
     },
     "execution_count": 19,
     "metadata": {},
     "output_type": "execute_result"
    }
   ],
   "source": [
    "print(fisher_exact(results['conf_mat']))\n",
    "results['conf_mat']"
   ]
  },
  {
   "cell_type": "markdown",
   "metadata": {},
   "source": [
    "### Presence/absence of bal-oropharynx OTUs in BAL"
   ]
  },
  {
   "cell_type": "code",
   "execution_count": 20,
   "metadata": {
    "collapsed": true
   },
   "outputs": [],
   "source": [
    "X_pres = (X > 0).astype(int)\n",
    "rf = RandomForestClassifier(n_estimators=1000, random_state=random_state)\n",
    "\n",
    "results = cv_and_roc(rf, X_pres, Y, random_state=random_state)"
   ]
  },
  {
   "cell_type": "code",
   "execution_count": 21,
   "metadata": {
    "collapsed": false
   },
   "outputs": [
    {
     "data": {
      "text/plain": [
       "0.69611111111111112"
      ]
     },
     "execution_count": 21,
     "metadata": {},
     "output_type": "execute_result"
    }
   ],
   "source": [
    "np.mean(results['auc_list'])"
   ]
  },
  {
   "cell_type": "code",
   "execution_count": 22,
   "metadata": {
    "collapsed": false
   },
   "outputs": [
    {
     "name": "stdout",
     "output_type": "stream",
     "text": [
      "(4.615384615384615, 0.013241431261106402)\n"
     ]
    },
    {
     "data": {
      "text/html": [
       "<div>\n",
       "<style scoped>\n",
       "    .dataframe tbody tr th:only-of-type {\n",
       "        vertical-align: middle;\n",
       "    }\n",
       "\n",
       "    .dataframe tbody tr th {\n",
       "        vertical-align: top;\n",
       "    }\n",
       "\n",
       "    .dataframe thead th {\n",
       "        text-align: right;\n",
       "    }\n",
       "</style>\n",
       "<table border=\"1\" class=\"dataframe\">\n",
       "  <thead>\n",
       "    <tr style=\"text-align: right;\">\n",
       "      <th></th>\n",
       "      <th>pred 0</th>\n",
       "      <th>pred 1</th>\n",
       "    </tr>\n",
       "  </thead>\n",
       "  <tbody>\n",
       "    <tr>\n",
       "      <th>true 0</th>\n",
       "      <td>24</td>\n",
       "      <td>6</td>\n",
       "    </tr>\n",
       "    <tr>\n",
       "      <th>true 1</th>\n",
       "      <td>13</td>\n",
       "      <td>15</td>\n",
       "    </tr>\n",
       "  </tbody>\n",
       "</table>\n",
       "</div>"
      ],
      "text/plain": [
       "        pred 0  pred 1\n",
       "true 0      24       6\n",
       "true 1      13      15"
      ]
     },
     "execution_count": 22,
     "metadata": {},
     "output_type": "execute_result"
    }
   ],
   "source": [
    "print(fisher_exact(results['conf_mat']))\n",
    "results['conf_mat']"
   ]
  },
  {
   "cell_type": "markdown",
   "metadata": {},
   "source": [
    "## Asp vs. non-asp, oropharyngeal microbiome, bal-throat exchanged OTUs only"
   ]
  },
  {
   "cell_type": "code",
   "execution_count": 23,
   "metadata": {
    "collapsed": true
   },
   "outputs": [],
   "source": [
    "# Throat samples only, bal-throat OTUs only\n",
    "h_smpls = meta\\\n",
    "    .query('subject_id == @h_subjs')\\\n",
    "    .query('site == \"throat_swab\"')\\\n",
    "    .index.tolist()\n",
    "asp_smpls = meta\\\n",
    "    .query('subject_id == @asp_subjs')\\\n",
    "    .query('site == \"throat_swab\"')\\\n",
    "    .index.tolist()\n",
    "\n",
    "X = otu.loc[h_smpls + asp_smpls, :]\n",
    "Y = [aspdict[meta.loc[i, 'mbs_consolidated']] for i in X.index]\n",
    "X = X.values\n",
    "\n",
    "rf = RandomForestClassifier(n_estimators=1000, random_state=random_state)\n",
    "results = cv_and_roc(rf, X, Y, random_state=random_state)"
   ]
  },
  {
   "cell_type": "code",
   "execution_count": 24,
   "metadata": {
    "collapsed": false
   },
   "outputs": [
    {
     "data": {
      "text/plain": [
       "0.53722222222222227"
      ]
     },
     "execution_count": 24,
     "metadata": {},
     "output_type": "execute_result"
    }
   ],
   "source": [
    "# Mean AUC\n",
    "np.mean(results['auc_list'])"
   ]
  },
  {
   "cell_type": "code",
   "execution_count": 25,
   "metadata": {
    "collapsed": false
   },
   "outputs": [
    {
     "name": "stdout",
     "output_type": "stream",
     "text": [
      "(1.1176470588235294, 1.0)\n"
     ]
    },
    {
     "data": {
      "text/html": [
       "<div>\n",
       "<style scoped>\n",
       "    .dataframe tbody tr th:only-of-type {\n",
       "        vertical-align: middle;\n",
       "    }\n",
       "\n",
       "    .dataframe tbody tr th {\n",
       "        vertical-align: top;\n",
       "    }\n",
       "\n",
       "    .dataframe thead th {\n",
       "        text-align: right;\n",
       "    }\n",
       "</style>\n",
       "<table border=\"1\" class=\"dataframe\">\n",
       "  <thead>\n",
       "    <tr style=\"text-align: right;\">\n",
       "      <th></th>\n",
       "      <th>pred 0</th>\n",
       "      <th>pred 1</th>\n",
       "    </tr>\n",
       "  </thead>\n",
       "  <tbody>\n",
       "    <tr>\n",
       "      <th>true 0</th>\n",
       "      <td>19</td>\n",
       "      <td>11</td>\n",
       "    </tr>\n",
       "    <tr>\n",
       "      <th>true 1</th>\n",
       "      <td>17</td>\n",
       "      <td>11</td>\n",
       "    </tr>\n",
       "  </tbody>\n",
       "</table>\n",
       "</div>"
      ],
      "text/plain": [
       "        pred 0  pred 1\n",
       "true 0      19      11\n",
       "true 1      17      11"
      ]
     },
     "execution_count": 25,
     "metadata": {},
     "output_type": "execute_result"
    }
   ],
   "source": [
    "print(fisher_exact(results['conf_mat']))\n",
    "results['conf_mat']"
   ]
  },
  {
   "cell_type": "markdown",
   "metadata": {},
   "source": [
    "### Presence/absence of bal-oropharyngeal OTUs in oropharynx"
   ]
  },
  {
   "cell_type": "code",
   "execution_count": 26,
   "metadata": {
    "collapsed": false
   },
   "outputs": [],
   "source": [
    "X_pres = (X > 0).astype(int)\n",
    "rf = RandomForestClassifier(n_estimators=1000, random_state=random_state)\n",
    "\n",
    "results = cv_and_roc(rf, X_pres, Y, random_state=random_state)"
   ]
  },
  {
   "cell_type": "code",
   "execution_count": 27,
   "metadata": {
    "collapsed": false
   },
   "outputs": [
    {
     "data": {
      "text/plain": [
       "0.47055555555555556"
      ]
     },
     "execution_count": 27,
     "metadata": {},
     "output_type": "execute_result"
    }
   ],
   "source": [
    "np.mean(results['auc_list'])"
   ]
  },
  {
   "cell_type": "code",
   "execution_count": 28,
   "metadata": {
    "collapsed": false
   },
   "outputs": [
    {
     "name": "stdout",
     "output_type": "stream",
     "text": [
      "(0.65625, 0.44517969106540722)\n"
     ]
    },
    {
     "data": {
      "text/html": [
       "<div>\n",
       "<style scoped>\n",
       "    .dataframe tbody tr th:only-of-type {\n",
       "        vertical-align: middle;\n",
       "    }\n",
       "\n",
       "    .dataframe tbody tr th {\n",
       "        vertical-align: top;\n",
       "    }\n",
       "\n",
       "    .dataframe thead th {\n",
       "        text-align: right;\n",
       "    }\n",
       "</style>\n",
       "<table border=\"1\" class=\"dataframe\">\n",
       "  <thead>\n",
       "    <tr style=\"text-align: right;\">\n",
       "      <th></th>\n",
       "      <th>pred 0</th>\n",
       "      <th>pred 1</th>\n",
       "    </tr>\n",
       "  </thead>\n",
       "  <tbody>\n",
       "    <tr>\n",
       "      <th>true 0</th>\n",
       "      <td>14</td>\n",
       "      <td>16</td>\n",
       "    </tr>\n",
       "    <tr>\n",
       "      <th>true 1</th>\n",
       "      <td>16</td>\n",
       "      <td>12</td>\n",
       "    </tr>\n",
       "  </tbody>\n",
       "</table>\n",
       "</div>"
      ],
      "text/plain": [
       "        pred 0  pred 1\n",
       "true 0      14      16\n",
       "true 1      16      12"
      ]
     },
     "execution_count": 28,
     "metadata": {},
     "output_type": "execute_result"
    }
   ],
   "source": [
    "print(fisher_exact(results['conf_mat']))\n",
    "results['conf_mat']"
   ]
  },
  {
   "cell_type": "markdown",
   "metadata": {},
   "source": [
    "## Asp vs. non-asp, BAL and oropharyngeal microbiomes, bal-throat exchanged OTUs only"
   ]
  },
  {
   "cell_type": "code",
   "execution_count": 29,
   "metadata": {
    "collapsed": false
   },
   "outputs": [
    {
     "name": "stdout",
     "output_type": "stream",
     "text": [
      "Tidying data... \n",
      "Finished.\n"
     ]
    }
   ],
   "source": [
    "mbscol = 'mbs_consolidated'\n",
    "tidyotu = tidyfy_otu(otu, meta, mbscol)\n",
    "\n",
    "site1 = 'bal'\n",
    "site2 = 'throat_swab'\n",
    "tmpotu = tidyotu.query('(site == @site1) | (site == @site2)')\\\n",
    "            .dropna(subset=[mbscol])\\\n",
    "            .pivot(index='subject_id', columns='otu_w_site',\n",
    "                   values='abun')\\\n",
    "            .dropna()"
   ]
  },
  {
   "cell_type": "code",
   "execution_count": 30,
   "metadata": {
    "collapsed": false
   },
   "outputs": [],
   "source": [
    "# Note: using how='inner' preserves the order of the left keys, so this new tmpmeta\n",
    "# is in the same order as my OTU table\n",
    "tmpmeta = pd.merge(tmpotu, meta[['subject_id', 'mbs_consolidated']].drop_duplicates(),  \n",
    "                   left_index=True, right_on='subject_id',\n",
    "                   how='inner')"
   ]
  },
  {
   "cell_type": "code",
   "execution_count": 31,
   "metadata": {
    "collapsed": false
   },
   "outputs": [
    {
     "data": {
      "text/plain": [
       "array([ True,  True,  True,  True,  True,  True,  True,  True,  True,\n",
       "        True,  True,  True,  True,  True,  True,  True,  True,  True,\n",
       "        True,  True,  True,  True,  True,  True,  True,  True,  True,\n",
       "        True,  True,  True,  True,  True,  True,  True,  True,  True,\n",
       "        True,  True,  True,  True,  True,  True,  True,  True,  True,\n",
       "        True,  True,  True,  True,  True,  True,  True,  True,  True,\n",
       "        True,  True,  True,  True], dtype=bool)"
      ]
     },
     "execution_count": 31,
     "metadata": {},
     "output_type": "execute_result"
    }
   ],
   "source": [
    "# Sanity check that labels will match order of samples in OTU table\n",
    "tmpotu.index == tmpmeta['subject_id'].values"
   ]
  },
  {
   "cell_type": "code",
   "execution_count": 32,
   "metadata": {
    "collapsed": false
   },
   "outputs": [],
   "source": [
    "X = tmpotu.values\n",
    "Y = [aspdict[i] for i in tmpmeta['mbs_consolidated']]"
   ]
  },
  {
   "cell_type": "code",
   "execution_count": 33,
   "metadata": {
    "collapsed": true
   },
   "outputs": [],
   "source": [
    "rf = RandomForestClassifier(n_estimators=1000, random_state=random_state)\n",
    "results = cv_and_roc(rf, X, Y, random_state=random_state)"
   ]
  },
  {
   "cell_type": "code",
   "execution_count": 34,
   "metadata": {
    "collapsed": false
   },
   "outputs": [
    {
     "data": {
      "text/plain": [
       "0.51888888888888896"
      ]
     },
     "execution_count": 34,
     "metadata": {},
     "output_type": "execute_result"
    }
   ],
   "source": [
    "np.mean(results['auc_list'])"
   ]
  },
  {
   "cell_type": "code",
   "execution_count": 35,
   "metadata": {
    "collapsed": false
   },
   "outputs": [
    {
     "name": "stdout",
     "output_type": "stream",
     "text": [
      "(0.95959595959595956, 1.0)\n"
     ]
    },
    {
     "data": {
      "text/html": [
       "<div>\n",
       "<style scoped>\n",
       "    .dataframe tbody tr th:only-of-type {\n",
       "        vertical-align: middle;\n",
       "    }\n",
       "\n",
       "    .dataframe tbody tr th {\n",
       "        vertical-align: top;\n",
       "    }\n",
       "\n",
       "    .dataframe thead th {\n",
       "        text-align: right;\n",
       "    }\n",
       "</style>\n",
       "<table border=\"1\" class=\"dataframe\">\n",
       "  <thead>\n",
       "    <tr style=\"text-align: right;\">\n",
       "      <th></th>\n",
       "      <th>pred 0</th>\n",
       "      <th>pred 1</th>\n",
       "    </tr>\n",
       "  </thead>\n",
       "  <tbody>\n",
       "    <tr>\n",
       "      <th>true 0</th>\n",
       "      <td>19</td>\n",
       "      <td>11</td>\n",
       "    </tr>\n",
       "    <tr>\n",
       "      <th>true 1</th>\n",
       "      <td>18</td>\n",
       "      <td>10</td>\n",
       "    </tr>\n",
       "  </tbody>\n",
       "</table>\n",
       "</div>"
      ],
      "text/plain": [
       "        pred 0  pred 1\n",
       "true 0      19      11\n",
       "true 1      18      10"
      ]
     },
     "execution_count": 35,
     "metadata": {},
     "output_type": "execute_result"
    }
   ],
   "source": [
    "print(fisher_exact(results['conf_mat']))\n",
    "results['conf_mat']"
   ]
  },
  {
   "cell_type": "markdown",
   "metadata": {},
   "source": [
    "### Presence/absence of bal-oropharyngeal OTUs in both BAL and oropharynx"
   ]
  },
  {
   "cell_type": "code",
   "execution_count": 36,
   "metadata": {
    "collapsed": true
   },
   "outputs": [],
   "source": [
    "X_pres = (X > 0).astype(int)\n",
    "\n",
    "rf = RandomForestClassifier(n_estimators=1000, random_state=random_state)\n",
    "\n",
    "results = cv_and_roc(rf, X_pres, Y, random_state=random_state)"
   ]
  },
  {
   "cell_type": "code",
   "execution_count": 37,
   "metadata": {
    "collapsed": false
   },
   "outputs": [
    {
     "data": {
      "text/plain": [
       "0.61333333333333329"
      ]
     },
     "execution_count": 37,
     "metadata": {},
     "output_type": "execute_result"
    }
   ],
   "source": [
    "np.mean(results['auc_list'])"
   ]
  },
  {
   "cell_type": "code",
   "execution_count": 38,
   "metadata": {
    "collapsed": false
   },
   "outputs": [
    {
     "name": "stdout",
     "output_type": "stream",
     "text": [
      "(1.1538461538461537, 0.7992823530053087)\n"
     ]
    },
    {
     "data": {
      "text/html": [
       "<div>\n",
       "<style scoped>\n",
       "    .dataframe tbody tr th:only-of-type {\n",
       "        vertical-align: middle;\n",
       "    }\n",
       "\n",
       "    .dataframe tbody tr th {\n",
       "        vertical-align: top;\n",
       "    }\n",
       "\n",
       "    .dataframe thead th {\n",
       "        text-align: right;\n",
       "    }\n",
       "</style>\n",
       "<table border=\"1\" class=\"dataframe\">\n",
       "  <thead>\n",
       "    <tr style=\"text-align: right;\">\n",
       "      <th></th>\n",
       "      <th>pred 0</th>\n",
       "      <th>pred 1</th>\n",
       "    </tr>\n",
       "  </thead>\n",
       "  <tbody>\n",
       "    <tr>\n",
       "      <th>true 0</th>\n",
       "      <td>15</td>\n",
       "      <td>15</td>\n",
       "    </tr>\n",
       "    <tr>\n",
       "      <th>true 1</th>\n",
       "      <td>13</td>\n",
       "      <td>15</td>\n",
       "    </tr>\n",
       "  </tbody>\n",
       "</table>\n",
       "</div>"
      ],
      "text/plain": [
       "        pred 0  pred 1\n",
       "true 0      15      15\n",
       "true 1      13      15"
      ]
     },
     "execution_count": 38,
     "metadata": {},
     "output_type": "execute_result"
    }
   ],
   "source": [
    "print(fisher_exact(results['conf_mat']))\n",
    "results['conf_mat']"
   ]
  },
  {
   "cell_type": "markdown",
   "metadata": {},
   "source": [
    "# Aspiration classifiers based on gastric-BAL exchanged OTUs\n",
    "\n",
    "Basically repeat all the classifiers on the gastric and BAL exchange OTUs"
   ]
  },
  {
   "cell_type": "code",
   "execution_count": 39,
   "metadata": {
    "collapsed": false
   },
   "outputs": [
    {
     "name": "stdout",
     "output_type": "stream",
     "text": [
      "((96, 6), (48,))\n"
     ]
    },
    {
     "data": {
      "text/html": [
       "<div>\n",
       "<style scoped>\n",
       "    .dataframe tbody tr th:only-of-type {\n",
       "        vertical-align: middle;\n",
       "    }\n",
       "\n",
       "    .dataframe tbody tr th {\n",
       "        vertical-align: top;\n",
       "    }\n",
       "\n",
       "    .dataframe thead th {\n",
       "        text-align: right;\n",
       "    }\n",
       "</style>\n",
       "<table border=\"1\" class=\"dataframe\">\n",
       "  <thead>\n",
       "    <tr style=\"text-align: right;\">\n",
       "      <th>meta_val</th>\n",
       "      <th>Aspiration/Penetration</th>\n",
       "      <th>Normal</th>\n",
       "      <th>asp_minus_nml</th>\n",
       "    </tr>\n",
       "    <tr>\n",
       "      <th>otu</th>\n",
       "      <th></th>\n",
       "      <th></th>\n",
       "      <th></th>\n",
       "    </tr>\n",
       "  </thead>\n",
       "  <tbody>\n",
       "    <tr>\n",
       "      <th>k__Bacteria;p__Proteobacteria;c__Gammaproteobacteria;o__Pasteurellales;f__Pasteurellaceae;g__Haemophilus;s__;d__denovo3</th>\n",
       "      <td>0.78125</td>\n",
       "      <td>0.439024</td>\n",
       "      <td>0.342226</td>\n",
       "    </tr>\n",
       "    <tr>\n",
       "      <th>k__Bacteria;p__Proteobacteria;c__Betaproteobacteria;o__Neisseriales;f__Neisseriaceae;g__Neisseria;s__;d__denovo124</th>\n",
       "      <td>0.37500</td>\n",
       "      <td>0.048780</td>\n",
       "      <td>0.326220</td>\n",
       "    </tr>\n",
       "    <tr>\n",
       "      <th>k__Bacteria;p__Firmicutes;c__Clostridia;o__Clostridiales;f__Lachnospiraceae;g__Coprococcus;s__;d__denovo216</th>\n",
       "      <td>0.34375</td>\n",
       "      <td>0.073171</td>\n",
       "      <td>0.270579</td>\n",
       "    </tr>\n",
       "    <tr>\n",
       "      <th>k__Bacteria;p__Proteobacteria;c__Gammaproteobacteria;o__Pasteurellales;f__Pasteurellaceae;g__Haemophilus;s__;d__denovo7</th>\n",
       "      <td>0.78125</td>\n",
       "      <td>0.512195</td>\n",
       "      <td>0.269055</td>\n",
       "    </tr>\n",
       "    <tr>\n",
       "      <th>k__Bacteria;p__Proteobacteria;c__Betaproteobacteria;o__Neisseriales;f__Neisseriaceae;g__Neisseria;s__;d__denovo5</th>\n",
       "      <td>0.75000</td>\n",
       "      <td>0.487805</td>\n",
       "      <td>0.262195</td>\n",
       "    </tr>\n",
       "    <tr>\n",
       "      <th>k__Bacteria;p__Bacteroidetes;c__Bacteroidia;o__Bacteroidales;f__Prevotellaceae;g__;s__;d__denovo10</th>\n",
       "      <td>0.65625</td>\n",
       "      <td>0.414634</td>\n",
       "      <td>0.241616</td>\n",
       "    </tr>\n",
       "    <tr>\n",
       "      <th>k__Bacteria;p__Firmicutes;c__Bacilli;o__Lactobacillales;f__Streptococcaceae;g__Streptococcus;s__;d__denovo17</th>\n",
       "      <td>0.59375</td>\n",
       "      <td>0.365854</td>\n",
       "      <td>0.227896</td>\n",
       "    </tr>\n",
       "    <tr>\n",
       "      <th>k__Bacteria;p__Bacteroidetes;c__Bacteroidia;o__Bacteroidales;f__Prevotellaceae;g__Prevotella;s__;d__denovo18</th>\n",
       "      <td>0.53125</td>\n",
       "      <td>0.317073</td>\n",
       "      <td>0.214177</td>\n",
       "    </tr>\n",
       "    <tr>\n",
       "      <th>k__Bacteria;p__Fusobacteria;c__Fusobacteriia;o__Fusobacteriales;f__Fusobacteriaceae;g__Fusobacterium;s__;d__denovo8</th>\n",
       "      <td>0.59375</td>\n",
       "      <td>0.390244</td>\n",
       "      <td>0.203506</td>\n",
       "    </tr>\n",
       "    <tr>\n",
       "      <th>k__Bacteria;p__Firmicutes;c__Negativicutes;o__Selenomonadales;f__Veillonellaceae;g__Veillonella;s__;d__denovo56</th>\n",
       "      <td>0.46875</td>\n",
       "      <td>0.268293</td>\n",
       "      <td>0.200457</td>\n",
       "    </tr>\n",
       "  </tbody>\n",
       "</table>\n",
       "</div>"
      ],
      "text/plain": [
       "meta_val                                            Aspiration/Penetration  \\\n",
       "otu                                                                          \n",
       "k__Bacteria;p__Proteobacteria;c__Gammaproteobac...                 0.78125   \n",
       "k__Bacteria;p__Proteobacteria;c__Betaproteobact...                 0.37500   \n",
       "k__Bacteria;p__Firmicutes;c__Clostridia;o__Clos...                 0.34375   \n",
       "k__Bacteria;p__Proteobacteria;c__Gammaproteobac...                 0.78125   \n",
       "k__Bacteria;p__Proteobacteria;c__Betaproteobact...                 0.75000   \n",
       "k__Bacteria;p__Bacteroidetes;c__Bacteroidia;o__...                 0.65625   \n",
       "k__Bacteria;p__Firmicutes;c__Bacilli;o__Lactoba...                 0.59375   \n",
       "k__Bacteria;p__Bacteroidetes;c__Bacteroidia;o__...                 0.53125   \n",
       "k__Bacteria;p__Fusobacteria;c__Fusobacteriia;o_...                 0.59375   \n",
       "k__Bacteria;p__Firmicutes;c__Negativicutes;o__S...                 0.46875   \n",
       "\n",
       "meta_val                                              Normal  asp_minus_nml  \n",
       "otu                                                                          \n",
       "k__Bacteria;p__Proteobacteria;c__Gammaproteobac...  0.439024       0.342226  \n",
       "k__Bacteria;p__Proteobacteria;c__Betaproteobact...  0.048780       0.326220  \n",
       "k__Bacteria;p__Firmicutes;c__Clostridia;o__Clos...  0.073171       0.270579  \n",
       "k__Bacteria;p__Proteobacteria;c__Gammaproteobac...  0.512195       0.269055  \n",
       "k__Bacteria;p__Proteobacteria;c__Betaproteobact...  0.487805       0.262195  \n",
       "k__Bacteria;p__Bacteroidetes;c__Bacteroidia;o__...  0.414634       0.241616  \n",
       "k__Bacteria;p__Firmicutes;c__Bacilli;o__Lactoba...  0.365854       0.227896  \n",
       "k__Bacteria;p__Bacteroidetes;c__Bacteroidia;o__...  0.317073       0.214177  \n",
       "k__Bacteria;p__Fusobacteria;c__Fusobacteriia;o_...  0.390244       0.203506  \n",
       "k__Bacteria;p__Firmicutes;c__Negativicutes;o__S...  0.268293       0.200457  "
      ]
     },
     "execution_count": 39,
     "metadata": {},
     "output_type": "execute_result"
    }
   ],
   "source": [
    "## First, look at the most differentially exchange bugs\n",
    "fpreva = '../../data/analysis/prevalence.partial_corrs.nthresh10-qthresh01-rthresh0.txt'\n",
    "preva = pd.read_csv(fpreva, sep='\\t')\n",
    "\n",
    "# Let's look just at the aspirator vs. non-aspirator comparisons\n",
    "preva = preva.query('meta_var == \"mbs_consolidated\"')\n",
    "\n",
    "# And just the bal-throat_swab comparison\n",
    "preva = preva.query('site_comparison == \"bal-gastric_fluid\"')\n",
    "\n",
    "print(preva.shape, preva['otu'].unique().shape)\n",
    "\n",
    "# Pivot to get differential prevalence\n",
    "diffpreva = preva.pivot(index='otu', columns='meta_val', values='prevalence_exchange')\n",
    "\n",
    "# Sort values by differential prevalence in aspirators\n",
    "diffpreva['asp_minus_nml'] = diffpreva['Aspiration/Penetration'] - diffpreva['Normal']\n",
    "#diffpreva['abs_diff'] = abs(diffpreva['asp_minus_nml'])\n",
    "diffpreva.sort_values(by='asp_minus_nml', ascending=False).head(10)"
   ]
  },
  {
   "cell_type": "code",
   "execution_count": 40,
   "metadata": {
    "collapsed": false
   },
   "outputs": [
    {
     "data": {
      "text/html": [
       "<div>\n",
       "<style scoped>\n",
       "    .dataframe tbody tr th:only-of-type {\n",
       "        vertical-align: middle;\n",
       "    }\n",
       "\n",
       "    .dataframe tbody tr th {\n",
       "        vertical-align: top;\n",
       "    }\n",
       "\n",
       "    .dataframe thead th {\n",
       "        text-align: right;\n",
       "    }\n",
       "</style>\n",
       "<table border=\"1\" class=\"dataframe\">\n",
       "  <thead>\n",
       "    <tr style=\"text-align: right;\">\n",
       "      <th></th>\n",
       "      <th>meta_val</th>\n",
       "      <th>n_patients</th>\n",
       "    </tr>\n",
       "  </thead>\n",
       "  <tbody>\n",
       "    <tr>\n",
       "      <th>48</th>\n",
       "      <td>Aspiration/Penetration</td>\n",
       "      <td>32</td>\n",
       "    </tr>\n",
       "    <tr>\n",
       "      <th>96</th>\n",
       "      <td>Normal</td>\n",
       "      <td>41</td>\n",
       "    </tr>\n",
       "  </tbody>\n",
       "</table>\n",
       "</div>"
      ],
      "text/plain": [
       "                  meta_val  n_patients\n",
       "48  Aspiration/Penetration          32\n",
       "96                  Normal          41"
      ]
     },
     "execution_count": 40,
     "metadata": {},
     "output_type": "execute_result"
    }
   ],
   "source": [
    "# Just as a reminder... how many patients were used for these prevalence calcs?\n",
    "preva[['meta_val', 'n_patients']].drop_duplicates()"
   ]
  },
  {
   "cell_type": "markdown",
   "metadata": {},
   "source": [
    "For the paper, I'll just show these in the supplement."
   ]
  },
  {
   "cell_type": "code",
   "execution_count": 41,
   "metadata": {
    "collapsed": false
   },
   "outputs": [
    {
     "name": "stdout",
     "output_type": "stream",
     "text": [
      "Pasteurellaceae & Haemophilus & 78.1 & 43.9 & 34.2 \\\\ \n",
      "Neisseriaceae & Neisseria & 37.5 & 4.9 & 32.6 \\\\ \n",
      "Lachnospiraceae & Coprococcus & 34.4 & 7.3 & 27.1 \\\\ \n",
      "Pasteurellaceae & Haemophilus & 78.1 & 51.2 & 26.9 \\\\ \n",
      "Neisseriaceae & Neisseria & 75.0 & 48.8 & 26.2 \\\\ \n",
      "Prevotellaceae &  & 65.6 & 41.5 & 24.2 \\\\ \n",
      "Streptococcaceae & Streptococcus & 59.4 & 36.6 & 22.8 \\\\ \n",
      "Prevotellaceae & Prevotella & 53.1 & 31.7 & 21.4 \\\\ \n",
      "Fusobacteriaceae & Fusobacterium & 59.4 & 39.0 & 20.4 \\\\ \n",
      "Veillonellaceae & Veillonella & 46.9 & 26.8 & 20.0 \\\\ \n",
      "Prevotellaceae & Prevotella & 34.4 & 14.6 & 19.7 \\\\ \n",
      "Lachnospiraceae & Oribacterium & 34.4 & 14.6 & 19.7 \\\\ \n",
      "Flavobacteriaceae & Planobacterium & 28.1 & 9.8 & 18.4 \\\\ \n",
      "Veillonellaceae & Veillonella & 46.9 & 29.3 & 17.6 \\\\ \n",
      "Streptococcaceae & Streptococcus & 56.2 & 39.0 & 17.2 \\\\ \n",
      "Moraxellaceae & Moraxella & 43.8 & 26.8 & 16.9 \\\\ \n",
      "Erysipelotrichaceae & Solobacterium & 31.2 & 14.6 & 16.6 \\\\ \n",
      "Prevotellaceae & Prevotella & 59.4 & 43.9 & 15.5 \\\\ \n",
      "Micrococcaceae & Rothia & 53.1 & 39.0 & 14.1 \\\\ \n",
      "Pasteurellaceae & Haemophilus & 40.6 & 26.8 & 13.8 \\\\ \n",
      "Actinomycetaceae & Actinomyces & 25.0 & 12.2 & 12.8 \\\\ \n",
      "Fusobacteriaceae & Fusobacterium & 31.2 & 19.5 & 11.7 \\\\ \n",
      "Unknown Burkholderiales &  & 18.8 & 7.3 & 11.4 \\\\ \n",
      "Streptococcaceae & Streptococcus & 84.4 & 73.2 & 11.2 \\\\ \n",
      "Comamonadaceae & Comamonas & 15.6 & 4.9 & 10.7 \\\\ \n",
      "Prevotellaceae & Prevotella & 71.9 & 63.4 & 8.5 \\\\ \n",
      "Aerococcaceae & Abiotrophia & 12.5 & 4.9 & 7.6 \\\\ \n",
      "Actinomycetaceae & Actinomyces & 21.9 & 14.6 & 7.2 \\\\ \n",
      "Bacteroidaceae & Bacteroides & 21.9 & 14.6 & 7.2 \\\\ \n",
      "Veillonellaceae & Veillonella & 87.5 & 80.5 & 7.0 \\\\ \n",
      "Fusobacteriaceae & Fusobacterium & 18.8 & 12.2 & 6.6 \\\\ \n",
      "Enterococcaceae &  & 84.4 & 78.0 & 6.3 \\\\ \n",
      "Coriobacteriaceae & Atopobium & 21.9 & 19.5 & 2.4 \\\\ \n",
      "Chloroplast & Streptophyta & 6.2 & 7.3 & -1.1 \\\\ \n",
      "Pasteurellaceae & Haemophilus & 21.9 & 24.4 & -2.5 \\\\ \n",
      "Unknown Bacteria &  & 18.8 & 22.0 & -3.2 \\\\ \n",
      "Porphyromonadaceae & Parabacteroides & 6.2 & 14.6 & -8.4 \\\\ \n",
      "Erysipelotrichaceae & Clostridium\\_XVIII & 3.1 & 14.6 & -11.5 \\\\ \n",
      "Lachnospiraceae & Ruminococcus2 & 6.2 & 19.5 & -13.3 \\\\ \n",
      "Staphylococcaceae & Staphylococcus & 43.8 & 58.5 & -14.8 \\\\ \n",
      "Moraxellaceae & Acinetobacter & 37.5 & 53.7 & -16.2 \\\\ \n",
      "Enterobacteriaceae & Enterobacter & 62.5 & 80.5 & -18.0 \\\\ \n",
      "Unknown Bacillales &  & 28.1 & 46.3 & -18.2 \\\\ \n",
      "Lactobacillaceae & Lactobacillus & 18.8 & 39.0 & -20.3 \\\\ \n",
      "Moraxellaceae & Acinetobacter & 40.6 & 61.0 & -20.4 \\\\ \n",
      "Bacteroidaceae & Bacteroides & 25.0 & 48.8 & -23.8 \\\\ \n",
      "Moraxellaceae & Acinetobacter & 43.8 & 73.2 & -29.4 \\\\ \n",
      "Leuconostocaceae & Leuconostoc & 40.6 & 73.2 & -32.5 \\\\ \n"
     ]
    }
   ],
   "source": [
    "## Do some text manipulations to print these values out in latex table format\n",
    "table = pd.concat((diffpreva.reset_index(), diffpreva.reset_index()['otu'].str.split(';', expand=True)), axis=1)\n",
    "\n",
    "# Split OTU names to individual phyla\n",
    "# Prettify results\n",
    "table['family'] = table[4].str.split('f__').str[1]\n",
    "table['genus'] = table[5].str.split('g__').str[1]\n",
    "\n",
    "# Fill in empty families with order\n",
    "table['family'] = table['family'].where(table['family'] != '', \"Unknown \" + table[3].str.split('o__').str[1])\n",
    "# Fill in empty orders with \"Unkown bacteria\" (I checked manually that this one is unannotated all the way)\n",
    "table['family'] = table['family'].where(table['family'] != 'Unknown ', \"Unknown Bacteria\")\n",
    "\n",
    "# Re-format percentages\n",
    "table['Aspiration/Penetration'] = table['Aspiration/Penetration'].apply(lambda x: '{:.1f}'.format(x*100))\n",
    "table['Normal'] = table['Normal'].apply(lambda x: '{:.1f}'.format(x*100))\n",
    "table['Difference'] = table['asp_minus_nml'].apply(lambda x: '{:.1f}'.format(x*100))\n",
    "\n",
    "table = table.sort_values(by='asp_minus_nml', ascending=False)\n",
    "\n",
    "col_order = ['family', 'genus', 'Aspiration/Penetration', 'Normal', 'Difference']\n",
    "table = table[col_order]\n",
    "print('\\n'.join(table.apply(convert_to_latex, axis=1)))"
   ]
  },
  {
   "cell_type": "markdown",
   "metadata": {},
   "source": [
    "## Asp vs. non-asp, BAL microbiome, gastric-BAL OTUs"
   ]
  },
  {
   "cell_type": "code",
   "execution_count": 42,
   "metadata": {
    "collapsed": true
   },
   "outputs": [],
   "source": [
    "fotu = '../../data/clean/rosen.otu_table.rel_abun.clean'\n",
    "fmeta = '../../data/clean/rosen.metadata.clean'\n",
    "\n",
    "otu = pd.read_csv(fotu, sep='\\t', index_col=0)\n",
    "meta = pd.read_csv(fmeta, sep='\\t', index_col=0)\n",
    "\n",
    "# Keep gastric-BAL OTUs only\n",
    "keepotus = diffpreva.index.tolist()\n",
    "otu = otu[keepotus]\n",
    "\n",
    "# Grab patients with both BAL and gastric fluid, and aspiration status\n",
    "sites = ['bal', 'gastric_fluid']\n",
    "patientsamples = meta\\\n",
    "    .query('site == @sites')\\\n",
    "    .dropna(subset=['mbs_consolidated'])\\\n",
    "    .groupby(['mbs_consolidated', 'site', 'subject_id'])\\\n",
    "    .size()\\\n",
    "    .to_frame('n_samples')\\\n",
    "    .reset_index()\\\n",
    "    .groupby(['subject_id', 'mbs_consolidated'])\\\n",
    "    .size()\\\n",
    "    .to_frame('n_samples')\\\n",
    "    .reset_index()\n",
    "patientsamples = patientsamples.query('n_samples == 2')\n",
    "\n",
    "# Get separate lists for normal and aspirator *subjects*\n",
    "h_subjs = patientsamples\\\n",
    "    .query('mbs_consolidated == \"Normal\"')\\\n",
    "    ['subject_id'].tolist()\n",
    "    \n",
    "asp_subjs = patientsamples\\\n",
    "    .query('mbs_consolidated == \"Aspiration/Penetration\"')\\\n",
    "    ['subject_id'].tolist()\n",
    "\n",
    "# Get healthy and aspirators BAL samples\n",
    "h_smpls = meta\\\n",
    "    .query('subject_id == @h_subjs')\\\n",
    "    .query('site == \"bal\"')\\\n",
    "    .index.tolist()\n",
    "asp_smpls = meta\\\n",
    "    .query('subject_id == @asp_subjs')\\\n",
    "    .query('site == \"bal\"').index.tolist()\n",
    "\n",
    "# Prepare data for classifiers\n",
    "X = otu.loc[h_smpls + asp_smpls, :]\n",
    "Y = [aspdict[meta.loc[i, 'mbs_consolidated']] for i in X.index]\n",
    "X = X.values"
   ]
  },
  {
   "cell_type": "code",
   "execution_count": 43,
   "metadata": {
    "collapsed": false
   },
   "outputs": [
    {
     "name": "stdout",
     "output_type": "stream",
     "text": [
      "AUC: 0.68630952381\n",
      "(3.5064935064935066, 0.015843142725102399)\n"
     ]
    },
    {
     "data": {
      "text/html": [
       "<div>\n",
       "<style scoped>\n",
       "    .dataframe tbody tr th:only-of-type {\n",
       "        vertical-align: middle;\n",
       "    }\n",
       "\n",
       "    .dataframe tbody tr th {\n",
       "        vertical-align: top;\n",
       "    }\n",
       "\n",
       "    .dataframe thead th {\n",
       "        text-align: right;\n",
       "    }\n",
       "</style>\n",
       "<table border=\"1\" class=\"dataframe\">\n",
       "  <thead>\n",
       "    <tr style=\"text-align: right;\">\n",
       "      <th></th>\n",
       "      <th>pred 0</th>\n",
       "      <th>pred 1</th>\n",
       "    </tr>\n",
       "  </thead>\n",
       "  <tbody>\n",
       "    <tr>\n",
       "      <th>true 0</th>\n",
       "      <td>30</td>\n",
       "      <td>11</td>\n",
       "    </tr>\n",
       "    <tr>\n",
       "      <th>true 1</th>\n",
       "      <td>14</td>\n",
       "      <td>18</td>\n",
       "    </tr>\n",
       "  </tbody>\n",
       "</table>\n",
       "</div>"
      ],
      "text/plain": [
       "        pred 0  pred 1\n",
       "true 0      30      11\n",
       "true 1      14      18"
      ]
     },
     "execution_count": 43,
     "metadata": {},
     "output_type": "execute_result"
    },
    {
     "data": {
      "image/png": "[encoded data removed]",
      "text/plain": [
       "<matplotlib.figure.Figure at 0x10ee0f210>"
      ]
     },
     "metadata": {},
     "output_type": "display_data"
    }
   ],
   "source": [
    "# Classify and print results\n",
    "rf = RandomForestClassifier(n_estimators=1000, random_state=random_state)\n",
    "results = cv_and_roc(rf, X, Y, random_state=random_state)\n",
    "\n",
    "print('AUC: {}'.format(np.mean(results['auc_list'])))\n",
    "plot_auc_from_list(results['tpr_list'], results['mean_fpr'])\n",
    "print(fisher_exact(results['conf_mat']))\n",
    "results['conf_mat']"
   ]
  },
  {
   "cell_type": "markdown",
   "metadata": {},
   "source": [
    "### Presence/absence of BAL-gastric OTUs in BAL community"
   ]
  },
  {
   "cell_type": "code",
   "execution_count": 44,
   "metadata": {
    "collapsed": false
   },
   "outputs": [
    {
     "name": "stdout",
     "output_type": "stream",
     "text": [
      "AUC = 0.721626984127\n",
      "(4.5714285714285712, 0.0035038709635609377)\n"
     ]
    },
    {
     "data": {
      "text/html": [
       "<div>\n",
       "<style scoped>\n",
       "    .dataframe tbody tr th:only-of-type {\n",
       "        vertical-align: middle;\n",
       "    }\n",
       "\n",
       "    .dataframe tbody tr th {\n",
       "        vertical-align: top;\n",
       "    }\n",
       "\n",
       "    .dataframe thead th {\n",
       "        text-align: right;\n",
       "    }\n",
       "</style>\n",
       "<table border=\"1\" class=\"dataframe\">\n",
       "  <thead>\n",
       "    <tr style=\"text-align: right;\">\n",
       "      <th></th>\n",
       "      <th>pred 0</th>\n",
       "      <th>pred 1</th>\n",
       "    </tr>\n",
       "  </thead>\n",
       "  <tbody>\n",
       "    <tr>\n",
       "      <th>true 0</th>\n",
       "      <td>32</td>\n",
       "      <td>9</td>\n",
       "    </tr>\n",
       "    <tr>\n",
       "      <th>true 1</th>\n",
       "      <td>14</td>\n",
       "      <td>18</td>\n",
       "    </tr>\n",
       "  </tbody>\n",
       "</table>\n",
       "</div>"
      ],
      "text/plain": [
       "        pred 0  pred 1\n",
       "true 0      32       9\n",
       "true 1      14      18"
      ]
     },
     "execution_count": 44,
     "metadata": {},
     "output_type": "execute_result"
    },
    {
     "data": {
      "image/png": "[encoded data removed]",
      "text/plain": [
       "<matplotlib.figure.Figure at 0x1102cf150>"
      ]
     },
     "metadata": {},
     "output_type": "display_data"
    }
   ],
   "source": [
    "X_pres = (X > 0).astype(int)\n",
    "\n",
    "rf = RandomForestClassifier(n_estimators=1000, random_state=random_state)\n",
    "results_pres = cv_and_roc(rf, X_pres, Y, random_state=random_state)\n",
    "\n",
    "print('AUC = {}'.format(np.mean(results_pres['auc_list'])))\n",
    "plot_auc_from_list(results_pres['tpr_list'], results_pres['mean_fpr'])\n",
    "print(fisher_exact(results_pres['conf_mat']))\n",
    "results_pres['conf_mat']"
   ]
  },
  {
   "cell_type": "markdown",
   "metadata": {},
   "source": [
    "## Asp vs. non-asp, gastric microbiome, gastric-BAL OTUs"
   ]
  },
  {
   "cell_type": "code",
   "execution_count": 45,
   "metadata": {
    "collapsed": true
   },
   "outputs": [],
   "source": [
    "# Get healthy and aspirators gastric samples\n",
    "h_smpls = meta\\\n",
    "    .query('subject_id == @h_subjs')\\\n",
    "    .query('site == \"gastric_fluid\"')\\\n",
    "    .index.tolist()\n",
    "asp_smpls = meta\\\n",
    "    .query('subject_id == @asp_subjs')\\\n",
    "    .query('site == \"gastric_fluid\"').index.tolist()\n",
    "\n",
    "# Prepare data for classifiers\n",
    "X = otu.loc[h_smpls + asp_smpls, :]\n",
    "Y = [aspdict[meta.loc[i, 'mbs_consolidated']] for i in X.index]\n",
    "X = X.values"
   ]
  },
  {
   "cell_type": "code",
   "execution_count": 46,
   "metadata": {
    "collapsed": false
   },
   "outputs": [
    {
     "name": "stdout",
     "output_type": "stream",
     "text": [
      "AUC = 0.676388888889\n",
      "(3.0909090909090908, 0.029671213292287446)\n"
     ]
    },
    {
     "data": {
      "text/html": [
       "<div>\n",
       "<style scoped>\n",
       "    .dataframe tbody tr th:only-of-type {\n",
       "        vertical-align: middle;\n",
       "    }\n",
       "\n",
       "    .dataframe tbody tr th {\n",
       "        vertical-align: top;\n",
       "    }\n",
       "\n",
       "    .dataframe thead th {\n",
       "        text-align: right;\n",
       "    }\n",
       "</style>\n",
       "<table border=\"1\" class=\"dataframe\">\n",
       "  <thead>\n",
       "    <tr style=\"text-align: right;\">\n",
       "      <th></th>\n",
       "      <th>pred 0</th>\n",
       "      <th>pred 1</th>\n",
       "    </tr>\n",
       "  </thead>\n",
       "  <tbody>\n",
       "    <tr>\n",
       "      <th>true 0</th>\n",
       "      <td>30</td>\n",
       "      <td>11</td>\n",
       "    </tr>\n",
       "    <tr>\n",
       "      <th>true 1</th>\n",
       "      <td>15</td>\n",
       "      <td>17</td>\n",
       "    </tr>\n",
       "  </tbody>\n",
       "</table>\n",
       "</div>"
      ],
      "text/plain": [
       "        pred 0  pred 1\n",
       "true 0      30      11\n",
       "true 1      15      17"
      ]
     },
     "execution_count": 46,
     "metadata": {},
     "output_type": "execute_result"
    },
    {
     "data": {
      "image/png": "[encoded data removed]",
      "text/plain": [
       "<matplotlib.figure.Figure at 0x10f22af50>"
      ]
     },
     "metadata": {},
     "output_type": "display_data"
    }
   ],
   "source": [
    "# Classify and print results\n",
    "rf = RandomForestClassifier(n_estimators=1000, random_state=random_state)\n",
    "results = cv_and_roc(rf, X, Y, random_state=random_state)\n",
    "\n",
    "print('AUC = {}'.format(np.mean(results['auc_list'])))\n",
    "plot_auc_from_list(results['tpr_list'], results['mean_fpr'])\n",
    "print(fisher_exact(results['conf_mat']))\n",
    "results['conf_mat']"
   ]
  },
  {
   "cell_type": "markdown",
   "metadata": {},
   "source": [
    "### Presence absence of BAL-gastric OTUs in gastric community\n"
   ]
  },
  {
   "cell_type": "code",
   "execution_count": 47,
   "metadata": {
    "collapsed": false
   },
   "outputs": [
    {
     "name": "stdout",
     "output_type": "stream",
     "text": [
      "AUC = 0.605357142857\n",
      "(2.4064171122994651, 0.089711968511268239)\n"
     ]
    },
    {
     "data": {
      "text/html": [
       "<div>\n",
       "<style scoped>\n",
       "    .dataframe tbody tr th:only-of-type {\n",
       "        vertical-align: middle;\n",
       "    }\n",
       "\n",
       "    .dataframe tbody tr th {\n",
       "        vertical-align: top;\n",
       "    }\n",
       "\n",
       "    .dataframe thead th {\n",
       "        text-align: right;\n",
       "    }\n",
       "</style>\n",
       "<table border=\"1\" class=\"dataframe\">\n",
       "  <thead>\n",
       "    <tr style=\"text-align: right;\">\n",
       "      <th></th>\n",
       "      <th>pred 0</th>\n",
       "      <th>pred 1</th>\n",
       "    </tr>\n",
       "  </thead>\n",
       "  <tbody>\n",
       "    <tr>\n",
       "      <th>true 0</th>\n",
       "      <td>30</td>\n",
       "      <td>11</td>\n",
       "    </tr>\n",
       "    <tr>\n",
       "      <th>true 1</th>\n",
       "      <td>17</td>\n",
       "      <td>15</td>\n",
       "    </tr>\n",
       "  </tbody>\n",
       "</table>\n",
       "</div>"
      ],
      "text/plain": [
       "        pred 0  pred 1\n",
       "true 0      30      11\n",
       "true 1      17      15"
      ]
     },
     "execution_count": 47,
     "metadata": {},
     "output_type": "execute_result"
    },
    {
     "data": {
      "image/png": "[encoded data removed]",
      "text/plain": [
       "<matplotlib.figure.Figure at 0x10ef98950>"
      ]
     },
     "metadata": {},
     "output_type": "display_data"
    }
   ],
   "source": [
    "X_pres = (X > 0).astype(int)\n",
    "\n",
    "rf = RandomForestClassifier(n_estimators=1000, random_state=random_state)\n",
    "results_pres = cv_and_roc(rf, X_pres, Y, random_state=random_state)\n",
    "\n",
    "print('AUC = {}'.format(np.mean(results_pres['auc_list'])))\n",
    "plot_auc_from_list(results_pres['tpr_list'], results_pres['mean_fpr'])\n",
    "print(fisher_exact(results_pres['conf_mat']))\n",
    "results_pres['conf_mat']"
   ]
  },
  {
   "cell_type": "markdown",
   "metadata": {},
   "source": [
    "## Asp vs. non-asp, BAL and gastric microbiomes, BAL-gastric OTUs"
   ]
  },
  {
   "cell_type": "code",
   "execution_count": 48,
   "metadata": {
    "collapsed": false
   },
   "outputs": [
    {
     "name": "stdout",
     "output_type": "stream",
     "text": [
      "Tidying data... \n",
      "Finished.\n"
     ]
    }
   ],
   "source": [
    "mbscol = 'mbs_consolidated'\n",
    "tidyotu = tidyfy_otu(otu, meta, mbscol)\n",
    "\n",
    "site1 = 'bal'\n",
    "site2 = 'gastric_fluid'\n",
    "tmpotu = tidyotu.query('(site == @site1) | (site == @site2)')\\\n",
    "            .dropna(subset=[mbscol])\\\n",
    "            .pivot(index='subject_id', columns='otu_w_site',\n",
    "                   values='abun')\\\n",
    "            .dropna()"
   ]
  },
  {
   "cell_type": "code",
   "execution_count": 49,
   "metadata": {
    "collapsed": true
   },
   "outputs": [],
   "source": [
    "# Note: using how='inner' preserves the order of the left keys, so this new tmpmeta\n",
    "# is in the same order as my OTU table\n",
    "tmpmeta = pd.merge(tmpotu, meta[['subject_id', 'mbs_consolidated']].drop_duplicates(),  \n",
    "                   left_index=True, right_on='subject_id',\n",
    "                   how='inner')\n",
    "X = tmpotu.values\n",
    "Y = [aspdict[i] for i in tmpmeta['mbs_consolidated']]"
   ]
  },
  {
   "cell_type": "code",
   "execution_count": 50,
   "metadata": {
    "collapsed": false
   },
   "outputs": [
    {
     "data": {
      "text/plain": [
       "((73, 96), (73, 98))"
      ]
     },
     "execution_count": 50,
     "metadata": {},
     "output_type": "execute_result"
    }
   ],
   "source": [
    "tmpotu.shape, tmpmeta.shape"
   ]
  },
  {
   "cell_type": "code",
   "execution_count": 51,
   "metadata": {
    "collapsed": false
   },
   "outputs": [
    {
     "data": {
      "text/plain": [
       "array([ True,  True,  True,  True,  True,  True,  True,  True,  True,\n",
       "        True,  True,  True,  True,  True,  True,  True,  True,  True,\n",
       "        True,  True,  True,  True,  True,  True,  True,  True,  True,\n",
       "        True,  True,  True,  True,  True,  True,  True,  True,  True,\n",
       "        True,  True,  True,  True,  True,  True,  True,  True,  True,\n",
       "        True,  True,  True,  True,  True,  True,  True,  True,  True,\n",
       "        True,  True,  True,  True,  True,  True,  True,  True,  True,\n",
       "        True,  True,  True,  True,  True,  True,  True,  True,  True,  True], dtype=bool)"
      ]
     },
     "execution_count": 51,
     "metadata": {},
     "output_type": "execute_result"
    }
   ],
   "source": [
    "# Sanity check that samples are in the same order as their labels\n",
    "tmpotu.index == tmpmeta['subject_id'].values"
   ]
  },
  {
   "cell_type": "code",
   "execution_count": 52,
   "metadata": {
    "collapsed": false
   },
   "outputs": [
    {
     "name": "stdout",
     "output_type": "stream",
     "text": [
      "AUC = 0.67003968254\n",
      "(3.5555555555555554, 0.014739536977267133)\n"
     ]
    },
    {
     "data": {
      "text/html": [
       "<div>\n",
       "<style scoped>\n",
       "    .dataframe tbody tr th:only-of-type {\n",
       "        vertical-align: middle;\n",
       "    }\n",
       "\n",
       "    .dataframe tbody tr th {\n",
       "        vertical-align: top;\n",
       "    }\n",
       "\n",
       "    .dataframe thead th {\n",
       "        text-align: right;\n",
       "    }\n",
       "</style>\n",
       "<table border=\"1\" class=\"dataframe\">\n",
       "  <thead>\n",
       "    <tr style=\"text-align: right;\">\n",
       "      <th></th>\n",
       "      <th>pred 0</th>\n",
       "      <th>pred 1</th>\n",
       "    </tr>\n",
       "  </thead>\n",
       "  <tbody>\n",
       "    <tr>\n",
       "      <th>true 0</th>\n",
       "      <td>32</td>\n",
       "      <td>9</td>\n",
       "    </tr>\n",
       "    <tr>\n",
       "      <th>true 1</th>\n",
       "      <td>16</td>\n",
       "      <td>16</td>\n",
       "    </tr>\n",
       "  </tbody>\n",
       "</table>\n",
       "</div>"
      ],
      "text/plain": [
       "        pred 0  pred 1\n",
       "true 0      32       9\n",
       "true 1      16      16"
      ]
     },
     "execution_count": 52,
     "metadata": {},
     "output_type": "execute_result"
    },
    {
     "data": {
      "image/png": "[encoded data removed]",
      "text/plain": [
       "<matplotlib.figure.Figure at 0x10f05f950>"
      ]
     },
     "metadata": {},
     "output_type": "display_data"
    }
   ],
   "source": [
    "rf = RandomForestClassifier(n_estimators=1000, random_state=random_state)\n",
    "results = cv_and_roc(rf, X, Y, random_state=random_state)\n",
    "\n",
    "print('AUC = {}'.format(np.mean(results['auc_list'])))\n",
    "plot_auc_from_list(results['tpr_list'], results['mean_fpr'])\n",
    "print(fisher_exact(results['conf_mat']))\n",
    "results['conf_mat']"
   ]
  },
  {
   "cell_type": "markdown",
   "metadata": {},
   "source": [
    "### Presence/absence of BAL-gastric OTUs in both BAL and gastric communities"
   ]
  },
  {
   "cell_type": "code",
   "execution_count": 53,
   "metadata": {
    "collapsed": false
   },
   "outputs": [
    {
     "name": "stdout",
     "output_type": "stream",
     "text": [
      "AUC = 0.657341269841\n",
      "(2.4064171122994651, 0.089711968511268239)\n"
     ]
    },
    {
     "data": {
      "text/html": [
       "<div>\n",
       "<style scoped>\n",
       "    .dataframe tbody tr th:only-of-type {\n",
       "        vertical-align: middle;\n",
       "    }\n",
       "\n",
       "    .dataframe tbody tr th {\n",
       "        vertical-align: top;\n",
       "    }\n",
       "\n",
       "    .dataframe thead th {\n",
       "        text-align: right;\n",
       "    }\n",
       "</style>\n",
       "<table border=\"1\" class=\"dataframe\">\n",
       "  <thead>\n",
       "    <tr style=\"text-align: right;\">\n",
       "      <th></th>\n",
       "      <th>pred 0</th>\n",
       "      <th>pred 1</th>\n",
       "    </tr>\n",
       "  </thead>\n",
       "  <tbody>\n",
       "    <tr>\n",
       "      <th>true 0</th>\n",
       "      <td>30</td>\n",
       "      <td>11</td>\n",
       "    </tr>\n",
       "    <tr>\n",
       "      <th>true 1</th>\n",
       "      <td>17</td>\n",
       "      <td>15</td>\n",
       "    </tr>\n",
       "  </tbody>\n",
       "</table>\n",
       "</div>"
      ],
      "text/plain": [
       "        pred 0  pred 1\n",
       "true 0      30      11\n",
       "true 1      17      15"
      ]
     },
     "execution_count": 53,
     "metadata": {},
     "output_type": "execute_result"
    },
    {
     "data": {
      "image/png": "[encoded data removed]",
      "text/plain": [
       "<matplotlib.figure.Figure at 0x1101b4c90>"
      ]
     },
     "metadata": {},
     "output_type": "display_data"
    }
   ],
   "source": [
    "X_pres = (X > 0).astype(int)\n",
    "\n",
    "rf = RandomForestClassifier(n_estimators=1000, random_state=random_state)\n",
    "results_pres = cv_and_roc(rf, X_pres, Y, random_state=random_state)\n",
    "\n",
    "print('AUC = {}'.format(np.mean(results_pres['auc_list'])))\n",
    "plot_auc_from_list(results_pres['tpr_list'], results_pres['mean_fpr'])\n",
    "print(fisher_exact(results_pres['conf_mat']))\n",
    "results_pres['conf_mat']"
   ]
  },
  {
   "cell_type": "code",
   "execution_count": null,
   "metadata": {
    "collapsed": true
   },
   "outputs": [],
   "source": []
  }
 ],
 "metadata": {
  "anaconda-cloud": {},
  "kernelspec": {
   "display_name": "Python [default]",
   "language": "python",
   "name": "python2"
  },
  "language_info": {
   "codemirror_mode": {
    "name": "ipython",
    "version": 2
   },
   "file_extension": ".py",
   "mimetype": "text/x-python",
   "name": "python",
   "nbconvert_exporter": "python",
   "pygments_lexer": "ipython2",
   "version": "2.7.12"
  }
 },
 "nbformat": 4,
 "nbformat_minor": 2
}
