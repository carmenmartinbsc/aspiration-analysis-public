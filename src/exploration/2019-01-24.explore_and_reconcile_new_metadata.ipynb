{
 "cells": [
  {
   "cell_type": "markdown",
   "metadata": {},
   "source": [
    "This notebook explores the new metadata I got from Rachel this morning at Longwood.\n",
    "\n",
    "We were prompted to get these data from reviewers requesting more symptoms, medications, and demographics metadata. I collated all the patients we used (in [2019-01-21.collate_all_patients.ipynb](2019-01-21.collate_all_patients.ipynb)) and sent that to her so her techs could prepare metadata files with cleaner metadata.\n",
    "\n",
    "This notebook is a mess and involves a few back-and-forths with the team. I'll make a different notebook or script to clean up the data..."
   ]
  },
  {
   "cell_type": "code",
   "execution_count": 1,
   "metadata": {},
   "outputs": [],
   "source": [
    "import pandas as pd\n",
    "import numpy as np"
   ]
  },
  {
   "cell_type": "code",
   "execution_count": 2,
   "metadata": {},
   "outputs": [
    {
     "name": "stdout",
     "output_type": "stream",
     "text": [
      "[(154, 236), (156, 236), (16, 203), (23, 369), (22, 369), (26, 529)]\n"
     ]
    }
   ],
   "source": [
    "# This was the respiratory study, so these patients have more extensive\n",
    "# respiratory symptoms and they also will have BAL samples\n",
    "fk23_v1 = '../../data/raw/metadata/reviewer-response-jan2019/k23 data.csv'\n",
    "fk23_v2 = '../../data/raw/metadata/reviewer-response-jan2019/FINAL AIM 2, 3, 4 BASELINE DATA.csv'\n",
    "\n",
    "# R01 study is different, and focuses more on general infections. So it has\n",
    "# more metadata on infections but less on respiratory symptoms. Also, these\n",
    "# patients probably won't have BAL.\n",
    "r01base_v1 = '../../data/raw/metadata/reviewer-response-jan2019/baselineR01.csv'\n",
    "r01long = '../../data/raw/metadata/reviewer-response-jan2019/r01 longitudinal.csv'\n",
    "r01base_v2 = '../../data/raw/metadata/reviewer-response-jan2019/baselineforclaire-r01-aim3supp.csv'\n",
    "\n",
    "# Fundoplication patients\n",
    "fundo = '../../data/raw/metadata/reviewer-response-jan2019/fundobaselinedata_1.csv'\n",
    "\n",
    "dfk23_v1 = pd.read_csv(fk23_v1)\n",
    "dfk23_v2 = pd.read_csv(fk23_v2)\n",
    "dfr01base_v1 = pd.read_csv(r01base_v1)\n",
    "dfr01base_v2 = pd.read_csv(r01base_v2)\n",
    "dfr01long = pd.read_csv(r01long)\n",
    "dffundo = pd.read_csv(fundo)\n",
    "\n",
    "alldfs = [dfk23_v1, dfk23_v2, dfr01base_v1, dfr01base_v2, dfr01long, dffundo]\n",
    "\n",
    "print([i.shape for i in alldfs])"
   ]
  },
  {
   "cell_type": "code",
   "execution_count": 3,
   "metadata": {},
   "outputs": [
    {
     "name": "stdout",
     "output_type": "stream",
     "text": [
      "['SUBJID', 'SUBJID', 'SUBJID', 'SUBJID', 'SUBJID', 'SUBJID_BL']\n"
     ]
    }
   ],
   "source": [
    "# Figure out subject ID column label for each\n",
    "print([i.columns[0] for i in alldfs])"
   ]
  },
  {
   "cell_type": "markdown",
   "metadata": {},
   "source": [
    "Replace the one different subject ID, add a label indicating which metadata the data came from, and concatenate."
   ]
  },
  {
   "cell_type": "code",
   "execution_count": 4,
   "metadata": {},
   "outputs": [
    {
     "data": {
      "text/html": [
       "<div>\n",
       "<style scoped>\n",
       "    .dataframe tbody tr th:only-of-type {\n",
       "        vertical-align: middle;\n",
       "    }\n",
       "\n",
       "    .dataframe tbody tr th {\n",
       "        vertical-align: top;\n",
       "    }\n",
       "\n",
       "    .dataframe thead th {\n",
       "        text-align: right;\n",
       "    }\n",
       "</style>\n",
       "<table border=\"1\" class=\"dataframe\">\n",
       "  <thead>\n",
       "    <tr style=\"text-align: right;\">\n",
       "      <th></th>\n",
       "      <th>SUBJID</th>\n",
       "      <th>SUBJINTL_BL</th>\n",
       "      <th>CLAIREDATA</th>\n",
       "      <th>COMPDATE_BL</th>\n",
       "      <th>PPIstatus_BL</th>\n",
       "      <th>INITIAL_BL</th>\n",
       "      <th>ANSWER_BL</th>\n",
       "      <th>ANSWERSP_BL</th>\n",
       "      <th>GENDER_BL</th>\n",
       "      <th>DOB_BL</th>\n",
       "      <th>...</th>\n",
       "      <th>DATEFUNDO</th>\n",
       "      <th>PHMII</th>\n",
       "      <th>DATEPHMII</th>\n",
       "      <th>ABXINPT</th>\n",
       "      <th>ABX1SP</th>\n",
       "      <th>ABX1DUR</th>\n",
       "      <th>ABX1DOSE</th>\n",
       "      <th>ABX2SP</th>\n",
       "      <th>ABX2DUR</th>\n",
       "      <th>ABX2DOSE</th>\n",
       "    </tr>\n",
       "  </thead>\n",
       "  <tbody>\n",
       "    <tr>\n",
       "      <th>0</th>\n",
       "      <td>021-7 F1</td>\n",
       "      <td>EC</td>\n",
       "      <td>1</td>\n",
       "      <td></td>\n",
       "      <td>0</td>\n",
       "      <td></td>\n",
       "      <td></td>\n",
       "      <td></td>\n",
       "      <td>0</td>\n",
       "      <td>7/24/2005</td>\n",
       "      <td>...</td>\n",
       "      <td></td>\n",
       "      <td></td>\n",
       "      <td></td>\n",
       "      <td></td>\n",
       "      <td></td>\n",
       "      <td></td>\n",
       "      <td></td>\n",
       "      <td></td>\n",
       "      <td></td>\n",
       "      <td></td>\n",
       "    </tr>\n",
       "    <tr>\n",
       "      <th>1</th>\n",
       "      <td>022-3-F1</td>\n",
       "      <td>WRY</td>\n",
       "      <td>1</td>\n",
       "      <td>7/24/2012</td>\n",
       "      <td>1</td>\n",
       "      <td>ARY</td>\n",
       "      <td>2</td>\n",
       "      <td>-6.00</td>\n",
       "      <td>0</td>\n",
       "      <td>9/22/2008</td>\n",
       "      <td>...</td>\n",
       "      <td>7/24/2012</td>\n",
       "      <td>0</td>\n",
       "      <td></td>\n",
       "      <td>0</td>\n",
       "      <td>-6</td>\n",
       "      <td>-6</td>\n",
       "      <td>-6</td>\n",
       "      <td>-6</td>\n",
       "      <td>-6</td>\n",
       "      <td>-6</td>\n",
       "    </tr>\n",
       "    <tr>\n",
       "      <th>2</th>\n",
       "      <td>024-1-F1</td>\n",
       "      <td>MLW</td>\n",
       "      <td>1</td>\n",
       "      <td>8/2/2012</td>\n",
       "      <td>1</td>\n",
       "      <td>-9</td>\n",
       "      <td>2</td>\n",
       "      <td>-6.00</td>\n",
       "      <td>1</td>\n",
       "      <td>5/18/2002</td>\n",
       "      <td>...</td>\n",
       "      <td></td>\n",
       "      <td></td>\n",
       "      <td></td>\n",
       "      <td></td>\n",
       "      <td></td>\n",
       "      <td></td>\n",
       "      <td></td>\n",
       "      <td></td>\n",
       "      <td></td>\n",
       "      <td></td>\n",
       "    </tr>\n",
       "    <tr>\n",
       "      <th>3</th>\n",
       "      <td>025-6-F1</td>\n",
       "      <td>SP</td>\n",
       "      <td>1</td>\n",
       "      <td>8/22/2012</td>\n",
       "      <td>1</td>\n",
       "      <td>CAJ</td>\n",
       "      <td>2</td>\n",
       "      <td>-6.00</td>\n",
       "      <td>1</td>\n",
       "      <td>11/14/2004</td>\n",
       "      <td>...</td>\n",
       "      <td></td>\n",
       "      <td></td>\n",
       "      <td></td>\n",
       "      <td></td>\n",
       "      <td></td>\n",
       "      <td></td>\n",
       "      <td></td>\n",
       "      <td></td>\n",
       "      <td></td>\n",
       "      <td></td>\n",
       "    </tr>\n",
       "    <tr>\n",
       "      <th>4</th>\n",
       "      <td>026-8-F1</td>\n",
       "      <td>BA</td>\n",
       "      <td>1</td>\n",
       "      <td></td>\n",
       "      <td>1</td>\n",
       "      <td></td>\n",
       "      <td></td>\n",
       "      <td></td>\n",
       "      <td></td>\n",
       "      <td>10/25/2009</td>\n",
       "      <td>...</td>\n",
       "      <td></td>\n",
       "      <td></td>\n",
       "      <td></td>\n",
       "      <td></td>\n",
       "      <td></td>\n",
       "      <td></td>\n",
       "      <td></td>\n",
       "      <td></td>\n",
       "      <td></td>\n",
       "      <td></td>\n",
       "    </tr>\n",
       "  </tbody>\n",
       "</table>\n",
       "<p>5 rows × 529 columns</p>\n",
       "</div>"
      ],
      "text/plain": [
       "     SUBJID SUBJINTL_BL  CLAIREDATA COMPDATE_BL  PPIstatus_BL INITIAL_BL  \\\n",
       "0  021-7 F1          EC           1                         0              \n",
       "1  022-3-F1         WRY           1   7/24/2012             1        ARY   \n",
       "2  024-1-F1         MLW           1    8/2/2012             1         -9   \n",
       "3  025-6-F1          SP           1   8/22/2012             1        CAJ   \n",
       "4  026-8-F1          BA           1                         1              \n",
       "\n",
       "  ANSWER_BL ANSWERSP_BL GENDER_BL      DOB_BL   ...     DATEFUNDO PHMII  \\\n",
       "0                               0   7/24/2005   ...                       \n",
       "1         2       -6.00         0   9/22/2008   ...     7/24/2012     0   \n",
       "2         2       -6.00         1   5/18/2002   ...                       \n",
       "3         2       -6.00         1  11/14/2004   ...                       \n",
       "4                                  10/25/2009   ...                       \n",
       "\n",
       "  DATEPHMII ABXINPT ABX1SP ABX1DUR ABX1DOSE ABX2SP ABX2DUR ABX2DOSE  \n",
       "0                                                                    \n",
       "1                 0     -6      -6       -6     -6      -6       -6  \n",
       "2                                                                    \n",
       "3                                                                    \n",
       "4                                                                    \n",
       "\n",
       "[5 rows x 529 columns]"
      ]
     },
     "execution_count": 4,
     "metadata": {},
     "output_type": "execute_result"
    }
   ],
   "source": [
    "dffundo = dffundo.rename(columns={'SUBJID_BL':\"SUBJID\"})\n",
    "dffundo.head()"
   ]
  },
  {
   "cell_type": "code",
   "execution_count": 5,
   "metadata": {},
   "outputs": [],
   "source": [
    "c = 'metadata_file'\n",
    "c2 = 'metadata_id'\n",
    "\n",
    "dfk23_v1[c] = fk23_v1.rsplit('/', 1)[1]\n",
    "dfk23_v1[c2] = 'k23_v1'\n",
    "\n",
    "dfk23_v2[c] = fk23_v2.rsplit('/', 1)[1]\n",
    "dfk23_v2[c2] = 'k23_v2'\n",
    "\n",
    "dfr01base_v1[c] = r01base_v1.rsplit('/', 1)[1]\n",
    "dfr01base_v1[c2] = 'r01_baseline_v1'\n",
    "\n",
    "dfr01base_v2[c] = r01base_v2.rsplit('/', 1)[1]\n",
    "dfr01base_v2[c2] = 'r01_baseline_v2'\n",
    "\n",
    "dfr01long[c] = r01long.rsplit('/', 1)[1]\n",
    "dfr01long[c2] = 'r01_longitudinal'\n",
    "\n",
    "dffundo[c] = fundo.rsplit('/', 1)[1]\n",
    "dffundo[c2] = 'fundo'"
   ]
  },
  {
   "cell_type": "code",
   "execution_count": 6,
   "metadata": {},
   "outputs": [],
   "source": [
    "# Check that the list of df's is also updated\n",
    "alldfs = [dfk23_v1, dfk23_v2, dfr01base_v1, dfr01base_v2, dfr01long, dffundo]"
   ]
  },
  {
   "cell_type": "code",
   "execution_count": 7,
   "metadata": {},
   "outputs": [
    {
     "name": "stdout",
     "output_type": "stream",
     "text": [
      "((397, 1157), (397,), (222,))\n"
     ]
    }
   ],
   "source": [
    "bigdf = pd.concat(alldfs, sort=False)\n",
    "print(bigdf.shape, bigdf['SUBJID'].dropna().shape, bigdf['SUBJID'].unique().shape)"
   ]
  },
  {
   "cell_type": "markdown",
   "metadata": {},
   "source": [
    "# Check that these metadata files have all the patients I need"
   ]
  },
  {
   "cell_type": "code",
   "execution_count": 8,
   "metadata": {},
   "outputs": [
    {
     "data": {
      "text/html": [
       "<div>\n",
       "<style scoped>\n",
       "    .dataframe tbody tr th:only-of-type {\n",
       "        vertical-align: middle;\n",
       "    }\n",
       "\n",
       "    .dataframe tbody tr th {\n",
       "        vertical-align: top;\n",
       "    }\n",
       "\n",
       "    .dataframe thead th {\n",
       "        text-align: right;\n",
       "    }\n",
       "</style>\n",
       "<table border=\"1\" class=\"dataframe\">\n",
       "  <thead>\n",
       "    <tr style=\"text-align: right;\">\n",
       "      <th></th>\n",
       "      <th>bal</th>\n",
       "      <th>gastric_fluid</th>\n",
       "      <th>throat_swab</th>\n",
       "      <th>stool</th>\n",
       "      <th>figure1.overview_plots</th>\n",
       "      <th>figure2.2016_pcoa</th>\n",
       "      <th>figure2.2014_pcoa</th>\n",
       "      <th>figure2.between_patient_jsd_2016_permanova</th>\n",
       "      <th>figure2.between_patient_jsd_2014_permanova</th>\n",
       "      <th>figure2.between_patient_jsd</th>\n",
       "      <th>...</th>\n",
       "      <th>aspiration_classifiers_exchanged_OTUs.bal_gastric_fluid</th>\n",
       "      <th>aspiration_classifiers_exchanged_OTUs.bal_throat_swab</th>\n",
       "      <th>aspiration_classifiers.bal</th>\n",
       "      <th>aspiration_classifiers.gastric_fluid</th>\n",
       "      <th>aspiration_classifiers.throat_swab</th>\n",
       "      <th>aspiration_classifiers.bal_throat_swab</th>\n",
       "      <th>aspiration_classifiers.bal_gastric_fluid</th>\n",
       "      <th>aspiration_classifiers.throat_swab_gastric_fluid</th>\n",
       "      <th>aspiration_classifiers.bal_throat_swab_gastric_fluid</th>\n",
       "      <th>figure5.reflux_correlation</th>\n",
       "    </tr>\n",
       "  </thead>\n",
       "  <tbody>\n",
       "    <tr>\n",
       "      <th>04-080-7</th>\n",
       "      <td>True</td>\n",
       "      <td>True</td>\n",
       "      <td>True</td>\n",
       "      <td>False</td>\n",
       "      <td>True</td>\n",
       "      <td>False</td>\n",
       "      <td>True</td>\n",
       "      <td>False</td>\n",
       "      <td>True</td>\n",
       "      <td>True</td>\n",
       "      <td>...</td>\n",
       "      <td>False</td>\n",
       "      <td>False</td>\n",
       "      <td>False</td>\n",
       "      <td>False</td>\n",
       "      <td>False</td>\n",
       "      <td>False</td>\n",
       "      <td>False</td>\n",
       "      <td>False</td>\n",
       "      <td>False</td>\n",
       "      <td>False</td>\n",
       "    </tr>\n",
       "    <tr>\n",
       "      <th>01-299-7</th>\n",
       "      <td>False</td>\n",
       "      <td>False</td>\n",
       "      <td>True</td>\n",
       "      <td>False</td>\n",
       "      <td>False</td>\n",
       "      <td>True</td>\n",
       "      <td>False</td>\n",
       "      <td>True</td>\n",
       "      <td>False</td>\n",
       "      <td>True</td>\n",
       "      <td>...</td>\n",
       "      <td>False</td>\n",
       "      <td>False</td>\n",
       "      <td>False</td>\n",
       "      <td>False</td>\n",
       "      <td>False</td>\n",
       "      <td>False</td>\n",
       "      <td>False</td>\n",
       "      <td>False</td>\n",
       "      <td>False</td>\n",
       "      <td>False</td>\n",
       "    </tr>\n",
       "    <tr>\n",
       "      <th>04-167-8</th>\n",
       "      <td>False</td>\n",
       "      <td>True</td>\n",
       "      <td>False</td>\n",
       "      <td>False</td>\n",
       "      <td>False</td>\n",
       "      <td>False</td>\n",
       "      <td>True</td>\n",
       "      <td>False</td>\n",
       "      <td>True</td>\n",
       "      <td>True</td>\n",
       "      <td>...</td>\n",
       "      <td>False</td>\n",
       "      <td>False</td>\n",
       "      <td>False</td>\n",
       "      <td>True</td>\n",
       "      <td>False</td>\n",
       "      <td>False</td>\n",
       "      <td>False</td>\n",
       "      <td>False</td>\n",
       "      <td>False</td>\n",
       "      <td>False</td>\n",
       "    </tr>\n",
       "    <tr>\n",
       "      <th>04-087-1</th>\n",
       "      <td>True</td>\n",
       "      <td>True</td>\n",
       "      <td>True</td>\n",
       "      <td>False</td>\n",
       "      <td>True</td>\n",
       "      <td>False</td>\n",
       "      <td>True</td>\n",
       "      <td>False</td>\n",
       "      <td>True</td>\n",
       "      <td>True</td>\n",
       "      <td>...</td>\n",
       "      <td>False</td>\n",
       "      <td>False</td>\n",
       "      <td>False</td>\n",
       "      <td>False</td>\n",
       "      <td>False</td>\n",
       "      <td>False</td>\n",
       "      <td>False</td>\n",
       "      <td>False</td>\n",
       "      <td>False</td>\n",
       "      <td>False</td>\n",
       "    </tr>\n",
       "    <tr>\n",
       "      <th>042-6-F1</th>\n",
       "      <td>False</td>\n",
       "      <td>False</td>\n",
       "      <td>True</td>\n",
       "      <td>False</td>\n",
       "      <td>False</td>\n",
       "      <td>False</td>\n",
       "      <td>True</td>\n",
       "      <td>False</td>\n",
       "      <td>True</td>\n",
       "      <td>True</td>\n",
       "      <td>...</td>\n",
       "      <td>False</td>\n",
       "      <td>False</td>\n",
       "      <td>False</td>\n",
       "      <td>False</td>\n",
       "      <td>False</td>\n",
       "      <td>False</td>\n",
       "      <td>False</td>\n",
       "      <td>False</td>\n",
       "      <td>False</td>\n",
       "      <td>False</td>\n",
       "    </tr>\n",
       "  </tbody>\n",
       "</table>\n",
       "<p>5 rows × 32 columns</p>\n",
       "</div>"
      ],
      "text/plain": [
       "            bal  gastric_fluid  throat_swab  stool  figure1.overview_plots  \\\n",
       "04-080-7   True           True         True  False                    True   \n",
       "01-299-7  False          False         True  False                   False   \n",
       "04-167-8  False           True        False  False                   False   \n",
       "04-087-1   True           True         True  False                    True   \n",
       "042-6-F1  False          False         True  False                   False   \n",
       "\n",
       "          figure2.2016_pcoa  figure2.2014_pcoa  \\\n",
       "04-080-7              False               True   \n",
       "01-299-7               True              False   \n",
       "04-167-8              False               True   \n",
       "04-087-1              False               True   \n",
       "042-6-F1              False               True   \n",
       "\n",
       "          figure2.between_patient_jsd_2016_permanova  \\\n",
       "04-080-7                                       False   \n",
       "01-299-7                                        True   \n",
       "04-167-8                                       False   \n",
       "04-087-1                                       False   \n",
       "042-6-F1                                       False   \n",
       "\n",
       "          figure2.between_patient_jsd_2014_permanova  \\\n",
       "04-080-7                                        True   \n",
       "01-299-7                                       False   \n",
       "04-167-8                                        True   \n",
       "04-087-1                                        True   \n",
       "042-6-F1                                        True   \n",
       "\n",
       "          figure2.between_patient_jsd             ...              \\\n",
       "04-080-7                         True             ...               \n",
       "01-299-7                         True             ...               \n",
       "04-167-8                         True             ...               \n",
       "04-087-1                         True             ...               \n",
       "042-6-F1                         True             ...               \n",
       "\n",
       "          aspiration_classifiers_exchanged_OTUs.bal_gastric_fluid  \\\n",
       "04-080-7                                              False         \n",
       "01-299-7                                              False         \n",
       "04-167-8                                              False         \n",
       "04-087-1                                              False         \n",
       "042-6-F1                                              False         \n",
       "\n",
       "          aspiration_classifiers_exchanged_OTUs.bal_throat_swab  \\\n",
       "04-080-7                                              False       \n",
       "01-299-7                                              False       \n",
       "04-167-8                                              False       \n",
       "04-087-1                                              False       \n",
       "042-6-F1                                              False       \n",
       "\n",
       "          aspiration_classifiers.bal  aspiration_classifiers.gastric_fluid  \\\n",
       "04-080-7                       False                                 False   \n",
       "01-299-7                       False                                 False   \n",
       "04-167-8                       False                                  True   \n",
       "04-087-1                       False                                 False   \n",
       "042-6-F1                       False                                 False   \n",
       "\n",
       "          aspiration_classifiers.throat_swab  \\\n",
       "04-080-7                               False   \n",
       "01-299-7                               False   \n",
       "04-167-8                               False   \n",
       "04-087-1                               False   \n",
       "042-6-F1                               False   \n",
       "\n",
       "          aspiration_classifiers.bal_throat_swab  \\\n",
       "04-080-7                                   False   \n",
       "01-299-7                                   False   \n",
       "04-167-8                                   False   \n",
       "04-087-1                                   False   \n",
       "042-6-F1                                   False   \n",
       "\n",
       "          aspiration_classifiers.bal_gastric_fluid  \\\n",
       "04-080-7                                     False   \n",
       "01-299-7                                     False   \n",
       "04-167-8                                     False   \n",
       "04-087-1                                     False   \n",
       "042-6-F1                                     False   \n",
       "\n",
       "          aspiration_classifiers.throat_swab_gastric_fluid  \\\n",
       "04-080-7                                             False   \n",
       "01-299-7                                             False   \n",
       "04-167-8                                             False   \n",
       "04-087-1                                             False   \n",
       "042-6-F1                                             False   \n",
       "\n",
       "          aspiration_classifiers.bal_throat_swab_gastric_fluid  \\\n",
       "04-080-7                                              False      \n",
       "01-299-7                                              False      \n",
       "04-167-8                                              False      \n",
       "04-087-1                                              False      \n",
       "042-6-F1                                              False      \n",
       "\n",
       "          figure5.reflux_correlation  \n",
       "04-080-7                       False  \n",
       "01-299-7                       False  \n",
       "04-167-8                       False  \n",
       "04-087-1                       False  \n",
       "042-6-F1                       False  \n",
       "\n",
       "[5 rows x 32 columns]"
      ]
     },
     "execution_count": 8,
     "metadata": {},
     "output_type": "execute_result"
    }
   ],
   "source": [
    "# Compare with the patients I used in the analyses\n",
    "fpatients = '../../final/supp_files/combined_patient_site_and_analyses.csv'\n",
    "dfpts = pd.read_csv(fpatients, index_col=0)\n",
    "dfpts.head()"
   ]
  },
  {
   "cell_type": "markdown",
   "metadata": {},
   "source": [
    "## Find missing patients\n",
    "\n",
    "We'll do duplicates next."
   ]
  },
  {
   "cell_type": "code",
   "execution_count": 9,
   "metadata": {},
   "outputs": [
    {
     "name": "stdout",
     "output_type": "stream",
     "text": [
      "(397, 222)\n"
     ]
    }
   ],
   "source": [
    "newmeta_allsubjs = [i['SUBJID'].tolist()[:] for i in alldfs]\n",
    "newmeta_allsubjs = [s for i in newmeta_allsubjs for s in i]\n",
    "\n",
    "print(len(newmeta_allsubjs), len(set(newmeta_allsubjs)))"
   ]
  },
  {
   "cell_type": "code",
   "execution_count": 10,
   "metadata": {},
   "outputs": [],
   "source": [
    "analysis_allsubjs = dfpts.index.tolist()"
   ]
  },
  {
   "cell_type": "code",
   "execution_count": 11,
   "metadata": {},
   "outputs": [
    {
     "name": "stdout",
     "output_type": "stream",
     "text": [
      "13\n"
     ]
    }
   ],
   "source": [
    "print(len([i for i in analysis_allsubjs if i not in newmeta_allsubjs]))"
   ]
  },
  {
   "cell_type": "markdown",
   "metadata": {},
   "source": [
    "13! That seems like a manageable number! Margot's email had a lot of caveats, let's see how many match up..."
   ]
  },
  {
   "cell_type": "code",
   "execution_count": 12,
   "metadata": {},
   "outputs": [],
   "source": [
    "missing_subjs = [i for i in analysis_allsubjs if i not in newmeta_allsubjs]\n",
    "#print('\\n'.join(missing_subjs))"
   ]
  },
  {
   "cell_type": "markdown",
   "metadata": {},
   "source": [
    "```\n",
    "04-168-4 - \"04-168-4 is listed in the database as 14-168-4\"\n",
    "021-7-F1\n",
    "14-233-0 - \"14-233-0 is listed in the database as 04-233-1\"\n",
    "03-125-1 - \"03-125-9 (we believe this was listed as 03-125-1 but the correct ID should be 03-125-9 based on our sample logs)\"\n",
    "04-164-1 - \"04-164-1 is listed in the database as 02-164-1\"\n",
    "045-9-F1 - \n",
    "04-235-8 - \"04-235-8 is listed in the database as 04-235-4\"\n",
    "13-089-1 - \"13-089-1 - listed in the \"r01\" database as 01-089-1\"\n",
    "046-2-F1\n",
    "01-297-4 - \"01-297-4 is actually 01-297-2 - this is in the \"r01\" database\"\n",
    "13-058-2 - \"13-058-2 - listed in the \"r01\" database as 01-058-2\"\n",
    "029-6-F1 - \"please note that 029-6 is listed in database as 029-5\"\n",
    "dup05-013-1\n",
    "```\n",
    "\n",
    "I wonder if these missing fundo patients have something wonky with the leading zeros?"
   ]
  },
  {
   "cell_type": "code",
   "execution_count": 13,
   "metadata": {},
   "outputs": [
    {
     "data": {
      "text/plain": [
       "['021-7 F1',\n",
       " '022-3-F1',\n",
       " '024-1-F1',\n",
       " '025-6-F1',\n",
       " '026-8-F1',\n",
       " '027-4-F1',\n",
       " '028-1-F1',\n",
       " '029-5-F1',\n",
       " '030-5-F1',\n",
       " '032-1-F1',\n",
       " '033-8-F1',\n",
       " '035-1-F1',\n",
       " '036-2-F1',\n",
       " '037-3-F1',\n",
       " '040-5-F1',\n",
       " '041-3-F1',\n",
       " '042-6-F1',\n",
       " '043-7-F1',\n",
       " '045-9 F1',\n",
       " '046-2 F1',\n",
       " '048-1-F1',\n",
       " '050-4-F1',\n",
       " '051-6-F1',\n",
       " '055-1-F1',\n",
       " '057-9-F1',\n",
       " '058-4-F1']"
      ]
     },
     "execution_count": 13,
     "metadata": {},
     "output_type": "execute_result"
    }
   ],
   "source": [
    "[i for i in newmeta_allsubjs if i.endswith('F1')]"
   ]
  },
  {
   "cell_type": "markdown",
   "metadata": {},
   "source": [
    "Aha! A few of the fundo samples are missing the dash!"
   ]
  },
  {
   "cell_type": "code",
   "execution_count": 14,
   "metadata": {},
   "outputs": [],
   "source": [
    "dffundo['SUBJID'] = dffundo['SUBJID'].str.replace(' ', '-')\n",
    "bigdf['SUBJID'] = bigdf['SUBJID'].str.replace(' ', '-')"
   ]
  },
  {
   "cell_type": "code",
   "execution_count": 15,
   "metadata": {},
   "outputs": [
    {
     "name": "stdout",
     "output_type": "stream",
     "text": [
      "10\n"
     ]
    }
   ],
   "source": [
    "newmeta_allsubjs = [i['SUBJID'].tolist()[:] for i in alldfs]\n",
    "newmeta_allsubjs = [s for i in newmeta_allsubjs for s in i]\n",
    "\n",
    "missing_subjs = [i for i in analysis_allsubjs if i not in newmeta_allsubjs]\n",
    "\n",
    "print(len(missing_subjs))"
   ]
  },
  {
   "cell_type": "markdown",
   "metadata": {},
   "source": [
    "Good, now it's just the ten patients Margot described and the dup sample (which I may have forgotten to send them...)"
   ]
  },
  {
   "cell_type": "code",
   "execution_count": 16,
   "metadata": {},
   "outputs": [
    {
     "data": {
      "text/plain": [
       "False"
      ]
     },
     "execution_count": 16,
     "metadata": {},
     "output_type": "execute_result"
    }
   ],
   "source": [
    "'05-013-1' in newmeta_allsubjs"
   ]
  },
  {
   "cell_type": "markdown",
   "metadata": {},
   "source": [
    "Wow I'm super tired. Let's call it a night.\n",
    "\n",
    "**TO DO**\n",
    "\n",
    "- check that I know which metadata column to use in all of the files\n",
    "- email Margot asking for metadata for 05-013-1 (I accidentally didn't copy that one), and maybe column info if needed\n",
    "- find and reconcile duplicates\n",
    "    - if all the metadata columns match, just collapse\n",
    "    - if not, pick the metadata from more recent files"
   ]
  },
  {
   "cell_type": "markdown",
   "metadata": {},
   "source": [
    "## Check columns\n",
    "\n",
    "Pneumonia: history of pneumonia, combine both datasets\n",
    "\n",
    "Antibiotics: use the 1 month mark, say it's a \"recent history of abx\"\n",
    "--> note: this is all parent report\n",
    "\n",
    "PPI = on PPIs now (PPI48HRS and MEDI2C)\n",
    "\n",
    "Inhaled steroids: compare the 2 months from R01 and current steroids from the K23 data\n",
    "\tMEDI3C and INHAL2MOS\n",
    "\n",
    "Oral steroids: MEDI4C in K23 and (SWALL2MOS or ORAL2MOS) in the R01\n",
    "\n",
    "Other symptoms: use the 6 months that are common between the two datasets\n",
    "\n",
    "### Metadata columns I am using (to double check, esp fundoplication)\n",
    "\n",
    "* History of pneumonia\n",
    "    - K23: PNEUMN\n",
    "    - R01: T0.PNEUM\n",
    "    - fundo: pna6mo_BL, hxofPNA_BL, or combination (if it's yes in either then, it's a yes overall)?\n",
    "* Recent history of antibiotics\n",
    "    - K23: ANTIB1MO\n",
    "    - R01: T0ABX1MO\n",
    "    - Fundo: ANTIB1MONTH -- there are other antibiotics columns, but I am guessing these are related to the post-fundo samples? e.g. ANTIBIO1, ANTIBIO1SP, ANTIBIO3, ANTIBO3SP, ANTIBIO6\n",
    "* On PPIs now\n",
    "    - K23: MEDI2C\n",
    "    - R01: PPI48HRS\n",
    "    - fundo: PPIstatus_BL, other otpions: ppi6mo_BL, Y1ppi_BL\n",
    "* Recent usage of inhaled steroids\n",
    "    - K23: MEDI3C\n",
    "    - R01: INHAL2MOS\n",
    "    - fundo: inhsteroid6mo_BL (update: it's actually MEDI3C_BL)\n",
    "        - **NOTE**: do fundoplication samples have data on inhaled steroids more recent than 6 months? [yes, MEDI3C_BL]\n",
    "* Recent use of oral steroids\n",
    "    - K23: MEDI4C \n",
    "    - R01: SWALL2MOS or ORAL2MOS (i.e. if it's either one of those, then it's a yes)\n",
    "    - Fundo: swallster6mo_BL (update: this should be MEDI4C_BL)\n",
    "        - **NOTE**: do fundoplication samples have data on swallowed steroids more recent than 6 months? (yes, MEDI4C_BL)\n",
    "\n",
    "For the symptoms, can you send me the full description? i.e. the text that I should put in the Table.\n",
    "\n",
    "* Problem swallowing\n",
    "    - K23 and R01: PSWALL\n",
    "    - fundo: pswall6mo_BL\n",
    "* Food stuck (what should I call this one?)\n",
    "    - K23 and R01: FOODSTUCK\n",
    "    - Fundo: foodstuck6mo_BL\n",
    "* Difficulty swallowing\n",
    "    - K23 and R01: SWLLDIFF\n",
    "    - Fundo: diffswall6mo_BL\n",
    "* Abdominal pain\n",
    "    - K23 and R01: ABPAIN\n",
    "    - Fundo: abdpain6mo_BL\n",
    "* Constipation\n",
    "    - K23 and R01: CONSTIP\n",
    "    - Fundo: ??\n",
    "* Weight loss\n",
    "    - K23 and R01: WTLOSS\n",
    "    - Fundo: wtloss6mo_BL\n",
    "* Food up (what should I call this one?)\n",
    "    - K23 and R01: FOODUP\n",
    "    - Fundo: foodup6mo_BL\n",
    "* Chest pain\n",
    "    - K23 and R01: CHSTPAIN\n",
    "    - Fundo: chstpain6mo_BL\n",
    "* Asthma\n",
    "    - K23 and R01: ASTHMA\n",
    "    - Fundo: asthma6mo_BL\n",
    "* Chronic cough\n",
    "    - K23 and R01: CHRONCOUGH\n",
    "    - Fundo: chroncoughhx_BL (update: should be COND48_BL)\n",
    "\n",
    "---\n",
    "\n",
    "Update from Margot's email on 1/28:\n",
    "\n",
    "See below the different metadata columns for the FUNDO database. The rest you have the correct column names.\n",
    "\n",
    "a.       * History of pneumonia: pna6mo_BL is if had pneumonia in past 6month. hxofPNA_BL: is if subject had history of pneumonia at any point in life. I would use the 6month one since the other databases includes that time period.\n",
    "\n",
    "b.      * Recent history of antibiotics: ANTIB1MONTH\n",
    "\n",
    "c.       * On PPIs now: PPIstatus_BL\n",
    "\n",
    "d.      * Recent usage of inhaled steroids: MEDI3C_BL: currently taking inhaled steroids\n",
    "\n",
    "e.      * Recent use of oral steroids: MEDI4C_BL :currently taking swallowed steroids\n",
    "\n",
    "f.        * Constipation: FUNDO database does not have this information\n",
    "\n",
    "g.       * Chronic cough: COND48_BL : this is for the past 6 months."
   ]
  },
  {
   "cell_type": "code",
   "execution_count": 17,
   "metadata": {},
   "outputs": [],
   "source": [
    "bigdf.index = bigdf['SUBJID']"
   ]
  },
  {
   "cell_type": "code",
   "execution_count": 18,
   "metadata": {},
   "outputs": [
    {
     "data": {
      "text/plain": [
       "((397, 1157), (397, 5))"
      ]
     },
     "execution_count": 18,
     "metadata": {},
     "output_type": "execute_result"
    }
   ],
   "source": [
    "# Pneumonia\n",
    "\n",
    "# PENUMN = K23 data\n",
    "# T0.PNEUM = R01 data\n",
    "# Not sure about fundo, looks like maybe pna6mo_BL (or hxofPNA_BL?)\n",
    "\n",
    "bigdf.shape, bigdf[['PNEUMN', 'T0.PNEUM', 'pna6mo_BL', 'hxofPNA_BL', 'metadata_id']].dropna(how='all', axis=1).shape"
   ]
  },
  {
   "cell_type": "code",
   "execution_count": 19,
   "metadata": {},
   "outputs": [
    {
     "data": {
      "text/plain": [
       "((397, 1157), (397, 4))"
      ]
     },
     "execution_count": 19,
     "metadata": {},
     "output_type": "execute_result"
    }
   ],
   "source": [
    "# Antibiotics, 1 months\n",
    "\n",
    "# ANTIB1MO = K23 data\n",
    "# T0ABX1MO = R01 data\n",
    "# Fundo: ANTIB1MONTH, (there are other antibiotics columns, \n",
    "# but I am guessing these are related to the post-fundo samples? \n",
    "# e.g. ANTIBIO1, ANTIBIO1SP, ANTIBIO3, ANTIBO3SP, ANTIBIO6)\n",
    "bigdf.shape, bigdf[['ANTIB1MO', 'T0ABX1MO', 'ANTIB1MONTH', 'metadata_id']].dropna(how='all', axis=1).shape"
   ]
  },
  {
   "cell_type": "code",
   "execution_count": 20,
   "metadata": {},
   "outputs": [
    {
     "data": {
      "text/plain": [
       "((397, 1157), (397, 4))"
      ]
     },
     "execution_count": 20,
     "metadata": {},
     "output_type": "execute_result"
    }
   ],
   "source": [
    "# On PPIs now\n",
    "\n",
    "# K23: MEDI2C\n",
    "# R01: PPI48HRS\n",
    "# fundo: PPIstatus_BL, other otpions: ppi6mo_BL, Y1ppi_BL\n",
    "\n",
    "bigdf.shape, bigdf[['MEDI2C', 'PPI48HRS', 'PPIstatus_BL', 'metadata_id']].dropna(how='all', axis=1).shape"
   ]
  },
  {
   "cell_type": "code",
   "execution_count": 21,
   "metadata": {},
   "outputs": [
    {
     "data": {
      "text/plain": [
       "((397, 1157), (397, 4))"
      ]
     },
     "execution_count": 21,
     "metadata": {},
     "output_type": "execute_result"
    }
   ],
   "source": [
    "# Recent history of inhaled steroids\n",
    "\n",
    "# K23: MEDI3C\n",
    "# R01: INHAL2MOS\n",
    "# fundo: inhsteroid6mo_BL\n",
    "bigdf.shape, bigdf[['MEDI3C', 'INHAL2MOS', 'inhsteroid6mo_BL', 'metadata_id']].dropna(how='all', axis=1).shape"
   ]
  },
  {
   "cell_type": "code",
   "execution_count": 22,
   "metadata": {},
   "outputs": [
    {
     "data": {
      "text/plain": [
       "((397, 1157), (397, 5))"
      ]
     },
     "execution_count": 22,
     "metadata": {},
     "output_type": "execute_result"
    }
   ],
   "source": [
    "# Oral steroids\n",
    "\n",
    "# K23: MEDI4C \n",
    "# R01: SWALL2MOS or ORAL2MOS (i.e. if it's either one of those, then it's a yes)\n",
    "# Fundo: swallster6mo_BL\n",
    "\n",
    "bigdf.shape, bigdf[['MEDI4C', 'SWALL2MOS', 'ORAL2MOS', 'swallster6mo_BL', 'metadata_id']].dropna(how='all', axis=1).shape"
   ]
  },
  {
   "cell_type": "markdown",
   "metadata": {},
   "source": [
    "## Find duplicate patients"
   ]
  },
  {
   "cell_type": "code",
   "execution_count": 26,
   "metadata": {},
   "outputs": [],
   "source": [
    "# Which patients are in there twice?\n",
    "from collections import Counter\n",
    "\n",
    "n_duplicates = pd.Series(Counter(newmeta_allsubjs))\n",
    "dup_subjs = n_duplicates[n_duplicates > 1].index.tolist()"
   ]
  },
  {
   "cell_type": "code",
   "execution_count": 27,
   "metadata": {},
   "outputs": [],
   "source": [
    "dup_df = bigdf.loc[dup_subjs, ['SUBJID', 'metadata_id']]"
   ]
  },
  {
   "cell_type": "code",
   "execution_count": 28,
   "metadata": {},
   "outputs": [
    {
     "data": {
      "text/plain": [
       "metadata_id\n",
       "k23_v1              154\n",
       "k23_v2              154\n",
       "r01_baseline_v2      20\n",
       "r01_longitudinal     21\n",
       "dtype: int64"
      ]
     },
     "execution_count": 28,
     "metadata": {},
     "output_type": "execute_result"
    }
   ],
   "source": [
    "dup_df.groupby(['metadata_id']).size()"
   ]
  },
  {
   "cell_type": "code",
   "execution_count": 29,
   "metadata": {},
   "outputs": [
    {
     "name": "stderr",
     "output_type": "stream",
     "text": [
      "/Users/claire/anaconda/envs/aspiration/lib/python2.7/site-packages/ipykernel_launcher.py:2: FutureWarning: 'SUBJID' is both an index level and a column label.\n",
      "Defaulting to column, but this will raise an ambiguity error in a future version\n",
      "  \n"
     ]
    }
   ],
   "source": [
    "tmpdict = {}\n",
    "for s, subdf in dup_df.groupby('SUBJID'):\n",
    "    s_meta = '-'.join(subdf['metadata_id'].tolist())\n",
    "    tmpdict[s] = s_meta"
   ]
  },
  {
   "cell_type": "code",
   "execution_count": 30,
   "metadata": {},
   "outputs": [
    {
     "data": {
      "text/plain": [
       "metadata_str\n",
       "k23_v1-k23_v2                                        154\n",
       "r01_baseline_v2-r01_longitudinal                      19\n",
       "r01_baseline_v2-r01_longitudinal-r01_longitudinal      1\n",
       "dtype: int64"
      ]
     },
     "execution_count": 30,
     "metadata": {},
     "output_type": "execute_result"
    }
   ],
   "source": [
    "tmp = pd.DataFrame(tmpdict, index=['metadata_str']).T\n",
    "tmp.groupby(['metadata_str']).size()"
   ]
  },
  {
   "cell_type": "markdown",
   "metadata": {},
   "source": [
    "So 154 subjects have metadata in both k23's, 19 have it in both r01_baseline_v2 and r01_longitudinal and one has it twice in r01_longitudinal plus r01_baseline_v2.\n",
    "\n",
    "Let's remove the first K23 data from this analysis entirely."
   ]
  },
  {
   "cell_type": "code",
   "execution_count": 31,
   "metadata": {},
   "outputs": [
    {
     "data": {
      "text/plain": [
       "((22, 371), (23, 371))"
      ]
     },
     "execution_count": 31,
     "metadata": {},
     "output_type": "execute_result"
    }
   ],
   "source": [
    "dfr01long.shape, dfr01base_v2.shape"
   ]
  },
  {
   "cell_type": "code",
   "execution_count": 32,
   "metadata": {},
   "outputs": [],
   "source": [
    "# Just go through and grab all the idx's we want to remove\n",
    "\n",
    "# Reset index to get integer indexing (rather than subject ID, which has duplicates)\n",
    "bigdf = bigdf.reset_index(drop=True)\n",
    "\n",
    "remove_ix = []\n",
    "for subj, subj_df in bigdf.groupby('SUBJID'):\n",
    "    if subj_df.shape[0] > 1:\n",
    "        \n",
    "        meta_ids = subj_df['metadata_id'].values\n",
    "        \n",
    "        if 'k23_v1' in meta_ids and 'k23_v2' in meta_ids:\n",
    "            rmv_ix = subj_df.query('metadata_id == \"k23_v1\"').index.tolist()\n",
    "            remove_ix += rmv_ix\n",
    "            \n",
    "        elif 'r01_baseline_v2' in meta_ids and 'r01_longitudinal' in meta_ids:\n",
    "            rmv_ix = subj_df.query('metadata_id == \"r01_longitudinal\"').index.tolist()\n",
    "            remove_ix += rmv_ix\n",
    "        \n",
    "        else:\n",
    "            print(subj)"
   ]
  },
  {
   "cell_type": "code",
   "execution_count": 33,
   "metadata": {},
   "outputs": [
    {
     "data": {
      "text/plain": [
       "175"
      ]
     },
     "execution_count": 33,
     "metadata": {},
     "output_type": "execute_result"
    }
   ],
   "source": [
    "len(remove_ix)"
   ]
  },
  {
   "cell_type": "markdown",
   "metadata": {},
   "source": [
    "## Remove duplicate patients"
   ]
  },
  {
   "cell_type": "code",
   "execution_count": 34,
   "metadata": {},
   "outputs": [
    {
     "data": {
      "text/plain": [
       "(222, 1157)"
      ]
     },
     "execution_count": 34,
     "metadata": {},
     "output_type": "execute_result"
    }
   ],
   "source": [
    "bigdf_nodup = bigdf.drop(index=remove_ix)\n",
    "bigdf_nodup.shape"
   ]
  },
  {
   "cell_type": "code",
   "execution_count": 35,
   "metadata": {},
   "outputs": [
    {
     "data": {
      "text/plain": [
       "1"
      ]
     },
     "execution_count": 35,
     "metadata": {},
     "output_type": "execute_result"
    }
   ],
   "source": [
    "bigdf_nodup.groupby(['SUBJID']).size().max()"
   ]
  },
  {
   "cell_type": "markdown",
   "metadata": {},
   "source": [
    "Okay, we have no more duplicates! Woohoo!\n",
    "\n",
    "Wait, we have 222 patients total in the study but are still missing one here... (dup05-013-1)"
   ]
  },
  {
   "cell_type": "code",
   "execution_count": 36,
   "metadata": {},
   "outputs": [
    {
     "data": {
      "text/html": [
       "<div>\n",
       "<style scoped>\n",
       "    .dataframe tbody tr th:only-of-type {\n",
       "        vertical-align: middle;\n",
       "    }\n",
       "\n",
       "    .dataframe tbody tr th {\n",
       "        vertical-align: top;\n",
       "    }\n",
       "\n",
       "    .dataframe thead th {\n",
       "        text-align: right;\n",
       "    }\n",
       "</style>\n",
       "<table border=\"1\" class=\"dataframe\">\n",
       "  <thead>\n",
       "    <tr style=\"text-align: right;\">\n",
       "      <th></th>\n",
       "      <th>SUBJID</th>\n",
       "      <th>CLAIRESEQUENC</th>\n",
       "      <th>SUBJINTL</th>\n",
       "      <th>AIM1YN</th>\n",
       "      <th>AIM2YN</th>\n",
       "      <th>AIM3YN</th>\n",
       "      <th>VISITDT</th>\n",
       "      <th>VISITNO</th>\n",
       "      <th>COMPDATE</th>\n",
       "      <th>INITIAL</th>\n",
       "      <th>...</th>\n",
       "      <th>DATEFUNDO</th>\n",
       "      <th>PHMII</th>\n",
       "      <th>DATEPHMII</th>\n",
       "      <th>ABXINPT</th>\n",
       "      <th>ABX1SP</th>\n",
       "      <th>ABX1DUR</th>\n",
       "      <th>ABX1DOSE</th>\n",
       "      <th>ABX2SP</th>\n",
       "      <th>ABX2DUR</th>\n",
       "      <th>ABX2DOSE</th>\n",
       "    </tr>\n",
       "  </thead>\n",
       "  <tbody>\n",
       "  </tbody>\n",
       "</table>\n",
       "<p>0 rows × 1157 columns</p>\n",
       "</div>"
      ],
      "text/plain": [
       "Empty DataFrame\n",
       "Columns: [SUBJID, CLAIRESEQUENC, SUBJINTL, AIM1YN, AIM2YN, AIM3YN, VISITDT, VISITNO, COMPDATE, INITIAL, ANSWER, ANSWERSP, GENDER, GENDERIDENT, GENDERSPEC, DOB, ETHNIC, WHITE, BLACK, ASIAN, NATIVE, ISLAND, RACEUNKWN, RACEOTH, RACEOTHSP, OPEDUC, OPEDUCSP, YPEDUC, YPEDUCSP, HHINCOME, SCHOOL, SCHOOLSP, OTHCHIL, NUMCHIL, ZANTACPREG, PRILSCPREG, PREDNISNPREG, IMMSUPPREG, OTHMEDPREG, OTHMEDPREGSP, COMPC6, COMPC7, COMPC8, COMPC9, COMPC10, COMPC11, COMPC12, COMPSP, AGEBIR, BIRWGT, COMP15, COMP16, COMP17, COMP18, COMP19, COMP19A, SYMP1, SYMP2, SYMP3, SYMP4, SYMP5, SYMP6, SYMP7, SYMP8, SYMP9, SYMP10, SYMP11, SYMP12, SYMPOTH, SYMPSP, HOSP1YR, HOSP1TM, Y1MED1, Y1MED2, Y1MED3, Y1MED4, Y1MED5, MEDOTHY1, MEDOTHY1SP, GEBEFORE, GERESP, GEREFLX, GEFEEDDF, GEFAIL, GECONSTIP, GEALLRGY, GEOTH, GEOTHSP, COND22, COND23, COND24, COND25, COND26, COND27, COND28, COND29, COND30, COND31, COND32, COND33, ...]\n",
       "Index: []\n",
       "\n",
       "[0 rows x 1157 columns]"
      ]
     },
     "execution_count": 36,
     "metadata": {},
     "output_type": "execute_result"
    }
   ],
   "source": [
    "bigdf_nodup.query('SUBJID == \"dup05-013-1\"')"
   ]
  },
  {
   "cell_type": "code",
   "execution_count": 37,
   "metadata": {},
   "outputs": [
    {
     "data": {
      "text/plain": [
       "False"
      ]
     },
     "execution_count": 37,
     "metadata": {},
     "output_type": "execute_result"
    }
   ],
   "source": [
    "'05-013-1' in bigdf['SUBJID'].values"
   ]
  },
  {
   "cell_type": "code",
   "execution_count": 38,
   "metadata": {},
   "outputs": [
    {
     "data": {
      "text/plain": [
       "array(['01-297-4', '029-6-F1', '03-125-1', '04-164-1', '04-168-4',\n",
       "       '04-235-8', '13-058-2', '13-089-1', '14-233-0', 'dup05-013-1'],\n",
       "      dtype='|S11')"
      ]
     },
     "execution_count": 38,
     "metadata": {},
     "output_type": "execute_result"
    }
   ],
   "source": [
    "np.sort([i for i in analysis_allsubjs if i not in bigdf_nodup['SUBJID'].tolist()])"
   ]
  },
  {
   "cell_type": "markdown",
   "metadata": {},
   "source": [
    "```\n",
    "01-297-4 - \"01-297-4 is actually 01-297-2 - this is in the \"r01\" database\"\n",
    "029-6-F1 - \"please note that 029-6 is listed in database as 029-5\"\n",
    "03-125-1 - \"03-125-9 (we believe this was listed as 03-125-1 but the correct ID should be 03-125-9 based on our sample logs)\"\n",
    "04-164-1 - \"04-164-1 is listed in the database as 02-164-1\"\n",
    "04-168-4 - \"04-168-4 is listed in the database as 14-168-4\"\n",
    "04-235-8 - \"04-235-8 is listed in the database as 04-235-4\"\n",
    "13-058-2 - \"13-058-2 - listed in the \"r01\" database as 01-058-2\"\n",
    "13-089-1 - \"13-089-1 - listed in the \"r01\" database as 01-089-1\"\n",
    "14-233-0 - \"14-233-0 is listed in the database as 04-233-1\"\n",
    "\n",
    "dup05-013-1\n",
    "```"
   ]
  },
  {
   "cell_type": "code",
   "execution_count": 39,
   "metadata": {},
   "outputs": [
    {
     "data": {
      "text/plain": [
       "array(['01-058-2', '01-089-1', '01-199-7', '01-297-2', '029-5-F1',\n",
       "       '03-125-9', '03-200-1', '04-233-1', '04-235-4', '14-168-4'],\n",
       "      dtype='|S8')"
      ]
     },
     "execution_count": 39,
     "metadata": {},
     "output_type": "execute_result"
    }
   ],
   "source": [
    "# Hmm.. what about samples that are in the new metadata but not in my analysis?\n",
    "np.sort([i for i in bigdf_nodup['SUBJID'].tolist() if i not in analysis_allsubjs])"
   ]
  },
  {
   "cell_type": "markdown",
   "metadata": {},
   "source": [
    "```\n",
    "13-058-2 - \"13-058-2 - listed in the \"r01\" database as 01-058-2\"\n",
    "13-089-1 - \"13-089-1 - listed in the \"r01\" database as 01-089-1\"\n",
    "01-297-4 - \"01-297-4 is actually 01-297-2 - this is in the \"r01\" database\"\n",
    "029-6-F1 - \"please note that 029-6 is listed in database as 029-5\"\n",
    "03-125-1 - \"03-125-9 (we believe this was listed as 03-125-1 but the correct ID should be 03-125-9 based on our sample logs)\"\n",
    "14-233-0 - \"14-233-0 is listed in the database as 04-233-1\"\n",
    "04-235-8 - \"04-235-8 is listed in the database as 04-235-4\"\n",
    "04-168-4 - \"04-168-4 is listed in the database as 14-168-4\"\n",
    "\n",
    "\n",
    "04-164-1 - \"04-164-1 is listed in the database as 02-164-1\"\n",
    "dup05-013-1\n",
    "```\n",
    "\n",
    "Ones I didn't find:\n",
    "\n",
    "01-199-7    \n",
    "03-200-1\n",
    "\n",
    "Ah okay and it looks like 04-164-1 and 02-164-1, which are actually the same patient, are both in my metadata...\n"
   ]
  },
  {
   "cell_type": "code",
   "execution_count": 40,
   "metadata": {},
   "outputs": [
    {
     "data": {
      "text/html": [
       "<div>\n",
       "<style scoped>\n",
       "    .dataframe tbody tr th:only-of-type {\n",
       "        vertical-align: middle;\n",
       "    }\n",
       "\n",
       "    .dataframe tbody tr th {\n",
       "        vertical-align: top;\n",
       "    }\n",
       "\n",
       "    .dataframe thead th {\n",
       "        text-align: right;\n",
       "    }\n",
       "</style>\n",
       "<table border=\"1\" class=\"dataframe\">\n",
       "  <thead>\n",
       "    <tr style=\"text-align: right;\">\n",
       "      <th></th>\n",
       "      <th>bal</th>\n",
       "      <th>gastric_fluid</th>\n",
       "      <th>throat_swab</th>\n",
       "      <th>stool</th>\n",
       "      <th>figure1.overview_plots</th>\n",
       "      <th>figure2.2016_pcoa</th>\n",
       "      <th>figure2.2014_pcoa</th>\n",
       "      <th>figure2.between_patient_jsd_2016_permanova</th>\n",
       "      <th>figure2.between_patient_jsd_2014_permanova</th>\n",
       "      <th>figure2.between_patient_jsd</th>\n",
       "      <th>...</th>\n",
       "      <th>aspiration_classifiers_exchanged_OTUs.bal_gastric_fluid</th>\n",
       "      <th>aspiration_classifiers_exchanged_OTUs.bal_throat_swab</th>\n",
       "      <th>aspiration_classifiers.bal</th>\n",
       "      <th>aspiration_classifiers.gastric_fluid</th>\n",
       "      <th>aspiration_classifiers.throat_swab</th>\n",
       "      <th>aspiration_classifiers.bal_throat_swab</th>\n",
       "      <th>aspiration_classifiers.bal_gastric_fluid</th>\n",
       "      <th>aspiration_classifiers.throat_swab_gastric_fluid</th>\n",
       "      <th>aspiration_classifiers.bal_throat_swab_gastric_fluid</th>\n",
       "      <th>figure5.reflux_correlation</th>\n",
       "    </tr>\n",
       "  </thead>\n",
       "  <tbody>\n",
       "    <tr>\n",
       "      <th>04-164-1</th>\n",
       "      <td>False</td>\n",
       "      <td>False</td>\n",
       "      <td>True</td>\n",
       "      <td>False</td>\n",
       "      <td>False</td>\n",
       "      <td>False</td>\n",
       "      <td>True</td>\n",
       "      <td>False</td>\n",
       "      <td>True</td>\n",
       "      <td>True</td>\n",
       "      <td>...</td>\n",
       "      <td>False</td>\n",
       "      <td>False</td>\n",
       "      <td>False</td>\n",
       "      <td>False</td>\n",
       "      <td>False</td>\n",
       "      <td>False</td>\n",
       "      <td>False</td>\n",
       "      <td>False</td>\n",
       "      <td>False</td>\n",
       "      <td>False</td>\n",
       "    </tr>\n",
       "    <tr>\n",
       "      <th>02-164-1</th>\n",
       "      <td>False</td>\n",
       "      <td>True</td>\n",
       "      <td>False</td>\n",
       "      <td>False</td>\n",
       "      <td>False</td>\n",
       "      <td>False</td>\n",
       "      <td>True</td>\n",
       "      <td>False</td>\n",
       "      <td>True</td>\n",
       "      <td>True</td>\n",
       "      <td>...</td>\n",
       "      <td>False</td>\n",
       "      <td>False</td>\n",
       "      <td>False</td>\n",
       "      <td>True</td>\n",
       "      <td>False</td>\n",
       "      <td>False</td>\n",
       "      <td>False</td>\n",
       "      <td>False</td>\n",
       "      <td>False</td>\n",
       "      <td>False</td>\n",
       "    </tr>\n",
       "  </tbody>\n",
       "</table>\n",
       "<p>2 rows × 32 columns</p>\n",
       "</div>"
      ],
      "text/plain": [
       "            bal  gastric_fluid  throat_swab  stool  figure1.overview_plots  \\\n",
       "04-164-1  False          False         True  False                   False   \n",
       "02-164-1  False           True        False  False                   False   \n",
       "\n",
       "          figure2.2016_pcoa  figure2.2014_pcoa  \\\n",
       "04-164-1              False               True   \n",
       "02-164-1              False               True   \n",
       "\n",
       "          figure2.between_patient_jsd_2016_permanova  \\\n",
       "04-164-1                                       False   \n",
       "02-164-1                                       False   \n",
       "\n",
       "          figure2.between_patient_jsd_2014_permanova  \\\n",
       "04-164-1                                        True   \n",
       "02-164-1                                        True   \n",
       "\n",
       "          figure2.between_patient_jsd             ...              \\\n",
       "04-164-1                         True             ...               \n",
       "02-164-1                         True             ...               \n",
       "\n",
       "          aspiration_classifiers_exchanged_OTUs.bal_gastric_fluid  \\\n",
       "04-164-1                                              False         \n",
       "02-164-1                                              False         \n",
       "\n",
       "          aspiration_classifiers_exchanged_OTUs.bal_throat_swab  \\\n",
       "04-164-1                                              False       \n",
       "02-164-1                                              False       \n",
       "\n",
       "          aspiration_classifiers.bal  aspiration_classifiers.gastric_fluid  \\\n",
       "04-164-1                       False                                 False   \n",
       "02-164-1                       False                                  True   \n",
       "\n",
       "          aspiration_classifiers.throat_swab  \\\n",
       "04-164-1                               False   \n",
       "02-164-1                               False   \n",
       "\n",
       "          aspiration_classifiers.bal_throat_swab  \\\n",
       "04-164-1                                   False   \n",
       "02-164-1                                   False   \n",
       "\n",
       "          aspiration_classifiers.bal_gastric_fluid  \\\n",
       "04-164-1                                     False   \n",
       "02-164-1                                     False   \n",
       "\n",
       "          aspiration_classifiers.throat_swab_gastric_fluid  \\\n",
       "04-164-1                                             False   \n",
       "02-164-1                                             False   \n",
       "\n",
       "          aspiration_classifiers.bal_throat_swab_gastric_fluid  \\\n",
       "04-164-1                                              False      \n",
       "02-164-1                                              False      \n",
       "\n",
       "          figure5.reflux_correlation  \n",
       "04-164-1                       False  \n",
       "02-164-1                       False  \n",
       "\n",
       "[2 rows x 32 columns]"
      ]
     },
     "execution_count": 40,
     "metadata": {},
     "output_type": "execute_result"
    }
   ],
   "source": [
    "dfpts.loc[['04-164-1', '02-164-1']]"
   ]
  },
  {
   "cell_type": "markdown",
   "metadata": {},
   "source": [
    "Are these aspirators? If not, I don't think it's worth fixing..."
   ]
  },
  {
   "cell_type": "code",
   "execution_count": 41,
   "metadata": {},
   "outputs": [],
   "source": [
    "#dfpts.columns"
   ]
  },
  {
   "cell_type": "code",
   "execution_count": 42,
   "metadata": {},
   "outputs": [
    {
     "data": {
      "text/html": [
       "<div>\n",
       "<style scoped>\n",
       "    .dataframe tbody tr th:only-of-type {\n",
       "        vertical-align: middle;\n",
       "    }\n",
       "\n",
       "    .dataframe tbody tr th {\n",
       "        vertical-align: top;\n",
       "    }\n",
       "\n",
       "    .dataframe thead th {\n",
       "        text-align: right;\n",
       "    }\n",
       "</style>\n",
       "<table border=\"1\" class=\"dataframe\">\n",
       "  <thead>\n",
       "    <tr style=\"text-align: right;\">\n",
       "      <th></th>\n",
       "      <th>exchange_calculation.gastric_fluid-throat_swab</th>\n",
       "      <th>figure3.within_patient_beta_div</th>\n",
       "      <th>figure4.asp_vs_nonasp_beta</th>\n",
       "      <th>aspiration_classifiers.throat_swab</th>\n",
       "    </tr>\n",
       "  </thead>\n",
       "  <tbody>\n",
       "    <tr>\n",
       "      <th>04-164-1</th>\n",
       "      <td>False</td>\n",
       "      <td>False</td>\n",
       "      <td>False</td>\n",
       "      <td>False</td>\n",
       "    </tr>\n",
       "    <tr>\n",
       "      <th>02-164-1</th>\n",
       "      <td>False</td>\n",
       "      <td>False</td>\n",
       "      <td>False</td>\n",
       "      <td>False</td>\n",
       "    </tr>\n",
       "  </tbody>\n",
       "</table>\n",
       "</div>"
      ],
      "text/plain": [
       "          exchange_calculation.gastric_fluid-throat_swab  \\\n",
       "04-164-1                                           False   \n",
       "02-164-1                                           False   \n",
       "\n",
       "          figure3.within_patient_beta_div  figure4.asp_vs_nonasp_beta  \\\n",
       "04-164-1                            False                       False   \n",
       "02-164-1                            False                       False   \n",
       "\n",
       "          aspiration_classifiers.throat_swab  \n",
       "04-164-1                               False  \n",
       "02-164-1                               False  "
      ]
     },
     "execution_count": 42,
     "metadata": {},
     "output_type": "execute_result"
    }
   ],
   "source": [
    "dfpts.loc[['04-164-1', '02-164-1'] , \n",
    "          ['exchange_calculation.gastric_fluid-throat_swab', 'figure3.within_patient_beta_div', \n",
    "           'figure4.asp_vs_nonasp_beta', 'aspiration_classifiers.throat_swab']]"
   ]
  },
  {
   "cell_type": "markdown",
   "metadata": {},
   "source": [
    "No, I think I can leave these two as they are, since they aren't used in the most important parts of the analysis or the ones with low N. \n",
    "\n",
    "Having samples that seem like they're from two different people when they're actually the same person would only affect my between-patient calculations, but pulling them all away from my conclusions (e.g. it would make it seem like gastric/throat between people are more similar than they actually are.)"
   ]
  },
  {
   "cell_type": "markdown",
   "metadata": {},
   "source": [
    "I just realized that the dup05 patient shouldn't be in these analyses, because they're a lung transplant patient... What analyses did I use this patient in?"
   ]
  },
  {
   "cell_type": "code",
   "execution_count": 43,
   "metadata": {},
   "outputs": [
    {
     "data": {
      "text/plain": [
       "bal                                                                   True\n",
       "gastric_fluid                                                         True\n",
       "throat_swab                                                          False\n",
       "stool                                                                False\n",
       "figure1.overview_plots                                               False\n",
       "figure2.2016_pcoa                                                    False\n",
       "figure2.2014_pcoa                                                     True\n",
       "figure2.between_patient_jsd_2016_permanova                           False\n",
       "figure2.between_patient_jsd_2014_permanova                            True\n",
       "figure2.between_patient_jsd                                           True\n",
       "figure3.site_classifiers                                              True\n",
       "figure3.within_patient_beta_div                                       True\n",
       "figure4.asp_vs_nonasp_beta                                           False\n",
       "exchange_calculation.bal-throat_swab                                 False\n",
       "exchange_calculation.bal-gastric_fluid                               False\n",
       "exchange_calculation.gastric_fluid-throat_swab                       False\n",
       "prevalence_calculation.bal-gastric_fluid.mbs_consolidated            False\n",
       "prevalence_calculation.bal-throat_swab.mbs_consolidated              False\n",
       "prevalence_calculation.gastric_fluid-throat_swab.mbs_consolidated    False\n",
       "aspiration_classifiers_exchanged_OTUs.bal                            False\n",
       "aspiration_classifiers_exchanged_OTUs.gastric_fluid                  False\n",
       "aspiration_classifiers_exchanged_OTUs.throat_swab                    False\n",
       "aspiration_classifiers_exchanged_OTUs.bal_gastric_fluid              False\n",
       "aspiration_classifiers_exchanged_OTUs.bal_throat_swab                False\n",
       "aspiration_classifiers.bal                                           False\n",
       "aspiration_classifiers.gastric_fluid                                 False\n",
       "aspiration_classifiers.throat_swab                                   False\n",
       "aspiration_classifiers.bal_throat_swab                               False\n",
       "aspiration_classifiers.bal_gastric_fluid                             False\n",
       "aspiration_classifiers.throat_swab_gastric_fluid                     False\n",
       "aspiration_classifiers.bal_throat_swab_gastric_fluid                 False\n",
       "figure5.reflux_correlation                                           False\n",
       "Name: dup05-013-1, dtype: bool"
      ]
     },
     "execution_count": 43,
     "metadata": {},
     "output_type": "execute_result"
    }
   ],
   "source": [
    "dfpts.loc['dup05-013-1']"
   ]
  },
  {
   "cell_type": "markdown",
   "metadata": {},
   "source": [
    "Okay, this one is fine too. We'll just keep it in the data but not have any metadata for it. I think that's okay - again, shouldn't really affect any of our results."
   ]
  },
  {
   "cell_type": "code",
   "execution_count": null,
   "metadata": {},
   "outputs": [],
   "source": []
  },
  {
   "cell_type": "markdown",
   "metadata": {},
   "source": [
    "# Gender and age"
   ]
  },
  {
   "cell_type": "code",
   "execution_count": 47,
   "metadata": {},
   "outputs": [
    {
     "data": {
      "text/plain": [
       "((222, 1157), (222, 2))"
      ]
     },
     "execution_count": 47,
     "metadata": {},
     "output_type": "execute_result"
    }
   ],
   "source": [
    "gender_cols = ['GENDER', 'GENDER_BL']\n",
    "#[i for i in bigdf_nodup.columns if 'gender' in i.lower()]\n",
    "bigdf_nodup.shape, bigdf_nodup[gender_cols].dropna(how='all').shape"
   ]
  },
  {
   "cell_type": "markdown",
   "metadata": {},
   "source": [
    "Any patients missing gender data?"
   ]
  },
  {
   "cell_type": "code",
   "execution_count": 50,
   "metadata": {},
   "outputs": [
    {
     "data": {
      "text/html": [
       "<div>\n",
       "<style scoped>\n",
       "    .dataframe tbody tr th:only-of-type {\n",
       "        vertical-align: middle;\n",
       "    }\n",
       "\n",
       "    .dataframe tbody tr th {\n",
       "        vertical-align: top;\n",
       "    }\n",
       "\n",
       "    .dataframe thead th {\n",
       "        text-align: right;\n",
       "    }\n",
       "</style>\n",
       "<table border=\"1\" class=\"dataframe\">\n",
       "  <thead>\n",
       "    <tr style=\"text-align: right;\">\n",
       "      <th></th>\n",
       "      <th>SUBJID</th>\n",
       "      <th>CLAIRESEQUENC</th>\n",
       "      <th>SUBJINTL</th>\n",
       "      <th>AIM1YN</th>\n",
       "      <th>AIM2YN</th>\n",
       "      <th>AIM3YN</th>\n",
       "      <th>VISITDT</th>\n",
       "      <th>VISITNO</th>\n",
       "      <th>COMPDATE</th>\n",
       "      <th>INITIAL</th>\n",
       "      <th>...</th>\n",
       "      <th>DATEFUNDO</th>\n",
       "      <th>PHMII</th>\n",
       "      <th>DATEPHMII</th>\n",
       "      <th>ABXINPT</th>\n",
       "      <th>ABX1SP</th>\n",
       "      <th>ABX1DUR</th>\n",
       "      <th>ABX1DOSE</th>\n",
       "      <th>ABX2SP</th>\n",
       "      <th>ABX2DUR</th>\n",
       "      <th>ABX2DOSE</th>\n",
       "    </tr>\n",
       "  </thead>\n",
       "  <tbody>\n",
       "    <tr>\n",
       "      <th>170</th>\n",
       "      <td>04-062-8</td>\n",
       "      <td>1.0</td>\n",
       "      <td>TS</td>\n",
       "      <td>0</td>\n",
       "      <td>1</td>\n",
       "      <td>0</td>\n",
       "      <td>3/8/2011</td>\n",
       "      <td>1</td>\n",
       "      <td>3/8/2011</td>\n",
       "      <td></td>\n",
       "      <td>...</td>\n",
       "      <td>NaN</td>\n",
       "      <td>NaN</td>\n",
       "      <td>NaN</td>\n",
       "      <td>NaN</td>\n",
       "      <td>NaN</td>\n",
       "      <td>NaN</td>\n",
       "      <td>NaN</td>\n",
       "      <td>NaN</td>\n",
       "      <td>NaN</td>\n",
       "      <td>NaN</td>\n",
       "    </tr>\n",
       "  </tbody>\n",
       "</table>\n",
       "<p>1 rows × 1157 columns</p>\n",
       "</div>"
      ],
      "text/plain": [
       "       SUBJID  CLAIRESEQUENC SUBJINTL AIM1YN AIM2YN AIM3YN   VISITDT VISITNO  \\\n",
       "170  04-062-8            1.0       TS      0      1      0  3/8/2011       1   \n",
       "\n",
       "     COMPDATE INITIAL   ...    DATEFUNDO PHMII DATEPHMII ABXINPT ABX1SP  \\\n",
       "170  3/8/2011           ...          NaN   NaN       NaN     NaN    NaN   \n",
       "\n",
       "    ABX1DUR ABX1DOSE ABX2SP ABX2DUR ABX2DOSE  \n",
       "170     NaN      NaN    NaN     NaN      NaN  \n",
       "\n",
       "[1 rows x 1157 columns]"
      ]
     },
     "execution_count": 50,
     "metadata": {},
     "output_type": "execute_result"
    }
   ],
   "source": [
    "bigdf_nodup[bigdf_nodup['GENDER'] == '-6']"
   ]
  },
  {
   "cell_type": "code",
   "execution_count": 52,
   "metadata": {},
   "outputs": [
    {
     "data": {
      "text/html": [
       "<div>\n",
       "<style scoped>\n",
       "    .dataframe tbody tr th:only-of-type {\n",
       "        vertical-align: middle;\n",
       "    }\n",
       "\n",
       "    .dataframe tbody tr th {\n",
       "        vertical-align: top;\n",
       "    }\n",
       "\n",
       "    .dataframe thead th {\n",
       "        text-align: right;\n",
       "    }\n",
       "</style>\n",
       "<table border=\"1\" class=\"dataframe\">\n",
       "  <thead>\n",
       "    <tr style=\"text-align: right;\">\n",
       "      <th></th>\n",
       "      <th>SUBJID</th>\n",
       "      <th>CLAIRESEQUENC</th>\n",
       "      <th>SUBJINTL</th>\n",
       "      <th>AIM1YN</th>\n",
       "      <th>AIM2YN</th>\n",
       "      <th>AIM3YN</th>\n",
       "      <th>VISITDT</th>\n",
       "      <th>VISITNO</th>\n",
       "      <th>COMPDATE</th>\n",
       "      <th>INITIAL</th>\n",
       "      <th>...</th>\n",
       "      <th>DATEFUNDO</th>\n",
       "      <th>PHMII</th>\n",
       "      <th>DATEPHMII</th>\n",
       "      <th>ABXINPT</th>\n",
       "      <th>ABX1SP</th>\n",
       "      <th>ABX1DUR</th>\n",
       "      <th>ABX1DOSE</th>\n",
       "      <th>ABX2SP</th>\n",
       "      <th>ABX2DUR</th>\n",
       "      <th>ABX2DOSE</th>\n",
       "    </tr>\n",
       "  </thead>\n",
       "  <tbody>\n",
       "    <tr>\n",
       "      <th>375</th>\n",
       "      <td>026-8-F1</td>\n",
       "      <td>NaN</td>\n",
       "      <td>NaN</td>\n",
       "      <td>NaN</td>\n",
       "      <td>NaN</td>\n",
       "      <td>NaN</td>\n",
       "      <td>NaN</td>\n",
       "      <td>NaN</td>\n",
       "      <td>NaN</td>\n",
       "      <td>NaN</td>\n",
       "      <td>...</td>\n",
       "      <td></td>\n",
       "      <td></td>\n",
       "      <td></td>\n",
       "      <td></td>\n",
       "      <td></td>\n",
       "      <td></td>\n",
       "      <td></td>\n",
       "      <td></td>\n",
       "      <td></td>\n",
       "      <td></td>\n",
       "    </tr>\n",
       "  </tbody>\n",
       "</table>\n",
       "<p>1 rows × 1157 columns</p>\n",
       "</div>"
      ],
      "text/plain": [
       "       SUBJID  CLAIRESEQUENC SUBJINTL AIM1YN AIM2YN AIM3YN VISITDT VISITNO  \\\n",
       "375  026-8-F1            NaN      NaN    NaN    NaN    NaN     NaN     NaN   \n",
       "\n",
       "    COMPDATE INITIAL   ...    DATEFUNDO PHMII DATEPHMII ABXINPT ABX1SP  \\\n",
       "375      NaN     NaN   ...                                               \n",
       "\n",
       "    ABX1DUR ABX1DOSE ABX2SP ABX2DUR ABX2DOSE  \n",
       "375                                           \n",
       "\n",
       "[1 rows x 1157 columns]"
      ]
     },
     "execution_count": 52,
     "metadata": {},
     "output_type": "execute_result"
    }
   ],
   "source": [
    "bigdf_nodup[bigdf_nodup['GENDER_BL'] == ' ']"
   ]
  },
  {
   "cell_type": "code",
   "execution_count": 51,
   "metadata": {},
   "outputs": [
    {
     "data": {
      "text/plain": [
       "array([nan, '0', '1', ' ', '2'], dtype=object)"
      ]
     },
     "execution_count": 51,
     "metadata": {},
     "output_type": "execute_result"
    }
   ],
   "source": [
    "bigdf_nodup['GENDER_BL'].unique()"
   ]
  },
  {
   "cell_type": "code",
   "execution_count": null,
   "metadata": {},
   "outputs": [],
   "source": []
  }
 ],
 "metadata": {
  "anaconda-cloud": {},
  "kernelspec": {
   "display_name": "Python (aspiration)",
   "language": "python",
   "name": "aspiration"
  },
  "language_info": {
   "codemirror_mode": {
    "name": "ipython",
    "version": 2
   },
   "file_extension": ".py",
   "mimetype": "text/x-python",
   "name": "python",
   "nbconvert_exporter": "python",
   "pygments_lexer": "ipython2",
   "version": "2.7.15"
  }
 },
 "nbformat": 4,
 "nbformat_minor": 2
}
