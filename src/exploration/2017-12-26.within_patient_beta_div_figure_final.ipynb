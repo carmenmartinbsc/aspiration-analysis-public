{
 "cells": [
  {
   "cell_type": "markdown",
   "metadata": {},
   "source": [
    "This notebook plots the final within-patient beta diversity plots."
   ]
  },
  {
   "cell_type": "code",
   "execution_count": 18,
   "metadata": {
    "collapsed": true
   },
   "outputs": [],
   "source": [
    "import pandas as pd\n",
    "\n",
    "import matplotlib.pyplot as plt\n",
    "import seaborn as sns\n",
    "%matplotlib inline"
   ]
  },
  {
   "cell_type": "code",
   "execution_count": 19,
   "metadata": {
    "collapsed": false
   },
   "outputs": [
    {
     "data": {
      "text/html": [
       "<div>\n",
       "<style scoped>\n",
       "    .dataframe tbody tr th:only-of-type {\n",
       "        vertical-align: middle;\n",
       "    }\n",
       "\n",
       "    .dataframe tbody tr th {\n",
       "        vertical-align: top;\n",
       "    }\n",
       "\n",
       "    .dataframe thead th {\n",
       "        text-align: right;\n",
       "    }\n",
       "</style>\n",
       "<table border=\"1\" class=\"dataframe\">\n",
       "  <thead>\n",
       "    <tr style=\"text-align: right;\">\n",
       "      <th></th>\n",
       "      <th>sample1</th>\n",
       "      <th>sample2</th>\n",
       "      <th>beta</th>\n",
       "      <th>site1</th>\n",
       "      <th>site2</th>\n",
       "      <th>site_comparison</th>\n",
       "      <th>patient_comp</th>\n",
       "      <th>subject</th>\n",
       "      <th>batch1</th>\n",
       "      <th>batch2</th>\n",
       "      <th>...</th>\n",
       "      <th>percent distal acid</th>\n",
       "      <th>percent proximal acid</th>\n",
       "      <th>percent proximal nonacid</th>\n",
       "      <th>percent distal total</th>\n",
       "      <th>number of full colum events/total events</th>\n",
       "      <th>Number of full column episodes</th>\n",
       "      <th>Was Bile CA detected?</th>\n",
       "      <th>Was Bile DCA detected?</th>\n",
       "      <th>Was Bile LCA detected?</th>\n",
       "      <th>Was Bile TCA detected?</th>\n",
       "    </tr>\n",
       "  </thead>\n",
       "  <tbody>\n",
       "    <tr>\n",
       "      <th>0</th>\n",
       "      <td>01-112-7GI</td>\n",
       "      <td>01-112-7RI</td>\n",
       "      <td>0.400324</td>\n",
       "      <td>gastric_fluid</td>\n",
       "      <td>rectal_swab</td>\n",
       "      <td>gastric_fluid-rectal_swab</td>\n",
       "      <td>within</td>\n",
       "      <td>01-112-7</td>\n",
       "      <td>2016</td>\n",
       "      <td>2016</td>\n",
       "      <td>...</td>\n",
       "      <td>NaN</td>\n",
       "      <td>NaN</td>\n",
       "      <td>NaN</td>\n",
       "      <td>NaN</td>\n",
       "      <td>NaN</td>\n",
       "      <td>NaN</td>\n",
       "      <td>NaN</td>\n",
       "      <td>NaN</td>\n",
       "      <td>NaN</td>\n",
       "      <td>NaN</td>\n",
       "    </tr>\n",
       "    <tr>\n",
       "      <th>1</th>\n",
       "      <td>01-112-7GI</td>\n",
       "      <td>01-112-7TI</td>\n",
       "      <td>0.993353</td>\n",
       "      <td>gastric_fluid</td>\n",
       "      <td>throat_swab</td>\n",
       "      <td>gastric_fluid-throat_swab</td>\n",
       "      <td>within</td>\n",
       "      <td>01-112-7</td>\n",
       "      <td>2016</td>\n",
       "      <td>2016</td>\n",
       "      <td>...</td>\n",
       "      <td>NaN</td>\n",
       "      <td>NaN</td>\n",
       "      <td>NaN</td>\n",
       "      <td>NaN</td>\n",
       "      <td>NaN</td>\n",
       "      <td>NaN</td>\n",
       "      <td>NaN</td>\n",
       "      <td>NaN</td>\n",
       "      <td>NaN</td>\n",
       "      <td>NaN</td>\n",
       "    </tr>\n",
       "    <tr>\n",
       "      <th>2</th>\n",
       "      <td>01-112-7GI</td>\n",
       "      <td>01-164-7GI</td>\n",
       "      <td>0.994055</td>\n",
       "      <td>gastric_fluid</td>\n",
       "      <td>gastric_fluid</td>\n",
       "      <td>gastric_fluid-gastric_fluid</td>\n",
       "      <td>between</td>\n",
       "      <td>NaN</td>\n",
       "      <td>2016</td>\n",
       "      <td>2016</td>\n",
       "      <td>...</td>\n",
       "      <td>NaN</td>\n",
       "      <td>NaN</td>\n",
       "      <td>NaN</td>\n",
       "      <td>NaN</td>\n",
       "      <td>NaN</td>\n",
       "      <td>NaN</td>\n",
       "      <td>NaN</td>\n",
       "      <td>NaN</td>\n",
       "      <td>NaN</td>\n",
       "      <td>NaN</td>\n",
       "    </tr>\n",
       "    <tr>\n",
       "      <th>3</th>\n",
       "      <td>01-112-7GI</td>\n",
       "      <td>01-164-7RI</td>\n",
       "      <td>0.575080</td>\n",
       "      <td>gastric_fluid</td>\n",
       "      <td>rectal_swab</td>\n",
       "      <td>gastric_fluid-rectal_swab</td>\n",
       "      <td>between</td>\n",
       "      <td>NaN</td>\n",
       "      <td>2016</td>\n",
       "      <td>2016</td>\n",
       "      <td>...</td>\n",
       "      <td>NaN</td>\n",
       "      <td>NaN</td>\n",
       "      <td>NaN</td>\n",
       "      <td>NaN</td>\n",
       "      <td>NaN</td>\n",
       "      <td>NaN</td>\n",
       "      <td>NaN</td>\n",
       "      <td>NaN</td>\n",
       "      <td>NaN</td>\n",
       "      <td>NaN</td>\n",
       "    </tr>\n",
       "    <tr>\n",
       "      <th>4</th>\n",
       "      <td>01-112-7GI</td>\n",
       "      <td>01-164-7TI</td>\n",
       "      <td>0.995439</td>\n",
       "      <td>gastric_fluid</td>\n",
       "      <td>throat_swab</td>\n",
       "      <td>gastric_fluid-throat_swab</td>\n",
       "      <td>between</td>\n",
       "      <td>NaN</td>\n",
       "      <td>2016</td>\n",
       "      <td>2016</td>\n",
       "      <td>...</td>\n",
       "      <td>NaN</td>\n",
       "      <td>NaN</td>\n",
       "      <td>NaN</td>\n",
       "      <td>NaN</td>\n",
       "      <td>NaN</td>\n",
       "      <td>NaN</td>\n",
       "      <td>NaN</td>\n",
       "      <td>NaN</td>\n",
       "      <td>NaN</td>\n",
       "      <td>NaN</td>\n",
       "    </tr>\n",
       "  </tbody>\n",
       "</table>\n",
       "<p>5 rows × 39 columns</p>\n",
       "</div>"
      ],
      "text/plain": [
       "      sample1     sample2      beta          site1          site2  \\\n",
       "0  01-112-7GI  01-112-7RI  0.400324  gastric_fluid    rectal_swab   \n",
       "1  01-112-7GI  01-112-7TI  0.993353  gastric_fluid    throat_swab   \n",
       "2  01-112-7GI  01-164-7GI  0.994055  gastric_fluid  gastric_fluid   \n",
       "3  01-112-7GI  01-164-7RI  0.575080  gastric_fluid    rectal_swab   \n",
       "4  01-112-7GI  01-164-7TI  0.995439  gastric_fluid    throat_swab   \n",
       "\n",
       "               site_comparison patient_comp   subject  batch1  batch2  \\\n",
       "0    gastric_fluid-rectal_swab       within  01-112-7    2016    2016   \n",
       "1    gastric_fluid-throat_swab       within  01-112-7    2016    2016   \n",
       "2  gastric_fluid-gastric_fluid      between       NaN    2016    2016   \n",
       "3    gastric_fluid-rectal_swab      between       NaN    2016    2016   \n",
       "4    gastric_fluid-throat_swab      between       NaN    2016    2016   \n",
       "\n",
       "            ...           percent distal acid percent proximal acid  \\\n",
       "0           ...                           NaN                   NaN   \n",
       "1           ...                           NaN                   NaN   \n",
       "2           ...                           NaN                   NaN   \n",
       "3           ...                           NaN                   NaN   \n",
       "4           ...                           NaN                   NaN   \n",
       "\n",
       "  percent proximal nonacid percent distal total  \\\n",
       "0                      NaN                  NaN   \n",
       "1                      NaN                  NaN   \n",
       "2                      NaN                  NaN   \n",
       "3                      NaN                  NaN   \n",
       "4                      NaN                  NaN   \n",
       "\n",
       "   number of full colum events/total events  Number of full column episodes  \\\n",
       "0                                       NaN                             NaN   \n",
       "1                                       NaN                             NaN   \n",
       "2                                       NaN                             NaN   \n",
       "3                                       NaN                             NaN   \n",
       "4                                       NaN                             NaN   \n",
       "\n",
       "  Was Bile CA detected? Was Bile DCA detected? Was Bile LCA detected?  \\\n",
       "0                   NaN                    NaN                    NaN   \n",
       "1                   NaN                    NaN                    NaN   \n",
       "2                   NaN                    NaN                    NaN   \n",
       "3                   NaN                    NaN                    NaN   \n",
       "4                   NaN                    NaN                    NaN   \n",
       "\n",
       "   Was Bile TCA detected?  \n",
       "0                     NaN  \n",
       "1                     NaN  \n",
       "2                     NaN  \n",
       "3                     NaN  \n",
       "4                     NaN  \n",
       "\n",
       "[5 rows x 39 columns]"
      ]
     },
     "execution_count": 19,
     "metadata": {},
     "output_type": "execute_result"
    }
   ],
   "source": [
    "fjsdlong = '/Users/claire/github/aspiration-analysis/data/analysis/jsd.txt'\n",
    "\n",
    "jsd = pd.read_csv(fjsdlong, sep='\\t')\n",
    "jsd.head()"
   ]
  },
  {
   "cell_type": "code",
   "execution_count": 20,
   "metadata": {
    "collapsed": true
   },
   "outputs": [],
   "source": [
    "jsd = jsd.query('patient_comp == \"within\"')\n",
    "jsd['mbs_consolidated'] = jsd['mbs_consolidated'].fillna('Not tested')"
   ]
  },
  {
   "cell_type": "code",
   "execution_count": 21,
   "metadata": {
    "collapsed": false
   },
   "outputs": [
    {
     "data": {
      "text/plain": [
       "subject      site_comparison          \n",
       "dup05-013-1  bal-gastric_fluid            1\n",
       "04-067-2     bal-throat_swab              1\n",
       "04-061-8     bal-gastric_fluid            1\n",
       "             bal-throat_swab              1\n",
       "             gastric_fluid-throat_swab    1\n",
       "04-062-8     bal-gastric_fluid            1\n",
       "             bal-throat_swab              1\n",
       "             gastric_fluid-throat_swab    1\n",
       "04-063-7     bal-gastric_fluid            1\n",
       "             bal-throat_swab              1\n",
       "             gastric_fluid-throat_swab    1\n",
       "04-064-5     bal-gastric_fluid            1\n",
       "             bal-throat_swab              1\n",
       "             gastric_fluid-throat_swab    1\n",
       "04-066-0     bal-gastric_fluid            1\n",
       "             bal-throat_swab              1\n",
       "             gastric_fluid-throat_swab    1\n",
       "04-054-3     gastric_fluid-throat_swab    1\n",
       "             bal-throat_swab              1\n",
       "             bal-gastric_fluid            1\n",
       "04-011-3     bal-gastric_fluid            1\n",
       "03-153-7     stool-throat_swab            1\n",
       "03-156-7     stool-throat_swab            1\n",
       "03-181-7     stool-throat_swab            1\n",
       "03-199-7     stool-throat_swab            1\n",
       "dtype: int64"
      ]
     },
     "execution_count": 21,
     "metadata": {},
     "output_type": "execute_result"
    }
   ],
   "source": [
    "neworder = ['bal-throat_swab', 'bal-gastric_fluid', \n",
    "            'gastric_fluid-throat_swab', 'stool-throat_swab']\n",
    "\n",
    "# How many site comparisons are duplicate?\n",
    "jsd\\\n",
    "    .query('site_comparison == @neworder')\\\n",
    "    .groupby(['subject', 'site_comparison'])\\\n",
    "    .size()\\\n",
    "    .sort_values(ascending=False)\\\n",
    "    .head(25)"
   ]
  },
  {
   "cell_type": "code",
   "execution_count": 22,
   "metadata": {
    "collapsed": false
   },
   "outputs": [
    {
     "data": {
      "text/html": [
       "<div>\n",
       "<style scoped>\n",
       "    .dataframe tbody tr th:only-of-type {\n",
       "        vertical-align: middle;\n",
       "    }\n",
       "\n",
       "    .dataframe tbody tr th {\n",
       "        vertical-align: top;\n",
       "    }\n",
       "\n",
       "    .dataframe thead th {\n",
       "        text-align: right;\n",
       "    }\n",
       "</style>\n",
       "<table border=\"1\" class=\"dataframe\">\n",
       "  <thead>\n",
       "    <tr style=\"text-align: right;\">\n",
       "      <th></th>\n",
       "      <th>sample1</th>\n",
       "      <th>sample2</th>\n",
       "      <th>beta</th>\n",
       "      <th>site1</th>\n",
       "      <th>site2</th>\n",
       "      <th>site_comparison</th>\n",
       "      <th>patient_comp</th>\n",
       "      <th>subject</th>\n",
       "      <th>batch1</th>\n",
       "      <th>batch2</th>\n",
       "      <th>...</th>\n",
       "      <th>percent distal acid</th>\n",
       "      <th>percent proximal acid</th>\n",
       "      <th>percent proximal nonacid</th>\n",
       "      <th>percent distal total</th>\n",
       "      <th>number of full colum events/total events</th>\n",
       "      <th>Number of full column episodes</th>\n",
       "      <th>Was Bile CA detected?</th>\n",
       "      <th>Was Bile DCA detected?</th>\n",
       "      <th>Was Bile LCA detected?</th>\n",
       "      <th>Was Bile TCA detected?</th>\n",
       "    </tr>\n",
       "  </thead>\n",
       "  <tbody>\n",
       "    <tr>\n",
       "      <th>52402</th>\n",
       "      <td>03-146-6SI</td>\n",
       "      <td>03-146-6TI</td>\n",
       "      <td>0.993326</td>\n",
       "      <td>stool</td>\n",
       "      <td>throat_swab</td>\n",
       "      <td>stool-throat_swab</td>\n",
       "      <td>within</td>\n",
       "      <td>03-146-6</td>\n",
       "      <td>2016</td>\n",
       "      <td>2016</td>\n",
       "      <td>...</td>\n",
       "      <td>NaN</td>\n",
       "      <td>NaN</td>\n",
       "      <td>NaN</td>\n",
       "      <td>NaN</td>\n",
       "      <td>NaN</td>\n",
       "      <td>NaN</td>\n",
       "      <td>NaN</td>\n",
       "      <td>NaN</td>\n",
       "      <td>NaN</td>\n",
       "      <td>NaN</td>\n",
       "    </tr>\n",
       "  </tbody>\n",
       "</table>\n",
       "<p>1 rows × 39 columns</p>\n",
       "</div>"
      ],
      "text/plain": [
       "          sample1     sample2      beta  site1        site2  \\\n",
       "52402  03-146-6SI  03-146-6TI  0.993326  stool  throat_swab   \n",
       "\n",
       "         site_comparison patient_comp   subject  batch1  batch2  \\\n",
       "52402  stool-throat_swab       within  03-146-6    2016    2016   \n",
       "\n",
       "                ...           percent distal acid percent proximal acid  \\\n",
       "52402           ...                           NaN                   NaN   \n",
       "\n",
       "      percent proximal nonacid percent distal total  \\\n",
       "52402                      NaN                  NaN   \n",
       "\n",
       "       number of full colum events/total events  \\\n",
       "52402                                       NaN   \n",
       "\n",
       "       Number of full column episodes Was Bile CA detected?  \\\n",
       "52402                             NaN                   NaN   \n",
       "\n",
       "      Was Bile DCA detected? Was Bile LCA detected?  Was Bile TCA detected?  \n",
       "52402                    NaN                    NaN                     NaN  \n",
       "\n",
       "[1 rows x 39 columns]"
      ]
     },
     "execution_count": 22,
     "metadata": {},
     "output_type": "execute_result"
    }
   ],
   "source": [
    "jsd.query('subject == \"03-146-6\"')"
   ]
  },
  {
   "cell_type": "code",
   "execution_count": 23,
   "metadata": {
    "collapsed": false
   },
   "outputs": [],
   "source": [
    "## Keep only comparisons from the same time point\n",
    "\n",
    "## Get rid of comparisons where sample1 and sample2 end in F/I or I/F, respectively\n",
    "#cleanjsd = jsd[\n",
    "#    ~(\n",
    "#        (jsd['sample1'].str.endswith('F') & jsd['sample2'].str.endswith('I')) \n",
    "#        | (jsd['sample2'].str.endswith('F') & jsd['sample1'].str.endswith('I'))\n",
    "#     )]\n",
    "\n",
    "# Also get rid of any \"final\" stool or throat samples - keep only the baseline samples\n",
    "# (This code also de-facto gets rid of any un-matched samples)\n",
    "cleanjsd = jsd[\n",
    "    ~(  jsd['sample1'].str.endswith('F') \n",
    "      | jsd['sample2'].str.endswith('F')\n",
    "      | jsd['sample1'].str.endswith('2')\n",
    "      | jsd['sample2'].str.endswith('2')\n",
    "      | jsd['sample1'].str.endswith('F2T')\n",
    "      | jsd['sample2'].str.endswith('F2T')\n",
    "      | jsd['sample1'].str.endswith('sick')\n",
    "      | jsd['sample2'].str.endswith('sick')\n",
    "      | jsd['sample1'].str.startswith('05')\n",
    "      | jsd['sample2'].str.startswith('05')\n",
    "     )]\n"
   ]
  },
  {
   "cell_type": "code",
   "execution_count": 24,
   "metadata": {
    "collapsed": false
   },
   "outputs": [
    {
     "data": {
      "text/plain": [
       "((309, 39), (309, 39))"
      ]
     },
     "execution_count": 24,
     "metadata": {},
     "output_type": "execute_result"
    }
   ],
   "source": [
    "jsd.shape, cleanjsd.shape"
   ]
  },
  {
   "cell_type": "code",
   "execution_count": 25,
   "metadata": {
    "collapsed": false
   },
   "outputs": [
    {
     "data": {
      "text/plain": [
       "subject      site_comparison          \n",
       "dup05-013-1  bal-gastric_fluid            1\n",
       "04-067-2     bal-throat_swab              1\n",
       "04-061-8     bal-gastric_fluid            1\n",
       "             bal-throat_swab              1\n",
       "             gastric_fluid-throat_swab    1\n",
       "04-062-8     bal-gastric_fluid            1\n",
       "             bal-throat_swab              1\n",
       "             gastric_fluid-throat_swab    1\n",
       "04-063-7     bal-gastric_fluid            1\n",
       "             bal-throat_swab              1\n",
       "             gastric_fluid-throat_swab    1\n",
       "04-064-5     bal-gastric_fluid            1\n",
       "             bal-throat_swab              1\n",
       "             gastric_fluid-throat_swab    1\n",
       "04-066-0     bal-gastric_fluid            1\n",
       "             bal-throat_swab              1\n",
       "             gastric_fluid-throat_swab    1\n",
       "04-054-3     gastric_fluid-throat_swab    1\n",
       "             bal-throat_swab              1\n",
       "             bal-gastric_fluid            1\n",
       "dtype: int64"
      ]
     },
     "execution_count": 25,
     "metadata": {},
     "output_type": "execute_result"
    }
   ],
   "source": [
    "## Check that we don't have any extra comparisons\n",
    "cleanjsd\\\n",
    "    .query('site_comparison == @neworder')\\\n",
    "    .groupby(['subject', 'site_comparison'])\\\n",
    "    .size()\\\n",
    "    .sort_values(ascending=False)\\\n",
    "    .head(20)"
   ]
  },
  {
   "cell_type": "markdown",
   "metadata": {},
   "source": [
    "## Make the basic plot"
   ]
  },
  {
   "cell_type": "markdown",
   "metadata": {},
   "source": [
    "Okay, I think I should give up on coloring each site combination and just focus on the points."
   ]
  },
  {
   "cell_type": "code",
   "execution_count": 26,
   "metadata": {
    "collapsed": false
   },
   "outputs": [
    {
     "data": {
      "image/png": "[encoded data removed]",
      "text/plain": [
       "<matplotlib.figure.Figure at 0x1067a5e90>"
      ]
     },
     "metadata": {},
     "output_type": "display_data"
    }
   ],
   "source": [
    "hue_order = ['Normal', 'Aspiration/Penetration', 'Not tested']\n",
    "pal = {'bal_throat': '#0DA5B3', \n",
    "       'bal_gastric': '#823E98', \n",
    "       'gastric_throat': '#EAA72E', \n",
    "       'stool_throat': '#785C2B',\n",
    "       'Not tested': '#C9C9C9',\n",
    "       'Normal': '#B25116',\n",
    "       'Aspiration/Penetration': '#FB84D1'}\n",
    "\n",
    "boxprops = {'edgecolor': 'k', 'facecolor': 'w'}\n",
    "lineprops = {'color': 'k'}\n",
    "\n",
    "sns.set_style('white')\n",
    "fig, ax = plt.subplots(figsize=(9,4))\n",
    "sns.boxplot(data=cleanjsd, x='site_comparison', y='beta', \n",
    "            fliersize=0, order=neworder, ax=ax,\n",
    "            color='1.0', width=0.7, hue_order=hue_order,\n",
    "            **{'boxprops': boxprops, 'medianprops': lineprops,\n",
    "                   'whiskerprops': lineprops, 'capprops': lineprops})\n",
    "sns.stripplot(data=cleanjsd, x='site_comparison', y='beta', \n",
    "              order=neworder, ax=ax, hue_order=hue_order,\n",
    "              hue='mbs_consolidated', split=False, palette=pal,\n",
    "              jitter=True, size=6, linewidth=0.25, alpha=0.7)\n",
    "\n",
    "# Axes\n",
    "ax.set_xticklabels(['Lung and\\noropharyngeal swab', \n",
    "                    'Lung and\\ngastric fluid', \n",
    "                    'Gastric fluid and\\noropharyngeal swab', \n",
    "                    'Oropharyngeal\\nswab and stool'],\n",
    "                  fontsize='x-large')\n",
    "ax.set_ylim([0, 1.1])\n",
    "ax.set_yticks([0, 0.5, 1])\n",
    "ax.set_yticklabels([0, 0.5, 1], fontsize='x-large')\n",
    "\n",
    "# Legend\n",
    "lgd = ax.legend(bbox_to_anchor=(0.98, 0.8), \n",
    "                loc='center left', fontsize='x-large')\n",
    "lgd.set_title('Aspiration status', prop={'size': 'xx-large'})\n",
    "\n",
    "# Labels and stuff\n",
    "#ax.set_title('Intra-patient beta diversity', fontsize='xx-large')\n",
    "ax.set_xlabel('')\n",
    "ax.set_ylabel('Jensen-Shannon Distance', fontsize='x-large')\n",
    "\n",
    "txt = ax.text(-0.11, 1.025, 'A', transform=ax.transAxes, fontsize=24)\n",
    "\n",
    "fig.savefig('../../final/figures/figure3.within_patient_beta_div.png', \n",
    "            bbox_extra_artists=(lgd,txt), bbox_inches='tight')\n"
   ]
  },
  {
   "cell_type": "code",
   "execution_count": 27,
   "metadata": {
    "collapsed": false
   },
   "outputs": [
    {
     "data": {
      "text/html": [
       "<div>\n",
       "<style scoped>\n",
       "    .dataframe tbody tr th:only-of-type {\n",
       "        vertical-align: middle;\n",
       "    }\n",
       "\n",
       "    .dataframe tbody tr th {\n",
       "        vertical-align: top;\n",
       "    }\n",
       "\n",
       "    .dataframe thead th {\n",
       "        text-align: right;\n",
       "    }\n",
       "</style>\n",
       "<table border=\"1\" class=\"dataframe\">\n",
       "  <thead>\n",
       "    <tr style=\"text-align: right;\">\n",
       "      <th></th>\n",
       "      <th>count</th>\n",
       "      <th>mean</th>\n",
       "      <th>std</th>\n",
       "      <th>min</th>\n",
       "      <th>25%</th>\n",
       "      <th>50%</th>\n",
       "      <th>75%</th>\n",
       "      <th>max</th>\n",
       "    </tr>\n",
       "    <tr>\n",
       "      <th>site_comparison</th>\n",
       "      <th></th>\n",
       "      <th></th>\n",
       "      <th></th>\n",
       "      <th></th>\n",
       "      <th></th>\n",
       "      <th></th>\n",
       "      <th></th>\n",
       "      <th></th>\n",
       "    </tr>\n",
       "  </thead>\n",
       "  <tbody>\n",
       "    <tr>\n",
       "      <th>bal-throat_swab</th>\n",
       "      <td>73.0</td>\n",
       "      <td>0.799284</td>\n",
       "      <td>0.217254</td>\n",
       "      <td>0.264794</td>\n",
       "      <td>0.633249</td>\n",
       "      <td>0.899155</td>\n",
       "      <td>0.982116</td>\n",
       "      <td>0.999192</td>\n",
       "    </tr>\n",
       "    <tr>\n",
       "      <th>bal-gastric_fluid</th>\n",
       "      <td>89.0</td>\n",
       "      <td>0.582216</td>\n",
       "      <td>0.228089</td>\n",
       "      <td>0.110166</td>\n",
       "      <td>0.431360</td>\n",
       "      <td>0.551843</td>\n",
       "      <td>0.799988</td>\n",
       "      <td>0.971833</td>\n",
       "    </tr>\n",
       "    <tr>\n",
       "      <th>gastric_fluid-throat_swab</th>\n",
       "      <td>112.0</td>\n",
       "      <td>0.568016</td>\n",
       "      <td>0.216588</td>\n",
       "      <td>0.091874</td>\n",
       "      <td>0.390238</td>\n",
       "      <td>0.559279</td>\n",
       "      <td>0.707108</td>\n",
       "      <td>0.997144</td>\n",
       "    </tr>\n",
       "    <tr>\n",
       "      <th>stool-throat_swab</th>\n",
       "      <td>20.0</td>\n",
       "      <td>0.931639</td>\n",
       "      <td>0.132615</td>\n",
       "      <td>0.496519</td>\n",
       "      <td>0.971556</td>\n",
       "      <td>0.985464</td>\n",
       "      <td>0.991883</td>\n",
       "      <td>0.995249</td>\n",
       "    </tr>\n",
       "  </tbody>\n",
       "</table>\n",
       "</div>"
      ],
      "text/plain": [
       "                           count      mean       std       min       25%  \\\n",
       "site_comparison                                                            \n",
       "bal-throat_swab             73.0  0.799284  0.217254  0.264794  0.633249   \n",
       "bal-gastric_fluid           89.0  0.582216  0.228089  0.110166  0.431360   \n",
       "gastric_fluid-throat_swab  112.0  0.568016  0.216588  0.091874  0.390238   \n",
       "stool-throat_swab           20.0  0.931639  0.132615  0.496519  0.971556   \n",
       "\n",
       "                                50%       75%       max  \n",
       "site_comparison                                          \n",
       "bal-throat_swab            0.899155  0.982116  0.999192  \n",
       "bal-gastric_fluid          0.551843  0.799988  0.971833  \n",
       "gastric_fluid-throat_swab  0.559279  0.707108  0.997144  \n",
       "stool-throat_swab          0.985464  0.991883  0.995249  "
      ]
     },
     "execution_count": 27,
     "metadata": {},
     "output_type": "execute_result"
    }
   ],
   "source": [
    "cleanjsd\\\n",
    "    .query('site_comparison == @neworder')\\\n",
    "    .groupby('site_comparison')\\\n",
    "    ['beta']\\\n",
    "    .describe()\\\n",
    "    .loc[neworder]"
   ]
  },
  {
   "cell_type": "code",
   "execution_count": 28,
   "metadata": {
    "collapsed": false
   },
   "outputs": [
    {
     "data": {
      "text/html": [
       "<div>\n",
       "<style scoped>\n",
       "    .dataframe tbody tr th:only-of-type {\n",
       "        vertical-align: middle;\n",
       "    }\n",
       "\n",
       "    .dataframe tbody tr th {\n",
       "        vertical-align: top;\n",
       "    }\n",
       "\n",
       "    .dataframe thead th {\n",
       "        text-align: right;\n",
       "    }\n",
       "</style>\n",
       "<table border=\"1\" class=\"dataframe\">\n",
       "  <thead>\n",
       "    <tr style=\"text-align: right;\">\n",
       "      <th></th>\n",
       "      <th></th>\n",
       "      <th>count</th>\n",
       "      <th>mean</th>\n",
       "      <th>std</th>\n",
       "      <th>min</th>\n",
       "      <th>25%</th>\n",
       "      <th>50%</th>\n",
       "      <th>75%</th>\n",
       "      <th>max</th>\n",
       "    </tr>\n",
       "    <tr>\n",
       "      <th>site_comparison</th>\n",
       "      <th>mbs_consolidated</th>\n",
       "      <th></th>\n",
       "      <th></th>\n",
       "      <th></th>\n",
       "      <th></th>\n",
       "      <th></th>\n",
       "      <th></th>\n",
       "      <th></th>\n",
       "      <th></th>\n",
       "    </tr>\n",
       "  </thead>\n",
       "  <tbody>\n",
       "    <tr>\n",
       "      <th rowspan=\"3\" valign=\"top\">bal-gastric_fluid</th>\n",
       "      <th>Aspiration/Penetration</th>\n",
       "      <td>29.0</td>\n",
       "      <td>0.596145</td>\n",
       "      <td>0.227648</td>\n",
       "      <td>0.213271</td>\n",
       "      <td>0.439093</td>\n",
       "      <td>0.521811</td>\n",
       "      <td>0.812021</td>\n",
       "      <td>0.945293</td>\n",
       "    </tr>\n",
       "    <tr>\n",
       "      <th>Normal</th>\n",
       "      <td>28.0</td>\n",
       "      <td>0.635848</td>\n",
       "      <td>0.256038</td>\n",
       "      <td>0.168299</td>\n",
       "      <td>0.436976</td>\n",
       "      <td>0.677829</td>\n",
       "      <td>0.839242</td>\n",
       "      <td>0.971833</td>\n",
       "    </tr>\n",
       "    <tr>\n",
       "      <th>Not tested</th>\n",
       "      <td>32.0</td>\n",
       "      <td>0.522666</td>\n",
       "      <td>0.193231</td>\n",
       "      <td>0.110166</td>\n",
       "      <td>0.408246</td>\n",
       "      <td>0.530604</td>\n",
       "      <td>0.633851</td>\n",
       "      <td>0.956460</td>\n",
       "    </tr>\n",
       "    <tr>\n",
       "      <th rowspan=\"3\" valign=\"top\">bal-throat_swab</th>\n",
       "      <th>Aspiration/Penetration</th>\n",
       "      <td>25.0</td>\n",
       "      <td>0.741328</td>\n",
       "      <td>0.231293</td>\n",
       "      <td>0.273774</td>\n",
       "      <td>0.576516</td>\n",
       "      <td>0.819795</td>\n",
       "      <td>0.961231</td>\n",
       "      <td>0.999192</td>\n",
       "    </tr>\n",
       "    <tr>\n",
       "      <th>Normal</th>\n",
       "      <td>23.0</td>\n",
       "      <td>0.850347</td>\n",
       "      <td>0.219465</td>\n",
       "      <td>0.264794</td>\n",
       "      <td>0.830355</td>\n",
       "      <td>0.975509</td>\n",
       "      <td>0.987917</td>\n",
       "      <td>0.995874</td>\n",
       "    </tr>\n",
       "    <tr>\n",
       "      <th>Not tested</th>\n",
       "      <td>25.0</td>\n",
       "      <td>0.810262</td>\n",
       "      <td>0.194493</td>\n",
       "      <td>0.436750</td>\n",
       "      <td>0.633337</td>\n",
       "      <td>0.910519</td>\n",
       "      <td>0.985789</td>\n",
       "      <td>0.999149</td>\n",
       "    </tr>\n",
       "    <tr>\n",
       "      <th rowspan=\"3\" valign=\"top\">gastric_fluid-throat_swab</th>\n",
       "      <th>Aspiration/Penetration</th>\n",
       "      <td>32.0</td>\n",
       "      <td>0.552445</td>\n",
       "      <td>0.216020</td>\n",
       "      <td>0.232833</td>\n",
       "      <td>0.386861</td>\n",
       "      <td>0.529691</td>\n",
       "      <td>0.707906</td>\n",
       "      <td>0.982951</td>\n",
       "    </tr>\n",
       "    <tr>\n",
       "      <th>Normal</th>\n",
       "      <td>35.0</td>\n",
       "      <td>0.572962</td>\n",
       "      <td>0.236467</td>\n",
       "      <td>0.242831</td>\n",
       "      <td>0.369075</td>\n",
       "      <td>0.508747</td>\n",
       "      <td>0.704559</td>\n",
       "      <td>0.997144</td>\n",
       "    </tr>\n",
       "    <tr>\n",
       "      <th>Not tested</th>\n",
       "      <td>45.0</td>\n",
       "      <td>0.575241</td>\n",
       "      <td>0.204957</td>\n",
       "      <td>0.091874</td>\n",
       "      <td>0.425528</td>\n",
       "      <td>0.585896</td>\n",
       "      <td>0.690045</td>\n",
       "      <td>0.993353</td>\n",
       "    </tr>\n",
       "    <tr>\n",
       "      <th>stool-throat_swab</th>\n",
       "      <th>Not tested</th>\n",
       "      <td>20.0</td>\n",
       "      <td>0.931639</td>\n",
       "      <td>0.132615</td>\n",
       "      <td>0.496519</td>\n",
       "      <td>0.971556</td>\n",
       "      <td>0.985464</td>\n",
       "      <td>0.991883</td>\n",
       "      <td>0.995249</td>\n",
       "    </tr>\n",
       "  </tbody>\n",
       "</table>\n",
       "</div>"
      ],
      "text/plain": [
       "                                                  count      mean       std  \\\n",
       "site_comparison           mbs_consolidated                                    \n",
       "bal-gastric_fluid         Aspiration/Penetration   29.0  0.596145  0.227648   \n",
       "                          Normal                   28.0  0.635848  0.256038   \n",
       "                          Not tested               32.0  0.522666  0.193231   \n",
       "bal-throat_swab           Aspiration/Penetration   25.0  0.741328  0.231293   \n",
       "                          Normal                   23.0  0.850347  0.219465   \n",
       "                          Not tested               25.0  0.810262  0.194493   \n",
       "gastric_fluid-throat_swab Aspiration/Penetration   32.0  0.552445  0.216020   \n",
       "                          Normal                   35.0  0.572962  0.236467   \n",
       "                          Not tested               45.0  0.575241  0.204957   \n",
       "stool-throat_swab         Not tested               20.0  0.931639  0.132615   \n",
       "\n",
       "                                                       min       25%  \\\n",
       "site_comparison           mbs_consolidated                             \n",
       "bal-gastric_fluid         Aspiration/Penetration  0.213271  0.439093   \n",
       "                          Normal                  0.168299  0.436976   \n",
       "                          Not tested              0.110166  0.408246   \n",
       "bal-throat_swab           Aspiration/Penetration  0.273774  0.576516   \n",
       "                          Normal                  0.264794  0.830355   \n",
       "                          Not tested              0.436750  0.633337   \n",
       "gastric_fluid-throat_swab Aspiration/Penetration  0.232833  0.386861   \n",
       "                          Normal                  0.242831  0.369075   \n",
       "                          Not tested              0.091874  0.425528   \n",
       "stool-throat_swab         Not tested              0.496519  0.971556   \n",
       "\n",
       "                                                       50%       75%       max  \n",
       "site_comparison           mbs_consolidated                                      \n",
       "bal-gastric_fluid         Aspiration/Penetration  0.521811  0.812021  0.945293  \n",
       "                          Normal                  0.677829  0.839242  0.971833  \n",
       "                          Not tested              0.530604  0.633851  0.956460  \n",
       "bal-throat_swab           Aspiration/Penetration  0.819795  0.961231  0.999192  \n",
       "                          Normal                  0.975509  0.987917  0.995874  \n",
       "                          Not tested              0.910519  0.985789  0.999149  \n",
       "gastric_fluid-throat_swab Aspiration/Penetration  0.529691  0.707906  0.982951  \n",
       "                          Normal                  0.508747  0.704559  0.997144  \n",
       "                          Not tested              0.585896  0.690045  0.993353  \n",
       "stool-throat_swab         Not tested              0.985464  0.991883  0.995249  "
      ]
     },
     "execution_count": 28,
     "metadata": {},
     "output_type": "execute_result"
    }
   ],
   "source": [
    "cleanjsd\\\n",
    "    .query('site_comparison == @neworder')\\\n",
    "    .groupby(['site_comparison', 'mbs_consolidated'])\\\n",
    "    ['beta']\\\n",
    "    .describe()\\\n",
    "    .loc[neworder]"
   ]
  },
  {
   "cell_type": "markdown",
   "metadata": {
    "collapsed": true
   },
   "source": [
    "## Calculate pvalues"
   ]
  },
  {
   "cell_type": "code",
   "execution_count": 29,
   "metadata": {
    "collapsed": false
   },
   "outputs": [
    {
     "name": "stdout",
     "output_type": "stream",
     "text": [
      "('bal-throat_swab', 'bal-gastric_fluid', RanksumsResult(statistic=5.9430325560468447, pvalue=2.797968377226931e-09))\n",
      "('bal-throat_swab', 'gastric_fluid-throat_swab', RanksumsResult(statistic=6.2445791149369629, pvalue=4.2494280068602084e-10))\n",
      "('bal-throat_swab', 'stool-throat_swab', RanksumsResult(statistic=-2.7958988577230963, pvalue=0.0051755594666158689))\n",
      "('bal-gastric_fluid', 'gastric_fluid-throat_swab', RanksumsResult(statistic=0.52242589690920849, pvalue=0.60137382893570868))\n",
      "('bal-gastric_fluid', 'stool-throat_swab', RanksumsResult(statistic=-6.012367233864869, pvalue=1.8283355746146314e-09))\n",
      "('gastric_fluid-throat_swab', 'stool-throat_swab', RanksumsResult(statistic=-5.8515606995773197, pvalue=4.8698149026290956e-09))\n"
     ]
    }
   ],
   "source": [
    "from scipy.stats import ranksums\n",
    "\n",
    "asp = 'Aspiration/Penetration'\n",
    "nml = 'Normal'\n",
    "\n",
    "for s1 in neworder:\n",
    "    x = cleanjsd.query('site_comparison == @s1')['beta']\n",
    "    for s2 in neworder[neworder.index(s1)+1:]:\n",
    "        y = cleanjsd.query('site_comparison == @s2')['beta']\n",
    "        print(s1, s2, ranksums(x, y))"
   ]
  },
  {
   "cell_type": "markdown",
   "metadata": {},
   "source": [
    "## Patients"
   ]
  },
  {
   "cell_type": "code",
   "execution_count": 30,
   "metadata": {
    "collapsed": false
   },
   "outputs": [
    {
     "data": {
      "text/plain": [
       "site_comparison            mbs_consolidated      \n",
       "bal-gastric_fluid          Aspiration/Penetration    29\n",
       "                           Normal                    28\n",
       "                           Not tested                32\n",
       "bal-throat_swab            Aspiration/Penetration    25\n",
       "                           Normal                    23\n",
       "                           Not tested                25\n",
       "gastric_fluid-rectal_swab  Not tested                 9\n",
       "gastric_fluid-throat_swab  Aspiration/Penetration    32\n",
       "                           Normal                    35\n",
       "                           Not tested                45\n",
       "rectal_swab-throat_swab    Not tested                 6\n",
       "stool-throat_swab          Not tested                20\n",
       "dtype: int64"
      ]
     },
     "execution_count": 30,
     "metadata": {},
     "output_type": "execute_result"
    }
   ],
   "source": [
    "cleanjsd.groupby(['site_comparison', 'mbs_consolidated']).size()"
   ]
  },
  {
   "cell_type": "code",
   "execution_count": 31,
   "metadata": {
    "collapsed": false
   },
   "outputs": [
    {
     "data": {
      "text/plain": [
       "(165,)"
      ]
     },
     "execution_count": 31,
     "metadata": {},
     "output_type": "execute_result"
    }
   ],
   "source": [
    "cleanjsd['subject'].unique().shape"
   ]
  },
  {
   "cell_type": "markdown",
   "metadata": {},
   "source": [
    "### Write the patients to file"
   ]
  },
  {
   "cell_type": "code",
   "execution_count": 32,
   "metadata": {
    "collapsed": false
   },
   "outputs": [],
   "source": [
    "all_subjs = set(cleanjsd['subject'])\n",
    "with open('../../final/patients/figure3.within_patient_beta_div.subjects.txt', 'w') as f:\n",
    "    f.write('\\n'.join(all_subjs))"
   ]
  },
  {
   "cell_type": "markdown",
   "metadata": {},
   "source": [
    "### Samples"
   ]
  },
  {
   "cell_type": "code",
   "execution_count": 34,
   "metadata": {
    "collapsed": false
   },
   "outputs": [],
   "source": [
    "all_samples = list(set(\n",
    "        cleanjsd\\\n",
    "            .query('site_comparison == @neworder')\\\n",
    "            ['sample1']\\\n",
    "            .tolist() \n",
    "        + cleanjsd\\\n",
    "            .query('site_comparison == @neworder')\\\n",
    "            ['sample2']\\\n",
    "            .tolist()))\n",
    "with open('../../final/patients/figure3.within_patient_beta_div.samples.txt', 'w') as f:\n",
    "    f.write('\\n'.join(all_samples))"
   ]
  },
  {
   "cell_type": "markdown",
   "metadata": {
    "collapsed": true
   },
   "source": [
    "## Figure for presentation"
   ]
  },
  {
   "cell_type": "code",
   "execution_count": 35,
   "metadata": {
    "collapsed": false
   },
   "outputs": [
    {
     "data": {
      "image/png": "[encoded data removed]",
      "text/plain": [
       "<matplotlib.figure.Figure at 0x10fc90210>"
      ]
     },
     "metadata": {},
     "output_type": "display_data"
    }
   ],
   "source": [
    "neworder = ['bal-throat_swab', 'bal-gastric_fluid', \n",
    "            'gastric_fluid-throat_swab']\n",
    "\n",
    "boxprops = {'edgecolor': 'k', 'facecolor': 'w'}\n",
    "lineprops = {'color': 'k'}\n",
    "\n",
    "sns.set_style('white')\n",
    "fig, ax = plt.subplots(figsize=(9,4))\n",
    "sns.boxplot(data=cleanjsd, x='site_comparison', y='beta', \n",
    "            fliersize=0, order=neworder, ax=ax,\n",
    "            color='1.0', width=0.7, hue_order=hue_order,\n",
    "            **{'boxprops': boxprops, 'medianprops': lineprops,\n",
    "                   'whiskerprops': lineprops, 'capprops': lineprops})\n",
    "\n",
    "sns.stripplot(data=cleanjsd, x='site_comparison', y='beta', \n",
    "              order=neworder, ax=ax, hue_order=hue_order,\n",
    "              jitter=True, size=6, linewidth=0.35, #alpha=0.01,\n",
    "              color='w', edgecolor='k')\n",
    "\n",
    "# Axes\n",
    "#ax.set_xticklabels(['Lung and\\noropharyngeal swab', \n",
    "#                    'Lung and\\ngastric fluid', \n",
    "#                    'Gastric fluid and\\noropharyngeal swab', \n",
    "#                    'Oropharyngeal\\nswab and stool'],\n",
    "#                  fontsize='x-large')\n",
    "ax.set_xticklabels('')\n",
    "ax.set_ylim([0, 1.1])\n",
    "ax.set_yticks([0, 0.5, 1])\n",
    "ax.set_yticklabels([0, 0.5, 1], fontsize='x-large')\n",
    "\n",
    "\n",
    "# Labels and stuff\n",
    "#ax.set_title('Intra-patient beta diversity', fontsize='xx-large')\n",
    "ax.set_xlabel('')\n",
    "ax.set_ylabel('')\n",
    "\n",
    "fig.savefig('../../final/figures/presentation_figure3.within_patient_beta_div.png')"
   ]
  },
  {
   "cell_type": "code",
   "execution_count": null,
   "metadata": {
    "collapsed": true
   },
   "outputs": [],
   "source": []
  }
 ],
 "metadata": {
  "anaconda-cloud": {},
  "kernelspec": {
   "display_name": "Python [default]",
   "language": "python",
   "name": "python2"
  },
  "language_info": {
   "codemirror_mode": {
    "name": "ipython",
    "version": 2
   },
   "file_extension": ".py",
   "mimetype": "text/x-python",
   "name": "python",
   "nbconvert_exporter": "python",
   "pygments_lexer": "ipython2",
   "version": "2.7.12"
  }
 },
 "nbformat": 4,
 "nbformat_minor": 2
}
