{
 "cells": [
  {
   "cell_type": "markdown",
   "metadata": {},
   "source": [
    "This code was going to take in the different Excel files and makes a usable tab-delimited metadata file.\n",
    "Then, it was going to read in an OTU table and creates a metadata file for all samples in that OTU table.\n",
    "But then I ended up just doing some exploration of all the different metadata files because there are a lot of them!\n",
    "\n",
    "Previously, I had used the following metadata files in some way:\n",
    "\n",
    "* Aim 2 and 3 Form 3 Database - Procedure Results_NOquestionnaires.xls\n",
    "* Aim 4 Form 3 Database - Procedure Results_NOquestionnaires.xls\n",
    "* Aim 5 Form 3 Database - Procedure Results_NOquestionnaires.xls\n",
    "* ppiMetadata.txt (tab-delimited version of ppiMetadata.csv)\n",
    "* metabolomics_metadata.txt (which I had manually converted from the Metabolon data)\n",
    "\n",
    "And, in a more recent metadata wrangling (after converting the Excel files to tab-delimited via Excel):\n",
    "\n",
    "* K23 Aim 2 and 3 Form 3 Procedure Results_6.2.16.txt\n",
    "* K23 Aim 4 Form 3 Procedure Results_6.2.16.txt\n",
    "* K23 Aim 5 Form 3 Procedure Results_6.2.16.txt\n",
    "* Fundo Baseline_6.2.16.txt\n",
    "* R01 Form 2 Baseline Aim 3.txt\n",
    "* R01 Form 3 Aim 3.txt\n",
    "* R01 Form 3 Aims 1 and  2.txt\n",
    "\n",
    "When I had first concatenated all these metadata files, I was much less adept at pandas and python.\n",
    "I think it's worth re-doing it, to make sure I got it all right.\n",
    "\n",
    "Things I'll need to do:\n",
    "\n",
    "* Read them all, get a sense of how many duplicate rows and columns there are in all these files\n",
    "* Merge duplicate rows and columns in a sensible way\n",
    "* Remove empty columns/rows\n",
    "* Maybe just grab the samples for which I have 16S data?"
   ]
  },
  {
   "cell_type": "code",
   "execution_count": 153,
   "metadata": {
    "collapsed": true
   },
   "outputs": [],
   "source": [
    "import os\n",
    "from collections import Counter\n",
    "import matplotlib.pyplot as plt\n",
    "%matplotlib inline\n",
    "\n",
    "import pandas as pd\n",
    "import numpy as np"
   ]
  },
  {
   "cell_type": "code",
   "execution_count": 154,
   "metadata": {
    "collapsed": false
   },
   "outputs": [],
   "source": [
    "datadir = '../../data/raw/metadata/'\n",
    "\n",
    "excelfiles = ['june2016-emails/Fundo Baseline_6.2.16.xlsx',\n",
    "              'june2016-emails/K23 Aim 4 Form 3 Procedure Results_6.2.16.xlsx',\n",
    "              'june2016-emails/R01 Form 2 Baseline Aim 3.xlsx',\n",
    "              'june2016-emails/R01 Form 3 Aims 1 and  2.xlsx',\n",
    "              'june2016-emails/K23 Aim 2 and 3 Form 3 Procedure Results_6.2.16.xlsx',\n",
    "              'june2016-emails/K23 Aim 5 Form 3 Procedure Results_6.2.16.xlsx',\n",
    "              'june2016-emails/R01 Form 3 Aim 3.xlsx',\n",
    "              'from-dropbox/Aim 2 and 3 Form 3 Database - Procedure Results_NOquestionnaires.xls',\n",
    "              'from-dropbox/Aim 4 Form 3 Database - Procedure Results_NOquestionnaires.xls',\n",
    "              'from-dropbox/Aim 5 Form 3 Database - Procedure Results_NOquestionnaires.xls']\n",
    "excelfiles = [os.path.realpath(os.path.join(datadir, i)) for i in excelfiles]\n",
    "csvfile = 'ppiMetadata.csv'\n",
    "\n",
    "# This will be its own separate business\n",
    "metabfile = ['CHHB-01-15VW CLIENT DATA TABLE.XLSX']\n"
   ]
  },
  {
   "cell_type": "code",
   "execution_count": 155,
   "metadata": {
    "collapsed": true
   },
   "outputs": [],
   "source": [
    "## TODO:\n",
    "# 1. Read in all the excel files\n",
    "# 2. See how many duplicate rows we have (i.e. concatenate all indices, see how many samples show up N times, for N = 1... max)\n",
    "# 3. Do those duplicate rows also have duplicate columns, or are they different data?\n",
    "\n",
    "# 4. Try merging all of the files.\n",
    "\n",
    "# 5. Add the ppiMetadata and metabolomics data to this massive metadata file"
   ]
  },
  {
   "cell_type": "code",
   "execution_count": 157,
   "metadata": {
    "collapsed": false
   },
   "outputs": [],
   "source": [
    "dfs = []\n",
    "for f in excelfiles:\n",
    "    dfs.append(pd.read_excel(f, na_values=' '))"
   ]
  },
  {
   "cell_type": "code",
   "execution_count": 158,
   "metadata": {
    "collapsed": false
   },
   "outputs": [
    {
     "name": "stdout",
     "output_type": "stream",
     "text": [
      "  Subject ID Subject Initials\n",
      "0   022-3-F1              WRY\n",
      "1   024-1-F1              MLW\n",
      "2   025-6-F1               SP\n",
      "3   026-8-F1              NaN\n",
      "4   027-4-F1               SC\n",
      "\n",
      "  Subject ID number Subject initials\n",
      "0          04-001-8               CD\n",
      "1          04-002-5               KK\n",
      "2          04-003-2               CH\n",
      "3          04-004-4               ST\n",
      "4          04-005-7               SR\n",
      "\n",
      "  A1. Subject ID number: A2. Subject initials:\n",
      "0               01-112-7                    DM\n",
      "1               01-132-7                    TB\n",
      "2               01-200-1                    ES\n",
      "3               03-053-1                    MS\n",
      "4               03-055-1                    JM\n",
      "\n",
      "  Subject ID Subject initials\n",
      "0   01-001-5               EC\n",
      "1   01-002-3               LB\n",
      "2   01-003-8               MM\n",
      "3   01-004-7               LP\n",
      "4   01-005-4               MD\n",
      "\n",
      "   Sequential ID Subject ID number\n",
      "0            1.0          01-001-4\n",
      "1            2.0          03-002-9\n",
      "2            3.0               NaN\n",
      "3            4.0          02-004-5\n",
      "4            5.0          02-005-1\n",
      "\n",
      "  Subject ID number Subject initials\n",
      "0          05-001-3               BK\n",
      "1          05-002-7               MC\n",
      "2          05-003-7               AC\n",
      "3          05-004-1               BB\n",
      "4          05-005-8               KP\n",
      "\n",
      "  Subject ID number Subject initials\n",
      "0          03-053-1               MS\n",
      "1          03-055-1               JM\n",
      "2          03-058-2               HS\n",
      "3          03-066-3               CB\n",
      "4          03-068-9               ET\n",
      "\n",
      "   SEQID    SUBJID\n",
      "0      1  01-001-4\n",
      "1      2  03-002-9\n",
      "2      3       NaN\n",
      "3      4  02-004-5\n",
      "4      5  02-005-1\n",
      "\n",
      "     SUBJID SUBJINTL\n",
      "0  04-001-8       CD\n",
      "1  04-002-5       KK\n",
      "2  04-003-2       CH\n",
      "3  04-004-4       ST\n",
      "4  04-005-7       SR\n",
      "\n",
      "     SUBJID SUBJINTL\n",
      "0  05-001-3       BK\n",
      "1  05-002-7       MC\n",
      "2  05-003-7       AC\n",
      "3  05-004-1       BB\n",
      "4  05-005-8       KP\n",
      "\n"
     ]
    }
   ],
   "source": [
    "# Sample IDs are (1) not consistently labeled and (2) not necessarily the first column\n",
    "for d in dfs:\n",
    "    print(d.iloc[0:5, 0:2])\n",
    "    print('')"
   ]
  },
  {
   "cell_type": "code",
   "execution_count": 159,
   "metadata": {
    "collapsed": false
   },
   "outputs": [
    {
     "name": "stdout",
     "output_type": "stream",
     "text": [
      "28 out of 0 subject ids are null\n",
      "25220 out of 24989 subject ids are null\n",
      "64 out of 0 subject ids are null\n",
      "201 out of 4 subject ids are null\n",
      "155 out of 8 subject ids are null\n",
      "43 out of 0 subject ids are null\n",
      "60 out of 0 subject ids are null\n",
      "147 out of 2 subject ids are null\n",
      "209 out of 3 subject ids are null\n",
      "41 out of 0 subject ids are null\n"
     ]
    }
   ],
   "source": [
    "# Some subject IDs are not labeled!\n",
    "subjids = ['Subject ID', 'Subject ID number', 'A1. Subject ID number:',\n",
    "          'Subject ID', 'Subject ID number', 'Subject ID number',\n",
    "          'Subject ID number', 'SUBJID', 'SUBJID', 'SUBJID']\n",
    "for i in range(len(subjids)):\n",
    "    subjs = dfs[i][subjids[i]]\n",
    "    print('{} out of {} subject ids are null'.format(len(subjs), len(subjs) - len(subjs.dropna())))\n",
    "    "
   ]
  },
  {
   "cell_type": "code",
   "execution_count": 160,
   "metadata": {
    "collapsed": false
   },
   "outputs": [],
   "source": [
    "# Remove any rows without a subject ID, and make the subject ID the index of each df\n",
    "for i in range(len(subjids)):\n",
    "    d = dfs[i]\n",
    "    # drop null subject ids, keep just those rows\n",
    "    d = d.loc[d[subjids[i]].dropna().index]\n",
    "    # set subject id column as the index\n",
    "    d.index = d[subjids[i]]\n",
    "    dfs[i] = d\n",
    "\n"
   ]
  },
  {
   "cell_type": "code",
   "execution_count": 161,
   "metadata": {
    "collapsed": false
   },
   "outputs": [
    {
     "data": {
      "text/plain": [
       "(array([ 268.,    0.,    0.,  443.,    0.,    0.,    0.,    0.,    0.,    2.]),\n",
       " array([ 1. ,  1.3,  1.6,  1.9,  2.2,  2.5,  2.8,  3.1,  3.4,  3.7,  4. ]),\n",
       " <a list of 10 Patch objects>)"
      ]
     },
     "execution_count": 161,
     "metadata": {},
     "output_type": "execute_result"
    },
    {
     "data": {
      "image/png": "[encoded data removed]",
      "text/plain": [
       "<matplotlib.figure.Figure at 0x1132c3810>"
      ]
     },
     "metadata": {},
     "output_type": "display_data"
    }
   ],
   "source": [
    "# How many of these subjects are duplicates?\n",
    "allsubjs = []\n",
    "for d in dfs:\n",
    "    allsubjs += list(d.index)\n",
    "\n",
    "sample_counts = Counter(allsubjs)\n",
    "plt.hist(sample_counts.values())"
   ]
  },
  {
   "cell_type": "code",
   "execution_count": 164,
   "metadata": {
    "collapsed": true
   },
   "outputs": [],
   "source": [
    "# There are a very few number of samples which are in 4 files\n",
    "# and many that are in two...\n",
    "\n",
    "quads = [i for i in sample_counts if sample_counts[i] == 4]"
   ]
  },
  {
   "cell_type": "code",
   "execution_count": 165,
   "metadata": {
    "collapsed": false
   },
   "outputs": [
    {
     "name": "stdout",
     "output_type": "stream",
     "text": [
      "                  Subject ID number Subject initials AIM1? Visit Date  \\\n",
      "Subject ID number                                                       \n",
      "04-029-8                   04-029-8               KK    No 2010-07-30   \n",
      "04-029-8                   04-029-8               JK    No 2010-08-09   \n",
      "\n",
      "                   Visit Number Date Form Completed  \\\n",
      "Subject ID number                                     \n",
      "04-029-8                    1.0          2011-04-12   \n",
      "04-029-8                    1.0          2010-11-17   \n",
      "\n",
      "                  Initials of person completing form Patient taking PPI?  \\\n",
      "Subject ID number                                                          \n",
      "04-029-8                                         KMH                 NaN   \n",
      "04-029-8                                         KMH                 yes   \n",
      "\n",
      "                  Date of MBS closest to enrollment date  \\\n",
      "Subject ID number                                          \n",
      "04-029-8                             2010-09-13 00:00:00   \n",
      "04-029-8                                             NaN   \n",
      "\n",
      "                   Months between enrollment and MBS closest to enrollment date  \\\n",
      "Subject ID number                                                                 \n",
      "04-029-8                                                         1.0              \n",
      "04-029-8                                                         NaN              \n",
      "\n",
      "                                          ...                          \\\n",
      "Subject ID number                         ...                           \n",
      "04-029-8                                  ...                           \n",
      "04-029-8                                  ...                           \n",
      "\n",
      "                  percent distal total  \\\n",
      "Subject ID number                        \n",
      "04-029-8                           NaN   \n",
      "04-029-8                      0.021471   \n",
      "\n",
      "                  Was bile analysis performed for this patient?  \\\n",
      "Subject ID number                                                 \n",
      "04-029-8                                                    NaN   \n",
      "04-029-8                                                    NaN   \n",
      "\n",
      "                  Was Bile TCA detected?  \\\n",
      "Subject ID number                          \n",
      "04-029-8                             NaN   \n",
      "04-029-8                             NaN   \n",
      "\n",
      "                   If yes, what was the concentration of TCA detected?  \\\n",
      "Subject ID number                                                        \n",
      "04-029-8                                                         NaN     \n",
      "04-029-8                                                         NaN     \n",
      "\n",
      "                  Was Bile CA detected?  \\\n",
      "Subject ID number                         \n",
      "04-029-8                            NaN   \n",
      "04-029-8                            NaN   \n",
      "\n",
      "                  If yes, what was the concentration of CA detected?  \\\n",
      "Subject ID number                                                      \n",
      "04-029-8                                                         NaN   \n",
      "04-029-8                                                         NaN   \n",
      "\n",
      "                  Was Bile DCA detected?  \\\n",
      "Subject ID number                          \n",
      "04-029-8                             NaN   \n",
      "04-029-8                             NaN   \n",
      "\n",
      "                  If yes, what was the concentration of DCA detected?  \\\n",
      "Subject ID number                                                       \n",
      "04-029-8                                                         NaN    \n",
      "04-029-8                                                         NaN    \n",
      "\n",
      "                  Was Bile LCA detected?  \\\n",
      "Subject ID number                          \n",
      "04-029-8                             NaN   \n",
      "04-029-8                             NaN   \n",
      "\n",
      "                  If yes, what was the concentration of LCA detected?  \n",
      "Subject ID number                                                      \n",
      "04-029-8                                                         NaN   \n",
      "04-029-8                                                         NaN   \n",
      "\n",
      "[2 rows x 142 columns]\n",
      "            SUBJID SUBJINTL  AIM1YN  AIM2YN  AIM3YN    VISITDT  VISITNO  \\\n",
      "SUBJID                                                                    \n",
      "04-029-8  04-029-8       KK     0.0     1.0     0.0 2010-07-30      1.0   \n",
      "04-029-8  04-029-8       JK     0.0     1.0     0.0 2010-08-09      1.0   \n",
      "\n",
      "             COMPDT INITIAL  DURATION   ...     DateabnxMBS  BILEYN  BILE1  \\\n",
      "SUBJID                                  ...                                  \n",
      "04-029-8 2011-04-12     KMH       NaN   ...             NaN     NaN    NaN   \n",
      "04-029-8 2010-11-17     KMH  16:35:00   ...             NaN     NaN    NaN   \n",
      "\n",
      "          BILE1SP  BILE2  BILE2SP  BILE3  BILE3SP  BILE4  BILE4SP  \n",
      "SUBJID                                                             \n",
      "04-029-8      NaN    NaN      NaN    NaN      NaN    NaN      NaN  \n",
      "04-029-8      NaN    NaN      NaN    NaN      NaN    NaN      NaN  \n",
      "\n",
      "[2 rows x 149 columns]\n"
     ]
    }
   ],
   "source": [
    "# Looks like there are 2 samples with four counts each... these are duplicates in their files.\n",
    "for i in range(len(dfs)):\n",
    "    if quads[0] in dfs[i].index:\n",
    "        print(dfs[i].loc[quads[0]].head())"
   ]
  },
  {
   "cell_type": "code",
   "execution_count": 166,
   "metadata": {
    "collapsed": false
   },
   "outputs": [
    {
     "name": "stdout",
     "output_type": "stream",
     "text": [
      "R01 Form 2 Baseline Aim 3.xlsx\n",
      "R01 Form 3 Aims 1 and  2.xlsx\n",
      "\t4\n",
      "\n",
      "K23 Aim 4 Form 3 Procedure Results_6.2.16.xlsx\n",
      "Aim 4 Form 3 Database - Procedure Results_NOquestionnaires.xls\n",
      "\t202\n",
      "\n",
      "K23 Aim 5 Form 3 Procedure Results_6.2.16.xlsx\n",
      "Aim 5 Form 3 Database - Procedure Results_NOquestionnaires.xls\n",
      "\t41\n",
      "\n",
      "K23 Aim 2 and 3 Form 3 Procedure Results_6.2.16.xlsx\n",
      "Aim 2 and 3 Form 3 Database - Procedure Results_NOquestionnaires.xls\n",
      "\t145\n",
      "\n",
      "R01 Form 2 Baseline Aim 3.xlsx\n",
      "R01 Form 3 Aim 3.xlsx\n",
      "\t51\n",
      "\n"
     ]
    }
   ],
   "source": [
    "# I think that the two Aim X Form Y types of files are duplicates... let's check\n",
    "dups = [i for i in sample_counts if sample_counts[i] == 2]\n",
    "dupfiles = []\n",
    "for d in dups:\n",
    "    tmp = []\n",
    "    for i in range(len(dfs)):\n",
    "        if d in dfs[i].index:\n",
    "            tmp.append(excelfiles[i].rsplit('/',1)[1])\n",
    "    dupfiles.append(tuple(tmp))\n",
    "cts = Counter(dupfiles)\n",
    "for key in cts:\n",
    "    print('\\n'.join([i for i in key]) + '\\n\\t' + str(cts[key]) + '\\n')"
   ]
  },
  {
   "cell_type": "code",
   "execution_count": 124,
   "metadata": {
    "collapsed": false
   },
   "outputs": [],
   "source": [
    "excelfiles\n",
    "f1 = '/Users/claire/github/aspiration-analysis/data/raw/metadata/june2016-emails/K23 Aim 4 Form 3 Procedure Results_6.2.16.xlsx'\n",
    "f2 = '/Users/claire/github/aspiration-analysis/data/raw/metadata/from-dropbox/Aim 4 Form 3 Database - Procedure Results_NOquestionnaires.xls'\n",
    "i1 = excelfiles.index(f1)\n",
    "i2 = excelfiles.index(f2)"
   ]
  },
  {
   "cell_type": "markdown",
   "metadata": {},
   "source": [
    "I think what's happening is that the older metadata files (in `from-dropbox` folder, were the ones with the\n",
    "abbreviated columns. When Rachel had her techs go through and double check the pH-MII values and I asked her\n",
    "to send it in Excel format, the columns were re-named to their full label (not the abbreviated ones\n",
    "from the previous file format, which I think I had manually converted from sas, without asking Rachel).\n",
    "\n",
    "To check: are there any samples in the old data that are missing in the new data?"
   ]
  },
  {
   "cell_type": "code",
   "execution_count": 171,
   "metadata": {
    "collapsed": false
   },
   "outputs": [
    {
     "name": "stdout",
     "output_type": "stream",
     "text": [
      "R01 Form 2 Baseline Aim 3.xlsx\n",
      "R01 Form 3 Aims 1 and  2.xlsx\n",
      "\n",
      "\t60 in f1 but not f2\n",
      "\t193 in f2 but not f1\n",
      "\n",
      "K23 Aim 4 Form 3 Procedure Results_6.2.16.xlsx\n",
      "Aim 4 Form 3 Database - Procedure Results_NOquestionnaires.xls\n",
      "\n",
      "\t25 in f1 but not f2\n",
      "\t0 in f2 but not f1\n",
      "\n",
      "K23 Aim 5 Form 3 Procedure Results_6.2.16.xlsx\n",
      "Aim 5 Form 3 Database - Procedure Results_NOquestionnaires.xls\n",
      "\n",
      "\t2 in f1 but not f2\n",
      "\t0 in f2 but not f1\n",
      "\n",
      "K23 Aim 2 and 3 Form 3 Procedure Results_6.2.16.xlsx\n",
      "Aim 2 and 3 Form 3 Database - Procedure Results_NOquestionnaires.xls\n",
      "\n",
      "\t2 in f1 but not f2\n",
      "\t0 in f2 but not f1\n",
      "\n",
      "R01 Form 2 Baseline Aim 3.xlsx\n",
      "R01 Form 3 Aim 3.xlsx\n",
      "\n",
      "\t13 in f1 but not f2\n",
      "\t9 in f2 but not f1\n",
      "\n"
     ]
    }
   ],
   "source": [
    "filelist = [i.rsplit(\"/\",1)[1] for i in excelfiles]\n",
    "for file_pairs in cts:\n",
    "    i1 = filelist.index(file_pairs[0])\n",
    "    i2 = filelist.index(file_pairs[1])\n",
    "    print(file_pairs[0] + '\\n' + file_pairs[1] + '\\n')\n",
    "    print('\\t{} in f1 but not f2'.format(len([i for i in dfs[i1].index if i not in dfs[i2].index])))\n",
    "    print('\\t{} in f2 but not f1'.format(len([i for i in dfs[i2].index if i not in dfs[i1].index])) + '\\n')"
   ]
  },
  {
   "cell_type": "markdown",
   "metadata": {},
   "source": [
    "### From now on, I'm actually going to ignore the older K23 files (`from-dropbox`, `Aim X Form Y`)"
   ]
  },
  {
   "cell_type": "code",
   "execution_count": 172,
   "metadata": {
    "collapsed": false
   },
   "outputs": [],
   "source": [
    "newexcelfiles = ['june2016-emails/Fundo Baseline_6.2.16.xlsx',\n",
    "              'june2016-emails/K23 Aim 4 Form 3 Procedure Results_6.2.16.xlsx',\n",
    "              'june2016-emails/R01 Form 2 Baseline Aim 3.xlsx',\n",
    "              'june2016-emails/R01 Form 3 Aims 1 and  2.xlsx',\n",
    "              'june2016-emails/K23 Aim 2 and 3 Form 3 Procedure Results_6.2.16.xlsx',\n",
    "              'june2016-emails/K23 Aim 5 Form 3 Procedure Results_6.2.16.xlsx',\n",
    "              'june2016-emails/R01 Form 3 Aim 3.xlsx']\n",
    "newexcelfiles = [os.path.realpath(os.path.join(datadir, i)) for i in newexcelfiles]\n",
    "newdfs = dfs[0:len(newexcelfiles)]"
   ]
  },
  {
   "cell_type": "code",
   "execution_count": 174,
   "metadata": {
    "collapsed": false
   },
   "outputs": [
    {
     "data": {
      "text/plain": [
       "(array([ 656.,    0.,    0.,    0.,    0.,    0.,    0.,    0.,    0.,   57.]),\n",
       " array([ 1. ,  1.1,  1.2,  1.3,  1.4,  1.5,  1.6,  1.7,  1.8,  1.9,  2. ]),\n",
       " <a list of 10 Patch objects>)"
      ]
     },
     "execution_count": 174,
     "metadata": {},
     "output_type": "execute_result"
    },
    {
     "data": {
      "image/png": "[encoded data removed]",
      "text/plain": [
       "<matplotlib.figure.Figure at 0x11fea1b50>"
      ]
     },
     "metadata": {},
     "output_type": "display_data"
    }
   ],
   "source": [
    "# How many of these subjects are duplicates?\n",
    "allsubjs = []\n",
    "for d in newdfs:\n",
    "    allsubjs += list(d.index)\n",
    "\n",
    "sample_counts = Counter(allsubjs)\n",
    "plt.hist(sample_counts.values())"
   ]
  },
  {
   "cell_type": "code",
   "execution_count": 179,
   "metadata": {
    "collapsed": false
   },
   "outputs": [
    {
     "data": {
      "text/plain": [
       "57"
      ]
     },
     "execution_count": 179,
     "metadata": {},
     "output_type": "execute_result"
    }
   ],
   "source": [
    "# Okay, I still have some duplicate samples. What are these?\n",
    "dups = [i for i in sample_counts if sample_counts[i] == 2]\n",
    "len(dups)"
   ]
  },
  {
   "cell_type": "code",
   "execution_count": 181,
   "metadata": {
    "collapsed": false
   },
   "outputs": [
    {
     "name": "stdout",
     "output_type": "stream",
     "text": [
      "R01 Form 2 Baseline Aim 3.xlsx\n",
      "R01 Form 3 Aims 1 and  2.xlsx\n",
      "\t4\n",
      "\n",
      "K23 Aim 4 Form 3 Procedure Results_6.2.16.xlsx\n",
      "\t2\n",
      "\n",
      "R01 Form 2 Baseline Aim 3.xlsx\n",
      "R01 Form 3 Aim 3.xlsx\n",
      "\t51\n",
      "\n"
     ]
    }
   ],
   "source": [
    "# I think that the two Aim X Form Y types of files are duplicates... let's check\n",
    "dupfiles = []\n",
    "for d in dups:\n",
    "    tmp = []\n",
    "    for i in range(len(newdfs)):\n",
    "        if d in newdfs[i].index:\n",
    "            tmp.append(excelfiles[i].rsplit('/',1)[1])\n",
    "    dupfiles.append(tuple(tmp))\n",
    "cts = Counter(dupfiles)\n",
    "for key in cts:\n",
    "    print('\\n'.join([i for i in key]) + '\\n\\t' + str(cts[key]) + '\\n')"
   ]
  },
  {
   "cell_type": "code",
   "execution_count": 183,
   "metadata": {
    "collapsed": true
   },
   "outputs": [],
   "source": [
    "# Let's look into the \"R01 Form 2 Baseline Aim 3.xlsx\" and \"R01 Form 3 Aim 3.xlsx\"\n",
    "# Remember: the R01 data is the one with serial samples! So it's probs fine.\n",
    "\n",
    "f1 = \"R01 Form 2 Baseline Aim 3.xlsx\"\n",
    "f2 = \"R01 Form 3 Aim 3.xlsx\"\n",
    "\n",
    "d1 = newdfs[filelist.index(f1)]\n",
    "d2 = newdfs[filelist.index(f2)]"
   ]
  },
  {
   "cell_type": "code",
   "execution_count": 184,
   "metadata": {
    "collapsed": false
   },
   "outputs": [
    {
     "name": "stdout",
     "output_type": "stream",
     "text": [
      "((64, 316), (60, 159))\n",
      "('inner :', (51, 475))\n",
      "('outer :', (73, 475))\n"
     ]
    }
   ],
   "source": [
    "# Looks like they have no columns in common...\n",
    "print(d1.shape, d2.shape)\n",
    "print('inner :', pd.merge(d1, d2, left_index=True, right_index=True, how='inner').shape)\n",
    "print('outer :', pd.merge(d1, d2, left_index=True, right_index=True, how='outer').shape)"
   ]
  },
  {
   "cell_type": "code",
   "execution_count": 188,
   "metadata": {
    "collapsed": false
   },
   "outputs": [
    {
     "data": {
      "text/plain": [
       "Index([u'A1. Subject ID number:', u'A2. Subject initials:',\n",
       "       u'A3. What Cohort is the subject enrolled into?',\n",
       "       u'A4. Aim(s) enrolled in?',\n",
       "       u'A5.  Date of initial/baseline visit/procedure (MM/DD/YYYY):',\n",
       "       u'A5a. Date filled out(MM/DD/YYYY):',\n",
       "       u'B1.  Who is answering the following questions?', u'B1a.  Specify:',\n",
       "       u'B2.  What is the subject's gender?', u'B3.  Subject's date of birth:',\n",
       "       ...\n",
       "       u'H11. Did the subject take any antibiotics in the 3 months prior to T12?',\n",
       "       u'H12. Did the subject consume any probiotics in the previous three months?',\n",
       "       u'H12a.  If yes, please specify the probiotic:',\n",
       "       u'H12b. If yes, please specify frequency:',\n",
       "       u'When were probiotics last consumed?.4',\n",
       "       u'Has the subject consumed yogurt in the last 2 months?.5',\n",
       "       u'If yes, please specify the type/brand.5',\n",
       "       u'If yes, please specify the frequency of use per week.5',\n",
       "       u'If yes, please specify the last time consumed.5',\n",
       "       u'H13. Did the patient take PPI through this follow up period?'],\n",
       "      dtype='object', length=316)"
      ]
     },
     "execution_count": 188,
     "metadata": {},
     "output_type": "execute_result"
    }
   ],
   "source": [
    "d1.columns"
   ]
  },
  {
   "cell_type": "code",
   "execution_count": 189,
   "metadata": {
    "collapsed": false
   },
   "outputs": [
    {
     "data": {
      "text/plain": [
       "Index([u'Subject ID number', u'Subject initials',\n",
       "       u'What Aim is the subject enrolled into?',\n",
       "       u'Date initial of visit/procedure (MM/DD/YYYY)',\n",
       "       u'Initials of person completing form', u'DOB', u'AGE',\n",
       "       u'How long has patient been off PPI atT0?', u'Weight',\n",
       "       u'What was the patient's total daily dose PPI?',\n",
       "       ...\n",
       "       u'Was the T12 peptest positive?',\n",
       "       u'What is the intensity of the T12 peptest?',\n",
       "       u'What was the concentration of the T12 peptest?',\n",
       "       u'What was the associated color of the T12 peptest concentration?',\n",
       "       u'Was the T12 saliva sample collected by suction or spit?',\n",
       "       u'Was a complete final sample set obtained?',\n",
       "       u'Were any sick tongue swabs collected?', u'If yes, what date?',\n",
       "       u'Were any sick stool samples collected?', u'If yes, what date?.1'],\n",
       "      dtype='object', length=159)"
      ]
     },
     "execution_count": 189,
     "metadata": {},
     "output_type": "execute_result"
    }
   ],
   "source": [
    "d2.columns"
   ]
  },
  {
   "cell_type": "code",
   "execution_count": 195,
   "metadata": {
    "collapsed": false
   },
   "outputs": [
    {
     "data": {
      "text/plain": [
       "u'A1. Subject ID number:'"
      ]
     },
     "execution_count": 195,
     "metadata": {},
     "output_type": "execute_result"
    }
   ],
   "source": [
    "d1.columns[0]"
   ]
  },
  {
   "cell_type": "code",
   "execution_count": 203,
   "metadata": {
    "collapsed": false
   },
   "outputs": [
    {
     "name": "stdout",
     "output_type": "stream",
     "text": [
      "[u'A1', u' Subject ID number:']\n",
      "[u'A2', u' Subject initials:']\n",
      "[u'A3', u' What Cohort is the subject enrolled into?']\n",
      "[u'A4', u' Aim(s) enrolled in?']\n",
      "[u'A5', u'  Date of initial/baseline visit/procedure (MM/DD/YYYY):']\n",
      "[u'A5a', u' Date filled out(MM/DD/YYYY):']\n",
      "[u'B1', u'  Who is answering the following questions?']\n",
      "[u'B1a', u'  Specify:']\n",
      "[u'B2', u\"  What is the subject's gender?\"]\n",
      "[u'B3', u\"  Subject's date of birth:\"]\n",
      "[u'B4', u\"  What is the subject's ethnicity?\"]\n",
      "[u'B5a', u' White']\n",
      "[u'B5b', u' Black/African American']\n",
      "[u'B5c', u' Asian']\n",
      "[u'B5d', u' Native American/Alaskan native']\n",
      "[u'B5e', u' Native Hawaiian/Pacific Islander']\n",
      "[u'B5f', u' More than one race:']\n",
      "[u'B5g', u' Unknown']\n",
      "[u'B5h', u' Other']\n",
      "[u'B5hi', u' If other, specify:']\n",
      "[u'B6', u'  Does the subject currently attend daycare or school?']\n",
      "[u'B6a', u' If yes, please indicate level:']\n",
      "[u'B7', u' Does the subject live with any other children that are 18 years old or younger (siblings, relatives, friends, etc', u')?']\n",
      "[u'B7a', u' If yes, please indicate the number of other children:']\n",
      "[u'B7b', u' If yes, please list the ages of children']\n",
      "[u'C1', u' Pain with swallowing (in past 2 mos', u'?)']\n",
      "[u'C1a', u' If yes, specify times per month:']\n",
      "[u'C2', u' Food stuck while eating (in past 6 mos', u'?)']\n",
      "[u'C2a', u' If yes, specify times per month:']\n",
      "[u'C3', u' Difficulty swallowing (in past 6 mos', u'?)']\n",
      "[u'C3a', u' If yes, specify times per month']\n",
      "[u'C4', u'  Abdominal pain (in past 6 mos', u'?)']\n",
      "[u'C4a', u' If yes, specify times per month:']\n",
      "[u'C5', u' Constipation (in past 6 mos', u'?)']\n",
      "[u'C6', u' Weight loss (in past 6 mos', u'?)']\n",
      "[u'C7', u'  Feel food coming up into mouth (in past 6 mos', u'?)']\n",
      "[u'C7a', u'  If yes, specify times per month:']\n",
      "[u'C8', u'  Chest pain (in past 6 mos', u'?)']\n",
      "[u'C8a', u' If yes, specify times per month:']\n",
      "[u'C9', u'  Vomiting (in past 6 mos', u'?)']\n",
      "[u'C9a', u' If yes, specify times per month:']\n",
      "[u'C10', u'  Asthma (in past 6 mos', u'?)']\n",
      "[u'C11', u' Chronic Cough at least once per week ( in past 6 mos', u'?)']\n",
      "[u'C12', u' Developmental Delay']\n",
      "[u'D0', u' What was the season of the baseline?']\n",
      "[u'D1', u' Any infections in past two months prior to baseline (T0)?']\n",
      "[u'D2', u' Did the subject have pneumonia in previous 2 months from T0?']\n",
      "[u'D2a', u' Date of pneumonia in past two months of baseline:']\n",
      "[u'D2b', u' Specify antibiotic name, dose, duration if applicable']\n",
      "[u'D3', u' Did the subject have a stomach bug with vomitting in past 2 months prior to T0?']\n",
      "[u'D3a', u' Date of GI bug with vomiting:']\n",
      "[u'D3b', u' Specify antibiotic name, dose, duration, if applicable']\n",
      "[u'D4', u' Did the subject have a stomach bug with diarhhea in past 2 months prior to T0?']\n",
      "[u'D4a', u' Date of the GI bug with diarhhea:']\n",
      "[u'D4b', u' Specify the antibiotic name, dose, duration if applicable', u'']\n",
      "[u'D5', u' Did the subject have an Upper respiratory infection in past 2 months prior to T0?']\n",
      "[u'D5a', u' Date of URI:']\n",
      "[u'D5b', u' Specify antibiotic name, dose, duration for URI']\n",
      "[u'D6', u' Did the subject have a sinus infections in the past two months prior to baseline?']\n",
      "[u'D6a', u' Date of Sinus infection:']\n",
      "[u'D6b', u' Specify the antibiotic, name, dose, and duration if applicable']\n",
      "[u'D7', u' Did the subject have a UTI In the past 2 months prior to baseline?']\n",
      "[u'D7a', u'If applicable, what was the date of the UTI within 2 months prior to baseline?']\n",
      "[u'D7b', u' Specify the antibiotic, name, dose, and duration if applicable']\n",
      "[u'D8', u' Did the subject have any ear infections within 2 months prior to T0?']\n",
      "[u'D8a', u' What was the date of the ear infection?']\n",
      "[u'D8b', u' Specify the antibiotic, name, dose, and duration if applicable']\n",
      "[u'D9', u' Did the subject have a strep throat infection in the past two months prior to T0?']\n",
      "[u'D9a', u'What was the date of the strep throat infection?']\n",
      "[u'D9b', u'Specify the antibiotic, name, dose, and duration if applicable']\n",
      "[u'D10', u' Did the subject have any other infections?']\n",
      "[u'D10a', u' What was the \"other infection\"?']\n",
      "[u'D10b', u' What was the date of the other infection?']\n",
      "[u'D10c', u' Specify the antibiotic, name, dose, and duration if applicable']\n",
      "[u'E1', u' Did the subject take any antibiotics in the 2 months prior to baseline?']\n",
      "[u'E2', u' Did the subject take any antibiotics in the past 1 month prior to baseline ?']\n",
      "[u'F1', u' Has subject used a PPI in the past 3 months?']\n",
      "[u'F2', u' If yes, has the subject used a PPI in the past 2 months?']\n",
      "[u'F3', u' If yes, has the subject used a PPI in the past 1 month']\n",
      "[u'F4', u'If yes, has the subject used a PPI in the past 48 hours?']\n",
      "[u'G1', u' Has the subject used H2 blocker in the past 2 months']\n",
      "[u'G1a', u' If yes, what dose of H2 blocker?']\n",
      "[u'G1b', u' Date of last dose H2 Blocker (Zantac, Axid, Pepcid)?']\n",
      "[u'G2', u'Has patient taken over the counter acid relief meds in the past 2 months?']\n",
      "[u'G2a', u'What was the dose of OTC taken?']\n",
      "[u'G2b', u' What was the date of the last dose taken?']\n",
      "[u'G3', u' Has the subject used inhaled steroids on a regular basis in the past 2 months?']\n",
      "[u'G3a', u' If yes, what was the dose of inhaled steroids?']\n",
      "[u'G3b', u' Last dose inhaled steroid (Flovent, Advair, Pulmicort, Symbicort)?']\n",
      "[u'G4', u' Has the subject used swallowed steroids (Flovent, Advair, Pulmicort on a regular basis in the past 2 months?']\n",
      "[u'G4a', u' What was the dose of swallowed steroid?']\n",
      "[u'G4b', u' Last dose swallowed steroid (Flovent, Advair, Pulmicort)?']\n",
      "[u'G5', u' Has the subject used oral steroids on a regular basis in the past 2 months?']\n",
      "[u'G5a', u' If yes, what was the dose of oral steroids?']\n",
      "[u'G5b', u' What was the date of the last oral steroidsdose?']\n",
      "[u'G6a', u' Has the subject taken probiotic supplements (including yogurt or other foods with probiotics in the past 2 months?']\n",
      "[u'D28a', u' If yes, specify the type of probiotic:']\n",
      "[u'D28b', u' If yes, specify the frequency of use:']\n",
      "[u'D28c', u' If yes, specify the date of the last dose:']\n",
      "[u'Has the subject consumed yogurt in the last 2 months?']\n",
      "[u'If yes, please specify the type/brand']\n",
      "[u'If yes, please specify the frequency of use per week']\n",
      "[u'If yes, please specify the last time consumed']\n",
      "[u'In the last two months has subject taken dietary fiber supplements?']\n",
      "[u'If yes, please specify what type/form and how much']\n",
      "[u'H1', u' Are there any pets at home?']\n",
      "[u'H1a', u' If yes, please specify the type']\n",
      "[u'H2', u' Does the subject currently smoke or have a history of smoking?']\n",
      "[u'H3', u' Are there any smokers at home?']\n",
      "[u'H4', u' Does patient floss on a daily basis?']\n",
      "[u'H5', u' Is patient up to date on immunizations?']\n",
      "[u'H6', u' Did patient receive a flu shot this year?']\n",
      "[u'H7', u' How many beverages with caffeine does the subject drink per week (coffee, cola, etc', u')?']\n",
      "[u'H8', u' How many teeth has patient lost?']\n",
      "[u'H9', u' How was the subject fed during his/her first year of life?']\n",
      "[u'H9a', u' If yes, please specify which kind of formula']\n",
      "[u'D0', u' What was the date of T2 follow up?']\n",
      "[u'D0a', u' What was the season of the T2 follow up?']\n",
      "[u'D1', u' Any infections in past two months prior to T2?']\n",
      "[u'D2', u' Did the subject have pneumonia in past two months prior to T2?']\n",
      "[u'D2a', u' Date of pneumonia in the past two months prior to T2:']\n",
      "[u'D2b', u' Specify antibiotic name, dose, duration if applicable', u'1']\n",
      "[u'D3', u' Did the subject have a GI bug with vomitting in the past two months prior to T2?']\n",
      "[u'D3a', u' Date of GI bug/vomitting:']\n",
      "[u'D3b', u' Specify antibiotic name, dose, duration, if applicable', u'1']\n",
      "[u'D4', u' Did the subject have any GI bug with diarrhea in the past two months prior to T2?']\n",
      "[u'D4', u' What was the date of the GI bug with diarrhea?']\n",
      "[u'D4', u' Specify the antibiotic, name, dose, and duration if applicable', u'']\n",
      "[u'D5', u' Did the subject have an Upper respiratory infection in past two months prior to T2?']\n",
      "[u'D5a', u' Date of URI:', u'1']\n",
      "[u'D5b', u' Specify antibiotic name, dose, duration for URI', u'1']\n",
      "[u'D6', u' Did the subject have a sinus infections in the two months prior to T2?']\n",
      "[u'D6a', u' Date of Sinus infection:', u'1']\n",
      "[u'D6b', u' Specify the antibiotic, name, dose, and duration if applicable', u'1']\n",
      "[u'D7', u' Did the subject have a UTI In the past 2 months prior to T2?']\n",
      "[u'D7a', u'If applicable, what was the date of the UTI within 2 months prior to T2?']\n",
      "[u'D7b', u' Specify the antibiotic, name, dose, and duration if applicable', u'1']\n",
      "[u'D8', u' Did the subject have any ear infections within 2 months prior to T2?']\n",
      "[u'D8a', u' What was the date of the ear infection?', u'1']\n",
      "[u'D8b', u' Specify the antibiotic, name, dose, and duration if applicable', u'1']\n",
      "[u'D9', u' Did the subject have a strep throat infection in the past two months prior to T0?', u'1']\n",
      "[u'D9a', u'What was the date of the strep throat infection?', u'1']\n",
      "[u'D9b', u'Specify the antibiotic, name, dose, and duration if applicable', u'1']\n",
      "[u'D10', u' Did the subject have any other infections in the past two months prior to T2?']\n",
      "[u'D10a', u' What was the date of the other infection?']\n",
      "[u'D10b', u' Specify the antibiotic, name, dose, and duration if applicable']\n",
      "[u'D11', u' Did the subject take any antibiotics in the 2 months prior to T2?']\n",
      "[u'D12', u' Did the subject consume any probiotics in the previous two months?']\n",
      "[u'D12a', u'  If yes, please specify the probiotic:']\n",
      "[u'D12b', u' If yes, please specify frequency:']\n",
      "[u'When were probiotics last consumed?']\n",
      "[u'Has the subject consumed yogurt in the last 2 months?', u'1']\n",
      "[u'If yes, please specify the type/brand', u'1']\n",
      "[u'If yes, please specify the frequency of use per week', u'1']\n",
      "[u'If yes, please specify the last time consumed', u'1']\n",
      "[u'E0', u' What was the date of the T4 follow up?']\n",
      "[u'E0', u' What was the date of the T4 follow up?', u'1']\n",
      "[u'E0a', u' What season was the T4 follow up in?']\n",
      "[u'E1', u' Any infections in past two months prior to T4?']\n",
      "[u'E2', u' Did the subject have pneumonia in past two months from T4?']\n",
      "[u'E2a', u' Date of pneumonia in previous two months from T4:']\n",
      "[u'E2b', u' Specify antibiotic name, dose, duration if applicable']\n",
      "[u'E3', u' Did the subject have a GI bug with vomiting in past two months prior to T4?']\n",
      "[u'E3a', u' Date of GI bug with vomitting:']\n",
      "[u'E3b', u' Specify antibiotic name, dose, duration, if applicable']\n",
      "[u'E4', u' Did the subject have a GI bug with diarrhea in past two months prior to T4?']\n",
      "[u'E4a', u' Date of Gi bug with diarrhea?']\n",
      "[u'E4b', u' Specify the antibiotic name, dose, duration if possible']\n",
      "[u'E5', u' Did the subject have an Upper respiratory infection in past two months prior to T4?']\n",
      "[u'E5a', u' Date of URI:']\n",
      "[u'E5b', u' Specify antibiotic name, dose, duration for URI']\n",
      "[u'E6', u' Did the subject have a sinus infections in the past two months prior to T4?']\n",
      "[u'E6a', u' Date of Sinus infection:']\n",
      "[u'E6b', u' Specify the antibiotic, name, dose, and duration if applicable:']\n",
      "[u'E7', u' Did the subject have a UTI In the past 2 months prior to T4?']\n",
      "[u'E7a', u'If applicable, what was the date of the UTI within 2 months prior to T4?']\n",
      "[u'E7b', u' Specify the antibiotic, name, dose, and duration if applicable']\n",
      "[u'E8', u' Did the subject have an ear infection within 2 months prior to T4?']\n",
      "[u'E8a', u' What was the date of the ear infection?']\n",
      "[u'E8b', u' Specify the antibiotic, name, dose, and duration if applicable']\n",
      "[u'E9', u' Did the subject have a strep throat infection in the past two months prior to T4?']\n",
      "[u'E9a', u'What was the date of the diarrhea related infection?']\n",
      "[u'E9b', u'Specify the antibiotic, name, dose, and duration if applicable']\n",
      "[u'E10', u' Did the subject have any other infections?']\n",
      "[u'E10a', u' What was the date of the other infection?']\n",
      "[u'E10b', u' Specify the antibiotic, name, dose, and duration if applicable']\n",
      "[u'E11', u' Did the subject take any antibiotics in the 2 months prior to T4?']\n",
      "[u'E12', u' Did the subject consume any probiotics in the two months prior to T4?']\n",
      "[u'E12a', u'  If yes, please specify the probiotic:']\n",
      "[u'E12b', u' If yes, please specify frequency:']\n",
      "[u'When were probiotics last consumed?', u'1']\n",
      "[u'Has the subject consumed yogurt in the last 2 months?', u'2']\n",
      "[u'If yes, please specify the type/brand', u'2']\n",
      "[u'If yes, please specify the frequency of use per week', u'2']\n",
      "[u'If yes, please specify the last time consumed', u'2']\n",
      "[u'E13', u' Did patient continue taking PPI through this period?']\n",
      "[u'F0', u' What was the date of the T6 follow up?']\n",
      "[u'F0a', u' What was the season of the T6 follow up?']\n",
      "[u'F1', u' Any infections in past two months prior to T6?']\n",
      "[u'F2', u' Did the subject have pneumonia in past two months prior to T6?']\n",
      "[u'F2a', u' Date of pneumonia in previous two months prior to T6:']\n",
      "[u'F2b', u' Specify antibiotic name, dose, duration if applicable']\n",
      "[u'F3', u' Did the subject have a GI bug with vomitting in past two months prior to T6?']\n",
      "[u'F3a', u' Date of diarrhea:']\n",
      "[u'F3b', u' Specify antibiotic name, dose, duration, if applicable']\n",
      "[u'F4', u' Did the subject have a GI bug with diarrhea in past two months prior to T6?']\n",
      "[u'F4a', u' What date did the subject have GI bug/diarrhea?']\n",
      "[u'F4b', u' Specify antibiotic name, dose, duration if applicable:']\n",
      "[u'F5', u' Did the subject have an Upper respiratory infection in past two months prior to T6?']\n",
      "[u'F5a', u' Date of URI:']\n",
      "[u'F5b', u' Specify antibiotic name, dose, duration for URI']\n",
      "[u'F6', u' Did the subject have a sinus infections in the past two months prior to T6?']\n",
      "[u'F6a', u' Date of Sinus infection:']\n",
      "[u'F6b', u' Specify the antibiotic, name, dose, and duration if applicable']\n",
      "[u'F7', u' Did the subject have a UTI In the past 2 months prior to T6?']\n",
      "[u'F7a', u'If applicable, what was the date of the UTI in past two months prior to T6?']\n",
      "[u'F7b', u' Specify the antibiotic, name, dose, and duration if applicable']\n",
      "[u'F8', u' Did the subject have any ear infection within 2 months prior to T6?']\n",
      "[u'F8a', u' What was the date of the ear infection?']\n",
      "[u'F8b', u' Specify the antibiotic, name, dose, and duration if applicable']\n",
      "[u'F9', u' Did the subject have a strep throat infection in the past two months prior to T6?']\n",
      "[u'F9a', u'What was the date of the strep throat infection?']\n",
      "[u'F9b', u'Specify the antibiotic, name, dose, and duration if applicable']\n",
      "[u'F10', u' Did the subject have any other infections in past two months prior to T6?']\n",
      "[u'F10a', u' What was the date of the other infection?']\n",
      "[u'F10b', u' Specify the antibiotic, name, dose, and duration if applicable']\n",
      "[u'F11', u' Did the subject take any antibiotics in the 2 months prior to T6?']\n",
      "[u'F12', u' Did the subject consume any probiotics in the previous two months prior to T6?']\n",
      "[u'F12a', u'  If yes, please specify the probiotic:']\n",
      "[u'F12b', u' If yes, please specify frequency:']\n",
      "[u'When were probiotics last consumed?', u'2']\n",
      "[u'Has the subject consumed yogurt in the last 2 months?', u'3']\n",
      "[u'If yes, please specify the type/brand', u'3']\n",
      "[u'If yes, please specify the frequency of use per week', u'3']\n",
      "[u'If yes, please specify the last time consumed', u'3']\n",
      "[u'F13', u' Did patient continue to take PPI through this period?']\n",
      "[u'G0', u' What was the date of the T9 follow up?']\n",
      "[u'G0a', u' What was the season of the T9 follow up?']\n",
      "[u'G1', u' Any infections in past three months prior to T9?']\n",
      "[u'G2', u' Did the subject have pneumonia in past three months from T9?']\n",
      "[u'G2a', u' Date of pneumonia in previous three months from T9:']\n",
      "[u'G2b', u' Specify antibiotic name, dose, duration if applicable']\n",
      "[u'G3', u' Did the subject havea GI bug with vomitting in previous three months from T9?']\n",
      "[u'G3a', u' Date of GI BUG/Vomitting:']\n",
      "[u'G3b', u' Specify antibiotic name, dose, duration, if applicable']\n",
      "[u'G4', u' Did the subject have diarrhea associated with a GI bug in previous three months from T9?']\n",
      "[u'G4a', u' Date of diarrhea/GI bug']\n",
      "[u'G4b', u' Antibiotic name, dose, duration if applicable']\n",
      "[u'G5', u' Did the subject have an upper respiratory infections in past three months prior to T9?']\n",
      "[u'G5a', u' Date of URI:']\n",
      "[u'G5b', u' Specify antibiotic name, dose, duration for URI']\n",
      "[u'G6', u' Did the subject have a sinus infections in the past three months prior to T9?']\n",
      "[u'G6a', u' Date of Sinus infection:']\n",
      "[u'G6b', u' Specify the antibiotic, name, dose, and duration if applicable']\n",
      "[u'G7', u' Did the subject have a UTI In the past 3 months prior to T9?']\n",
      "[u'G7a', u'If applicable, what was the date of the UTI within 3months prior to T9?']\n",
      "[u'G7b', u' Specify the antibiotic, name, dose, and duration if applicable']\n",
      "[u'G8', u' Did the subject have an ear infection within 3 months prior to T9?']\n",
      "[u'G8a', u' What was the date of the ear infection?']\n",
      "[u'G8b', u' Specify the antibiotic, name, dose, and duration if applicable']\n",
      "[u'G9', u' Did the subject have a strep throat infection in the past three months prior to T9?']\n",
      "[u'G9a', u'What was the date of the strep throat infection?']\n",
      "[u'G9b', u'Specify the antibiotic, name, dose, and duration if applicable']\n",
      "[u'G10', u' Did the subject have any other infections in the past 3 months prior to T9?']\n",
      "[u'G10a', u' What was the date of the other infection?']\n",
      "[u'G10b', u' Specify the antibiotic, name, dose, and duration if applicable']\n",
      "[u'G11', u' Did the subject take any antibiotics in the 3 months prior to T9?']\n",
      "[u'G12', u' Did the subject consume any probiotics in the previous three months prior to T9?']\n",
      "[u'G12a', u'  If yes, please specify the probiotic:']\n",
      "[u'G12b', u' If yes, please specify frequency:']\n",
      "[u'When were probiotics last consumed?', u'3']\n",
      "[u'Has the subject consumed yogurt in the last 2 months?', u'4']\n",
      "[u'If yes, please specify the type/brand', u'4']\n",
      "[u'If yes, please specify the frequency of use per week', u'4']\n",
      "[u'If yes, please specify the last time consumed', u'4']\n",
      "[u'G13', u' Was the patient still taking PPI through the past 3 months prior to T9?']\n",
      "[u'H0', u' What was the date of the T12 follow up?']\n",
      "[u'H0a', u' What was the season of the T12 follow up?']\n",
      "[u'H1', u' Any infections in past three months prior to T12?']\n",
      "[u'H2', u' Did the subject have pneumonia in past three months from T12?']\n",
      "[u'H2a', u' Date of pneumonia in previous three months from T12:']\n",
      "[u'H2b', u' Specify antibiotic name, dose, duration if applicable']\n",
      "[u'H3', u' Did the subject have any GI bug with vomitting in the 3 months prior to T12?']\n",
      "[u'H3a', u' Date of GI bug/vomitting:']\n",
      "[u'H3b', u' Specify antibiotic name, dose, duration, if applicable']\n",
      "[u'H4', u'Did the subject have any GI bug with diarrhea in the 3 months prior to T12?']\n",
      "[u'H4a', u' Date of GI bug with diarrhea:']\n",
      "[u'H4b', u' Specific antibiotic name, dose, duration if applicable', u'']\n",
      "[u'H5', u' Did the subject have an upper respiratory infections in past three months?']\n",
      "[u'H5a', u' Date of URI:']\n",
      "[u'H5b', u' Specify antibiotic name, dose, duration for URI']\n",
      "[u'H6', u' Did the subject have a sinus infections in the past three months prior to T12?']\n",
      "[u'H6a', u' Date of Sinus infection:']\n",
      "[u'H6b', u' Specify the antibiotic, name, dose, and duration if applicable']\n",
      "[u'H7', u' Did the subject have a UTI In the past 3 months prior to T12?']\n",
      "[u'H7a', u'If applicable, what was the date of the UTI within 3months prior to T12?']\n",
      "[u'H7b', u' Specify the antibiotic, name, dose, and duration if applicable']\n",
      "[u'H8', u' Did the subject have an ear infection within 3 months prior to T12?']\n",
      "[u'H8a', u' What was the date of the ear infection?']\n",
      "[u'H8b', u' Specify the antibiotic, name, dose, and duration if applicable']\n",
      "[u'H9', u' Did the subject have a strep throat infection in the past 3 months prior to T12?']\n",
      "[u'H9a', u'What was the date of the strep throat infection?']\n",
      "[u'H9b', u'Specify the antibiotic, name, dose, and duration if applicable']\n",
      "[u'H10', u' Did the subject have any other infections?']\n",
      "[u'H10a', u' What was the date of the other infection?']\n",
      "[u'H10b', u' Specify the antibiotic, name, dose, and duration if applicable']\n",
      "[u'H11', u' Did the subject take any antibiotics in the 3 months prior to T12?']\n",
      "[u'H12', u' Did the subject consume any probiotics in the previous three months?']\n",
      "[u'H12a', u'  If yes, please specify the probiotic:']\n",
      "[u'H12b', u' If yes, please specify frequency:']\n",
      "[u'When were probiotics last consumed?', u'4']\n",
      "[u'Has the subject consumed yogurt in the last 2 months?', u'5']\n",
      "[u'If yes, please specify the type/brand', u'5']\n",
      "[u'If yes, please specify the frequency of use per week', u'5']\n",
      "[u'If yes, please specify the last time consumed', u'5']\n",
      "[u'H13', u' Did the patient take PPI through this follow up period?']\n"
     ]
    }
   ],
   "source": [
    "# Maybe not...\n",
    "import re\n",
    "for c in d1.columns:\n",
    "    #print(re.split('^[0-9|A-F|a-f]*.', c))\n",
    "    print(c.split('.'))"
   ]
  },
  {
   "cell_type": "markdown",
   "metadata": {},
   "source": [
    "### I'm not actually using any of this metadata for these analyses (I think), so we'll just naively merge all the R01 data..."
   ]
  },
  {
   "cell_type": "markdown",
   "metadata": {},
   "source": [
    "I think what will make more sense is the following:\n",
    "\n",
    "1. Do some basic clean up of each metadata file (remove/fix duplicate rows *within* each file, remove empty rows/columns)\n",
    "    1. Note: just using the june-2016 metadata\n",
    "2. Outer merge all of the metadata files\n",
    "3. Grab just the patients with 16S from that large metadata file\n",
    "    1. Note: may need to do some delimiter-finagling to match samples! See lines 104-116, `2016-06-11.combine_all_metadata_May2016.py`, if it makes more sense to do #6 here.\n",
    "\n",
    "4. **Pause!!**\n",
    "    1. Remove empty columns. See how many we're left with\n",
    "    2. Explore how much empty data we have.\n",
    "    3. Explore how many redundant columns we have\n",
    "        - redundancy from the merge (i.e. look for _x and _y suffixes or something)\n",
    "        - redundancy from typos (just look at it)\n",
    "        \n",
    "5. Add some manual labels, like I did before:\n",
    "    1. which dataset it's in (2015 or 2016 data batch, will need to re-make from S3 data)\n",
    "    1. ppi metadata, if it's defined twice (lines 240-265, `2016-06-11.combine_all_metadata_May2016.py`)\n",
    "    1. if a \"MBS closest to date\" is not given but a \"worst\" one is, use the \"worst\" value for the \"closest\" one (lines 225-238, `2016-06-11.combine_all_metadata_May2016.py`)\n",
    "6. Fix some of the non-canonical sample IDs (lines 104-116, `2016-06-11.combine_all_metadata_May2016.py`)\n",
    "7. Turn subject-wise metadata into long-form dataframe, where each row correspond to one *sample* in the 16S    \n"
   ]
  },
  {
   "cell_type": "code",
   "execution_count": null,
   "metadata": {
    "collapsed": true
   },
   "outputs": [],
   "source": []
  }
 ],
 "metadata": {
  "anaconda-cloud": {},
  "kernelspec": {
   "display_name": "Python [default]",
   "language": "python",
   "name": "python2"
  },
  "language_info": {
   "codemirror_mode": {
    "name": "ipython",
    "version": 2
   },
   "file_extension": ".py",
   "mimetype": "text/x-python",
   "name": "python",
   "nbconvert_exporter": "python",
   "pygments_lexer": "ipython2",
   "version": "2.7.12"
  }
 },
 "nbformat": 4,
 "nbformat_minor": 2
}
